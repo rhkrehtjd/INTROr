{
 "cells": [
  {
   "cell_type": "markdown",
   "id": "169b77af-a522-412e-bb98-af921d815e43",
   "metadata": {},
   "source": [
    "# ARIMA 모형법"
   ]
  },
  {
   "cell_type": "markdown",
   "id": "90b50d22-d2db-4bde-80fc-57270e55d43e",
   "metadata": {},
   "source": [
    "- 시계열 모형은 정상성의 조건 유무에 따라서 두 가지 형태로 분류된다.\n",
    "  - 정상성을 가진 시계열 모형 : 자기 회귀모형, 이동평균모형, 자기 회귀 이동평균모형\n",
    "  - 비정상성을 가진 시계열 모형 : 자기 회귀 누적 이동평균모형"
   ]
  },
  {
   "cell_type": "markdown",
   "id": "7d3d0357-ba28-458b-95cc-69244bc160ac",
   "metadata": {},
   "source": [
    "- 정상성 : 시계열이 뚜렷한 추세가 없는 시계열, 즉 시계열의 평균이 시간 축에 평행하게 나타난다. 시계열의 이론은 정상성을 가정하고 전개되기 때문에 비정상 시계열은 정상 시계열로 변환해야 한다. \n",
    "- 대부분의 시계열 자료는 비정상성 시계열의 형태를 가진다. 이러한 비정상성 시계열을 모형화하는데 현재 가장 활용도가 높은 ARIMA모형을 이용한다. 이 모형은 세 개의 인수(p,d,q)를 갖는다. 순서대로 자기 회귀모형 차수, 차분 차수, 이동평균 모형의 차수이다. "
   ]
  },
  {
   "cell_type": "markdown",
   "id": "2e4adb8d-73db-420a-9cab-db27c722ba72",
   "metadata": {},
   "source": [
    "- ARIMA 모형으로 시계열 자료를 처리하는 절차는 다음과 같이 모형의 식별, 추정, 그리고 모형 진단의 과정을 거쳐 시계열 자료를 처리한다. "
   ]
  },
  {
   "cell_type": "markdown",
   "id": "45ce73f4-c0c9-439a-9f98-5f881d54a7e1",
   "metadata": {},
   "source": [
    "- 식별\n",
    "  - ARIMA의 3개 차수를 결정하는 단계. 즉, 현재 시계열 자료가 어떤 모형에 해당하는가를 판단하는 단계. 식별의 수단은 앞에서 살펴본 자기 상관 함수와 부분 자기 상관 함수를 이용한다. \n",
    "- 추정\n",
    "  - 식별된 모형의 파라미터를 추정하는 단계. 파라미터를 추정하는 수단은 최소제곱 법을 이용.\n",
    "- 진단\n",
    "  - 모형 식별과 파라미터 추정으로 생성된 모형이 적합한지를 검증하는 단계\n",
    "  - 적합성 검증의 수단으로 잔차가 백색잡음인지 살펴보고 백색 잡음과 차이가 없으면 적합하다고 할 수 있다.\n",
    "  - 여기서 백색 잡음이란 모형의 잔차가 불규칙적이고, 독립적으로 분포된 경우를 의미한다. "
   ]
  },
  {
   "cell_type": "markdown",
   "id": "d7cc0410-3506-49d3-a945-253c71a054f4",
   "metadata": {},
   "source": [
    "---"
   ]
  },
  {
   "cell_type": "markdown",
   "id": "8452b380-5e2d-4204-a839-93f81226f9a5",
   "metadata": {},
   "source": [
    "- ARIMA 모형 시계열 예측\n",
    "  - 정상성 시계열의 비계절성과 정상성 시계열의 계절성을 갖는 두 자료를 이용하여 분석해보자"
   ]
  },
  {
   "cell_type": "markdown",
   "id": "b96232da-ffea-482b-8340-1464d9ef7929",
   "metadata": {},
   "source": [
    "- ARIMA 모형 분석 절차\n",
    "  - 시계열 자료를 이용하여 일반화된 시계열 모형을 선정하고 이에 해당하는 모수 추정을 통해서 모형을 생성. 모형이 유의한지 평가하여 미래 데이터 예측."
   ]
  },
  {
   "cell_type": "markdown",
   "id": "4a342166-b698-4233-ab1b-51a61fc1a6ae",
   "metadata": {},
   "source": [
    "---"
   ]
  },
  {
   "cell_type": "markdown",
   "id": "e5d4529d-b808-4441-8dd3-84465a3b05d4",
   "metadata": {},
   "source": [
    "- 정상성 시계열의 비계절형\n",
    "  - 비정상성 시계열은 차분을 통해서 정상성 시계열로 바꾸는 과정을 확인한다.\n",
    "  - 시계열 자료의 추세선을 통해 정상성인지 비정상성인지 확인한다. \n",
    "  - 정상성 시계열 : 평균을 중심으로 진폭이 일정하게 나타난다. 만약, 비정상성이면 차분을 통해 정상성으로 변환."
   ]
  },
  {
   "cell_type": "code",
   "execution_count": 4,
   "id": "74a1bccc-0fb6-4146-8d28-b0ffe80332e6",
   "metadata": {},
   "outputs": [
    {
     "data": {
      "text/html": [
       "<table class=\"dataframe\">\n",
       "<caption>A Time Series: 2 × 12</caption>\n",
       "<thead>\n",
       "\t<tr><th></th><th scope=col>Jan</th><th scope=col>Feb</th><th scope=col>Mar</th><th scope=col>Apr</th><th scope=col>May</th><th scope=col>Jun</th><th scope=col>Jul</th><th scope=col>Aug</th><th scope=col>Sep</th><th scope=col>Oct</th><th scope=col>Nov</th><th scope=col>Dec</th></tr>\n",
       "</thead>\n",
       "<tbody>\n",
       "\t<tr><th scope=row>2015</th><td>    </td><td>3180</td><td>3000</td><td>3200</td><td>3100</td><td>3300</td><td>3200</td><td>3400</td><td>3550</td><td>3200</td><td>3400</td><td>3300</td></tr>\n",
       "\t<tr><th scope=row>2016</th><td>3700</td><td>    </td><td>    </td><td>    </td><td>    </td><td>    </td><td>    </td><td>    </td><td>    </td><td>    </td><td>    </td><td>    </td></tr>\n",
       "</tbody>\n",
       "</table>\n"
      ],
      "text/latex": [
       "A Time Series: 2 × 12\n",
       "\\begin{tabular}{r|llllllllllll}\n",
       "  & Jan & Feb & Mar & Apr & May & Jun & Jul & Aug & Sep & Oct & Nov & Dec\\\\\n",
       "\\hline\n",
       "\t2015 &      & 3180 & 3000 & 3200 & 3100 & 3300 & 3200 & 3400 & 3550 & 3200 & 3400 & 3300\\\\\n",
       "\t2016 & 3700 &      &      &      &      &      &      &      &      &      &      &     \\\\\n",
       "\\end{tabular}\n"
      ],
      "text/markdown": [
       "\n",
       "A Time Series: 2 × 12\n",
       "\n",
       "| <!--/--> | Jan | Feb | Mar | Apr | May | Jun | Jul | Aug | Sep | Oct | Nov | Dec |\n",
       "|---|---|---|---|---|---|---|---|---|---|---|---|---|\n",
       "| 2015 | <!----> | 3180 | 3000 | 3200 | 3100 | 3300 | 3200 | 3400 | 3550 | 3200 | 3400 | 3300 |\n",
       "| 2016 | 3700 | <!----> | <!----> | <!----> | <!----> | <!----> | <!----> | <!----> | <!----> | <!----> | <!----> | <!----> |\n",
       "\n"
      ],
      "text/plain": [
       "     Jan  Feb  Mar  Apr  May  Jun  Jul  Aug  Sep  Oct  Nov  Dec \n",
       "2015      3180 3000 3200 3100 3300 3200 3400 3550 3200 3400 3300\n",
       "2016 3700                                                       "
      ]
     },
     "metadata": {},
     "output_type": "display_data"
    },
    {
     "data": {
      "image/png": "[encoded data removed]",
      "text/plain": [
       "plot without title"
      ]
     },
     "metadata": {
      "image/png": {
       "height": 420,
       "width": 420
      }
     },
     "output_type": "display_data"
    }
   ],
   "source": [
    "input = c(3180,3000,3200,3100,3300,3200,3400,3550,3200,3400,3300,3700)\n",
    "\n",
    "tsdata = ts(input, start = c(2015,2), frequency = 12)\n",
    "tsdata\n",
    "\n",
    "plot(tsdata, type = 'l', col = 'red')"
   ]
  },
  {
   "cell_type": "markdown",
   "id": "495339f1-b07c-46dd-8fe9-6c0eb59dd314",
   "metadata": {},
   "source": [
    "- 진폭 일정 X -> 비정상성 시계열 -> 차분 필요 -> 정상성으로 변경\n",
    "- 차분\n",
    "  - 일반 차분\n",
    "  - 계절 차분 - 계절성을 가질 때"
   ]
  },
  {
   "cell_type": "code",
   "execution_count": 5,
   "id": "d6737f88-1da9-406e-b642-d56d72d7be43",
   "metadata": {},
   "outputs": [
    {
     "data": {
      "image/png": "[encoded data removed]",
      "text/plain": [
       "plot without title"
      ]
     },
     "metadata": {
      "image/png": {
       "height": 420,
       "width": 420
      }
     },
     "output_type": "display_data"
    }
   ],
   "source": [
    "# 정상성 시계열 변환\n",
    "par(mfrow = c(1,2))\n",
    "ts.plot(tsdata)\n",
    "\n",
    "diff = diff(tsdata)\n",
    "plot(diff)"
   ]
  },
  {
   "cell_type": "markdown",
   "id": "a8906664-3223-45b7-9166-4f49794bae8a",
   "metadata": {},
   "source": [
    "- 평균 정상화를 위해서 차분 이용하여 비정상성 -> 정상성으로 변경하였음.\n",
    "- 1차 차분으로 정상화가 되지 않으면 2차 차분을 수행한다."
   ]
  },
  {
   "cell_type": "code",
   "execution_count": 6,
   "id": "5e63bb0d-0e61-44bb-a6fc-57d50e793e88",
   "metadata": {},
   "outputs": [
    {
     "name": "stdout",
     "output_type": "stream",
     "text": [
      "package 'forecast' successfully unpacked and MD5 sums checked\n",
      "\n",
      "The downloaded binary packages are in\n",
      "\tC:\\Users\\ehfus\\AppData\\Local\\Temp\\Rtmpae4NBN\\downloaded_packages\n"
     ]
    },
    {
     "name": "stderr",
     "output_type": "stream",
     "text": [
      "Registered S3 method overwritten by 'quantmod':\n",
      "  method            from\n",
      "  as.zoo.data.frame zoo \n",
      "\n"
     ]
    },
    {
     "data": {
      "text/plain": [
       "Series: tsdata \n",
       "ARIMA(1,1,0) \n",
       "\n",
       "Coefficients:\n",
       "          ar1\n",
       "      -0.6891\n",
       "s.e.   0.2451\n",
       "\n",
       "sigma^2 = 31644:  log likelihood = -72.4\n",
       "AIC=148.8   AICc=150.3   BIC=149.59"
      ]
     },
     "metadata": {},
     "output_type": "display_data"
    }
   ],
   "source": [
    "install.packages('forecast')\n",
    "library(forecast)\n",
    "\n",
    "\n",
    "# 모형 식별과 추정\n",
    "arima = auto.arima(tsdata) \n",
    "arima"
   ]
  },
  {
   "cell_type": "markdown",
   "id": "c1e29c7e-098f-4044-8449-22230911c281",
   "metadata": {},
   "source": [
    "- ARIMA(1,1,0)로 확인.\n",
    "- ARIMA(p,d,q) 모형의 정상성 시계열 변환 방법\n",
    "  - d = 0이면 ARMA(p,q) 모형이며, 정상성을 만족.\n",
    "  - p = 0이면 IMA(d,q) 모형이며, d번 차분하면 MA(q)모형을 따른다.\n",
    "  - q = 0이면 IAR(p,d) 모형이며, d번 차분하면 AR(p) 모형을 따른다."
   ]
  },
  {
   "cell_type": "code",
   "execution_count": 8,
   "id": "f8215a35-c144-4bf6-9ff6-cf9343479e6a",
   "metadata": {},
   "outputs": [
    {
     "data": {
      "text/plain": [
       "\n",
       "Call:\n",
       "arima(x = tsdata, order = c(1, 1, 0))\n",
       "\n",
       "Coefficients:\n",
       "          ar1\n",
       "      -0.6891\n",
       "s.e.   0.2451\n",
       "\n",
       "sigma^2 estimated as 28767:  log likelihood = -72.4,  aic = 148.8"
      ]
     },
     "metadata": {},
     "output_type": "display_data"
    }
   ],
   "source": [
    "# 모형 생성\n",
    "model = arima(tsdata, order = c(1,1,0))\n",
    "model"
   ]
  },
  {
   "cell_type": "markdown",
   "id": "17e9fdf4-8d75-4afa-bef4-54b6baa308dd",
   "metadata": {},
   "source": [
    "- 모형의 적합성 검증을 위해서 잔차가 백색 잡음(모형의 잔차가 불규칙적이고, 독립적으로 분포된 경우인가?)인가를 살핀다.\n",
    "- 즉, 특정 시차 간의 데이터가 서로 관련성이 없다. 독립적인 관계라는 의미이다.\n",
    "\n",
    "- 모형 진단하는 방법\n",
    "  - 자기 상관 함수의 결과가 유의미한 시차가 없는 경우\n",
    "  - 오차 간에 상관관계가 존재하는지를 검정하는 방법인 Box - Ljung 검정에서 p값이 0.05 이상인 경우"
   ]
  },
  {
   "cell_type": "code",
   "execution_count": 9,
   "id": "bab5b8f9-c9d7-4c0e-95a7-d70a281cc1ee",
   "metadata": {},
   "outputs": [
    {
     "data": {
      "image/png": "[encoded data removed]",
      "text/plain": [
       "Plot with title \"p values for Ljung-Box statistic\""
      ]
     },
     "metadata": {
      "image/png": {
       "height": 420,
       "width": 420
      }
     },
     "output_type": "display_data"
    }
   ],
   "source": [
    "# 모형 진단(모형의 타당성 검정)\n",
    "# 자기 상관 함수에 의한 모형 진단\n",
    "tsdiag(model)"
   ]
  },
  {
   "cell_type": "markdown",
   "id": "15929e13-1bc3-4d48-a5b4-9fe288ebc68d",
   "metadata": {},
   "source": [
    "- 좋은 시계열 모형은 잔차의 ACF에서 자가 상관이 발견 X\n",
    "- p-value 값이 0 이상으로 분포되어 있다.\n",
    "- 따라서 현재 ARIMA 모형은 매우 양호한 시계열 모형이라 할 수 있다."
   ]
  },
  {
   "cell_type": "code",
   "execution_count": 12,
   "id": "e92c67e2-082f-4f5c-93ba-b363ca05250a",
   "metadata": {},
   "outputs": [
    {
     "data": {
      "text/plain": [
       "\n",
       "\tBox-Ljung test\n",
       "\n",
       "data:  model$residuals\n",
       "X-squared = 0.12353, df = 1, p-value = 0.7252\n"
      ]
     },
     "metadata": {},
     "output_type": "display_data"
    }
   ],
   "source": [
    "# 모형 진단(모형의 타당성 검정)\n",
    "# Box-Ljung에 의한 잔차항 모형 진단\n",
    "# 모형의 잔차를 이용하는 카이제곱 검정방법으로 시계열 모형이 통계적으로 적절한지를 검정\n",
    "Box.test(model$residuals, lag = 1, type = 'Ljung')"
   ]
  },
  {
   "cell_type": "markdown",
   "id": "bb17da1a-4182-48bf-9b36-a56c632f0b2e",
   "metadata": {},
   "source": [
    "- 적절하다면, 잔차항은 서로 독립, 동일한 분포를 따른다면 백색잡음과정이라 하며 정상시계열은 이러한 백색잡음 과정으로부터 생성된다."
   ]
  },
  {
   "cell_type": "markdown",
   "id": "4cf094d7-3030-4959-ae1c-6a3405239774",
   "metadata": {},
   "source": [
    "- 모형진단을 통해서 적절한 모형으로 판단되면 이 모형으로 가까운 미래를 예측하는데 이용"
   ]
  },
  {
   "cell_type": "code",
   "execution_count": 14,
   "id": "0234085a-3999-4e19-9528-39b48c198568",
   "metadata": {},
   "outputs": [
    {
     "data": {
      "text/plain": [
       "         Point Forecast    Lo 80    Hi 80    Lo 95    Hi 95\n",
       "Feb 2016       3424.367 3207.007 3641.727 3091.944 3756.791\n",
       "Mar 2016       3614.301 3386.677 3841.925 3266.180 3962.421\n",
       "Apr 2016       3483.421 3198.847 3767.995 3048.203 3918.639\n",
       "May 2016       3573.608 3272.084 3875.131 3112.467 4034.748\n",
       "Jun 2016       3511.462 3175.275 3847.649 2997.308 4025.615\n",
       "Jul 2016       3554.286 3199.003 3909.568 3010.928 4097.643\n",
       "Aug 2016       3524.776 3143.569 3905.984 2941.770 4107.783\n",
       "Sep 2016       3545.111 3144.813 3945.408 2932.908 4157.313\n",
       "Oct 2016       3531.099 3109.224 3952.974 2885.897 4176.301\n",
       "Nov 2016       3540.754 3100.585 3980.923 2867.574 4213.934\n",
       "Dec 2016       3534.101 3074.901 3993.300 2831.816 4236.385\n",
       "Jan 2017       3538.685 3062.192 4015.179 2809.951 4267.420\n",
       "Feb 2017       3535.526 3041.695 4029.357 2780.277 4290.775\n",
       "Mar 2017       3537.703 3027.557 4047.849 2757.502 4317.904\n",
       "Apr 2017       3536.203 3009.958 4062.448 2731.381 4341.025\n",
       "May 2017       3537.237 2995.565 4078.908 2708.822 4365.651\n",
       "Jun 2017       3536.524 2979.724 4093.325 2684.972 4388.077\n",
       "Jul 2017       3537.015 2965.573 4108.457 2663.070 4410.960\n",
       "Aug 2017       3536.677 2950.901 4122.453 2640.809 4432.545\n",
       "Sep 2017       3536.910 2937.181 4136.639 2619.704 4454.116\n",
       "Oct 2017       3536.749 2923.359 4150.140 2598.650 4474.849\n",
       "Nov 2017       3536.860 2910.124 4163.596 2578.350 4495.371\n",
       "Dec 2017       3536.784 2896.968 4176.600 2558.270 4515.298\n",
       "Jan 2018       3536.836 2884.211 4189.462 2538.732 4534.941"
      ]
     },
     "metadata": {},
     "output_type": "display_data"
    }
   ],
   "source": [
    "# 미래 예측\n",
    "fore = forecast(model) # 향후 24개월 예측 = default \n",
    "fore"
   ]
  },
  {
   "cell_type": "code",
   "execution_count": 15,
   "id": "174ff48f-1dc3-44eb-b779-b083ca76f98e",
   "metadata": {},
   "outputs": [
    {
     "data": {
      "image/png": "[encoded data removed]",
      "text/plain": [
       "Plot with title \"Forecasts from ARIMA(1,1,0)\""
      ]
     },
     "metadata": {
      "image/png": {
       "height": 420,
       "width": 420
      }
     },
     "output_type": "display_data"
    }
   ],
   "source": [
    "par(mfrow = c(1,2))\n",
    "plot(fore)\n",
    "model2 = forecast(model, h = 6)\n",
    "plot(model2)"
   ]
  },
  {
   "cell_type": "markdown",
   "id": "a86a5c1b-103b-4c15-9e7b-858aab15f98f",
   "metadata": {},
   "source": [
    "- 정상성 시계열의 계절형\n",
    "  - 비정상성 시계열은 차분을 통해서 정상성 시계열로 바꾸는 과정을 확인"
   ]
  },
  {
   "cell_type": "code",
   "execution_count": 16,
   "id": "c9772af9-63b4-4eb2-9e83-74972c4bd909",
   "metadata": {},
   "outputs": [],
   "source": [
    "data = c(55,56,45,43,69,75,58,59,66,64,62,65,55,49,67,55,71,78,61,65,69,53,70,75,56,56,65,55,68,80,65,67,77,69,79,82,57,55,63,60,68,70,58,65,70,55,65,70)"
   ]
  },
  {
   "cell_type": "code",
   "execution_count": 18,
   "id": "de3c70e5-6f9c-4a4a-a38c-1d1029b2f9c5",
   "metadata": {},
   "outputs": [
    {
     "data": {
      "text/html": [
       "<table class=\"dataframe\">\n",
       "<caption>A Time Series: 4 × 12</caption>\n",
       "<thead>\n",
       "\t<tr><th></th><th scope=col>Jan</th><th scope=col>Feb</th><th scope=col>Mar</th><th scope=col>Apr</th><th scope=col>May</th><th scope=col>Jun</th><th scope=col>Jul</th><th scope=col>Aug</th><th scope=col>Sep</th><th scope=col>Oct</th><th scope=col>Nov</th><th scope=col>Dec</th></tr>\n",
       "</thead>\n",
       "<tbody>\n",
       "\t<tr><th scope=row>2020</th><td>55</td><td>56</td><td>45</td><td>43</td><td>69</td><td>75</td><td>58</td><td>59</td><td>66</td><td>64</td><td>62</td><td>65</td></tr>\n",
       "\t<tr><th scope=row>2021</th><td>55</td><td>49</td><td>67</td><td>55</td><td>71</td><td>78</td><td>61</td><td>65</td><td>69</td><td>53</td><td>70</td><td>75</td></tr>\n",
       "\t<tr><th scope=row>2022</th><td>56</td><td>56</td><td>65</td><td>55</td><td>68</td><td>80</td><td>65</td><td>67</td><td>77</td><td>69</td><td>79</td><td>82</td></tr>\n",
       "\t<tr><th scope=row>2023</th><td>57</td><td>55</td><td>63</td><td>60</td><td>68</td><td>70</td><td>58</td><td>65</td><td>70</td><td>55</td><td>65</td><td>70</td></tr>\n",
       "</tbody>\n",
       "</table>\n"
      ],
      "text/latex": [
       "A Time Series: 4 × 12\n",
       "\\begin{tabular}{r|llllllllllll}\n",
       "  & Jan & Feb & Mar & Apr & May & Jun & Jul & Aug & Sep & Oct & Nov & Dec\\\\\n",
       "\\hline\n",
       "\t2020 & 55 & 56 & 45 & 43 & 69 & 75 & 58 & 59 & 66 & 64 & 62 & 65\\\\\n",
       "\t2021 & 55 & 49 & 67 & 55 & 71 & 78 & 61 & 65 & 69 & 53 & 70 & 75\\\\\n",
       "\t2022 & 56 & 56 & 65 & 55 & 68 & 80 & 65 & 67 & 77 & 69 & 79 & 82\\\\\n",
       "\t2023 & 57 & 55 & 63 & 60 & 68 & 70 & 58 & 65 & 70 & 55 & 65 & 70\\\\\n",
       "\\end{tabular}\n"
      ],
      "text/markdown": [
       "\n",
       "A Time Series: 4 × 12\n",
       "\n",
       "| <!--/--> | Jan | Feb | Mar | Apr | May | Jun | Jul | Aug | Sep | Oct | Nov | Dec |\n",
       "|---|---|---|---|---|---|---|---|---|---|---|---|---|\n",
       "| 2020 | 55 | 56 | 45 | 43 | 69 | 75 | 58 | 59 | 66 | 64 | 62 | 65 |\n",
       "| 2021 | 55 | 49 | 67 | 55 | 71 | 78 | 61 | 65 | 69 | 53 | 70 | 75 |\n",
       "| 2022 | 56 | 56 | 65 | 55 | 68 | 80 | 65 | 67 | 77 | 69 | 79 | 82 |\n",
       "| 2023 | 57 | 55 | 63 | 60 | 68 | 70 | 58 | 65 | 70 | 55 | 65 | 70 |\n",
       "\n"
      ],
      "text/plain": [
       "     Jan Feb Mar Apr May Jun Jul Aug Sep Oct Nov Dec\n",
       "2020 55  56  45  43  69  75  58  59  66  64  62  65 \n",
       "2021 55  49  67  55  71  78  61  65  69  53  70  75 \n",
       "2022 56  56  65  55  68  80  65  67  77  69  79  82 \n",
       "2023 57  55  63  60  68  70  58  65  70  55  65  70 "
      ]
     },
     "metadata": {},
     "output_type": "display_data"
    },
    {
     "data": {
      "image/png": "[encoded data removed]",
      "text/plain": [
       "plot without title"
      ]
     },
     "metadata": {
      "image/png": {
       "height": 420,
       "width": 420
      }
     },
     "output_type": "display_data"
    }
   ],
   "source": [
    "tsdata = ts(data, start = c(2020,1),frequency = 12)\n",
    "tsdata\n",
    "\n",
    "ts_feature = stl(tsdata, s.window = 'periodic')\n",
    "plot(ts_feature)\n"
   ]
  },
  {
   "cell_type": "markdown",
   "id": "3aa732b9-a6f6-4ac4-9a55-82fed820f52b",
   "metadata": {},
   "source": [
    "- 계절성이 뚜렷하게 발견된다. \n",
    "- 따라서 tsdata 시계열 자료는 계절성을 갖는 시계열 자료라고 볼 수 있다."
   ]
  },
  {
   "cell_type": "markdown",
   "id": "32474452-63e8-46cc-8376-e7645d56d06f",
   "metadata": {},
   "source": [
    "- 차분을 통해서 비정상성 시계열을 정상성 시계열로 변환한다.\n",
    "- 계절성을 갖는 경우 계절 차분을 적용한다."
   ]
  },
  {
   "cell_type": "code",
   "execution_count": 19,
   "id": "c41a708d-efa1-46bb-a24d-7419287cf22f",
   "metadata": {},
   "outputs": [
    {
     "data": {
      "image/png": "[encoded data removed]",
      "text/plain": [
       "plot without title"
      ]
     },
     "metadata": {
      "image/png": {
       "height": 420,
       "width": 420
      }
     },
     "output_type": "display_data"
    }
   ],
   "source": [
    "par(mfrow = c(1,2))\n",
    "ts.plot(tsdata)\n",
    "diff = diff(tsdata)\n",
    "plot(diff)"
   ]
  },
  {
   "cell_type": "code",
   "execution_count": 20,
   "id": "c1b9b688-ea4e-4fdf-88fb-058d3da22a68",
   "metadata": {},
   "outputs": [
    {
     "data": {
      "text/plain": [
       "Series: tsdata \n",
       "ARIMA(0,1,1)(1,1,0)[12] \n",
       "\n",
       "Coefficients:\n",
       "          ma1     sar1\n",
       "      -0.6580  -0.5317\n",
       "s.e.   0.1421   0.1754\n",
       "\n",
       "sigma^2 = 41.97:  log likelihood = -116.31\n",
       "AIC=238.62   AICc=239.4   BIC=243.29"
      ]
     },
     "metadata": {},
     "output_type": "display_data"
    }
   ],
   "source": [
    "ts_model2 = auto.arima(tsdata)\n",
    "ts_model2"
   ]
  },
  {
   "cell_type": "code",
   "execution_count": 21,
   "id": "8f52a9d2-fa4c-4ac9-bbfd-a750622c433f",
   "metadata": {},
   "outputs": [
    {
     "data": {
      "text/plain": [
       "\n",
       "Call:\n",
       "arima(x = tsdata, order = c(0, 1, 1), seasonal = list(order = c(1, 1, 0)))\n",
       "\n",
       "Coefficients:\n",
       "          ma1     sar1\n",
       "      -0.6580  -0.5317\n",
       "s.e.   0.1421   0.1754\n",
       "\n",
       "sigma^2 estimated as 39.57:  log likelihood = -116.31,  aic = 238.62"
      ]
     },
     "metadata": {},
     "output_type": "display_data"
    }
   ],
   "source": [
    "model = arima(tsdata,c(0,1,1), seasonal = list(order = c(1,1,0)))\n",
    "model"
   ]
  },
  {
   "cell_type": "code",
   "execution_count": 22,
   "id": "8aff92b2-985a-4348-b6b1-13cb375620f3",
   "metadata": {},
   "outputs": [
    {
     "data": {
      "image/png": "[encoded data removed]",
      "text/plain": [
       "Plot with title \"p values for Ljung-Box statistic\""
      ]
     },
     "metadata": {
      "image/png": {
       "height": 420,
       "width": 420
      }
     },
     "output_type": "display_data"
    }
   ],
   "source": [
    "tsdiag(model)"
   ]
  },
  {
   "cell_type": "markdown",
   "id": "a1b4c6da-780d-4634-84ce-770a91208345",
   "metadata": {},
   "source": [
    "- 매우 양호한 시계열 모형"
   ]
  },
  {
   "cell_type": "code",
   "execution_count": 24,
   "id": "144b6438-bfcc-4cb8-96e5-b1ffe06eec9a",
   "metadata": {},
   "outputs": [
    {
     "data": {
      "text/plain": [
       "\n",
       "\tBox-Ljung test\n",
       "\n",
       "data:  model$residuals\n",
       "X-squared = 0.33656, df = 1, p-value = 0.5618\n"
      ]
     },
     "metadata": {},
     "output_type": "display_data"
    }
   ],
   "source": [
    "Box.test(model$residuals, lag = 1, type = 'Ljung')"
   ]
  },
  {
   "cell_type": "code",
   "execution_count": 25,
   "id": "5e42658f-f770-4977-af4a-f8393b4d602d",
   "metadata": {},
   "outputs": [
    {
     "data": {
      "image/png": "[encoded data removed]",
      "text/plain": [
       "Plot with title \"Forecasts from ARIMA(0,1,1)(1,1,0)[12]\""
      ]
     },
     "metadata": {
      "image/png": {
       "height": 420,
       "width": 420
      }
     },
     "output_type": "display_data"
    }
   ],
   "source": [
    "# 미래예측\n",
    "par(mfrow = c(1,2))\n",
    "fore = forecast(model, h = 24);plot(fore)\n",
    "fore2 = forecast(model, h = 6);plot(fore2)"
   ]
  }
 ],
 "metadata": {
  "kernelspec": {
   "display_name": "R",
   "language": "R",
   "name": "ir"
  },
  "language_info": {
   "codemirror_mode": "r",
   "file_extension": ".r",
   "mimetype": "text/x-r-source",
   "name": "R",
   "pygments_lexer": "r",
   "version": "4.0.5"
  }
 },
 "nbformat": 4,
 "nbformat_minor": 5
}
