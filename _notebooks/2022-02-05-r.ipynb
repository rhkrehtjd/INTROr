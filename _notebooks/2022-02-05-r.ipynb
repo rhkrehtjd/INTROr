{
 "cells": [
  {
   "cell_type": "markdown",
   "id": "73efc247-c96e-4862-a6da-b135fd91b07f",
   "metadata": {},
   "source": [
    "# Vector & Matrix & Array 자료구조"
   ]
  },
  {
   "cell_type": "markdown",
   "id": "f21c5729-76e8-4510-9f63-9a20dd51ecba",
   "metadata": {},
   "source": [
    "- 연속된 1차원의 선형구조의 형태로 만들어짐\n",
    "- 같은 자료형의 데이터만 저장할 수 있다.\n",
    "- 첫 번째 셀에서 정수와 문자를 혼합하여 저장했지만 반환되는 건 모두 문자로 변환되어 반환된다.\n",
    "- 첫 번째 셀과 두 번째 셀을 비교해보자"
   ]
  },
  {
   "cell_type": "code",
   "execution_count": 108,
   "id": "150768c8-b6d8-4b50-b773-a447fb7e188b",
   "metadata": {},
   "outputs": [
    {
     "data": {
      "text/html": [
       "<style>\n",
       ".list-inline {list-style: none; margin:0; padding: 0}\n",
       ".list-inline>li {display: inline-block}\n",
       ".list-inline>li:not(:last-child)::after {content: \"\\00b7\"; padding: 0 .5ex}\n",
       "</style>\n",
       "<ol class=list-inline><li>'1'</li><li>'2'</li><li>'ㅁㄴㅇ'</li></ol>\n"
      ],
      "text/latex": [
       "\\begin{enumerate*}\n",
       "\\item '1'\n",
       "\\item '2'\n",
       "\\item 'ㅁㄴㅇ'\n",
       "\\end{enumerate*}\n"
      ],
      "text/markdown": [
       "1. '1'\n",
       "2. '2'\n",
       "3. 'ㅁㄴㅇ'\n",
       "\n",
       "\n"
      ],
      "text/plain": [
       "[1] \"1\"      \"2\"      \"ㅁㄴㅇ\""
      ]
     },
     "metadata": {},
     "output_type": "display_data"
    }
   ],
   "source": [
    "df=c(1,2,'ㅁㄴㅇ')\n",
    "df"
   ]
  },
  {
   "cell_type": "code",
   "execution_count": 109,
   "id": "816f683b-3b23-443f-956c-781d256a52cc",
   "metadata": {},
   "outputs": [
    {
     "data": {
      "text/html": [
       "<style>\n",
       ".list-inline {list-style: none; margin:0; padding: 0}\n",
       ".list-inline>li {display: inline-block}\n",
       ".list-inline>li:not(:last-child)::after {content: \"\\00b7\"; padding: 0 .5ex}\n",
       "</style>\n",
       "<ol class=list-inline><li>1</li><li>2</li><li>3</li></ol>\n"
      ],
      "text/latex": [
       "\\begin{enumerate*}\n",
       "\\item 1\n",
       "\\item 2\n",
       "\\item 3\n",
       "\\end{enumerate*}\n"
      ],
      "text/markdown": [
       "1. 1\n",
       "2. 2\n",
       "3. 3\n",
       "\n",
       "\n"
      ],
      "text/plain": [
       "[1] 1 2 3"
      ]
     },
     "metadata": {},
     "output_type": "display_data"
    }
   ],
   "source": [
    "df_=c(1,2,3)\n",
    "df_"
   ]
  },
  {
   "cell_type": "markdown",
   "id": "2a4cd517-5b11-4e21-aadb-5866b638650f",
   "metadata": {},
   "source": [
    "- 벡터 생성 함수 : c(), seq(), rep()\n",
    "- 벡터 자료 처리 함수 : union(), setdiff(), intersect()"
   ]
  },
  {
   "cell_type": "code",
   "execution_count": 110,
   "id": "5efb4780-3402-4360-af65-f7f2e2f8cd34",
   "metadata": {},
   "outputs": [
    {
     "data": {
      "text/html": [
       "<style>\n",
       ".list-inline {list-style: none; margin:0; padding: 0}\n",
       ".list-inline>li {display: inline-block}\n",
       ".list-inline>li:not(:last-child)::after {content: \"\\00b7\"; padding: 0 .5ex}\n",
       "</style>\n",
       "<ol class=list-inline><li>1</li><li>2</li><li>3</li><li>4</li><li>5</li><li>6</li><li>7</li><li>8</li><li>9</li><li>10</li></ol>\n"
      ],
      "text/latex": [
       "\\begin{enumerate*}\n",
       "\\item 1\n",
       "\\item 2\n",
       "\\item 3\n",
       "\\item 4\n",
       "\\item 5\n",
       "\\item 6\n",
       "\\item 7\n",
       "\\item 8\n",
       "\\item 9\n",
       "\\item 10\n",
       "\\end{enumerate*}\n"
      ],
      "text/markdown": [
       "1. 1\n",
       "2. 2\n",
       "3. 3\n",
       "4. 4\n",
       "5. 5\n",
       "6. 6\n",
       "7. 7\n",
       "8. 8\n",
       "9. 9\n",
       "10. 10\n",
       "\n",
       "\n"
      ],
      "text/plain": [
       " [1]  1  2  3  4  5  6  7  8  9 10"
      ]
     },
     "metadata": {},
     "output_type": "display_data"
    },
    {
     "data": {
      "text/html": [
       "<style>\n",
       ".list-inline {list-style: none; margin:0; padding: 0}\n",
       ".list-inline>li {display: inline-block}\n",
       ".list-inline>li:not(:last-child)::after {content: \"\\00b7\"; padding: 0 .5ex}\n",
       "</style>\n",
       "<ol class=list-inline><li>1</li><li>2</li><li>3</li><li>4</li><li>5</li><li>6</li><li>7</li><li>8</li><li>9</li><li>10</li></ol>\n"
      ],
      "text/latex": [
       "\\begin{enumerate*}\n",
       "\\item 1\n",
       "\\item 2\n",
       "\\item 3\n",
       "\\item 4\n",
       "\\item 5\n",
       "\\item 6\n",
       "\\item 7\n",
       "\\item 8\n",
       "\\item 9\n",
       "\\item 10\n",
       "\\end{enumerate*}\n"
      ],
      "text/markdown": [
       "1. 1\n",
       "2. 2\n",
       "3. 3\n",
       "4. 4\n",
       "5. 5\n",
       "6. 6\n",
       "7. 7\n",
       "8. 8\n",
       "9. 9\n",
       "10. 10\n",
       "\n",
       "\n"
      ],
      "text/plain": [
       " [1]  1  2  3  4  5  6  7  8  9 10"
      ]
     },
     "metadata": {},
     "output_type": "display_data"
    },
    {
     "data": {
      "text/html": [
       "<style>\n",
       ".list-inline {list-style: none; margin:0; padding: 0}\n",
       ".list-inline>li {display: inline-block}\n",
       ".list-inline>li:not(:last-child)::after {content: \"\\00b7\"; padding: 0 .5ex}\n",
       "</style>\n",
       "<ol class=list-inline><li>1</li><li>2</li><li>3</li><li>4</li><li>5</li><li>6</li><li>7</li><li>8</li><li>9</li><li>10</li></ol>\n"
      ],
      "text/latex": [
       "\\begin{enumerate*}\n",
       "\\item 1\n",
       "\\item 2\n",
       "\\item 3\n",
       "\\item 4\n",
       "\\item 5\n",
       "\\item 6\n",
       "\\item 7\n",
       "\\item 8\n",
       "\\item 9\n",
       "\\item 10\n",
       "\\end{enumerate*}\n"
      ],
      "text/markdown": [
       "1. 1\n",
       "2. 2\n",
       "3. 3\n",
       "4. 4\n",
       "5. 5\n",
       "6. 6\n",
       "7. 7\n",
       "8. 8\n",
       "9. 9\n",
       "10. 10\n",
       "\n",
       "\n"
      ],
      "text/plain": [
       " [1]  1  2  3  4  5  6  7  8  9 10"
      ]
     },
     "metadata": {},
     "output_type": "display_data"
    }
   ],
   "source": [
    "c(1:10)\n",
    "1:10\n",
    "c(1,2,3,4,5,6,7,8,9,10)"
   ]
  },
  {
   "cell_type": "code",
   "execution_count": 111,
   "id": "e52fd662-1a43-4a61-b99c-d98e6908529e",
   "metadata": {},
   "outputs": [
    {
     "data": {
      "text/html": [
       "<style>\n",
       ".list-inline {list-style: none; margin:0; padding: 0}\n",
       ".list-inline>li {display: inline-block}\n",
       ".list-inline>li:not(:last-child)::after {content: \"\\00b7\"; padding: 0 .5ex}\n",
       "</style>\n",
       "<ol class=list-inline><li>1</li><li>4</li><li>7</li><li>10</li></ol>\n"
      ],
      "text/latex": [
       "\\begin{enumerate*}\n",
       "\\item 1\n",
       "\\item 4\n",
       "\\item 7\n",
       "\\item 10\n",
       "\\end{enumerate*}\n"
      ],
      "text/markdown": [
       "1. 1\n",
       "2. 4\n",
       "3. 7\n",
       "4. 10\n",
       "\n",
       "\n"
      ],
      "text/plain": [
       "[1]  1  4  7 10"
      ]
     },
     "metadata": {},
     "output_type": "display_data"
    }
   ],
   "source": [
    "seq(1,10,3)\n",
    "# 1부터 10까지 3씩 증가"
   ]
  },
  {
   "cell_type": "code",
   "execution_count": 112,
   "id": "d134ac83-67cf-4d4b-b2d6-508c25418bd7",
   "metadata": {},
   "outputs": [
    {
     "data": {
      "text/html": [
       "<style>\n",
       ".list-inline {list-style: none; margin:0; padding: 0}\n",
       ".list-inline>li {display: inline-block}\n",
       ".list-inline>li:not(:last-child)::after {content: \"\\00b7\"; padding: 0 .5ex}\n",
       "</style>\n",
       "<ol class=list-inline><li>1</li><li>2</li><li>3</li><li>1</li><li>2</li><li>3</li><li>1</li><li>2</li><li>3</li></ol>\n"
      ],
      "text/latex": [
       "\\begin{enumerate*}\n",
       "\\item 1\n",
       "\\item 2\n",
       "\\item 3\n",
       "\\item 1\n",
       "\\item 2\n",
       "\\item 3\n",
       "\\item 1\n",
       "\\item 2\n",
       "\\item 3\n",
       "\\end{enumerate*}\n"
      ],
      "text/markdown": [
       "1. 1\n",
       "2. 2\n",
       "3. 3\n",
       "4. 1\n",
       "5. 2\n",
       "6. 3\n",
       "7. 1\n",
       "8. 2\n",
       "9. 3\n",
       "\n",
       "\n"
      ],
      "text/plain": [
       "[1] 1 2 3 1 2 3 1 2 3"
      ]
     },
     "metadata": {},
     "output_type": "display_data"
    }
   ],
   "source": [
    "rep(1:3,3)"
   ]
  },
  {
   "cell_type": "code",
   "execution_count": 113,
   "id": "507c3681-1ac9-4e91-b589-0fbdd0611da0",
   "metadata": {},
   "outputs": [
    {
     "data": {
      "text/html": [
       "<style>\n",
       ".list-inline {list-style: none; margin:0; padding: 0}\n",
       ".list-inline>li {display: inline-block}\n",
       ".list-inline>li:not(:last-child)::after {content: \"\\00b7\"; padding: 0 .5ex}\n",
       "</style>\n",
       "<ol class=list-inline><li>1</li><li>1</li><li>1</li></ol>\n"
      ],
      "text/latex": [
       "\\begin{enumerate*}\n",
       "\\item 1\n",
       "\\item 1\n",
       "\\item 1\n",
       "\\end{enumerate*}\n"
      ],
      "text/markdown": [
       "1. 1\n",
       "2. 1\n",
       "3. 1\n",
       "\n",
       "\n"
      ],
      "text/plain": [
       "[1] 1 1 1"
      ]
     },
     "metadata": {},
     "output_type": "display_data"
    }
   ],
   "source": [
    "rep(1,3)"
   ]
  },
  {
   "cell_type": "code",
   "execution_count": 114,
   "id": "24ed6f8f-189f-4bb4-8131-6a0c6d595b4f",
   "metadata": {},
   "outputs": [
    {
     "data": {
      "text/html": [
       "<style>\n",
       ".list-inline {list-style: none; margin:0; padding: 0}\n",
       ".list-inline>li {display: inline-block}\n",
       ".list-inline>li:not(:last-child)::after {content: \"\\00b7\"; padding: 0 .5ex}\n",
       "</style>\n",
       "<ol class=list-inline><li>1</li><li>1</li><li>2</li><li>2</li><li>3</li><li>3</li></ol>\n"
      ],
      "text/latex": [
       "\\begin{enumerate*}\n",
       "\\item 1\n",
       "\\item 1\n",
       "\\item 2\n",
       "\\item 2\n",
       "\\item 3\n",
       "\\item 3\n",
       "\\end{enumerate*}\n"
      ],
      "text/markdown": [
       "1. 1\n",
       "2. 1\n",
       "3. 2\n",
       "4. 2\n",
       "5. 3\n",
       "6. 3\n",
       "\n",
       "\n"
      ],
      "text/plain": [
       "[1] 1 1 2 2 3 3"
      ]
     },
     "metadata": {},
     "output_type": "display_data"
    }
   ],
   "source": [
    "rep(1:3,each=2)\n",
    "# 각 자료가 반복"
   ]
  },
  {
   "cell_type": "markdown",
   "id": "28e5449a-4c2c-4a35-9e14-2535bb12ffd2",
   "metadata": {},
   "source": [
    "- 벡터 자료 처리"
   ]
  },
  {
   "cell_type": "code",
   "execution_count": 115,
   "id": "ee333f58-e5c7-429e-9fa4-3ac0516b1d02",
   "metadata": {},
   "outputs": [
    {
     "data": {
      "text/html": [
       "<style>\n",
       ".list-inline {list-style: none; margin:0; padding: 0}\n",
       ".list-inline>li {display: inline-block}\n",
       ".list-inline>li:not(:last-child)::after {content: \"\\00b7\"; padding: 0 .5ex}\n",
       "</style>\n",
       "<ol class=list-inline><li>1</li><li>2</li><li>3</li><li>4</li></ol>\n"
      ],
      "text/latex": [
       "\\begin{enumerate*}\n",
       "\\item 1\n",
       "\\item 2\n",
       "\\item 3\n",
       "\\item 4\n",
       "\\end{enumerate*}\n"
      ],
      "text/markdown": [
       "1. 1\n",
       "2. 2\n",
       "3. 3\n",
       "4. 4\n",
       "\n",
       "\n"
      ],
      "text/plain": [
       "[1] 1 2 3 4"
      ]
     },
     "metadata": {},
     "output_type": "display_data"
    },
    {
     "data": {
      "text/html": [
       "<style>\n",
       ".list-inline {list-style: none; margin:0; padding: 0}\n",
       ".list-inline>li {display: inline-block}\n",
       ".list-inline>li:not(:last-child)::after {content: \"\\00b7\"; padding: 0 .5ex}\n",
       "</style>\n",
       "<ol class=list-inline><li>1</li><li>4</li></ol>\n"
      ],
      "text/latex": [
       "\\begin{enumerate*}\n",
       "\\item 1\n",
       "\\item 4\n",
       "\\end{enumerate*}\n"
      ],
      "text/markdown": [
       "1. 1\n",
       "2. 4\n",
       "\n",
       "\n"
      ],
      "text/plain": [
       "[1] 1 4"
      ]
     },
     "metadata": {},
     "output_type": "display_data"
    }
   ],
   "source": [
    "x<-c(1,2,3,4)\n",
    "y<-c(2,3)\n",
    "union(x,y) # 합집합\n",
    "setdiff(x,y) # x-y"
   ]
  },
  {
   "cell_type": "code",
   "execution_count": 116,
   "id": "c68c54a4-4ed0-4186-9e51-99b39683f526",
   "metadata": {},
   "outputs": [
    {
     "data": {
      "text/html": [],
      "text/latex": [],
      "text/markdown": [],
      "text/plain": [
       "numeric(0)"
      ]
     },
     "metadata": {},
     "output_type": "display_data"
    }
   ],
   "source": [
    "setdiff(y,x) # y-x는 남는 게 없음"
   ]
  },
  {
   "cell_type": "code",
   "execution_count": 117,
   "id": "78a9d705-34ed-462d-a16e-3d2c63fc4dce",
   "metadata": {},
   "outputs": [
    {
     "data": {
      "text/html": [
       "<style>\n",
       ".list-inline {list-style: none; margin:0; padding: 0}\n",
       ".list-inline>li {display: inline-block}\n",
       ".list-inline>li:not(:last-child)::after {content: \"\\00b7\"; padding: 0 .5ex}\n",
       "</style>\n",
       "<ol class=list-inline><li>2</li><li>3</li></ol>\n"
      ],
      "text/latex": [
       "\\begin{enumerate*}\n",
       "\\item 2\n",
       "\\item 3\n",
       "\\end{enumerate*}\n"
      ],
      "text/markdown": [
       "1. 2\n",
       "2. 3\n",
       "\n",
       "\n"
      ],
      "text/plain": [
       "[1] 2 3"
      ]
     },
     "metadata": {},
     "output_type": "display_data"
    }
   ],
   "source": [
    "intersect(x,y) # 교집합"
   ]
  },
  {
   "cell_type": "markdown",
   "id": "772def76-62ef-470c-9659-fdb8338d1563",
   "metadata": {},
   "source": [
    "- 변수에 다양한 형식의 벡터 자료를 저장할 수 있다. 하지만 벡터 자료는 같은 유형의 자료만 하나의 변수에 저장할 수 있다.\n",
    "- 만약 숫자형과 문자형 또는 논리형이 혼합되는 경우에는 데이터 유형이 변경될 수 있다."
   ]
  },
  {
   "cell_type": "code",
   "execution_count": 118,
   "id": "4d8fae9b-746a-4636-ac63-937ec41e0eec",
   "metadata": {},
   "outputs": [
    {
     "data": {
      "text/html": [
       "<style>\n",
       ".list-inline {list-style: none; margin:0; padding: 0}\n",
       ".list-inline>li {display: inline-block}\n",
       ".list-inline>li:not(:last-child)::after {content: \"\\00b7\"; padding: 0 .5ex}\n",
       "</style>\n",
       "<ol class=list-inline><li>TRUE</li><li>TRUE</li><li>FALSE</li><li>FALSE</li></ol>\n"
      ],
      "text/latex": [
       "\\begin{enumerate*}\n",
       "\\item TRUE\n",
       "\\item TRUE\n",
       "\\item FALSE\n",
       "\\item FALSE\n",
       "\\end{enumerate*}\n"
      ],
      "text/markdown": [
       "1. TRUE\n",
       "2. TRUE\n",
       "3. FALSE\n",
       "4. FALSE\n",
       "\n",
       "\n"
      ],
      "text/plain": [
       "[1]  TRUE  TRUE FALSE FALSE"
      ]
     },
     "metadata": {},
     "output_type": "display_data"
    },
    {
     "data": {
      "text/html": [
       "<style>\n",
       ".list-inline {list-style: none; margin:0; padding: 0}\n",
       ".list-inline>li {display: inline-block}\n",
       ".list-inline>li:not(:last-child)::after {content: \"\\00b7\"; padding: 0 .5ex}\n",
       "</style>\n",
       "<ol class=list-inline><li>1</li><li>1</li><li>0</li><li>0</li><li>1</li></ol>\n"
      ],
      "text/latex": [
       "\\begin{enumerate*}\n",
       "\\item 1\n",
       "\\item 1\n",
       "\\item 0\n",
       "\\item 0\n",
       "\\item 1\n",
       "\\end{enumerate*}\n"
      ],
      "text/markdown": [
       "1. 1\n",
       "2. 1\n",
       "3. 0\n",
       "4. 0\n",
       "5. 1\n",
       "\n",
       "\n"
      ],
      "text/plain": [
       "[1] 1 1 0 0 1"
      ]
     },
     "metadata": {},
     "output_type": "display_data"
    },
    {
     "data": {
      "text/html": [
       "<style>\n",
       ".list-inline {list-style: none; margin:0; padding: 0}\n",
       ".list-inline>li {display: inline-block}\n",
       ".list-inline>li:not(:last-child)::after {content: \"\\00b7\"; padding: 0 .5ex}\n",
       "</style>\n",
       "<ol class=list-inline><li>'TRUE'</li><li>'TRUE'</li><li>'FALSE'</li><li>'FALSE'</li><li>'1'</li><li>'1'</li></ol>\n"
      ],
      "text/latex": [
       "\\begin{enumerate*}\n",
       "\\item 'TRUE'\n",
       "\\item 'TRUE'\n",
       "\\item 'FALSE'\n",
       "\\item 'FALSE'\n",
       "\\item '1'\n",
       "\\item '1'\n",
       "\\end{enumerate*}\n"
      ],
      "text/markdown": [
       "1. 'TRUE'\n",
       "2. 'TRUE'\n",
       "3. 'FALSE'\n",
       "4. 'FALSE'\n",
       "5. '1'\n",
       "6. '1'\n",
       "\n",
       "\n"
      ],
      "text/plain": [
       "[1] \"TRUE\"  \"TRUE\"  \"FALSE\" \"FALSE\" \"1\"     \"1\"    "
      ]
     },
     "metadata": {},
     "output_type": "display_data"
    }
   ],
   "source": [
    "v<-c(T,TRUE,F,FALSE)\n",
    "v\n",
    "v<-c(T,TRUE,F,FALSE,1)\n",
    "v\n",
    "v<-c(T,TRUE,F,FALSE,1,'1')\n",
    "v"
   ]
  },
  {
   "cell_type": "markdown",
   "id": "93ab4e3a-85da-4d75-8e42-cc54aeaea33c",
   "metadata": {},
   "source": [
    "- character <- numeric <- logical 순으로 우선순위를 두고 변경 됨\n",
    "- R에서는 세미콜론(;)을 구분자로하여 한 줄에 여러 개의 R 스크립트 명령문을 사용할 수 있음"
   ]
  },
  {
   "cell_type": "code",
   "execution_count": 119,
   "id": "a6b31225-9db1-49cd-9d9d-bc2a4cb894dc",
   "metadata": {},
   "outputs": [
    {
     "data": {
      "text/html": [
       "<style>\n",
       ".list-inline {list-style: none; margin:0; padding: 0}\n",
       ".list-inline>li {display: inline-block}\n",
       ".list-inline>li:not(:last-child)::after {content: \"\\00b7\"; padding: 0 .5ex}\n",
       "</style>\n",
       "<ol class=list-inline><li>30</li><li>40</li><li>50</li></ol>\n"
      ],
      "text/latex": [
       "\\begin{enumerate*}\n",
       "\\item 30\n",
       "\\item 40\n",
       "\\item 50\n",
       "\\end{enumerate*}\n"
      ],
      "text/markdown": [
       "1. 30\n",
       "2. 40\n",
       "3. 50\n",
       "\n",
       "\n"
      ],
      "text/plain": [
       "[1] 30 40 50"
      ]
     },
     "metadata": {},
     "output_type": "display_data"
    },
    {
     "data": {
      "text/html": [
       "<style>\n",
       ".dl-inline {width: auto; margin:0; padding: 0}\n",
       ".dl-inline>dt, .dl-inline>dd {float: none; width: auto; display: inline-block}\n",
       ".dl-inline>dt::after {content: \":\\0020\"; padding-right: .5ex}\n",
       ".dl-inline>dt:not(:first-of-type) {padding-left: .5ex}\n",
       "</style><dl class=dl-inline><dt>곽도성의 나이</dt><dd>30</dd><dt>곽도성2의 나이</dt><dd>40</dd><dt>곽도성3의 나이</dt><dd>50</dd></dl>\n"
      ],
      "text/latex": [
       "\\begin{description*}\n",
       "\\item[곽도성의 나이] 30\n",
       "\\item[곽도성2의 나이] 40\n",
       "\\item[곽도성3의 나이] 50\n",
       "\\end{description*}\n"
      ],
      "text/markdown": [
       "곽도성의 나이\n",
       ":   30곽도성2의 나이\n",
       ":   40곽도성3의 나이\n",
       ":   50\n",
       "\n"
      ],
      "text/plain": [
       " 곽도성의 나이 곽도성2의 나이 곽도성3의 나이 \n",
       "            30             40             50 "
      ]
     },
     "metadata": {},
     "output_type": "display_data"
    },
    {
     "data": {
      "text/plain": [
       "NULL"
      ]
     },
     "metadata": {},
     "output_type": "display_data"
    }
   ],
   "source": [
    "age=c(30,40,50)\n",
    "age\n",
    "names(age)=c('곽도성의 나이','곽도성2의 나이','곽도성3의 나이')\n",
    "age\n",
    "age<-NULL # NaN은 되긴 하지만 NULL과 의미가 다른가?\n",
    "age"
   ]
  },
  {
   "cell_type": "markdown",
   "id": "24b5c63d-4ea9-4198-8e3f-c61e31839232",
   "metadata": {},
   "source": [
    "- 위 셀처럼 벡터 객체의 값에 칼럼명 지정"
   ]
  },
  {
   "cell_type": "code",
   "execution_count": 120,
   "id": "3c3f011a-3128-4502-81d4-40a23afd25e8",
   "metadata": {},
   "outputs": [
    {
     "data": {
      "text/html": [
       "<style>\n",
       ".list-inline {list-style: none; margin:0; padding: 0}\n",
       ".list-inline>li {display: inline-block}\n",
       ".list-inline>li:not(:last-child)::after {content: \"\\00b7\"; padding: 0 .5ex}\n",
       "</style>\n",
       "<ol class=list-inline><li>1</li><li>2</li><li>3</li><li>4</li><li>5</li></ol>\n"
      ],
      "text/latex": [
       "\\begin{enumerate*}\n",
       "\\item 1\n",
       "\\item 2\n",
       "\\item 3\n",
       "\\item 4\n",
       "\\item 5\n",
       "\\end{enumerate*}\n"
      ],
      "text/markdown": [
       "1. 1\n",
       "2. 2\n",
       "3. 3\n",
       "4. 4\n",
       "5. 5\n",
       "\n",
       "\n"
      ],
      "text/plain": [
       "[1] 1 2 3 4 5"
      ]
     },
     "metadata": {},
     "output_type": "display_data"
    }
   ],
   "source": [
    "a<-c(1:12)\n",
    "a[1:5]"
   ]
  },
  {
   "cell_type": "markdown",
   "id": "bc5db150-2349-425c-8c01-c3139302d1e7",
   "metadata": {},
   "source": [
    "- 파이썬은 index 0번이 첫 번째 원소를 뜻하지만 R에서는 index 1이 첫 번째 원소를 뜻한다."
   ]
  },
  {
   "cell_type": "code",
   "execution_count": 121,
   "id": "3bffdb20-b845-4185-a2c6-44dd27c8964c",
   "metadata": {},
   "outputs": [
    {
     "data": {
      "text/html": [
       "12"
      ],
      "text/latex": [
       "12"
      ],
      "text/markdown": [
       "12"
      ],
      "text/plain": [
       "[1] 12"
      ]
     },
     "metadata": {},
     "output_type": "display_data"
    }
   ],
   "source": [
    "length(a)"
   ]
  },
  {
   "cell_type": "markdown",
   "id": "3565039c-ade6-469a-b747-3969efede872",
   "metadata": {},
   "source": [
    "- 벡터 객체에서 첨자를 이용하여 원소를 조회할 경우 c() 함수의 인수에 콤마를 사용할 수 있다. 이때 콤마는 1차원 자료구조에서 하나의 원소를 지정하는 역할을 한다. "
   ]
  },
  {
   "cell_type": "code",
   "execution_count": 122,
   "id": "d197a0fd-f40f-49d7-9cf2-62e16dbde8e9",
   "metadata": {},
   "outputs": [
    {
     "data": {
      "text/html": [
       "<style>\n",
       ".list-inline {list-style: none; margin:0; padding: 0}\n",
       ".list-inline>li {display: inline-block}\n",
       ".list-inline>li:not(:last-child)::after {content: \"\\00b7\"; padding: 0 .5ex}\n",
       "</style>\n",
       "<ol class=list-inline><li>1</li><li>2</li><li>3</li><li>4</li><li>2</li><li>3</li><li>4</li><li>5</li></ol>\n"
      ],
      "text/latex": [
       "\\begin{enumerate*}\n",
       "\\item 1\n",
       "\\item 2\n",
       "\\item 3\n",
       "\\item 4\n",
       "\\item 2\n",
       "\\item 3\n",
       "\\item 4\n",
       "\\item 5\n",
       "\\end{enumerate*}\n"
      ],
      "text/markdown": [
       "1. 1\n",
       "2. 2\n",
       "3. 3\n",
       "4. 4\n",
       "5. 2\n",
       "6. 3\n",
       "7. 4\n",
       "8. 5\n",
       "\n",
       "\n"
      ],
      "text/plain": [
       "[1] 1 2 3 4 2 3 4 5"
      ]
     },
     "metadata": {},
     "output_type": "display_data"
    },
    {
     "data": {
      "text/html": [
       "<style>\n",
       ".list-inline {list-style: none; margin:0; padding: 0}\n",
       ".list-inline>li {display: inline-block}\n",
       ".list-inline>li:not(:last-child)::after {content: \"\\00b7\"; padding: 0 .5ex}\n",
       "</style>\n",
       "<ol class=list-inline><li>1</li><li>3</li></ol>\n"
      ],
      "text/latex": [
       "\\begin{enumerate*}\n",
       "\\item 1\n",
       "\\item 3\n",
       "\\end{enumerate*}\n"
      ],
      "text/markdown": [
       "1. 1\n",
       "2. 3\n",
       "\n",
       "\n"
      ],
      "text/plain": [
       "[1] 1 3"
      ]
     },
     "metadata": {},
     "output_type": "display_data"
    },
    {
     "data": {
      "text/html": [
       "<style>\n",
       ".list-inline {list-style: none; margin:0; padding: 0}\n",
       ".list-inline>li {display: inline-block}\n",
       ".list-inline>li:not(:last-child)::after {content: \"\\00b7\"; padding: 0 .5ex}\n",
       "</style>\n",
       "<ol class=list-inline><li>1</li><li>2</li><li>3</li></ol>\n"
      ],
      "text/latex": [
       "\\begin{enumerate*}\n",
       "\\item 1\n",
       "\\item 2\n",
       "\\item 3\n",
       "\\end{enumerate*}\n"
      ],
      "text/markdown": [
       "1. 1\n",
       "2. 2\n",
       "3. 3\n",
       "\n",
       "\n"
      ],
      "text/plain": [
       "[1] 1 2 3"
      ]
     },
     "metadata": {},
     "output_type": "display_data"
    }
   ],
   "source": [
    "c1<-c(1,2,3,4,2:5)\n",
    "c1\n",
    "c1[c(1,3)]\n",
    "c1[c(1:3)]"
   ]
  },
  {
   "cell_type": "markdown",
   "id": "4da0e745-39fb-4f1a-bb96-28e435bf16f3",
   "metadata": {},
   "source": [
    "- 위 셀처럼 벡터 객체의 원소를 참조하기 위해서 c() 함수의 인수로 콤마와 콜론(:)을 이용할 수 있다. 콤마는 개별 원소 하나씩 지정하며 콜론은 원소의 범위를 지정하는 역할을 한다. "
   ]
  },
  {
   "cell_type": "code",
   "execution_count": 123,
   "id": "da91188e-f1ce-4cc5-9363-2cab92255fc1",
   "metadata": {},
   "outputs": [
    {
     "data": {
      "text/html": [
       "<style>\n",
       ".list-inline {list-style: none; margin:0; padding: 0}\n",
       ".list-inline>li {display: inline-block}\n",
       ".list-inline>li:not(:last-child)::after {content: \"\\00b7\"; padding: 0 .5ex}\n",
       "</style>\n",
       "<ol class=list-inline><li>1</li><li>2</li><li>3</li><li>4</li><li>2</li><li>3</li><li>4</li><li>5</li></ol>\n"
      ],
      "text/latex": [
       "\\begin{enumerate*}\n",
       "\\item 1\n",
       "\\item 2\n",
       "\\item 3\n",
       "\\item 4\n",
       "\\item 2\n",
       "\\item 3\n",
       "\\item 4\n",
       "\\item 5\n",
       "\\end{enumerate*}\n"
      ],
      "text/markdown": [
       "1. 1\n",
       "2. 2\n",
       "3. 3\n",
       "4. 4\n",
       "5. 2\n",
       "6. 3\n",
       "7. 4\n",
       "8. 5\n",
       "\n",
       "\n"
      ],
      "text/plain": [
       "[1] 1 2 3 4 2 3 4 5"
      ]
     },
     "metadata": {},
     "output_type": "display_data"
    }
   ],
   "source": [
    "c1"
   ]
  },
  {
   "cell_type": "code",
   "execution_count": 124,
   "id": "e121373e-26c0-415b-af3b-bd406189c5a7",
   "metadata": {},
   "outputs": [
    {
     "data": {
      "text/html": [
       "<style>\n",
       ".list-inline {list-style: none; margin:0; padding: 0}\n",
       ".list-inline>li {display: inline-block}\n",
       ".list-inline>li:not(:last-child)::after {content: \"\\00b7\"; padding: 0 .5ex}\n",
       "</style>\n",
       "<ol class=list-inline><li>2</li><li>3</li><li>4</li><li>2</li><li>3</li><li>4</li><li>5</li></ol>\n"
      ],
      "text/latex": [
       "\\begin{enumerate*}\n",
       "\\item 2\n",
       "\\item 3\n",
       "\\item 4\n",
       "\\item 2\n",
       "\\item 3\n",
       "\\item 4\n",
       "\\item 5\n",
       "\\end{enumerate*}\n"
      ],
      "text/markdown": [
       "1. 2\n",
       "2. 3\n",
       "3. 4\n",
       "4. 2\n",
       "5. 3\n",
       "6. 4\n",
       "7. 5\n",
       "\n",
       "\n"
      ],
      "text/plain": [
       "[1] 2 3 4 2 3 4 5"
      ]
     },
     "metadata": {},
     "output_type": "display_data"
    },
    {
     "data": {
      "text/html": [
       "<style>\n",
       ".list-inline {list-style: none; margin:0; padding: 0}\n",
       ".list-inline>li {display: inline-block}\n",
       ".list-inline>li:not(:last-child)::after {content: \"\\00b7\"; padding: 0 .5ex}\n",
       "</style>\n",
       "<ol class=list-inline><li>1</li><li>3</li><li>2</li><li>3</li><li>4</li><li>5</li></ol>\n"
      ],
      "text/latex": [
       "\\begin{enumerate*}\n",
       "\\item 1\n",
       "\\item 3\n",
       "\\item 2\n",
       "\\item 3\n",
       "\\item 4\n",
       "\\item 5\n",
       "\\end{enumerate*}\n"
      ],
      "text/markdown": [
       "1. 1\n",
       "2. 3\n",
       "3. 2\n",
       "4. 3\n",
       "5. 4\n",
       "6. 5\n",
       "\n",
       "\n"
      ],
      "text/plain": [
       "[1] 1 3 2 3 4 5"
      ]
     },
     "metadata": {},
     "output_type": "display_data"
    },
    {
     "data": {
      "text/html": [
       "<style>\n",
       ".list-inline {list-style: none; margin:0; padding: 0}\n",
       ".list-inline>li {display: inline-block}\n",
       ".list-inline>li:not(:last-child)::after {content: \"\\00b7\"; padding: 0 .5ex}\n",
       "</style>\n",
       "<ol class=list-inline><li>1</li><li>3</li><li>2</li><li>3</li><li>4</li><li>5</li></ol>\n"
      ],
      "text/latex": [
       "\\begin{enumerate*}\n",
       "\\item 1\n",
       "\\item 3\n",
       "\\item 2\n",
       "\\item 3\n",
       "\\item 4\n",
       "\\item 5\n",
       "\\end{enumerate*}\n"
      ],
      "text/markdown": [
       "1. 1\n",
       "2. 3\n",
       "3. 2\n",
       "4. 3\n",
       "5. 4\n",
       "6. 5\n",
       "\n",
       "\n"
      ],
      "text/plain": [
       "[1] 1 3 2 3 4 5"
      ]
     },
     "metadata": {},
     "output_type": "display_data"
    },
    {
     "data": {
      "text/html": [
       "<style>\n",
       ".list-inline {list-style: none; margin:0; padding: 0}\n",
       ".list-inline>li {display: inline-block}\n",
       ".list-inline>li:not(:last-child)::after {content: \"\\00b7\"; padding: 0 .5ex}\n",
       "</style>\n",
       "<ol class=list-inline><li>1</li><li>2</li><li>3</li><li>4</li><li>5</li></ol>\n"
      ],
      "text/latex": [
       "\\begin{enumerate*}\n",
       "\\item 1\n",
       "\\item 2\n",
       "\\item 3\n",
       "\\item 4\n",
       "\\item 5\n",
       "\\end{enumerate*}\n"
      ],
      "text/markdown": [
       "1. 1\n",
       "2. 2\n",
       "3. 3\n",
       "4. 4\n",
       "5. 5\n",
       "\n",
       "\n"
      ],
      "text/plain": [
       "[1] 1 2 3 4 5"
      ]
     },
     "metadata": {},
     "output_type": "display_data"
    },
    {
     "data": {
      "text/html": [
       "<style>\n",
       ".list-inline {list-style: none; margin:0; padding: 0}\n",
       ".list-inline>li {display: inline-block}\n",
       ".list-inline>li:not(:last-child)::after {content: \"\\00b7\"; padding: 0 .5ex}\n",
       "</style>\n",
       "<ol class=list-inline><li>2</li><li>3</li><li>4</li><li>5</li></ol>\n"
      ],
      "text/latex": [
       "\\begin{enumerate*}\n",
       "\\item 2\n",
       "\\item 3\n",
       "\\item 4\n",
       "\\item 5\n",
       "\\end{enumerate*}\n"
      ],
      "text/markdown": [
       "1. 2\n",
       "2. 3\n",
       "3. 4\n",
       "4. 5\n",
       "\n",
       "\n"
      ],
      "text/plain": [
       "[1] 2 3 4 5"
      ]
     },
     "metadata": {},
     "output_type": "display_data"
    }
   ],
   "source": [
    "c1[-1]\n",
    "c1[-c(2,4)]\n",
    "c1[c(-2,-4)]\n",
    "c1[c(-2:-4)]\n",
    "c1[c(-4:-1)]"
   ]
  },
  {
   "cell_type": "markdown",
   "id": "f0024a63-3008-493a-8e50-6159ef38d844",
   "metadata": {},
   "source": [
    "- index를 음수값으로 지정하는 경우에는 여집합의 개념으로 해당 첨자가 제외된다. 벡터 객체를 대상으로 위 셀처럼 c1[-1]을 지정할 경우 1번째만 제외하고 나머지 모든 벡터 자료가 반환된다. "
   ]
  },
  {
   "cell_type": "markdown",
   "id": "a4c90b0c-ccad-4377-b74a-5b522945699c",
   "metadata": {},
   "source": [
    "---"
   ]
  },
  {
   "cell_type": "markdown",
   "id": "4c5ff689-fe29-4647-a1c2-099d8f8e4696",
   "metadata": {},
   "source": [
    "- Matrix : 동일한 자료형을 갖는 2차원의 배열구조를 갖는다. \n",
    "- 행과 열의 2차원 배열구조의 객체를 생성한다.\n",
    "- 동일한 타입의 데이터만 저장할 수 있다.\n",
    "- 행렬 생성 함수 : matrix(),rbind(),cbind()\n",
    "- 행렬 자료 처리 함수 :apply()"
   ]
  },
  {
   "cell_type": "code",
   "execution_count": 125,
   "id": "328e186d-14f0-4b59-ba40-d4a5ee44b8db",
   "metadata": {},
   "outputs": [
    {
     "data": {
      "text/html": [
       "<table class=\"dataframe\">\n",
       "<caption>A matrix: 5 × 1 of type int</caption>\n",
       "<tbody>\n",
       "\t<tr><td>1</td></tr>\n",
       "\t<tr><td>2</td></tr>\n",
       "\t<tr><td>3</td></tr>\n",
       "\t<tr><td>4</td></tr>\n",
       "\t<tr><td>5</td></tr>\n",
       "</tbody>\n",
       "</table>\n"
      ],
      "text/latex": [
       "A matrix: 5 × 1 of type int\n",
       "\\begin{tabular}{l}\n",
       "\t 1\\\\\n",
       "\t 2\\\\\n",
       "\t 3\\\\\n",
       "\t 4\\\\\n",
       "\t 5\\\\\n",
       "\\end{tabular}\n"
      ],
      "text/markdown": [
       "\n",
       "A matrix: 5 × 1 of type int\n",
       "\n",
       "| 1 |\n",
       "| 2 |\n",
       "| 3 |\n",
       "| 4 |\n",
       "| 5 |\n",
       "\n"
      ],
      "text/plain": [
       "     [,1]\n",
       "[1,] 1   \n",
       "[2,] 2   \n",
       "[3,] 3   \n",
       "[4,] 4   \n",
       "[5,] 5   "
      ]
     },
     "metadata": {},
     "output_type": "display_data"
    }
   ],
   "source": [
    "m=matrix(c(1:5))\n",
    "m"
   ]
  },
  {
   "cell_type": "markdown",
   "id": "f42c5af1-a618-46c8-af46-6eea4f017e11",
   "metadata": {},
   "source": [
    "- 위 셀처럼 matrix() 함수에서 c() 함수를 인수로 지정하여 matrix 객체를 생성할 수 있다. c() 함수는 `기본적으로 열을 기준`으로 객체를 만들어준다. "
   ]
  },
  {
   "cell_type": "code",
   "execution_count": 126,
   "id": "71815bb0-17be-463d-ae29-64d85fe55b96",
   "metadata": {},
   "outputs": [
    {
     "data": {
      "text/html": [
       "<table class=\"dataframe\">\n",
       "<caption>A matrix: 2 × 5 of type int</caption>\n",
       "<tbody>\n",
       "\t<tr><td>1</td><td>3</td><td>5</td><td>7</td><td> 9</td></tr>\n",
       "\t<tr><td>2</td><td>4</td><td>6</td><td>8</td><td>10</td></tr>\n",
       "</tbody>\n",
       "</table>\n"
      ],
      "text/latex": [
       "A matrix: 2 × 5 of type int\n",
       "\\begin{tabular}{lllll}\n",
       "\t 1 & 3 & 5 & 7 &  9\\\\\n",
       "\t 2 & 4 & 6 & 8 & 10\\\\\n",
       "\\end{tabular}\n"
      ],
      "text/markdown": [
       "\n",
       "A matrix: 2 × 5 of type int\n",
       "\n",
       "| 1 | 3 | 5 | 7 |  9 |\n",
       "| 2 | 4 | 6 | 8 | 10 |\n",
       "\n"
      ],
      "text/plain": [
       "     [,1] [,2] [,3] [,4] [,5]\n",
       "[1,] 1    3    5    7     9  \n",
       "[2,] 2    4    6    8    10  "
      ]
     },
     "metadata": {},
     "output_type": "display_data"
    },
    {
     "data": {
      "text/html": [
       "<table class=\"dataframe\">\n",
       "<caption>A matrix: 2 × 5 of type int</caption>\n",
       "<tbody>\n",
       "\t<tr><td>1</td><td>3</td><td>5</td><td>7</td><td> 9</td></tr>\n",
       "\t<tr><td>2</td><td>4</td><td>6</td><td>8</td><td>10</td></tr>\n",
       "</tbody>\n",
       "</table>\n"
      ],
      "text/latex": [
       "A matrix: 2 × 5 of type int\n",
       "\\begin{tabular}{lllll}\n",
       "\t 1 & 3 & 5 & 7 &  9\\\\\n",
       "\t 2 & 4 & 6 & 8 & 10\\\\\n",
       "\\end{tabular}\n"
      ],
      "text/markdown": [
       "\n",
       "A matrix: 2 × 5 of type int\n",
       "\n",
       "| 1 | 3 | 5 | 7 |  9 |\n",
       "| 2 | 4 | 6 | 8 | 10 |\n",
       "\n"
      ],
      "text/plain": [
       "     [,1] [,2] [,3] [,4] [,5]\n",
       "[1,] 1    3    5    7     9  \n",
       "[2,] 2    4    6    8    10  "
      ]
     },
     "metadata": {},
     "output_type": "display_data"
    }
   ],
   "source": [
    "m=matrix(1:10,nrow=2)\n",
    "m\n",
    "m=matrix(c(1:10),nrow=2)\n",
    "m"
   ]
  },
  {
   "cell_type": "markdown",
   "id": "aa45e078-85ae-4bfd-94eb-1581d8db5e10",
   "metadata": {},
   "source": [
    "- 이렇게 일단 열 기준임!"
   ]
  },
  {
   "cell_type": "code",
   "execution_count": 127,
   "id": "6b0cd00c-75f9-4abf-be95-56fd5ec2bd06",
   "metadata": {},
   "outputs": [
    {
     "name": "stderr",
     "output_type": "stream",
     "text": [
      "Warning message in matrix(c(1:11), nrow = 3):\n",
      "\"데이터의 길이[11]가 행의 개수[3]의 배수가 되지 않습니다\"\n"
     ]
    },
    {
     "data": {
      "text/html": [
       "<table class=\"dataframe\">\n",
       "<caption>A matrix: 3 × 4 of type int</caption>\n",
       "<tbody>\n",
       "\t<tr><td>1</td><td>4</td><td>7</td><td>10</td></tr>\n",
       "\t<tr><td>2</td><td>5</td><td>8</td><td>11</td></tr>\n",
       "\t<tr><td>3</td><td>6</td><td>9</td><td> 1</td></tr>\n",
       "</tbody>\n",
       "</table>\n"
      ],
      "text/latex": [
       "A matrix: 3 × 4 of type int\n",
       "\\begin{tabular}{llll}\n",
       "\t 1 & 4 & 7 & 10\\\\\n",
       "\t 2 & 5 & 8 & 11\\\\\n",
       "\t 3 & 6 & 9 &  1\\\\\n",
       "\\end{tabular}\n"
      ],
      "text/markdown": [
       "\n",
       "A matrix: 3 × 4 of type int\n",
       "\n",
       "| 1 | 4 | 7 | 10 |\n",
       "| 2 | 5 | 8 | 11 |\n",
       "| 3 | 6 | 9 |  1 |\n",
       "\n"
      ],
      "text/plain": [
       "     [,1] [,2] [,3] [,4]\n",
       "[1,] 1    4    7    10  \n",
       "[2,] 2    5    8    11  \n",
       "[3,] 3    6    9     1  "
      ]
     },
     "metadata": {},
     "output_type": "display_data"
    }
   ],
   "source": [
    "m=matrix(c(1:11),nrow=3)\n",
    "m"
   ]
  },
  {
   "cell_type": "markdown",
   "id": "3ad6d7b4-fe10-4f49-b954-a98fcf5c530b",
   "metadata": {},
   "source": [
    "- 자료의 개수와 행과 열이 맞아 떨어지지 않으면 알아서 broadcast하여 채워 넣음"
   ]
  },
  {
   "cell_type": "markdown",
   "id": "1f561bf9-bc92-49e5-9ae1-29dfb3a16e0f",
   "metadata": {},
   "source": [
    "- 벡터 데이터를 대상으로 행렬 객체를 생성하면 기본적으로 열 우선으로 데이터가 생성된다.\n",
    "- 행 우선으로 데이터를 생성해보자"
   ]
  },
  {
   "cell_type": "code",
   "execution_count": 128,
   "id": "156fb758-b4de-4fe3-bf6d-f01eb8986852",
   "metadata": {},
   "outputs": [
    {
     "data": {
      "text/html": [
       "<table class=\"dataframe\">\n",
       "<caption>A matrix: 2 × 5 of type int</caption>\n",
       "<tbody>\n",
       "\t<tr><td>1</td><td>2</td><td>3</td><td>4</td><td> 5</td></tr>\n",
       "\t<tr><td>6</td><td>7</td><td>8</td><td>9</td><td>10</td></tr>\n",
       "</tbody>\n",
       "</table>\n"
      ],
      "text/latex": [
       "A matrix: 2 × 5 of type int\n",
       "\\begin{tabular}{lllll}\n",
       "\t 1 & 2 & 3 & 4 &  5\\\\\n",
       "\t 6 & 7 & 8 & 9 & 10\\\\\n",
       "\\end{tabular}\n"
      ],
      "text/markdown": [
       "\n",
       "A matrix: 2 × 5 of type int\n",
       "\n",
       "| 1 | 2 | 3 | 4 |  5 |\n",
       "| 6 | 7 | 8 | 9 | 10 |\n",
       "\n"
      ],
      "text/plain": [
       "     [,1] [,2] [,3] [,4] [,5]\n",
       "[1,] 1    2    3    4     5  \n",
       "[2,] 6    7    8    9    10  "
      ]
     },
     "metadata": {},
     "output_type": "display_data"
    },
    {
     "data": {
      "text/html": [
       "<table class=\"dataframe\">\n",
       "<caption>A matrix: 2 × 5 of type int</caption>\n",
       "<tbody>\n",
       "\t<tr><td>1</td><td>2</td><td>3</td><td>4</td><td> 5</td></tr>\n",
       "\t<tr><td>6</td><td>7</td><td>8</td><td>9</td><td>10</td></tr>\n",
       "</tbody>\n",
       "</table>\n"
      ],
      "text/latex": [
       "A matrix: 2 × 5 of type int\n",
       "\\begin{tabular}{lllll}\n",
       "\t 1 & 2 & 3 & 4 &  5\\\\\n",
       "\t 6 & 7 & 8 & 9 & 10\\\\\n",
       "\\end{tabular}\n"
      ],
      "text/markdown": [
       "\n",
       "A matrix: 2 × 5 of type int\n",
       "\n",
       "| 1 | 2 | 3 | 4 |  5 |\n",
       "| 6 | 7 | 8 | 9 | 10 |\n",
       "\n"
      ],
      "text/plain": [
       "     [,1] [,2] [,3] [,4] [,5]\n",
       "[1,] 1    2    3    4     5  \n",
       "[2,] 6    7    8    9    10  "
      ]
     },
     "metadata": {},
     "output_type": "display_data"
    }
   ],
   "source": [
    "m=matrix(1:10,nrow=2,byrow = T)\n",
    "m\n",
    "m=matrix(1:10,nrow=2,byrow = TRUE)\n",
    "m"
   ]
  },
  {
   "cell_type": "markdown",
   "id": "4ffe3a76-784a-4aba-ad2d-9f88b7c4caf3",
   "metadata": {},
   "source": [
    "- 행 또는 열 묶음으로 행렬 객체 생성해보자"
   ]
  },
  {
   "cell_type": "code",
   "execution_count": 129,
   "id": "e82951de-aedf-4f7a-9f3d-f1ad4c058de4",
   "metadata": {},
   "outputs": [],
   "source": [
    "x1<-c(1,2,3,6:10)\n",
    "x2<-c(1,2,3,5:1)"
   ]
  },
  {
   "cell_type": "code",
   "execution_count": 130,
   "id": "478ff20a-9ceb-4c3b-9451-26d2ec5e070f",
   "metadata": {},
   "outputs": [
    {
     "data": {
      "text/html": [
       "<table class=\"dataframe\">\n",
       "<caption>A matrix: 2 × 8 of type dbl</caption>\n",
       "<tbody>\n",
       "\t<tr><th scope=row>x1</th><td>1</td><td>2</td><td>3</td><td>6</td><td>7</td><td>8</td><td>9</td><td>10</td></tr>\n",
       "\t<tr><th scope=row>x2</th><td>1</td><td>2</td><td>3</td><td>5</td><td>4</td><td>3</td><td>2</td><td> 1</td></tr>\n",
       "</tbody>\n",
       "</table>\n"
      ],
      "text/latex": [
       "A matrix: 2 × 8 of type dbl\n",
       "\\begin{tabular}{r|llllllll}\n",
       "\tx1 & 1 & 2 & 3 & 6 & 7 & 8 & 9 & 10\\\\\n",
       "\tx2 & 1 & 2 & 3 & 5 & 4 & 3 & 2 &  1\\\\\n",
       "\\end{tabular}\n"
      ],
      "text/markdown": [
       "\n",
       "A matrix: 2 × 8 of type dbl\n",
       "\n",
       "| x1 | 1 | 2 | 3 | 6 | 7 | 8 | 9 | 10 |\n",
       "| x2 | 1 | 2 | 3 | 5 | 4 | 3 | 2 |  1 |\n",
       "\n"
      ],
      "text/plain": [
       "   [,1] [,2] [,3] [,4] [,5] [,6] [,7] [,8]\n",
       "x1 1    2    3    6    7    8    9    10  \n",
       "x2 1    2    3    5    4    3    2     1  "
      ]
     },
     "metadata": {},
     "output_type": "display_data"
    },
    {
     "data": {
      "text/html": [
       "<table class=\"dataframe\">\n",
       "<caption>A matrix: 8 × 2 of type dbl</caption>\n",
       "<thead>\n",
       "\t<tr><th scope=col>x1</th><th scope=col>x2</th></tr>\n",
       "</thead>\n",
       "<tbody>\n",
       "\t<tr><td> 1</td><td>1</td></tr>\n",
       "\t<tr><td> 2</td><td>2</td></tr>\n",
       "\t<tr><td> 3</td><td>3</td></tr>\n",
       "\t<tr><td> 6</td><td>5</td></tr>\n",
       "\t<tr><td> 7</td><td>4</td></tr>\n",
       "\t<tr><td> 8</td><td>3</td></tr>\n",
       "\t<tr><td> 9</td><td>2</td></tr>\n",
       "\t<tr><td>10</td><td>1</td></tr>\n",
       "</tbody>\n",
       "</table>\n"
      ],
      "text/latex": [
       "A matrix: 8 × 2 of type dbl\n",
       "\\begin{tabular}{ll}\n",
       " x1 & x2\\\\\n",
       "\\hline\n",
       "\t  1 & 1\\\\\n",
       "\t  2 & 2\\\\\n",
       "\t  3 & 3\\\\\n",
       "\t  6 & 5\\\\\n",
       "\t  7 & 4\\\\\n",
       "\t  8 & 3\\\\\n",
       "\t  9 & 2\\\\\n",
       "\t 10 & 1\\\\\n",
       "\\end{tabular}\n"
      ],
      "text/markdown": [
       "\n",
       "A matrix: 8 × 2 of type dbl\n",
       "\n",
       "| x1 | x2 |\n",
       "|---|---|\n",
       "|  1 | 1 |\n",
       "|  2 | 2 |\n",
       "|  3 | 3 |\n",
       "|  6 | 5 |\n",
       "|  7 | 4 |\n",
       "|  8 | 3 |\n",
       "|  9 | 2 |\n",
       "| 10 | 1 |\n",
       "\n"
      ],
      "text/plain": [
       "     x1 x2\n",
       "[1,]  1 1 \n",
       "[2,]  2 2 \n",
       "[3,]  3 3 \n",
       "[4,]  6 5 \n",
       "[5,]  7 4 \n",
       "[6,]  8 3 \n",
       "[7,]  9 2 \n",
       "[8,] 10 1 "
      ]
     },
     "metadata": {},
     "output_type": "display_data"
    }
   ],
   "source": [
    "bond<-rbind(x1,x2)\n",
    "bond\n",
    "bond<-cbind(x1,x2)\n",
    "bond"
   ]
  },
  {
   "cell_type": "markdown",
   "id": "bcf9269f-3c8d-4a6b-84ed-196a84a3a9c4",
   "metadata": {},
   "source": [
    "- 각각 8개로 개수가 맞아서 rbind가 잘 됐음\n",
    "- 개수 안 맞으면 bind 안 됨"
   ]
  },
  {
   "cell_type": "markdown",
   "id": "4b790488-ab47-4bbe-b3ae-47c175c5e33c",
   "metadata": {},
   "source": [
    "---"
   ]
  },
  {
   "cell_type": "markdown",
   "id": "249e3abf-ce0f-4d09-877d-0b74c48464d5",
   "metadata": {},
   "source": [
    "- matrix() 함수에 직접 인수를 적용하여 행렬 객체를 생성할 수 있다. \n",
    "- matrix() 함수의 형식은 다음과 같다.\n",
    "```r\n",
    "matrix(data=NA,nrow =1, ncol=1, byrow=TRUE,dimnames=NULL)\n",
    "```"
   ]
  },
  {
   "cell_type": "code",
   "execution_count": 131,
   "id": "799064c6-28d2-4eee-af49-0b37673453df",
   "metadata": {},
   "outputs": [
    {
     "data": {
      "text/html": [
       "<table class=\"dataframe\">\n",
       "<caption>A matrix: 2 × 5 of type int</caption>\n",
       "<tbody>\n",
       "\t<tr><td>10</td><td>12</td><td>14</td><td>16</td><td>18</td></tr>\n",
       "\t<tr><td>11</td><td>13</td><td>15</td><td>17</td><td>19</td></tr>\n",
       "</tbody>\n",
       "</table>\n"
      ],
      "text/latex": [
       "A matrix: 2 × 5 of type int\n",
       "\\begin{tabular}{lllll}\n",
       "\t 10 & 12 & 14 & 16 & 18\\\\\n",
       "\t 11 & 13 & 15 & 17 & 19\\\\\n",
       "\\end{tabular}\n"
      ],
      "text/markdown": [
       "\n",
       "A matrix: 2 × 5 of type int\n",
       "\n",
       "| 10 | 12 | 14 | 16 | 18 |\n",
       "| 11 | 13 | 15 | 17 | 19 |\n",
       "\n"
      ],
      "text/plain": [
       "     [,1] [,2] [,3] [,4] [,5]\n",
       "[1,] 10   12   14   16   18  \n",
       "[2,] 11   13   15   17   19  "
      ]
     },
     "metadata": {},
     "output_type": "display_data"
    }
   ],
   "source": [
    "m3=matrix(10:19,2)\n",
    "m3"
   ]
  },
  {
   "cell_type": "code",
   "execution_count": 132,
   "id": "4d5958a0-72b2-4173-957e-54adc15f3b12",
   "metadata": {},
   "outputs": [
    {
     "data": {
      "text/html": [
       "'numeric'"
      ],
      "text/latex": [
       "'numeric'"
      ],
      "text/markdown": [
       "'numeric'"
      ],
      "text/plain": [
       "[1] \"numeric\""
      ]
     },
     "metadata": {},
     "output_type": "display_data"
    },
    {
     "data": {
      "text/html": [
       "<style>\n",
       ".list-inline {list-style: none; margin:0; padding: 0}\n",
       ".list-inline>li {display: inline-block}\n",
       ".list-inline>li:not(:last-child)::after {content: \"\\00b7\"; padding: 0 .5ex}\n",
       "</style>\n",
       "<ol class=list-inline><li>'matrix'</li><li>'array'</li></ol>\n"
      ],
      "text/latex": [
       "\\begin{enumerate*}\n",
       "\\item 'matrix'\n",
       "\\item 'array'\n",
       "\\end{enumerate*}\n"
      ],
      "text/markdown": [
       "1. 'matrix'\n",
       "2. 'array'\n",
       "\n",
       "\n"
      ],
      "text/plain": [
       "[1] \"matrix\" \"array\" "
      ]
     },
     "metadata": {},
     "output_type": "display_data"
    }
   ],
   "source": [
    "mode(m3)\n",
    "class(m3)"
   ]
  },
  {
   "cell_type": "markdown",
   "id": "34383481-5075-4ba1-bb10-b15abe23ea6a",
   "metadata": {},
   "source": [
    "- index를 이용하여 행렬 객체에 접근하기"
   ]
  },
  {
   "cell_type": "code",
   "execution_count": 133,
   "id": "3582e4c8-20f6-4f34-bc0a-f8f7feae1d9e",
   "metadata": {},
   "outputs": [
    {
     "data": {
      "text/html": [
       "<style>\n",
       ".list-inline {list-style: none; margin:0; padding: 0}\n",
       ".list-inline>li {display: inline-block}\n",
       ".list-inline>li:not(:last-child)::after {content: \"\\00b7\"; padding: 0 .5ex}\n",
       "</style>\n",
       "<ol class=list-inline><li>10</li><li>12</li><li>14</li><li>16</li><li>18</li></ol>\n"
      ],
      "text/latex": [
       "\\begin{enumerate*}\n",
       "\\item 10\n",
       "\\item 12\n",
       "\\item 14\n",
       "\\item 16\n",
       "\\item 18\n",
       "\\end{enumerate*}\n"
      ],
      "text/markdown": [
       "1. 10\n",
       "2. 12\n",
       "3. 14\n",
       "4. 16\n",
       "5. 18\n",
       "\n",
       "\n"
      ],
      "text/plain": [
       "[1] 10 12 14 16 18"
      ]
     },
     "metadata": {},
     "output_type": "display_data"
    },
    {
     "data": {
      "text/html": [
       "<style>\n",
       ".list-inline {list-style: none; margin:0; padding: 0}\n",
       ".list-inline>li {display: inline-block}\n",
       ".list-inline>li:not(:last-child)::after {content: \"\\00b7\"; padding: 0 .5ex}\n",
       "</style>\n",
       "<ol class=list-inline><li>14</li><li>15</li></ol>\n"
      ],
      "text/latex": [
       "\\begin{enumerate*}\n",
       "\\item 14\n",
       "\\item 15\n",
       "\\end{enumerate*}\n"
      ],
      "text/markdown": [
       "1. 14\n",
       "2. 15\n",
       "\n",
       "\n"
      ],
      "text/plain": [
       "[1] 14 15"
      ]
     },
     "metadata": {},
     "output_type": "display_data"
    },
    {
     "data": {
      "text/html": [
       "14"
      ],
      "text/latex": [
       "14"
      ],
      "text/markdown": [
       "14"
      ],
      "text/plain": [
       "[1] 14"
      ]
     },
     "metadata": {},
     "output_type": "display_data"
    },
    {
     "data": {
      "text/html": [
       "<style>\n",
       ".list-inline {list-style: none; margin:0; padding: 0}\n",
       ".list-inline>li {display: inline-block}\n",
       ".list-inline>li:not(:last-child)::after {content: \"\\00b7\"; padding: 0 .5ex}\n",
       "</style>\n",
       "<ol class=list-inline><li>12</li><li>14</li><li>16</li></ol>\n"
      ],
      "text/latex": [
       "\\begin{enumerate*}\n",
       "\\item 12\n",
       "\\item 14\n",
       "\\item 16\n",
       "\\end{enumerate*}\n"
      ],
      "text/markdown": [
       "1. 12\n",
       "2. 14\n",
       "3. 16\n",
       "\n",
       "\n"
      ],
      "text/plain": [
       "[1] 12 14 16"
      ]
     },
     "metadata": {},
     "output_type": "display_data"
    }
   ],
   "source": [
    "m3[1,] # 1행\n",
    "m3[,3] # 3열\n",
    "m3[1,3] # 1행 3열\n",
    "m3[1,2:4]"
   ]
  },
  {
   "cell_type": "code",
   "execution_count": 134,
   "id": "488db4c6-4de3-4117-90b5-04b7d6962d36",
   "metadata": {},
   "outputs": [
    {
     "data": {
      "text/html": [
       "<table class=\"dataframe\">\n",
       "<caption>A matrix: 3 × 3 of type int</caption>\n",
       "<tbody>\n",
       "\t<tr><td>1</td><td>2</td><td>3</td></tr>\n",
       "\t<tr><td>4</td><td>5</td><td>6</td></tr>\n",
       "\t<tr><td>7</td><td>8</td><td>9</td></tr>\n",
       "</tbody>\n",
       "</table>\n"
      ],
      "text/latex": [
       "A matrix: 3 × 3 of type int\n",
       "\\begin{tabular}{lll}\n",
       "\t 1 & 2 & 3\\\\\n",
       "\t 4 & 5 & 6\\\\\n",
       "\t 7 & 8 & 9\\\\\n",
       "\\end{tabular}\n"
      ],
      "text/markdown": [
       "\n",
       "A matrix: 3 × 3 of type int\n",
       "\n",
       "| 1 | 2 | 3 |\n",
       "| 4 | 5 | 6 |\n",
       "| 7 | 8 | 9 |\n",
       "\n"
      ],
      "text/plain": [
       "     [,1] [,2] [,3]\n",
       "[1,] 1    2    3   \n",
       "[2,] 4    5    6   \n",
       "[3,] 7    8    9   "
      ]
     },
     "metadata": {},
     "output_type": "display_data"
    }
   ],
   "source": [
    "matrix(1:9,nrow=3,byrow=T)"
   ]
  },
  {
   "cell_type": "markdown",
   "id": "9ff6f3ee-b611-474d-9988-6b2e629845f9",
   "metadata": {},
   "source": [
    "- 행렬 객체 자료 처리 함수"
   ]
  },
  {
   "cell_type": "code",
   "execution_count": 135,
   "id": "40b3324b-106c-4d9a-8be3-1a72dfe2d6bb",
   "metadata": {},
   "outputs": [
    {
     "data": {
      "text/html": [
       "10"
      ],
      "text/latex": [
       "10"
      ],
      "text/markdown": [
       "10"
      ],
      "text/plain": [
       "[1] 10"
      ]
     },
     "metadata": {},
     "output_type": "display_data"
    },
    {
     "data": {
      "text/html": [
       "5"
      ],
      "text/latex": [
       "5"
      ],
      "text/markdown": [
       "5"
      ],
      "text/plain": [
       "[1] 5"
      ]
     },
     "metadata": {},
     "output_type": "display_data"
    },
    {
     "data": {
      "text/html": [
       "2"
      ],
      "text/latex": [
       "2"
      ],
      "text/markdown": [
       "2"
      ],
      "text/plain": [
       "[1] 2"
      ]
     },
     "metadata": {},
     "output_type": "display_data"
    }
   ],
   "source": [
    "length(m3)\n",
    "# 원소 개수\n",
    "ncol(m3)\n",
    "# 열 개수\n",
    "nrow(m3)\n",
    "# 행 개수"
   ]
  },
  {
   "cell_type": "markdown",
   "id": "4b96d8ad-d003-4d6f-b8a5-bdd55946cd88",
   "metadata": {},
   "source": [
    "- apply() 함수는 행렬 구조의 자료를 처리하는 데 유용한 함수이다.\n",
    "- 함수 사용법 : apply(행렬객체, 1:행 or 2:열, 행렬 자료에 적용할 함수)"
   ]
  },
  {
   "cell_type": "code",
   "execution_count": 136,
   "id": "7ec5735a-477a-467c-bb40-209440589030",
   "metadata": {},
   "outputs": [
    {
     "data": {
      "text/html": [
       "<table class=\"dataframe\">\n",
       "<caption>A matrix: 2 × 5 of type int</caption>\n",
       "<tbody>\n",
       "\t<tr><td>10</td><td>12</td><td>14</td><td>16</td><td>18</td></tr>\n",
       "\t<tr><td>11</td><td>13</td><td>15</td><td>17</td><td>19</td></tr>\n",
       "</tbody>\n",
       "</table>\n"
      ],
      "text/latex": [
       "A matrix: 2 × 5 of type int\n",
       "\\begin{tabular}{lllll}\n",
       "\t 10 & 12 & 14 & 16 & 18\\\\\n",
       "\t 11 & 13 & 15 & 17 & 19\\\\\n",
       "\\end{tabular}\n"
      ],
      "text/markdown": [
       "\n",
       "A matrix: 2 × 5 of type int\n",
       "\n",
       "| 10 | 12 | 14 | 16 | 18 |\n",
       "| 11 | 13 | 15 | 17 | 19 |\n",
       "\n"
      ],
      "text/plain": [
       "     [,1] [,2] [,3] [,4] [,5]\n",
       "[1,] 10   12   14   16   18  \n",
       "[2,] 11   13   15   17   19  "
      ]
     },
     "metadata": {},
     "output_type": "display_data"
    }
   ],
   "source": [
    "m3"
   ]
  },
  {
   "cell_type": "code",
   "execution_count": 137,
   "id": "bc0b4073-aec6-496d-a22d-bfe2a11de98c",
   "metadata": {},
   "outputs": [
    {
     "data": {
      "text/html": [
       "<style>\n",
       ".list-inline {list-style: none; margin:0; padding: 0}\n",
       ".list-inline>li {display: inline-block}\n",
       ".list-inline>li:not(:last-child)::after {content: \"\\00b7\"; padding: 0 .5ex}\n",
       "</style>\n",
       "<ol class=list-inline><li>18</li><li>19</li></ol>\n"
      ],
      "text/latex": [
       "\\begin{enumerate*}\n",
       "\\item 18\n",
       "\\item 19\n",
       "\\end{enumerate*}\n"
      ],
      "text/markdown": [
       "1. 18\n",
       "2. 19\n",
       "\n",
       "\n"
      ],
      "text/plain": [
       "[1] 18 19"
      ]
     },
     "metadata": {},
     "output_type": "display_data"
    },
    {
     "data": {
      "text/html": [
       "<style>\n",
       ".list-inline {list-style: none; margin:0; padding: 0}\n",
       ".list-inline>li {display: inline-block}\n",
       ".list-inline>li:not(:last-child)::after {content: \"\\00b7\"; padding: 0 .5ex}\n",
       "</style>\n",
       "<ol class=list-inline><li>11</li><li>13</li><li>15</li><li>17</li><li>19</li></ol>\n"
      ],
      "text/latex": [
       "\\begin{enumerate*}\n",
       "\\item 11\n",
       "\\item 13\n",
       "\\item 15\n",
       "\\item 17\n",
       "\\item 19\n",
       "\\end{enumerate*}\n"
      ],
      "text/markdown": [
       "1. 11\n",
       "2. 13\n",
       "3. 15\n",
       "4. 17\n",
       "5. 19\n",
       "\n",
       "\n"
      ],
      "text/plain": [
       "[1] 11 13 15 17 19"
      ]
     },
     "metadata": {},
     "output_type": "display_data"
    },
    {
     "data": {
      "text/html": [
       "<style>\n",
       ".list-inline {list-style: none; margin:0; padding: 0}\n",
       ".list-inline>li {display: inline-block}\n",
       ".list-inline>li:not(:last-child)::after {content: \"\\00b7\"; padding: 0 .5ex}\n",
       "</style>\n",
       "<ol class=list-inline><li>14</li><li>15</li></ol>\n"
      ],
      "text/latex": [
       "\\begin{enumerate*}\n",
       "\\item 14\n",
       "\\item 15\n",
       "\\end{enumerate*}\n"
      ],
      "text/markdown": [
       "1. 14\n",
       "2. 15\n",
       "\n",
       "\n"
      ],
      "text/plain": [
       "[1] 14 15"
      ]
     },
     "metadata": {},
     "output_type": "display_data"
    }
   ],
   "source": [
    "apply(m3,1,max)\n",
    "apply(m3,2,max)\n",
    "apply(m3,1,mean)"
   ]
  },
  {
   "cell_type": "markdown",
   "id": "b7ae695c-3fe3-455b-808d-02250fc683fe",
   "metadata": {},
   "source": [
    "- 당연히 사용자 정의 함수도 apply()에 사용할 수 있을 것이다."
   ]
  },
  {
   "cell_type": "markdown",
   "id": "7174dfd3-263d-46b2-9bb1-b2c8f6e043be",
   "metadata": {},
   "source": [
    "- 이건 파이썬에서 함수 정의하는 방법이고\n",
    "```python\n",
    "def f(x):\n",
    "    return(x+2)\n",
    "```\n",
    "- 이건 R에서 함수 정의하는 방법\n",
    "```R\n",
    "f <- function(x){\n",
    "    x*c(1,2,3)}\n",
    "```"
   ]
  },
  {
   "cell_type": "code",
   "execution_count": 138,
   "id": "af72dee3-af93-4585-bb68-85c4ec8b3130",
   "metadata": {},
   "outputs": [],
   "source": [
    "f <- function(x){\n",
    "    x*3}"
   ]
  },
  {
   "cell_type": "code",
   "execution_count": 139,
   "id": "a6520fdb-2c7b-46b2-bf4f-7fd09a0a2602",
   "metadata": {},
   "outputs": [
    {
     "data": {
      "text/html": [
       "<table class=\"dataframe\">\n",
       "<caption>A matrix: 2 × 5 of type int</caption>\n",
       "<tbody>\n",
       "\t<tr><td>10</td><td>12</td><td>14</td><td>16</td><td>18</td></tr>\n",
       "\t<tr><td>11</td><td>13</td><td>15</td><td>17</td><td>19</td></tr>\n",
       "</tbody>\n",
       "</table>\n"
      ],
      "text/latex": [
       "A matrix: 2 × 5 of type int\n",
       "\\begin{tabular}{lllll}\n",
       "\t 10 & 12 & 14 & 16 & 18\\\\\n",
       "\t 11 & 13 & 15 & 17 & 19\\\\\n",
       "\\end{tabular}\n"
      ],
      "text/markdown": [
       "\n",
       "A matrix: 2 × 5 of type int\n",
       "\n",
       "| 10 | 12 | 14 | 16 | 18 |\n",
       "| 11 | 13 | 15 | 17 | 19 |\n",
       "\n"
      ],
      "text/plain": [
       "     [,1] [,2] [,3] [,4] [,5]\n",
       "[1,] 10   12   14   16   18  \n",
       "[2,] 11   13   15   17   19  "
      ]
     },
     "metadata": {},
     "output_type": "display_data"
    }
   ],
   "source": [
    "m3"
   ]
  },
  {
   "cell_type": "code",
   "execution_count": 140,
   "id": "7fe7cf04-917f-47d8-999f-cd4181c0ee4b",
   "metadata": {},
   "outputs": [
    {
     "data": {
      "text/html": [
       "<table class=\"dataframe\">\n",
       "<caption>A matrix: 5 × 2 of type dbl</caption>\n",
       "<tbody>\n",
       "\t<tr><td>30</td><td>33</td></tr>\n",
       "\t<tr><td>36</td><td>39</td></tr>\n",
       "\t<tr><td>42</td><td>45</td></tr>\n",
       "\t<tr><td>48</td><td>51</td></tr>\n",
       "\t<tr><td>54</td><td>57</td></tr>\n",
       "</tbody>\n",
       "</table>\n"
      ],
      "text/latex": [
       "A matrix: 5 × 2 of type dbl\n",
       "\\begin{tabular}{ll}\n",
       "\t 30 & 33\\\\\n",
       "\t 36 & 39\\\\\n",
       "\t 42 & 45\\\\\n",
       "\t 48 & 51\\\\\n",
       "\t 54 & 57\\\\\n",
       "\\end{tabular}\n"
      ],
      "text/markdown": [
       "\n",
       "A matrix: 5 × 2 of type dbl\n",
       "\n",
       "| 30 | 33 |\n",
       "| 36 | 39 |\n",
       "| 42 | 45 |\n",
       "| 48 | 51 |\n",
       "| 54 | 57 |\n",
       "\n"
      ],
      "text/plain": [
       "     [,1] [,2]\n",
       "[1,] 30   33  \n",
       "[2,] 36   39  \n",
       "[3,] 42   45  \n",
       "[4,] 48   51  \n",
       "[5,] 54   57  "
      ]
     },
     "metadata": {},
     "output_type": "display_data"
    }
   ],
   "source": [
    "apply(m3,1,f)\n",
    "# 행 우선 순위로 f함수 적용\n",
    "# 벡터 데이터 연산할 때 열 단위로 결과 출력\n",
    "# 벡터 자료와 연산하면 기본적으로 열 우선 순서로 출력된다.\n",
    "# 이러한 행렬 구조를 전치행렬이라고 한다."
   ]
  },
  {
   "cell_type": "code",
   "execution_count": 141,
   "id": "fab55af6-049b-4333-a6b5-441d2c273c60",
   "metadata": {},
   "outputs": [
    {
     "data": {
      "text/html": [
       "<table class=\"dataframe\">\n",
       "<caption>A matrix: 2 × 5 of type dbl</caption>\n",
       "<tbody>\n",
       "\t<tr><td>30</td><td>36</td><td>42</td><td>48</td><td>54</td></tr>\n",
       "\t<tr><td>33</td><td>39</td><td>45</td><td>51</td><td>57</td></tr>\n",
       "</tbody>\n",
       "</table>\n"
      ],
      "text/latex": [
       "A matrix: 2 × 5 of type dbl\n",
       "\\begin{tabular}{lllll}\n",
       "\t 30 & 36 & 42 & 48 & 54\\\\\n",
       "\t 33 & 39 & 45 & 51 & 57\\\\\n",
       "\\end{tabular}\n"
      ],
      "text/markdown": [
       "\n",
       "A matrix: 2 × 5 of type dbl\n",
       "\n",
       "| 30 | 36 | 42 | 48 | 54 |\n",
       "| 33 | 39 | 45 | 51 | 57 |\n",
       "\n"
      ],
      "text/plain": [
       "     [,1] [,2] [,3] [,4] [,5]\n",
       "[1,] 30   36   42   48   54  \n",
       "[2,] 33   39   45   51   57  "
      ]
     },
     "metadata": {},
     "output_type": "display_data"
    }
   ],
   "source": [
    "apply(m3,2,f)"
   ]
  },
  {
   "cell_type": "markdown",
   "id": "7a47053f-64e9-47d3-ae15-ef8c6ceecacd",
   "metadata": {},
   "source": [
    "---"
   ]
  },
  {
   "cell_type": "markdown",
   "id": "33efa64b-d71b-4d67-9554-300751426513",
   "metadata": {},
   "source": [
    "- 벡터 객체 에서 이름 지정하기"
   ]
  },
  {
   "cell_type": "code",
   "execution_count": 142,
   "id": "4d215049-d0aa-4dfc-997a-c44c3f2c191c",
   "metadata": {},
   "outputs": [
    {
     "data": {
      "text/html": [
       "<style>\n",
       ".list-inline {list-style: none; margin:0; padding: 0}\n",
       ".list-inline>li {display: inline-block}\n",
       ".list-inline>li:not(:last-child)::after {content: \"\\00b7\"; padding: 0 .5ex}\n",
       "</style>\n",
       "<ol class=list-inline><li>30</li><li>40</li><li>50</li></ol>\n"
      ],
      "text/latex": [
       "\\begin{enumerate*}\n",
       "\\item 30\n",
       "\\item 40\n",
       "\\item 50\n",
       "\\end{enumerate*}\n"
      ],
      "text/markdown": [
       "1. 30\n",
       "2. 40\n",
       "3. 50\n",
       "\n",
       "\n"
      ],
      "text/plain": [
       "[1] 30 40 50"
      ]
     },
     "metadata": {},
     "output_type": "display_data"
    },
    {
     "data": {
      "text/html": [
       "<style>\n",
       ".dl-inline {width: auto; margin:0; padding: 0}\n",
       ".dl-inline>dt, .dl-inline>dd {float: none; width: auto; display: inline-block}\n",
       ".dl-inline>dt::after {content: \":\\0020\"; padding-right: .5ex}\n",
       ".dl-inline>dt:not(:first-of-type) {padding-left: .5ex}\n",
       "</style><dl class=dl-inline><dt>곽도성의 나이</dt><dd>30</dd><dt>곽도성2의 나이</dt><dd>40</dd><dt>곽도성3의 나이</dt><dd>50</dd></dl>\n"
      ],
      "text/latex": [
       "\\begin{description*}\n",
       "\\item[곽도성의 나이] 30\n",
       "\\item[곽도성2의 나이] 40\n",
       "\\item[곽도성3의 나이] 50\n",
       "\\end{description*}\n"
      ],
      "text/markdown": [
       "곽도성의 나이\n",
       ":   30곽도성2의 나이\n",
       ":   40곽도성3의 나이\n",
       ":   50\n",
       "\n"
      ],
      "text/plain": [
       " 곽도성의 나이 곽도성2의 나이 곽도성3의 나이 \n",
       "            30             40             50 "
      ]
     },
     "metadata": {},
     "output_type": "display_data"
    }
   ],
   "source": [
    "age=c(30,40,50)\n",
    "age\n",
    "names(age)=c('곽도성의 나이','곽도성2의 나이','곽도성3의 나이')\n",
    "age"
   ]
  },
  {
   "cell_type": "markdown",
   "id": "debe3b55-3467-4c60-a1dd-2d6763542c98",
   "metadata": {},
   "source": [
    "- 행렬 객체에서 이름 지정하기"
   ]
  },
  {
   "cell_type": "code",
   "execution_count": 143,
   "id": "d4e672cf-c787-4d20-9093-0515585c1bd5",
   "metadata": {},
   "outputs": [
    {
     "data": {
      "text/html": [
       "<table class=\"dataframe\">\n",
       "<caption>A matrix: 2 × 5 of type int</caption>\n",
       "<tbody>\n",
       "\t<tr><td>10</td><td>12</td><td>14</td><td>16</td><td>18</td></tr>\n",
       "\t<tr><td>11</td><td>13</td><td>15</td><td>17</td><td>19</td></tr>\n",
       "</tbody>\n",
       "</table>\n"
      ],
      "text/latex": [
       "A matrix: 2 × 5 of type int\n",
       "\\begin{tabular}{lllll}\n",
       "\t 10 & 12 & 14 & 16 & 18\\\\\n",
       "\t 11 & 13 & 15 & 17 & 19\\\\\n",
       "\\end{tabular}\n"
      ],
      "text/markdown": [
       "\n",
       "A matrix: 2 × 5 of type int\n",
       "\n",
       "| 10 | 12 | 14 | 16 | 18 |\n",
       "| 11 | 13 | 15 | 17 | 19 |\n",
       "\n"
      ],
      "text/plain": [
       "     [,1] [,2] [,3] [,4] [,5]\n",
       "[1,] 10   12   14   16   18  \n",
       "[2,] 11   13   15   17   19  "
      ]
     },
     "metadata": {},
     "output_type": "display_data"
    }
   ],
   "source": [
    "m3"
   ]
  },
  {
   "cell_type": "code",
   "execution_count": 144,
   "id": "388e47b0-9651-47f0-88b8-d46fc11f8e7f",
   "metadata": {},
   "outputs": [
    {
     "data": {
      "text/html": [
       "<table class=\"dataframe\">\n",
       "<caption>A matrix: 2 × 5 of type int</caption>\n",
       "<thead>\n",
       "\t<tr><th scope=col>12</th><th scope=col>3</th><th scope=col>4</th><th scope=col>5</th><th scope=col>5</th></tr>\n",
       "</thead>\n",
       "<tbody>\n",
       "\t<tr><td>10</td><td>12</td><td>14</td><td>16</td><td>18</td></tr>\n",
       "\t<tr><td>11</td><td>13</td><td>15</td><td>17</td><td>19</td></tr>\n",
       "</tbody>\n",
       "</table>\n"
      ],
      "text/latex": [
       "A matrix: 2 × 5 of type int\n",
       "\\begin{tabular}{lllll}\n",
       " 12 & 3 & 4 & 5 & 5\\\\\n",
       "\\hline\n",
       "\t 10 & 12 & 14 & 16 & 18\\\\\n",
       "\t 11 & 13 & 15 & 17 & 19\\\\\n",
       "\\end{tabular}\n"
      ],
      "text/markdown": [
       "\n",
       "A matrix: 2 × 5 of type int\n",
       "\n",
       "| 12 | 3 | 4 | 5 | 5 |\n",
       "|---|---|---|---|---|\n",
       "| 10 | 12 | 14 | 16 | 18 |\n",
       "| 11 | 13 | 15 | 17 | 19 |\n",
       "\n"
      ],
      "text/plain": [
       "     12 3  4  5  5 \n",
       "[1,] 10 12 14 16 18\n",
       "[2,] 11 13 15 17 19"
      ]
     },
     "metadata": {},
     "output_type": "display_data"
    }
   ],
   "source": [
    "colnames(m3)=c(12,3,4,5,5)\n",
    "m3"
   ]
  },
  {
   "cell_type": "markdown",
   "id": "f6b0640f-a56e-4558-9abb-6b6270e1ff9a",
   "metadata": {},
   "source": [
    "---"
   ]
  },
  {
   "cell_type": "markdown",
   "id": "6a993188-811c-4931-b8ac-fb72b5160a96",
   "metadata": {},
   "source": [
    "- Array 자료구조 : 같은 자료형을 갖는 다차원 배열구조를 갖는다.\n",
    "- 행, 열, 면의 3차원 배열 형태의 객체를 생성한다.\n",
    "- 다른 자료구조에 비해서 상대적으로 활용도가 낮다.\n",
    "- 배열 생성 함수 : array()                <*apply()와 혼동 주의>"
   ]
  },
  {
   "cell_type": "code",
   "execution_count": 155,
   "id": "0303846f-1161-4b89-ba08-f9c000ceb005",
   "metadata": {},
   "outputs": [
    {
     "data": {
      "text/html": [
       "<style>\n",
       ".list-inline {list-style: none; margin:0; padding: 0}\n",
       ".list-inline>li {display: inline-block}\n",
       ".list-inline>li:not(:last-child)::after {content: \"\\00b7\"; padding: 0 .5ex}\n",
       "</style>\n",
       "<ol class=list-inline><li>1</li><li>2</li><li>3</li><li>4</li><li>5</li><li>6</li><li>7</li><li>8</li><li>9</li><li>10</li><li>11</li><li>12</li></ol>\n"
      ],
      "text/latex": [
       "\\begin{enumerate*}\n",
       "\\item 1\n",
       "\\item 2\n",
       "\\item 3\n",
       "\\item 4\n",
       "\\item 5\n",
       "\\item 6\n",
       "\\item 7\n",
       "\\item 8\n",
       "\\item 9\n",
       "\\item 10\n",
       "\\item 11\n",
       "\\item 12\n",
       "\\end{enumerate*}\n"
      ],
      "text/markdown": [
       "1. 1\n",
       "2. 2\n",
       "3. 3\n",
       "4. 4\n",
       "5. 5\n",
       "6. 6\n",
       "7. 7\n",
       "8. 8\n",
       "9. 9\n",
       "10. 10\n",
       "11. 11\n",
       "12. 12\n",
       "\n",
       "\n"
      ],
      "text/plain": [
       ", , 1\n",
       "\n",
       "     [,1] [,2]\n",
       "[1,]    1    4\n",
       "[2,]    2    5\n",
       "[3,]    3    6\n",
       "\n",
       ", , 2\n",
       "\n",
       "     [,1] [,2]\n",
       "[1,]    7   10\n",
       "[2,]    8   11\n",
       "[3,]    9   12\n"
      ]
     },
     "metadata": {},
     "output_type": "display_data"
    }
   ],
   "source": [
    "vec=c(1:12)\n",
    "arr <- array(vec,c(3,2,2))\n",
    "arr\n",
    "# 3행 2열 2면 생성"
   ]
  },
  {
   "cell_type": "code",
   "execution_count": 157,
   "id": "0b0d36da-984d-44ab-bd10-17814b05e98e",
   "metadata": {},
   "outputs": [
    {
     "data": {
      "text/html": [
       "<table class=\"dataframe\">\n",
       "<caption>A matrix: 3 × 2 of type int</caption>\n",
       "<tbody>\n",
       "\t<tr><td>1</td><td>4</td></tr>\n",
       "\t<tr><td>2</td><td>5</td></tr>\n",
       "\t<tr><td>3</td><td>6</td></tr>\n",
       "</tbody>\n",
       "</table>\n"
      ],
      "text/latex": [
       "A matrix: 3 × 2 of type int\n",
       "\\begin{tabular}{ll}\n",
       "\t 1 & 4\\\\\n",
       "\t 2 & 5\\\\\n",
       "\t 3 & 6\\\\\n",
       "\\end{tabular}\n"
      ],
      "text/markdown": [
       "\n",
       "A matrix: 3 × 2 of type int\n",
       "\n",
       "| 1 | 4 |\n",
       "| 2 | 5 |\n",
       "| 3 | 6 |\n",
       "\n"
      ],
      "text/plain": [
       "     [,1] [,2]\n",
       "[1,] 1    4   \n",
       "[2,] 2    5   \n",
       "[3,] 3    6   "
      ]
     },
     "metadata": {},
     "output_type": "display_data"
    },
    {
     "data": {
      "text/html": [
       "<table class=\"dataframe\">\n",
       "<caption>A matrix: 3 × 2 of type int</caption>\n",
       "<tbody>\n",
       "\t<tr><td>7</td><td>10</td></tr>\n",
       "\t<tr><td>8</td><td>11</td></tr>\n",
       "\t<tr><td>9</td><td>12</td></tr>\n",
       "</tbody>\n",
       "</table>\n"
      ],
      "text/latex": [
       "A matrix: 3 × 2 of type int\n",
       "\\begin{tabular}{ll}\n",
       "\t 7 & 10\\\\\n",
       "\t 8 & 11\\\\\n",
       "\t 9 & 12\\\\\n",
       "\\end{tabular}\n"
      ],
      "text/markdown": [
       "\n",
       "A matrix: 3 × 2 of type int\n",
       "\n",
       "| 7 | 10 |\n",
       "| 8 | 11 |\n",
       "| 9 | 12 |\n",
       "\n"
      ],
      "text/plain": [
       "     [,1] [,2]\n",
       "[1,] 7    10  \n",
       "[2,] 8    11  \n",
       "[3,] 9    12  "
      ]
     },
     "metadata": {},
     "output_type": "display_data"
    }
   ],
   "source": [
    "arr[,,1]\n",
    "# 1면 조회\n",
    "arr[,,2]\n",
    "# 2먼 조회"
   ]
  },
  {
   "cell_type": "code",
   "execution_count": 159,
   "id": "e89fd120-8651-47a6-bb60-e75a578c68e4",
   "metadata": {},
   "outputs": [
    {
     "data": {
      "text/html": [
       "'numeric'"
      ],
      "text/latex": [
       "'numeric'"
      ],
      "text/markdown": [
       "'numeric'"
      ],
      "text/plain": [
       "[1] \"numeric\""
      ]
     },
     "metadata": {},
     "output_type": "display_data"
    },
    {
     "data": {
      "text/html": [
       "'array'"
      ],
      "text/latex": [
       "'array'"
      ],
      "text/markdown": [
       "'array'"
      ],
      "text/plain": [
       "[1] \"array\""
      ]
     },
     "metadata": {},
     "output_type": "display_data"
    }
   ],
   "source": [
    "mode(arr)\n",
    "class(arr)"
   ]
  },
  {
   "cell_type": "markdown",
   "id": "58b24e9f-1345-4c0d-ac8f-7b0ad6b60c2f",
   "metadata": {},
   "source": [
    "---"
   ]
  },
  {
   "cell_type": "markdown",
   "id": "42bc6b0c-bd8e-4641-9d8d-497555bc8329",
   "metadata": {},
   "source": [
    "- DataFrame 자료구조 : R에서 가장 많이 활용\n",
    "  - 데이터 베이스의 테이블 구조와 유사하다.\n",
    "  - `칼럼 단위로 서로 다른 데이터의 저장이 가능`\n",
    "  - 리스트와 벡터의 혼합형으로 칼럼은 리스트, 칼럼 내의 데이터는 벡터 자료 구조를 갖는다.\n",
    "  - 데이터프레임 생성함수 : data.frame(),read.table(), read.csv()\n",
    "  - 데이터프레임 자료 처리 함수 : str(), ncol(), nrow(), apply(), summary(), subset()"
   ]
  },
  {
   "cell_type": "markdown",
   "id": "5e3cf66b-9e7a-441f-adc3-f9291b803e07",
   "metadata": {},
   "source": [
    "- 데이터 프레임은 열 단위로 서로 다른 자료형을 포함할 수 있어서 벡터와 행렬을 이용하여 데이터 프레임 객체를 생성할 수 있다.\n",
    "- 기존의 데이터 파일을 불러와서 데이터 프레임 객체를 생성할 수도 있다.\n",
    "- 사용법 : data.frame(칼럼1=자료, 칼럼2=자료, ...)"
   ]
  },
  {
   "cell_type": "markdown",
   "id": "09582566-b894-4581-bfc6-065287ab0176",
   "metadata": {},
   "source": [
    "> 벡터를 이용한 데이터 프레임 객체 생성"
   ]
  },
  {
   "cell_type": "code",
   "execution_count": 172,
   "id": "b9acb234-a498-4903-b6ff-6d9535f3d5c1",
   "metadata": {},
   "outputs": [
    {
     "data": {
      "text/html": [
       "<table class=\"dataframe\">\n",
       "<caption>A data.frame: 3 × 3</caption>\n",
       "<thead>\n",
       "\t<tr><th scope=col>칼럼1</th><th scope=col>칼럼2</th><th scope=col>칼럼3</th></tr>\n",
       "\t<tr><th scope=col>&lt;int&gt;</th><th scope=col>&lt;chr&gt;</th><th scope=col>&lt;dbl&gt;</th></tr>\n",
       "</thead>\n",
       "<tbody>\n",
       "\t<tr><td>1</td><td>k</td><td>150</td></tr>\n",
       "\t<tr><td>2</td><td>b</td><td>200</td></tr>\n",
       "\t<tr><td>3</td><td>s</td><td>300</td></tr>\n",
       "</tbody>\n",
       "</table>\n"
      ],
      "text/latex": [
       "A data.frame: 3 × 3\n",
       "\\begin{tabular}{lll}\n",
       " 칼럼1 & 칼럼2 & 칼럼3\\\\\n",
       " <int> & <chr> & <dbl>\\\\\n",
       "\\hline\n",
       "\t 1 & k & 150\\\\\n",
       "\t 2 & b & 200\\\\\n",
       "\t 3 & s & 300\\\\\n",
       "\\end{tabular}\n"
      ],
      "text/markdown": [
       "\n",
       "A data.frame: 3 × 3\n",
       "\n",
       "| 칼럼1 &lt;int&gt; | 칼럼2 &lt;chr&gt; | 칼럼3 &lt;dbl&gt; |\n",
       "|---|---|---|\n",
       "| 1 | k | 150 |\n",
       "| 2 | b | 200 |\n",
       "| 3 | s | 300 |\n",
       "\n"
      ],
      "text/plain": [
       "  칼럼1 칼럼2 칼럼3\n",
       "1 1     k     150  \n",
       "2 2     b     200  \n",
       "3 3     s     300  "
      ]
     },
     "metadata": {},
     "output_type": "display_data"
    }
   ],
   "source": [
    "no <- c(1:3)\n",
    "name <- c('k','b','s')\n",
    "pay <- c(150, 200, 300)\n",
    "vemp <- data.frame(칼럼1 = no, 칼럼2 = name, 칼럼3 = pay)\n",
    "vemp"
   ]
  },
  {
   "cell_type": "code",
   "execution_count": 176,
   "id": "6a962576-ab1a-45a5-bc3a-988005f8e21e",
   "metadata": {},
   "outputs": [
    {
     "data": {
      "text/html": [
       "1"
      ],
      "text/latex": [
       "1"
      ],
      "text/markdown": [
       "1"
      ],
      "text/plain": [
       "[1] 1"
      ]
     },
     "metadata": {},
     "output_type": "display_data"
    }
   ],
   "source": [
    "vemp[1,1]"
   ]
  },
  {
   "cell_type": "markdown",
   "id": "9e902b06-0294-4d7c-a014-d0f0ca7e0b87",
   "metadata": {},
   "source": [
    "- 여러 개의 벡터 객체를 이용하여 데이터 프레임을 생성할 수 있다.\n",
    "- 이때 각 벡터 객체의 칼럼 길이는 동일해야한다. "
   ]
  },
  {
   "cell_type": "markdown",
   "id": "111e59d6-fa66-490c-ab46-b1f65aaf7dd8",
   "metadata": {},
   "source": [
    "> 매트릭스를 이용한 데이터프레임 객체 생성"
   ]
  },
  {
   "cell_type": "code",
   "execution_count": 182,
   "id": "00329c42-08a0-42ab-a974-e8686dcd04f5",
   "metadata": {},
   "outputs": [
    {
     "data": {
      "text/html": [
       "<table class=\"dataframe\">\n",
       "<caption>A data.frame: 3 × 3</caption>\n",
       "<thead>\n",
       "\t<tr><th scope=col>X1</th><th scope=col>X2</th><th scope=col>X3</th></tr>\n",
       "\t<tr><th scope=col>&lt;chr&gt;</th><th scope=col>&lt;chr&gt;</th><th scope=col>&lt;chr&gt;</th></tr>\n",
       "</thead>\n",
       "<tbody>\n",
       "\t<tr><td>1</td><td>k</td><td>150</td></tr>\n",
       "\t<tr><td>2</td><td>b</td><td>200</td></tr>\n",
       "\t<tr><td>3</td><td>s</td><td>250</td></tr>\n",
       "</tbody>\n",
       "</table>\n"
      ],
      "text/latex": [
       "A data.frame: 3 × 3\n",
       "\\begin{tabular}{lll}\n",
       " X1 & X2 & X3\\\\\n",
       " <chr> & <chr> & <chr>\\\\\n",
       "\\hline\n",
       "\t 1 & k & 150\\\\\n",
       "\t 2 & b & 200\\\\\n",
       "\t 3 & s & 250\\\\\n",
       "\\end{tabular}\n"
      ],
      "text/markdown": [
       "\n",
       "A data.frame: 3 × 3\n",
       "\n",
       "| X1 &lt;chr&gt; | X2 &lt;chr&gt; | X3 &lt;chr&gt; |\n",
       "|---|---|---|\n",
       "| 1 | k | 150 |\n",
       "| 2 | b | 200 |\n",
       "| 3 | s | 250 |\n",
       "\n"
      ],
      "text/plain": [
       "  X1 X2 X3 \n",
       "1 1  k  150\n",
       "2 2  b  200\n",
       "3 3  s  250"
      ]
     },
     "metadata": {},
     "output_type": "display_data"
    }
   ],
   "source": [
    "m=matrix(c(1,\"k\",150,\n",
    "           2,'b',200,\n",
    "           3,'s',250)\n",
    "           ,3,by=T)\n",
    "memp=data.frame(m)\n",
    "memp"
   ]
  },
  {
   "cell_type": "code",
   "execution_count": 183,
   "id": "44f6a53b-e73a-4aa2-b87d-daf67cbc516c",
   "metadata": {},
   "outputs": [
    {
     "data": {
      "text/html": [
       "'1'"
      ],
      "text/latex": [
       "'1'"
      ],
      "text/markdown": [
       "'1'"
      ],
      "text/plain": [
       "[1] \"1\""
      ]
     },
     "metadata": {},
     "output_type": "display_data"
    }
   ],
   "source": [
    "memp[1,1]"
   ]
  },
  {
   "cell_type": "code",
   "execution_count": 176,
   "id": "bec7731d-ff00-44cb-98ff-722d04405443",
   "metadata": {},
   "outputs": [
    {
     "data": {
      "text/html": [
       "1"
      ],
      "text/latex": [
       "1"
      ],
      "text/markdown": [
       "1"
      ],
      "text/plain": [
       "[1] 1"
      ]
     },
     "metadata": {},
     "output_type": "display_data"
    }
   ],
   "source": [
    "vemp[1,1]"
   ]
  },
  {
   "cell_type": "markdown",
   "id": "881ee91e-d394-4925-b925-dd86641f3874",
   "metadata": {},
   "source": [
    "- 애초에 매트릭스를 이용해 데이터 프레임 객체를 생성할 때 매트릭스는 동일한 자료밖에 안 되기에 안의 원소가 전부 character로 변경됐었지만 vemp는 상이한 벡터 객체들을 데이터 프레임을 통해서 모아놓은 것이기 떄문에 자료형이 변하지 않고 유지되었음"
   ]
  },
  {
   "cell_type": "code",
   "execution_count": 192,
   "id": "a2f2de3f-57ea-41e7-a3e8-649cb3fccabd",
   "metadata": {},
   "outputs": [
    {
     "data": {
      "text/html": [
       "<table class=\"dataframe\">\n",
       "<caption>A data.frame: 5 × 3</caption>\n",
       "<thead>\n",
       "\t<tr><th scope=col>x</th><th scope=col>y</th><th scope=col>z</th></tr>\n",
       "\t<tr><th scope=col>&lt;int&gt;</th><th scope=col>&lt;dbl&gt;</th><th scope=col>&lt;chr&gt;</th></tr>\n",
       "</thead>\n",
       "<tbody>\n",
       "\t<tr><td>1</td><td>1</td><td>abfa</td></tr>\n",
       "\t<tr><td>2</td><td>3</td><td>aavd</td></tr>\n",
       "\t<tr><td>3</td><td>5</td><td>avs </td></tr>\n",
       "\t<tr><td>4</td><td>7</td><td>S   </td></tr>\n",
       "\t<tr><td>5</td><td>9</td><td>S   </td></tr>\n",
       "</tbody>\n",
       "</table>\n"
      ],
      "text/latex": [
       "A data.frame: 5 × 3\n",
       "\\begin{tabular}{lll}\n",
       " x & y & z\\\\\n",
       " <int> & <dbl> & <chr>\\\\\n",
       "\\hline\n",
       "\t 1 & 1 & abfa\\\\\n",
       "\t 2 & 3 & aavd\\\\\n",
       "\t 3 & 5 & avs \\\\\n",
       "\t 4 & 7 & S   \\\\\n",
       "\t 5 & 9 & S   \\\\\n",
       "\\end{tabular}\n"
      ],
      "text/markdown": [
       "\n",
       "A data.frame: 5 × 3\n",
       "\n",
       "| x &lt;int&gt; | y &lt;dbl&gt; | z &lt;chr&gt; |\n",
       "|---|---|---|\n",
       "| 1 | 1 | abfa |\n",
       "| 2 | 3 | aavd |\n",
       "| 3 | 5 | avs  |\n",
       "| 4 | 7 | S    |\n",
       "| 5 | 9 | S    |\n",
       "\n"
      ],
      "text/plain": [
       "  x y z   \n",
       "1 1 1 abfa\n",
       "2 2 3 aavd\n",
       "3 3 5 avs \n",
       "4 4 7 S   \n",
       "5 5 9 S   "
      ]
     },
     "metadata": {},
     "output_type": "display_data"
    }
   ],
   "source": [
    "df = data.frame(x=1:5, y=seq(1,9,2),z=c('abfa','aavd','avs','S','S'))\n",
    "df"
   ]
  },
  {
   "cell_type": "markdown",
   "id": "722bed33-1524-4b54-b001-3755f1ad0ae9",
   "metadata": {},
   "source": [
    "- 데이터 프레임의 칼럼명 참조하기"
   ]
  },
  {
   "cell_type": "code",
   "execution_count": 194,
   "id": "d8f44f5e-c40c-48ec-bf4b-cd86093ba980",
   "metadata": {},
   "outputs": [
    {
     "data": {
      "text/html": [
       "<style>\n",
       ".list-inline {list-style: none; margin:0; padding: 0}\n",
       ".list-inline>li {display: inline-block}\n",
       ".list-inline>li:not(:last-child)::after {content: \"\\00b7\"; padding: 0 .5ex}\n",
       "</style>\n",
       "<ol class=list-inline><li>1</li><li>2</li><li>3</li><li>4</li><li>5</li></ol>\n"
      ],
      "text/latex": [
       "\\begin{enumerate*}\n",
       "\\item 1\n",
       "\\item 2\n",
       "\\item 3\n",
       "\\item 4\n",
       "\\item 5\n",
       "\\end{enumerate*}\n"
      ],
      "text/markdown": [
       "1. 1\n",
       "2. 2\n",
       "3. 3\n",
       "4. 4\n",
       "5. 5\n",
       "\n",
       "\n"
      ],
      "text/plain": [
       "[1] 1 2 3 4 5"
      ]
     },
     "metadata": {},
     "output_type": "display_data"
    },
    {
     "data": {
      "text/html": [
       "<style>\n",
       ".list-inline {list-style: none; margin:0; padding: 0}\n",
       ".list-inline>li {display: inline-block}\n",
       ".list-inline>li:not(:last-child)::after {content: \"\\00b7\"; padding: 0 .5ex}\n",
       "</style>\n",
       "<ol class=list-inline><li>1</li><li>3</li><li>5</li><li>7</li><li>9</li></ol>\n"
      ],
      "text/latex": [
       "\\begin{enumerate*}\n",
       "\\item 1\n",
       "\\item 3\n",
       "\\item 5\n",
       "\\item 7\n",
       "\\item 9\n",
       "\\end{enumerate*}\n"
      ],
      "text/markdown": [
       "1. 1\n",
       "2. 3\n",
       "3. 5\n",
       "4. 7\n",
       "5. 9\n",
       "\n",
       "\n"
      ],
      "text/plain": [
       "[1] 1 3 5 7 9"
      ]
     },
     "metadata": {},
     "output_type": "display_data"
    },
    {
     "data": {
      "text/html": [
       "<style>\n",
       ".list-inline {list-style: none; margin:0; padding: 0}\n",
       ".list-inline>li {display: inline-block}\n",
       ".list-inline>li:not(:last-child)::after {content: \"\\00b7\"; padding: 0 .5ex}\n",
       "</style>\n",
       "<ol class=list-inline><li>'abfa'</li><li>'aavd'</li><li>'avs'</li><li>'S'</li><li>'S'</li></ol>\n"
      ],
      "text/latex": [
       "\\begin{enumerate*}\n",
       "\\item 'abfa'\n",
       "\\item 'aavd'\n",
       "\\item 'avs'\n",
       "\\item 'S'\n",
       "\\item 'S'\n",
       "\\end{enumerate*}\n"
      ],
      "text/markdown": [
       "1. 'abfa'\n",
       "2. 'aavd'\n",
       "3. 'avs'\n",
       "4. 'S'\n",
       "5. 'S'\n",
       "\n",
       "\n"
      ],
      "text/plain": [
       "[1] \"abfa\" \"aavd\" \"avs\"  \"S\"    \"S\"   "
      ]
     },
     "metadata": {},
     "output_type": "display_data"
    }
   ],
   "source": [
    "df$x\n",
    "df$y\n",
    "df$z"
   ]
  },
  {
   "cell_type": "markdown",
   "id": "d4153209-674c-4e9b-b3ea-2fc4ef779d09",
   "metadata": {},
   "source": [
    "- $는 데이터 프레임에선 칼럼을 의미하며 리스트에서는 키를 의미한다."
   ]
  }
 ],
 "metadata": {
  "kernelspec": {
   "display_name": "R",
   "language": "R",
   "name": "ir"
  },
  "language_info": {
   "codemirror_mode": "r",
   "file_extension": ".r",
   "mimetype": "text/x-r-source",
   "name": "R",
   "pygments_lexer": "r",
   "version": "4.0.5"
  }
 },
 "nbformat": 4,
 "nbformat_minor": 5
}
