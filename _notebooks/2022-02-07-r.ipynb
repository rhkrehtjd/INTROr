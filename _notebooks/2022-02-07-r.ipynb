{
 "cells": [
  {
   "cell_type": "markdown",
   "id": "086da444-e207-47f3-bc48-f88955fc356b",
   "metadata": {},
   "source": [
    "# 데이터 처리 연습"
   ]
  },
  {
   "cell_type": "markdown",
   "id": "17d7d41c-b6db-405a-850d-119c8ef24977",
   "metadata": {},
   "source": [
    "- 키보드 직접 데이터 입력받기"
   ]
  },
  {
   "cell_type": "code",
   "execution_count": 3,
   "id": "9d790e09-a516-42e0-99d0-541546f306c7",
   "metadata": {},
   "outputs": [],
   "source": [
    "num <- scan()"
   ]
  },
  {
   "cell_type": "markdown",
   "id": "e07189b0-78b3-4850-8159-b92d671ff524",
   "metadata": {},
   "source": [
    "- 파이썬에서의 input()과 동일하다.\n",
    "- 다만 주피터 노트북에서는 실행이 안 되고 Rstudio에서 가능한 것 같다.\n",
    "- 입력된 데이터는 입력된 순서대로 벡터 변수 num에 저장된다."
   ]
  },
  {
   "cell_type": "code",
   "execution_count": 2,
   "id": "7b26fa8a-2729-4432-9dcd-2bddeb24945d",
   "metadata": {},
   "outputs": [],
   "source": [
    "name <- scan(what = character())"
   ]
  },
  {
   "cell_type": "markdown",
   "id": "821ae735-c00a-4a13-9528-0a55075f92c5",
   "metadata": {},
   "source": [
    "- 키보드로 문자를 입력하기 위함이다.\n",
    "- 입력한 문자는 순서대로 name 벡터로 저장된다."
   ]
  },
  {
   "cell_type": "markdown",
   "id": "26d9417f-5203-4c4a-a98a-a90acd012ca4",
   "metadata": {},
   "source": [
    "---"
   ]
  },
  {
   "cell_type": "markdown",
   "id": "41cd6aa5-b7a4-473a-93a1-b94f02801832",
   "metadata": {},
   "source": [
    "```r\n",
    "df = data.frame()\n",
    "df = edit(df)\n",
    "```"
   ]
  },
  {
   "cell_type": "markdown",
   "id": "2d9238fc-f4e7-4100-a5ca-23d86aa44e9f",
   "metadata": {},
   "source": [
    "- 데이터 입력을 돕기 위해 표 형식의 데이터 편집기를 제공한다.\n",
    "- Rstudio에서 실행시 사용할 수 있다."
   ]
  },
  {
   "cell_type": "markdown",
   "id": "70449dff-5885-4ae8-9aa1-08c2dbfe4ad6",
   "metadata": {},
   "source": [
    "---"
   ]
  },
  {
   "cell_type": "markdown",
   "id": "0298a955-273c-4972-b16c-3c45ace4db4d",
   "metadata": {},
   "source": [
    "- 파일에 저장된 데이터를 불러오기"
   ]
  },
  {
   "cell_type": "markdown",
   "id": "2f09583a-a518-4415-83cc-4f4476cc3544",
   "metadata": {},
   "source": [
    "- read.table()\n",
    "  - 테이블(칼럼이 모여서 레코드 구성) 형태로 작성되어 있으며, 칼럼이 공백, 탭, 콜론, 세미콜론, 콤마 등으로 구분된 자료 파일을 불러올 수 있는 함수이다.\n",
    "  - 만약 구분자가 공백이거나 탭이면 sep 속성을 생략할 수 있다. 또한 칼럼명이 있는 경우 header 속성은 TRUE로 지정한다."
   ]
  },
  {
   "cell_type": "code",
   "execution_count": 84,
   "id": "e3ee3342-eada-4be2-9af9-d412ee46242b",
   "metadata": {},
   "outputs": [
    {
     "data": {
      "text/html": [
       "'C:/Users/ehfus/Downloads/R'"
      ],
      "text/latex": [
       "'C:/Users/ehfus/Downloads/R'"
      ],
      "text/markdown": [
       "'C:/Users/ehfus/Downloads/R'"
      ],
      "text/plain": [
       "[1] \"C:/Users/ehfus/Downloads/R\""
      ]
     },
     "metadata": {},
     "output_type": "display_data"
    }
   ],
   "source": [
    "getwd()\n",
    "# 현재 작업 디렉토리의 경로 확인"
   ]
  },
  {
   "cell_type": "code",
   "execution_count": 85,
   "id": "129ca0f0-6824-4b68-8278-fea89990f0b6",
   "metadata": {},
   "outputs": [],
   "source": [
    "setwd('C:/Users/ehfus/Downloads/R')\n",
    "# 작업 디렉토리 설정"
   ]
  },
  {
   "cell_type": "code",
   "execution_count": 89,
   "id": "4752673d-247e-4b5a-8eb6-e5b22471f9b3",
   "metadata": {},
   "outputs": [],
   "source": [
    "student <- read.table(file = 'first.txt')"
   ]
  },
  {
   "cell_type": "code",
   "execution_count": 90,
   "id": "c91f5f2f-50ef-4319-a6f7-2d54acda3da5",
   "metadata": {},
   "outputs": [
    {
     "data": {
      "text/html": [
       "<table class=\"dataframe\">\n",
       "<caption>A data.frame: 4 × 4</caption>\n",
       "<thead>\n",
       "\t<tr><th scope=col>V1</th><th scope=col>V2</th><th scope=col>V3</th><th scope=col>V4</th></tr>\n",
       "\t<tr><th scope=col>&lt;int&gt;</th><th scope=col>&lt;int&gt;</th><th scope=col>&lt;int&gt;</th><th scope=col>&lt;int&gt;</th></tr>\n",
       "</thead>\n",
       "<tbody>\n",
       "\t<tr><td>101</td><td>1</td><td>1</td><td>1</td></tr>\n",
       "\t<tr><td>101</td><td>1</td><td>1</td><td>1</td></tr>\n",
       "\t<tr><td>101</td><td>1</td><td>1</td><td>1</td></tr>\n",
       "\t<tr><td>101</td><td>1</td><td>1</td><td>1</td></tr>\n",
       "</tbody>\n",
       "</table>\n"
      ],
      "text/latex": [
       "A data.frame: 4 × 4\n",
       "\\begin{tabular}{llll}\n",
       " V1 & V2 & V3 & V4\\\\\n",
       " <int> & <int> & <int> & <int>\\\\\n",
       "\\hline\n",
       "\t 101 & 1 & 1 & 1\\\\\n",
       "\t 101 & 1 & 1 & 1\\\\\n",
       "\t 101 & 1 & 1 & 1\\\\\n",
       "\t 101 & 1 & 1 & 1\\\\\n",
       "\\end{tabular}\n"
      ],
      "text/markdown": [
       "\n",
       "A data.frame: 4 × 4\n",
       "\n",
       "| V1 &lt;int&gt; | V2 &lt;int&gt; | V3 &lt;int&gt; | V4 &lt;int&gt; |\n",
       "|---|---|---|---|\n",
       "| 101 | 1 | 1 | 1 |\n",
       "| 101 | 1 | 1 | 1 |\n",
       "| 101 | 1 | 1 | 1 |\n",
       "| 101 | 1 | 1 | 1 |\n",
       "\n"
      ],
      "text/plain": [
       "  V1  V2 V3 V4\n",
       "1 101 1  1  1 \n",
       "2 101 1  1  1 \n",
       "3 101 1  1  1 \n",
       "4 101 1  1  1 "
      ]
     },
     "metadata": {},
     "output_type": "display_data"
    }
   ],
   "source": [
    "student\n",
    "# 칼럼명이 없을 경우 기본으로 V1~으로 설정된다."
   ]
  },
  {
   "cell_type": "code",
   "execution_count": 91,
   "id": "f4beeb34-ae85-4115-a23b-1294a28c4481",
   "metadata": {},
   "outputs": [
    {
     "data": {
      "text/html": [
       "<table class=\"dataframe\">\n",
       "<caption>A data.frame: 4 × 4</caption>\n",
       "<thead>\n",
       "\t<tr><th scope=col>a</th><th scope=col>a2</th><th scope=col>a3</th><th scope=col>a4</th></tr>\n",
       "\t<tr><th scope=col>&lt;int&gt;</th><th scope=col>&lt;int&gt;</th><th scope=col>&lt;int&gt;</th><th scope=col>&lt;int&gt;</th></tr>\n",
       "</thead>\n",
       "<tbody>\n",
       "\t<tr><td>101</td><td>1</td><td>1</td><td>1</td></tr>\n",
       "\t<tr><td>101</td><td>1</td><td>1</td><td>1</td></tr>\n",
       "\t<tr><td>101</td><td>1</td><td>1</td><td>1</td></tr>\n",
       "\t<tr><td>101</td><td>1</td><td>1</td><td>1</td></tr>\n",
       "</tbody>\n",
       "</table>\n"
      ],
      "text/latex": [
       "A data.frame: 4 × 4\n",
       "\\begin{tabular}{llll}\n",
       " a & a2 & a3 & a4\\\\\n",
       " <int> & <int> & <int> & <int>\\\\\n",
       "\\hline\n",
       "\t 101 & 1 & 1 & 1\\\\\n",
       "\t 101 & 1 & 1 & 1\\\\\n",
       "\t 101 & 1 & 1 & 1\\\\\n",
       "\t 101 & 1 & 1 & 1\\\\\n",
       "\\end{tabular}\n"
      ],
      "text/markdown": [
       "\n",
       "A data.frame: 4 × 4\n",
       "\n",
       "| a &lt;int&gt; | a2 &lt;int&gt; | a3 &lt;int&gt; | a4 &lt;int&gt; |\n",
       "|---|---|---|---|\n",
       "| 101 | 1 | 1 | 1 |\n",
       "| 101 | 1 | 1 | 1 |\n",
       "| 101 | 1 | 1 | 1 |\n",
       "| 101 | 1 | 1 | 1 |\n",
       "\n"
      ],
      "text/plain": [
       "  a   a2 a3 a4\n",
       "1 101 1  1  1 \n",
       "2 101 1  1  1 \n",
       "3 101 1  1  1 \n",
       "4 101 1  1  1 "
      ]
     },
     "metadata": {},
     "output_type": "display_data"
    }
   ],
   "source": [
    "# 칼럼명 변경\n",
    "names(student)<-c('a','a2','a3','a4')\n",
    "student"
   ]
  },
  {
   "cell_type": "markdown",
   "id": "cfe51581-a6bc-427a-aa06-65f52453313a",
   "metadata": {},
   "source": [
    "---"
   ]
  },
  {
   "cell_type": "code",
   "execution_count": 92,
   "id": "6ebff8ab-226f-40e4-aa97-3bc53687ea48",
   "metadata": {},
   "outputs": [],
   "source": [
    "student <- read.table(file = 'second.txt',sep=',',header=T,encoding=\"UTF-8\" )"
   ]
  },
  {
   "cell_type": "code",
   "execution_count": 93,
   "id": "cf7a3642-3fa6-45d7-999e-af89ad93ef39",
   "metadata": {},
   "outputs": [
    {
     "data": {
      "text/html": [
       "<table class=\"dataframe\">\n",
       "<caption>A data.frame: 4 × 4</caption>\n",
       "<thead>\n",
       "\t<tr><th scope=col>번호</th><th scope=col>이름</th><th scope=col>성별</th><th scope=col>몸무게</th></tr>\n",
       "\t<tr><th scope=col>&lt;chr&gt;</th><th scope=col>&lt;chr&gt;</th><th scope=col>&lt;chr&gt;</th><th scope=col>&lt;chr&gt;</th></tr>\n",
       "</thead>\n",
       "<tbody>\n",
       "\t<tr><td>10</td><td>1 </td><td>1 </td><td>1 </td></tr>\n",
       "\t<tr><td>10</td><td>1 </td><td>1 </td><td>1 </td></tr>\n",
       "\t<tr><td>10</td><td>1 </td><td>1 </td><td>1 </td></tr>\n",
       "\t<tr><td>sd</td><td>ad</td><td>ad</td><td>ad</td></tr>\n",
       "</tbody>\n",
       "</table>\n"
      ],
      "text/latex": [
       "A data.frame: 4 × 4\n",
       "\\begin{tabular}{llll}\n",
       " 번호 & 이름 & 성별 & 몸무게\\\\\n",
       " <chr> & <chr> & <chr> & <chr>\\\\\n",
       "\\hline\n",
       "\t 10 & 1  & 1  & 1 \\\\\n",
       "\t 10 & 1  & 1  & 1 \\\\\n",
       "\t 10 & 1  & 1  & 1 \\\\\n",
       "\t sd & ad & ad & ad\\\\\n",
       "\\end{tabular}\n"
      ],
      "text/markdown": [
       "\n",
       "A data.frame: 4 × 4\n",
       "\n",
       "| 번호 &lt;chr&gt; | 이름 &lt;chr&gt; | 성별 &lt;chr&gt; | 몸무게 &lt;chr&gt; |\n",
       "|---|---|---|---|\n",
       "| 10 | 1  | 1  | 1  |\n",
       "| 10 | 1  | 1  | 1  |\n",
       "| 10 | 1  | 1  | 1  |\n",
       "| sd | ad | ad | ad |\n",
       "\n"
      ],
      "text/plain": [
       "  번호 이름 성별 몸무게\n",
       "1 10   1    1    1     \n",
       "2 10   1    1    1     \n",
       "3 10   1    1    1     \n",
       "4 sd   ad   ad   ad    "
      ]
     },
     "metadata": {},
     "output_type": "display_data"
    }
   ],
   "source": [
    "student"
   ]
  },
  {
   "cell_type": "code",
   "execution_count": 94,
   "id": "f59ca181-931d-4feb-a7d4-e3106a28e25e",
   "metadata": {},
   "outputs": [],
   "source": [
    "student <- read.table(file = 'second.txt')"
   ]
  },
  {
   "cell_type": "code",
   "execution_count": 95,
   "id": "1682a80f-34fa-4549-b9ad-01325dfff3bc",
   "metadata": {},
   "outputs": [
    {
     "data": {
      "text/html": [
       "<table class=\"dataframe\">\n",
       "<caption>A data.frame: 3 × 1</caption>\n",
       "<thead>\n",
       "\t<tr><th scope=col>V1</th></tr>\n",
       "\t<tr><th scope=col>&lt;chr&gt;</th></tr>\n",
       "</thead>\n",
       "<tbody>\n",
       "\t<tr><td>10,1,1,1   </td></tr>\n",
       "\t<tr><td>10,1,1,1   </td></tr>\n",
       "\t<tr><td>sd,ad,ad,ad</td></tr>\n",
       "</tbody>\n",
       "</table>\n"
      ],
      "text/latex": [
       "A data.frame: 3 × 1\n",
       "\\begin{tabular}{l}\n",
       " V1\\\\\n",
       " <chr>\\\\\n",
       "\\hline\n",
       "\t 10,1,1,1   \\\\\n",
       "\t 10,1,1,1   \\\\\n",
       "\t sd,ad,ad,ad\\\\\n",
       "\\end{tabular}\n"
      ],
      "text/markdown": [
       "\n",
       "A data.frame: 3 × 1\n",
       "\n",
       "| V1 &lt;chr&gt; |\n",
       "|---|\n",
       "| 10,1,1,1    |\n",
       "| 10,1,1,1    |\n",
       "| sd,ad,ad,ad |\n",
       "\n"
      ],
      "text/plain": [
       "  V1         \n",
       "1 10,1,1,1   \n",
       "2 10,1,1,1   \n",
       "3 sd,ad,ad,ad"
      ]
     },
     "metadata": {},
     "output_type": "display_data"
    }
   ],
   "source": [
    "student"
   ]
  },
  {
   "cell_type": "markdown",
   "id": "5ddb8acc-9791-49d8-8b79-d4def4c5ce95",
   "metadata": {},
   "source": [
    "- 구분자 입력 안 해줘서 10,1,1,1이 하나의 요소로 해석된 모양이다"
   ]
  },
  {
   "cell_type": "markdown",
   "id": "c04a6f64-ae15-4f9c-93d2-cbd18ac0e7d9",
   "metadata": {},
   "source": [
    "---"
   ]
  },
  {
   "cell_type": "markdown",
   "id": "4d94bb64-511a-4a79-84e9-0ef1a7c4379f",
   "metadata": {},
   "source": [
    "- 탐색기를 통해서 파일 선택하기"
   ]
  },
  {
   "cell_type": "code",
   "execution_count": 56,
   "id": "7aba7fb9-a618-4f69-a5ff-7e7f87b52bc5",
   "metadata": {},
   "outputs": [],
   "source": [
    "student <- read.table(file.choose(),sep=',',header=T,encoding=\"UTF-8\")"
   ]
  },
  {
   "cell_type": "code",
   "execution_count": 57,
   "id": "f36de149-7a3d-4daa-be12-1f143f460477",
   "metadata": {},
   "outputs": [
    {
     "data": {
      "text/html": [
       "<table class=\"dataframe\">\n",
       "<caption>A data.frame: 4 × 4</caption>\n",
       "<thead>\n",
       "\t<tr><th scope=col>번호</th><th scope=col>이름</th><th scope=col>성별</th><th scope=col>몸무게</th></tr>\n",
       "\t<tr><th scope=col>&lt;chr&gt;</th><th scope=col>&lt;chr&gt;</th><th scope=col>&lt;chr&gt;</th><th scope=col>&lt;chr&gt;</th></tr>\n",
       "</thead>\n",
       "<tbody>\n",
       "\t<tr><td>10</td><td>1 </td><td>1 </td><td>1 </td></tr>\n",
       "\t<tr><td>10</td><td>1 </td><td>1 </td><td>1 </td></tr>\n",
       "\t<tr><td>10</td><td>1 </td><td>1 </td><td>1 </td></tr>\n",
       "\t<tr><td>sd</td><td>ad</td><td>ad</td><td>ad</td></tr>\n",
       "</tbody>\n",
       "</table>\n"
      ],
      "text/latex": [
       "A data.frame: 4 × 4\n",
       "\\begin{tabular}{llll}\n",
       " 번호 & 이름 & 성별 & 몸무게\\\\\n",
       " <chr> & <chr> & <chr> & <chr>\\\\\n",
       "\\hline\n",
       "\t 10 & 1  & 1  & 1 \\\\\n",
       "\t 10 & 1  & 1  & 1 \\\\\n",
       "\t 10 & 1  & 1  & 1 \\\\\n",
       "\t sd & ad & ad & ad\\\\\n",
       "\\end{tabular}\n"
      ],
      "text/markdown": [
       "\n",
       "A data.frame: 4 × 4\n",
       "\n",
       "| 번호 &lt;chr&gt; | 이름 &lt;chr&gt; | 성별 &lt;chr&gt; | 몸무게 &lt;chr&gt; |\n",
       "|---|---|---|---|\n",
       "| 10 | 1  | 1  | 1  |\n",
       "| 10 | 1  | 1  | 1  |\n",
       "| 10 | 1  | 1  | 1  |\n",
       "| sd | ad | ad | ad |\n",
       "\n"
      ],
      "text/plain": [
       "  번호 이름 성별 몸무게\n",
       "1 10   1    1    1     \n",
       "2 10   1    1    1     \n",
       "3 10   1    1    1     \n",
       "4 sd   ad   ad   ad    "
      ]
     },
     "metadata": {},
     "output_type": "display_data"
    }
   ],
   "source": [
    "student"
   ]
  },
  {
   "cell_type": "markdown",
   "id": "6a9b9303-5d60-4bdb-8ed6-fefbc64bb7b8",
   "metadata": {},
   "source": [
    "- 파일에 특정 문자열을 NA로 처리하여 파일을 불러올 수 있다.\n",
    "  - na.strings = '-'를 통해 처리할 수 있다."
   ]
  },
  {
   "cell_type": "markdown",
   "id": "b8b1b2c8-4192-457a-9a70-9ea2660b16d7",
   "metadata": {},
   "source": [
    "---"
   ]
  },
  {
   "cell_type": "markdown",
   "id": "f479fd84-0bc7-4ecb-bf23-2c4aa7de32c9",
   "metadata": {},
   "source": [
    "- 엑셀에서는 작업한 파일을 R에서 처리할 수 있도록 CSV 형식으로 변환하여 저장할 수 있다. \n",
    "- CSV(comma separation valule) 파일 형식은 콤마를 기준으로 각 칼럼을 구분하여 저장한 데이터 형식을 말한다.\n",
    "- sep=','가 기본값이며, header=T가 기본값이다. 따라서 칼럼명이 있는 경우에 header속성은 생략할 수 있다."
   ]
  },
  {
   "cell_type": "code",
   "execution_count": 134,
   "id": "28e27c1b-fd03-408e-ba3e-750a294d3e09",
   "metadata": {},
   "outputs": [
    {
     "data": {
      "text/html": [
       "<table class=\"dataframe\">\n",
       "<caption>A data.frame: 2 × 4</caption>\n",
       "<thead>\n",
       "\t<tr><th scope=col>X.U.FEFF.asasd</th><th scope=col>asd</th><th scope=col>asd.1</th><th scope=col>곽</th></tr>\n",
       "\t<tr><th scope=col>&lt;int&gt;</th><th scope=col>&lt;int&gt;</th><th scope=col>&lt;int&gt;</th><th scope=col>&lt;int&gt;</th></tr>\n",
       "</thead>\n",
       "<tbody>\n",
       "\t<tr><td>   1</td><td>123</td><td>1234</td><td>123</td></tr>\n",
       "\t<tr><td>1234</td><td>214</td><td> 124</td><td> 24</td></tr>\n",
       "</tbody>\n",
       "</table>\n"
      ],
      "text/latex": [
       "A data.frame: 2 × 4\n",
       "\\begin{tabular}{llll}\n",
       " X.U.FEFF.asasd & asd & asd.1 & 곽\\\\\n",
       " <int> & <int> & <int> & <int>\\\\\n",
       "\\hline\n",
       "\t    1 & 123 & 1234 & 123\\\\\n",
       "\t 1234 & 214 &  124 &  24\\\\\n",
       "\\end{tabular}\n"
      ],
      "text/markdown": [
       "\n",
       "A data.frame: 2 × 4\n",
       "\n",
       "| X.U.FEFF.asasd &lt;int&gt; | asd &lt;int&gt; | asd.1 &lt;int&gt; | 곽 &lt;int&gt; |\n",
       "|---|---|---|---|\n",
       "|    1 | 123 | 1234 | 123 |\n",
       "| 1234 | 214 |  124 |  24 |\n",
       "\n"
      ],
      "text/plain": [
       "  X.U.FEFF.asasd asd asd.1 곽 \n",
       "1    1           123 1234  123\n",
       "2 1234           214  124   24"
      ]
     },
     "metadata": {},
     "output_type": "display_data"
    }
   ],
   "source": [
    "read.csv(file = 'third.csv',encoding=\"UTF-8\")"
   ]
  },
  {
   "cell_type": "markdown",
   "id": "0795c703-2d8e-41e7-9e73-fbc463da7c61",
   "metadata": {},
   "source": [
    "- csv파일 형식이 아닌 엑셀 파일(.xlsx)을 직접 R에서 불러올 수도 있다.\n",
    "- 엑셀 파일은 일반 파일과는 달리 시트(sheet) 단위로 자료를 저장한다. 따라서 엑셀 파일을 읽을 때는 시트명과 셀의 범위를 지정해서 읽는다."
   ]
  },
  {
   "cell_type": "code",
   "execution_count": 135,
   "id": "cacbb839-05d8-4391-bc57-3bfe26a44940",
   "metadata": {},
   "outputs": [
    {
     "name": "stdout",
     "output_type": "stream",
     "text": [
      "package 'readxl' successfully unpacked and MD5 sums checked\n",
      "\n",
      "The downloaded binary packages are in\n",
      "\tC:\\Users\\ehfus\\AppData\\Local\\Temp\\RtmpEH2tA1\\downloaded_packages\n"
     ]
    }
   ],
   "source": [
    "install.packages('readxl')\n",
    "library(readxl)"
   ]
  },
  {
   "cell_type": "markdown",
   "id": "7f1ba2e9-11f2-4215-9b23-ad36024fb1fe",
   "metadata": {},
   "source": [
    "- 기본함수가 아니기 때문에 위와 같은 셀이 필요하다"
   ]
  },
  {
   "cell_type": "code",
   "execution_count": 142,
   "id": "80299510-ecec-45da-b628-641c78175220",
   "metadata": {},
   "outputs": [
    {
     "name": "stderr",
     "output_type": "stream",
     "text": [
      "New names:\n",
      "* asd -> asd...2\n",
      "* asd -> asd...3\n",
      "\n"
     ]
    },
    {
     "data": {
      "text/html": [
       "<table class=\"dataframe\">\n",
       "<caption>A tibble: 2 × 4</caption>\n",
       "<thead>\n",
       "\t<tr><th scope=col>asasd</th><th scope=col>asd...2</th><th scope=col>asd...3</th><th scope=col>곽</th></tr>\n",
       "\t<tr><th scope=col>&lt;dbl&gt;</th><th scope=col>&lt;dbl&gt;</th><th scope=col>&lt;dbl&gt;</th><th scope=col>&lt;dbl&gt;</th></tr>\n",
       "</thead>\n",
       "<tbody>\n",
       "\t<tr><td>   1</td><td>123</td><td>1234</td><td>123</td></tr>\n",
       "\t<tr><td>1234</td><td>214</td><td> 124</td><td> 24</td></tr>\n",
       "</tbody>\n",
       "</table>\n"
      ],
      "text/latex": [
       "A tibble: 2 × 4\n",
       "\\begin{tabular}{llll}\n",
       " asasd & asd...2 & asd...3 & 곽\\\\\n",
       " <dbl> & <dbl> & <dbl> & <dbl>\\\\\n",
       "\\hline\n",
       "\t    1 & 123 & 1234 & 123\\\\\n",
       "\t 1234 & 214 &  124 &  24\\\\\n",
       "\\end{tabular}\n"
      ],
      "text/markdown": [
       "\n",
       "A tibble: 2 × 4\n",
       "\n",
       "| asasd &lt;dbl&gt; | asd...2 &lt;dbl&gt; | asd...3 &lt;dbl&gt; | 곽 &lt;dbl&gt; |\n",
       "|---|---|---|---|\n",
       "|    1 | 123 | 1234 | 123 |\n",
       "| 1234 | 214 |  124 |  24 |\n",
       "\n"
      ],
      "text/plain": [
       "  asasd asd...2 asd...3 곽 \n",
       "1    1  123     1234    123\n",
       "2 1234  214      124     24"
      ]
     },
     "metadata": {},
     "output_type": "display_data"
    }
   ],
   "source": [
    "read_excel(path='fourth.xlsx',sheet='fourth')"
   ]
  },
  {
   "cell_type": "markdown",
   "id": "d6cd144f-f3c9-43e1-aa87-da9439eedda8",
   "metadata": {},
   "source": [
    "---"
   ]
  },
  {
   "cell_type": "markdown",
   "id": "013add96-4589-45ed-9270-19582019fff7",
   "metadata": {},
   "source": [
    "- 인터넷에서 파일 가져오기\n",
    "  - 인터넷에서 제공하는 CSV 파일 형식의 데이터를 해당 사이트에서 직접 R 스트립트로 가져와서 데이터를 가공 처리한 후 분석에 활용할 수 있다.\n",
    "  - 99p를 참고하자"
   ]
  }
 ],
 "metadata": {
  "kernelspec": {
   "display_name": "R",
   "language": "R",
   "name": "ir"
  },
  "language_info": {
   "codemirror_mode": "r",
   "file_extension": ".r",
   "mimetype": "text/x-r-source",
   "name": "R",
   "pygments_lexer": "r",
   "version": "4.0.5"
  }
 },
 "nbformat": 4,
 "nbformat_minor": 5
}
