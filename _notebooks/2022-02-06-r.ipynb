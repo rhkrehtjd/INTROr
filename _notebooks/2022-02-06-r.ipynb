{
 "cells": [
  {
   "cell_type": "markdown",
   "id": "ad098623-13ae-47f4-ab78-afa9273546dd",
   "metadata": {},
   "source": [
    "# data.frame, List, stringr"
   ]
  },
  {
   "cell_type": "markdown",
   "id": "da8249bb-1478-4823-8130-c5b243d73bec",
   "metadata": {},
   "source": [
    "- data.frame 객체 자료 처리 함수"
   ]
  },
  {
   "cell_type": "code",
   "execution_count": 116,
   "id": "6f18f0b8-1bb0-4e3a-809d-ed630f42a5ee",
   "metadata": {},
   "outputs": [
    {
     "data": {
      "text/html": [
       "<table class=\"dataframe\">\n",
       "<caption>A data.frame: 5 × 3</caption>\n",
       "<thead>\n",
       "\t<tr><th scope=col>x</th><th scope=col>y</th><th scope=col>z</th></tr>\n",
       "\t<tr><th scope=col>&lt;int&gt;</th><th scope=col>&lt;dbl&gt;</th><th scope=col>&lt;chr&gt;</th></tr>\n",
       "</thead>\n",
       "<tbody>\n",
       "\t<tr><td>1</td><td>1</td><td>abfa</td></tr>\n",
       "\t<tr><td>2</td><td>3</td><td>aavd</td></tr>\n",
       "\t<tr><td>3</td><td>5</td><td>avs </td></tr>\n",
       "\t<tr><td>4</td><td>7</td><td>S   </td></tr>\n",
       "\t<tr><td>5</td><td>9</td><td>S   </td></tr>\n",
       "</tbody>\n",
       "</table>\n"
      ],
      "text/latex": [
       "A data.frame: 5 × 3\n",
       "\\begin{tabular}{lll}\n",
       " x & y & z\\\\\n",
       " <int> & <dbl> & <chr>\\\\\n",
       "\\hline\n",
       "\t 1 & 1 & abfa\\\\\n",
       "\t 2 & 3 & aavd\\\\\n",
       "\t 3 & 5 & avs \\\\\n",
       "\t 4 & 7 & S   \\\\\n",
       "\t 5 & 9 & S   \\\\\n",
       "\\end{tabular}\n"
      ],
      "text/markdown": [
       "\n",
       "A data.frame: 5 × 3\n",
       "\n",
       "| x &lt;int&gt; | y &lt;dbl&gt; | z &lt;chr&gt; |\n",
       "|---|---|---|\n",
       "| 1 | 1 | abfa |\n",
       "| 2 | 3 | aavd |\n",
       "| 3 | 5 | avs  |\n",
       "| 4 | 7 | S    |\n",
       "| 5 | 9 | S    |\n",
       "\n"
      ],
      "text/plain": [
       "  x y z   \n",
       "1 1 1 abfa\n",
       "2 2 3 aavd\n",
       "3 3 5 avs \n",
       "4 4 7 S   \n",
       "5 5 9 S   "
      ]
     },
     "metadata": {},
     "output_type": "display_data"
    }
   ],
   "source": [
    "df = data.frame(x=1:5, y=seq(1,9,2),z=c('abfa','aavd','avs','S','S'))\n",
    "df"
   ]
  },
  {
   "cell_type": "code",
   "execution_count": 117,
   "id": "169f318c-d27b-4000-bb94-157e65d5d7fc",
   "metadata": {},
   "outputs": [
    {
     "name": "stdout",
     "output_type": "stream",
     "text": [
      "'data.frame':\t5 obs. of  3 variables:\n",
      " $ x: int  1 2 3 4 5\n",
      " $ y: num  1 3 5 7 9\n",
      " $ z: chr  \"abfa\" \"aavd\" \"avs\" \"S\" ...\n"
     ]
    }
   ],
   "source": [
    "str(df)\n",
    "# 데이터 프레임의 구조를 보여준다. "
   ]
  },
  {
   "cell_type": "markdown",
   "id": "0f71bee9-6423-41c8-a726-6838b0f166ff",
   "metadata": {},
   "source": [
    "- 5 obs. of  3 variables : 5개의 관측치와 3개의 변수로 구성됨"
   ]
  },
  {
   "cell_type": "code",
   "execution_count": 118,
   "id": "50e360a4-4874-4840-a05e-f4cea53fd063",
   "metadata": {},
   "outputs": [
    {
     "data": {
      "text/html": [
       "3"
      ],
      "text/latex": [
       "3"
      ],
      "text/markdown": [
       "3"
      ],
      "text/plain": [
       "[1] 3"
      ]
     },
     "metadata": {},
     "output_type": "display_data"
    }
   ],
   "source": [
    "ncol(df)"
   ]
  },
  {
   "cell_type": "code",
   "execution_count": 119,
   "id": "f5ceb8b8-243d-4426-a387-b1259b57fab7",
   "metadata": {},
   "outputs": [
    {
     "data": {
      "text/html": [
       "5"
      ],
      "text/latex": [
       "5"
      ],
      "text/markdown": [
       "5"
      ],
      "text/plain": [
       "[1] 5"
      ]
     },
     "metadata": {},
     "output_type": "display_data"
    }
   ],
   "source": [
    "nrow(df)"
   ]
  },
  {
   "cell_type": "code",
   "execution_count": 120,
   "id": "5cc7e0cd-b1e0-433f-876b-614ad8cb19df",
   "metadata": {},
   "outputs": [
    {
     "data": {
      "text/html": [
       "<style>\n",
       ".list-inline {list-style: none; margin:0; padding: 0}\n",
       ".list-inline>li {display: inline-block}\n",
       ".list-inline>li:not(:last-child)::after {content: \"\\00b7\"; padding: 0 .5ex}\n",
       "</style>\n",
       "<ol class=list-inline><li>'x'</li><li>'y'</li><li>'z'</li></ol>\n"
      ],
      "text/latex": [
       "\\begin{enumerate*}\n",
       "\\item 'x'\n",
       "\\item 'y'\n",
       "\\item 'z'\n",
       "\\end{enumerate*}\n"
      ],
      "text/markdown": [
       "1. 'x'\n",
       "2. 'y'\n",
       "3. 'z'\n",
       "\n",
       "\n"
      ],
      "text/plain": [
       "[1] \"x\" \"y\" \"z\""
      ]
     },
     "metadata": {},
     "output_type": "display_data"
    }
   ],
   "source": [
    "# 칼럼명 반환\n",
    "names(df)"
   ]
  },
  {
   "cell_type": "code",
   "execution_count": 121,
   "id": "7f2f1c4c-f04d-4a6a-a72b-f18e2ee1f0e8",
   "metadata": {},
   "outputs": [
    {
     "data": {
      "text/html": [
       "<style>\n",
       ".list-inline {list-style: none; margin:0; padding: 0}\n",
       ".list-inline>li {display: inline-block}\n",
       ".list-inline>li:not(:last-child)::after {content: \"\\00b7\"; padding: 0 .5ex}\n",
       "</style>\n",
       "<ol class=list-inline><li>2</li><li>3</li></ol>\n"
      ],
      "text/latex": [
       "\\begin{enumerate*}\n",
       "\\item 2\n",
       "\\item 3\n",
       "\\end{enumerate*}\n"
      ],
      "text/markdown": [
       "1. 2\n",
       "2. 3\n",
       "\n",
       "\n"
      ],
      "text/plain": [
       "[1] 2 3"
      ]
     },
     "metadata": {},
     "output_type": "display_data"
    }
   ],
   "source": [
    "df[c(2,3),1]\n",
    "# R은 파이썬과 달리 index가 1부터 시작함!"
   ]
  },
  {
   "cell_type": "code",
   "execution_count": 122,
   "id": "6073aaa2-7673-44bd-acff-7a4a9fc79d85",
   "metadata": {},
   "outputs": [
    {
     "data": {
      "text/html": [
       "<table class=\"dataframe\">\n",
       "<caption>A data.frame: 5 × 1</caption>\n",
       "<thead>\n",
       "\t<tr><th scope=col>x</th></tr>\n",
       "\t<tr><th scope=col>&lt;int&gt;</th></tr>\n",
       "</thead>\n",
       "<tbody>\n",
       "\t<tr><td>1</td></tr>\n",
       "\t<tr><td>2</td></tr>\n",
       "\t<tr><td>3</td></tr>\n",
       "\t<tr><td>4</td></tr>\n",
       "\t<tr><td>5</td></tr>\n",
       "</tbody>\n",
       "</table>\n"
      ],
      "text/latex": [
       "A data.frame: 5 × 1\n",
       "\\begin{tabular}{l}\n",
       " x\\\\\n",
       " <int>\\\\\n",
       "\\hline\n",
       "\t 1\\\\\n",
       "\t 2\\\\\n",
       "\t 3\\\\\n",
       "\t 4\\\\\n",
       "\t 5\\\\\n",
       "\\end{tabular}\n"
      ],
      "text/markdown": [
       "\n",
       "A data.frame: 5 × 1\n",
       "\n",
       "| x &lt;int&gt; |\n",
       "|---|\n",
       "| 1 |\n",
       "| 2 |\n",
       "| 3 |\n",
       "| 4 |\n",
       "| 5 |\n",
       "\n"
      ],
      "text/plain": [
       "  x\n",
       "1 1\n",
       "2 2\n",
       "3 3\n",
       "4 4\n",
       "5 5"
      ]
     },
     "metadata": {},
     "output_type": "display_data"
    }
   ],
   "source": [
    "df[1]\n",
    "# 첫 번째 열"
   ]
  },
  {
   "cell_type": "code",
   "execution_count": 123,
   "id": "dcb8dabd-e91c-43b5-a9f0-a869e38a1d7c",
   "metadata": {},
   "outputs": [
    {
     "data": {
      "text/plain": [
       "       x           y          z            \n",
       " Min.   :1   Min.   :1   Length:5          \n",
       " 1st Qu.:2   1st Qu.:3   Class :character  \n",
       " Median :3   Median :5   Mode  :character  \n",
       " Mean   :3   Mean   :5                     \n",
       " 3rd Qu.:4   3rd Qu.:7                     \n",
       " Max.   :5   Max.   :9                     "
      ]
     },
     "metadata": {},
     "output_type": "display_data"
    }
   ],
   "source": [
    "summary(df)\n",
    "# 요약 통계량을 볼 수 있다.\n",
    "# 숫자로 구성된 칼럼에 대해서만 수행된다. "
   ]
  },
  {
   "cell_type": "code",
   "execution_count": 124,
   "id": "4993bdaf-4183-49a3-be7a-ea0bdaa0e07e",
   "metadata": {},
   "outputs": [
    {
     "data": {
      "text/html": [
       "<table class=\"dataframe\">\n",
       "<caption>A data.frame: 5 × 2</caption>\n",
       "<thead>\n",
       "\t<tr><th scope=col>x</th><th scope=col>y</th></tr>\n",
       "\t<tr><th scope=col>&lt;int&gt;</th><th scope=col>&lt;dbl&gt;</th></tr>\n",
       "</thead>\n",
       "<tbody>\n",
       "\t<tr><td>1</td><td>1</td></tr>\n",
       "\t<tr><td>2</td><td>3</td></tr>\n",
       "\t<tr><td>3</td><td>5</td></tr>\n",
       "\t<tr><td>4</td><td>7</td></tr>\n",
       "\t<tr><td>5</td><td>9</td></tr>\n",
       "</tbody>\n",
       "</table>\n"
      ],
      "text/latex": [
       "A data.frame: 5 × 2\n",
       "\\begin{tabular}{ll}\n",
       " x & y\\\\\n",
       " <int> & <dbl>\\\\\n",
       "\\hline\n",
       "\t 1 & 1\\\\\n",
       "\t 2 & 3\\\\\n",
       "\t 3 & 5\\\\\n",
       "\t 4 & 7\\\\\n",
       "\t 5 & 9\\\\\n",
       "\\end{tabular}\n"
      ],
      "text/markdown": [
       "\n",
       "A data.frame: 5 × 2\n",
       "\n",
       "| x &lt;int&gt; | y &lt;dbl&gt; |\n",
       "|---|---|\n",
       "| 1 | 1 |\n",
       "| 2 | 3 |\n",
       "| 3 | 5 |\n",
       "| 4 | 7 |\n",
       "| 5 | 9 |\n",
       "\n"
      ],
      "text/plain": [
       "  x y\n",
       "1 1 1\n",
       "2 2 3\n",
       "3 3 5\n",
       "4 4 7\n",
       "5 5 9"
      ]
     },
     "metadata": {},
     "output_type": "display_data"
    }
   ],
   "source": [
    "df[,c(1,2)]"
   ]
  },
  {
   "cell_type": "code",
   "execution_count": 125,
   "id": "0e07997d-80ee-45b5-b237-ae981c971890",
   "metadata": {},
   "outputs": [
    {
     "data": {
      "text/html": [
       "<table class=\"dataframe\">\n",
       "<caption>A data.frame: 5 × 2</caption>\n",
       "<thead>\n",
       "\t<tr><th scope=col>x</th><th scope=col>y</th></tr>\n",
       "\t<tr><th scope=col>&lt;int&gt;</th><th scope=col>&lt;dbl&gt;</th></tr>\n",
       "</thead>\n",
       "<tbody>\n",
       "\t<tr><td>1</td><td>1</td></tr>\n",
       "\t<tr><td>2</td><td>3</td></tr>\n",
       "\t<tr><td>3</td><td>5</td></tr>\n",
       "\t<tr><td>4</td><td>7</td></tr>\n",
       "\t<tr><td>5</td><td>9</td></tr>\n",
       "</tbody>\n",
       "</table>\n"
      ],
      "text/latex": [
       "A data.frame: 5 × 2\n",
       "\\begin{tabular}{ll}\n",
       " x & y\\\\\n",
       " <int> & <dbl>\\\\\n",
       "\\hline\n",
       "\t 1 & 1\\\\\n",
       "\t 2 & 3\\\\\n",
       "\t 3 & 5\\\\\n",
       "\t 4 & 7\\\\\n",
       "\t 5 & 9\\\\\n",
       "\\end{tabular}\n"
      ],
      "text/markdown": [
       "\n",
       "A data.frame: 5 × 2\n",
       "\n",
       "| x &lt;int&gt; | y &lt;dbl&gt; |\n",
       "|---|---|\n",
       "| 1 | 1 |\n",
       "| 2 | 3 |\n",
       "| 3 | 5 |\n",
       "| 4 | 7 |\n",
       "| 5 | 9 |\n",
       "\n"
      ],
      "text/plain": [
       "  x y\n",
       "1 1 1\n",
       "2 2 3\n",
       "3 3 5\n",
       "4 4 7\n",
       "5 5 9"
      ]
     },
     "metadata": {},
     "output_type": "display_data"
    }
   ],
   "source": [
    "df[c(1,2)]"
   ]
  },
  {
   "cell_type": "code",
   "execution_count": 126,
   "id": "146aceb5-2831-4fb5-a9a2-a341b3bbc43e",
   "metadata": {},
   "outputs": [
    {
     "data": {
      "text/html": [
       "<style>\n",
       ".dl-inline {width: auto; margin:0; padding: 0}\n",
       ".dl-inline>dt, .dl-inline>dd {float: none; width: auto; display: inline-block}\n",
       ".dl-inline>dt::after {content: \":\\0020\"; padding-right: .5ex}\n",
       ".dl-inline>dt:not(:first-of-type) {padding-left: .5ex}\n",
       "</style><dl class=dl-inline><dt>x</dt><dd>15</dd><dt>y</dt><dd>25</dd></dl>\n"
      ],
      "text/latex": [
       "\\begin{description*}\n",
       "\\item[x] 15\n",
       "\\item[y] 25\n",
       "\\end{description*}\n"
      ],
      "text/markdown": [
       "x\n",
       ":   15y\n",
       ":   25\n",
       "\n"
      ],
      "text/plain": [
       " x  y \n",
       "15 25 "
      ]
     },
     "metadata": {},
     "output_type": "display_data"
    }
   ],
   "source": [
    "apply(df[,c(1,2)],2,sum)"
   ]
  },
  {
   "cell_type": "code",
   "execution_count": 127,
   "id": "d8bee28f-3801-46b0-ad44-b2a2f26c9d88",
   "metadata": {},
   "outputs": [
    {
     "data": {
      "text/html": [
       "<style>\n",
       ".dl-inline {width: auto; margin:0; padding: 0}\n",
       ".dl-inline>dt, .dl-inline>dd {float: none; width: auto; display: inline-block}\n",
       ".dl-inline>dt::after {content: \":\\0020\"; padding-right: .5ex}\n",
       ".dl-inline>dt:not(:first-of-type) {padding-left: .5ex}\n",
       "</style><dl class=dl-inline><dt>x</dt><dd>15</dd><dt>y</dt><dd>25</dd></dl>\n"
      ],
      "text/latex": [
       "\\begin{description*}\n",
       "\\item[x] 15\n",
       "\\item[y] 25\n",
       "\\end{description*}\n"
      ],
      "text/markdown": [
       "x\n",
       ":   15y\n",
       ":   25\n",
       "\n"
      ],
      "text/plain": [
       " x  y \n",
       "15 25 "
      ]
     },
     "metadata": {},
     "output_type": "display_data"
    }
   ],
   "source": [
    "apply(df[c(1,2)],2,sum)"
   ]
  },
  {
   "cell_type": "markdown",
   "id": "132f863f-fe46-4015-97a9-6258e4983635",
   "metadata": {},
   "source": [
    "- 데이터프레임의 부분 객체 만들기\n",
    "  - 데이터 프레임 객체의 데이터를 대상으로 조건에 만족하는 행을 추출하여 독립된 객체를 생성할 수 있다."
   ]
  },
  {
   "cell_type": "code",
   "execution_count": 128,
   "id": "44c12cf5-f6a7-4690-9e18-22b493a0a0e7",
   "metadata": {},
   "outputs": [
    {
     "data": {
      "text/html": [
       "<table class=\"dataframe\">\n",
       "<caption>A data.frame: 3 × 3</caption>\n",
       "<thead>\n",
       "\t<tr><th></th><th scope=col>x</th><th scope=col>y</th><th scope=col>z</th></tr>\n",
       "\t<tr><th></th><th scope=col>&lt;int&gt;</th><th scope=col>&lt;dbl&gt;</th><th scope=col>&lt;chr&gt;</th></tr>\n",
       "</thead>\n",
       "<tbody>\n",
       "\t<tr><th scope=row>3</th><td>3</td><td>5</td><td>avs</td></tr>\n",
       "\t<tr><th scope=row>4</th><td>4</td><td>7</td><td>S  </td></tr>\n",
       "\t<tr><th scope=row>5</th><td>5</td><td>9</td><td>S  </td></tr>\n",
       "</tbody>\n",
       "</table>\n"
      ],
      "text/latex": [
       "A data.frame: 3 × 3\n",
       "\\begin{tabular}{r|lll}\n",
       "  & x & y & z\\\\\n",
       "  & <int> & <dbl> & <chr>\\\\\n",
       "\\hline\n",
       "\t3 & 3 & 5 & avs\\\\\n",
       "\t4 & 4 & 7 & S  \\\\\n",
       "\t5 & 5 & 9 & S  \\\\\n",
       "\\end{tabular}\n"
      ],
      "text/markdown": [
       "\n",
       "A data.frame: 3 × 3\n",
       "\n",
       "| <!--/--> | x &lt;int&gt; | y &lt;dbl&gt; | z &lt;chr&gt; |\n",
       "|---|---|---|---|\n",
       "| 3 | 3 | 5 | avs |\n",
       "| 4 | 4 | 7 | S   |\n",
       "| 5 | 5 | 9 | S   |\n",
       "\n"
      ],
      "text/plain": [
       "  x y z  \n",
       "3 3 5 avs\n",
       "4 4 7 S  \n",
       "5 5 9 S  "
      ]
     },
     "metadata": {},
     "output_type": "display_data"
    }
   ],
   "source": [
    "x1 <- subset(df,x>=3)\n",
    "x1"
   ]
  },
  {
   "cell_type": "markdown",
   "id": "2861e0be-276d-430a-af76-8845a86d1291",
   "metadata": {},
   "source": [
    "- 행 기준이다."
   ]
  },
  {
   "cell_type": "code",
   "execution_count": 129,
   "id": "3ebf17ab-0258-4fae-98cb-d2b520103604",
   "metadata": {},
   "outputs": [
    {
     "data": {
      "text/html": [
       "<table class=\"dataframe\">\n",
       "<caption>A data.frame: 2 × 3</caption>\n",
       "<thead>\n",
       "\t<tr><th></th><th scope=col>x</th><th scope=col>y</th><th scope=col>z</th></tr>\n",
       "\t<tr><th></th><th scope=col>&lt;int&gt;</th><th scope=col>&lt;dbl&gt;</th><th scope=col>&lt;chr&gt;</th></tr>\n",
       "</thead>\n",
       "<tbody>\n",
       "\t<tr><th scope=row>2</th><td>2</td><td>3</td><td>aavd</td></tr>\n",
       "\t<tr><th scope=row>3</th><td>3</td><td>5</td><td>avs </td></tr>\n",
       "</tbody>\n",
       "</table>\n"
      ],
      "text/latex": [
       "A data.frame: 2 × 3\n",
       "\\begin{tabular}{r|lll}\n",
       "  & x & y & z\\\\\n",
       "  & <int> & <dbl> & <chr>\\\\\n",
       "\\hline\n",
       "\t2 & 2 & 3 & aavd\\\\\n",
       "\t3 & 3 & 5 & avs \\\\\n",
       "\\end{tabular}\n"
      ],
      "text/markdown": [
       "\n",
       "A data.frame: 2 × 3\n",
       "\n",
       "| <!--/--> | x &lt;int&gt; | y &lt;dbl&gt; | z &lt;chr&gt; |\n",
       "|---|---|---|---|\n",
       "| 2 | 2 | 3 | aavd |\n",
       "| 3 | 3 | 5 | avs  |\n",
       "\n"
      ],
      "text/plain": [
       "  x y z   \n",
       "2 2 3 aavd\n",
       "3 3 5 avs "
      ]
     },
     "metadata": {},
     "output_type": "display_data"
    }
   ],
   "source": [
    "x2 <- subset(df, x>=2 & y<=6)\n",
    "x2"
   ]
  },
  {
   "cell_type": "markdown",
   "id": "f3a5f563-5f21-4834-bbaa-8b0da1ed6e04",
   "metadata": {},
   "source": [
    "- 이렇게 두 개의 조건으로 부분 객체를 만들 수도 있다."
   ]
  },
  {
   "cell_type": "markdown",
   "id": "f61c0a1b-179f-497e-b44e-5b6da7185cc6",
   "metadata": {},
   "source": [
    "---"
   ]
  },
  {
   "cell_type": "code",
   "execution_count": 130,
   "id": "fca5d3ce-3c5e-4c31-b51e-b8c938a4d2dc",
   "metadata": {},
   "outputs": [
    {
     "data": {
      "text/html": [
       "<table class=\"dataframe\">\n",
       "<caption>A data.frame: 4 × 3</caption>\n",
       "<thead>\n",
       "\t<tr><th scope=col>sid</th><th scope=col>score</th><th scope=col>subject</th></tr>\n",
       "\t<tr><th scope=col>&lt;chr&gt;</th><th scope=col>&lt;dbl&gt;</th><th scope=col>&lt;chr&gt;</th></tr>\n",
       "</thead>\n",
       "<tbody>\n",
       "\t<tr><td>a</td><td> 12</td><td>컴퓨터1</td></tr>\n",
       "\t<tr><td>b</td><td>123</td><td>컴퓨터2</td></tr>\n",
       "\t<tr><td>c</td><td> 13</td><td>컴퓨터3</td></tr>\n",
       "\t<tr><td>d</td><td>  5</td><td>컴퓨터4</td></tr>\n",
       "</tbody>\n",
       "</table>\n"
      ],
      "text/latex": [
       "A data.frame: 4 × 3\n",
       "\\begin{tabular}{lll}\n",
       " sid & score & subject\\\\\n",
       " <chr> & <dbl> & <chr>\\\\\n",
       "\\hline\n",
       "\t a &  12 & 컴퓨터1\\\\\n",
       "\t b & 123 & 컴퓨터2\\\\\n",
       "\t c &  13 & 컴퓨터3\\\\\n",
       "\t d &   5 & 컴퓨터4\\\\\n",
       "\\end{tabular}\n"
      ],
      "text/markdown": [
       "\n",
       "A data.frame: 4 × 3\n",
       "\n",
       "| sid &lt;chr&gt; | score &lt;dbl&gt; | subject &lt;chr&gt; |\n",
       "|---|---|---|\n",
       "| a |  12 | 컴퓨터1 |\n",
       "| b | 123 | 컴퓨터2 |\n",
       "| c |  13 | 컴퓨터3 |\n",
       "| d |   5 | 컴퓨터4 |\n",
       "\n"
      ],
      "text/plain": [
       "  sid score subject\n",
       "1 a    12   컴퓨터1\n",
       "2 b   123   컴퓨터2\n",
       "3 c    13   컴퓨터3\n",
       "4 d     5   컴퓨터4"
      ]
     },
     "metadata": {},
     "output_type": "display_data"
    }
   ],
   "source": [
    "sid = c('a','b','c','d')\n",
    "score = c(12,123,13,5)\n",
    "subject = c('컴퓨터1','컴퓨터2','컴퓨터3','컴퓨터4')\n",
    "\n",
    "student = data.frame(sid ,score, subject)\n",
    "student"
   ]
  },
  {
   "cell_type": "code",
   "execution_count": 131,
   "id": "a612dca4-ec92-460e-9472-b9425fb55478",
   "metadata": {},
   "outputs": [
    {
     "data": {
      "text/html": [
       "'list'"
      ],
      "text/latex": [
       "'list'"
      ],
      "text/markdown": [
       "'list'"
      ],
      "text/plain": [
       "[1] \"list\""
      ]
     },
     "metadata": {},
     "output_type": "display_data"
    },
    {
     "data": {
      "text/html": [
       "'data.frame'"
      ],
      "text/latex": [
       "'data.frame'"
      ],
      "text/markdown": [
       "'data.frame'"
      ],
      "text/plain": [
       "[1] \"data.frame\""
      ]
     },
     "metadata": {},
     "output_type": "display_data"
    }
   ],
   "source": [
    "mode(student)\n",
    "class(student)"
   ]
  },
  {
   "cell_type": "code",
   "execution_count": 132,
   "id": "2795afe1-31ff-4505-a543-382679da59b5",
   "metadata": {},
   "outputs": [
    {
     "name": "stdout",
     "output_type": "stream",
     "text": [
      " chr [1:4] \"a\" \"b\" \"c\" \"d\"\n",
      " num [1:4] 12 123 13 5\n",
      " chr [1:4] \"컴퓨터1\" \"컴퓨터2\" \"컴퓨터3\" \"컴퓨터4\"\n",
      "'data.frame':\t4 obs. of  3 variables:\n",
      " $ sid    : chr  \"a\" \"b\" \"c\" \"d\"\n",
      " $ score  : num  12 123 13 5\n",
      " $ subject: chr  \"컴퓨터1\" \"컴퓨터2\" \"컴퓨터3\" \"컴퓨터4\"\n"
     ]
    }
   ],
   "source": [
    "str(sid);str(score);str(subject);str(student)\n",
    "# 벡터 자료구조와 데이터 프레임 자료구조"
   ]
  },
  {
   "cell_type": "markdown",
   "id": "bb30a782-72cb-4de7-b9c0-c6e1a0118a05",
   "metadata": {},
   "source": [
    "---"
   ]
  },
  {
   "cell_type": "code",
   "execution_count": 133,
   "id": "8f2de782-95b6-4910-acea-90e61d3f0833",
   "metadata": {},
   "outputs": [],
   "source": [
    "h <- data.frame(id = c(1,2), height = c(123,1234))\n",
    "w <- data.frame(id2 = c(1,2), weight = c(123,43))"
   ]
  },
  {
   "cell_type": "code",
   "execution_count": 134,
   "id": "8e3f05cf-5d0d-4df6-8fb2-13d49bc109cb",
   "metadata": {},
   "outputs": [
    {
     "data": {
      "text/html": [
       "<table class=\"dataframe\">\n",
       "<caption>A data.frame: 2 × 2</caption>\n",
       "<thead>\n",
       "\t<tr><th scope=col>id</th><th scope=col>height</th></tr>\n",
       "\t<tr><th scope=col>&lt;dbl&gt;</th><th scope=col>&lt;dbl&gt;</th></tr>\n",
       "</thead>\n",
       "<tbody>\n",
       "\t<tr><td>1</td><td> 123</td></tr>\n",
       "\t<tr><td>2</td><td>1234</td></tr>\n",
       "</tbody>\n",
       "</table>\n"
      ],
      "text/latex": [
       "A data.frame: 2 × 2\n",
       "\\begin{tabular}{ll}\n",
       " id & height\\\\\n",
       " <dbl> & <dbl>\\\\\n",
       "\\hline\n",
       "\t 1 &  123\\\\\n",
       "\t 2 & 1234\\\\\n",
       "\\end{tabular}\n"
      ],
      "text/markdown": [
       "\n",
       "A data.frame: 2 × 2\n",
       "\n",
       "| id &lt;dbl&gt; | height &lt;dbl&gt; |\n",
       "|---|---|\n",
       "| 1 |  123 |\n",
       "| 2 | 1234 |\n",
       "\n"
      ],
      "text/plain": [
       "  id height\n",
       "1 1   123  \n",
       "2 2  1234  "
      ]
     },
     "metadata": {},
     "output_type": "display_data"
    },
    {
     "data": {
      "text/html": [
       "<table class=\"dataframe\">\n",
       "<caption>A data.frame: 2 × 2</caption>\n",
       "<thead>\n",
       "\t<tr><th scope=col>id2</th><th scope=col>weight</th></tr>\n",
       "\t<tr><th scope=col>&lt;dbl&gt;</th><th scope=col>&lt;dbl&gt;</th></tr>\n",
       "</thead>\n",
       "<tbody>\n",
       "\t<tr><td>1</td><td>123</td></tr>\n",
       "\t<tr><td>2</td><td> 43</td></tr>\n",
       "</tbody>\n",
       "</table>\n"
      ],
      "text/latex": [
       "A data.frame: 2 × 2\n",
       "\\begin{tabular}{ll}\n",
       " id2 & weight\\\\\n",
       " <dbl> & <dbl>\\\\\n",
       "\\hline\n",
       "\t 1 & 123\\\\\n",
       "\t 2 &  43\\\\\n",
       "\\end{tabular}\n"
      ],
      "text/markdown": [
       "\n",
       "A data.frame: 2 × 2\n",
       "\n",
       "| id2 &lt;dbl&gt; | weight &lt;dbl&gt; |\n",
       "|---|---|\n",
       "| 1 | 123 |\n",
       "| 2 |  43 |\n",
       "\n"
      ],
      "text/plain": [
       "  id2 weight\n",
       "1 1   123   \n",
       "2 2    43   "
      ]
     },
     "metadata": {},
     "output_type": "display_data"
    }
   ],
   "source": [
    "h;w"
   ]
  },
  {
   "cell_type": "code",
   "execution_count": 135,
   "id": "5fd317cd-9ca2-4365-bc62-7bd4283b925b",
   "metadata": {},
   "outputs": [
    {
     "data": {
      "text/html": [
       "<table class=\"dataframe\">\n",
       "<caption>A data.frame: 2 × 3</caption>\n",
       "<thead>\n",
       "\t<tr><th scope=col>id</th><th scope=col>height</th><th scope=col>weight</th></tr>\n",
       "\t<tr><th scope=col>&lt;dbl&gt;</th><th scope=col>&lt;dbl&gt;</th><th scope=col>&lt;dbl&gt;</th></tr>\n",
       "</thead>\n",
       "<tbody>\n",
       "\t<tr><td>1</td><td> 123</td><td>123</td></tr>\n",
       "\t<tr><td>2</td><td>1234</td><td> 43</td></tr>\n",
       "</tbody>\n",
       "</table>\n"
      ],
      "text/latex": [
       "A data.frame: 2 × 3\n",
       "\\begin{tabular}{lll}\n",
       " id & height & weight\\\\\n",
       " <dbl> & <dbl> & <dbl>\\\\\n",
       "\\hline\n",
       "\t 1 &  123 & 123\\\\\n",
       "\t 2 & 1234 &  43\\\\\n",
       "\\end{tabular}\n"
      ],
      "text/markdown": [
       "\n",
       "A data.frame: 2 × 3\n",
       "\n",
       "| id &lt;dbl&gt; | height &lt;dbl&gt; | weight &lt;dbl&gt; |\n",
       "|---|---|---|\n",
       "| 1 |  123 | 123 |\n",
       "| 2 | 1234 |  43 |\n",
       "\n"
      ],
      "text/plain": [
       "  id height weight\n",
       "1 1   123   123   \n",
       "2 2  1234    43   "
      ]
     },
     "metadata": {},
     "output_type": "display_data"
    }
   ],
   "source": [
    "merge(h,w,by.x='id',by.y='id2')"
   ]
  },
  {
   "cell_type": "markdown",
   "id": "2fdbc21e-565f-4459-83c2-b21715610395",
   "metadata": {},
   "source": [
    "- by.x='id',by.y='id2' -> 병합 시에 기준이 되는 칼럼명이 상이할 때 사용함"
   ]
  },
  {
   "cell_type": "markdown",
   "id": "765e962a-cd49-4c39-9793-83040574ab46",
   "metadata": {},
   "source": [
    "---"
   ]
  },
  {
   "cell_type": "code",
   "execution_count": 136,
   "id": "a0d57c52-faeb-4dee-95b5-fcc3271f6476",
   "metadata": {},
   "outputs": [
    {
     "name": "stdout",
     "output_type": "stream",
     "text": [
      "package 'UsingR' successfully unpacked and MD5 sums checked\n",
      "\n",
      "The downloaded binary packages are in\n",
      "\tC:\\Users\\ehfus\\AppData\\Local\\Temp\\RtmpYpStoY\\downloaded_packages\n"
     ]
    },
    {
     "name": "stderr",
     "output_type": "stream",
     "text": [
      "Loading required package: MASS\n",
      "\n",
      "Loading required package: HistData\n",
      "\n",
      "Loading required package: Hmisc\n",
      "\n",
      "Loading required package: lattice\n",
      "\n",
      "Loading required package: survival\n",
      "\n",
      "Loading required package: Formula\n",
      "\n",
      "Loading required package: ggplot2\n",
      "\n",
      "\n",
      "Attaching package: 'Hmisc'\n",
      "\n",
      "\n",
      "The following objects are masked from 'package:base':\n",
      "\n",
      "    format.pval, units\n",
      "\n",
      "\n",
      "\n",
      "Attaching package: 'UsingR'\n",
      "\n",
      "\n",
      "The following object is masked from 'package:survival':\n",
      "\n",
      "    cancer\n",
      "\n",
      "\n"
     ]
    }
   ],
   "source": [
    "install.packages('UsingR') # 패키지 설치\n",
    "library(UsingR) # 패키지 로드\n",
    "data(galton) # galton 데이터 셋 가져오기"
   ]
  },
  {
   "cell_type": "code",
   "execution_count": 137,
   "id": "444358ca-aa17-4c53-9311-41edf82519a6",
   "metadata": {},
   "outputs": [
    {
     "name": "stdout",
     "output_type": "stream",
     "text": [
      "'data.frame':\t928 obs. of  2 variables:\n",
      " $ child : num  61.7 61.7 61.7 61.7 61.7 62.2 62.2 62.2 62.2 62.2 ...\n",
      " $ parent: num  70.5 68.5 65.5 64.5 64 67.5 67.5 67.5 66.5 66.5 ...\n"
     ]
    }
   ],
   "source": [
    "str(galton)"
   ]
  },
  {
   "cell_type": "code",
   "execution_count": 138,
   "id": "c39946ef-c609-4ed1-a6c9-b17f34e2fb50",
   "metadata": {},
   "outputs": [
    {
     "data": {
      "text/html": [
       "<style>\n",
       ".list-inline {list-style: none; margin:0; padding: 0}\n",
       ".list-inline>li {display: inline-block}\n",
       ".list-inline>li:not(:last-child)::after {content: \"\\00b7\"; padding: 0 .5ex}\n",
       "</style>\n",
       "<ol class=list-inline><li>928</li><li>2</li></ol>\n"
      ],
      "text/latex": [
       "\\begin{enumerate*}\n",
       "\\item 928\n",
       "\\item 2\n",
       "\\end{enumerate*}\n"
      ],
      "text/markdown": [
       "1. 928\n",
       "2. 2\n",
       "\n",
       "\n"
      ],
      "text/plain": [
       "[1] 928   2"
      ]
     },
     "metadata": {},
     "output_type": "display_data"
    }
   ],
   "source": [
    "dim(galton)"
   ]
  },
  {
   "cell_type": "code",
   "execution_count": 139,
   "id": "1c61f010-fc68-44d4-a08f-87e356d76bb0",
   "metadata": {},
   "outputs": [
    {
     "data": {
      "text/html": [
       "<table class=\"dataframe\">\n",
       "<caption>A data.frame: 5 × 2</caption>\n",
       "<thead>\n",
       "\t<tr><th></th><th scope=col>child</th><th scope=col>parent</th></tr>\n",
       "\t<tr><th></th><th scope=col>&lt;dbl&gt;</th><th scope=col>&lt;dbl&gt;</th></tr>\n",
       "</thead>\n",
       "<tbody>\n",
       "\t<tr><th scope=row>1</th><td>61.7</td><td>70.5</td></tr>\n",
       "\t<tr><th scope=row>2</th><td>61.7</td><td>68.5</td></tr>\n",
       "\t<tr><th scope=row>3</th><td>61.7</td><td>65.5</td></tr>\n",
       "\t<tr><th scope=row>4</th><td>61.7</td><td>64.5</td></tr>\n",
       "\t<tr><th scope=row>5</th><td>61.7</td><td>64.0</td></tr>\n",
       "</tbody>\n",
       "</table>\n"
      ],
      "text/latex": [
       "A data.frame: 5 × 2\n",
       "\\begin{tabular}{r|ll}\n",
       "  & child & parent\\\\\n",
       "  & <dbl> & <dbl>\\\\\n",
       "\\hline\n",
       "\t1 & 61.7 & 70.5\\\\\n",
       "\t2 & 61.7 & 68.5\\\\\n",
       "\t3 & 61.7 & 65.5\\\\\n",
       "\t4 & 61.7 & 64.5\\\\\n",
       "\t5 & 61.7 & 64.0\\\\\n",
       "\\end{tabular}\n"
      ],
      "text/markdown": [
       "\n",
       "A data.frame: 5 × 2\n",
       "\n",
       "| <!--/--> | child &lt;dbl&gt; | parent &lt;dbl&gt; |\n",
       "|---|---|---|\n",
       "| 1 | 61.7 | 70.5 |\n",
       "| 2 | 61.7 | 68.5 |\n",
       "| 3 | 61.7 | 65.5 |\n",
       "| 4 | 61.7 | 64.5 |\n",
       "| 5 | 61.7 | 64.0 |\n",
       "\n"
      ],
      "text/plain": [
       "  child parent\n",
       "1 61.7  70.5  \n",
       "2 61.7  68.5  \n",
       "3 61.7  65.5  \n",
       "4 61.7  64.5  \n",
       "5 61.7  64.0  "
      ]
     },
     "metadata": {},
     "output_type": "display_data"
    }
   ],
   "source": [
    "head(galton, 5)"
   ]
  },
  {
   "cell_type": "markdown",
   "id": "0a8905f6-89ce-4afc-ae29-a64bbe1b96bc",
   "metadata": {},
   "source": [
    "---"
   ]
  },
  {
   "cell_type": "markdown",
   "id": "d357de5a-0564-47ab-949a-f354a24785ce",
   "metadata": {},
   "source": [
    "- List 자료구조\n",
    "  - List는 성격이 다른 자료형(문자열, 숫자형, 논리형)과 자료구조(벡터, 행렬, 리스트, 데이터 프레임)를 객체로 생성할 수 있다.\n",
    "  - 하나의 메모리 영역에는 키과 값이 한 쌍\n",
    "  - Python의 dict 자료구조와 유사하다. \n",
    "  - list 생성 함수 : list()\n",
    "  - list 자료 처리 함수 : unlist(), lapply(), sapply()\n",
    "  - list는 키와 값을 한 쌍으로 하여 원소가 저장되는 자료구조이다. 만약 키를 생략하면 자동으로 기본 키가 생성된다."
   ]
  },
  {
   "cell_type": "code",
   "execution_count": 140,
   "id": "86836523-0f5a-48ab-8bb0-2278799c1f0f",
   "metadata": {},
   "outputs": [
    {
     "data": {
      "text/html": [
       "<ol>\n",
       "\t<li>'lee'</li>\n",
       "\t<li>'lee2'</li>\n",
       "\t<li>95</li>\n",
       "</ol>\n"
      ],
      "text/latex": [
       "\\begin{enumerate}\n",
       "\\item 'lee'\n",
       "\\item 'lee2'\n",
       "\\item 95\n",
       "\\end{enumerate}\n"
      ],
      "text/markdown": [
       "1. 'lee'\n",
       "2. 'lee2'\n",
       "3. 95\n",
       "\n",
       "\n"
      ],
      "text/plain": [
       "[[1]]\n",
       "[1] \"lee\"\n",
       "\n",
       "[[2]]\n",
       "[1] \"lee2\"\n",
       "\n",
       "[[3]]\n",
       "[1] 95\n"
      ]
     },
     "metadata": {},
     "output_type": "display_data"
    }
   ],
   "source": [
    "list1 <- list('lee','lee2',95) # list 객체 생성\n",
    "list1"
   ]
  },
  {
   "cell_type": "markdown",
   "id": "63c4b4f1-f470-4e7a-b06b-352c0c2f159d",
   "metadata": {},
   "source": [
    "- key를 지정하지 않아서 임의로 지정됐음\n",
    "- list 객체는 키를 통해서 값이 저장되기 때문에 서로 다른 자료형을 저장할 수 있다.\n",
    "  - list와 data.frame은 상이한 자료형을 혼합할 수 있다."
   ]
  },
  {
   "cell_type": "markdown",
   "id": "25b42fe7-8efe-4cba-ad24-f7f5c6929644",
   "metadata": {},
   "source": [
    "- list를 vector로 변경해보자"
   ]
  },
  {
   "cell_type": "code",
   "execution_count": 141,
   "id": "fde4530e-80ca-4bef-b75e-15569e712cc7",
   "metadata": {},
   "outputs": [
    {
     "data": {
      "text/html": [
       "<style>\n",
       ".list-inline {list-style: none; margin:0; padding: 0}\n",
       ".list-inline>li {display: inline-block}\n",
       ".list-inline>li:not(:last-child)::after {content: \"\\00b7\"; padding: 0 .5ex}\n",
       "</style>\n",
       "<ol class=list-inline><li>'lee'</li><li>'lee2'</li><li>'95'</li></ol>\n"
      ],
      "text/latex": [
       "\\begin{enumerate*}\n",
       "\\item 'lee'\n",
       "\\item 'lee2'\n",
       "\\item '95'\n",
       "\\end{enumerate*}\n"
      ],
      "text/markdown": [
       "1. 'lee'\n",
       "2. 'lee2'\n",
       "3. '95'\n",
       "\n",
       "\n"
      ],
      "text/plain": [
       "[1] \"lee\"  \"lee2\" \"95\"  "
      ]
     },
     "metadata": {},
     "output_type": "display_data"
    }
   ],
   "source": [
    "unlist <- unlist(list1)\n",
    "unlist"
   ]
  },
  {
   "cell_type": "markdown",
   "id": "25e0dc03-7413-48ed-90d5-f166826a9d1b",
   "metadata": {},
   "source": [
    "- 리스트 자료구조에 다량의 데이터가 저장되는 경우 리스트 형태로 출력하면 여러 줄로 출력되기 때문에 벡터 형식으로 변환할 경우 자료 처리가 용이해진다. \n",
    "- `character > numeric > logical 순서로 벡터에 저장되기 때문에 전부 character로 변환하여 반환되었음`"
   ]
  },
  {
   "cell_type": "code",
   "execution_count": 142,
   "id": "cef90ffa-0948-4888-99e7-edf05c33e1a4",
   "metadata": {},
   "outputs": [
    {
     "data": {
      "text/html": [
       "<ol>\n",
       "\t<li><style>\n",
       ".list-inline {list-style: none; margin:0; padding: 0}\n",
       ".list-inline>li {display: inline-block}\n",
       ".list-inline>li:not(:last-child)::after {content: \"\\00b7\"; padding: 0 .5ex}\n",
       "</style>\n",
       "<ol class=list-inline><li>1</li><li>2</li><li>3</li><li>4</li><li>5</li></ol>\n",
       "</li>\n",
       "\t<li><style>\n",
       ".list-inline {list-style: none; margin:0; padding: 0}\n",
       ".list-inline>li {display: inline-block}\n",
       ".list-inline>li:not(:last-child)::after {content: \"\\00b7\"; padding: 0 .5ex}\n",
       "</style>\n",
       "<ol class=list-inline><li>5</li><li>4</li><li>3</li><li>2</li><li>1</li></ol>\n",
       "</li>\n",
       "</ol>\n"
      ],
      "text/latex": [
       "\\begin{enumerate}\n",
       "\\item \\begin{enumerate*}\n",
       "\\item 1\n",
       "\\item 2\n",
       "\\item 3\n",
       "\\item 4\n",
       "\\item 5\n",
       "\\end{enumerate*}\n",
       "\n",
       "\\item \\begin{enumerate*}\n",
       "\\item 5\n",
       "\\item 4\n",
       "\\item 3\n",
       "\\item 2\n",
       "\\item 1\n",
       "\\end{enumerate*}\n",
       "\n",
       "\\end{enumerate}\n"
      ],
      "text/markdown": [
       "1. 1. 1\n",
       "2. 2\n",
       "3. 3\n",
       "4. 4\n",
       "5. 5\n",
       "\n",
       "\n",
       "\n",
       "2. 1. 5\n",
       "2. 4\n",
       "3. 3\n",
       "4. 2\n",
       "5. 1\n",
       "\n",
       "\n",
       "\n",
       "\n",
       "\n"
      ],
      "text/plain": [
       "[[1]]\n",
       "[1] 1 2 3 4 5\n",
       "\n",
       "[[2]]\n",
       "[1] 5 4 3 2 1\n"
      ]
     },
     "metadata": {},
     "output_type": "display_data"
    }
   ],
   "source": [
    "list2 <- list(c(1:5),c(5:1))\n",
    "list2"
   ]
  },
  {
   "cell_type": "code",
   "execution_count": 143,
   "id": "fd6ff6c4-52df-48d4-9367-906eafc30b76",
   "metadata": {},
   "outputs": [
    {
     "data": {
      "text/html": [
       "<ol>\n",
       "\t<li><table class=\"dataframe\">\n",
       "<caption>A matrix: 2 × 3 of type int</caption>\n",
       "<tbody>\n",
       "\t<tr><td>1</td><td>3</td><td>5</td></tr>\n",
       "\t<tr><td>2</td><td>4</td><td>6</td></tr>\n",
       "</tbody>\n",
       "</table>\n",
       "</li>\n",
       "\t<li><style>\n",
       ".list-inline {list-style: none; margin:0; padding: 0}\n",
       ".list-inline>li {display: inline-block}\n",
       ".list-inline>li:not(:last-child)::after {content: \"\\00b7\"; padding: 0 .5ex}\n",
       "</style>\n",
       "<ol class=list-inline><li>1</li><li>2</li><li>3</li><li>4</li><li>5</li><li>6</li><li>7</li><li>8</li><li>9</li><li>10</li><li>11</li><li>12</li></ol>\n",
       "</li>\n",
       "</ol>\n"
      ],
      "text/latex": [
       "\\begin{enumerate}\n",
       "\\item A matrix: 2 × 3 of type int\n",
       "\\begin{tabular}{lll}\n",
       "\t 1 & 3 & 5\\\\\n",
       "\t 2 & 4 & 6\\\\\n",
       "\\end{tabular}\n",
       "\n",
       "\\item \\begin{enumerate*}\n",
       "\\item 1\n",
       "\\item 2\n",
       "\\item 3\n",
       "\\item 4\n",
       "\\item 5\n",
       "\\item 6\n",
       "\\item 7\n",
       "\\item 8\n",
       "\\item 9\n",
       "\\item 10\n",
       "\\item 11\n",
       "\\item 12\n",
       "\\end{enumerate*}\n",
       "\n",
       "\\end{enumerate}\n"
      ],
      "text/markdown": [
       "1. \n",
       "A matrix: 2 × 3 of type int\n",
       "\n",
       "| 1 | 3 | 5 |\n",
       "| 2 | 4 | 6 |\n",
       "\n",
       "\n",
       "2. 1. 1\n",
       "2. 2\n",
       "3. 3\n",
       "4. 4\n",
       "5. 5\n",
       "6. 6\n",
       "7. 7\n",
       "8. 8\n",
       "9. 9\n",
       "10. 10\n",
       "11. 11\n",
       "12. 12\n",
       "\n",
       "\n",
       "\n",
       "\n",
       "\n"
      ],
      "text/plain": [
       "[[1]]\n",
       "     [,1] [,2] [,3]\n",
       "[1,]    1    3    5\n",
       "[2,]    2    4    6\n",
       "\n",
       "[[2]]\n",
       ", , 1\n",
       "\n",
       "     [,1] [,2]\n",
       "[1,]    1    4\n",
       "[2,]    2    5\n",
       "[3,]    3    6\n",
       "\n",
       ", , 2\n",
       "\n",
       "     [,1] [,2]\n",
       "[1,]    7   10\n",
       "[2,]    8   11\n",
       "[3,]    9   12\n",
       "\n"
      ]
     },
     "metadata": {},
     "output_type": "display_data"
    }
   ],
   "source": [
    "list3 <- list(matrix(1:6,2),array(1:12,c(3,2,2)))\n",
    "list3"
   ]
  },
  {
   "cell_type": "markdown",
   "id": "d54ccebc-b418-47ef-b70b-c21e3257e3e0",
   "metadata": {},
   "source": [
    "- `이렇게 list 객체의 value에 저장될 수 있는 자료구조는 VECTOR 뿐만이 아니라 matrix 혹은 array도 가능하다.`"
   ]
  },
  {
   "cell_type": "markdown",
   "id": "4bf270d3-c838-4e3a-a836-722598309584",
   "metadata": {},
   "source": [
    "---"
   ]
  },
  {
   "cell_type": "markdown",
   "id": "1734367b-f046-4559-a6aa-bf963c9fd0a4",
   "metadata": {},
   "source": [
    "- key 명명하자"
   ]
  },
  {
   "cell_type": "code",
   "execution_count": 144,
   "id": "515f5d84-97ef-4f3e-8758-006fe8cf6acf",
   "metadata": {},
   "outputs": [
    {
     "data": {
      "text/html": [
       "<dl>\n",
       "\t<dt>$name</dt>\n",
       "\t\t<dd><style>\n",
       ".list-inline {list-style: none; margin:0; padding: 0}\n",
       ".list-inline>li {display: inline-block}\n",
       ".list-inline>li:not(:last-child)::after {content: \"\\00b7\"; padding: 0 .5ex}\n",
       "</style>\n",
       "<ol class=list-inline><li>'홍길동'</li><li>'유관순'</li></ol>\n",
       "</dd>\n",
       "\t<dt>$age</dt>\n",
       "\t\t<dd><style>\n",
       ".list-inline {list-style: none; margin:0; padding: 0}\n",
       ".list-inline>li {display: inline-block}\n",
       ".list-inline>li:not(:last-child)::after {content: \"\\00b7\"; padding: 0 .5ex}\n",
       "</style>\n",
       "<ol class=list-inline><li>1234</li><li>1245</li></ol>\n",
       "</dd>\n",
       "</dl>\n"
      ],
      "text/latex": [
       "\\begin{description}\n",
       "\\item[\\$name] \\begin{enumerate*}\n",
       "\\item '홍길동'\n",
       "\\item '유관순'\n",
       "\\end{enumerate*}\n",
       "\n",
       "\\item[\\$age] \\begin{enumerate*}\n",
       "\\item 1234\n",
       "\\item 1245\n",
       "\\end{enumerate*}\n",
       "\n",
       "\\end{description}\n"
      ],
      "text/markdown": [
       "$name\n",
       ":   1. '홍길동'\n",
       "2. '유관순'\n",
       "\n",
       "\n",
       "\n",
       "$age\n",
       ":   1. 1234\n",
       "2. 1245\n",
       "\n",
       "\n",
       "\n",
       "\n",
       "\n"
      ],
      "text/plain": [
       "$name\n",
       "[1] \"홍길동\" \"유관순\"\n",
       "\n",
       "$age\n",
       "[1] 1234 1245\n"
      ]
     },
     "metadata": {},
     "output_type": "display_data"
    }
   ],
   "source": [
    "list4 <- list(name = c('홍길동','유관순'), age = c(1234,1245))\n",
    "list4"
   ]
  },
  {
   "cell_type": "code",
   "execution_count": 145,
   "id": "fd843289-ba9c-410a-8f6b-88d5e2ecc3f9",
   "metadata": {},
   "outputs": [
    {
     "data": {
      "text/html": [
       "<style>\n",
       ".list-inline {list-style: none; margin:0; padding: 0}\n",
       ".list-inline>li {display: inline-block}\n",
       ".list-inline>li:not(:last-child)::after {content: \"\\00b7\"; padding: 0 .5ex}\n",
       "</style>\n",
       "<ol class=list-inline><li>'홍길동'</li><li>'유관순'</li></ol>\n"
      ],
      "text/latex": [
       "\\begin{enumerate*}\n",
       "\\item '홍길동'\n",
       "\\item '유관순'\n",
       "\\end{enumerate*}\n"
      ],
      "text/markdown": [
       "1. '홍길동'\n",
       "2. '유관순'\n",
       "\n",
       "\n"
      ],
      "text/plain": [
       "[1] \"홍길동\" \"유관순\""
      ]
     },
     "metadata": {},
     "output_type": "display_data"
    },
    {
     "data": {
      "text/html": [
       "'유관순'"
      ],
      "text/latex": [
       "'유관순'"
      ],
      "text/markdown": [
       "'유관순'"
      ],
      "text/plain": [
       "[1] \"유관순\""
      ]
     },
     "metadata": {},
     "output_type": "display_data"
    }
   ],
   "source": [
    "list4$name\n",
    "list4$name[2]"
   ]
  },
  {
   "cell_type": "code",
   "execution_count": 146,
   "id": "903fbd45-822a-43d7-a952-916fc5d3ecb2",
   "metadata": {},
   "outputs": [
    {
     "data": {
      "text/html": [
       "<style>\n",
       ".list-inline {list-style: none; margin:0; padding: 0}\n",
       ".list-inline>li {display: inline-block}\n",
       ".list-inline>li:not(:last-child)::after {content: \"\\00b7\"; padding: 0 .5ex}\n",
       "</style>\n",
       "<ol class=list-inline><li>1234</li><li>1245</li></ol>\n"
      ],
      "text/latex": [
       "\\begin{enumerate*}\n",
       "\\item 1234\n",
       "\\item 1245\n",
       "\\end{enumerate*}\n"
      ],
      "text/markdown": [
       "1. 1234\n",
       "2. 1245\n",
       "\n",
       "\n"
      ],
      "text/plain": [
       "[1] 1234 1245"
      ]
     },
     "metadata": {},
     "output_type": "display_data"
    },
    {
     "data": {
      "text/html": [
       "1234"
      ],
      "text/latex": [
       "1234"
      ],
      "text/markdown": [
       "1234"
      ],
      "text/plain": [
       "[1] 1234"
      ]
     },
     "metadata": {},
     "output_type": "display_data"
    }
   ],
   "source": [
    "list4$age\n",
    "list4$age[1]"
   ]
  },
  {
   "cell_type": "code",
   "execution_count": 147,
   "id": "e066a14f-621c-4a1c-9eb4-867a12441d98",
   "metadata": {},
   "outputs": [],
   "source": [
    "list4$age[1]<-1245 # 원소 수정 가능\n",
    "list4$newkey <- 'asdf' # 새로운 키 추가\n",
    "list4$newkey[c(1,2)] <- c(124,1255) # 새롭게 추가 된 키에 새로운 value 추가"
   ]
  },
  {
   "cell_type": "code",
   "execution_count": 148,
   "id": "d15d2ab1-5ab5-4908-b02f-93c93bdd82ff",
   "metadata": {},
   "outputs": [
    {
     "data": {
      "text/html": [
       "<dl>\n",
       "\t<dt>$name</dt>\n",
       "\t\t<dd><style>\n",
       ".list-inline {list-style: none; margin:0; padding: 0}\n",
       ".list-inline>li {display: inline-block}\n",
       ".list-inline>li:not(:last-child)::after {content: \"\\00b7\"; padding: 0 .5ex}\n",
       "</style>\n",
       "<ol class=list-inline><li>'홍길동'</li><li>'유관순'</li></ol>\n",
       "</dd>\n",
       "\t<dt>$age</dt>\n",
       "\t\t<dd><style>\n",
       ".list-inline {list-style: none; margin:0; padding: 0}\n",
       ".list-inline>li {display: inline-block}\n",
       ".list-inline>li:not(:last-child)::after {content: \"\\00b7\"; padding: 0 .5ex}\n",
       "</style>\n",
       "<ol class=list-inline><li>1245</li><li>1245</li></ol>\n",
       "</dd>\n",
       "\t<dt>$newkey</dt>\n",
       "\t\t<dd><style>\n",
       ".list-inline {list-style: none; margin:0; padding: 0}\n",
       ".list-inline>li {display: inline-block}\n",
       ".list-inline>li:not(:last-child)::after {content: \"\\00b7\"; padding: 0 .5ex}\n",
       "</style>\n",
       "<ol class=list-inline><li>'124'</li><li>'1255'</li></ol>\n",
       "</dd>\n",
       "</dl>\n"
      ],
      "text/latex": [
       "\\begin{description}\n",
       "\\item[\\$name] \\begin{enumerate*}\n",
       "\\item '홍길동'\n",
       "\\item '유관순'\n",
       "\\end{enumerate*}\n",
       "\n",
       "\\item[\\$age] \\begin{enumerate*}\n",
       "\\item 1245\n",
       "\\item 1245\n",
       "\\end{enumerate*}\n",
       "\n",
       "\\item[\\$newkey] \\begin{enumerate*}\n",
       "\\item '124'\n",
       "\\item '1255'\n",
       "\\end{enumerate*}\n",
       "\n",
       "\\end{description}\n"
      ],
      "text/markdown": [
       "$name\n",
       ":   1. '홍길동'\n",
       "2. '유관순'\n",
       "\n",
       "\n",
       "\n",
       "$age\n",
       ":   1. 1245\n",
       "2. 1245\n",
       "\n",
       "\n",
       "\n",
       "$newkey\n",
       ":   1. '124'\n",
       "2. '1255'\n",
       "\n",
       "\n",
       "\n",
       "\n",
       "\n"
      ],
      "text/plain": [
       "$name\n",
       "[1] \"홍길동\" \"유관순\"\n",
       "\n",
       "$age\n",
       "[1] 1245 1245\n",
       "\n",
       "$newkey\n",
       "[1] \"124\"  \"1255\"\n"
      ]
     },
     "metadata": {},
     "output_type": "display_data"
    }
   ],
   "source": [
    "list4"
   ]
  },
  {
   "cell_type": "code",
   "execution_count": 149,
   "id": "5e0ae92c-a102-4f94-bb90-b20ceaff7da1",
   "metadata": {},
   "outputs": [
    {
     "data": {
      "text/html": [
       "3"
      ],
      "text/latex": [
       "3"
      ],
      "text/markdown": [
       "3"
      ],
      "text/plain": [
       "[1] 3"
      ]
     },
     "metadata": {},
     "output_type": "display_data"
    },
    {
     "data": {
      "text/html": [
       "2"
      ],
      "text/latex": [
       "2"
      ],
      "text/markdown": [
       "2"
      ],
      "text/plain": [
       "[1] 2"
      ]
     },
     "metadata": {},
     "output_type": "display_data"
    },
    {
     "data": {
      "text/html": [
       "'list'"
      ],
      "text/latex": [
       "'list'"
      ],
      "text/markdown": [
       "'list'"
      ],
      "text/plain": [
       "[1] \"list\""
      ]
     },
     "metadata": {},
     "output_type": "display_data"
    },
    {
     "data": {
      "text/html": [
       "'list'"
      ],
      "text/latex": [
       "'list'"
      ],
      "text/markdown": [
       "'list'"
      ],
      "text/plain": [
       "[1] \"list\""
      ]
     },
     "metadata": {},
     "output_type": "display_data"
    }
   ],
   "source": [
    "length(list4)\n",
    "length(list4$name)\n",
    "mode(list4)\n",
    "class(list4)"
   ]
  },
  {
   "cell_type": "code",
   "execution_count": 150,
   "id": "67b4745c-0e61-43c5-968e-7ba17eccd29c",
   "metadata": {},
   "outputs": [],
   "source": [
    "list4$new<- NULL"
   ]
  },
  {
   "cell_type": "code",
   "execution_count": 151,
   "id": "3e11117a-ff87-406b-b5fb-c3ee8d09f38a",
   "metadata": {},
   "outputs": [
    {
     "data": {
      "text/html": [
       "<dl>\n",
       "\t<dt>$name</dt>\n",
       "\t\t<dd><style>\n",
       ".list-inline {list-style: none; margin:0; padding: 0}\n",
       ".list-inline>li {display: inline-block}\n",
       ".list-inline>li:not(:last-child)::after {content: \"\\00b7\"; padding: 0 .5ex}\n",
       "</style>\n",
       "<ol class=list-inline><li>'홍길동'</li><li>'유관순'</li></ol>\n",
       "</dd>\n",
       "\t<dt>$age</dt>\n",
       "\t\t<dd><style>\n",
       ".list-inline {list-style: none; margin:0; padding: 0}\n",
       ".list-inline>li {display: inline-block}\n",
       ".list-inline>li:not(:last-child)::after {content: \"\\00b7\"; padding: 0 .5ex}\n",
       "</style>\n",
       "<ol class=list-inline><li>1245</li><li>1245</li></ol>\n",
       "</dd>\n",
       "\t<dt>$newkey</dt>\n",
       "\t\t<dd><style>\n",
       ".list-inline {list-style: none; margin:0; padding: 0}\n",
       ".list-inline>li {display: inline-block}\n",
       ".list-inline>li:not(:last-child)::after {content: \"\\00b7\"; padding: 0 .5ex}\n",
       "</style>\n",
       "<ol class=list-inline><li>'124'</li><li>'1255'</li></ol>\n",
       "</dd>\n",
       "</dl>\n"
      ],
      "text/latex": [
       "\\begin{description}\n",
       "\\item[\\$name] \\begin{enumerate*}\n",
       "\\item '홍길동'\n",
       "\\item '유관순'\n",
       "\\end{enumerate*}\n",
       "\n",
       "\\item[\\$age] \\begin{enumerate*}\n",
       "\\item 1245\n",
       "\\item 1245\n",
       "\\end{enumerate*}\n",
       "\n",
       "\\item[\\$newkey] \\begin{enumerate*}\n",
       "\\item '124'\n",
       "\\item '1255'\n",
       "\\end{enumerate*}\n",
       "\n",
       "\\end{description}\n"
      ],
      "text/markdown": [
       "$name\n",
       ":   1. '홍길동'\n",
       "2. '유관순'\n",
       "\n",
       "\n",
       "\n",
       "$age\n",
       ":   1. 1245\n",
       "2. 1245\n",
       "\n",
       "\n",
       "\n",
       "$newkey\n",
       ":   1. '124'\n",
       "2. '1255'\n",
       "\n",
       "\n",
       "\n",
       "\n",
       "\n"
      ],
      "text/plain": [
       "$name\n",
       "[1] \"홍길동\" \"유관순\"\n",
       "\n",
       "$age\n",
       "[1] 1245 1245\n",
       "\n",
       "$newkey\n",
       "[1] \"124\"  \"1255\"\n"
      ]
     },
     "metadata": {},
     "output_type": "display_data"
    }
   ],
   "source": [
    "list4"
   ]
  },
  {
   "cell_type": "markdown",
   "id": "f5dcab67-2c14-4b08-aea9-319b802924c2",
   "metadata": {},
   "source": [
    "- 일부 key와 value 제거"
   ]
  },
  {
   "cell_type": "code",
   "execution_count": 152,
   "id": "fd7b5c91-c0c4-4907-bc08-ecffb77b242a",
   "metadata": {},
   "outputs": [],
   "source": [
    "list4 <- NULL"
   ]
  },
  {
   "cell_type": "code",
   "execution_count": 153,
   "id": "907dc029-4c6b-43af-b1c5-dd1694e9bc79",
   "metadata": {},
   "outputs": [
    {
     "data": {
      "text/plain": [
       "NULL"
      ]
     },
     "metadata": {},
     "output_type": "display_data"
    }
   ],
   "source": [
    "list4"
   ]
  },
  {
   "cell_type": "markdown",
   "id": "183fc674-b11e-4eed-bb04-74dd515541bf",
   "metadata": {},
   "source": [
    "- 모두 제거"
   ]
  },
  {
   "cell_type": "markdown",
   "id": "1edc63fe-c6d9-43df-ab21-4661d3b1759c",
   "metadata": {},
   "source": [
    "---"
   ]
  },
  {
   "cell_type": "markdown",
   "id": "518f60b3-54b6-40f9-8771-b8a519ddf52b",
   "metadata": {},
   "source": [
    "- 리스트 객체의 자료 처리 함수"
   ]
  },
  {
   "cell_type": "code",
   "execution_count": 154,
   "id": "eca75cec-9f3b-4b11-bfbd-dc9dd5dd07b0",
   "metadata": {},
   "outputs": [
    {
     "data": {
      "text/html": [
       "<ol>\n",
       "\t<li>5</li>\n",
       "\t<li>10</li>\n",
       "</ol>\n"
      ],
      "text/latex": [
       "\\begin{enumerate}\n",
       "\\item 5\n",
       "\\item 10\n",
       "\\end{enumerate}\n"
      ],
      "text/markdown": [
       "1. 5\n",
       "2. 10\n",
       "\n",
       "\n"
      ],
      "text/plain": [
       "[[1]]\n",
       "[1] 5\n",
       "\n",
       "[[2]]\n",
       "[1] 10\n"
      ]
     },
     "metadata": {},
     "output_type": "display_data"
    }
   ],
   "source": [
    "a = list(c(1:5))\n",
    "b = list(c(6:10))\n",
    "lapply(c(a,b),max) # 리스트 객체에 max 함수 적용"
   ]
  },
  {
   "cell_type": "markdown",
   "id": "8dc22527-8dbc-4d1f-a443-40d95f789bd3",
   "metadata": {},
   "source": [
    "- lapply() 함수는 두 개의 리스트 객체 a와 b를 대상으로 max() 함수를 적용하여 각 리스트 객체의 자료 중에서 가장 큰 값을 리스트 형태로 반환한다. \n",
    "- 동일한 결과를 벡터 형식으로 반환해보자"
   ]
  },
  {
   "cell_type": "code",
   "execution_count": 155,
   "id": "015497ce-efca-4308-8b43-abbb652d1a2e",
   "metadata": {},
   "outputs": [
    {
     "data": {
      "text/html": [
       "<style>\n",
       ".list-inline {list-style: none; margin:0; padding: 0}\n",
       ".list-inline>li {display: inline-block}\n",
       ".list-inline>li:not(:last-child)::after {content: \"\\00b7\"; padding: 0 .5ex}\n",
       "</style>\n",
       "<ol class=list-inline><li>5</li><li>10</li></ol>\n"
      ],
      "text/latex": [
       "\\begin{enumerate*}\n",
       "\\item 5\n",
       "\\item 10\n",
       "\\end{enumerate*}\n"
      ],
      "text/markdown": [
       "1. 5\n",
       "2. 10\n",
       "\n",
       "\n"
      ],
      "text/plain": [
       "[1]  5 10"
      ]
     },
     "metadata": {},
     "output_type": "display_data"
    }
   ],
   "source": [
    "sapply(c(a,b),max)"
   ]
  },
  {
   "cell_type": "markdown",
   "id": "725d0016-6f83-4258-9f7a-7f0ba82e45ac",
   "metadata": {},
   "source": [
    "- lapply()는 연산 결과를 리스트 형태로 반환하지만, sapply()는 결과를 벡터형식으로 반환하기 때문에 많은 원소를 포함하고 있는 리스트 객체를 보다 효과적으로 처리할 수 있다."
   ]
  },
  {
   "cell_type": "markdown",
   "id": "af8c35f6-11b6-49c9-b557-5bada91a742a",
   "metadata": {},
   "source": [
    "---"
   ]
  },
  {
   "cell_type": "markdown",
   "id": "519eb098-ee5c-4fd9-bf6e-400fe50301bb",
   "metadata": {},
   "source": [
    "- 다차원 리스트 객체를 생성해보자\n",
    "  - 리스트 자료구조에 또 다른 리스트가 중첩된 자료구조를 다차원 리스트라고 한다.\n",
    "  - 즉 value가 list이다"
   ]
  },
  {
   "cell_type": "code",
   "execution_count": 156,
   "id": "ed418c56-a28b-4404-ae0a-94110a0a0ec9",
   "metadata": {},
   "outputs": [
    {
     "data": {
      "text/html": [
       "<dl>\n",
       "\t<dt>$c1</dt>\n",
       "\t\t<dd><ol>\n",
       "\t<li>1</li>\n",
       "\t<li>2</li>\n",
       "\t<li>3</li>\n",
       "</ol>\n",
       "</dd>\n",
       "\t<dt>$c2</dt>\n",
       "\t\t<dd><ol>\n",
       "\t<li>4</li>\n",
       "\t<li>5</li>\n",
       "\t<li>6</li>\n",
       "</ol>\n",
       "</dd>\n",
       "\t<dt>$c3</dt>\n",
       "\t\t<dd><ol>\n",
       "\t<li>7</li>\n",
       "\t<li>8</li>\n",
       "\t<li>9</li>\n",
       "</ol>\n",
       "</dd>\n",
       "</dl>\n"
      ],
      "text/latex": [
       "\\begin{description}\n",
       "\\item[\\$c1] \\begin{enumerate}\n",
       "\\item 1\n",
       "\\item 2\n",
       "\\item 3\n",
       "\\end{enumerate}\n",
       "\n",
       "\\item[\\$c2] \\begin{enumerate}\n",
       "\\item 4\n",
       "\\item 5\n",
       "\\item 6\n",
       "\\end{enumerate}\n",
       "\n",
       "\\item[\\$c3] \\begin{enumerate}\n",
       "\\item 7\n",
       "\\item 8\n",
       "\\item 9\n",
       "\\end{enumerate}\n",
       "\n",
       "\\end{description}\n"
      ],
      "text/markdown": [
       "$c1\n",
       ":   1. 1\n",
       "2. 2\n",
       "3. 3\n",
       "\n",
       "\n",
       "\n",
       "$c2\n",
       ":   1. 4\n",
       "2. 5\n",
       "3. 6\n",
       "\n",
       "\n",
       "\n",
       "$c3\n",
       ":   1. 7\n",
       "2. 8\n",
       "3. 9\n",
       "\n",
       "\n",
       "\n",
       "\n",
       "\n"
      ],
      "text/plain": [
       "$c1\n",
       "$c1[[1]]\n",
       "[1] 1\n",
       "\n",
       "$c1[[2]]\n",
       "[1] 2\n",
       "\n",
       "$c1[[3]]\n",
       "[1] 3\n",
       "\n",
       "\n",
       "$c2\n",
       "$c2[[1]]\n",
       "[1] 4\n",
       "\n",
       "$c2[[2]]\n",
       "[1] 5\n",
       "\n",
       "$c2[[3]]\n",
       "[1] 6\n",
       "\n",
       "\n",
       "$c3\n",
       "$c3[[1]]\n",
       "[1] 7\n",
       "\n",
       "$c3[[2]]\n",
       "[1] 8\n",
       "\n",
       "$c3[[3]]\n",
       "[1] 9\n",
       "\n"
      ]
     },
     "metadata": {},
     "output_type": "display_data"
    }
   ],
   "source": [
    "complex = list(c1 = list(1,2,3),\n",
    "              c2 = list(4,5,6),\n",
    "              c3 = list(7,8,9))\n",
    "complex"
   ]
  },
  {
   "cell_type": "code",
   "execution_count": 157,
   "id": "70a3c054-b633-460c-9ba6-93a7fcc68355",
   "metadata": {},
   "outputs": [
    {
     "data": {
      "text/html": [
       "<ol>\n",
       "\t<li>1</li>\n",
       "\t<li>2</li>\n",
       "\t<li>3</li>\n",
       "</ol>\n"
      ],
      "text/latex": [
       "\\begin{enumerate}\n",
       "\\item 1\n",
       "\\item 2\n",
       "\\item 3\n",
       "\\end{enumerate}\n"
      ],
      "text/markdown": [
       "1. 1\n",
       "2. 2\n",
       "3. 3\n",
       "\n",
       "\n"
      ],
      "text/plain": [
       "[[1]]\n",
       "[1] 1\n",
       "\n",
       "[[2]]\n",
       "[1] 2\n",
       "\n",
       "[[3]]\n",
       "[1] 3\n"
      ]
     },
     "metadata": {},
     "output_type": "display_data"
    }
   ],
   "source": [
    "complex$c1"
   ]
  },
  {
   "cell_type": "markdown",
   "id": "3e793fe2-4feb-4956-9842-f73468ea07f3",
   "metadata": {},
   "source": [
    "- 다차원 리스트를 열 단위로 바인딩하기"
   ]
  },
  {
   "cell_type": "code",
   "execution_count": 158,
   "id": "eb530ac0-7a70-4f3e-b131-9c6d5b66be9e",
   "metadata": {},
   "outputs": [
    {
     "data": {
      "text/html": [
       "<table class=\"dataframe\">\n",
       "<caption>A matrix: 3 × 3</caption>\n",
       "<thead>\n",
       "\t<tr><th scope=col>c1</th><th scope=col>c2</th><th scope=col>c3</th></tr>\n",
       "\t<tr><th scope=col>&lt;dbl&gt;</th><th scope=col>&lt;dbl&gt;</th><th scope=col>&lt;dbl&gt;</th><th scope=col>&lt;dbl&gt;</th><th scope=col>&lt;dbl&gt;</th><th scope=col>&lt;dbl&gt;</th><th scope=col>&lt;dbl&gt;</th><th scope=col>&lt;dbl&gt;</th><th scope=col>&lt;dbl&gt;</th></tr>\n",
       "</thead>\n",
       "<tbody>\n",
       "\t<tr><td>1</td><td>4</td><td>7</td></tr>\n",
       "\t<tr><td>2</td><td>5</td><td>8</td></tr>\n",
       "\t<tr><td>3</td><td>6</td><td>9</td></tr>\n",
       "</tbody>\n",
       "</table>\n"
      ],
      "text/latex": [
       "A matrix: 3 × 3\n",
       "\\begin{tabular}{lll}\n",
       " c1 & c2 & c3\\\\\n",
       " <dbl> & <dbl> & <dbl> & <dbl> & <dbl> & <dbl> & <dbl> & <dbl> & <dbl>\\\\\n",
       "\\hline\n",
       "\t 1 & 4 & 7\\\\\n",
       "\t 2 & 5 & 8\\\\\n",
       "\t 3 & 6 & 9\\\\\n",
       "\\end{tabular}\n"
      ],
      "text/markdown": [
       "\n",
       "A matrix: 3 × 3\n",
       "\n",
       "| c1 &lt;dbl&gt; | c2 &lt;dbl&gt; | c3 &lt;dbl&gt; | c1 &lt;dbl&gt; | c2 &lt;dbl&gt; | c3 &lt;dbl&gt; | c1 &lt;dbl&gt; | c2 &lt;dbl&gt; | c3 &lt;dbl&gt; |\n",
       "|---|---|---|\n",
       "| 1 | 4 | 7 |\n",
       "| 2 | 5 | 8 |\n",
       "| 3 | 6 | 9 |\n",
       "\n"
      ],
      "text/plain": [
       "     c1 c2 c3\n",
       "[1,] 1  4  7 \n",
       "[2,] 2  5  8 \n",
       "[3,] 3  6  9 "
      ]
     },
     "metadata": {},
     "output_type": "display_data"
    }
   ],
   "source": [
    "do.call(cbind, complex)"
   ]
  },
  {
   "cell_type": "code",
   "execution_count": 159,
   "id": "93b75d53-5648-461d-ba26-29ea9ede36d2",
   "metadata": {},
   "outputs": [
    {
     "data": {
      "text/html": [
       "<style>\n",
       ".list-inline {list-style: none; margin:0; padding: 0}\n",
       ".list-inline>li {display: inline-block}\n",
       ".list-inline>li:not(:last-child)::after {content: \"\\00b7\"; padding: 0 .5ex}\n",
       "</style>\n",
       "<ol class=list-inline><li>'matrix'</li><li>'array'</li></ol>\n"
      ],
      "text/latex": [
       "\\begin{enumerate*}\n",
       "\\item 'matrix'\n",
       "\\item 'array'\n",
       "\\end{enumerate*}\n"
      ],
      "text/markdown": [
       "1. 'matrix'\n",
       "2. 'array'\n",
       "\n",
       "\n"
      ],
      "text/plain": [
       "[1] \"matrix\" \"array\" "
      ]
     },
     "metadata": {},
     "output_type": "display_data"
    }
   ],
   "source": [
    "class(do.call(cbind, complex))"
   ]
  },
  {
   "cell_type": "code",
   "execution_count": 160,
   "id": "20ec6952-29e0-4f0c-91fb-4c3e976f9ee3",
   "metadata": {},
   "outputs": [
    {
     "data": {
      "text/html": [
       "<table class=\"dataframe\">\n",
       "<caption>A matrix: 3 × 3</caption>\n",
       "<tbody>\n",
       "\t<tr><th scope=row>c1</th><td>1</td><td>2</td><td>3</td></tr>\n",
       "\t<tr><th scope=row>c2</th><td>4</td><td>5</td><td>6</td></tr>\n",
       "\t<tr><th scope=row>c3</th><td>7</td><td>8</td><td>9</td></tr>\n",
       "</tbody>\n",
       "</table>\n"
      ],
      "text/latex": [
       "A matrix: 3 × 3\n",
       "\\begin{tabular}{r|lll}\n",
       "\tc1 & 1 & 2 & 3\\\\\n",
       "\tc2 & 4 & 5 & 6\\\\\n",
       "\tc3 & 7 & 8 & 9\\\\\n",
       "\\end{tabular}\n"
      ],
      "text/markdown": [
       "\n",
       "A matrix: 3 × 3\n",
       "\n",
       "| c1 | 1 | 2 | 3 |\n",
       "| c2 | 4 | 5 | 6 |\n",
       "| c3 | 7 | 8 | 9 |\n",
       "\n"
      ],
      "text/plain": [
       "   [,1] [,2] [,3]\n",
       "c1 1    2    3   \n",
       "c2 4    5    6   \n",
       "c3 7    8    9   "
      ]
     },
     "metadata": {},
     "output_type": "display_data"
    }
   ],
   "source": [
    "do.call(rbind, complex)"
   ]
  },
  {
   "cell_type": "code",
   "execution_count": 161,
   "id": "6e05a1e8-2e1d-4456-b74d-2fafd9f34f24",
   "metadata": {},
   "outputs": [
    {
     "data": {
      "text/html": [
       "<style>\n",
       ".list-inline {list-style: none; margin:0; padding: 0}\n",
       ".list-inline>li {display: inline-block}\n",
       ".list-inline>li:not(:last-child)::after {content: \"\\00b7\"; padding: 0 .5ex}\n",
       "</style>\n",
       "<ol class=list-inline><li>'matrix'</li><li>'array'</li></ol>\n"
      ],
      "text/latex": [
       "\\begin{enumerate*}\n",
       "\\item 'matrix'\n",
       "\\item 'array'\n",
       "\\end{enumerate*}\n"
      ],
      "text/markdown": [
       "1. 'matrix'\n",
       "2. 'array'\n",
       "\n",
       "\n"
      ],
      "text/plain": [
       "[1] \"matrix\" \"array\" "
      ]
     },
     "metadata": {},
     "output_type": "display_data"
    }
   ],
   "source": [
    "class(do.call(rbind, complex))"
   ]
  },
  {
   "cell_type": "markdown",
   "id": "9571febf-8c9e-4136-93fc-df1a5aed69b7",
   "metadata": {},
   "source": [
    "- 3개의 value를 구성하는 list 자료가 열 단위로 묶여서 matrix 객체가 생성된다. 특히 do.call() 함수는 다차원 리스트를 구성하는 리스트를 각각 분해한 후 지정된 함수(cbind 또는 rbind)를 호출하여 리스트 자료를 처리하는 데 효과적이다."
   ]
  },
  {
   "cell_type": "markdown",
   "id": "0cd7f2a5-a8f2-49fa-9db1-3870b21efd23",
   "metadata": {},
   "source": [
    "---"
   ]
  },
  {
   "cell_type": "markdown",
   "id": "e05b874b-f466-40ef-b4ff-7c90ea674731",
   "metadata": {},
   "source": [
    "- 텍스트 자료나 SNS에서 가공 처리된 빅데이터를 처리하기 위해서는 필요한 문자열을 적절하게 자르고 교체하고 추출하는 작업이 중요하다. 문자열을 효과적으로 처리하는 stringr 패키지에 대해 알아보자"
   ]
  },
  {
   "cell_type": "code",
   "execution_count": 162,
   "id": "50a5649c-2730-4e49-85f0-ecf968e63a49",
   "metadata": {},
   "outputs": [
    {
     "name": "stderr",
     "output_type": "stream",
     "text": [
      "Warning message:\n",
      "\"package 'stringr' is in use and will not be installed\"\n"
     ]
    }
   ],
   "source": [
    "# 패키지 설치\n",
    "install.packages('stringr')\n",
    "library(stringr)"
   ]
  },
  {
   "cell_type": "code",
   "execution_count": 163,
   "id": "c480f349-5b11-4d6d-8457-889827be23f3",
   "metadata": {},
   "outputs": [
    {
     "data": {
      "text/html": [
       "'35'"
      ],
      "text/latex": [
       "'35'"
      ],
      "text/markdown": [
       "'35'"
      ],
      "text/plain": [
       "[1] \"35\""
      ]
     },
     "metadata": {},
     "output_type": "display_data"
    },
    {
     "data": {
      "text/html": [
       "<ol>\n",
       "\t<li><style>\n",
       ".list-inline {list-style: none; margin:0; padding: 0}\n",
       ".list-inline>li {display: inline-block}\n",
       ".list-inline>li:not(:last-child)::after {content: \"\\00b7\"; padding: 0 .5ex}\n",
       "</style>\n",
       "<ol class=list-inline><li>'35'</li><li>'45'</li><li>'25'</li></ol>\n",
       "</li>\n",
       "</ol>\n"
      ],
      "text/latex": [
       "\\begin{enumerate}\n",
       "\\item \\begin{enumerate*}\n",
       "\\item '35'\n",
       "\\item '45'\n",
       "\\item '25'\n",
       "\\end{enumerate*}\n",
       "\n",
       "\\end{enumerate}\n"
      ],
      "text/markdown": [
       "1. 1. '35'\n",
       "2. '45'\n",
       "3. '25'\n",
       "\n",
       "\n",
       "\n",
       "\n",
       "\n"
      ],
      "text/plain": [
       "[[1]]\n",
       "[1] \"35\" \"45\" \"25\"\n"
      ]
     },
     "metadata": {},
     "output_type": "display_data"
    }
   ],
   "source": [
    "str_extract(\"홍길동35이순신45유관순25\",\"[1-9]{2}\")\n",
    "str_extract_all(\"홍길동35이순신45유관순25\",\"[1-9]{2}\")"
   ]
  },
  {
   "cell_type": "markdown",
   "id": "b5d71590-1105-4c09-8a46-4cc93193b4b8",
   "metadata": {},
   "source": [
    "- str_extract() 함수는 지정된 문자열을 대상으로 정규 표현식 '[1-9]{2}'의 패턴(숫자 2개가 연속된 경우)과 일치하는 가장 처음에 발견된 문자열을 추출해준다.\n",
    "- str_extract_all는 지정된 문자열을 대상으로 정규 표현식 '[1-9]{2}'의 패턴(숫자 2개가 연속된 경우)과 일치하는 모든 문자열을 추출해준다."
   ]
  },
  {
   "cell_type": "markdown",
   "id": "9c14766e-ebca-4a7f-9297-3ec0f6fa42fa",
   "metadata": {},
   "source": [
    "---"
   ]
  },
  {
   "cell_type": "markdown",
   "id": "58a9db01-74a3-45fa-8dda-8a6df5de1d6b",
   "metadata": {},
   "source": [
    "- 정규 표현식\n",
    "  - 문자열 처리 관련 함수는 대부분 정규표현식을 이용하여 문자열의 패턴을 검사하고 해당 문자열을 대상으로 문자열을 교체하거나 추출하게 된다. 정규표현식은 약속된 기호인 메타문자들에 의해 표현된다."
   ]
  },
  {
   "cell_type": "markdown",
   "id": "ddeb9af5-bbb5-483f-85ae-4880e9ee925d",
   "metadata": {},
   "source": [
    "- 반복 관련 정규 표현식\n",
    "  - []기호는 대괄호 안의 문자가 한 번만 반복되고, {n}은 n만큼 반복된다. \n",
    "    - 예를 들면 [a-z]의 정규 표현식은 영문 소문자 a에서 z까지 범위 중에서 한 개의 영문 소문자를 의미하고 [a-z]{3}은 영문 소문자가 연속으로 3개 발생한다는 의미이다."
   ]
  },
  {
   "cell_type": "code",
   "execution_count": 164,
   "id": "5cc6e44f-4211-4025-ad36-cadbf7212d2a",
   "metadata": {},
   "outputs": [],
   "source": [
    "string = 'rhkrehtjddms123 dl rhdqnfmf444 Rh곽도성 xhdekfgkf rjtdlek.'"
   ]
  },
  {
   "cell_type": "code",
   "execution_count": 165,
   "id": "08ad3885-1274-41d8-861d-9ca459991319",
   "metadata": {},
   "outputs": [
    {
     "data": {
      "text/html": [
       "<ol>\n",
       "\t<li><style>\n",
       ".list-inline {list-style: none; margin:0; padding: 0}\n",
       ".list-inline>li {display: inline-block}\n",
       ".list-inline>li:not(:last-child)::after {content: \"\\00b7\"; padding: 0 .5ex}\n",
       "</style>\n",
       "<ol class=list-inline><li>'rhkr'</li><li>'ehtj'</li><li>'ddms'</li><li>'rhdq'</li><li>'nfmf'</li><li>'xhde'</li><li>'kfgk'</li><li>'rjtd'</li></ol>\n",
       "</li>\n",
       "</ol>\n"
      ],
      "text/latex": [
       "\\begin{enumerate}\n",
       "\\item \\begin{enumerate*}\n",
       "\\item 'rhkr'\n",
       "\\item 'ehtj'\n",
       "\\item 'ddms'\n",
       "\\item 'rhdq'\n",
       "\\item 'nfmf'\n",
       "\\item 'xhde'\n",
       "\\item 'kfgk'\n",
       "\\item 'rjtd'\n",
       "\\end{enumerate*}\n",
       "\n",
       "\\end{enumerate}\n"
      ],
      "text/markdown": [
       "1. 1. 'rhkr'\n",
       "2. 'ehtj'\n",
       "3. 'ddms'\n",
       "4. 'rhdq'\n",
       "5. 'nfmf'\n",
       "6. 'xhde'\n",
       "7. 'kfgk'\n",
       "8. 'rjtd'\n",
       "\n",
       "\n",
       "\n",
       "\n",
       "\n"
      ],
      "text/plain": [
       "[[1]]\n",
       "[1] \"rhkr\" \"ehtj\" \"ddms\" \"rhdq\" \"nfmf\" \"xhde\" \"kfgk\" \"rjtd\"\n"
      ]
     },
     "metadata": {},
     "output_type": "display_data"
    }
   ],
   "source": [
    "str_extract_all(string, '[a-z]{4}')\n",
    "# 영문 소문자가 4글자 연속하는 경우 추출"
   ]
  },
  {
   "cell_type": "code",
   "execution_count": 166,
   "id": "b0dd6ff2-98db-4d0a-941f-16eaa194c309",
   "metadata": {},
   "outputs": [
    {
     "data": {
      "text/html": [
       "<ol>\n",
       "\t<li><style>\n",
       ".list-inline {list-style: none; margin:0; padding: 0}\n",
       ".list-inline>li {display: inline-block}\n",
       ".list-inline>li:not(:last-child)::after {content: \"\\00b7\"; padding: 0 .5ex}\n",
       "</style>\n",
       "<ol class=list-inline><li>'rhkrehtjddms'</li><li>'rhdqnfmf'</li><li>'xhdekfgkf'</li><li>'rjtdlek'</li></ol>\n",
       "</li>\n",
       "</ol>\n"
      ],
      "text/latex": [
       "\\begin{enumerate}\n",
       "\\item \\begin{enumerate*}\n",
       "\\item 'rhkrehtjddms'\n",
       "\\item 'rhdqnfmf'\n",
       "\\item 'xhdekfgkf'\n",
       "\\item 'rjtdlek'\n",
       "\\end{enumerate*}\n",
       "\n",
       "\\end{enumerate}\n"
      ],
      "text/markdown": [
       "1. 1. 'rhkrehtjddms'\n",
       "2. 'rhdqnfmf'\n",
       "3. 'xhdekfgkf'\n",
       "4. 'rjtdlek'\n",
       "\n",
       "\n",
       "\n",
       "\n",
       "\n"
      ],
      "text/plain": [
       "[[1]]\n",
       "[1] \"rhkrehtjddms\" \"rhdqnfmf\"     \"xhdekfgkf\"    \"rjtdlek\"     \n"
      ]
     },
     "metadata": {},
     "output_type": "display_data"
    }
   ],
   "source": [
    "str_extract_all(string, '[a-z]{4,}')\n",
    "# 영문 소문자가 4글자 **이상** 연속하는 경우 추출"
   ]
  },
  {
   "cell_type": "code",
   "execution_count": 167,
   "id": "631dea63-37dd-4ed6-b463-b02d8f8dc1eb",
   "metadata": {},
   "outputs": [
    {
     "data": {
      "text/html": [
       "<ol>\n",
       "\t<li><style>\n",
       ".list-inline {list-style: none; margin:0; padding: 0}\n",
       ".list-inline>li {display: inline-block}\n",
       ".list-inline>li:not(:last-child)::after {content: \"\\00b7\"; padding: 0 .5ex}\n",
       "</style>\n",
       "<ol class=list-inline><li>'rhkre'</li><li>'htjdd'</li><li>'rhdqn'</li><li>'fmf'</li><li>'xhdek'</li><li>'fgkf'</li><li>'rjtdl'</li></ol>\n",
       "</li>\n",
       "</ol>\n"
      ],
      "text/latex": [
       "\\begin{enumerate}\n",
       "\\item \\begin{enumerate*}\n",
       "\\item 'rhkre'\n",
       "\\item 'htjdd'\n",
       "\\item 'rhdqn'\n",
       "\\item 'fmf'\n",
       "\\item 'xhdek'\n",
       "\\item 'fgkf'\n",
       "\\item 'rjtdl'\n",
       "\\end{enumerate*}\n",
       "\n",
       "\\end{enumerate}\n"
      ],
      "text/markdown": [
       "1. 1. 'rhkre'\n",
       "2. 'htjdd'\n",
       "3. 'rhdqn'\n",
       "4. 'fmf'\n",
       "5. 'xhdek'\n",
       "6. 'fgkf'\n",
       "7. 'rjtdl'\n",
       "\n",
       "\n",
       "\n",
       "\n",
       "\n"
      ],
      "text/plain": [
       "[[1]]\n",
       "[1] \"rhkre\" \"htjdd\" \"rhdqn\" \"fmf\"   \"xhdek\" \"fgkf\"  \"rjtdl\"\n"
      ]
     },
     "metadata": {},
     "output_type": "display_data"
    }
   ],
   "source": [
    "str_extract_all(string, '[a-z]{3,5}')\n",
    "# 영문 소문자가 4글자 **이상** 5글자 **이하** 연속하는 경우 추출"
   ]
  },
  {
   "cell_type": "code",
   "execution_count": 168,
   "id": "fd74dbb8-c0a7-4e97-ba9f-e241ef71e875",
   "metadata": {},
   "outputs": [
    {
     "data": {
      "text/html": [
       "<ol>\n",
       "\t<li>'rhkrehtjd'</li>\n",
       "</ol>\n"
      ],
      "text/latex": [
       "\\begin{enumerate}\n",
       "\\item 'rhkrehtjd'\n",
       "\\end{enumerate}\n"
      ],
      "text/markdown": [
       "1. 'rhkrehtjd'\n",
       "\n",
       "\n"
      ],
      "text/plain": [
       "[[1]]\n",
       "[1] \"rhkrehtjd\"\n"
      ]
     },
     "metadata": {},
     "output_type": "display_data"
    }
   ],
   "source": [
    "str_extract_all(string, 'rhkrehtjd')\n",
    "# 해당 문자열 추출"
   ]
  },
  {
   "cell_type": "code",
   "execution_count": 169,
   "id": "da07c33a-46a4-4247-93e9-7d882802ef70",
   "metadata": {},
   "outputs": [
    {
     "data": {
      "text/html": [
       "<ol>\n",
       "\t<li>'2'</li>\n",
       "</ol>\n"
      ],
      "text/latex": [
       "\\begin{enumerate}\n",
       "\\item '2'\n",
       "\\end{enumerate}\n"
      ],
      "text/markdown": [
       "1. '2'\n",
       "\n",
       "\n"
      ],
      "text/plain": [
       "[[1]]\n",
       "[1] \"2\"\n"
      ]
     },
     "metadata": {},
     "output_type": "display_data"
    }
   ],
   "source": [
    "str_extract_all(string,'2')\n",
    "# 해당 숫자 추출"
   ]
  },
  {
   "cell_type": "code",
   "execution_count": 170,
   "id": "e4fdcf8a-695a-4ead-998d-f702ef5eddc8",
   "metadata": {},
   "outputs": [
    {
     "data": {
      "text/html": [
       "<ol>\n",
       "\t<li>'곽도성'</li>\n",
       "</ol>\n"
      ],
      "text/latex": [
       "\\begin{enumerate}\n",
       "\\item '곽도성'\n",
       "\\end{enumerate}\n"
      ],
      "text/markdown": [
       "1. '곽도성'\n",
       "\n",
       "\n"
      ],
      "text/plain": [
       "[[1]]\n",
       "[1] \"곽도성\"\n"
      ]
     },
     "metadata": {},
     "output_type": "display_data"
    }
   ],
   "source": [
    "str_extract_all(string,'[가-힣]{2,}')\n",
    "# 연속된 3개 이상의 한글 문자열 추출"
   ]
  },
  {
   "cell_type": "markdown",
   "id": "ce09768d-470e-4a75-88fc-382f2d71b5b9",
   "metadata": {},
   "source": [
    "- 대문자 추출할 땐 [A-Z]를 이용한다.\n",
    "- 제외할 땐 [^a-z]\n",
    "- 영문자는 일단 제외하고 남은 것중 4글자 추출\n",
    "  - [^a-z]{4}  , 남은 것중 문자종류 상관없이 4글자 추출"
   ]
  },
  {
   "cell_type": "markdown",
   "id": "668ba604-a711-46b6-b158-679055fbdf87",
   "metadata": {},
   "source": [
    "---"
   ]
  },
  {
   "cell_type": "markdown",
   "id": "f404a6f2-1d4c-46bd-a20d-ec54750a6177",
   "metadata": {},
   "source": [
    "- 한 개의 숫자와 단어 관련 정규표현식"
   ]
  },
  {
   "cell_type": "code",
   "execution_count": 171,
   "id": "d2a9456a-a6f2-4834-8669-0fe118aa0b20",
   "metadata": {},
   "outputs": [
    {
     "data": {
      "text/html": [
       "'12344-125215'"
      ],
      "text/latex": [
       "'12344-125215'"
      ],
      "text/markdown": [
       "'12344-125215'"
      ],
      "text/plain": [
       "[1] \"12344-125215\""
      ]
     },
     "metadata": {},
     "output_type": "display_data"
    }
   ],
   "source": [
    "jm = '12344-125215'\n",
    "str_extract(jm,'[0-9]{5}-[0-9]{2,}')"
   ]
  },
  {
   "cell_type": "code",
   "execution_count": 172,
   "id": "7080d7e4-f8d6-4d37-8ea4-770844e4c802",
   "metadata": {},
   "outputs": [
    {
     "data": {
      "text/html": [
       "<ol>\n",
       "\t<li>'12344-125215'</li>\n",
       "</ol>\n"
      ],
      "text/latex": [
       "\\begin{enumerate}\n",
       "\\item '12344-125215'\n",
       "\\end{enumerate}\n"
      ],
      "text/markdown": [
       "1. '12344-125215'\n",
       "\n",
       "\n"
      ],
      "text/plain": [
       "[[1]]\n",
       "[1] \"12344-125215\"\n"
      ]
     },
     "metadata": {},
     "output_type": "display_data"
    }
   ],
   "source": [
    "str_extract_all(jm,'\\\\d{5}-\\\\d{6}')"
   ]
  },
  {
   "cell_type": "code",
   "execution_count": 173,
   "id": "28fcf2a8-2436-435c-87f2-edd4c49c515a",
   "metadata": {},
   "outputs": [],
   "source": [
    "string = 'rhkrehtjddms123 dl rhdqnfmf444 Rh곽도성 xhdekfgkf rjtdlekrhkrehtjd.'"
   ]
  },
  {
   "cell_type": "code",
   "execution_count": 174,
   "id": "e5b56ad7-16f5-4d27-82bb-e58afa2093db",
   "metadata": {},
   "outputs": [
    {
     "data": {
      "text/html": [
       "<ol>\n",
       "\t<li><style>\n",
       ".list-inline {list-style: none; margin:0; padding: 0}\n",
       ".list-inline>li {display: inline-block}\n",
       ".list-inline>li:not(:last-child)::after {content: \"\\00b7\"; padding: 0 .5ex}\n",
       "</style>\n",
       "<ol class=list-inline><li>'rhkrehtjddms123'</li><li>'rhdqnfmf444'</li><li>'Rh곽도성'</li><li>'xhdekfgkf'</li><li>'rjtdlekrhkrehtjd'</li></ol>\n",
       "</li>\n",
       "</ol>\n"
      ],
      "text/latex": [
       "\\begin{enumerate}\n",
       "\\item \\begin{enumerate*}\n",
       "\\item 'rhkrehtjddms123'\n",
       "\\item 'rhdqnfmf444'\n",
       "\\item 'Rh곽도성'\n",
       "\\item 'xhdekfgkf'\n",
       "\\item 'rjtdlekrhkrehtjd'\n",
       "\\end{enumerate*}\n",
       "\n",
       "\\end{enumerate}\n"
      ],
      "text/markdown": [
       "1. 1. 'rhkrehtjddms123'\n",
       "2. 'rhdqnfmf444'\n",
       "3. 'Rh곽도성'\n",
       "4. 'xhdekfgkf'\n",
       "5. 'rjtdlekrhkrehtjd'\n",
       "\n",
       "\n",
       "\n",
       "\n",
       "\n"
      ],
      "text/plain": [
       "[[1]]\n",
       "[1] \"rhkrehtjddms123\"  \"rhdqnfmf444\"      \"Rh곽도성\"         \"xhdekfgkf\"       \n",
       "[5] \"rjtdlekrhkrehtjd\"\n"
      ]
     },
     "metadata": {},
     "output_type": "display_data"
    }
   ],
   "source": [
    "str_extract_all(string,'\\\\w{3,}')\n",
    "# 3글자 이상의 단어만 추출, 허나 특수문자는 포함하지 않는다."
   ]
  },
  {
   "cell_type": "code",
   "execution_count": 175,
   "id": "be3b4e00-8995-461e-b969-d42f5ca25397",
   "metadata": {},
   "outputs": [
    {
     "data": {
      "text/html": [
       "64"
      ],
      "text/latex": [
       "64"
      ],
      "text/markdown": [
       "64"
      ],
      "text/plain": [
       "[1] 64"
      ]
     },
     "metadata": {},
     "output_type": "display_data"
    }
   ],
   "source": [
    "str_length(string)"
   ]
  },
  {
   "cell_type": "code",
   "execution_count": 176,
   "id": "a00895be-fb94-41e5-891b-15948c94411d",
   "metadata": {},
   "outputs": [
    {
     "data": {
      "text/html": [
       "<table class=\"dataframe\">\n",
       "<caption>A matrix: 1 × 2 of type int</caption>\n",
       "<thead>\n",
       "\t<tr><th scope=col>start</th><th scope=col>end</th></tr>\n",
       "</thead>\n",
       "<tbody>\n",
       "\t<tr><td>1</td><td>9</td></tr>\n",
       "</tbody>\n",
       "</table>\n"
      ],
      "text/latex": [
       "A matrix: 1 × 2 of type int\n",
       "\\begin{tabular}{ll}\n",
       " start & end\\\\\n",
       "\\hline\n",
       "\t 1 & 9\\\\\n",
       "\\end{tabular}\n"
      ],
      "text/markdown": [
       "\n",
       "A matrix: 1 × 2 of type int\n",
       "\n",
       "| start | end |\n",
       "|---|---|\n",
       "| 1 | 9 |\n",
       "\n"
      ],
      "text/plain": [
       "     start end\n",
       "[1,] 1     9  "
      ]
     },
     "metadata": {},
     "output_type": "display_data"
    },
    {
     "data": {
      "text/html": [
       "<ol>\n",
       "\t<li><table class=\"dataframe\">\n",
       "<caption>A matrix: 2 × 2 of type int</caption>\n",
       "<thead>\n",
       "\t<tr><th scope=col>start</th><th scope=col>end</th></tr>\n",
       "</thead>\n",
       "<tbody>\n",
       "\t<tr><td> 1</td><td> 9</td></tr>\n",
       "\t<tr><td>55</td><td>63</td></tr>\n",
       "</tbody>\n",
       "</table>\n",
       "</li>\n",
       "</ol>\n"
      ],
      "text/latex": [
       "\\begin{enumerate}\n",
       "\\item A matrix: 2 × 2 of type int\n",
       "\\begin{tabular}{ll}\n",
       " start & end\\\\\n",
       "\\hline\n",
       "\t  1 &  9\\\\\n",
       "\t 55 & 63\\\\\n",
       "\\end{tabular}\n",
       "\n",
       "\\end{enumerate}\n"
      ],
      "text/markdown": [
       "1. \n",
       "A matrix: 2 × 2 of type int\n",
       "\n",
       "| start | end |\n",
       "|---|---|\n",
       "|  1 |  9 |\n",
       "| 55 | 63 |\n",
       "\n",
       "\n",
       "\n",
       "\n"
      ],
      "text/plain": [
       "[[1]]\n",
       "     start end\n",
       "[1,]     1   9\n",
       "[2,]    55  63\n"
      ]
     },
     "metadata": {},
     "output_type": "display_data"
    }
   ],
   "source": [
    "# 문자열 내에서 특정 문자열의 첫 번째 index 시작과 끝\n",
    "str_locate(string,'rhkrehtjd')\n",
    "# 문자열 내에서 특정 문자열의 모든 위치의 index 시작과 끝\n",
    "str_locate_all(string,'rhkrehtjd')"
   ]
  },
  {
   "cell_type": "markdown",
   "id": "b0029604-2bed-449d-9bba-a294ed62fb42",
   "metadata": {},
   "source": [
    "---"
   ]
  },
  {
   "cell_type": "markdown",
   "id": "48df786d-3329-4a4e-9881-7d6872e0fffd",
   "metadata": {},
   "source": [
    "- 부분 문자열 만들기"
   ]
  },
  {
   "cell_type": "code",
   "execution_count": 177,
   "id": "f0a118be-a4c7-45bf-91eb-cabdd8120c2d",
   "metadata": {},
   "outputs": [
    {
     "data": {
      "text/html": [
       "'rhkrehtjddms123 dl rhdqnfmf444 Rh곽도성 xhdekfgkf rjtdlekrhkrehtjd.'"
      ],
      "text/latex": [
       "'rhkrehtjddms123 dl rhdqnfmf444 Rh곽도성 xhdekfgkf rjtdlekrhkrehtjd.'"
      ],
      "text/markdown": [
       "'rhkrehtjddms123 dl rhdqnfmf444 Rh곽도성 xhdekfgkf rjtdlekrhkrehtjd.'"
      ],
      "text/plain": [
       "[1] \"rhkrehtjddms123 dl rhdqnfmf444 Rh곽도성 xhdekfgkf rjtdlekrhkrehtjd.\""
      ]
     },
     "metadata": {},
     "output_type": "display_data"
    }
   ],
   "source": [
    "string"
   ]
  },
  {
   "cell_type": "code",
   "execution_count": 178,
   "id": "155214e0-fc70-404c-aa38-f5ef743c1067",
   "metadata": {},
   "outputs": [
    {
     "data": {
      "text/html": [
       "'rhkrehtjddms123 dl rhdqnfmf444 Rh곽도성 xhdekfgkf'"
      ],
      "text/latex": [
       "'rhkrehtjddms123 dl rhdqnfmf444 Rh곽도성 xhdekfgkf'"
      ],
      "text/markdown": [
       "'rhkrehtjddms123 dl rhdqnfmf444 Rh곽도성 xhdekfgkf'"
      ],
      "text/plain": [
       "[1] \"rhkrehtjddms123 dl rhdqnfmf444 Rh곽도성 xhdekfgkf\""
      ]
     },
     "metadata": {},
     "output_type": "display_data"
    }
   ],
   "source": [
    "sub = str_sub(string,1,length(string)-20)\n",
    "sub"
   ]
  },
  {
   "cell_type": "markdown",
   "id": "f1d7f642-de89-42c3-909c-b4ef226f5b40",
   "metadata": {},
   "source": [
    "- 대소문자 변경"
   ]
  },
  {
   "cell_type": "code",
   "execution_count": 179,
   "id": "a22f3fd4-d7de-489d-b214-4909c34094d1",
   "metadata": {},
   "outputs": [
    {
     "data": {
      "text/html": [
       "'RHKREHTJDDMS123 DL RHDQNFMF444 RH곽도성 XHDEKFGKF RJTDLEKRHKREHTJD.'"
      ],
      "text/latex": [
       "'RHKREHTJDDMS123 DL RHDQNFMF444 RH곽도성 XHDEKFGKF RJTDLEKRHKREHTJD.'"
      ],
      "text/markdown": [
       "'RHKREHTJDDMS123 DL RHDQNFMF444 RH곽도성 XHDEKFGKF RJTDLEKRHKREHTJD.'"
      ],
      "text/plain": [
       "[1] \"RHKREHTJDDMS123 DL RHDQNFMF444 RH곽도성 XHDEKFGKF RJTDLEKRHKREHTJD.\""
      ]
     },
     "metadata": {},
     "output_type": "display_data"
    }
   ],
   "source": [
    "change = str_to_upper(string)\n",
    "change"
   ]
  },
  {
   "cell_type": "code",
   "execution_count": 180,
   "id": "9bb0f73c-1c6d-43ee-9a64-8bbdc1a1d1b9",
   "metadata": {},
   "outputs": [
    {
     "data": {
      "text/html": [
       "'rhkrehtjddms123 dl rhdqnfmf444 rh곽도성 xhdekfgkf rjtdlekrhkrehtjd.'"
      ],
      "text/latex": [
       "'rhkrehtjddms123 dl rhdqnfmf444 rh곽도성 xhdekfgkf rjtdlekrhkrehtjd.'"
      ],
      "text/markdown": [
       "'rhkrehtjddms123 dl rhdqnfmf444 rh곽도성 xhdekfgkf rjtdlekrhkrehtjd.'"
      ],
      "text/plain": [
       "[1] \"rhkrehtjddms123 dl rhdqnfmf444 rh곽도성 xhdekfgkf rjtdlekrhkrehtjd.\""
      ]
     },
     "metadata": {},
     "output_type": "display_data"
    }
   ],
   "source": [
    "change = str_to_lower(string)\n",
    "change"
   ]
  },
  {
   "cell_type": "markdown",
   "id": "1e3d439c-ab60-45f5-b3b2-3331661448fb",
   "metadata": {},
   "source": [
    "- 문자열 교체"
   ]
  },
  {
   "cell_type": "code",
   "execution_count": 181,
   "id": "e8c6ce28-d482-409f-89f6-3b165719afc0",
   "metadata": {},
   "outputs": [
    {
     "data": {
      "text/html": [
       "'rhkrehtjddms123 dl rhdqnfmf444 Rh곽도성 xhdekfgkf rjtdlekrhkrehtjd.'"
      ],
      "text/latex": [
       "'rhkrehtjddms123 dl rhdqnfmf444 Rh곽도성 xhdekfgkf rjtdlekrhkrehtjd.'"
      ],
      "text/markdown": [
       "'rhkrehtjddms123 dl rhdqnfmf444 Rh곽도성 xhdekfgkf rjtdlekrhkrehtjd.'"
      ],
      "text/plain": [
       "[1] \"rhkrehtjddms123 dl rhdqnfmf444 Rh곽도성 xhdekfgkf rjtdlekrhkrehtjd.\""
      ]
     },
     "metadata": {},
     "output_type": "display_data"
    }
   ],
   "source": [
    "string"
   ]
  },
  {
   "cell_type": "code",
   "execution_count": 182,
   "id": "89f427fd-1c71-4b53-a63b-b31867c3e297",
   "metadata": {},
   "outputs": [
    {
     "data": {
      "text/html": [
       "'rhkrehtjddmsdl dl rhdqnfmf444 Rh곽도성 xhdekfgkf rjtdlekrhkrehtjd.'"
      ],
      "text/latex": [
       "'rhkrehtjddmsdl dl rhdqnfmf444 Rh곽도성 xhdekfgkf rjtdlekrhkrehtjd.'"
      ],
      "text/markdown": [
       "'rhkrehtjddmsdl dl rhdqnfmf444 Rh곽도성 xhdekfgkf rjtdlekrhkrehtjd.'"
      ],
      "text/plain": [
       "[1] \"rhkrehtjddmsdl dl rhdqnfmf444 Rh곽도성 xhdekfgkf rjtdlekrhkrehtjd.\""
      ]
     },
     "metadata": {},
     "output_type": "display_data"
    }
   ],
   "source": [
    "rep1 = str_replace(string,'123','dl')\n",
    "rep1\n",
    "# 123을 dl로 변경"
   ]
  },
  {
   "cell_type": "markdown",
   "id": "027370dc-e34a-4941-a58c-23cb98fd0a71",
   "metadata": {},
   "source": [
    "- 문자열 결합"
   ]
  },
  {
   "cell_type": "code",
   "execution_count": 183,
   "id": "399bd428-5777-4cc7-87e9-528ae67b7802",
   "metadata": {},
   "outputs": [
    {
     "data": {
      "text/html": [
       "'rhkrehtjddms123 dl rhdqnfmf444 Rh곽도성 xhdekfgkf rjtdlekrhkrehtjd.rhkrehtjddmsdl dl rhdqnfmf444 Rh곽도성 xhdekfgkf rjtdlekrhkrehtjd.'"
      ],
      "text/latex": [
       "'rhkrehtjddms123 dl rhdqnfmf444 Rh곽도성 xhdekfgkf rjtdlekrhkrehtjd.rhkrehtjddmsdl dl rhdqnfmf444 Rh곽도성 xhdekfgkf rjtdlekrhkrehtjd.'"
      ],
      "text/markdown": [
       "'rhkrehtjddms123 dl rhdqnfmf444 Rh곽도성 xhdekfgkf rjtdlekrhkrehtjd.rhkrehtjddmsdl dl rhdqnfmf444 Rh곽도성 xhdekfgkf rjtdlekrhkrehtjd.'"
      ],
      "text/plain": [
       "[1] \"rhkrehtjddms123 dl rhdqnfmf444 Rh곽도성 xhdekfgkf rjtdlekrhkrehtjd.rhkrehtjddmsdl dl rhdqnfmf444 Rh곽도성 xhdekfgkf rjtdlekrhkrehtjd.\""
      ]
     },
     "metadata": {},
     "output_type": "display_data"
    }
   ],
   "source": [
    "str_c(string,rep1)"
   ]
  },
  {
   "cell_type": "code",
   "execution_count": 184,
   "id": "6fc04da4-eed3-4a95-9861-12a18ad70928",
   "metadata": {},
   "outputs": [
    {
     "data": {
      "text/html": [
       "'rhkrehtjddms123 dl rhdqnfmf444 Rh곽도성 xhdekfgkf rjtdlekrhkrehtjd.1111111111111'"
      ],
      "text/latex": [
       "'rhkrehtjddms123 dl rhdqnfmf444 Rh곽도성 xhdekfgkf rjtdlekrhkrehtjd.1111111111111'"
      ],
      "text/markdown": [
       "'rhkrehtjddms123 dl rhdqnfmf444 Rh곽도성 xhdekfgkf rjtdlekrhkrehtjd.1111111111111'"
      ],
      "text/plain": [
       "[1] \"rhkrehtjddms123 dl rhdqnfmf444 Rh곽도성 xhdekfgkf rjtdlekrhkrehtjd.1111111111111\""
      ]
     },
     "metadata": {},
     "output_type": "display_data"
    }
   ],
   "source": [
    "str_c(string,'1111111111111')"
   ]
  },
  {
   "cell_type": "markdown",
   "id": "eb40bc21-8d10-457c-9243-0ff9abe44783",
   "metadata": {},
   "source": [
    "- 문자열 분리"
   ]
  },
  {
   "cell_type": "code",
   "execution_count": 185,
   "id": "0ea0a68b-67da-4323-b73d-1ec8b85ab9a4",
   "metadata": {},
   "outputs": [
    {
     "data": {
      "text/html": [
       "<ol>\n",
       "\t<li><style>\n",
       ".list-inline {list-style: none; margin:0; padding: 0}\n",
       ".list-inline>li {display: inline-block}\n",
       ".list-inline>li:not(:last-child)::after {content: \"\\00b7\"; padding: 0 .5ex}\n",
       "</style>\n",
       "<ol class=list-inline><li>''</li><li>'hk'</li><li>'ehtjddms123 dl '</li><li>'hdqnfmf444 Rh곽도성 xhdekfgkf '</li><li>'jtdlek'</li><li>'hk'</li><li>'ehtjd.'</li></ol>\n",
       "</li>\n",
       "</ol>\n"
      ],
      "text/latex": [
       "\\begin{enumerate}\n",
       "\\item \\begin{enumerate*}\n",
       "\\item ''\n",
       "\\item 'hk'\n",
       "\\item 'ehtjddms123 dl '\n",
       "\\item 'hdqnfmf444 Rh곽도성 xhdekfgkf '\n",
       "\\item 'jtdlek'\n",
       "\\item 'hk'\n",
       "\\item 'ehtjd.'\n",
       "\\end{enumerate*}\n",
       "\n",
       "\\end{enumerate}\n"
      ],
      "text/markdown": [
       "1. 1. ''\n",
       "2. 'hk'\n",
       "3. 'ehtjddms123 dl '\n",
       "4. 'hdqnfmf444 Rh곽도성 xhdekfgkf '\n",
       "5. 'jtdlek'\n",
       "6. 'hk'\n",
       "7. 'ehtjd.'\n",
       "\n",
       "\n",
       "\n",
       "\n",
       "\n"
      ],
      "text/plain": [
       "[[1]]\n",
       "[1] \"\"                               \"hk\"                            \n",
       "[3] \"ehtjddms123 dl \"                \"hdqnfmf444 Rh곽도성 xhdekfgkf \"\n",
       "[5] \"jtdlek\"                         \"hk\"                            \n",
       "[7] \"ehtjd.\"                        \n"
      ]
     },
     "metadata": {},
     "output_type": "display_data"
    }
   ],
   "source": [
    "a=str_split(string,'r')\n",
    "# r기준으로 문자열 분리\n",
    "a"
   ]
  },
  {
   "cell_type": "code",
   "execution_count": 186,
   "id": "62a8f5b5-c34d-4459-b819-92e66937d987",
   "metadata": {},
   "outputs": [
    {
     "data": {
      "text/html": [
       "'list'"
      ],
      "text/latex": [
       "'list'"
      ],
      "text/markdown": [
       "'list'"
      ],
      "text/plain": [
       "[1] \"list\""
      ]
     },
     "metadata": {},
     "output_type": "display_data"
    },
    {
     "data": {
      "text/html": [
       "'list'"
      ],
      "text/latex": [
       "'list'"
      ],
      "text/markdown": [
       "'list'"
      ],
      "text/plain": [
       "[1] \"list\""
      ]
     },
     "metadata": {},
     "output_type": "display_data"
    }
   ],
   "source": [
    "mode(a)\n",
    "class(a)"
   ]
  },
  {
   "cell_type": "markdown",
   "id": "68fd4965-7246-44f1-85dd-d7711c11143c",
   "metadata": {},
   "source": [
    "- 문자열 합치기"
   ]
  },
  {
   "cell_type": "code",
   "execution_count": 187,
   "id": "d3797dbd-5322-48ea-95ca-ef3c3b396c77",
   "metadata": {},
   "outputs": [
    {
     "data": {
      "text/html": [
       "'asd,asdadfd,asds,aqefsd'"
      ],
      "text/latex": [
       "'asd,asdadfd,asds,aqefsd'"
      ],
      "text/markdown": [
       "'asd,asdadfd,asds,aqefsd'"
      ],
      "text/plain": [
       "[1] \"asd,asdadfd,asds,aqefsd\""
      ]
     },
     "metadata": {},
     "output_type": "display_data"
    }
   ],
   "source": [
    "new = c('asd','asdadfd','asds','aqefsd')\n",
    "# 콤마를 기준으로 문자열 벡터 합치자\n",
    "join = paste(new,collapse = ',')\n",
    "join"
   ]
  },
  {
   "cell_type": "markdown",
   "id": "7acd6861-3d23-4566-8f56-0855c307a95e",
   "metadata": {},
   "source": [
    "- 벡터 객체로 반환해준다\n",
    "- 예를 들면 문자열 100개가 1개씩 우너소를 차지하는 벡터 객체를 대상으로 paste()함수를 적용하여 1개의 원소로 축소가 가능하다.\n",
    "- 따라서 방대한 자료를 분석하기 위해서 실습 예에서와 같은 방법으로 처리 단위를 축소한다면 빅데이터를 효율적으로 처리할 수 있다."
   ]
  }
 ],
 "metadata": {
  "kernelspec": {
   "display_name": "R",
   "language": "R",
   "name": "ir"
  },
  "language_info": {
   "codemirror_mode": "r",
   "file_extension": ".r",
   "mimetype": "text/x-r-source",
   "name": "R",
   "pygments_lexer": "r",
   "version": "4.0.5"
  }
 },
 "nbformat": 4,
 "nbformat_minor": 5
}
