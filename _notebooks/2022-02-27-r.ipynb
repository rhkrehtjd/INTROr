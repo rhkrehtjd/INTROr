{
 "cells": [
  {
   "cell_type": "markdown",
   "id": "c66ad44e-60ef-40ef-85bc-9188316a43db",
   "metadata": {},
   "source": [
    "# 상관관계 분석"
   ]
  },
  {
   "cell_type": "markdown",
   "id": "09285c0b-cd04-4a39-89a2-f87c1a41ed8a",
   "metadata": {},
   "source": [
    "- 변수들 간의 관련성을 분석하기 위해 사용하는 분석 방법.\n",
    "- 하나의 변수가 다른 변수와 관련성이 있는지, 있다면 어느 정도의 관련성이 있는지\n",
    "- 상관계수 r과 상관관계 정도\n",
    "  - 완전 정 상관관계는 X의 값이 증가하면 Y의 값도 증가하는 형태로 r = 1이다. \n",
    "  - 완전 부 상관관계는 X의 값이 증가하면 Y의 값은 감소하는 형태로 r = -1이다. \n",
    "  - 강한 양의 상관관계는 r = 0.8이고, 약한 양의 상관관계는 0.3이다.\n",
    "  - x와 y변수 간의 상관관계가 없는 경우에는 r = 0이 된다. "
   ]
  },
  {
   "cell_type": "markdown",
   "id": "87b7d3cc-61ea-4d1c-8385-7950b9490337",
   "metadata": {},
   "source": [
    "- 상관관계 분석 수행"
   ]
  },
  {
   "cell_type": "code",
   "execution_count": 2,
   "id": "a56865b2-dc7e-4bf3-90ca-6d36c74b94fc",
   "metadata": {},
   "outputs": [
    {
     "data": {
      "text/html": [
       "<table class=\"dataframe\">\n",
       "<caption>A data.frame: 3 × 3</caption>\n",
       "<thead>\n",
       "\t<tr><th></th><th scope=col>제품_친밀도</th><th scope=col>제품_적절성</th><th scope=col>제품_만족도</th></tr>\n",
       "\t<tr><th></th><th scope=col>&lt;int&gt;</th><th scope=col>&lt;int&gt;</th><th scope=col>&lt;int&gt;</th></tr>\n",
       "</thead>\n",
       "<tbody>\n",
       "\t<tr><th scope=row>1</th><td>3</td><td>4</td><td>3</td></tr>\n",
       "\t<tr><th scope=row>2</th><td>3</td><td>3</td><td>2</td></tr>\n",
       "\t<tr><th scope=row>3</th><td>4</td><td>4</td><td>4</td></tr>\n",
       "</tbody>\n",
       "</table>\n"
      ],
      "text/latex": [
       "A data.frame: 3 × 3\n",
       "\\begin{tabular}{r|lll}\n",
       "  & 제품\\_친밀도 & 제품\\_적절성 & 제품\\_만족도\\\\\n",
       "  & <int> & <int> & <int>\\\\\n",
       "\\hline\n",
       "\t1 & 3 & 4 & 3\\\\\n",
       "\t2 & 3 & 3 & 2\\\\\n",
       "\t3 & 4 & 4 & 4\\\\\n",
       "\\end{tabular}\n"
      ],
      "text/markdown": [
       "\n",
       "A data.frame: 3 × 3\n",
       "\n",
       "| <!--/--> | 제품_친밀도 &lt;int&gt; | 제품_적절성 &lt;int&gt; | 제품_만족도 &lt;int&gt; |\n",
       "|---|---|---|---|\n",
       "| 1 | 3 | 4 | 3 |\n",
       "| 2 | 3 | 3 | 2 |\n",
       "| 3 | 4 | 4 | 4 |\n",
       "\n"
      ],
      "text/plain": [
       "  제품_친밀도 제품_적절성 제품_만족도\n",
       "1 3           4           3          \n",
       "2 3           3           2          \n",
       "3 4           4           4          "
      ]
     },
     "metadata": {},
     "output_type": "display_data"
    }
   ],
   "source": [
    "product = read.csv('C:\\\\Users\\\\ehfus\\\\Downloads\\\\R\\\\Part-III\\\\product.csv',header=T)\n",
    "head(product,3)"
   ]
  },
  {
   "cell_type": "code",
   "execution_count": 3,
   "id": "33ecfaf1-2893-4c6d-b58e-142738067255",
   "metadata": {},
   "outputs": [
    {
     "data": {
      "text/plain": [
       "  제품_친밀도     제품_적절성     제품_만족도   \n",
       " Min.   :1.000   Min.   :1.000   Min.   :1.000  \n",
       " 1st Qu.:2.000   1st Qu.:3.000   1st Qu.:3.000  \n",
       " Median :3.000   Median :3.000   Median :3.000  \n",
       " Mean   :2.928   Mean   :3.133   Mean   :3.095  \n",
       " 3rd Qu.:4.000   3rd Qu.:4.000   3rd Qu.:4.000  \n",
       " Max.   :5.000   Max.   :5.000   Max.   :5.000  "
      ]
     },
     "metadata": {},
     "output_type": "display_data"
    }
   ],
   "source": [
    "# 요약통계량\n",
    "summary(product)"
   ]
  },
  {
   "cell_type": "code",
   "execution_count": 5,
   "id": "79eb3087-2327-49fe-b69a-a2e8bacc9281",
   "metadata": {},
   "outputs": [
    {
     "data": {
      "text/html": [
       "0.970344644503311"
      ],
      "text/latex": [
       "0.970344644503311"
      ],
      "text/markdown": [
       "0.970344644503311"
      ],
      "text/plain": [
       "[1] 0.9703446"
      ]
     },
     "metadata": {},
     "output_type": "display_data"
    },
    {
     "data": {
      "text/html": [
       "0.859657391488533"
      ],
      "text/latex": [
       "0.859657391488533"
      ],
      "text/markdown": [
       "0.859657391488533"
      ],
      "text/plain": [
       "[1] 0.8596574"
      ]
     },
     "metadata": {},
     "output_type": "display_data"
    },
    {
     "data": {
      "text/html": [
       "0.828743553462246"
      ],
      "text/latex": [
       "0.828743553462246"
      ],
      "text/markdown": [
       "0.828743553462246"
      ],
      "text/plain": [
       "[1] 0.8287436"
      ]
     },
     "metadata": {},
     "output_type": "display_data"
    }
   ],
   "source": [
    "sd(product$제품_친밀도)\n",
    "sd(product$제품_적절성)\n",
    "sd(product$제품_만족도)"
   ]
  },
  {
   "cell_type": "markdown",
   "id": "418fc7a2-126f-40ae-89df-0099889e701c",
   "metadata": {},
   "source": [
    "- 변수 간의 상관계수 보기"
   ]
  },
  {
   "cell_type": "code",
   "execution_count": 10,
   "id": "568d7e2e-1ef2-44d1-adec-60a81b221f75",
   "metadata": {},
   "outputs": [
    {
     "data": {
      "text/html": [
       "0.499208608593236"
      ],
      "text/latex": [
       "0.499208608593236"
      ],
      "text/markdown": [
       "0.499208608593236"
      ],
      "text/plain": [
       "[1] 0.4992086"
      ]
     },
     "metadata": {},
     "output_type": "display_data"
    },
    {
     "data": {
      "text/html": [
       "0.467144983600897"
      ],
      "text/latex": [
       "0.467144983600897"
      ],
      "text/markdown": [
       "0.467144983600897"
      ],
      "text/plain": [
       "[1] 0.467145"
      ]
     },
     "metadata": {},
     "output_type": "display_data"
    },
    {
     "data": {
      "text/html": [
       "0.766852699640837"
      ],
      "text/latex": [
       "0.766852699640837"
      ],
      "text/markdown": [
       "0.766852699640837"
      ],
      "text/plain": [
       "[1] 0.7668527"
      ]
     },
     "metadata": {},
     "output_type": "display_data"
    },
    {
     "data": {
      "text/html": [
       "0.70173943890403"
      ],
      "text/latex": [
       "0.70173943890403"
      ],
      "text/markdown": [
       "0.70173943890403"
      ],
      "text/plain": [
       "[1] 0.7017394"
      ]
     },
     "metadata": {},
     "output_type": "display_data"
    }
   ],
   "source": [
    "cor(product$제품_친밀도, product$제품_적절성)\n",
    "cor(product$제품_친밀도, product$제품_만족도)\n",
    "cor(product$제품_만족도, product$제품_적절성)\n",
    "cor(product$제품_적절성 + product$제품_친밀도, product$제품_만족도)"
   ]
  },
  {
   "cell_type": "markdown",
   "id": "d2068c78-2a58-42ee-8e0c-99305c17ad37",
   "metadata": {},
   "source": [
    "- 전체 변수 간의 상관계수 보기"
   ]
  },
  {
   "cell_type": "code",
   "execution_count": 11,
   "id": "a0527340-21cb-4e5e-8e41-0f632d4bfaca",
   "metadata": {},
   "outputs": [
    {
     "data": {
      "text/html": [
       "<table class=\"dataframe\">\n",
       "<caption>A matrix: 3 × 3 of type dbl</caption>\n",
       "<thead>\n",
       "\t<tr><th></th><th scope=col>제품_친밀도</th><th scope=col>제품_적절성</th><th scope=col>제품_만족도</th></tr>\n",
       "</thead>\n",
       "<tbody>\n",
       "\t<tr><th scope=row>제품_친밀도</th><td>1.0000000</td><td>0.4992086</td><td>0.4671450</td></tr>\n",
       "\t<tr><th scope=row>제품_적절성</th><td>0.4992086</td><td>1.0000000</td><td>0.7668527</td></tr>\n",
       "\t<tr><th scope=row>제품_만족도</th><td>0.4671450</td><td>0.7668527</td><td>1.0000000</td></tr>\n",
       "</tbody>\n",
       "</table>\n"
      ],
      "text/latex": [
       "A matrix: 3 × 3 of type dbl\n",
       "\\begin{tabular}{r|lll}\n",
       "  & 제품\\_친밀도 & 제품\\_적절성 & 제품\\_만족도\\\\\n",
       "\\hline\n",
       "\t제품\\_친밀도 & 1.0000000 & 0.4992086 & 0.4671450\\\\\n",
       "\t제품\\_적절성 & 0.4992086 & 1.0000000 & 0.7668527\\\\\n",
       "\t제품\\_만족도 & 0.4671450 & 0.7668527 & 1.0000000\\\\\n",
       "\\end{tabular}\n"
      ],
      "text/markdown": [
       "\n",
       "A matrix: 3 × 3 of type dbl\n",
       "\n",
       "| <!--/--> | 제품_친밀도 | 제품_적절성 | 제품_만족도 |\n",
       "|---|---|---|---|\n",
       "| 제품_친밀도 | 1.0000000 | 0.4992086 | 0.4671450 |\n",
       "| 제품_적절성 | 0.4992086 | 1.0000000 | 0.7668527 |\n",
       "| 제품_만족도 | 0.4671450 | 0.7668527 | 1.0000000 |\n",
       "\n"
      ],
      "text/plain": [
       "            제품_친밀도 제품_적절성 제품_만족도\n",
       "제품_친밀도 1.0000000   0.4992086   0.4671450  \n",
       "제품_적절성 0.4992086   1.0000000   0.7668527  \n",
       "제품_만족도 0.4671450   0.7668527   1.0000000  "
      ]
     },
     "metadata": {},
     "output_type": "display_data"
    }
   ],
   "source": [
    "cor(product, method = 'pearson')"
   ]
  },
  {
   "cell_type": "markdown",
   "id": "e4bd5e30-703f-4e76-ada3-3de4f7f97988",
   "metadata": {},
   "source": [
    "- 방향성이 있는 색상으로 표현\n",
    "  - 동일한 색상으로 그룹을 표시하고 색의 농도로 상관계수를 나타낸다. "
   ]
  },
  {
   "cell_type": "code",
   "execution_count": 12,
   "id": "7479855a-1433-41c3-a1cd-37788b852dea",
   "metadata": {},
   "outputs": [
    {
     "name": "stdout",
     "output_type": "stream",
     "text": [
      "package 'corrgram' successfully unpacked and MD5 sums checked\n",
      "\n",
      "The downloaded binary packages are in\n",
      "\tC:\\Users\\ehfus\\AppData\\Local\\Temp\\RtmpyWgZsX\\downloaded_packages\n"
     ]
    }
   ],
   "source": [
    "install.packages('corrgram')\n",
    "library(corrgram)\n"
   ]
  },
  {
   "cell_type": "code",
   "execution_count": 13,
   "id": "4b8181b2-bf0b-431f-836f-511d1959b050",
   "metadata": {},
   "outputs": [
    {
     "data": {
      "image/png": "[encoded data removed]",
      "text/plain": [
       "plot without title"
      ]
     },
     "metadata": {
      "image/png": {
       "height": 420,
       "width": 420
      }
     },
     "output_type": "display_data"
    },
    {
     "data": {
      "image/png": "[encoded data removed]",
      "text/plain": [
       "plot without title"
      ]
     },
     "metadata": {
      "image/png": {
       "height": 420,
       "width": 420
      }
     },
     "output_type": "display_data"
    },
    {
     "data": {
      "image/png": "[encoded data removed]",
      "text/plain": [
       "plot without title"
      ]
     },
     "metadata": {
      "image/png": {
       "height": 420,
       "width": 420
      }
     },
     "output_type": "display_data"
    }
   ],
   "source": [
    "corrgram(product) # 색상 적용 - 동일 색상으로 그룹화 표시\n",
    "corrgram(product, upper.panel = panel.conf) # 위쪽에 상관계수 추가\n",
    "corrgram(product, lower.panel = panel.conf) # 아래쪽에 상관계수 추가"
   ]
  },
  {
   "cell_type": "markdown",
   "id": "a76cfc9f-60ad-48f0-a2c8-4bdc1221ddcd",
   "metadata": {},
   "source": [
    "- 차트에 밀도곡선, 상관성, 유의확률(별표) 추가"
   ]
  },
  {
   "cell_type": "code",
   "execution_count": 14,
   "id": "afacf5a9-0c67-4c6d-9c03-32703fabb331",
   "metadata": {},
   "outputs": [
    {
     "name": "stderr",
     "output_type": "stream",
     "text": [
      "also installing the dependency 'quadprog'\n",
      "\n",
      "\n"
     ]
    },
    {
     "name": "stdout",
     "output_type": "stream",
     "text": [
      "package 'quadprog' successfully unpacked and MD5 sums checked\n",
      "package 'PerformanceAnalytics' successfully unpacked and MD5 sums checked\n",
      "\n",
      "The downloaded binary packages are in\n",
      "\tC:\\Users\\ehfus\\AppData\\Local\\Temp\\RtmpyWgZsX\\downloaded_packages\n"
     ]
    },
    {
     "name": "stderr",
     "output_type": "stream",
     "text": [
      "Loading required package: xts\n",
      "\n",
      "Loading required package: zoo\n",
      "\n",
      "\n",
      "Attaching package: 'zoo'\n",
      "\n",
      "\n",
      "The following objects are masked from 'package:base':\n",
      "\n",
      "    as.Date, as.Date.numeric\n",
      "\n",
      "\n",
      "\n",
      "Attaching package: 'PerformanceAnalytics'\n",
      "\n",
      "\n",
      "The following object is masked from 'package:graphics':\n",
      "\n",
      "    legend\n",
      "\n",
      "\n"
     ]
    }
   ],
   "source": [
    "install.packages('PerformanceAnalytics')\n",
    "library(PerformanceAnalytics)"
   ]
  },
  {
   "cell_type": "code",
   "execution_count": 17,
   "id": "70c993d3-1dc3-469f-86f1-37de4ee76b81",
   "metadata": {},
   "outputs": [
    {
     "data": {
      "image/png": "[encoded data removed]",
      "text/plain": [
       "Plot with title \"\""
      ]
     },
     "metadata": {
      "image/png": {
       "height": 420,
       "width": 420
      }
     },
     "output_type": "display_data"
    }
   ],
   "source": [
    "chart.Correlation(product, histogram =  , pch = '+')"
   ]
  },
  {
   "cell_type": "code",
   "execution_count": 19,
   "id": "977801e0-da28-453b-b61a-cc6265942046",
   "metadata": {},
   "outputs": [
    {
     "data": {
      "text/html": [
       "<table class=\"dataframe\">\n",
       "<caption>A matrix: 3 × 3 of type dbl</caption>\n",
       "<thead>\n",
       "\t<tr><th></th><th scope=col>제품_친밀도</th><th scope=col>제품_적절성</th><th scope=col>제품_만족도</th></tr>\n",
       "</thead>\n",
       "<tbody>\n",
       "\t<tr><th scope=row>제품_친밀도</th><td>1.0000000</td><td>0.5110776</td><td>0.5012007</td></tr>\n",
       "\t<tr><th scope=row>제품_적절성</th><td>0.5110776</td><td>1.0000000</td><td>0.7485096</td></tr>\n",
       "\t<tr><th scope=row>제품_만족도</th><td>0.5012007</td><td>0.7485096</td><td>1.0000000</td></tr>\n",
       "</tbody>\n",
       "</table>\n"
      ],
      "text/latex": [
       "A matrix: 3 × 3 of type dbl\n",
       "\\begin{tabular}{r|lll}\n",
       "  & 제품\\_친밀도 & 제품\\_적절성 & 제품\\_만족도\\\\\n",
       "\\hline\n",
       "\t제품\\_친밀도 & 1.0000000 & 0.5110776 & 0.5012007\\\\\n",
       "\t제품\\_적절성 & 0.5110776 & 1.0000000 & 0.7485096\\\\\n",
       "\t제품\\_만족도 & 0.5012007 & 0.7485096 & 1.0000000\\\\\n",
       "\\end{tabular}\n"
      ],
      "text/markdown": [
       "\n",
       "A matrix: 3 × 3 of type dbl\n",
       "\n",
       "| <!--/--> | 제품_친밀도 | 제품_적절성 | 제품_만족도 |\n",
       "|---|---|---|---|\n",
       "| 제품_친밀도 | 1.0000000 | 0.5110776 | 0.5012007 |\n",
       "| 제품_적절성 | 0.5110776 | 1.0000000 | 0.7485096 |\n",
       "| 제품_만족도 | 0.5012007 | 0.7485096 | 1.0000000 |\n",
       "\n"
      ],
      "text/plain": [
       "            제품_친밀도 제품_적절성 제품_만족도\n",
       "제품_친밀도 1.0000000   0.5110776   0.5012007  \n",
       "제품_적절성 0.5110776   1.0000000   0.7485096  \n",
       "제품_만족도 0.5012007   0.7485096   1.0000000  "
      ]
     },
     "metadata": {},
     "output_type": "display_data"
    }
   ],
   "source": [
    "# 서열척도 대상 상관계수\n",
    "cor(product, method = 'spearman')"
   ]
  },
  {
   "cell_type": "markdown",
   "id": "380c8be6-5912-4a0f-893e-f9ba5a0da740",
   "metadata": {},
   "source": [
    "- 상관관계 분석 결과 제시\n",
    "  - 일반적으로 상관관계 분석 결과를 논문이나 보고서에 제시하는 경우에는 해당 변수들의 기본적인 기술통계량(평균과 표준편차)과 피어슨 상관계수를 함께 제시하는 것이 좋다."
   ]
  },
  {
   "cell_type": "markdown",
   "id": "05e2e250-d151-41ef-bd86-108cbbf1b6be",
   "metadata": {},
   "source": [
    "- 상관관계의 종류에는 Y와 X간의 상관관계를 나타내는 단순 상관관계, 둘 이상의 변수들이 어느 한 변수와 관계를 갖는 경우 그 정도를 파악하기 위한 다중 상관관계, 두 변수 관계의 정도를 파악하고자 할 때 제 3의 변수가 두 변수 모두에 영향을 미치고 있는 경우 이를 통제한 다음 분석하는 편(Partial) 상관관계, 제 3의 변수가 어느 한 변수에만 영향을 미치는 경우 이를 통제한 후 분석하는 부분(Semi partial) 상관관계가 있다. 일반적으로 단순 상관관계분석과 다중 상관관계 분석을 많이 사용한다. "
   ]
  }
 ],
 "metadata": {
  "kernelspec": {
   "display_name": "R",
   "language": "R",
   "name": "ir"
  },
  "language_info": {
   "codemirror_mode": "r",
   "file_extension": ".r",
   "mimetype": "text/x-r-source",
   "name": "R",
   "pygments_lexer": "r",
   "version": "4.0.5"
  }
 },
 "nbformat": 4,
 "nbformat_minor": 5
}
