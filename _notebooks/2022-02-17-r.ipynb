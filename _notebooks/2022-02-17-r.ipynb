{
 "cells": [
  {
   "cell_type": "markdown",
   "id": "3947de53-c0a4-4a2b-abf1-046a6a456485",
   "metadata": {},
   "source": [
    "# 교차검정, 파생변수 등"
   ]
  },
  {
   "cell_type": "markdown",
   "id": "68cd182b-33fd-4410-978b-810f50f83ec3",
   "metadata": {},
   "source": [
    "- 변수 간의 관계 분석\n",
    "  - 1) 범주형, 범주형"
   ]
  },
  {
   "cell_type": "code",
   "execution_count": 20,
   "id": "4f96edf5-7657-4903-835a-e61d0ed8cf66",
   "metadata": {},
   "outputs": [
    {
     "name": "stdout",
     "output_type": "stream",
     "text": [
      "'data.frame':\t231 obs. of  15 variables:\n",
      " $ resident : int  1 2 4 5 3 2 2 5 3 1 ...\n",
      " $ gender   : int  1 1 2 1 1 2 1 2 1 1 ...\n",
      " $ job      : int  1 2 NA 3 2 1 2 NA 3 1 ...\n",
      " $ age      : int  26 54 45 62 57 36 37 29 35 56 ...\n",
      " $ position : int  4 1 2 1 NA 3 3 4 4 1 ...\n",
      " $ price    : num  5.1 4.2 3.5 5 5.4 4.1 4.9 2.3 4.2 6.7 ...\n",
      " $ survey   : int  5 4 4 5 4 2 3 1 3 4 ...\n",
      " $ price2   : num  5.1 4.2 3.5 5 5.4 4.1 4.9 2.3 4.2 6.7 ...\n",
      " $ price3   : num  5.1 4.2 3.5 5 5.4 4.1 4.9 2.3 4.2 6.7 ...\n",
      " $ resident2: chr  \"1.서울특별시\" \"2.인천광역시\" \"4.대구광역시\" \"5.시구군\" ...\n",
      " $ job2     : chr  \"공무원\" \"회사원\" NA \"개인사업\" ...\n",
      " $ age2     : chr  \"청년층\" \"중년층\" \"중년층\" \"장년층\" ...\n",
      " $ position2: chr  \"4급\" \"1급\" \"2급\" \"1급\" ...\n",
      " $ gender2  : chr  \"남자\" \"남자\" \"여자\" \"남자\" ...\n",
      " $ age3     : int  1 2 2 3 3 2 2 1 2 3 ...\n"
     ]
    }
   ],
   "source": [
    "new_data = read.csv('new_data.csv',header=T)\n",
    "str(new_data)"
   ]
  },
  {
   "cell_type": "code",
   "execution_count": 21,
   "id": "7fcd3a8a-72b7-4462-9b1d-c21750c9fa91",
   "metadata": {},
   "outputs": [
    {
     "data": {
      "text/plain": [
       "              \n",
       "               남자 여자\n",
       "  1.서울특별시   67   43\n",
       "  2.인천광역시   26   20\n",
       "  3.대전광역시   16   10\n",
       "  4.대구광역시    6    9\n",
       "  5.시구군       19   15"
      ]
     },
     "metadata": {},
     "output_type": "display_data"
    }
   ],
   "source": [
    "resident_gender = table(new_data$resident2, new_data$gender2)\n",
    "resident_gender"
   ]
  },
  {
   "cell_type": "code",
   "execution_count": 22,
   "id": "c35433b3-9783-402a-8438-6265fad6f25b",
   "metadata": {},
   "outputs": [
    {
     "data": {
      "text/plain": [
       "      \n",
       "       1.서울특별시 2.인천광역시 3.대전광역시 4.대구광역시 5.시구군\n",
       "  남자           67           26           16            6       19\n",
       "  여자           43           20           10            9       15"
      ]
     },
     "metadata": {},
     "output_type": "display_data"
    }
   ],
   "source": [
    "gender_resident = table(new_data$gender2, new_data$resident2)\n",
    "gender_resident"
   ]
  },
  {
   "cell_type": "markdown",
   "id": "162ff385-8fd7-4acb-b1d5-1374dc9a4497",
   "metadata": {},
   "source": [
    "- 성별에 따른 거주지역의 분포 현황 시각화"
   ]
  },
  {
   "cell_type": "code",
   "execution_count": 23,
   "id": "84d9b907-bb1e-41ad-a05a-92b16121f827",
   "metadata": {},
   "outputs": [
    {
     "data": {
      "image/png": "[encoded data removed]",
      "text/plain": [
       "Plot with title \"성별에 따른 거주지역 분포 현황\""
      ]
     },
     "metadata": {
      "image/png": {
       "height": 420,
       "width": 420
      }
     },
     "output_type": "display_data"
    }
   ],
   "source": [
    "barplot(resident_gender, beside = T, horiz = T, col = rainbow(5),\n",
    "        legend = row.names(resident_gender), main = '성별에 따른 거주지역 분포 현황')"
   ]
  },
  {
   "cell_type": "markdown",
   "id": "11b7bffd-4597-4827-82a4-23c359fa668a",
   "metadata": {},
   "source": [
    "- 거주지역에 따른 성별의 분포 현황 시각화"
   ]
  },
  {
   "cell_type": "code",
   "execution_count": 24,
   "id": "d9046745-2405-4116-8a56-a017b89dab7f",
   "metadata": {},
   "outputs": [
    {
     "data": {
      "image/png": "[encoded data removed]",
      "text/plain": [
       "Plot with title \"거주지역별 성별 분포 현황\""
      ]
     },
     "metadata": {
      "image/png": {
       "height": 420,
       "width": 420
      }
     },
     "output_type": "display_data"
    }
   ],
   "source": [
    "barplot(gender_resident, beside=T, col=rep(c(2,4),5), horiz=T, legend = c('남자','여자'),main = '거주지역별 성별 분포 현황')"
   ]
  },
  {
   "cell_type": "markdown",
   "id": "07d1e5cd-2aa7-45ac-8c1c-163895ca869c",
   "metadata": {},
   "source": [
    "- 변수 간의 관계 분석\n",
    "  - 1) 범주형, 연속형"
   ]
  },
  {
   "cell_type": "code",
   "execution_count": 25,
   "id": "acedefa4-6e93-4536-ac32-ffbb4dd95858",
   "metadata": {},
   "outputs": [
    {
     "name": "stdout",
     "output_type": "stream",
     "text": [
      "package 'lattice' successfully unpacked and MD5 sums checked\n",
      "\n",
      "The downloaded binary packages are in\n",
      "\tC:\\Users\\ehfus\\AppData\\Local\\Temp\\Rtmp0ckrOG\\downloaded_packages\n"
     ]
    }
   ],
   "source": [
    "install.packages('lattice')\n",
    "library(lattice)"
   ]
  },
  {
   "cell_type": "code",
   "execution_count": 33,
   "id": "be280e5c-1c1c-40f3-90d5-d82288c17ab9",
   "metadata": {},
   "outputs": [
    {
     "data": {
      "text/html": [
       "<table class=\"dataframe\">\n",
       "<caption>A data.frame: 6 × 15</caption>\n",
       "<thead>\n",
       "\t<tr><th></th><th scope=col>resident</th><th scope=col>gender</th><th scope=col>job</th><th scope=col>age</th><th scope=col>position</th><th scope=col>price</th><th scope=col>survey</th><th scope=col>price2</th><th scope=col>price3</th><th scope=col>resident2</th><th scope=col>job2</th><th scope=col>age2</th><th scope=col>position2</th><th scope=col>gender2</th><th scope=col>age3</th></tr>\n",
       "\t<tr><th></th><th scope=col>&lt;int&gt;</th><th scope=col>&lt;int&gt;</th><th scope=col>&lt;int&gt;</th><th scope=col>&lt;int&gt;</th><th scope=col>&lt;int&gt;</th><th scope=col>&lt;dbl&gt;</th><th scope=col>&lt;int&gt;</th><th scope=col>&lt;dbl&gt;</th><th scope=col>&lt;dbl&gt;</th><th scope=col>&lt;chr&gt;</th><th scope=col>&lt;chr&gt;</th><th scope=col>&lt;chr&gt;</th><th scope=col>&lt;chr&gt;</th><th scope=col>&lt;chr&gt;</th><th scope=col>&lt;int&gt;</th></tr>\n",
       "</thead>\n",
       "<tbody>\n",
       "\t<tr><th scope=row>1</th><td>1</td><td>1</td><td> 1</td><td>26</td><td> 4</td><td>5.1</td><td>5</td><td>5.1</td><td>5.1</td><td>1.서울특별시</td><td>공무원  </td><td>청년층</td><td>4급</td><td>남자</td><td>1</td></tr>\n",
       "\t<tr><th scope=row>2</th><td>2</td><td>1</td><td> 2</td><td>54</td><td> 1</td><td>4.2</td><td>4</td><td>4.2</td><td>4.2</td><td>2.인천광역시</td><td>회사원  </td><td>중년층</td><td>1급</td><td>남자</td><td>2</td></tr>\n",
       "\t<tr><th scope=row>3</th><td>4</td><td>2</td><td>NA</td><td>45</td><td> 2</td><td>3.5</td><td>4</td><td>3.5</td><td>3.5</td><td>4.대구광역시</td><td>NA      </td><td>중년층</td><td>2급</td><td>여자</td><td>2</td></tr>\n",
       "\t<tr><th scope=row>4</th><td>5</td><td>1</td><td> 3</td><td>62</td><td> 1</td><td>5.0</td><td>5</td><td>5.0</td><td>5.0</td><td>5.시구군    </td><td>개인사업</td><td>장년층</td><td>1급</td><td>남자</td><td>3</td></tr>\n",
       "\t<tr><th scope=row>5</th><td>3</td><td>1</td><td> 2</td><td>57</td><td>NA</td><td>5.4</td><td>4</td><td>5.4</td><td>5.4</td><td>3.대전광역시</td><td>회사원  </td><td>장년층</td><td>NA </td><td>남자</td><td>3</td></tr>\n",
       "\t<tr><th scope=row>6</th><td>2</td><td>2</td><td> 1</td><td>36</td><td> 3</td><td>4.1</td><td>2</td><td>4.1</td><td>4.1</td><td>2.인천광역시</td><td>공무원  </td><td>중년층</td><td>3급</td><td>여자</td><td>2</td></tr>\n",
       "</tbody>\n",
       "</table>\n"
      ],
      "text/latex": [
       "A data.frame: 6 × 15\n",
       "\\begin{tabular}{r|lllllllllllllll}\n",
       "  & resident & gender & job & age & position & price & survey & price2 & price3 & resident2 & job2 & age2 & position2 & gender2 & age3\\\\\n",
       "  & <int> & <int> & <int> & <int> & <int> & <dbl> & <int> & <dbl> & <dbl> & <chr> & <chr> & <chr> & <chr> & <chr> & <int>\\\\\n",
       "\\hline\n",
       "\t1 & 1 & 1 &  1 & 26 &  4 & 5.1 & 5 & 5.1 & 5.1 & 1.서울특별시 & 공무원   & 청년층 & 4급 & 남자 & 1\\\\\n",
       "\t2 & 2 & 1 &  2 & 54 &  1 & 4.2 & 4 & 4.2 & 4.2 & 2.인천광역시 & 회사원   & 중년층 & 1급 & 남자 & 2\\\\\n",
       "\t3 & 4 & 2 & NA & 45 &  2 & 3.5 & 4 & 3.5 & 3.5 & 4.대구광역시 & NA       & 중년층 & 2급 & 여자 & 2\\\\\n",
       "\t4 & 5 & 1 &  3 & 62 &  1 & 5.0 & 5 & 5.0 & 5.0 & 5.시구군     & 개인사업 & 장년층 & 1급 & 남자 & 3\\\\\n",
       "\t5 & 3 & 1 &  2 & 57 & NA & 5.4 & 4 & 5.4 & 5.4 & 3.대전광역시 & 회사원   & 장년층 & NA  & 남자 & 3\\\\\n",
       "\t6 & 2 & 2 &  1 & 36 &  3 & 4.1 & 2 & 4.1 & 4.1 & 2.인천광역시 & 공무원   & 중년층 & 3급 & 여자 & 2\\\\\n",
       "\\end{tabular}\n"
      ],
      "text/markdown": [
       "\n",
       "A data.frame: 6 × 15\n",
       "\n",
       "| <!--/--> | resident &lt;int&gt; | gender &lt;int&gt; | job &lt;int&gt; | age &lt;int&gt; | position &lt;int&gt; | price &lt;dbl&gt; | survey &lt;int&gt; | price2 &lt;dbl&gt; | price3 &lt;dbl&gt; | resident2 &lt;chr&gt; | job2 &lt;chr&gt; | age2 &lt;chr&gt; | position2 &lt;chr&gt; | gender2 &lt;chr&gt; | age3 &lt;int&gt; |\n",
       "|---|---|---|---|---|---|---|---|---|---|---|---|---|---|---|---|\n",
       "| 1 | 1 | 1 |  1 | 26 |  4 | 5.1 | 5 | 5.1 | 5.1 | 1.서울특별시 | 공무원   | 청년층 | 4급 | 남자 | 1 |\n",
       "| 2 | 2 | 1 |  2 | 54 |  1 | 4.2 | 4 | 4.2 | 4.2 | 2.인천광역시 | 회사원   | 중년층 | 1급 | 남자 | 2 |\n",
       "| 3 | 4 | 2 | NA | 45 |  2 | 3.5 | 4 | 3.5 | 3.5 | 4.대구광역시 | NA       | 중년층 | 2급 | 여자 | 2 |\n",
       "| 4 | 5 | 1 |  3 | 62 |  1 | 5.0 | 5 | 5.0 | 5.0 | 5.시구군     | 개인사업 | 장년층 | 1급 | 남자 | 3 |\n",
       "| 5 | 3 | 1 |  2 | 57 | NA | 5.4 | 4 | 5.4 | 5.4 | 3.대전광역시 | 회사원   | 장년층 | NA  | 남자 | 3 |\n",
       "| 6 | 2 | 2 |  1 | 36 |  3 | 4.1 | 2 | 4.1 | 4.1 | 2.인천광역시 | 공무원   | 중년층 | 3급 | 여자 | 2 |\n",
       "\n"
      ],
      "text/plain": [
       "  resident gender job age position price survey price2 price3 resident2   \n",
       "1 1        1       1  26   4       5.1   5      5.1    5.1    1.서울특별시\n",
       "2 2        1       2  54   1       4.2   4      4.2    4.2    2.인천광역시\n",
       "3 4        2      NA  45   2       3.5   4      3.5    3.5    4.대구광역시\n",
       "4 5        1       3  62   1       5.0   5      5.0    5.0    5.시구군    \n",
       "5 3        1       2  57  NA       5.4   4      5.4    5.4    3.대전광역시\n",
       "6 2        2       1  36   3       4.1   2      4.1    4.1    2.인천광역시\n",
       "  job2     age2   position2 gender2 age3\n",
       "1 공무원   청년층 4급       남자    1   \n",
       "2 회사원   중년층 1급       남자    2   \n",
       "3 NA       중년층 2급       여자    2   \n",
       "4 개인사업 장년층 1급       남자    3   \n",
       "5 회사원   장년층 NA        남자    3   \n",
       "6 공무원   중년층 3급       여자    2   "
      ]
     },
     "metadata": {},
     "output_type": "display_data"
    }
   ],
   "source": [
    "head(new_data)"
   ]
  },
  {
   "cell_type": "code",
   "execution_count": 36,
   "id": "32c36347-34ce-48d3-a021-c1416fc01232",
   "metadata": {},
   "outputs": [
    {
     "data": {
      "image/png": "[encoded data removed]",
      "text/plain": [
       "plot without title"
      ]
     },
     "metadata": {
      "image/png": {
       "height": 420,
       "width": 420
      }
     },
     "output_type": "display_data"
    }
   ],
   "source": [
    "# 직업의 유형에 따라서 나이의 분포를 시각화한 결과이다\n",
    "densityplot(~age,data=new_data,\n",
    "           groups = job2,\n",
    "           # plt.points = T : 밀도, auto.key=T : 범례\n",
    "           plt.points = T,auto.key=T)"
   ]
  },
  {
   "cell_type": "markdown",
   "id": "96654964-50a4-4aee-896b-fcd939a49c0c",
   "metadata": {},
   "source": [
    "- 연속형, 범주형, 범주형"
   ]
  },
  {
   "cell_type": "code",
   "execution_count": 41,
   "id": "5d2d91db-e974-47a9-b9fc-297b887328e9",
   "metadata": {},
   "outputs": [
    {
     "data": {
      "image/png": "[encoded data removed]",
      "text/plain": [
       "plot without title"
      ]
     },
     "metadata": {
      "image/png": {
       "height": 420,
       "width": 420
      }
     },
     "output_type": "display_data"
    }
   ],
   "source": [
    "densityplot(~price|factor(gender2), # 격자를 만들어주는 칼럼을 지정하는 속성(성별로 격자 생성)\n",
    "           data = new_data,\n",
    "           groups = position2, # 하나의 격자에서 그룹을 지정하는 속성(직급으로 그룹 생성)\n",
    "           plot.points = T, auto.key=T)"
   ]
  },
  {
   "cell_type": "code",
   "execution_count": 42,
   "id": "7f49768e-8f28-4bb7-92f3-bb190d3b30d0",
   "metadata": {},
   "outputs": [
    {
     "data": {
      "image/png": "[encoded data removed]",
      "text/plain": [
       "plot without title"
      ]
     },
     "metadata": {
      "image/png": {
       "height": 420,
       "width": 420
      }
     },
     "output_type": "display_data"
    }
   ],
   "source": [
    "#직급에 따른 성별 구매비용 분석\n",
    "densityplot(~price|factor(position2),\n",
    "           data=new_data,\n",
    "           groups = gender2,\n",
    "           plot.points=T,auto.key=T)"
   ]
  },
  {
   "cell_type": "markdown",
   "id": "fcbb51c5-a115-4ec4-bbed-444c6a0fdb53",
   "metadata": {},
   "source": [
    "- 연속형, 연속형, 범주형"
   ]
  },
  {
   "cell_type": "code",
   "execution_count": 44,
   "id": "cd2b03c5-0d27-4b30-91ce-fba0edaadcbb",
   "metadata": {},
   "outputs": [
    {
     "data": {
      "image/png": "[encoded data removed]",
      "text/plain": [
       "plot without title"
      ]
     },
     "metadata": {
      "image/png": {
       "height": 420,
       "width": 420
      }
     },
     "output_type": "display_data"
    }
   ],
   "source": [
    "xyplot(price~age | factor(gender2), data= new_data)"
   ]
  },
  {
   "cell_type": "markdown",
   "id": "3ae3764c-1957-405d-9acb-3f961e3510c3",
   "metadata": {},
   "source": [
    "---"
   ]
  },
  {
   "cell_type": "markdown",
   "id": "bd02be80-a747-4dc8-8e61-c308c52db40d",
   "metadata": {},
   "source": [
    "- 분석을 위해서는 코딩된 데이터를 대상으로 새로운 변수를 생성하여 분석에 이용할 수 있는데, 이렇게 만들어진 변수를 파생변수라고 한다. 즉, 기존 변수를 이용하여 새로 만들어진 변수를 의미한다. \n",
    "- 사칙 연산을 이용하는 방법과 1:1 관계로 나열하는 방법이 있다.\n",
    "  - 사칙 연산을 이용하는 방법은 예로 성적 분포를 나타내는 데이터에서 국어, 영어, 수학 점수를 갖는 칼럼을 대상으로 덧셈 연산이나 나눗셈 연산을 이용하여 총점이나 평균 칼럼을 생성하는 방법이다. \n",
    "  - 1:1 관계로 나열하는 것은 원-핫 인코딩을 생각하면 된다. $\\to$ 칼럼의 수는 늘어나지만 추론통계분석이나 예측분석에서 설명 변수 즉, 독립 변수로 사용할 수 있다. "
   ]
  },
  {
   "cell_type": "markdown",
   "id": "a54149be-86d9-41c4-8d66-a806f8a85754",
   "metadata": {},
   "source": [
    "---"
   ]
  },
  {
   "cell_type": "markdown",
   "id": "78d76099-6b5d-4679-8f9f-34c463b3ede7",
   "metadata": {},
   "source": [
    "- 더미 형식으로 파생변수 생성\n",
    "  - 특정 칼럼을 명목상 두 가지 상태(0과 1)로 범주화하여 나타내는 형태를 더미라고 표현한다.\n",
    "  - 여기서는 1:N 관계를 갖는 고객 정보 테이블의 주거환경 칼럼을 대상으로 주택 유형(단독주택과 다세대주택)과 아파트 유형(아파트와 오피스텔)의 두 가지 상태로 더미화 하여 파생변수를 생성하는 과정에 대해서 알아보자"
   ]
  },
  {
   "cell_type": "code",
   "execution_count": 46,
   "id": "70de48fd-1d76-4169-b25f-b2d59772789a",
   "metadata": {},
   "outputs": [
    {
     "data": {
      "text/html": [
       "<table class=\"dataframe\">\n",
       "<caption>A data.frame: 6 × 5</caption>\n",
       "<thead>\n",
       "\t<tr><th></th><th scope=col>user_id</th><th scope=col>age</th><th scope=col>house_type</th><th scope=col>resident</th><th scope=col>job</th></tr>\n",
       "\t<tr><th></th><th scope=col>&lt;int&gt;</th><th scope=col>&lt;int&gt;</th><th scope=col>&lt;int&gt;</th><th scope=col>&lt;chr&gt;</th><th scope=col>&lt;int&gt;</th></tr>\n",
       "</thead>\n",
       "<tbody>\n",
       "\t<tr><th scope=row>1</th><td>1001</td><td>35</td><td>4</td><td>전북</td><td>6</td></tr>\n",
       "\t<tr><th scope=row>2</th><td>1002</td><td>45</td><td>4</td><td>경남</td><td>2</td></tr>\n",
       "\t<tr><th scope=row>3</th><td>1003</td><td>55</td><td>4</td><td>경기</td><td>6</td></tr>\n",
       "\t<tr><th scope=row>4</th><td>1004</td><td>43</td><td>3</td><td>대전</td><td>1</td></tr>\n",
       "\t<tr><th scope=row>5</th><td>1005</td><td>55</td><td>4</td><td>경기</td><td>2</td></tr>\n",
       "\t<tr><th scope=row>6</th><td>1006</td><td>45</td><td>1</td><td>대구</td><td>1</td></tr>\n",
       "</tbody>\n",
       "</table>\n"
      ],
      "text/latex": [
       "A data.frame: 6 × 5\n",
       "\\begin{tabular}{r|lllll}\n",
       "  & user\\_id & age & house\\_type & resident & job\\\\\n",
       "  & <int> & <int> & <int> & <chr> & <int>\\\\\n",
       "\\hline\n",
       "\t1 & 1001 & 35 & 4 & 전북 & 6\\\\\n",
       "\t2 & 1002 & 45 & 4 & 경남 & 2\\\\\n",
       "\t3 & 1003 & 55 & 4 & 경기 & 6\\\\\n",
       "\t4 & 1004 & 43 & 3 & 대전 & 1\\\\\n",
       "\t5 & 1005 & 55 & 4 & 경기 & 2\\\\\n",
       "\t6 & 1006 & 45 & 1 & 대구 & 1\\\\\n",
       "\\end{tabular}\n"
      ],
      "text/markdown": [
       "\n",
       "A data.frame: 6 × 5\n",
       "\n",
       "| <!--/--> | user_id &lt;int&gt; | age &lt;int&gt; | house_type &lt;int&gt; | resident &lt;chr&gt; | job &lt;int&gt; |\n",
       "|---|---|---|---|---|---|\n",
       "| 1 | 1001 | 35 | 4 | 전북 | 6 |\n",
       "| 2 | 1002 | 45 | 4 | 경남 | 2 |\n",
       "| 3 | 1003 | 55 | 4 | 경기 | 6 |\n",
       "| 4 | 1004 | 43 | 3 | 대전 | 1 |\n",
       "| 5 | 1005 | 55 | 4 | 경기 | 2 |\n",
       "| 6 | 1006 | 45 | 1 | 대구 | 1 |\n",
       "\n"
      ],
      "text/plain": [
       "  user_id age house_type resident job\n",
       "1 1001    35  4          전북     6  \n",
       "2 1002    45  4          경남     2  \n",
       "3 1003    55  4          경기     6  \n",
       "4 1004    43  3          대전     1  \n",
       "5 1005    55  4          경기     2  \n",
       "6 1006    45  1          대구     1  "
      ]
     },
     "metadata": {},
     "output_type": "display_data"
    }
   ],
   "source": [
    "user_data = read.csv('user_data.csv',header=T)\n",
    "head(user_data)"
   ]
  },
  {
   "cell_type": "code",
   "execution_count": 48,
   "id": "27a29fc5-4c2d-4846-8483-becc3f2c6587",
   "metadata": {},
   "outputs": [
    {
     "data": {
      "text/plain": [
       "\n",
       "  1   2   3   4 \n",
       " 32  47  21 300 "
      ]
     },
     "metadata": {},
     "output_type": "display_data"
    }
   ],
   "source": [
    "table(user_data$house_type)"
   ]
  },
  {
   "cell_type": "markdown",
   "id": "d4fb0458-c690-46ab-8cf1-dacc1c2ce593",
   "metadata": {},
   "source": [
    "- 주거환경 오피스텔(4)이 가장 많은 빈도수를 나타낸다."
   ]
  },
  {
   "cell_type": "code",
   "execution_count": 54,
   "id": "7768d968-c317-41ce-8020-8364c39e7753",
   "metadata": {},
   "outputs": [
    {
     "data": {
      "text/html": [
       "<style>\n",
       ".list-inline {list-style: none; margin:0; padding: 0}\n",
       ".list-inline>li {display: inline-block}\n",
       ".list-inline>li:not(:last-child)::after {content: \"\\00b7\"; padding: 0 .5ex}\n",
       "</style>\n",
       "<ol class=list-inline><li>1</li><li>1</li><li>1</li><li>1</li><li>1</li><li>0</li><li>1</li><li>0</li><li>1</li><li>1</li></ol>\n"
      ],
      "text/latex": [
       "\\begin{enumerate*}\n",
       "\\item 1\n",
       "\\item 1\n",
       "\\item 1\n",
       "\\item 1\n",
       "\\item 1\n",
       "\\item 0\n",
       "\\item 1\n",
       "\\item 0\n",
       "\\item 1\n",
       "\\item 1\n",
       "\\end{enumerate*}\n"
      ],
      "text/markdown": [
       "1. 1\n",
       "2. 1\n",
       "3. 1\n",
       "4. 1\n",
       "5. 1\n",
       "6. 0\n",
       "7. 1\n",
       "8. 0\n",
       "9. 1\n",
       "10. 1\n",
       "\n",
       "\n"
      ],
      "text/plain": [
       " [1] 1 1 1 1 1 0 1 0 1 1"
      ]
     },
     "metadata": {},
     "output_type": "display_data"
    }
   ],
   "source": [
    "# 더미변수를 생성해보자\n",
    "house_type2 = ifelse(user_data$house_type == 1 | user_data$house_type == 2 ,0 ,1 )\n",
    "house_type2[1:10]\n",
    "# house_type이 1 또는 2이면 0으로 바꿔주고 아니면 1로 바꿔준다."
   ]
  },
  {
   "cell_type": "code",
   "execution_count": 55,
   "id": "1e9b3fb8-b8a7-4b61-bdc5-30f53950b561",
   "metadata": {},
   "outputs": [],
   "source": [
    "# 파생변수 추가\n",
    "user_data$house_type2 = house_type2 # user_data 데이터셋에 새로운 칼럼을 추가"
   ]
  },
  {
   "cell_type": "markdown",
   "id": "08d9de6d-938c-4b70-8d5b-c5a72d6b459e",
   "metadata": {},
   "source": [
    "- 1:N 관계를 1:1 관계로 파생변수 생성"
   ]
  },
  {
   "cell_type": "code",
   "execution_count": 56,
   "id": "162e434d-09f2-468a-948b-a1375f9ac343",
   "metadata": {},
   "outputs": [
    {
     "data": {
      "text/html": [
       "<table class=\"dataframe\">\n",
       "<caption>A data.frame: 6 × 4</caption>\n",
       "<thead>\n",
       "\t<tr><th></th><th scope=col>user_id</th><th scope=col>product_type</th><th scope=col>pay_method</th><th scope=col>price</th></tr>\n",
       "\t<tr><th></th><th scope=col>&lt;int&gt;</th><th scope=col>&lt;int&gt;</th><th scope=col>&lt;chr&gt;</th><th scope=col>&lt;dbl&gt;</th></tr>\n",
       "</thead>\n",
       "<tbody>\n",
       "\t<tr><th scope=row>1</th><td>1001</td><td>1</td><td>1.현금    </td><td>153000</td></tr>\n",
       "\t<tr><th scope=row>2</th><td>1002</td><td>2</td><td>2.직불카드</td><td>120000</td></tr>\n",
       "\t<tr><th scope=row>3</th><td>1003</td><td>3</td><td>3.신용카드</td><td>780000</td></tr>\n",
       "\t<tr><th scope=row>4</th><td>1003</td><td>4</td><td>3.신용카드</td><td>123000</td></tr>\n",
       "\t<tr><th scope=row>5</th><td>1003</td><td>5</td><td>3.신용카드</td><td> 79000</td></tr>\n",
       "\t<tr><th scope=row>6</th><td>1003</td><td>1</td><td>3.신용카드</td><td>125000</td></tr>\n",
       "</tbody>\n",
       "</table>\n"
      ],
      "text/latex": [
       "A data.frame: 6 × 4\n",
       "\\begin{tabular}{r|llll}\n",
       "  & user\\_id & product\\_type & pay\\_method & price\\\\\n",
       "  & <int> & <int> & <chr> & <dbl>\\\\\n",
       "\\hline\n",
       "\t1 & 1001 & 1 & 1.현금     & 153000\\\\\n",
       "\t2 & 1002 & 2 & 2.직불카드 & 120000\\\\\n",
       "\t3 & 1003 & 3 & 3.신용카드 & 780000\\\\\n",
       "\t4 & 1003 & 4 & 3.신용카드 & 123000\\\\\n",
       "\t5 & 1003 & 5 & 3.신용카드 &  79000\\\\\n",
       "\t6 & 1003 & 1 & 3.신용카드 & 125000\\\\\n",
       "\\end{tabular}\n"
      ],
      "text/markdown": [
       "\n",
       "A data.frame: 6 × 4\n",
       "\n",
       "| <!--/--> | user_id &lt;int&gt; | product_type &lt;int&gt; | pay_method &lt;chr&gt; | price &lt;dbl&gt; |\n",
       "|---|---|---|---|---|\n",
       "| 1 | 1001 | 1 | 1.현금     | 153000 |\n",
       "| 2 | 1002 | 2 | 2.직불카드 | 120000 |\n",
       "| 3 | 1003 | 3 | 3.신용카드 | 780000 |\n",
       "| 4 | 1003 | 4 | 3.신용카드 | 123000 |\n",
       "| 5 | 1003 | 5 | 3.신용카드 |  79000 |\n",
       "| 6 | 1003 | 1 | 3.신용카드 | 125000 |\n",
       "\n"
      ],
      "text/plain": [
       "  user_id product_type pay_method price \n",
       "1 1001    1            1.현금     153000\n",
       "2 1002    2            2.직불카드 120000\n",
       "3 1003    3            3.신용카드 780000\n",
       "4 1003    4            3.신용카드 123000\n",
       "5 1003    5            3.신용카드  79000\n",
       "6 1003    1            3.신용카드 125000"
      ]
     },
     "metadata": {},
     "output_type": "display_data"
    }
   ],
   "source": [
    "pay_data = read.csv('pay_data.csv',header=T)\n",
    "head(pay_data)"
   ]
  },
  {
   "cell_type": "code",
   "execution_count": 57,
   "id": "c96b3fb8-ad1f-4103-bfcc-36d7f90a14ef",
   "metadata": {},
   "outputs": [
    {
     "data": {
      "text/plain": [
       "\n",
       "  1   2   3   4   5 \n",
       " 55  82  89 104  70 "
      ]
     },
     "metadata": {},
     "output_type": "display_data"
    }
   ],
   "source": [
    "table(pay_data$product_type)"
   ]
  },
  {
   "cell_type": "markdown",
   "id": "aaafb6f6-7080-4555-b1bf-ed86c3356f60",
   "metadata": {},
   "source": [
    "- 지불정보 테이블을 대상으로 상품 유형의 빈도수를 나타낸다. 상품 유형은 잡화(4)가 가장 많은 빈도수를 보인다."
   ]
  },
  {
   "cell_type": "code",
   "execution_count": 61,
   "id": "dede21a0-609e-4ed7-baa8-864e8cf85b3d",
   "metadata": {},
   "outputs": [
    {
     "name": "stderr",
     "output_type": "stream",
     "text": [
      "Using price as value column: use value.var to override.\n",
      "\n"
     ]
    },
    {
     "data": {
      "text/html": [
       "<table class=\"dataframe\">\n",
       "<caption>A data.frame: 6 × 6</caption>\n",
       "<thead>\n",
       "\t<tr><th></th><th scope=col>user_id</th><th scope=col>1</th><th scope=col>2</th><th scope=col>3</th><th scope=col>4</th><th scope=col>5</th></tr>\n",
       "\t<tr><th></th><th scope=col>&lt;int&gt;</th><th scope=col>&lt;dbl&gt;</th><th scope=col>&lt;dbl&gt;</th><th scope=col>&lt;dbl&gt;</th><th scope=col>&lt;dbl&gt;</th><th scope=col>&lt;dbl&gt;</th></tr>\n",
       "</thead>\n",
       "<tbody>\n",
       "\t<tr><th scope=row>1</th><td>1001</td><td>153000</td><td>     0</td><td>     0</td><td>     0</td><td>    0</td></tr>\n",
       "\t<tr><th scope=row>2</th><td>1002</td><td>     0</td><td>120000</td><td>     0</td><td>     0</td><td>    0</td></tr>\n",
       "\t<tr><th scope=row>3</th><td>1003</td><td>125000</td><td>     0</td><td>780000</td><td>123000</td><td>79000</td></tr>\n",
       "\t<tr><th scope=row>4</th><td>1007</td><td>     0</td><td>150000</td><td> 78879</td><td> 81980</td><td>71773</td></tr>\n",
       "\t<tr><th scope=row>5</th><td>1011</td><td>     0</td><td> 71774</td><td>     0</td><td>     0</td><td>    0</td></tr>\n",
       "\t<tr><th scope=row>6</th><td>1012</td><td>     0</td><td>     0</td><td> 74968</td><td>     0</td><td>    0</td></tr>\n",
       "</tbody>\n",
       "</table>\n"
      ],
      "text/latex": [
       "A data.frame: 6 × 6\n",
       "\\begin{tabular}{r|llllll}\n",
       "  & user\\_id & 1 & 2 & 3 & 4 & 5\\\\\n",
       "  & <int> & <dbl> & <dbl> & <dbl> & <dbl> & <dbl>\\\\\n",
       "\\hline\n",
       "\t1 & 1001 & 153000 &      0 &      0 &      0 &     0\\\\\n",
       "\t2 & 1002 &      0 & 120000 &      0 &      0 &     0\\\\\n",
       "\t3 & 1003 & 125000 &      0 & 780000 & 123000 & 79000\\\\\n",
       "\t4 & 1007 &      0 & 150000 &  78879 &  81980 & 71773\\\\\n",
       "\t5 & 1011 &      0 &  71774 &      0 &      0 &     0\\\\\n",
       "\t6 & 1012 &      0 &      0 &  74968 &      0 &     0\\\\\n",
       "\\end{tabular}\n"
      ],
      "text/markdown": [
       "\n",
       "A data.frame: 6 × 6\n",
       "\n",
       "| <!--/--> | user_id &lt;int&gt; | 1 &lt;dbl&gt; | 2 &lt;dbl&gt; | 3 &lt;dbl&gt; | 4 &lt;dbl&gt; | 5 &lt;dbl&gt; |\n",
       "|---|---|---|---|---|---|---|\n",
       "| 1 | 1001 | 153000 |      0 |      0 |      0 |     0 |\n",
       "| 2 | 1002 |      0 | 120000 |      0 |      0 |     0 |\n",
       "| 3 | 1003 | 125000 |      0 | 780000 | 123000 | 79000 |\n",
       "| 4 | 1007 |      0 | 150000 |  78879 |  81980 | 71773 |\n",
       "| 5 | 1011 |      0 |  71774 |      0 |      0 |     0 |\n",
       "| 6 | 1012 |      0 |      0 |  74968 |      0 |     0 |\n",
       "\n"
      ],
      "text/plain": [
       "  user_id 1      2      3      4      5    \n",
       "1 1001    153000      0      0      0     0\n",
       "2 1002         0 120000      0      0     0\n",
       "3 1003    125000      0 780000 123000 79000\n",
       "4 1007         0 150000  78879  81980 71773\n",
       "5 1011         0  71774      0      0     0\n",
       "6 1012         0      0  74968      0     0"
      ]
     },
     "metadata": {},
     "output_type": "display_data"
    }
   ],
   "source": [
    "# 고객별 상품 유형에 따른 구매금액과 합계를 나타내는 파생변수 생성\n",
    "library(reshape2) # 구조 변경을 위한 패키지 로딩\n",
    "product_price = dcast(pay_data, user_id~product_type, sum, na.rm=T) # 행~열\n",
    "head(product_price)"
   ]
  },
  {
   "cell_type": "code",
   "execution_count": 66,
   "id": "6d7a25a1-7b10-4e29-be48-9157a6458a59",
   "metadata": {},
   "outputs": [
    {
     "data": {
      "text/html": [
       "<table class=\"dataframe\">\n",
       "<caption>A data.frame: 6 × 6</caption>\n",
       "<thead>\n",
       "\t<tr><th></th><th scope=col>user_id</th><th scope=col>식료품1</th><th scope=col>생필품(2)</th><th scope=col>의류(3)</th><th scope=col>잡화(4)</th><th scope=col>기타(5)</th></tr>\n",
       "\t<tr><th></th><th scope=col>&lt;int&gt;</th><th scope=col>&lt;dbl&gt;</th><th scope=col>&lt;dbl&gt;</th><th scope=col>&lt;dbl&gt;</th><th scope=col>&lt;dbl&gt;</th><th scope=col>&lt;dbl&gt;</th></tr>\n",
       "</thead>\n",
       "<tbody>\n",
       "\t<tr><th scope=row>1</th><td>1001</td><td>153000</td><td>     0</td><td>     0</td><td>     0</td><td>    0</td></tr>\n",
       "\t<tr><th scope=row>2</th><td>1002</td><td>     0</td><td>120000</td><td>     0</td><td>     0</td><td>    0</td></tr>\n",
       "\t<tr><th scope=row>3</th><td>1003</td><td>125000</td><td>     0</td><td>780000</td><td>123000</td><td>79000</td></tr>\n",
       "\t<tr><th scope=row>4</th><td>1007</td><td>     0</td><td>150000</td><td> 78879</td><td> 81980</td><td>71773</td></tr>\n",
       "\t<tr><th scope=row>5</th><td>1011</td><td>     0</td><td> 71774</td><td>     0</td><td>     0</td><td>    0</td></tr>\n",
       "\t<tr><th scope=row>6</th><td>1012</td><td>     0</td><td>     0</td><td> 74968</td><td>     0</td><td>    0</td></tr>\n",
       "</tbody>\n",
       "</table>\n"
      ],
      "text/latex": [
       "A data.frame: 6 × 6\n",
       "\\begin{tabular}{r|llllll}\n",
       "  & user\\_id & 식료품1 & 생필품(2) & 의류(3) & 잡화(4) & 기타(5)\\\\\n",
       "  & <int> & <dbl> & <dbl> & <dbl> & <dbl> & <dbl>\\\\\n",
       "\\hline\n",
       "\t1 & 1001 & 153000 &      0 &      0 &      0 &     0\\\\\n",
       "\t2 & 1002 &      0 & 120000 &      0 &      0 &     0\\\\\n",
       "\t3 & 1003 & 125000 &      0 & 780000 & 123000 & 79000\\\\\n",
       "\t4 & 1007 &      0 & 150000 &  78879 &  81980 & 71773\\\\\n",
       "\t5 & 1011 &      0 &  71774 &      0 &      0 &     0\\\\\n",
       "\t6 & 1012 &      0 &      0 &  74968 &      0 &     0\\\\\n",
       "\\end{tabular}\n"
      ],
      "text/markdown": [
       "\n",
       "A data.frame: 6 × 6\n",
       "\n",
       "| <!--/--> | user_id &lt;int&gt; | 식료품1 &lt;dbl&gt; | 생필품(2) &lt;dbl&gt; | 의류(3) &lt;dbl&gt; | 잡화(4) &lt;dbl&gt; | 기타(5) &lt;dbl&gt; |\n",
       "|---|---|---|---|---|---|---|\n",
       "| 1 | 1001 | 153000 |      0 |      0 |      0 |     0 |\n",
       "| 2 | 1002 |      0 | 120000 |      0 |      0 |     0 |\n",
       "| 3 | 1003 | 125000 |      0 | 780000 | 123000 | 79000 |\n",
       "| 4 | 1007 |      0 | 150000 |  78879 |  81980 | 71773 |\n",
       "| 5 | 1011 |      0 |  71774 |      0 |      0 |     0 |\n",
       "| 6 | 1012 |      0 |      0 |  74968 |      0 |     0 |\n",
       "\n"
      ],
      "text/plain": [
       "  user_id 식료품1 생필품(2) 의류(3) 잡화(4) 기타(5)\n",
       "1 1001    153000       0         0       0      0  \n",
       "2 1002         0  120000         0       0      0  \n",
       "3 1003    125000       0    780000  123000  79000  \n",
       "4 1007         0  150000     78879   81980  71773  \n",
       "5 1011         0   71774         0       0      0  \n",
       "6 1012         0       0     74968       0      0  "
      ]
     },
     "metadata": {},
     "output_type": "display_data"
    }
   ],
   "source": [
    "# 칼럼명 수정\n",
    "names(product_price) = c('user_id','식료품1','생필품(2)','의류(3)','잡화(4)','기타(5)')\n",
    "# 확인\n",
    "head(product_price)"
   ]
  },
  {
   "cell_type": "markdown",
   "id": "f0bf540b-b2a2-4e51-813f-59e2927a4c57",
   "metadata": {},
   "source": [
    "---"
   ]
  },
  {
   "cell_type": "code",
   "execution_count": 67,
   "id": "67613a6d-63fc-4bdb-b836-fbb928d654f6",
   "metadata": {},
   "outputs": [
    {
     "name": "stderr",
     "output_type": "stream",
     "text": [
      "Using price as value column: use value.var to override.\n",
      "\n"
     ]
    },
    {
     "data": {
      "text/html": [
       "<table class=\"dataframe\">\n",
       "<caption>A data.frame: 6 × 5</caption>\n",
       "<thead>\n",
       "\t<tr><th></th><th scope=col>user_id</th><th scope=col>1.현금</th><th scope=col>2.직불카드</th><th scope=col>3.신용카드</th><th scope=col>4.상품권</th></tr>\n",
       "\t<tr><th></th><th scope=col>&lt;int&gt;</th><th scope=col>&lt;int&gt;</th><th scope=col>&lt;int&gt;</th><th scope=col>&lt;int&gt;</th><th scope=col>&lt;int&gt;</th></tr>\n",
       "</thead>\n",
       "<tbody>\n",
       "\t<tr><th scope=row>1</th><td>1001</td><td>1</td><td>0</td><td>0</td><td>0</td></tr>\n",
       "\t<tr><th scope=row>2</th><td>1002</td><td>0</td><td>1</td><td>0</td><td>0</td></tr>\n",
       "\t<tr><th scope=row>3</th><td>1003</td><td>0</td><td>0</td><td>4</td><td>0</td></tr>\n",
       "\t<tr><th scope=row>4</th><td>1007</td><td>0</td><td>4</td><td>0</td><td>0</td></tr>\n",
       "\t<tr><th scope=row>5</th><td>1011</td><td>1</td><td>0</td><td>0</td><td>0</td></tr>\n",
       "\t<tr><th scope=row>6</th><td>1012</td><td>0</td><td>1</td><td>0</td><td>0</td></tr>\n",
       "</tbody>\n",
       "</table>\n"
      ],
      "text/latex": [
       "A data.frame: 6 × 5\n",
       "\\begin{tabular}{r|lllll}\n",
       "  & user\\_id & 1.현금 & 2.직불카드 & 3.신용카드 & 4.상품권\\\\\n",
       "  & <int> & <int> & <int> & <int> & <int>\\\\\n",
       "\\hline\n",
       "\t1 & 1001 & 1 & 0 & 0 & 0\\\\\n",
       "\t2 & 1002 & 0 & 1 & 0 & 0\\\\\n",
       "\t3 & 1003 & 0 & 0 & 4 & 0\\\\\n",
       "\t4 & 1007 & 0 & 4 & 0 & 0\\\\\n",
       "\t5 & 1011 & 1 & 0 & 0 & 0\\\\\n",
       "\t6 & 1012 & 0 & 1 & 0 & 0\\\\\n",
       "\\end{tabular}\n"
      ],
      "text/markdown": [
       "\n",
       "A data.frame: 6 × 5\n",
       "\n",
       "| <!--/--> | user_id &lt;int&gt; | 1.현금 &lt;int&gt; | 2.직불카드 &lt;int&gt; | 3.신용카드 &lt;int&gt; | 4.상품권 &lt;int&gt; |\n",
       "|---|---|---|---|---|---|\n",
       "| 1 | 1001 | 1 | 0 | 0 | 0 |\n",
       "| 2 | 1002 | 0 | 1 | 0 | 0 |\n",
       "| 3 | 1003 | 0 | 0 | 4 | 0 |\n",
       "| 4 | 1007 | 0 | 4 | 0 | 0 |\n",
       "| 5 | 1011 | 1 | 0 | 0 | 0 |\n",
       "| 6 | 1012 | 0 | 1 | 0 | 0 |\n",
       "\n"
      ],
      "text/plain": [
       "  user_id 1.현금 2.직불카드 3.신용카드 4.상품권\n",
       "1 1001    1      0          0          0       \n",
       "2 1002    0      1          0          0       \n",
       "3 1003    0      0          4          0       \n",
       "4 1007    0      4          0          0       \n",
       "5 1011    1      0          0          0       \n",
       "6 1012    0      1          0          0       "
      ]
     },
     "metadata": {},
     "output_type": "display_data"
    }
   ],
   "source": [
    "# 고객별 지불유형에 따른 구매상품 개수를 나타내는 파생변수 생성\n",
    "pay_price = dcast(pay_data, user_id~pay_method, length)\n",
    "head(pay_price)"
   ]
  },
  {
   "cell_type": "code",
   "execution_count": 68,
   "id": "98a3f8b0-ce7e-4a22-903c-1f1b11a4ac74",
   "metadata": {},
   "outputs": [
    {
     "data": {
      "text/html": [
       "<table class=\"dataframe\">\n",
       "<caption>A data.frame: 6 × 5</caption>\n",
       "<thead>\n",
       "\t<tr><th></th><th scope=col>user_id</th><th scope=col>현금(1)</th><th scope=col>직불카드(2)</th><th scope=col>신용카드(3)</th><th scope=col>상품권(4)</th></tr>\n",
       "\t<tr><th></th><th scope=col>&lt;int&gt;</th><th scope=col>&lt;int&gt;</th><th scope=col>&lt;int&gt;</th><th scope=col>&lt;int&gt;</th><th scope=col>&lt;int&gt;</th></tr>\n",
       "</thead>\n",
       "<tbody>\n",
       "\t<tr><th scope=row>1</th><td>1001</td><td>1</td><td>0</td><td>0</td><td>0</td></tr>\n",
       "\t<tr><th scope=row>2</th><td>1002</td><td>0</td><td>1</td><td>0</td><td>0</td></tr>\n",
       "\t<tr><th scope=row>3</th><td>1003</td><td>0</td><td>0</td><td>4</td><td>0</td></tr>\n",
       "\t<tr><th scope=row>4</th><td>1007</td><td>0</td><td>4</td><td>0</td><td>0</td></tr>\n",
       "\t<tr><th scope=row>5</th><td>1011</td><td>1</td><td>0</td><td>0</td><td>0</td></tr>\n",
       "\t<tr><th scope=row>6</th><td>1012</td><td>0</td><td>1</td><td>0</td><td>0</td></tr>\n",
       "</tbody>\n",
       "</table>\n"
      ],
      "text/latex": [
       "A data.frame: 6 × 5\n",
       "\\begin{tabular}{r|lllll}\n",
       "  & user\\_id & 현금(1) & 직불카드(2) & 신용카드(3) & 상품권(4)\\\\\n",
       "  & <int> & <int> & <int> & <int> & <int>\\\\\n",
       "\\hline\n",
       "\t1 & 1001 & 1 & 0 & 0 & 0\\\\\n",
       "\t2 & 1002 & 0 & 1 & 0 & 0\\\\\n",
       "\t3 & 1003 & 0 & 0 & 4 & 0\\\\\n",
       "\t4 & 1007 & 0 & 4 & 0 & 0\\\\\n",
       "\t5 & 1011 & 1 & 0 & 0 & 0\\\\\n",
       "\t6 & 1012 & 0 & 1 & 0 & 0\\\\\n",
       "\\end{tabular}\n"
      ],
      "text/markdown": [
       "\n",
       "A data.frame: 6 × 5\n",
       "\n",
       "| <!--/--> | user_id &lt;int&gt; | 현금(1) &lt;int&gt; | 직불카드(2) &lt;int&gt; | 신용카드(3) &lt;int&gt; | 상품권(4) &lt;int&gt; |\n",
       "|---|---|---|---|---|---|\n",
       "| 1 | 1001 | 1 | 0 | 0 | 0 |\n",
       "| 2 | 1002 | 0 | 1 | 0 | 0 |\n",
       "| 3 | 1003 | 0 | 0 | 4 | 0 |\n",
       "| 4 | 1007 | 0 | 4 | 0 | 0 |\n",
       "| 5 | 1011 | 1 | 0 | 0 | 0 |\n",
       "| 6 | 1012 | 0 | 1 | 0 | 0 |\n",
       "\n"
      ],
      "text/plain": [
       "  user_id 현금(1) 직불카드(2) 신용카드(3) 상품권(4)\n",
       "1 1001    1       0           0           0        \n",
       "2 1002    0       1           0           0        \n",
       "3 1003    0       0           4           0        \n",
       "4 1007    0       4           0           0        \n",
       "5 1011    1       0           0           0        \n",
       "6 1012    0       1           0           0        "
      ]
     },
     "metadata": {},
     "output_type": "display_data"
    }
   ],
   "source": [
    "# 칼럼명 변경\n",
    "names(pay_price)=c('user_id','현금(1)','직불카드(2)','신용카드(3)','상품권(4)')\n",
    "head(pay_price)"
   ]
  },
  {
   "cell_type": "markdown",
   "id": "b95c339c-52f6-40e0-91b9-0efeca186fdb",
   "metadata": {},
   "source": [
    "- 파생 변수 합치기\n",
    "  - 지금까지 생성된 파생변수를 대상으로 고객정보 테이블에 파생변수를 추가하여 새로운 형태의 데이터프레임을 생성하는 과정에 대해서 알아보자"
   ]
  },
  {
   "cell_type": "code",
   "execution_count": 70,
   "id": "1c3d963d-3567-4245-8bc6-b38dcb0fbf32",
   "metadata": {},
   "outputs": [],
   "source": [
    "library(plyr)\n",
    "# 데이터프레임 병합을 위한 패키지 로딩"
   ]
  },
  {
   "cell_type": "code",
   "execution_count": 71,
   "id": "50f8a409-39dd-444b-b67f-0bc0673524de",
   "metadata": {},
   "outputs": [
    {
     "data": {
      "text/html": [
       "<table class=\"dataframe\">\n",
       "<caption>A data.frame: 3 × 11</caption>\n",
       "<thead>\n",
       "\t<tr><th></th><th scope=col>user_id</th><th scope=col>age</th><th scope=col>house_type</th><th scope=col>resident</th><th scope=col>job</th><th scope=col>house_type2</th><th scope=col>식료품1</th><th scope=col>생필품(2)</th><th scope=col>의류(3)</th><th scope=col>잡화(4)</th><th scope=col>기타(5)</th></tr>\n",
       "\t<tr><th></th><th scope=col>&lt;int&gt;</th><th scope=col>&lt;int&gt;</th><th scope=col>&lt;int&gt;</th><th scope=col>&lt;chr&gt;</th><th scope=col>&lt;int&gt;</th><th scope=col>&lt;dbl&gt;</th><th scope=col>&lt;dbl&gt;</th><th scope=col>&lt;dbl&gt;</th><th scope=col>&lt;dbl&gt;</th><th scope=col>&lt;dbl&gt;</th><th scope=col>&lt;dbl&gt;</th></tr>\n",
       "</thead>\n",
       "<tbody>\n",
       "\t<tr><th scope=row>1</th><td>1001</td><td>35</td><td>4</td><td>전북</td><td>6</td><td>1</td><td>153000</td><td>     0</td><td>     0</td><td>     0</td><td>    0</td></tr>\n",
       "\t<tr><th scope=row>2</th><td>1002</td><td>45</td><td>4</td><td>경남</td><td>2</td><td>1</td><td>     0</td><td>120000</td><td>     0</td><td>     0</td><td>    0</td></tr>\n",
       "\t<tr><th scope=row>3</th><td>1003</td><td>55</td><td>4</td><td>경기</td><td>6</td><td>1</td><td>125000</td><td>     0</td><td>780000</td><td>123000</td><td>79000</td></tr>\n",
       "</tbody>\n",
       "</table>\n"
      ],
      "text/latex": [
       "A data.frame: 3 × 11\n",
       "\\begin{tabular}{r|lllllllllll}\n",
       "  & user\\_id & age & house\\_type & resident & job & house\\_type2 & 식료품1 & 생필품(2) & 의류(3) & 잡화(4) & 기타(5)\\\\\n",
       "  & <int> & <int> & <int> & <chr> & <int> & <dbl> & <dbl> & <dbl> & <dbl> & <dbl> & <dbl>\\\\\n",
       "\\hline\n",
       "\t1 & 1001 & 35 & 4 & 전북 & 6 & 1 & 153000 &      0 &      0 &      0 &     0\\\\\n",
       "\t2 & 1002 & 45 & 4 & 경남 & 2 & 1 &      0 & 120000 &      0 &      0 &     0\\\\\n",
       "\t3 & 1003 & 55 & 4 & 경기 & 6 & 1 & 125000 &      0 & 780000 & 123000 & 79000\\\\\n",
       "\\end{tabular}\n"
      ],
      "text/markdown": [
       "\n",
       "A data.frame: 3 × 11\n",
       "\n",
       "| <!--/--> | user_id &lt;int&gt; | age &lt;int&gt; | house_type &lt;int&gt; | resident &lt;chr&gt; | job &lt;int&gt; | house_type2 &lt;dbl&gt; | 식료품1 &lt;dbl&gt; | 생필품(2) &lt;dbl&gt; | 의류(3) &lt;dbl&gt; | 잡화(4) &lt;dbl&gt; | 기타(5) &lt;dbl&gt; |\n",
       "|---|---|---|---|---|---|---|---|---|---|---|---|\n",
       "| 1 | 1001 | 35 | 4 | 전북 | 6 | 1 | 153000 |      0 |      0 |      0 |     0 |\n",
       "| 2 | 1002 | 45 | 4 | 경남 | 2 | 1 |      0 | 120000 |      0 |      0 |     0 |\n",
       "| 3 | 1003 | 55 | 4 | 경기 | 6 | 1 | 125000 |      0 | 780000 | 123000 | 79000 |\n",
       "\n"
      ],
      "text/plain": [
       "  user_id age house_type resident job house_type2 식료품1 생필품(2) 의류(3)\n",
       "1 1001    35  4          전북     6   1           153000       0         0 \n",
       "2 1002    45  4          경남     2   1                0  120000         0 \n",
       "3 1003    55  4          경기     6   1           125000       0    780000 \n",
       "  잡화(4) 기타(5)\n",
       "1      0      0  \n",
       "2      0      0  \n",
       "3 123000  79000  "
      ]
     },
     "metadata": {},
     "output_type": "display_data"
    }
   ],
   "source": [
    "user_pay_data = join(user_data, product_price, by = 'user_id')\n",
    "head(user_pay_data,3)"
   ]
  },
  {
   "cell_type": "code",
   "execution_count": 72,
   "id": "aee78c83-9d41-4fcc-a1c7-ed6213cc9fd9",
   "metadata": {},
   "outputs": [
    {
     "data": {
      "text/html": [
       "<table class=\"dataframe\">\n",
       "<caption>A data.frame: 3 × 15</caption>\n",
       "<thead>\n",
       "\t<tr><th></th><th scope=col>user_id</th><th scope=col>age</th><th scope=col>house_type</th><th scope=col>resident</th><th scope=col>job</th><th scope=col>house_type2</th><th scope=col>식료품1</th><th scope=col>생필품(2)</th><th scope=col>의류(3)</th><th scope=col>잡화(4)</th><th scope=col>기타(5)</th><th scope=col>현금(1)</th><th scope=col>직불카드(2)</th><th scope=col>신용카드(3)</th><th scope=col>상품권(4)</th></tr>\n",
       "\t<tr><th></th><th scope=col>&lt;int&gt;</th><th scope=col>&lt;int&gt;</th><th scope=col>&lt;int&gt;</th><th scope=col>&lt;chr&gt;</th><th scope=col>&lt;int&gt;</th><th scope=col>&lt;dbl&gt;</th><th scope=col>&lt;dbl&gt;</th><th scope=col>&lt;dbl&gt;</th><th scope=col>&lt;dbl&gt;</th><th scope=col>&lt;dbl&gt;</th><th scope=col>&lt;dbl&gt;</th><th scope=col>&lt;int&gt;</th><th scope=col>&lt;int&gt;</th><th scope=col>&lt;int&gt;</th><th scope=col>&lt;int&gt;</th></tr>\n",
       "</thead>\n",
       "<tbody>\n",
       "\t<tr><th scope=row>1</th><td>1001</td><td>35</td><td>4</td><td>전북</td><td>6</td><td>1</td><td>153000</td><td>     0</td><td>     0</td><td>     0</td><td>    0</td><td>1</td><td>0</td><td>0</td><td>0</td></tr>\n",
       "\t<tr><th scope=row>2</th><td>1002</td><td>45</td><td>4</td><td>경남</td><td>2</td><td>1</td><td>     0</td><td>120000</td><td>     0</td><td>     0</td><td>    0</td><td>0</td><td>1</td><td>0</td><td>0</td></tr>\n",
       "\t<tr><th scope=row>3</th><td>1003</td><td>55</td><td>4</td><td>경기</td><td>6</td><td>1</td><td>125000</td><td>     0</td><td>780000</td><td>123000</td><td>79000</td><td>0</td><td>0</td><td>4</td><td>0</td></tr>\n",
       "</tbody>\n",
       "</table>\n"
      ],
      "text/latex": [
       "A data.frame: 3 × 15\n",
       "\\begin{tabular}{r|lllllllllllllll}\n",
       "  & user\\_id & age & house\\_type & resident & job & house\\_type2 & 식료품1 & 생필품(2) & 의류(3) & 잡화(4) & 기타(5) & 현금(1) & 직불카드(2) & 신용카드(3) & 상품권(4)\\\\\n",
       "  & <int> & <int> & <int> & <chr> & <int> & <dbl> & <dbl> & <dbl> & <dbl> & <dbl> & <dbl> & <int> & <int> & <int> & <int>\\\\\n",
       "\\hline\n",
       "\t1 & 1001 & 35 & 4 & 전북 & 6 & 1 & 153000 &      0 &      0 &      0 &     0 & 1 & 0 & 0 & 0\\\\\n",
       "\t2 & 1002 & 45 & 4 & 경남 & 2 & 1 &      0 & 120000 &      0 &      0 &     0 & 0 & 1 & 0 & 0\\\\\n",
       "\t3 & 1003 & 55 & 4 & 경기 & 6 & 1 & 125000 &      0 & 780000 & 123000 & 79000 & 0 & 0 & 4 & 0\\\\\n",
       "\\end{tabular}\n"
      ],
      "text/markdown": [
       "\n",
       "A data.frame: 3 × 15\n",
       "\n",
       "| <!--/--> | user_id &lt;int&gt; | age &lt;int&gt; | house_type &lt;int&gt; | resident &lt;chr&gt; | job &lt;int&gt; | house_type2 &lt;dbl&gt; | 식료품1 &lt;dbl&gt; | 생필품(2) &lt;dbl&gt; | 의류(3) &lt;dbl&gt; | 잡화(4) &lt;dbl&gt; | 기타(5) &lt;dbl&gt; | 현금(1) &lt;int&gt; | 직불카드(2) &lt;int&gt; | 신용카드(3) &lt;int&gt; | 상품권(4) &lt;int&gt; |\n",
       "|---|---|---|---|---|---|---|---|---|---|---|---|---|---|---|---|\n",
       "| 1 | 1001 | 35 | 4 | 전북 | 6 | 1 | 153000 |      0 |      0 |      0 |     0 | 1 | 0 | 0 | 0 |\n",
       "| 2 | 1002 | 45 | 4 | 경남 | 2 | 1 |      0 | 120000 |      0 |      0 |     0 | 0 | 1 | 0 | 0 |\n",
       "| 3 | 1003 | 55 | 4 | 경기 | 6 | 1 | 125000 |      0 | 780000 | 123000 | 79000 | 0 | 0 | 4 | 0 |\n",
       "\n"
      ],
      "text/plain": [
       "  user_id age house_type resident job house_type2 식료품1 생필품(2) 의류(3)\n",
       "1 1001    35  4          전북     6   1           153000       0         0 \n",
       "2 1002    45  4          경남     2   1                0  120000         0 \n",
       "3 1003    55  4          경기     6   1           125000       0    780000 \n",
       "  잡화(4) 기타(5) 현금(1) 직불카드(2) 신용카드(3) 상품권(4)\n",
       "1      0      0   1       0           0           0        \n",
       "2      0      0   0       1           0           0        \n",
       "3 123000  79000   0       0           4           0        "
      ]
     },
     "metadata": {},
     "output_type": "display_data"
    }
   ],
   "source": [
    "user_pay_data = join(user_pay_data, pay_price, by = 'user_id')\n",
    "head(user_pay_data ,3)"
   ]
  },
  {
   "cell_type": "markdown",
   "id": "b673e4bf-8589-4349-86bd-f2f3d6cd2fa1",
   "metadata": {},
   "source": [
    "- 사칙연산으로 총 구매금액 파생변수 생성하기"
   ]
  },
  {
   "cell_type": "code",
   "execution_count": 78,
   "id": "9c7d2d90-5c8b-4fe7-af55-11fbcf1da2bc",
   "metadata": {},
   "outputs": [],
   "source": [
    "user_pay_data$총구매금액 = user_pay_data$'식료품1' + user_pay_data$'생필품(2)' + user_pay_data$'의류(3)' + user_pay_data$'잡화(4)' + user_pay_data$'기타(5)'"
   ]
  },
  {
   "cell_type": "code",
   "execution_count": 79,
   "id": "6bec0123-0316-44c8-b720-31567cb39107",
   "metadata": {},
   "outputs": [
    {
     "data": {
      "text/html": [
       "<table class=\"dataframe\">\n",
       "<caption>A data.frame: 10 × 7</caption>\n",
       "<thead>\n",
       "\t<tr><th></th><th scope=col>user_id</th><th scope=col>식료품1</th><th scope=col>생필품(2)</th><th scope=col>의류(3)</th><th scope=col>잡화(4)</th><th scope=col>기타(5)</th><th scope=col>총구매금액</th></tr>\n",
       "\t<tr><th></th><th scope=col>&lt;int&gt;</th><th scope=col>&lt;dbl&gt;</th><th scope=col>&lt;dbl&gt;</th><th scope=col>&lt;dbl&gt;</th><th scope=col>&lt;dbl&gt;</th><th scope=col>&lt;dbl&gt;</th><th scope=col>&lt;dbl&gt;</th></tr>\n",
       "</thead>\n",
       "<tbody>\n",
       "\t<tr><th scope=row>1</th><td>1001</td><td>153000</td><td>     0</td><td>     0</td><td>     0</td><td>    0</td><td> 153000</td></tr>\n",
       "\t<tr><th scope=row>2</th><td>1002</td><td>     0</td><td>120000</td><td>     0</td><td>     0</td><td>    0</td><td> 120000</td></tr>\n",
       "\t<tr><th scope=row>3</th><td>1003</td><td>125000</td><td>     0</td><td>780000</td><td>123000</td><td>79000</td><td>1107000</td></tr>\n",
       "\t<tr><th scope=row>4</th><td>1004</td><td>    NA</td><td>    NA</td><td>    NA</td><td>    NA</td><td>   NA</td><td>     NA</td></tr>\n",
       "\t<tr><th scope=row>5</th><td>1005</td><td>    NA</td><td>    NA</td><td>    NA</td><td>    NA</td><td>   NA</td><td>     NA</td></tr>\n",
       "\t<tr><th scope=row>6</th><td>1006</td><td>    NA</td><td>    NA</td><td>    NA</td><td>    NA</td><td>   NA</td><td>     NA</td></tr>\n",
       "\t<tr><th scope=row>7</th><td>1007</td><td>     0</td><td>150000</td><td> 78879</td><td> 81980</td><td>71773</td><td> 382632</td></tr>\n",
       "\t<tr><th scope=row>8</th><td>1008</td><td>    NA</td><td>    NA</td><td>    NA</td><td>    NA</td><td>   NA</td><td>     NA</td></tr>\n",
       "\t<tr><th scope=row>9</th><td>1009</td><td>    NA</td><td>    NA</td><td>    NA</td><td>    NA</td><td>   NA</td><td>     NA</td></tr>\n",
       "\t<tr><th scope=row>10</th><td>1010</td><td>    NA</td><td>    NA</td><td>    NA</td><td>    NA</td><td>   NA</td><td>     NA</td></tr>\n",
       "</tbody>\n",
       "</table>\n"
      ],
      "text/latex": [
       "A data.frame: 10 × 7\n",
       "\\begin{tabular}{r|lllllll}\n",
       "  & user\\_id & 식료품1 & 생필품(2) & 의류(3) & 잡화(4) & 기타(5) & 총구매금액\\\\\n",
       "  & <int> & <dbl> & <dbl> & <dbl> & <dbl> & <dbl> & <dbl>\\\\\n",
       "\\hline\n",
       "\t1 & 1001 & 153000 &      0 &      0 &      0 &     0 &  153000\\\\\n",
       "\t2 & 1002 &      0 & 120000 &      0 &      0 &     0 &  120000\\\\\n",
       "\t3 & 1003 & 125000 &      0 & 780000 & 123000 & 79000 & 1107000\\\\\n",
       "\t4 & 1004 &     NA &     NA &     NA &     NA &    NA &      NA\\\\\n",
       "\t5 & 1005 &     NA &     NA &     NA &     NA &    NA &      NA\\\\\n",
       "\t6 & 1006 &     NA &     NA &     NA &     NA &    NA &      NA\\\\\n",
       "\t7 & 1007 &      0 & 150000 &  78879 &  81980 & 71773 &  382632\\\\\n",
       "\t8 & 1008 &     NA &     NA &     NA &     NA &    NA &      NA\\\\\n",
       "\t9 & 1009 &     NA &     NA &     NA &     NA &    NA &      NA\\\\\n",
       "\t10 & 1010 &     NA &     NA &     NA &     NA &    NA &      NA\\\\\n",
       "\\end{tabular}\n"
      ],
      "text/markdown": [
       "\n",
       "A data.frame: 10 × 7\n",
       "\n",
       "| <!--/--> | user_id &lt;int&gt; | 식료품1 &lt;dbl&gt; | 생필품(2) &lt;dbl&gt; | 의류(3) &lt;dbl&gt; | 잡화(4) &lt;dbl&gt; | 기타(5) &lt;dbl&gt; | 총구매금액 &lt;dbl&gt; |\n",
       "|---|---|---|---|---|---|---|---|\n",
       "| 1 | 1001 | 153000 |      0 |      0 |      0 |     0 |  153000 |\n",
       "| 2 | 1002 |      0 | 120000 |      0 |      0 |     0 |  120000 |\n",
       "| 3 | 1003 | 125000 |      0 | 780000 | 123000 | 79000 | 1107000 |\n",
       "| 4 | 1004 |     NA |     NA |     NA |     NA |    NA |      NA |\n",
       "| 5 | 1005 |     NA |     NA |     NA |     NA |    NA |      NA |\n",
       "| 6 | 1006 |     NA |     NA |     NA |     NA |    NA |      NA |\n",
       "| 7 | 1007 |      0 | 150000 |  78879 |  81980 | 71773 |  382632 |\n",
       "| 8 | 1008 |     NA |     NA |     NA |     NA |    NA |      NA |\n",
       "| 9 | 1009 |     NA |     NA |     NA |     NA |    NA |      NA |\n",
       "| 10 | 1010 |     NA |     NA |     NA |     NA |    NA |      NA |\n",
       "\n"
      ],
      "text/plain": [
       "   user_id 식료품1 생필품(2) 의류(3) 잡화(4) 기타(5) 총구매금액\n",
       "1  1001    153000       0         0       0      0    153000   \n",
       "2  1002         0  120000         0       0      0    120000   \n",
       "3  1003    125000       0    780000  123000  79000   1107000   \n",
       "4  1004        NA      NA        NA      NA     NA        NA   \n",
       "5  1005        NA      NA        NA      NA     NA        NA   \n",
       "6  1006        NA      NA        NA      NA     NA        NA   \n",
       "7  1007         0  150000     78879   81980  71773    382632   \n",
       "8  1008        NA      NA        NA      NA     NA        NA   \n",
       "9  1009        NA      NA        NA      NA     NA        NA   \n",
       "10 1010        NA      NA        NA      NA     NA        NA   "
      ]
     },
     "metadata": {},
     "output_type": "display_data"
    }
   ],
   "source": [
    "user_pay_data[c(1:10),c(1,7:11,16)]"
   ]
  },
  {
   "cell_type": "markdown",
   "id": "24bb6802-b209-4f3d-b9a9-160c3f96feca",
   "metadata": {},
   "source": [
    "- 표본 추출\n",
    "  - 정제된 데이터를 저장하고, 표본으로 사용할 데이터를 추출하는 샘플링에 대해 알아보자"
   ]
  },
  {
   "cell_type": "markdown",
   "id": "e6b9b09b-9989-41b7-8b6c-76eb170f5435",
   "metadata": {},
   "source": [
    "- 정제 데이터 저장"
   ]
  },
  {
   "cell_type": "code",
   "execution_count": 81,
   "id": "79144377-9145-445c-ae3a-d55000d00a5a",
   "metadata": {},
   "outputs": [
    {
     "data": {
      "text/html": [
       "'C:/Users/ehfus/Downloads/R'"
      ],
      "text/latex": [
       "'C:/Users/ehfus/Downloads/R'"
      ],
      "text/markdown": [
       "'C:/Users/ehfus/Downloads/R'"
      ],
      "text/plain": [
       "[1] \"C:/Users/ehfus/Downloads/R\""
      ]
     },
     "metadata": {},
     "output_type": "display_data"
    }
   ],
   "source": [
    "getwd()"
   ]
  },
  {
   "cell_type": "code",
   "execution_count": 84,
   "id": "8f1ea21c-5902-46f2-a29b-b44cdce060e0",
   "metadata": {},
   "outputs": [],
   "source": [
    "write.csv(user_pay_data,'cleanedData.csv',quote=F,row.names=F)\n",
    "# 따옴표와 행이름 제거하고 저장하자"
   ]
  },
  {
   "cell_type": "code",
   "execution_count": 83,
   "id": "7d5d4e7b-5c40-4303-9ffe-454905ccf259",
   "metadata": {},
   "outputs": [
    {
     "data": {
      "text/html": [
       "<table class=\"dataframe\">\n",
       "<caption>A data.frame: 400 × 16</caption>\n",
       "<thead>\n",
       "\t<tr><th scope=col>user_id</th><th scope=col>age</th><th scope=col>house_type</th><th scope=col>resident</th><th scope=col>job</th><th scope=col>house_type2</th><th scope=col>식료품1</th><th scope=col>생필품.2.</th><th scope=col>의류.3.</th><th scope=col>잡화.4.</th><th scope=col>기타.5.</th><th scope=col>현금.1.</th><th scope=col>직불카드.2.</th><th scope=col>신용카드.3.</th><th scope=col>상품권.4.</th><th scope=col>총구매금액</th></tr>\n",
       "\t<tr><th scope=col>&lt;int&gt;</th><th scope=col>&lt;int&gt;</th><th scope=col>&lt;int&gt;</th><th scope=col>&lt;chr&gt;</th><th scope=col>&lt;int&gt;</th><th scope=col>&lt;int&gt;</th><th scope=col>&lt;int&gt;</th><th scope=col>&lt;int&gt;</th><th scope=col>&lt;int&gt;</th><th scope=col>&lt;int&gt;</th><th scope=col>&lt;int&gt;</th><th scope=col>&lt;int&gt;</th><th scope=col>&lt;int&gt;</th><th scope=col>&lt;int&gt;</th><th scope=col>&lt;int&gt;</th><th scope=col>&lt;int&gt;</th></tr>\n",
       "</thead>\n",
       "<tbody>\n",
       "\t<tr><td>1001</td><td>35</td><td>4</td><td>전북</td><td>6</td><td>1</td><td>153000</td><td>     0</td><td>     0</td><td>     0</td><td>    0</td><td> 1</td><td> 0</td><td> 0</td><td> 0</td><td> 153000</td></tr>\n",
       "\t<tr><td>1002</td><td>45</td><td>4</td><td>경남</td><td>2</td><td>1</td><td>     0</td><td>120000</td><td>     0</td><td>     0</td><td>    0</td><td> 0</td><td> 1</td><td> 0</td><td> 0</td><td> 120000</td></tr>\n",
       "\t<tr><td>1003</td><td>55</td><td>4</td><td>경기</td><td>6</td><td>1</td><td>125000</td><td>     0</td><td>780000</td><td>123000</td><td>79000</td><td> 0</td><td> 0</td><td> 4</td><td> 0</td><td>1107000</td></tr>\n",
       "\t<tr><td>1004</td><td>43</td><td>3</td><td>대전</td><td>1</td><td>1</td><td>    NA</td><td>    NA</td><td>    NA</td><td>    NA</td><td>   NA</td><td>NA</td><td>NA</td><td>NA</td><td>NA</td><td>     NA</td></tr>\n",
       "\t<tr><td>1005</td><td>55</td><td>4</td><td>경기</td><td>2</td><td>1</td><td>    NA</td><td>    NA</td><td>    NA</td><td>    NA</td><td>   NA</td><td>NA</td><td>NA</td><td>NA</td><td>NA</td><td>     NA</td></tr>\n",
       "\t<tr><td>1006</td><td>45</td><td>1</td><td>대구</td><td>1</td><td>0</td><td>    NA</td><td>    NA</td><td>    NA</td><td>    NA</td><td>   NA</td><td>NA</td><td>NA</td><td>NA</td><td>NA</td><td>     NA</td></tr>\n",
       "\t<tr><td>1007</td><td>39</td><td>4</td><td>경남</td><td>1</td><td>1</td><td>     0</td><td>150000</td><td> 78879</td><td> 81980</td><td>71773</td><td> 0</td><td> 4</td><td> 0</td><td> 0</td><td> 382632</td></tr>\n",
       "\t<tr><td>1008</td><td>55</td><td>2</td><td>경기</td><td>6</td><td>0</td><td>    NA</td><td>    NA</td><td>    NA</td><td>    NA</td><td>   NA</td><td>NA</td><td>NA</td><td>NA</td><td>NA</td><td>     NA</td></tr>\n",
       "\t<tr><td>1009</td><td>33</td><td>4</td><td>인천</td><td>3</td><td>1</td><td>    NA</td><td>    NA</td><td>    NA</td><td>    NA</td><td>   NA</td><td>NA</td><td>NA</td><td>NA</td><td>NA</td><td>     NA</td></tr>\n",
       "\t<tr><td>1010</td><td>55</td><td>3</td><td>서울</td><td>6</td><td>1</td><td>    NA</td><td>    NA</td><td>    NA</td><td>    NA</td><td>   NA</td><td>NA</td><td>NA</td><td>NA</td><td>NA</td><td>     NA</td></tr>\n",
       "\t<tr><td>1011</td><td>66</td><td>4</td><td>서울</td><td>2</td><td>1</td><td>     0</td><td> 71774</td><td>     0</td><td>     0</td><td>    0</td><td> 1</td><td> 0</td><td> 0</td><td> 0</td><td>  71774</td></tr>\n",
       "\t<tr><td>1012</td><td>55</td><td>4</td><td>서울</td><td>6</td><td>1</td><td>     0</td><td>     0</td><td> 74968</td><td>     0</td><td>    0</td><td> 0</td><td> 1</td><td> 0</td><td> 0</td><td>  74968</td></tr>\n",
       "\t<tr><td>1013</td><td>62</td><td>4</td><td>부산</td><td>6</td><td>1</td><td>     0</td><td>     0</td><td>     0</td><td> 81841</td><td>    0</td><td> 1</td><td> 0</td><td> 0</td><td> 0</td><td>  81841</td></tr>\n",
       "\t<tr><td>1014</td><td>35</td><td>4</td><td>경기</td><td>6</td><td>1</td><td>     0</td><td>     0</td><td>     0</td><td> 94782</td><td>83804</td><td> 0</td><td> 2</td><td> 0</td><td> 0</td><td> 178586</td></tr>\n",
       "\t<tr><td>1015</td><td>48</td><td>4</td><td>경기</td><td>2</td><td>1</td><td>    NA</td><td>    NA</td><td>    NA</td><td>    NA</td><td>   NA</td><td>NA</td><td>NA</td><td>NA</td><td>NA</td><td>     NA</td></tr>\n",
       "\t<tr><td>1016</td><td>55</td><td>2</td><td>대구</td><td>5</td><td>0</td><td>  5813</td><td>  6459</td><td>     0</td><td>     0</td><td>    0</td><td> 2</td><td> 0</td><td> 0</td><td> 0</td><td>  12272</td></tr>\n",
       "\t<tr><td>1017</td><td>60</td><td>2</td><td>서울</td><td>1</td><td>0</td><td>    NA</td><td>    NA</td><td>    NA</td><td>    NA</td><td>   NA</td><td>NA</td><td>NA</td><td>NA</td><td>NA</td><td>     NA</td></tr>\n",
       "\t<tr><td>1018</td><td>60</td><td>1</td><td>충북</td><td>1</td><td>0</td><td>     0</td><td>171136</td><td>236924</td><td>  4275</td><td>83410</td><td> 0</td><td> 0</td><td> 7</td><td> 0</td><td> 495745</td></tr>\n",
       "\t<tr><td>1019</td><td>50</td><td>4</td><td>대구</td><td>6</td><td>1</td><td>    NA</td><td>    NA</td><td>    NA</td><td>    NA</td><td>   NA</td><td>NA</td><td>NA</td><td>NA</td><td>NA</td><td>     NA</td></tr>\n",
       "\t<tr><td>1020</td><td>50</td><td>4</td><td>경기</td><td>2</td><td>1</td><td>    NA</td><td>    NA</td><td>    NA</td><td>    NA</td><td>   NA</td><td>NA</td><td>NA</td><td>NA</td><td>NA</td><td>     NA</td></tr>\n",
       "\t<tr><td>1021</td><td>50</td><td>4</td><td>부산</td><td>5</td><td>1</td><td>    NA</td><td>    NA</td><td>    NA</td><td>    NA</td><td>   NA</td><td>NA</td><td>NA</td><td>NA</td><td>NA</td><td>     NA</td></tr>\n",
       "\t<tr><td>1022</td><td>50</td><td>4</td><td>경남</td><td>6</td><td>1</td><td>    NA</td><td>    NA</td><td>    NA</td><td>    NA</td><td>   NA</td><td>NA</td><td>NA</td><td>NA</td><td>NA</td><td>     NA</td></tr>\n",
       "\t<tr><td>1023</td><td>50</td><td>2</td><td>경북</td><td>5</td><td>0</td><td>    NA</td><td>    NA</td><td>    NA</td><td>    NA</td><td>   NA</td><td>NA</td><td>NA</td><td>NA</td><td>NA</td><td>     NA</td></tr>\n",
       "\t<tr><td>1024</td><td>60</td><td>1</td><td>전북</td><td>6</td><td>0</td><td>    NA</td><td>    NA</td><td>    NA</td><td>    NA</td><td>   NA</td><td>NA</td><td>NA</td><td>NA</td><td>NA</td><td>     NA</td></tr>\n",
       "\t<tr><td>1025</td><td>60</td><td>2</td><td>서울</td><td>6</td><td>0</td><td> 67067</td><td> 68996</td><td> 86768</td><td> 88246</td><td>70757</td><td> 5</td><td> 0</td><td> 0</td><td> 0</td><td> 381834</td></tr>\n",
       "\t<tr><td>1026</td><td>60</td><td>4</td><td>인천</td><td>6</td><td>1</td><td>    NA</td><td>    NA</td><td>    NA</td><td>    NA</td><td>   NA</td><td>NA</td><td>NA</td><td>NA</td><td>NA</td><td>     NA</td></tr>\n",
       "\t<tr><td>1027</td><td>60</td><td>4</td><td>경기</td><td>6</td><td>1</td><td>    NA</td><td>    NA</td><td>    NA</td><td>    NA</td><td>   NA</td><td>NA</td><td>NA</td><td>NA</td><td>NA</td><td>     NA</td></tr>\n",
       "\t<tr><td>1028</td><td>59</td><td>4</td><td>서울</td><td>1</td><td>1</td><td>    NA</td><td>    NA</td><td>    NA</td><td>    NA</td><td>   NA</td><td>NA</td><td>NA</td><td>NA</td><td>NA</td><td>     NA</td></tr>\n",
       "\t<tr><td>1029</td><td>59</td><td>1</td><td>충북</td><td>2</td><td>0</td><td>    NA</td><td>    NA</td><td>    NA</td><td>    NA</td><td>   NA</td><td>NA</td><td>NA</td><td>NA</td><td>NA</td><td>     NA</td></tr>\n",
       "\t<tr><td>1030</td><td>59</td><td>4</td><td>경남</td><td>2</td><td>1</td><td>     0</td><td> 78758</td><td>     0</td><td>   290</td><td>  290</td><td> 0</td><td> 0</td><td> 3</td><td> 0</td><td>  79338</td></tr>\n",
       "\t<tr><td>⋮</td><td>⋮</td><td>⋮</td><td>⋮</td><td>⋮</td><td>⋮</td><td>⋮</td><td>⋮</td><td>⋮</td><td>⋮</td><td>⋮</td><td>⋮</td><td>⋮</td><td>⋮</td><td>⋮</td><td>⋮</td></tr>\n",
       "\t<tr><td>1371</td><td>47</td><td>2</td><td>경기</td><td>5</td><td>0</td><td>    0</td><td>    0</td><td> 10937</td><td>     0</td><td>    0</td><td> 0</td><td> 0</td><td> 1</td><td> 0</td><td> 10937</td></tr>\n",
       "\t<tr><td>1372</td><td>47</td><td>4</td><td>부산</td><td>6</td><td>1</td><td>    0</td><td>10937</td><td>     0</td><td>     0</td><td>    0</td><td> 0</td><td> 0</td><td> 1</td><td> 0</td><td> 10937</td></tr>\n",
       "\t<tr><td>1373</td><td>47</td><td>2</td><td>서울</td><td>2</td><td>0</td><td>    0</td><td>    0</td><td> 96691</td><td>     0</td><td>    0</td><td> 0</td><td> 0</td><td> 1</td><td> 0</td><td> 96691</td></tr>\n",
       "\t<tr><td>1374</td><td>47</td><td>4</td><td>경북</td><td>6</td><td>1</td><td>    0</td><td>    0</td><td>     0</td><td> 96691</td><td>    0</td><td> 0</td><td> 0</td><td> 1</td><td> 0</td><td> 96691</td></tr>\n",
       "\t<tr><td>1375</td><td>47</td><td>4</td><td>서울</td><td>2</td><td>1</td><td>    0</td><td>    0</td><td>     0</td><td>     0</td><td>16309</td><td> 1</td><td> 0</td><td> 0</td><td> 0</td><td> 16309</td></tr>\n",
       "\t<tr><td>1376</td><td>47</td><td>2</td><td>경기</td><td>3</td><td>0</td><td> 2971</td><td>77371</td><td>     0</td><td>     0</td><td>    0</td><td> 2</td><td> 0</td><td> 0</td><td> 0</td><td> 80342</td></tr>\n",
       "\t<tr><td>1377</td><td>47</td><td>4</td><td>충북</td><td>3</td><td>1</td><td>   NA</td><td>   NA</td><td>    NA</td><td>    NA</td><td>   NA</td><td>NA</td><td>NA</td><td>NA</td><td>NA</td><td>    NA</td></tr>\n",
       "\t<tr><td>1378</td><td>47</td><td>4</td><td>경기</td><td>2</td><td>1</td><td>    0</td><td>    0</td><td> 12289</td><td>  2781</td><td>87731</td><td> 0</td><td> 0</td><td> 3</td><td> 0</td><td>102801</td></tr>\n",
       "\t<tr><td>1379</td><td>47</td><td>4</td><td>경기</td><td>3</td><td>1</td><td>   NA</td><td>   NA</td><td>    NA</td><td>    NA</td><td>   NA</td><td>NA</td><td>NA</td><td>NA</td><td>NA</td><td>    NA</td></tr>\n",
       "\t<tr><td>1380</td><td>47</td><td>4</td><td>광주</td><td>4</td><td>1</td><td>   NA</td><td>   NA</td><td>    NA</td><td>    NA</td><td>   NA</td><td>NA</td><td>NA</td><td>NA</td><td>NA</td><td>    NA</td></tr>\n",
       "\t<tr><td>1381</td><td>47</td><td>4</td><td>광주</td><td>4</td><td>1</td><td>    0</td><td> 3896</td><td>     0</td><td>     0</td><td>    0</td><td> 1</td><td> 0</td><td> 0</td><td> 0</td><td>  3896</td></tr>\n",
       "\t<tr><td>1382</td><td>47</td><td>4</td><td>경남</td><td>1</td><td>1</td><td>    0</td><td>    0</td><td>  6933</td><td> 14131</td><td>    0</td><td> 0</td><td> 0</td><td> 2</td><td> 0</td><td> 21064</td></tr>\n",
       "\t<tr><td>1383</td><td>47</td><td>4</td><td>경기</td><td>1</td><td>1</td><td>   NA</td><td>   NA</td><td>    NA</td><td>    NA</td><td>   NA</td><td>NA</td><td>NA</td><td>NA</td><td>NA</td><td>    NA</td></tr>\n",
       "\t<tr><td>1384</td><td>47</td><td>2</td><td>서울</td><td>1</td><td>0</td><td>96071</td><td>96071</td><td>     0</td><td> 89455</td><td>89455</td><td> 4</td><td> 0</td><td> 0</td><td> 0</td><td>371052</td></tr>\n",
       "\t<tr><td>1385</td><td>47</td><td>4</td><td>경기</td><td>2</td><td>1</td><td>   NA</td><td>   NA</td><td>    NA</td><td>    NA</td><td>   NA</td><td>NA</td><td>NA</td><td>NA</td><td>NA</td><td>    NA</td></tr>\n",
       "\t<tr><td>1386</td><td>47</td><td>4</td><td>경기</td><td>2</td><td>1</td><td>   NA</td><td>   NA</td><td>    NA</td><td>    NA</td><td>   NA</td><td>NA</td><td>NA</td><td>NA</td><td>NA</td><td>    NA</td></tr>\n",
       "\t<tr><td>1387</td><td>47</td><td>4</td><td>서울</td><td>2</td><td>1</td><td>   NA</td><td>   NA</td><td>    NA</td><td>    NA</td><td>   NA</td><td>NA</td><td>NA</td><td>NA</td><td>NA</td><td>    NA</td></tr>\n",
       "\t<tr><td>1388</td><td>47</td><td>4</td><td>서울</td><td>6</td><td>1</td><td>99530</td><td>    0</td><td> 99530</td><td> 99530</td><td>    0</td><td> 3</td><td> 0</td><td> 0</td><td> 0</td><td>298590</td></tr>\n",
       "\t<tr><td>1389</td><td>47</td><td>4</td><td>부산</td><td>2</td><td>1</td><td>   NA</td><td>   NA</td><td>    NA</td><td>    NA</td><td>   NA</td><td>NA</td><td>NA</td><td>NA</td><td>NA</td><td>    NA</td></tr>\n",
       "\t<tr><td>1390</td><td>47</td><td>4</td><td>경기</td><td>6</td><td>1</td><td>   NA</td><td>   NA</td><td>    NA</td><td>    NA</td><td>   NA</td><td>NA</td><td>NA</td><td>NA</td><td>NA</td><td>    NA</td></tr>\n",
       "\t<tr><td>1391</td><td>47</td><td>4</td><td>인천</td><td>2</td><td>1</td><td>    0</td><td>    0</td><td>     0</td><td>     0</td><td>70099</td><td> 0</td><td> 0</td><td> 1</td><td> 0</td><td> 70099</td></tr>\n",
       "\t<tr><td>1392</td><td>47</td><td>4</td><td>서울</td><td>5</td><td>1</td><td>    0</td><td>    0</td><td>     0</td><td> 82179</td><td>    0</td><td> 0</td><td> 0</td><td> 1</td><td> 0</td><td> 82179</td></tr>\n",
       "\t<tr><td>1393</td><td>47</td><td>4</td><td>경남</td><td>6</td><td>1</td><td>    0</td><td>    0</td><td>     0</td><td>     0</td><td>73369</td><td> 1</td><td> 0</td><td> 0</td><td> 0</td><td> 73369</td></tr>\n",
       "\t<tr><td>1394</td><td>47</td><td>4</td><td>서울</td><td>4</td><td>1</td><td>87900</td><td>    0</td><td>     0</td><td>     0</td><td>    0</td><td> 0</td><td> 0</td><td> 1</td><td> 0</td><td> 87900</td></tr>\n",
       "\t<tr><td>1395</td><td>47</td><td>4</td><td>강원</td><td>2</td><td>1</td><td>    0</td><td>14392</td><td> 69235</td><td> 86474</td><td>    0</td><td> 3</td><td> 0</td><td> 0</td><td> 0</td><td>170101</td></tr>\n",
       "\t<tr><td>1396</td><td>47</td><td>4</td><td>충남</td><td>6</td><td>1</td><td>   NA</td><td>   NA</td><td>    NA</td><td>    NA</td><td>   NA</td><td>NA</td><td>NA</td><td>NA</td><td>NA</td><td>    NA</td></tr>\n",
       "\t<tr><td>1397</td><td>47</td><td>4</td><td>서울</td><td>4</td><td>1</td><td>   NA</td><td>   NA</td><td>    NA</td><td>    NA</td><td>   NA</td><td>NA</td><td>NA</td><td>NA</td><td>NA</td><td>    NA</td></tr>\n",
       "\t<tr><td>1398</td><td>47</td><td>2</td><td>경기</td><td>2</td><td>0</td><td>68672</td><td>    0</td><td>101700</td><td>150000</td><td>    0</td><td> 0</td><td> 0</td><td> 3</td><td> 0</td><td>320372</td></tr>\n",
       "\t<tr><td>1399</td><td>47</td><td>4</td><td>전남</td><td>2</td><td>1</td><td>   NA</td><td>   NA</td><td>    NA</td><td>    NA</td><td>   NA</td><td>NA</td><td>NA</td><td>NA</td><td>NA</td><td>    NA</td></tr>\n",
       "\t<tr><td>1400</td><td>46</td><td>4</td><td>인천</td><td>5</td><td>1</td><td>   NA</td><td>   NA</td><td>    NA</td><td>    NA</td><td>   NA</td><td>NA</td><td>NA</td><td>NA</td><td>NA</td><td>    NA</td></tr>\n",
       "</tbody>\n",
       "</table>\n"
      ],
      "text/latex": [
       "A data.frame: 400 × 16\n",
       "\\begin{tabular}{llllllllllllllll}\n",
       " user\\_id & age & house\\_type & resident & job & house\\_type2 & 식료품1 & 생필품.2. & 의류.3. & 잡화.4. & 기타.5. & 현금.1. & 직불카드.2. & 신용카드.3. & 상품권.4. & 총구매금액\\\\\n",
       " <int> & <int> & <int> & <chr> & <int> & <int> & <int> & <int> & <int> & <int> & <int> & <int> & <int> & <int> & <int> & <int>\\\\\n",
       "\\hline\n",
       "\t 1001 & 35 & 4 & 전북 & 6 & 1 & 153000 &      0 &      0 &      0 &     0 &  1 &  0 &  0 &  0 &  153000\\\\\n",
       "\t 1002 & 45 & 4 & 경남 & 2 & 1 &      0 & 120000 &      0 &      0 &     0 &  0 &  1 &  0 &  0 &  120000\\\\\n",
       "\t 1003 & 55 & 4 & 경기 & 6 & 1 & 125000 &      0 & 780000 & 123000 & 79000 &  0 &  0 &  4 &  0 & 1107000\\\\\n",
       "\t 1004 & 43 & 3 & 대전 & 1 & 1 &     NA &     NA &     NA &     NA &    NA & NA & NA & NA & NA &      NA\\\\\n",
       "\t 1005 & 55 & 4 & 경기 & 2 & 1 &     NA &     NA &     NA &     NA &    NA & NA & NA & NA & NA &      NA\\\\\n",
       "\t 1006 & 45 & 1 & 대구 & 1 & 0 &     NA &     NA &     NA &     NA &    NA & NA & NA & NA & NA &      NA\\\\\n",
       "\t 1007 & 39 & 4 & 경남 & 1 & 1 &      0 & 150000 &  78879 &  81980 & 71773 &  0 &  4 &  0 &  0 &  382632\\\\\n",
       "\t 1008 & 55 & 2 & 경기 & 6 & 0 &     NA &     NA &     NA &     NA &    NA & NA & NA & NA & NA &      NA\\\\\n",
       "\t 1009 & 33 & 4 & 인천 & 3 & 1 &     NA &     NA &     NA &     NA &    NA & NA & NA & NA & NA &      NA\\\\\n",
       "\t 1010 & 55 & 3 & 서울 & 6 & 1 &     NA &     NA &     NA &     NA &    NA & NA & NA & NA & NA &      NA\\\\\n",
       "\t 1011 & 66 & 4 & 서울 & 2 & 1 &      0 &  71774 &      0 &      0 &     0 &  1 &  0 &  0 &  0 &   71774\\\\\n",
       "\t 1012 & 55 & 4 & 서울 & 6 & 1 &      0 &      0 &  74968 &      0 &     0 &  0 &  1 &  0 &  0 &   74968\\\\\n",
       "\t 1013 & 62 & 4 & 부산 & 6 & 1 &      0 &      0 &      0 &  81841 &     0 &  1 &  0 &  0 &  0 &   81841\\\\\n",
       "\t 1014 & 35 & 4 & 경기 & 6 & 1 &      0 &      0 &      0 &  94782 & 83804 &  0 &  2 &  0 &  0 &  178586\\\\\n",
       "\t 1015 & 48 & 4 & 경기 & 2 & 1 &     NA &     NA &     NA &     NA &    NA & NA & NA & NA & NA &      NA\\\\\n",
       "\t 1016 & 55 & 2 & 대구 & 5 & 0 &   5813 &   6459 &      0 &      0 &     0 &  2 &  0 &  0 &  0 &   12272\\\\\n",
       "\t 1017 & 60 & 2 & 서울 & 1 & 0 &     NA &     NA &     NA &     NA &    NA & NA & NA & NA & NA &      NA\\\\\n",
       "\t 1018 & 60 & 1 & 충북 & 1 & 0 &      0 & 171136 & 236924 &   4275 & 83410 &  0 &  0 &  7 &  0 &  495745\\\\\n",
       "\t 1019 & 50 & 4 & 대구 & 6 & 1 &     NA &     NA &     NA &     NA &    NA & NA & NA & NA & NA &      NA\\\\\n",
       "\t 1020 & 50 & 4 & 경기 & 2 & 1 &     NA &     NA &     NA &     NA &    NA & NA & NA & NA & NA &      NA\\\\\n",
       "\t 1021 & 50 & 4 & 부산 & 5 & 1 &     NA &     NA &     NA &     NA &    NA & NA & NA & NA & NA &      NA\\\\\n",
       "\t 1022 & 50 & 4 & 경남 & 6 & 1 &     NA &     NA &     NA &     NA &    NA & NA & NA & NA & NA &      NA\\\\\n",
       "\t 1023 & 50 & 2 & 경북 & 5 & 0 &     NA &     NA &     NA &     NA &    NA & NA & NA & NA & NA &      NA\\\\\n",
       "\t 1024 & 60 & 1 & 전북 & 6 & 0 &     NA &     NA &     NA &     NA &    NA & NA & NA & NA & NA &      NA\\\\\n",
       "\t 1025 & 60 & 2 & 서울 & 6 & 0 &  67067 &  68996 &  86768 &  88246 & 70757 &  5 &  0 &  0 &  0 &  381834\\\\\n",
       "\t 1026 & 60 & 4 & 인천 & 6 & 1 &     NA &     NA &     NA &     NA &    NA & NA & NA & NA & NA &      NA\\\\\n",
       "\t 1027 & 60 & 4 & 경기 & 6 & 1 &     NA &     NA &     NA &     NA &    NA & NA & NA & NA & NA &      NA\\\\\n",
       "\t 1028 & 59 & 4 & 서울 & 1 & 1 &     NA &     NA &     NA &     NA &    NA & NA & NA & NA & NA &      NA\\\\\n",
       "\t 1029 & 59 & 1 & 충북 & 2 & 0 &     NA &     NA &     NA &     NA &    NA & NA & NA & NA & NA &      NA\\\\\n",
       "\t 1030 & 59 & 4 & 경남 & 2 & 1 &      0 &  78758 &      0 &    290 &   290 &  0 &  0 &  3 &  0 &   79338\\\\\n",
       "\t ⋮ & ⋮ & ⋮ & ⋮ & ⋮ & ⋮ & ⋮ & ⋮ & ⋮ & ⋮ & ⋮ & ⋮ & ⋮ & ⋮ & ⋮ & ⋮\\\\\n",
       "\t 1371 & 47 & 2 & 경기 & 5 & 0 &     0 &     0 &  10937 &      0 &     0 &  0 &  0 &  1 &  0 &  10937\\\\\n",
       "\t 1372 & 47 & 4 & 부산 & 6 & 1 &     0 & 10937 &      0 &      0 &     0 &  0 &  0 &  1 &  0 &  10937\\\\\n",
       "\t 1373 & 47 & 2 & 서울 & 2 & 0 &     0 &     0 &  96691 &      0 &     0 &  0 &  0 &  1 &  0 &  96691\\\\\n",
       "\t 1374 & 47 & 4 & 경북 & 6 & 1 &     0 &     0 &      0 &  96691 &     0 &  0 &  0 &  1 &  0 &  96691\\\\\n",
       "\t 1375 & 47 & 4 & 서울 & 2 & 1 &     0 &     0 &      0 &      0 & 16309 &  1 &  0 &  0 &  0 &  16309\\\\\n",
       "\t 1376 & 47 & 2 & 경기 & 3 & 0 &  2971 & 77371 &      0 &      0 &     0 &  2 &  0 &  0 &  0 &  80342\\\\\n",
       "\t 1377 & 47 & 4 & 충북 & 3 & 1 &    NA &    NA &     NA &     NA &    NA & NA & NA & NA & NA &     NA\\\\\n",
       "\t 1378 & 47 & 4 & 경기 & 2 & 1 &     0 &     0 &  12289 &   2781 & 87731 &  0 &  0 &  3 &  0 & 102801\\\\\n",
       "\t 1379 & 47 & 4 & 경기 & 3 & 1 &    NA &    NA &     NA &     NA &    NA & NA & NA & NA & NA &     NA\\\\\n",
       "\t 1380 & 47 & 4 & 광주 & 4 & 1 &    NA &    NA &     NA &     NA &    NA & NA & NA & NA & NA &     NA\\\\\n",
       "\t 1381 & 47 & 4 & 광주 & 4 & 1 &     0 &  3896 &      0 &      0 &     0 &  1 &  0 &  0 &  0 &   3896\\\\\n",
       "\t 1382 & 47 & 4 & 경남 & 1 & 1 &     0 &     0 &   6933 &  14131 &     0 &  0 &  0 &  2 &  0 &  21064\\\\\n",
       "\t 1383 & 47 & 4 & 경기 & 1 & 1 &    NA &    NA &     NA &     NA &    NA & NA & NA & NA & NA &     NA\\\\\n",
       "\t 1384 & 47 & 2 & 서울 & 1 & 0 & 96071 & 96071 &      0 &  89455 & 89455 &  4 &  0 &  0 &  0 & 371052\\\\\n",
       "\t 1385 & 47 & 4 & 경기 & 2 & 1 &    NA &    NA &     NA &     NA &    NA & NA & NA & NA & NA &     NA\\\\\n",
       "\t 1386 & 47 & 4 & 경기 & 2 & 1 &    NA &    NA &     NA &     NA &    NA & NA & NA & NA & NA &     NA\\\\\n",
       "\t 1387 & 47 & 4 & 서울 & 2 & 1 &    NA &    NA &     NA &     NA &    NA & NA & NA & NA & NA &     NA\\\\\n",
       "\t 1388 & 47 & 4 & 서울 & 6 & 1 & 99530 &     0 &  99530 &  99530 &     0 &  3 &  0 &  0 &  0 & 298590\\\\\n",
       "\t 1389 & 47 & 4 & 부산 & 2 & 1 &    NA &    NA &     NA &     NA &    NA & NA & NA & NA & NA &     NA\\\\\n",
       "\t 1390 & 47 & 4 & 경기 & 6 & 1 &    NA &    NA &     NA &     NA &    NA & NA & NA & NA & NA &     NA\\\\\n",
       "\t 1391 & 47 & 4 & 인천 & 2 & 1 &     0 &     0 &      0 &      0 & 70099 &  0 &  0 &  1 &  0 &  70099\\\\\n",
       "\t 1392 & 47 & 4 & 서울 & 5 & 1 &     0 &     0 &      0 &  82179 &     0 &  0 &  0 &  1 &  0 &  82179\\\\\n",
       "\t 1393 & 47 & 4 & 경남 & 6 & 1 &     0 &     0 &      0 &      0 & 73369 &  1 &  0 &  0 &  0 &  73369\\\\\n",
       "\t 1394 & 47 & 4 & 서울 & 4 & 1 & 87900 &     0 &      0 &      0 &     0 &  0 &  0 &  1 &  0 &  87900\\\\\n",
       "\t 1395 & 47 & 4 & 강원 & 2 & 1 &     0 & 14392 &  69235 &  86474 &     0 &  3 &  0 &  0 &  0 & 170101\\\\\n",
       "\t 1396 & 47 & 4 & 충남 & 6 & 1 &    NA &    NA &     NA &     NA &    NA & NA & NA & NA & NA &     NA\\\\\n",
       "\t 1397 & 47 & 4 & 서울 & 4 & 1 &    NA &    NA &     NA &     NA &    NA & NA & NA & NA & NA &     NA\\\\\n",
       "\t 1398 & 47 & 2 & 경기 & 2 & 0 & 68672 &     0 & 101700 & 150000 &     0 &  0 &  0 &  3 &  0 & 320372\\\\\n",
       "\t 1399 & 47 & 4 & 전남 & 2 & 1 &    NA &    NA &     NA &     NA &    NA & NA & NA & NA & NA &     NA\\\\\n",
       "\t 1400 & 46 & 4 & 인천 & 5 & 1 &    NA &    NA &     NA &     NA &    NA & NA & NA & NA & NA &     NA\\\\\n",
       "\\end{tabular}\n"
      ],
      "text/markdown": [
       "\n",
       "A data.frame: 400 × 16\n",
       "\n",
       "| user_id &lt;int&gt; | age &lt;int&gt; | house_type &lt;int&gt; | resident &lt;chr&gt; | job &lt;int&gt; | house_type2 &lt;int&gt; | 식료품1 &lt;int&gt; | 생필품.2. &lt;int&gt; | 의류.3. &lt;int&gt; | 잡화.4. &lt;int&gt; | 기타.5. &lt;int&gt; | 현금.1. &lt;int&gt; | 직불카드.2. &lt;int&gt; | 신용카드.3. &lt;int&gt; | 상품권.4. &lt;int&gt; | 총구매금액 &lt;int&gt; |\n",
       "|---|---|---|---|---|---|---|---|---|---|---|---|---|---|---|---|\n",
       "| 1001 | 35 | 4 | 전북 | 6 | 1 | 153000 |      0 |      0 |      0 |     0 |  1 |  0 |  0 |  0 |  153000 |\n",
       "| 1002 | 45 | 4 | 경남 | 2 | 1 |      0 | 120000 |      0 |      0 |     0 |  0 |  1 |  0 |  0 |  120000 |\n",
       "| 1003 | 55 | 4 | 경기 | 6 | 1 | 125000 |      0 | 780000 | 123000 | 79000 |  0 |  0 |  4 |  0 | 1107000 |\n",
       "| 1004 | 43 | 3 | 대전 | 1 | 1 |     NA |     NA |     NA |     NA |    NA | NA | NA | NA | NA |      NA |\n",
       "| 1005 | 55 | 4 | 경기 | 2 | 1 |     NA |     NA |     NA |     NA |    NA | NA | NA | NA | NA |      NA |\n",
       "| 1006 | 45 | 1 | 대구 | 1 | 0 |     NA |     NA |     NA |     NA |    NA | NA | NA | NA | NA |      NA |\n",
       "| 1007 | 39 | 4 | 경남 | 1 | 1 |      0 | 150000 |  78879 |  81980 | 71773 |  0 |  4 |  0 |  0 |  382632 |\n",
       "| 1008 | 55 | 2 | 경기 | 6 | 0 |     NA |     NA |     NA |     NA |    NA | NA | NA | NA | NA |      NA |\n",
       "| 1009 | 33 | 4 | 인천 | 3 | 1 |     NA |     NA |     NA |     NA |    NA | NA | NA | NA | NA |      NA |\n",
       "| 1010 | 55 | 3 | 서울 | 6 | 1 |     NA |     NA |     NA |     NA |    NA | NA | NA | NA | NA |      NA |\n",
       "| 1011 | 66 | 4 | 서울 | 2 | 1 |      0 |  71774 |      0 |      0 |     0 |  1 |  0 |  0 |  0 |   71774 |\n",
       "| 1012 | 55 | 4 | 서울 | 6 | 1 |      0 |      0 |  74968 |      0 |     0 |  0 |  1 |  0 |  0 |   74968 |\n",
       "| 1013 | 62 | 4 | 부산 | 6 | 1 |      0 |      0 |      0 |  81841 |     0 |  1 |  0 |  0 |  0 |   81841 |\n",
       "| 1014 | 35 | 4 | 경기 | 6 | 1 |      0 |      0 |      0 |  94782 | 83804 |  0 |  2 |  0 |  0 |  178586 |\n",
       "| 1015 | 48 | 4 | 경기 | 2 | 1 |     NA |     NA |     NA |     NA |    NA | NA | NA | NA | NA |      NA |\n",
       "| 1016 | 55 | 2 | 대구 | 5 | 0 |   5813 |   6459 |      0 |      0 |     0 |  2 |  0 |  0 |  0 |   12272 |\n",
       "| 1017 | 60 | 2 | 서울 | 1 | 0 |     NA |     NA |     NA |     NA |    NA | NA | NA | NA | NA |      NA |\n",
       "| 1018 | 60 | 1 | 충북 | 1 | 0 |      0 | 171136 | 236924 |   4275 | 83410 |  0 |  0 |  7 |  0 |  495745 |\n",
       "| 1019 | 50 | 4 | 대구 | 6 | 1 |     NA |     NA |     NA |     NA |    NA | NA | NA | NA | NA |      NA |\n",
       "| 1020 | 50 | 4 | 경기 | 2 | 1 |     NA |     NA |     NA |     NA |    NA | NA | NA | NA | NA |      NA |\n",
       "| 1021 | 50 | 4 | 부산 | 5 | 1 |     NA |     NA |     NA |     NA |    NA | NA | NA | NA | NA |      NA |\n",
       "| 1022 | 50 | 4 | 경남 | 6 | 1 |     NA |     NA |     NA |     NA |    NA | NA | NA | NA | NA |      NA |\n",
       "| 1023 | 50 | 2 | 경북 | 5 | 0 |     NA |     NA |     NA |     NA |    NA | NA | NA | NA | NA |      NA |\n",
       "| 1024 | 60 | 1 | 전북 | 6 | 0 |     NA |     NA |     NA |     NA |    NA | NA | NA | NA | NA |      NA |\n",
       "| 1025 | 60 | 2 | 서울 | 6 | 0 |  67067 |  68996 |  86768 |  88246 | 70757 |  5 |  0 |  0 |  0 |  381834 |\n",
       "| 1026 | 60 | 4 | 인천 | 6 | 1 |     NA |     NA |     NA |     NA |    NA | NA | NA | NA | NA |      NA |\n",
       "| 1027 | 60 | 4 | 경기 | 6 | 1 |     NA |     NA |     NA |     NA |    NA | NA | NA | NA | NA |      NA |\n",
       "| 1028 | 59 | 4 | 서울 | 1 | 1 |     NA |     NA |     NA |     NA |    NA | NA | NA | NA | NA |      NA |\n",
       "| 1029 | 59 | 1 | 충북 | 2 | 0 |     NA |     NA |     NA |     NA |    NA | NA | NA | NA | NA |      NA |\n",
       "| 1030 | 59 | 4 | 경남 | 2 | 1 |      0 |  78758 |      0 |    290 |   290 |  0 |  0 |  3 |  0 |   79338 |\n",
       "| ⋮ | ⋮ | ⋮ | ⋮ | ⋮ | ⋮ | ⋮ | ⋮ | ⋮ | ⋮ | ⋮ | ⋮ | ⋮ | ⋮ | ⋮ | ⋮ |\n",
       "| 1371 | 47 | 2 | 경기 | 5 | 0 |     0 |     0 |  10937 |      0 |     0 |  0 |  0 |  1 |  0 |  10937 |\n",
       "| 1372 | 47 | 4 | 부산 | 6 | 1 |     0 | 10937 |      0 |      0 |     0 |  0 |  0 |  1 |  0 |  10937 |\n",
       "| 1373 | 47 | 2 | 서울 | 2 | 0 |     0 |     0 |  96691 |      0 |     0 |  0 |  0 |  1 |  0 |  96691 |\n",
       "| 1374 | 47 | 4 | 경북 | 6 | 1 |     0 |     0 |      0 |  96691 |     0 |  0 |  0 |  1 |  0 |  96691 |\n",
       "| 1375 | 47 | 4 | 서울 | 2 | 1 |     0 |     0 |      0 |      0 | 16309 |  1 |  0 |  0 |  0 |  16309 |\n",
       "| 1376 | 47 | 2 | 경기 | 3 | 0 |  2971 | 77371 |      0 |      0 |     0 |  2 |  0 |  0 |  0 |  80342 |\n",
       "| 1377 | 47 | 4 | 충북 | 3 | 1 |    NA |    NA |     NA |     NA |    NA | NA | NA | NA | NA |     NA |\n",
       "| 1378 | 47 | 4 | 경기 | 2 | 1 |     0 |     0 |  12289 |   2781 | 87731 |  0 |  0 |  3 |  0 | 102801 |\n",
       "| 1379 | 47 | 4 | 경기 | 3 | 1 |    NA |    NA |     NA |     NA |    NA | NA | NA | NA | NA |     NA |\n",
       "| 1380 | 47 | 4 | 광주 | 4 | 1 |    NA |    NA |     NA |     NA |    NA | NA | NA | NA | NA |     NA |\n",
       "| 1381 | 47 | 4 | 광주 | 4 | 1 |     0 |  3896 |      0 |      0 |     0 |  1 |  0 |  0 |  0 |   3896 |\n",
       "| 1382 | 47 | 4 | 경남 | 1 | 1 |     0 |     0 |   6933 |  14131 |     0 |  0 |  0 |  2 |  0 |  21064 |\n",
       "| 1383 | 47 | 4 | 경기 | 1 | 1 |    NA |    NA |     NA |     NA |    NA | NA | NA | NA | NA |     NA |\n",
       "| 1384 | 47 | 2 | 서울 | 1 | 0 | 96071 | 96071 |      0 |  89455 | 89455 |  4 |  0 |  0 |  0 | 371052 |\n",
       "| 1385 | 47 | 4 | 경기 | 2 | 1 |    NA |    NA |     NA |     NA |    NA | NA | NA | NA | NA |     NA |\n",
       "| 1386 | 47 | 4 | 경기 | 2 | 1 |    NA |    NA |     NA |     NA |    NA | NA | NA | NA | NA |     NA |\n",
       "| 1387 | 47 | 4 | 서울 | 2 | 1 |    NA |    NA |     NA |     NA |    NA | NA | NA | NA | NA |     NA |\n",
       "| 1388 | 47 | 4 | 서울 | 6 | 1 | 99530 |     0 |  99530 |  99530 |     0 |  3 |  0 |  0 |  0 | 298590 |\n",
       "| 1389 | 47 | 4 | 부산 | 2 | 1 |    NA |    NA |     NA |     NA |    NA | NA | NA | NA | NA |     NA |\n",
       "| 1390 | 47 | 4 | 경기 | 6 | 1 |    NA |    NA |     NA |     NA |    NA | NA | NA | NA | NA |     NA |\n",
       "| 1391 | 47 | 4 | 인천 | 2 | 1 |     0 |     0 |      0 |      0 | 70099 |  0 |  0 |  1 |  0 |  70099 |\n",
       "| 1392 | 47 | 4 | 서울 | 5 | 1 |     0 |     0 |      0 |  82179 |     0 |  0 |  0 |  1 |  0 |  82179 |\n",
       "| 1393 | 47 | 4 | 경남 | 6 | 1 |     0 |     0 |      0 |      0 | 73369 |  1 |  0 |  0 |  0 |  73369 |\n",
       "| 1394 | 47 | 4 | 서울 | 4 | 1 | 87900 |     0 |      0 |      0 |     0 |  0 |  0 |  1 |  0 |  87900 |\n",
       "| 1395 | 47 | 4 | 강원 | 2 | 1 |     0 | 14392 |  69235 |  86474 |     0 |  3 |  0 |  0 |  0 | 170101 |\n",
       "| 1396 | 47 | 4 | 충남 | 6 | 1 |    NA |    NA |     NA |     NA |    NA | NA | NA | NA | NA |     NA |\n",
       "| 1397 | 47 | 4 | 서울 | 4 | 1 |    NA |    NA |     NA |     NA |    NA | NA | NA | NA | NA |     NA |\n",
       "| 1398 | 47 | 2 | 경기 | 2 | 0 | 68672 |     0 | 101700 | 150000 |     0 |  0 |  0 |  3 |  0 | 320372 |\n",
       "| 1399 | 47 | 4 | 전남 | 2 | 1 |    NA |    NA |     NA |     NA |    NA | NA | NA | NA | NA |     NA |\n",
       "| 1400 | 46 | 4 | 인천 | 5 | 1 |    NA |    NA |     NA |     NA |    NA | NA | NA | NA | NA |     NA |\n",
       "\n"
      ],
      "text/plain": [
       "    user_id age house_type resident job house_type2 식료품1 생필품.2. 의류.3.\n",
       "1   1001    35  4          전북     6   1           153000       0         0 \n",
       "2   1002    45  4          경남     2   1                0  120000         0 \n",
       "3   1003    55  4          경기     6   1           125000       0    780000 \n",
       "4   1004    43  3          대전     1   1               NA      NA        NA \n",
       "5   1005    55  4          경기     2   1               NA      NA        NA \n",
       "6   1006    45  1          대구     1   0               NA      NA        NA \n",
       "7   1007    39  4          경남     1   1                0  150000     78879 \n",
       "8   1008    55  2          경기     6   0               NA      NA        NA \n",
       "9   1009    33  4          인천     3   1               NA      NA        NA \n",
       "10  1010    55  3          서울     6   1               NA      NA        NA \n",
       "11  1011    66  4          서울     2   1                0   71774         0 \n",
       "12  1012    55  4          서울     6   1                0       0     74968 \n",
       "13  1013    62  4          부산     6   1                0       0         0 \n",
       "14  1014    35  4          경기     6   1                0       0         0 \n",
       "15  1015    48  4          경기     2   1               NA      NA        NA \n",
       "16  1016    55  2          대구     5   0             5813    6459         0 \n",
       "17  1017    60  2          서울     1   0               NA      NA        NA \n",
       "18  1018    60  1          충북     1   0                0  171136    236924 \n",
       "19  1019    50  4          대구     6   1               NA      NA        NA \n",
       "20  1020    50  4          경기     2   1               NA      NA        NA \n",
       "21  1021    50  4          부산     5   1               NA      NA        NA \n",
       "22  1022    50  4          경남     6   1               NA      NA        NA \n",
       "23  1023    50  2          경북     5   0               NA      NA        NA \n",
       "24  1024    60  1          전북     6   0               NA      NA        NA \n",
       "25  1025    60  2          서울     6   0            67067   68996     86768 \n",
       "26  1026    60  4          인천     6   1               NA      NA        NA \n",
       "27  1027    60  4          경기     6   1               NA      NA        NA \n",
       "28  1028    59  4          서울     1   1               NA      NA        NA \n",
       "29  1029    59  1          충북     2   0               NA      NA        NA \n",
       "30  1030    59  4          경남     2   1                0   78758         0 \n",
       "<U+22EE>   <U+22EE> <U+22EE> <U+22EE>   <U+22EE> <U+22EE> <U+22EE>    <U+22EE> <U+22EE>  <U+22EE>\n",
       "371 1371    47  2          경기     5   0               0       0      10937 \n",
       "372 1372    47  4          부산     6   1               0   10937          0 \n",
       "373 1373    47  2          서울     2   0               0       0      96691 \n",
       "374 1374    47  4          경북     6   1               0       0          0 \n",
       "375 1375    47  4          서울     2   1               0       0          0 \n",
       "376 1376    47  2          경기     3   0            2971   77371          0 \n",
       "377 1377    47  4          충북     3   1              NA      NA         NA \n",
       "378 1378    47  4          경기     2   1               0       0      12289 \n",
       "379 1379    47  4          경기     3   1              NA      NA         NA \n",
       "380 1380    47  4          광주     4   1              NA      NA         NA \n",
       "381 1381    47  4          광주     4   1               0    3896          0 \n",
       "382 1382    47  4          경남     1   1               0       0       6933 \n",
       "383 1383    47  4          경기     1   1              NA      NA         NA \n",
       "384 1384    47  2          서울     1   0           96071   96071          0 \n",
       "385 1385    47  4          경기     2   1              NA      NA         NA \n",
       "386 1386    47  4          경기     2   1              NA      NA         NA \n",
       "387 1387    47  4          서울     2   1              NA      NA         NA \n",
       "388 1388    47  4          서울     6   1           99530       0      99530 \n",
       "389 1389    47  4          부산     2   1              NA      NA         NA \n",
       "390 1390    47  4          경기     6   1              NA      NA         NA \n",
       "391 1391    47  4          인천     2   1               0       0          0 \n",
       "392 1392    47  4          서울     5   1               0       0          0 \n",
       "393 1393    47  4          경남     6   1               0       0          0 \n",
       "394 1394    47  4          서울     4   1           87900       0          0 \n",
       "395 1395    47  4          강원     2   1               0   14392      69235 \n",
       "396 1396    47  4          충남     6   1              NA      NA         NA \n",
       "397 1397    47  4          서울     4   1              NA      NA         NA \n",
       "398 1398    47  2          경기     2   0           68672       0     101700 \n",
       "399 1399    47  4          전남     2   1              NA      NA         NA \n",
       "400 1400    46  4          인천     5   1              NA      NA         NA \n",
       "    잡화.4. 기타.5. 현금.1. 직불카드.2. 신용카드.3. 상품권.4. 총구매금액\n",
       "1        0      0    1       0           0           0         153000   \n",
       "2        0      0    0       1           0           0         120000   \n",
       "3   123000  79000    0       0           4           0        1107000   \n",
       "4       NA     NA   NA      NA          NA          NA             NA   \n",
       "5       NA     NA   NA      NA          NA          NA             NA   \n",
       "6       NA     NA   NA      NA          NA          NA             NA   \n",
       "7    81980  71773    0       4           0           0         382632   \n",
       "8       NA     NA   NA      NA          NA          NA             NA   \n",
       "9       NA     NA   NA      NA          NA          NA             NA   \n",
       "10      NA     NA   NA      NA          NA          NA             NA   \n",
       "11       0      0    1       0           0           0          71774   \n",
       "12       0      0    0       1           0           0          74968   \n",
       "13   81841      0    1       0           0           0          81841   \n",
       "14   94782  83804    0       2           0           0         178586   \n",
       "15      NA     NA   NA      NA          NA          NA             NA   \n",
       "16       0      0    2       0           0           0          12272   \n",
       "17      NA     NA   NA      NA          NA          NA             NA   \n",
       "18    4275  83410    0       0           7           0         495745   \n",
       "19      NA     NA   NA      NA          NA          NA             NA   \n",
       "20      NA     NA   NA      NA          NA          NA             NA   \n",
       "21      NA     NA   NA      NA          NA          NA             NA   \n",
       "22      NA     NA   NA      NA          NA          NA             NA   \n",
       "23      NA     NA   NA      NA          NA          NA             NA   \n",
       "24      NA     NA   NA      NA          NA          NA             NA   \n",
       "25   88246  70757    5       0           0           0         381834   \n",
       "26      NA     NA   NA      NA          NA          NA             NA   \n",
       "27      NA     NA   NA      NA          NA          NA             NA   \n",
       "28      NA     NA   NA      NA          NA          NA             NA   \n",
       "29      NA     NA   NA      NA          NA          NA             NA   \n",
       "30     290    290    0       0           3           0          79338   \n",
       "<U+22EE>   <U+22EE> <U+22EE> <U+22EE> <U+22EE>    <U+22EE>    <U+22EE>  <U+22EE>  \n",
       "371      0      0    0       0           1           0         10937    \n",
       "372      0      0    0       0           1           0         10937    \n",
       "373      0      0    0       0           1           0         96691    \n",
       "374  96691      0    0       0           1           0         96691    \n",
       "375      0  16309    1       0           0           0         16309    \n",
       "376      0      0    2       0           0           0         80342    \n",
       "377     NA     NA   NA      NA          NA          NA            NA    \n",
       "378   2781  87731    0       0           3           0        102801    \n",
       "379     NA     NA   NA      NA          NA          NA            NA    \n",
       "380     NA     NA   NA      NA          NA          NA            NA    \n",
       "381      0      0    1       0           0           0          3896    \n",
       "382  14131      0    0       0           2           0         21064    \n",
       "383     NA     NA   NA      NA          NA          NA            NA    \n",
       "384  89455  89455    4       0           0           0        371052    \n",
       "385     NA     NA   NA      NA          NA          NA            NA    \n",
       "386     NA     NA   NA      NA          NA          NA            NA    \n",
       "387     NA     NA   NA      NA          NA          NA            NA    \n",
       "388  99530      0    3       0           0           0        298590    \n",
       "389     NA     NA   NA      NA          NA          NA            NA    \n",
       "390     NA     NA   NA      NA          NA          NA            NA    \n",
       "391      0  70099    0       0           1           0         70099    \n",
       "392  82179      0    0       0           1           0         82179    \n",
       "393      0  73369    1       0           0           0         73369    \n",
       "394      0      0    0       0           1           0         87900    \n",
       "395  86474      0    3       0           0           0        170101    \n",
       "396     NA     NA   NA      NA          NA          NA            NA    \n",
       "397     NA     NA   NA      NA          NA          NA            NA    \n",
       "398 150000      0    0       0           3           0        320372    \n",
       "399     NA     NA   NA      NA          NA          NA            NA    \n",
       "400     NA     NA   NA      NA          NA          NA            NA    "
      ]
     },
     "metadata": {},
     "output_type": "display_data"
    }
   ],
   "source": [
    "data = read.csv('cleanedData.csv',header=T)\n",
    "data"
   ]
  },
  {
   "cell_type": "markdown",
   "id": "6fc59f1d-c2da-4cff-8027-fc5689095429",
   "metadata": {},
   "source": [
    "- 표본 샘플링\n",
    "  - 정제된 데이터를 대상으로 원하는 행수 만큼 임의로 데이터를 추출하는 표본 샘플링에 대해서 알아보자"
   ]
  },
  {
   "cell_type": "code",
   "execution_count": 85,
   "id": "43fa924d-5121-486d-a4bb-0ed75a0f03e1",
   "metadata": {},
   "outputs": [
    {
     "data": {
      "text/html": [
       "400"
      ],
      "text/latex": [
       "400"
      ],
      "text/markdown": [
       "400"
      ],
      "text/plain": [
       "[1] 400"
      ]
     },
     "metadata": {},
     "output_type": "display_data"
    }
   ],
   "source": [
    "# data의 행 수 \n",
    "nrow(data)"
   ]
  },
  {
   "cell_type": "code",
   "execution_count": 95,
   "id": "07c7f49e-3eb4-4094-a339-c901b79bab22",
   "metadata": {},
   "outputs": [
    {
     "data": {
      "text/html": [
       "<style>\n",
       ".list-inline {list-style: none; margin:0; padding: 0}\n",
       ".list-inline>li {display: inline-block}\n",
       ".list-inline>li:not(:last-child)::after {content: \"\\00b7\"; padding: 0 .5ex}\n",
       "</style>\n",
       "<ol class=list-inline><li>264</li><li>359</li><li>320</li><li>147</li><li>165</li><li>170</li><li>287</li><li>274</li><li>248</li><li>275</li><li>217</li><li>354</li><li>11</li><li>256</li><li>353</li><li>352</li><li>357</li><li>208</li><li>121</li><li>244</li><li>258</li><li>276</li><li>322</li><li>42</li><li>356</li><li>297</li><li>307</li><li>400</li><li>388</li><li>169</li></ol>\n"
      ],
      "text/latex": [
       "\\begin{enumerate*}\n",
       "\\item 264\n",
       "\\item 359\n",
       "\\item 320\n",
       "\\item 147\n",
       "\\item 165\n",
       "\\item 170\n",
       "\\item 287\n",
       "\\item 274\n",
       "\\item 248\n",
       "\\item 275\n",
       "\\item 217\n",
       "\\item 354\n",
       "\\item 11\n",
       "\\item 256\n",
       "\\item 353\n",
       "\\item 352\n",
       "\\item 357\n",
       "\\item 208\n",
       "\\item 121\n",
       "\\item 244\n",
       "\\item 258\n",
       "\\item 276\n",
       "\\item 322\n",
       "\\item 42\n",
       "\\item 356\n",
       "\\item 297\n",
       "\\item 307\n",
       "\\item 400\n",
       "\\item 388\n",
       "\\item 169\n",
       "\\end{enumerate*}\n"
      ],
      "text/markdown": [
       "1. 264\n",
       "2. 359\n",
       "3. 320\n",
       "4. 147\n",
       "5. 165\n",
       "6. 170\n",
       "7. 287\n",
       "8. 274\n",
       "9. 248\n",
       "10. 275\n",
       "11. 217\n",
       "12. 354\n",
       "13. 11\n",
       "14. 256\n",
       "15. 353\n",
       "16. 352\n",
       "17. 357\n",
       "18. 208\n",
       "19. 121\n",
       "20. 244\n",
       "21. 258\n",
       "22. 276\n",
       "23. 322\n",
       "24. 42\n",
       "25. 356\n",
       "26. 297\n",
       "27. 307\n",
       "28. 400\n",
       "29. 388\n",
       "30. 169\n",
       "\n",
       "\n"
      ],
      "text/plain": [
       " [1] 264 359 320 147 165 170 287 274 248 275 217 354  11 256 353 352 357 208 121\n",
       "[20] 244 258 276 322  42 356 297 307 400 388 169"
      ]
     },
     "metadata": {},
     "output_type": "display_data"
    }
   ],
   "source": [
    "# 30개 행을 무작위 추출\n",
    "choice1 = sample(nrow(data), 30) \n",
    "choice1 # 계속 바뀔 것이다."
   ]
  },
  {
   "cell_type": "code",
   "execution_count": 97,
   "id": "48a5f96d-f62e-4808-84a6-af3d9b1881de",
   "metadata": {},
   "outputs": [
    {
     "data": {
      "text/html": [
       "<style>\n",
       ".list-inline {list-style: none; margin:0; padding: 0}\n",
       ".list-inline>li {display: inline-block}\n",
       ".list-inline>li:not(:last-child)::after {content: \"\\00b7\"; padding: 0 .5ex}\n",
       "</style>\n",
       "<ol class=list-inline><li>229</li><li>158</li><li>145</li><li>89</li><li>78</li><li>198</li><li>207</li><li>271</li><li>73</li><li>316</li><li>56</li><li>386</li><li>186</li><li>260</li><li>234</li><li>211</li><li>325</li><li>119</li><li>246</li><li>51</li><li>160</li><li>384</li><li>289</li><li>91</li><li>214</li><li>360</li><li>305</li><li>188</li><li>351</li><li>371</li></ol>\n"
      ],
      "text/latex": [
       "\\begin{enumerate*}\n",
       "\\item 229\n",
       "\\item 158\n",
       "\\item 145\n",
       "\\item 89\n",
       "\\item 78\n",
       "\\item 198\n",
       "\\item 207\n",
       "\\item 271\n",
       "\\item 73\n",
       "\\item 316\n",
       "\\item 56\n",
       "\\item 386\n",
       "\\item 186\n",
       "\\item 260\n",
       "\\item 234\n",
       "\\item 211\n",
       "\\item 325\n",
       "\\item 119\n",
       "\\item 246\n",
       "\\item 51\n",
       "\\item 160\n",
       "\\item 384\n",
       "\\item 289\n",
       "\\item 91\n",
       "\\item 214\n",
       "\\item 360\n",
       "\\item 305\n",
       "\\item 188\n",
       "\\item 351\n",
       "\\item 371\n",
       "\\end{enumerate*}\n"
      ],
      "text/markdown": [
       "1. 229\n",
       "2. 158\n",
       "3. 145\n",
       "4. 89\n",
       "5. 78\n",
       "6. 198\n",
       "7. 207\n",
       "8. 271\n",
       "9. 73\n",
       "10. 316\n",
       "11. 56\n",
       "12. 386\n",
       "13. 186\n",
       "14. 260\n",
       "15. 234\n",
       "16. 211\n",
       "17. 325\n",
       "18. 119\n",
       "19. 246\n",
       "20. 51\n",
       "21. 160\n",
       "22. 384\n",
       "23. 289\n",
       "24. 91\n",
       "25. 214\n",
       "26. 360\n",
       "27. 305\n",
       "28. 188\n",
       "29. 351\n",
       "30. 371\n",
       "\n",
       "\n"
      ],
      "text/plain": [
       " [1] 229 158 145  89  78 198 207 271  73 316  56 386 186 260 234 211 325 119 246\n",
       "[20]  51 160 384 289  91 214 360 305 188 351 371"
      ]
     },
     "metadata": {},
     "output_type": "display_data"
    }
   ],
   "source": [
    "choice2 = sample(50 : nrow(data),30)\n",
    "choice2"
   ]
  },
  {
   "cell_type": "code",
   "execution_count": 98,
   "id": "4b1c9254-0c50-4f59-857d-7736d8ef23aa",
   "metadata": {},
   "outputs": [
    {
     "data": {
      "text/html": [
       "<style>\n",
       ".list-inline {list-style: none; margin:0; padding: 0}\n",
       ".list-inline>li {display: inline-block}\n",
       ".list-inline>li:not(:last-child)::after {content: \"\\00b7\"; padding: 0 .5ex}\n",
       "</style>\n",
       "<ol class=list-inline><li>64</li><li>95</li><li>89</li><li>81</li><li>83</li><li>67</li><li>100</li><li>59</li><li>62</li><li>88</li><li>54</li><li>66</li><li>63</li><li>65</li><li>76</li><li>98</li><li>91</li><li>68</li><li>86</li><li>72</li><li>79</li><li>74</li><li>94</li><li>51</li><li>75</li><li>55</li><li>84</li><li>77</li><li>69</li><li>70</li></ol>\n"
      ],
      "text/latex": [
       "\\begin{enumerate*}\n",
       "\\item 64\n",
       "\\item 95\n",
       "\\item 89\n",
       "\\item 81\n",
       "\\item 83\n",
       "\\item 67\n",
       "\\item 100\n",
       "\\item 59\n",
       "\\item 62\n",
       "\\item 88\n",
       "\\item 54\n",
       "\\item 66\n",
       "\\item 63\n",
       "\\item 65\n",
       "\\item 76\n",
       "\\item 98\n",
       "\\item 91\n",
       "\\item 68\n",
       "\\item 86\n",
       "\\item 72\n",
       "\\item 79\n",
       "\\item 74\n",
       "\\item 94\n",
       "\\item 51\n",
       "\\item 75\n",
       "\\item 55\n",
       "\\item 84\n",
       "\\item 77\n",
       "\\item 69\n",
       "\\item 70\n",
       "\\end{enumerate*}\n"
      ],
      "text/markdown": [
       "1. 64\n",
       "2. 95\n",
       "3. 89\n",
       "4. 81\n",
       "5. 83\n",
       "6. 67\n",
       "7. 100\n",
       "8. 59\n",
       "9. 62\n",
       "10. 88\n",
       "11. 54\n",
       "12. 66\n",
       "13. 63\n",
       "14. 65\n",
       "15. 76\n",
       "16. 98\n",
       "17. 91\n",
       "18. 68\n",
       "19. 86\n",
       "20. 72\n",
       "21. 79\n",
       "22. 74\n",
       "23. 94\n",
       "24. 51\n",
       "25. 75\n",
       "26. 55\n",
       "27. 84\n",
       "28. 77\n",
       "29. 69\n",
       "30. 70\n",
       "\n",
       "\n"
      ],
      "text/plain": [
       " [1]  64  95  89  81  83  67 100  59  62  88  54  66  63  65  76  98  91  68  86\n",
       "[20]  72  79  74  94  51  75  55  84  77  69  70"
      ]
     },
     "metadata": {},
     "output_type": "display_data"
    }
   ],
   "source": [
    "choice3 = sample(50 : 100 ,30)\n",
    "choice3"
   ]
  },
  {
   "cell_type": "code",
   "execution_count": 99,
   "id": "a0bc9491-3143-46f8-ad30-3827fbaefda3",
   "metadata": {},
   "outputs": [
    {
     "data": {
      "text/html": [
       "<style>\n",
       ".list-inline {list-style: none; margin:0; padding: 0}\n",
       ".list-inline>li {display: inline-block}\n",
       ".list-inline>li:not(:last-child)::after {content: \"\\00b7\"; padding: 0 .5ex}\n",
       "</style>\n",
       "<ol class=list-inline><li>16</li><li>116</li><li>94</li><li>93</li><li>122</li><li>19</li><li>126</li><li>90</li><li>171</li><li>105</li><li>100</li><li>49</li><li>138</li><li>185</li><li>35</li><li>177</li><li>109</li><li>168</li><li>87</li><li>115</li><li>142</li><li>114</li><li>33</li><li>85</li><li>188</li><li>166</li><li>141</li><li>180</li><li>89</li><li>47</li></ol>\n"
      ],
      "text/latex": [
       "\\begin{enumerate*}\n",
       "\\item 16\n",
       "\\item 116\n",
       "\\item 94\n",
       "\\item 93\n",
       "\\item 122\n",
       "\\item 19\n",
       "\\item 126\n",
       "\\item 90\n",
       "\\item 171\n",
       "\\item 105\n",
       "\\item 100\n",
       "\\item 49\n",
       "\\item 138\n",
       "\\item 185\n",
       "\\item 35\n",
       "\\item 177\n",
       "\\item 109\n",
       "\\item 168\n",
       "\\item 87\n",
       "\\item 115\n",
       "\\item 142\n",
       "\\item 114\n",
       "\\item 33\n",
       "\\item 85\n",
       "\\item 188\n",
       "\\item 166\n",
       "\\item 141\n",
       "\\item 180\n",
       "\\item 89\n",
       "\\item 47\n",
       "\\end{enumerate*}\n"
      ],
      "text/markdown": [
       "1. 16\n",
       "2. 116\n",
       "3. 94\n",
       "4. 93\n",
       "5. 122\n",
       "6. 19\n",
       "7. 126\n",
       "8. 90\n",
       "9. 171\n",
       "10. 105\n",
       "11. 100\n",
       "12. 49\n",
       "13. 138\n",
       "14. 185\n",
       "15. 35\n",
       "16. 177\n",
       "17. 109\n",
       "18. 168\n",
       "19. 87\n",
       "20. 115\n",
       "21. 142\n",
       "22. 114\n",
       "23. 33\n",
       "24. 85\n",
       "25. 188\n",
       "26. 166\n",
       "27. 141\n",
       "28. 180\n",
       "29. 89\n",
       "30. 47\n",
       "\n",
       "\n"
      ],
      "text/plain": [
       " [1]  16 116  94  93 122  19 126  90 171 105 100  49 138 185  35 177 109 168  87\n",
       "[20] 115 142 114  33  85 188 166 141 180  89  47"
      ]
     },
     "metadata": {},
     "output_type": "display_data"
    }
   ],
   "source": [
    "# 다양한 범위를 지정하여 무작위 샘플링\n",
    "choice4 = sample(c(10:50,80:150,160:190),30)\n",
    "choice4"
   ]
  },
  {
   "cell_type": "markdown",
   "id": "bbe91002-7271-4c91-9863-08d7595daa26",
   "metadata": {},
   "source": [
    "- 위의 샘플링된 데이터로 표본을 추출해보자"
   ]
  },
  {
   "cell_type": "code",
   "execution_count": 101,
   "id": "110f70b3-9bf1-4f4e-83c7-a6846209d463",
   "metadata": {},
   "outputs": [
    {
     "data": {
      "text/html": [
       "<table class=\"dataframe\">\n",
       "<caption>A data.frame: 6 × 16</caption>\n",
       "<thead>\n",
       "\t<tr><th></th><th scope=col>user_id</th><th scope=col>age</th><th scope=col>house_type</th><th scope=col>resident</th><th scope=col>job</th><th scope=col>house_type2</th><th scope=col>식료품1</th><th scope=col>생필품.2.</th><th scope=col>의류.3.</th><th scope=col>잡화.4.</th><th scope=col>기타.5.</th><th scope=col>현금.1.</th><th scope=col>직불카드.2.</th><th scope=col>신용카드.3.</th><th scope=col>상품권.4.</th><th scope=col>총구매금액</th></tr>\n",
       "\t<tr><th></th><th scope=col>&lt;int&gt;</th><th scope=col>&lt;int&gt;</th><th scope=col>&lt;int&gt;</th><th scope=col>&lt;chr&gt;</th><th scope=col>&lt;int&gt;</th><th scope=col>&lt;int&gt;</th><th scope=col>&lt;int&gt;</th><th scope=col>&lt;int&gt;</th><th scope=col>&lt;int&gt;</th><th scope=col>&lt;int&gt;</th><th scope=col>&lt;int&gt;</th><th scope=col>&lt;int&gt;</th><th scope=col>&lt;int&gt;</th><th scope=col>&lt;int&gt;</th><th scope=col>&lt;int&gt;</th><th scope=col>&lt;int&gt;</th></tr>\n",
       "</thead>\n",
       "<tbody>\n",
       "\t<tr><th scope=row>264</th><td>1264</td><td>51</td><td>4</td><td>서울</td><td>2</td><td>1</td><td>0</td><td>13941</td><td>0</td><td>    0</td><td>    0</td><td>0</td><td>0</td><td>1</td><td>0</td><td>13941</td></tr>\n",
       "\t<tr><th scope=row>359</th><td>1359</td><td>48</td><td>1</td><td>경기</td><td>5</td><td>0</td><td>0</td><td>    0</td><td>0</td><td> 8320</td><td>    0</td><td>1</td><td>0</td><td>0</td><td>0</td><td> 8320</td></tr>\n",
       "\t<tr><th scope=row>320</th><td>1320</td><td>49</td><td>4</td><td>경기</td><td>6</td><td>1</td><td>0</td><td>    0</td><td>0</td><td>    0</td><td>77563</td><td>0</td><td>0</td><td>1</td><td>0</td><td>77563</td></tr>\n",
       "\t<tr><th scope=row>147</th><td>1147</td><td>55</td><td>4</td><td>경남</td><td>2</td><td>1</td><td>0</td><td>    0</td><td>0</td><td>96351</td><td>    0</td><td>1</td><td>0</td><td>0</td><td>0</td><td>96351</td></tr>\n",
       "\t<tr><th scope=row>165</th><td>1165</td><td>54</td><td>4</td><td>경기</td><td>4</td><td>1</td><td>0</td><td>    0</td><td>0</td><td>    0</td><td>11785</td><td>1</td><td>0</td><td>0</td><td>0</td><td>11785</td></tr>\n",
       "\t<tr><th scope=row>170</th><td>1170</td><td>54</td><td>4</td><td>경기</td><td>1</td><td>1</td><td>0</td><td>    0</td><td>0</td><td> 2383</td><td>    0</td><td>1</td><td>0</td><td>0</td><td>0</td><td> 2383</td></tr>\n",
       "</tbody>\n",
       "</table>\n"
      ],
      "text/latex": [
       "A data.frame: 6 × 16\n",
       "\\begin{tabular}{r|llllllllllllllll}\n",
       "  & user\\_id & age & house\\_type & resident & job & house\\_type2 & 식료품1 & 생필품.2. & 의류.3. & 잡화.4. & 기타.5. & 현금.1. & 직불카드.2. & 신용카드.3. & 상품권.4. & 총구매금액\\\\\n",
       "  & <int> & <int> & <int> & <chr> & <int> & <int> & <int> & <int> & <int> & <int> & <int> & <int> & <int> & <int> & <int> & <int>\\\\\n",
       "\\hline\n",
       "\t264 & 1264 & 51 & 4 & 서울 & 2 & 1 & 0 & 13941 & 0 &     0 &     0 & 0 & 0 & 1 & 0 & 13941\\\\\n",
       "\t359 & 1359 & 48 & 1 & 경기 & 5 & 0 & 0 &     0 & 0 &  8320 &     0 & 1 & 0 & 0 & 0 &  8320\\\\\n",
       "\t320 & 1320 & 49 & 4 & 경기 & 6 & 1 & 0 &     0 & 0 &     0 & 77563 & 0 & 0 & 1 & 0 & 77563\\\\\n",
       "\t147 & 1147 & 55 & 4 & 경남 & 2 & 1 & 0 &     0 & 0 & 96351 &     0 & 1 & 0 & 0 & 0 & 96351\\\\\n",
       "\t165 & 1165 & 54 & 4 & 경기 & 4 & 1 & 0 &     0 & 0 &     0 & 11785 & 1 & 0 & 0 & 0 & 11785\\\\\n",
       "\t170 & 1170 & 54 & 4 & 경기 & 1 & 1 & 0 &     0 & 0 &  2383 &     0 & 1 & 0 & 0 & 0 &  2383\\\\\n",
       "\\end{tabular}\n"
      ],
      "text/markdown": [
       "\n",
       "A data.frame: 6 × 16\n",
       "\n",
       "| <!--/--> | user_id &lt;int&gt; | age &lt;int&gt; | house_type &lt;int&gt; | resident &lt;chr&gt; | job &lt;int&gt; | house_type2 &lt;int&gt; | 식료품1 &lt;int&gt; | 생필품.2. &lt;int&gt; | 의류.3. &lt;int&gt; | 잡화.4. &lt;int&gt; | 기타.5. &lt;int&gt; | 현금.1. &lt;int&gt; | 직불카드.2. &lt;int&gt; | 신용카드.3. &lt;int&gt; | 상품권.4. &lt;int&gt; | 총구매금액 &lt;int&gt; |\n",
       "|---|---|---|---|---|---|---|---|---|---|---|---|---|---|---|---|---|\n",
       "| 264 | 1264 | 51 | 4 | 서울 | 2 | 1 | 0 | 13941 | 0 |     0 |     0 | 0 | 0 | 1 | 0 | 13941 |\n",
       "| 359 | 1359 | 48 | 1 | 경기 | 5 | 0 | 0 |     0 | 0 |  8320 |     0 | 1 | 0 | 0 | 0 |  8320 |\n",
       "| 320 | 1320 | 49 | 4 | 경기 | 6 | 1 | 0 |     0 | 0 |     0 | 77563 | 0 | 0 | 1 | 0 | 77563 |\n",
       "| 147 | 1147 | 55 | 4 | 경남 | 2 | 1 | 0 |     0 | 0 | 96351 |     0 | 1 | 0 | 0 | 0 | 96351 |\n",
       "| 165 | 1165 | 54 | 4 | 경기 | 4 | 1 | 0 |     0 | 0 |     0 | 11785 | 1 | 0 | 0 | 0 | 11785 |\n",
       "| 170 | 1170 | 54 | 4 | 경기 | 1 | 1 | 0 |     0 | 0 |  2383 |     0 | 1 | 0 | 0 | 0 |  2383 |\n",
       "\n"
      ],
      "text/plain": [
       "    user_id age house_type resident job house_type2 식료품1 생필품.2. 의류.3.\n",
       "264 1264    51  4          서울     2   1           0       13941     0      \n",
       "359 1359    48  1          경기     5   0           0           0     0      \n",
       "320 1320    49  4          경기     6   1           0           0     0      \n",
       "147 1147    55  4          경남     2   1           0           0     0      \n",
       "165 1165    54  4          경기     4   1           0           0     0      \n",
       "170 1170    54  4          경기     1   1           0           0     0      \n",
       "    잡화.4. 기타.5. 현금.1. 직불카드.2. 신용카드.3. 상품권.4. 총구매금액\n",
       "264     0       0   0       0           1           0         13941     \n",
       "359  8320       0   1       0           0           0          8320     \n",
       "320     0   77563   0       0           1           0         77563     \n",
       "147 96351       0   1       0           0           0         96351     \n",
       "165     0   11785   1       0           0           0         11785     \n",
       "170  2383       0   1       0           0           0          2383     "
      ]
     },
     "metadata": {},
     "output_type": "display_data"
    }
   ],
   "source": [
    "head(data[choice1,])"
   ]
  },
  {
   "cell_type": "markdown",
   "id": "7def44b8-800c-42c8-a5aa-589505a0d15c",
   "metadata": {},
   "source": [
    "---"
   ]
  },
  {
   "cell_type": "code",
   "execution_count": 102,
   "id": "ebd792ba-2a28-4959-a81d-6d11b09a274e",
   "metadata": {},
   "outputs": [
    {
     "data": {
      "text/html": [
       "<style>\n",
       ".list-inline {list-style: none; margin:0; padding: 0}\n",
       ".list-inline>li {display: inline-block}\n",
       ".list-inline>li:not(:last-child)::after {content: \"\\00b7\"; padding: 0 .5ex}\n",
       "</style>\n",
       "<ol class=list-inline><li>150</li><li>5</li></ol>\n"
      ],
      "text/latex": [
       "\\begin{enumerate*}\n",
       "\\item 150\n",
       "\\item 5\n",
       "\\end{enumerate*}\n"
      ],
      "text/markdown": [
       "1. 150\n",
       "2. 5\n",
       "\n",
       "\n"
      ],
      "text/plain": [
       "[1] 150   5"
      ]
     },
     "metadata": {},
     "output_type": "display_data"
    }
   ],
   "source": [
    "# iris 데이터 셋을 대상으로 7:3 비율로 데이터 셋 생성하기\n",
    "data('iris')\n",
    "dim(iris)"
   ]
  },
  {
   "cell_type": "code",
   "execution_count": 104,
   "id": "8d28ffee-7df6-4bf1-89ca-794a1440a0ea",
   "metadata": {},
   "outputs": [
    {
     "data": {
      "text/html": [
       "<style>\n",
       ".list-inline {list-style: none; margin:0; padding: 0}\n",
       ".list-inline>li {display: inline-block}\n",
       ".list-inline>li:not(:last-child)::after {content: \"\\00b7\"; padding: 0 .5ex}\n",
       "</style>\n",
       "<ol class=list-inline><li>105</li><li>5</li></ol>\n"
      ],
      "text/latex": [
       "\\begin{enumerate*}\n",
       "\\item 105\n",
       "\\item 5\n",
       "\\end{enumerate*}\n"
      ],
      "text/markdown": [
       "1. 105\n",
       "2. 5\n",
       "\n",
       "\n"
      ],
      "text/plain": [
       "[1] 105   5"
      ]
     },
     "metadata": {},
     "output_type": "display_data"
    }
   ],
   "source": [
    "idx = sample(1:nrow(iris),nrow(iris)*0.7)\n",
    "training = iris[idx,] # 학습 데이터 셋\n",
    "test = iris[-idx,] # 검정 데이터 셋 = 학습 데이터 셋의 idx에 -을 취해주면 이것만 제외되니깐 남는 건 30%밖에 남지 않게 됨\n",
    "dim(training)"
   ]
  },
  {
   "cell_type": "markdown",
   "id": "0aff851a-770d-47bd-97cb-4057cf0c0881",
   "metadata": {},
   "source": [
    "---"
   ]
  },
  {
   "cell_type": "markdown",
   "id": "f9e6fd74-1148-4e2e-8a1b-22608f2dae36",
   "metadata": {},
   "source": [
    "- 교차 검정 샘플링\n",
    "  - 교차 검정은 학습데이터와 검정데이터를 7:3 비율로 구성하여 학습데이터로 모델을 생성하고, 검정데이터로 모델을 평가하는 전통적인 방식과 비교하여 평가의 신뢰도를 높이기 위해 동일한 데이터 셋을 N등분하여 N-1 개의 학습데이터로 모델을 생성하고 나머지 1개를 검정데이터로 이용하여 모델을 평가하는 방식이다. 교차 검정을 위한 데이터 셋 생성 알고리즘으로 K겹 교차 검정 데이터 셋 생성 알고리즘을 사용한다. \n",
    "  - 데이터 셋을 일정한 크기로 분할 한다는 의미에서 겹이라는 용어를 사용하고 K겹 교차 검정이란 K겹의 회수만큼 모델을 평가하고, 각 모델의 평가 결과를 다시 산술평균으로 최종 모델의 성능을 평가한다.\n",
    "    - 1) K개로 데이터를 분할하여 D1은 검정 데이터, D2~Dk는 학습 데이터 \n",
    "    - 2) 검정데이터의 위치를 하나씩 변경하고, 나머지 데이터를 학습데이터로 생성\n",
    "    - 3) 위의 단계1과 단계2의 과정을 K만큼 반복한다. "
   ]
  },
  {
   "cell_type": "code",
   "execution_count": 105,
   "id": "f9b18cbc-df3e-43c9-8199-60b072bd6b6c",
   "metadata": {},
   "outputs": [
    {
     "data": {
      "text/html": [
       "<table class=\"dataframe\">\n",
       "<caption>A data.frame: 6 × 2</caption>\n",
       "<thead>\n",
       "\t<tr><th scope=col>Name</th><th scope=col>Score</th></tr>\n",
       "\t<tr><th scope=col>&lt;chr&gt;</th><th scope=col>&lt;dbl&gt;</th></tr>\n",
       "</thead>\n",
       "<tbody>\n",
       "\t<tr><td>a</td><td>90</td></tr>\n",
       "\t<tr><td>b</td><td>85</td></tr>\n",
       "\t<tr><td>c</td><td>99</td></tr>\n",
       "\t<tr><td>d</td><td>78</td></tr>\n",
       "\t<tr><td>e</td><td>65</td></tr>\n",
       "\t<tr><td>f</td><td>88</td></tr>\n",
       "</tbody>\n",
       "</table>\n"
      ],
      "text/latex": [
       "A data.frame: 6 × 2\n",
       "\\begin{tabular}{ll}\n",
       " Name & Score\\\\\n",
       " <chr> & <dbl>\\\\\n",
       "\\hline\n",
       "\t a & 90\\\\\n",
       "\t b & 85\\\\\n",
       "\t c & 99\\\\\n",
       "\t d & 78\\\\\n",
       "\t e & 65\\\\\n",
       "\t f & 88\\\\\n",
       "\\end{tabular}\n"
      ],
      "text/markdown": [
       "\n",
       "A data.frame: 6 × 2\n",
       "\n",
       "| Name &lt;chr&gt; | Score &lt;dbl&gt; |\n",
       "|---|---|\n",
       "| a | 90 |\n",
       "| b | 85 |\n",
       "| c | 99 |\n",
       "| d | 78 |\n",
       "| e | 65 |\n",
       "| f | 88 |\n",
       "\n"
      ],
      "text/plain": [
       "  Name Score\n",
       "1 a    90   \n",
       "2 b    85   \n",
       "3 c    99   \n",
       "4 d    78   \n",
       "5 e    65   \n",
       "6 f    88   "
      ]
     },
     "metadata": {},
     "output_type": "display_data"
    }
   ],
   "source": [
    "# 데이터 셋을 대상으로 K겹 교차 검정 데이터 셋 생성하기\n",
    "name = c('a','b','c','d','e','f')\n",
    "score = c(90,85,99,78,65,88)\n",
    "df = data.frame(Name=name,Score=score)\n",
    "df"
   ]
  },
  {
   "cell_type": "code",
   "execution_count": 106,
   "id": "6d44702f-916a-478b-b4fa-d9b4fc6e0f98",
   "metadata": {},
   "outputs": [
    {
     "name": "stderr",
     "output_type": "stream",
     "text": [
      "also installing the dependencies 'DEoptimR', 'robustbase'\n",
      "\n",
      "\n"
     ]
    },
    {
     "name": "stdout",
     "output_type": "stream",
     "text": [
      "package 'DEoptimR' successfully unpacked and MD5 sums checked\n",
      "package 'robustbase' successfully unpacked and MD5 sums checked\n",
      "package 'cvTools' successfully unpacked and MD5 sums checked\n",
      "\n",
      "The downloaded binary packages are in\n",
      "\tC:\\Users\\ehfus\\AppData\\Local\\Temp\\Rtmp0ckrOG\\downloaded_packages\n"
     ]
    }
   ],
   "source": [
    "# 교차 검정을 위한 패키지 설치\n",
    "install.packages('cvTools')"
   ]
  },
  {
   "cell_type": "code",
   "execution_count": 108,
   "id": "815f2c72-a51e-4f1c-aa90-30e65d47d16c",
   "metadata": {},
   "outputs": [],
   "source": [
    "library(cvTools)"
   ]
  },
  {
   "cell_type": "code",
   "execution_count": 120,
   "id": "40957d09-8663-49d4-953d-4e1f2ad8984d",
   "metadata": {},
   "outputs": [
    {
     "data": {
      "text/html": [
       "<table class=\"dataframe\">\n",
       "<caption>A data.frame: 6 × 2</caption>\n",
       "<thead>\n",
       "\t<tr><th scope=col>Name</th><th scope=col>Score</th></tr>\n",
       "\t<tr><th scope=col>&lt;chr&gt;</th><th scope=col>&lt;dbl&gt;</th></tr>\n",
       "</thead>\n",
       "<tbody>\n",
       "\t<tr><td>a</td><td>90</td></tr>\n",
       "\t<tr><td>b</td><td>85</td></tr>\n",
       "\t<tr><td>c</td><td>99</td></tr>\n",
       "\t<tr><td>d</td><td>78</td></tr>\n",
       "\t<tr><td>e</td><td>65</td></tr>\n",
       "\t<tr><td>f</td><td>88</td></tr>\n",
       "</tbody>\n",
       "</table>\n"
      ],
      "text/latex": [
       "A data.frame: 6 × 2\n",
       "\\begin{tabular}{ll}\n",
       " Name & Score\\\\\n",
       " <chr> & <dbl>\\\\\n",
       "\\hline\n",
       "\t a & 90\\\\\n",
       "\t b & 85\\\\\n",
       "\t c & 99\\\\\n",
       "\t d & 78\\\\\n",
       "\t e & 65\\\\\n",
       "\t f & 88\\\\\n",
       "\\end{tabular}\n"
      ],
      "text/markdown": [
       "\n",
       "A data.frame: 6 × 2\n",
       "\n",
       "| Name &lt;chr&gt; | Score &lt;dbl&gt; |\n",
       "|---|---|\n",
       "| a | 90 |\n",
       "| b | 85 |\n",
       "| c | 99 |\n",
       "| d | 78 |\n",
       "| e | 65 |\n",
       "| f | 88 |\n",
       "\n"
      ],
      "text/plain": [
       "  Name Score\n",
       "1 a    90   \n",
       "2 b    85   \n",
       "3 c    99   \n",
       "4 d    78   \n",
       "5 e    65   \n",
       "6 f    88   "
      ]
     },
     "metadata": {},
     "output_type": "display_data"
    }
   ],
   "source": [
    "df"
   ]
  },
  {
   "cell_type": "code",
   "execution_count": 121,
   "id": "d67de4eb-ed6a-4afc-b1ef-deb889c7ab08",
   "metadata": {},
   "outputs": [
    {
     "data": {
      "text/plain": [
       "\n",
       "Repeated 3-fold CV with 2 replications:    \n",
       "Fold    1 2\n",
       "   1    2 3\n",
       "   2    1 4\n",
       "   3    4 1\n",
       "   1    3 5\n",
       "   2    5 2\n",
       "   3    6 6"
      ]
     },
     "metadata": {},
     "output_type": "display_data"
    }
   ],
   "source": [
    "# K겹 교차 검정 데이터 셋 생성\n",
    "cross = (cvFolds(n=6,K=3,R=2,type = 'random'))\n",
    "cross"
   ]
  },
  {
   "cell_type": "markdown",
   "id": "02d72a08-db81-48cd-8b6a-163b60676e13",
   "metadata": {},
   "source": [
    "- 6개 데이터를 무작위로 3개 분할하여 1회 교차 검정 데이터를 생성한다."
   ]
  },
  {
   "cell_type": "code",
   "execution_count": 122,
   "id": "2c25a3b8-683f-4cc7-bfba-e0a8c0e93966",
   "metadata": {},
   "outputs": [
    {
     "name": "stdout",
     "output_type": "stream",
     "text": [
      "List of 5\n",
      " $ n      : num 6\n",
      " $ K      : num 3\n",
      " $ R      : num 2\n",
      " $ subsets: int [1:6, 1:2] 2 1 4 3 5 6 3 4 1 5 ...\n",
      " $ which  : int [1:6] 1 2 3 1 2 3\n",
      " - attr(*, \"class\")= chr \"cvFolds\"\n"
     ]
    }
   ],
   "source": [
    "str(cross)"
   ]
  },
  {
   "cell_type": "markdown",
   "id": "60868daf-756e-40f6-91d8-fc2fd05719a0",
   "metadata": {},
   "source": [
    "- 5개의 key로 구성된 List 자료구조로 구성되어 있다. "
   ]
  },
  {
   "cell_type": "code",
   "execution_count": 125,
   "id": "95f2d1a6-1a84-43ef-bf5b-40f598ab185a",
   "metadata": {},
   "outputs": [
    {
     "data": {
      "text/html": [
       "<style>\n",
       ".list-inline {list-style: none; margin:0; padding: 0}\n",
       ".list-inline>li {display: inline-block}\n",
       ".list-inline>li:not(:last-child)::after {content: \"\\00b7\"; padding: 0 .5ex}\n",
       "</style>\n",
       "<ol class=list-inline><li>2</li><li>3</li></ol>\n"
      ],
      "text/latex": [
       "\\begin{enumerate*}\n",
       "\\item 2\n",
       "\\item 3\n",
       "\\end{enumerate*}\n"
      ],
      "text/markdown": [
       "1. 2\n",
       "2. 3\n",
       "\n",
       "\n"
      ],
      "text/plain": [
       "[1] 2 3"
      ]
     },
     "metadata": {},
     "output_type": "display_data"
    },
    {
     "data": {
      "text/html": [
       "<style>\n",
       ".list-inline {list-style: none; margin:0; padding: 0}\n",
       ".list-inline>li {display: inline-block}\n",
       ".list-inline>li:not(:last-child)::after {content: \"\\00b7\"; padding: 0 .5ex}\n",
       "</style>\n",
       "<ol class=list-inline><li>3</li><li>5</li></ol>\n"
      ],
      "text/latex": [
       "\\begin{enumerate*}\n",
       "\\item 3\n",
       "\\item 5\n",
       "\\end{enumerate*}\n"
      ],
      "text/markdown": [
       "1. 3\n",
       "2. 5\n",
       "\n",
       "\n"
      ],
      "text/plain": [
       "[1] 3 5"
      ]
     },
     "metadata": {},
     "output_type": "display_data"
    }
   ],
   "source": [
    "cross$subsets[cross$which == 1,1]\n",
    "cross$subsets[cross$which == 1,2]"
   ]
  }
 ],
 "metadata": {
  "kernelspec": {
   "display_name": "R",
   "language": "R",
   "name": "ir"
  },
  "language_info": {
   "codemirror_mode": "r",
   "file_extension": ".r",
   "mimetype": "text/x-r-source",
   "name": "R",
   "pygments_lexer": "r",
   "version": "4.0.5"
  }
 },
 "nbformat": 4,
 "nbformat_minor": 5
}
