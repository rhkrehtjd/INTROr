{
 "cells": [
  {
   "cell_type": "markdown",
   "id": "ed4129d6-c111-4e93-9d1b-1f3d56db83d5",
   "metadata": {},
   "source": [
    "# 두 집단 검정"
   ]
  },
  {
   "cell_type": "markdown",
   "id": "8a76f608-a569-4120-900f-7f6d7b5a330c",
   "metadata": {},
   "source": [
    "- 독립된 두 집단 간의 비율 차이 검정과 평균 차이 검정에 대해서 알아보자\n",
    "- 비율 차이 검정은 기술통계량으로 빈도수에 대한 비율에 의미가 있으며, 평균 차이 검정은 표본 평균에 의미가 있다. "
   ]
  },
  {
   "cell_type": "markdown",
   "id": "52a2273a-8b2b-4557-924e-2659b80c59d3",
   "metadata": {},
   "source": [
    "> 두 집단 비율 검정\n",
    "\n",
    "    두 집단을 대상으로 비율 차이 검정을 통해서 두 집단의 비율이 같은지 또는 다른지를 검정한다.\n",
    "    분석할 데이터를 대상으로 전처리 과정을 거친 후 비교 대상의 두 집단을 분류하고 비율 차이 검정을 수행한다. 단일 표본 이항 분포 비율 검정은 binom.test() 함수를 이용하지만 독립 표본 이항분포 비율은 검정은 prop.test()함수를 이용한다. "
   ]
  },
  {
   "cell_type": "markdown",
   "id": "7e7fb288-c9db-4476-a95a-f55f8b9f6a70",
   "metadata": {},
   "source": [
    "- 귀무가설 : 두 가지 교육 방법에 따라 교육생의 만족율에 차이가 없다.\n",
    "- 대립가설 : 차이가 있다. \n",
    "- 집단별 subset 작성과 교차 분석\n",
    "  - 교육 방법에 따라서 두 집단으로 subset을 작성한 후 전처리 과정을 통해서 데이터를 정제한다. "
   ]
  },
  {
   "cell_type": "code",
   "execution_count": 1,
   "id": "372c8952-c58d-4f64-8a5e-e2033a7118f3",
   "metadata": {},
   "outputs": [
    {
     "data": {
      "text/html": [
       "<table class=\"dataframe\">\n",
       "<caption>A data.frame: 3 × 5</caption>\n",
       "<thead>\n",
       "\t<tr><th></th><th scope=col>no</th><th scope=col>gender</th><th scope=col>method</th><th scope=col>survey</th><th scope=col>score</th></tr>\n",
       "\t<tr><th></th><th scope=col>&lt;int&gt;</th><th scope=col>&lt;int&gt;</th><th scope=col>&lt;int&gt;</th><th scope=col>&lt;int&gt;</th><th scope=col>&lt;dbl&gt;</th></tr>\n",
       "</thead>\n",
       "<tbody>\n",
       "\t<tr><th scope=row>1</th><td>1</td><td>1</td><td>1</td><td>1</td><td>5.1</td></tr>\n",
       "\t<tr><th scope=row>2</th><td>2</td><td>1</td><td>1</td><td>0</td><td>5.2</td></tr>\n",
       "\t<tr><th scope=row>3</th><td>3</td><td>1</td><td>1</td><td>1</td><td>4.7</td></tr>\n",
       "</tbody>\n",
       "</table>\n"
      ],
      "text/latex": [
       "A data.frame: 3 × 5\n",
       "\\begin{tabular}{r|lllll}\n",
       "  & no & gender & method & survey & score\\\\\n",
       "  & <int> & <int> & <int> & <int> & <dbl>\\\\\n",
       "\\hline\n",
       "\t1 & 1 & 1 & 1 & 1 & 5.1\\\\\n",
       "\t2 & 2 & 1 & 1 & 0 & 5.2\\\\\n",
       "\t3 & 3 & 1 & 1 & 1 & 4.7\\\\\n",
       "\\end{tabular}\n"
      ],
      "text/markdown": [
       "\n",
       "A data.frame: 3 × 5\n",
       "\n",
       "| <!--/--> | no &lt;int&gt; | gender &lt;int&gt; | method &lt;int&gt; | survey &lt;int&gt; | score &lt;dbl&gt; |\n",
       "|---|---|---|---|---|---|\n",
       "| 1 | 1 | 1 | 1 | 1 | 5.1 |\n",
       "| 2 | 2 | 1 | 1 | 0 | 5.2 |\n",
       "| 3 | 3 | 1 | 1 | 1 | 4.7 |\n",
       "\n"
      ],
      "text/plain": [
       "  no gender method survey score\n",
       "1 1  1      1      1      5.1  \n",
       "2 2  1      1      0      5.2  \n",
       "3 3  1      1      1      4.7  "
      ]
     },
     "metadata": {},
     "output_type": "display_data"
    }
   ],
   "source": [
    "data = read.csv('two_sample.csv', header=T)\n",
    "head(data,3)"
   ]
  },
  {
   "cell_type": "code",
   "execution_count": 2,
   "id": "5c674a4c-e30b-4303-bc80-725c9f379b16",
   "metadata": {},
   "outputs": [],
   "source": [
    "# 두 집단의 subset 작성 및 데이터 전처리\n",
    "x = data$method # 교육방법 = 1,2\n",
    "y = data$survey # 만족도 = 0,1 (불만족,만족)"
   ]
  },
  {
   "cell_type": "code",
   "execution_count": 3,
   "id": "ff74b3f0-3487-48ca-b69e-1b82f3435fc1",
   "metadata": {},
   "outputs": [
    {
     "data": {
      "text/plain": [
       "x\n",
       "  1   2 \n",
       "150 150 "
      ]
     },
     "metadata": {},
     "output_type": "display_data"
    },
    {
     "data": {
      "text/plain": [
       "y\n",
       "  0   1 \n",
       " 55 245 "
      ]
     },
     "metadata": {},
     "output_type": "display_data"
    }
   ],
   "source": [
    "# 집단별 빈도분석\n",
    "table(x)\n",
    "table(y)"
   ]
  },
  {
   "cell_type": "code",
   "execution_count": 4,
   "id": "383db3f7-1878-48d0-9824-e187425b171d",
   "metadata": {},
   "outputs": [
    {
     "data": {
      "text/plain": [
       "   y\n",
       "x     0   1\n",
       "  1  40 110\n",
       "  2  15 135"
      ]
     },
     "metadata": {},
     "output_type": "display_data"
    }
   ],
   "source": [
    "# 두 변수에 대한 교차분석\n",
    "table(x,y, useNA = 'ifany')\n",
    "# useNA = 'ifany' : 결측치까지 출력"
   ]
  },
  {
   "cell_type": "markdown",
   "id": "fc44cfbc-4ee4-46fc-8e5f-e70962e335d7",
   "metadata": {},
   "source": [
    "- 명목척도의 비율을 바탕으로 prop.test() 함수를 이용하여 두 집단 간 이항분포의 양측 검정을 통해서 검정 통계량을 구한 후 이를 이용하여 가설을 검정한다. "
   ]
  },
  {
   "cell_type": "code",
   "execution_count": 5,
   "id": "467d5a7c-d906-4aa1-898e-c9836e1333d4",
   "metadata": {},
   "outputs": [
    {
     "data": {
      "text/plain": [
       "\n",
       "\t2-sample test for equality of proportions with continuity correction\n",
       "\n",
       "data:  c(110, 135) out of c(150, 150)\n",
       "X-squared = 12.824, df = 1, p-value = 0.0003422\n",
       "alternative hypothesis: two.sided\n",
       "95 percent confidence interval:\n",
       " -0.25884941 -0.07448392\n",
       "sample estimates:\n",
       "   prop 1    prop 2 \n",
       "0.7333333 0.9000000 \n"
      ]
     },
     "metadata": {},
     "output_type": "display_data"
    }
   ],
   "source": [
    "prop.test(c(110,135),c(150,150),alternative = 'two.sided', conf.level = 0.95)"
   ]
  },
  {
   "cell_type": "markdown",
   "id": "dfd3af4d-ae87-49a7-9682-f440030f9bc7",
   "metadata": {},
   "source": [
    "- p-value 값은 유의수준보다 작기 때문에 두 교육 방법 간의 만족도 차이가 있다고 볼 수 있다.\n",
    "- 즉, 차이가 없다는 귀무가설을 기각하고 차이가 있다는 연구가설, 대립가설을 채택한다. "
   ]
  },
  {
   "cell_type": "markdown",
   "id": "ed016051-4b75-44ee-ac74-143975a26647",
   "metadata": {},
   "source": [
    "- 이제 첫 번째 교육 방법과 두 번째 교육 방법을 대상으로 방향성을 갖는 연구가설을 검증해보자"
   ]
  },
  {
   "cell_type": "code",
   "execution_count": 7,
   "id": "e8220dfd-0621-416d-a2a8-eaede9cfb572",
   "metadata": {},
   "outputs": [
    {
     "data": {
      "text/plain": [
       "\n",
       "\t2-sample test for equality of proportions with continuity correction\n",
       "\n",
       "data:  c(110, 135) out of c(150, 150)\n",
       "X-squared = 12.824, df = 1, p-value = 0.9998\n",
       "alternative hypothesis: greater\n",
       "95 percent confidence interval:\n",
       " -0.2451007  1.0000000\n",
       "sample estimates:\n",
       "   prop 1    prop 2 \n",
       "0.7333333 0.9000000 \n"
      ]
     },
     "metadata": {},
     "output_type": "display_data"
    },
    {
     "data": {
      "text/plain": [
       "\n",
       "\t2-sample test for equality of proportions with continuity correction\n",
       "\n",
       "data:  c(110, 135) out of c(150, 150)\n",
       "X-squared = 12.824, df = 1, p-value = 0.0001711\n",
       "alternative hypothesis: less\n",
       "95 percent confidence interval:\n",
       " -1.00000000 -0.08823265\n",
       "sample estimates:\n",
       "   prop 1    prop 2 \n",
       "0.7333333 0.9000000 \n"
      ]
     },
     "metadata": {},
     "output_type": "display_data"
    }
   ],
   "source": [
    "prop.test(c(110,135),c(150,150),alternative = 'greater', conf.level = 0.95)\n",
    "prop.test(c(110,135),c(150,150),alternative = 'less', conf.level = 0.95)"
   ]
  },
  {
   "cell_type": "markdown",
   "id": "f9f4095d-f669-48c1-b5c2-dd9c06ae45c6",
   "metadata": {},
   "source": [
    "- greater는 p-value 값이 0.9998이고(귀무가설 채택) less는 p-value 값이 유의수준보다 작으므로(귀무가설 기각) 두 번째 교육 방법이 만족도가 더 크다고 할 수 있다. "
   ]
  },
  {
   "cell_type": "markdown",
   "id": "21d148d0-78e9-4fff-96a0-eb546103f03f",
   "metadata": {},
   "source": [
    "> 두 집단 평균 검정(독립 표본 T-검정)\n",
    "\n",
    "    두 집단을 대상으로 평균 차이 검정을 통해서 두 집단의 평균이 같은지 또는 다른지를 검정하는 방법.\n",
    "    분석할 데이터를 전처리 과정을 거친 후 비교 대상의 두 집단을 분류하고, 평균 차이 검정을 위해서 기술통계량으로 평균을 구한다. 독립 표본평균 검정은 두 집단 간 분산의 동질성 검증(정규분포 검정) 여부를 판정한 후 결과에 따라서 T-검정 또는 웰콕스 검정을 수행한다.\n",
    "    \n",
    "    두 검정 방법의 선택은 단일 표본평균 검정과 동일하다."
   ]
  },
  {
   "cell_type": "markdown",
   "id": "46efe7a2-9ea5-4bff-9296-a448ed71d099",
   "metadata": {},
   "source": [
    "- 귀무가설 : 교육방법에 따른 두 집단 간 실기시험의 평균차이가 없다. \n",
    "- 대립가설 : 차이가 있다."
   ]
  },
  {
   "cell_type": "code",
   "execution_count": 8,
   "id": "e39a61c9-a803-4643-9fd8-2338f8376375",
   "metadata": {},
   "outputs": [
    {
     "data": {
      "text/html": [
       "<table class=\"dataframe\">\n",
       "<caption>A data.frame: 3 × 5</caption>\n",
       "<thead>\n",
       "\t<tr><th></th><th scope=col>no</th><th scope=col>gender</th><th scope=col>method</th><th scope=col>survey</th><th scope=col>score</th></tr>\n",
       "\t<tr><th></th><th scope=col>&lt;int&gt;</th><th scope=col>&lt;int&gt;</th><th scope=col>&lt;int&gt;</th><th scope=col>&lt;int&gt;</th><th scope=col>&lt;dbl&gt;</th></tr>\n",
       "</thead>\n",
       "<tbody>\n",
       "\t<tr><th scope=row>1</th><td>1</td><td>1</td><td>1</td><td>1</td><td>5.1</td></tr>\n",
       "\t<tr><th scope=row>2</th><td>2</td><td>1</td><td>1</td><td>0</td><td>5.2</td></tr>\n",
       "\t<tr><th scope=row>3</th><td>3</td><td>1</td><td>1</td><td>1</td><td>4.7</td></tr>\n",
       "</tbody>\n",
       "</table>\n"
      ],
      "text/latex": [
       "A data.frame: 3 × 5\n",
       "\\begin{tabular}{r|lllll}\n",
       "  & no & gender & method & survey & score\\\\\n",
       "  & <int> & <int> & <int> & <int> & <dbl>\\\\\n",
       "\\hline\n",
       "\t1 & 1 & 1 & 1 & 1 & 5.1\\\\\n",
       "\t2 & 2 & 1 & 1 & 0 & 5.2\\\\\n",
       "\t3 & 3 & 1 & 1 & 1 & 4.7\\\\\n",
       "\\end{tabular}\n"
      ],
      "text/markdown": [
       "\n",
       "A data.frame: 3 × 5\n",
       "\n",
       "| <!--/--> | no &lt;int&gt; | gender &lt;int&gt; | method &lt;int&gt; | survey &lt;int&gt; | score &lt;dbl&gt; |\n",
       "|---|---|---|---|---|---|\n",
       "| 1 | 1 | 1 | 1 | 1 | 5.1 |\n",
       "| 2 | 2 | 1 | 1 | 0 | 5.2 |\n",
       "| 3 | 3 | 1 | 1 | 1 | 4.7 |\n",
       "\n"
      ],
      "text/plain": [
       "  no gender method survey score\n",
       "1 1  1      1      1      5.1  \n",
       "2 2  1      1      0      5.2  \n",
       "3 3  1      1      1      4.7  "
      ]
     },
     "metadata": {},
     "output_type": "display_data"
    }
   ],
   "source": [
    "head(data,3)"
   ]
  },
  {
   "cell_type": "code",
   "execution_count": 9,
   "id": "b1a61bca-6fd2-4e54-8d9c-d4bccfea452a",
   "metadata": {},
   "outputs": [
    {
     "data": {
      "text/plain": [
       "       no             gender         method        survey           score      \n",
       " Min.   :  1.00   Min.   :1.00   Min.   :1.0   Min.   :0.0000   Min.   :3.000  \n",
       " 1st Qu.: 75.75   1st Qu.:1.00   1st Qu.:1.0   1st Qu.:1.0000   1st Qu.:5.100  \n",
       " Median :150.50   Median :1.00   Median :1.5   Median :1.0000   Median :5.600  \n",
       " Mean   :150.50   Mean   :1.42   Mean   :1.5   Mean   :0.8167   Mean   :5.685  \n",
       " 3rd Qu.:225.25   3rd Qu.:2.00   3rd Qu.:2.0   3rd Qu.:1.0000   3rd Qu.:6.300  \n",
       " Max.   :300.00   Max.   :2.00   Max.   :2.0   Max.   :1.0000   Max.   :8.000  \n",
       "                                                                NA's   :73     "
      ]
     },
     "metadata": {},
     "output_type": "display_data"
    }
   ],
   "source": [
    "summary(data)"
   ]
  },
  {
   "cell_type": "markdown",
   "id": "4050058e-a164-4c99-a304-7ec3b90ab7fc",
   "metadata": {},
   "source": [
    "- NA = 73개 존재"
   ]
  },
  {
   "cell_type": "code",
   "execution_count": 10,
   "id": "96dd39e5-58fc-48b3-a664-be5d022cec91",
   "metadata": {},
   "outputs": [
    {
     "data": {
      "text/html": [
       "<table class=\"dataframe\">\n",
       "<caption>A data.frame: 3 × 2</caption>\n",
       "<thead>\n",
       "\t<tr><th></th><th scope=col>method</th><th scope=col>score</th></tr>\n",
       "\t<tr><th></th><th scope=col>&lt;int&gt;</th><th scope=col>&lt;dbl&gt;</th></tr>\n",
       "</thead>\n",
       "<tbody>\n",
       "\t<tr><th scope=row>1</th><td>1</td><td>5.1</td></tr>\n",
       "\t<tr><th scope=row>2</th><td>1</td><td>5.2</td></tr>\n",
       "\t<tr><th scope=row>3</th><td>1</td><td>4.7</td></tr>\n",
       "</tbody>\n",
       "</table>\n"
      ],
      "text/latex": [
       "A data.frame: 3 × 2\n",
       "\\begin{tabular}{r|ll}\n",
       "  & method & score\\\\\n",
       "  & <int> & <dbl>\\\\\n",
       "\\hline\n",
       "\t1 & 1 & 5.1\\\\\n",
       "\t2 & 1 & 5.2\\\\\n",
       "\t3 & 1 & 4.7\\\\\n",
       "\\end{tabular}\n"
      ],
      "text/markdown": [
       "\n",
       "A data.frame: 3 × 2\n",
       "\n",
       "| <!--/--> | method &lt;int&gt; | score &lt;dbl&gt; |\n",
       "|---|---|---|\n",
       "| 1 | 1 | 5.1 |\n",
       "| 2 | 1 | 5.2 |\n",
       "| 3 | 1 | 4.7 |\n",
       "\n"
      ],
      "text/plain": [
       "  method score\n",
       "1 1      5.1  \n",
       "2 1      5.2  \n",
       "3 1      4.7  "
      ]
     },
     "metadata": {},
     "output_type": "display_data"
    }
   ],
   "source": [
    "# 두 집단의 subset 작성 및 데이터 전처리\n",
    "result = subset(data, !is.na(score), c(method,score))\n",
    "head(result,3)"
   ]
  },
  {
   "cell_type": "code",
   "execution_count": 11,
   "id": "d9d4f546-cd53-47fb-a39e-58324595268d",
   "metadata": {},
   "outputs": [],
   "source": [
    "# 데이터 분리\n",
    "a = subset(result, method == 1)\n",
    "b = subset(result, method == 2)\n",
    "a1 = a$score\n",
    "b1 = b$score"
   ]
  },
  {
   "cell_type": "code",
   "execution_count": 12,
   "id": "a434f3c9-460d-4dcb-badb-32fd419ee81f",
   "metadata": {},
   "outputs": [
    {
     "data": {
      "text/html": [
       "109"
      ],
      "text/latex": [
       "109"
      ],
      "text/markdown": [
       "109"
      ],
      "text/plain": [
       "[1] 109"
      ]
     },
     "metadata": {},
     "output_type": "display_data"
    },
    {
     "data": {
      "text/html": [
       "118"
      ],
      "text/latex": [
       "118"
      ],
      "text/markdown": [
       "118"
      ],
      "text/plain": [
       "[1] 118"
      ]
     },
     "metadata": {},
     "output_type": "display_data"
    },
    {
     "data": {
      "text/html": [
       "5.55688073394495"
      ],
      "text/latex": [
       "5.55688073394495"
      ],
      "text/markdown": [
       "5.55688073394495"
      ],
      "text/plain": [
       "[1] 5.556881"
      ]
     },
     "metadata": {},
     "output_type": "display_data"
    },
    {
     "data": {
      "text/html": [
       "5.80338983050847"
      ],
      "text/latex": [
       "5.80338983050847"
      ],
      "text/markdown": [
       "5.80338983050847"
      ],
      "text/plain": [
       "[1] 5.80339"
      ]
     },
     "metadata": {},
     "output_type": "display_data"
    }
   ],
   "source": [
    "length(a1)\n",
    "length(b1)\n",
    "mean(a1)\n",
    "mean(b1)"
   ]
  },
  {
   "cell_type": "markdown",
   "id": "f1899ad1-62ad-4f93-b00a-50d4eeaf74e0",
   "metadata": {},
   "source": [
    "---"
   ]
  },
  {
   "cell_type": "markdown",
   "id": "20541194-c06f-454d-b97c-e7eab287ae73",
   "metadata": {},
   "source": [
    "- 동질성 검정\n",
    "  - 모집단에서 추출된 표본을 대상으로 분산의 동질성 검정(정규분포 검정)은 var.test()함수를 이용한다. \n",
    "  - 검정결과가 유의수준 0.05보다 큰 경우(귀무가설을 채택한다. 이때, 동직성 검정의 귀무가설은 두 집단 간 분포의 모양이 동질적이다라는 것이다.) 두 집단 간 간 분포의 모양이 동질하다고 할 수 있다.\n",
    "  - 분산의 동질성 검정\n",
    "    - 분산의 동질성 검정은 등분산 가정과 등분산 가정되지 않음(이분산)에 따라서 결과가 달라진다. 등분산은 모집단에서 추출된 표본이 균등하게 추출된 것이고, 이분산은 추출된 표본이 특정 계층으로 편중되어 추출되는 경우이다. "
   ]
  },
  {
   "cell_type": "code",
   "execution_count": 13,
   "id": "b798e20f-ac0e-4048-ab17-93de392f0b1b",
   "metadata": {},
   "outputs": [
    {
     "data": {
      "text/plain": [
       "\n",
       "\tF test to compare two variances\n",
       "\n",
       "data:  a1 and b1\n",
       "F = 1.2158, num df = 108, denom df = 117, p-value = 0.3002\n",
       "alternative hypothesis: true ratio of variances is not equal to 1\n",
       "95 percent confidence interval:\n",
       " 0.8394729 1.7656728\n",
       "sample estimates:\n",
       "ratio of variances \n",
       "          1.215768 \n"
      ]
     },
     "metadata": {},
     "output_type": "display_data"
    }
   ],
   "source": [
    "var.test(a1,b1)"
   ]
  },
  {
   "cell_type": "markdown",
   "id": "79ca1e82-5908-4871-b316-cd9a3576d932",
   "metadata": {},
   "source": [
    "- p-value 값이 유의수준보다 크기 때문에 귀무가설을 채택한다. \n",
    "- 즉, 두 집단 간의 분포 형태가 동질하다고 볼 수 있다. "
   ]
  },
  {
   "cell_type": "markdown",
   "id": "d1df458e-e48e-43e3-9ce1-4f26594e29bf",
   "metadata": {},
   "source": [
    "---"
   ]
  },
  {
   "cell_type": "markdown",
   "id": "a8a7a36b-85b9-4b1a-bffb-f09bf4ad2a98",
   "metadata": {},
   "source": [
    "- 두 집단 평균 차이 검정\n",
    "  - 두 집단 간의 동질성 검정에서 분포 형태가 동질하다고 분석되었기 때문에 t.test() 함수(만약 동질하지 않았다면 웰콕스 검정)를 이용하여 두 집단 간 평균 차이 검정을 수행한다. "
   ]
  },
  {
   "cell_type": "code",
   "execution_count": 14,
   "id": "4e3c300c-14e2-4978-96bc-0761827072a1",
   "metadata": {},
   "outputs": [
    {
     "data": {
      "text/plain": [
       "\n",
       "\tWelch Two Sample t-test\n",
       "\n",
       "data:  a1 and b1\n",
       "t = -2.0547, df = 218.19, p-value = 0.0411\n",
       "alternative hypothesis: true difference in means is not equal to 0\n",
       "95 percent confidence interval:\n",
       " -0.48296687 -0.01005133\n",
       "sample estimates:\n",
       "mean of x mean of y \n",
       " 5.556881  5.803390 \n"
      ]
     },
     "metadata": {},
     "output_type": "display_data"
    }
   ],
   "source": [
    "# 단계 1 : 양측 검정\n",
    "t.test(a1,b1,alter = 'two.sided', conf.int = T, conf.level = 0.95)"
   ]
  },
  {
   "cell_type": "markdown",
   "id": "d4470edc-44bd-46c6-aaa2-e65324e16fd0",
   "metadata": {},
   "source": [
    "- 귀무가설 기각, 연구가설 채택\n",
    "- 즉 차이가 있음을 알 수 있다. "
   ]
  },
  {
   "cell_type": "code",
   "execution_count": 16,
   "id": "97af1a61-3ff4-4117-9a12-9bde226ed501",
   "metadata": {},
   "outputs": [
    {
     "data": {
      "text/plain": [
       "\n",
       "\tWelch Two Sample t-test\n",
       "\n",
       "data:  a1 and b1\n",
       "t = -2.0547, df = 218.19, p-value = 0.9794\n",
       "alternative hypothesis: true difference in means is greater than 0\n",
       "95 percent confidence interval:\n",
       " -0.4446915        Inf\n",
       "sample estimates:\n",
       "mean of x mean of y \n",
       " 5.556881  5.803390 \n"
      ]
     },
     "metadata": {},
     "output_type": "display_data"
    },
    {
     "data": {
      "text/plain": [
       "\n",
       "\tWelch Two Sample t-test\n",
       "\n",
       "data:  a1 and b1\n",
       "t = -2.0547, df = 218.19, p-value = 0.02055\n",
       "alternative hypothesis: true difference in means is less than 0\n",
       "95 percent confidence interval:\n",
       "        -Inf -0.04832672\n",
       "sample estimates:\n",
       "mean of x mean of y \n",
       " 5.556881  5.803390 \n"
      ]
     },
     "metadata": {},
     "output_type": "display_data"
    }
   ],
   "source": [
    "# 단계 2 : 방향성을 갖는 단측 가설 검정\n",
    "t.test(a1,b1,alter = 'greater', conf.int = T, conf.level = 0.95)\n",
    "t.test(a1,b1,alter = 'less', conf.int = T, conf.level = 0.95)"
   ]
  },
  {
   "cell_type": "markdown",
   "id": "982cf4ce-7738-44d1-82b8-cfa7af1f3cfd",
   "metadata": {},
   "source": [
    "- b1 집단의 평균이 더 큰 것을 알 수 있다. "
   ]
  },
  {
   "cell_type": "markdown",
   "id": "78edd126-dffb-4186-9cba-1fd0d822613d",
   "metadata": {},
   "source": [
    "---"
   ]
  },
  {
   "cell_type": "markdown",
   "id": "c6da984b-16f7-4dbf-9fae-07c0df016efa",
   "metadata": {},
   "source": [
    "- 대응 두 집단 평균 검정(대응 표본 T-검정)\n",
    "  - 동일한 표본을 대상으로 측정된 두 변수의 평균 차이를 검정하는 분석 방법이다. \n",
    "  - 일반적으로 사전검사와 사후검사의 평균 차이를 검증할 때 많이 이용한다. \n",
    "  - 예를 들면, 교수법 프로그램을 적용하기 전 학생들의 학습력과 교수법 프로그램 적용 후 학생들의 학습력에 차이가 있는지를 검정한다. \n",
    "  - 분석할 데이터를 전처리 과정을 거친 후, 전과 후로 두 집단을 분류하고, 평균 차이 검정을 위해서 기술통계량으로 평균을 구한다. "
   ]
  },
  {
   "cell_type": "markdown",
   "id": "aeaa9d83-7959-4770-84b6-993bd491e742",
   "metadata": {},
   "source": [
    "- 귀무가설 : 교수법 적용 여부와 관련 없이 학생들의 학습력에는 차이가 없다.\n",
    "- 대립가설 : 차이가 있다. "
   ]
  },
  {
   "cell_type": "code",
   "execution_count": 19,
   "id": "d2c69e20-eb1c-4563-8240-28bbbd15ab5d",
   "metadata": {},
   "outputs": [
    {
     "data": {
      "text/html": [
       "<table class=\"dataframe\">\n",
       "<caption>A data.frame: 3 × 3</caption>\n",
       "<thead>\n",
       "\t<tr><th></th><th scope=col>no</th><th scope=col>before</th><th scope=col>after</th></tr>\n",
       "\t<tr><th></th><th scope=col>&lt;int&gt;</th><th scope=col>&lt;dbl&gt;</th><th scope=col>&lt;dbl&gt;</th></tr>\n",
       "</thead>\n",
       "<tbody>\n",
       "\t<tr><th scope=row>1</th><td>1</td><td>5.1</td><td>6.3</td></tr>\n",
       "\t<tr><th scope=row>2</th><td>2</td><td>5.2</td><td>6.3</td></tr>\n",
       "\t<tr><th scope=row>3</th><td>3</td><td>4.7</td><td>6.5</td></tr>\n",
       "</tbody>\n",
       "</table>\n"
      ],
      "text/latex": [
       "A data.frame: 3 × 3\n",
       "\\begin{tabular}{r|lll}\n",
       "  & no & before & after\\\\\n",
       "  & <int> & <dbl> & <dbl>\\\\\n",
       "\\hline\n",
       "\t1 & 1 & 5.1 & 6.3\\\\\n",
       "\t2 & 2 & 5.2 & 6.3\\\\\n",
       "\t3 & 3 & 4.7 & 6.5\\\\\n",
       "\\end{tabular}\n"
      ],
      "text/markdown": [
       "\n",
       "A data.frame: 3 × 3\n",
       "\n",
       "| <!--/--> | no &lt;int&gt; | before &lt;dbl&gt; | after &lt;dbl&gt; |\n",
       "|---|---|---|---|\n",
       "| 1 | 1 | 5.1 | 6.3 |\n",
       "| 2 | 2 | 5.2 | 6.3 |\n",
       "| 3 | 3 | 4.7 | 6.5 |\n",
       "\n"
      ],
      "text/plain": [
       "  no before after\n",
       "1 1  5.1    6.3  \n",
       "2 2  5.2    6.3  \n",
       "3 3  4.7    6.5  "
      ]
     },
     "metadata": {},
     "output_type": "display_data"
    }
   ],
   "source": [
    "data = read.csv('paired_sample.csv',header=T)\n",
    "head(data,3)"
   ]
  },
  {
   "cell_type": "code",
   "execution_count": 20,
   "id": "22e53321-d685-4c1a-9087-f65b3cbe8fb4",
   "metadata": {},
   "outputs": [
    {
     "data": {
      "text/html": [
       "<style>\n",
       ".list-inline {list-style: none; margin:0; padding: 0}\n",
       ".list-inline>li {display: inline-block}\n",
       ".list-inline>li:not(:last-child)::after {content: \"\\00b7\"; padding: 0 .5ex}\n",
       "</style>\n",
       "<ol class=list-inline><li>5.1</li><li>5.2</li><li>4.7</li></ol>\n"
      ],
      "text/latex": [
       "\\begin{enumerate*}\n",
       "\\item 5.1\n",
       "\\item 5.2\n",
       "\\item 4.7\n",
       "\\end{enumerate*}\n"
      ],
      "text/markdown": [
       "1. 5.1\n",
       "2. 5.2\n",
       "3. 4.7\n",
       "\n",
       "\n"
      ],
      "text/plain": [
       "[1] 5.1 5.2 4.7"
      ]
     },
     "metadata": {},
     "output_type": "display_data"
    },
    {
     "data": {
      "text/html": [
       "<style>\n",
       ".list-inline {list-style: none; margin:0; padding: 0}\n",
       ".list-inline>li {display: inline-block}\n",
       ".list-inline>li:not(:last-child)::after {content: \"\\00b7\"; padding: 0 .5ex}\n",
       "</style>\n",
       "<ol class=list-inline><li>6.3</li><li>6.3</li><li>6.5</li></ol>\n"
      ],
      "text/latex": [
       "\\begin{enumerate*}\n",
       "\\item 6.3\n",
       "\\item 6.3\n",
       "\\item 6.5\n",
       "\\end{enumerate*}\n"
      ],
      "text/markdown": [
       "1. 6.3\n",
       "2. 6.3\n",
       "3. 6.5\n",
       "\n",
       "\n"
      ],
      "text/plain": [
       "[1] 6.3 6.3 6.5"
      ]
     },
     "metadata": {},
     "output_type": "display_data"
    }
   ],
   "source": [
    "# 대응 두 집단 subset 생성\n",
    "result = subset(data, !is.na(after), c(before,after))\n",
    "x = result$before\n",
    "y = result$after\n",
    "head(x,3);head(y,3)"
   ]
  },
  {
   "cell_type": "code",
   "execution_count": 22,
   "id": "903aa842-5c21-49ea-9c09-cf916eea6a36",
   "metadata": {},
   "outputs": [
    {
     "data": {
      "text/html": [
       "96"
      ],
      "text/latex": [
       "96"
      ],
      "text/markdown": [
       "96"
      ],
      "text/plain": [
       "[1] 96"
      ]
     },
     "metadata": {},
     "output_type": "display_data"
    },
    {
     "data": {
      "text/html": [
       "96"
      ],
      "text/latex": [
       "96"
      ],
      "text/markdown": [
       "96"
      ],
      "text/plain": [
       "[1] 96"
      ]
     },
     "metadata": {},
     "output_type": "display_data"
    },
    {
     "data": {
      "text/html": [
       "5.16875"
      ],
      "text/latex": [
       "5.16875"
      ],
      "text/markdown": [
       "5.16875"
      ],
      "text/plain": [
       "[1] 5.16875"
      ]
     },
     "metadata": {},
     "output_type": "display_data"
    },
    {
     "data": {
      "text/html": [
       "6.22083333333333"
      ],
      "text/latex": [
       "6.22083333333333"
      ],
      "text/markdown": [
       "6.22083333333333"
      ],
      "text/plain": [
       "[1] 6.220833"
      ]
     },
     "metadata": {},
     "output_type": "display_data"
    }
   ],
   "source": [
    "# 기술통계량 계산\n",
    "length(x)\n",
    "length(y)\n",
    "# 기술통계량을 계산할 때, 대응표본이면 서로 짝을 이루고 있기 때문에 표본 수가 서로 동일해야 한다. \n",
    "mean(x)\n",
    "mean(y)"
   ]
  },
  {
   "cell_type": "markdown",
   "id": "61c9ed9a-9a1e-4b9c-af9f-12d1e7ce75f1",
   "metadata": {},
   "source": [
    "- 동질성 검정 \n",
    "  - 독립 표본의 동질성 검정과 동일하게 var.test() 함수를 이용한다. \n",
    "  - 이때 '귀무가설은 차이가 없다'이기 때문에, 유의확률이 유의수준보다 크면 두 집단 간 분포의 몽양이 동질하다고 할 수 있다. "
   ]
  },
  {
   "cell_type": "code",
   "execution_count": 23,
   "id": "d4370e1c-15cb-4d6d-b582-e4d22f6998b1",
   "metadata": {},
   "outputs": [
    {
     "data": {
      "text/plain": [
       "\n",
       "\tF test to compare two variances\n",
       "\n",
       "data:  x and y\n",
       "F = 1.0718, num df = 95, denom df = 95, p-value = 0.7361\n",
       "alternative hypothesis: true ratio of variances is not equal to 1\n",
       "95 percent confidence interval:\n",
       " 0.7151477 1.6062992\n",
       "sample estimates:\n",
       "ratio of variances \n",
       "          1.071793 \n"
      ]
     },
     "metadata": {},
     "output_type": "display_data"
    }
   ],
   "source": [
    "var.test(x,y,paired=T)"
   ]
  },
  {
   "cell_type": "markdown",
   "id": "ad2c7dee-3a16-4311-b380-48b9561f89d7",
   "metadata": {},
   "source": [
    "- 귀무가설을 채택한다. "
   ]
  },
  {
   "cell_type": "markdown",
   "id": "99692e72-f24d-4670-8391-16895350ce40",
   "metadata": {},
   "source": [
    "- 대응 두 집단 평균 차이 검정\n",
    "  - 대응되는 두 집단 간의 동질성 검정에서 분포 형태가 동질하다고 분석되었다. \n",
    "  - 따라서 윌콕스 검정이 아닌 T-검정을 통해 대응 두 집단 간 평균 차이 검정을 수행한다. "
   ]
  },
  {
   "cell_type": "code",
   "execution_count": 24,
   "id": "cacf294e-61ab-4ac1-96d0-5f9f1bb5aaeb",
   "metadata": {},
   "outputs": [
    {
     "data": {
      "text/plain": [
       "\n",
       "\tPaired t-test\n",
       "\n",
       "data:  x and y\n",
       "t = -13.642, df = 95, p-value < 2.2e-16\n",
       "alternative hypothesis: true difference in means is not equal to 0\n",
       "95 percent confidence interval:\n",
       " -1.205184 -0.898983\n",
       "sample estimates:\n",
       "mean of the differences \n",
       "              -1.052083 \n"
      ]
     },
     "metadata": {},
     "output_type": "display_data"
    }
   ],
   "source": [
    "# 단계 1 : 양측 검정\n",
    "t.test(x,y,paired = T, alter = 'two.sided', conf.int=T, conf.level = 0.95)"
   ]
  },
  {
   "cell_type": "markdown",
   "id": "ec178544-a695-4ada-8597-fb32f392b578",
   "metadata": {},
   "source": [
    "- 귀무가설 기각\n",
    "- 차이가 있음을 알 수 있다. "
   ]
  },
  {
   "cell_type": "code",
   "execution_count": 26,
   "id": "660f065e-6034-458e-8857-d4dd80d75a27",
   "metadata": {},
   "outputs": [
    {
     "data": {
      "text/plain": [
       "\n",
       "\tPaired t-test\n",
       "\n",
       "data:  x and y\n",
       "t = -13.642, df = 95, p-value = 1\n",
       "alternative hypothesis: true difference in means is greater than 0\n",
       "95 percent confidence interval:\n",
       " -1.180182       Inf\n",
       "sample estimates:\n",
       "mean of the differences \n",
       "              -1.052083 \n"
      ]
     },
     "metadata": {},
     "output_type": "display_data"
    },
    {
     "data": {
      "text/plain": [
       "\n",
       "\tPaired t-test\n",
       "\n",
       "data:  x and y\n",
       "t = -13.642, df = 95, p-value < 2.2e-16\n",
       "alternative hypothesis: true difference in means is less than 0\n",
       "95 percent confidence interval:\n",
       "       -Inf -0.9239849\n",
       "sample estimates:\n",
       "mean of the differences \n",
       "              -1.052083 \n"
      ]
     },
     "metadata": {},
     "output_type": "display_data"
    }
   ],
   "source": [
    "# 단계 2 : 방향성을 갖는 단측 가설 검정\n",
    "t.test(x,y,paired = T, alter = 'greater', conf.int=T, conf.level = 0.95)\n",
    "t.test(x,y,paired = T, alter = 'less', conf.int=T, conf.level = 0.95)"
   ]
  },
  {
   "cell_type": "markdown",
   "id": "b5fcbe5b-124e-458c-b265-941df519e668",
   "metadata": {},
   "source": [
    "- y집단의 평균이 더 큰 것을 알 수 있다. "
   ]
  },
  {
   "cell_type": "markdown",
   "id": "f57137a9-7f3b-4392-81e9-537aa4ee10c7",
   "metadata": {},
   "source": [
    "---"
   ]
  },
  {
   "cell_type": "markdown",
   "id": "ec1990ed-d20e-483b-94b6-89724c42d945",
   "metadata": {},
   "source": [
    "- 세 집단 검정\n",
    "  - 독립된 세 집단 이상의 집단 간 비율 차이 검정과 평균 차이 검정에 대해 알아보자"
   ]
  },
  {
   "cell_type": "markdown",
   "id": "d9db4dbb-e1f9-4c04-b17f-2326ed607103",
   "metadata": {},
   "source": [
    "- 세 집단 비율 검정"
   ]
  },
  {
   "cell_type": "code",
   "execution_count": 28,
   "id": "3ffd396f-4faa-4740-bf00-4546bfa51dda",
   "metadata": {},
   "outputs": [
    {
     "data": {
      "text/html": [
       "<table class=\"dataframe\">\n",
       "<caption>A data.frame: 4 × 4</caption>\n",
       "<thead>\n",
       "\t<tr><th></th><th scope=col>no</th><th scope=col>method</th><th scope=col>survey</th><th scope=col>score</th></tr>\n",
       "\t<tr><th></th><th scope=col>&lt;int&gt;</th><th scope=col>&lt;int&gt;</th><th scope=col>&lt;int&gt;</th><th scope=col>&lt;dbl&gt;</th></tr>\n",
       "</thead>\n",
       "<tbody>\n",
       "\t<tr><th scope=row>1</th><td>1</td><td>1</td><td>1</td><td>3.2</td></tr>\n",
       "\t<tr><th scope=row>2</th><td>2</td><td>2</td><td>0</td><td> NA</td></tr>\n",
       "\t<tr><th scope=row>3</th><td>3</td><td>3</td><td>1</td><td>4.7</td></tr>\n",
       "\t<tr><th scope=row>4</th><td>4</td><td>1</td><td>0</td><td> NA</td></tr>\n",
       "</tbody>\n",
       "</table>\n"
      ],
      "text/latex": [
       "A data.frame: 4 × 4\n",
       "\\begin{tabular}{r|llll}\n",
       "  & no & method & survey & score\\\\\n",
       "  & <int> & <int> & <int> & <dbl>\\\\\n",
       "\\hline\n",
       "\t1 & 1 & 1 & 1 & 3.2\\\\\n",
       "\t2 & 2 & 2 & 0 &  NA\\\\\n",
       "\t3 & 3 & 3 & 1 & 4.7\\\\\n",
       "\t4 & 4 & 1 & 0 &  NA\\\\\n",
       "\\end{tabular}\n"
      ],
      "text/markdown": [
       "\n",
       "A data.frame: 4 × 4\n",
       "\n",
       "| <!--/--> | no &lt;int&gt; | method &lt;int&gt; | survey &lt;int&gt; | score &lt;dbl&gt; |\n",
       "|---|---|---|---|---|\n",
       "| 1 | 1 | 1 | 1 | 3.2 |\n",
       "| 2 | 2 | 2 | 0 |  NA |\n",
       "| 3 | 3 | 3 | 1 | 4.7 |\n",
       "| 4 | 4 | 1 | 0 |  NA |\n",
       "\n"
      ],
      "text/plain": [
       "  no method survey score\n",
       "1 1  1      1      3.2  \n",
       "2 2  2      0       NA  \n",
       "3 3  3      1      4.7  \n",
       "4 4  1      0       NA  "
      ]
     },
     "metadata": {},
     "output_type": "display_data"
    }
   ],
   "source": [
    "data = read.csv('three_sample.csv',header=T)\n",
    "head(data,4)"
   ]
  },
  {
   "cell_type": "code",
   "execution_count": 29,
   "id": "5e030f8b-ee35-450d-9332-e2a777bcf4b0",
   "metadata": {},
   "outputs": [],
   "source": [
    "# 세집단 subset 작성, 데이터 전처리\n",
    "method = data$method\n",
    "survey = data$survey"
   ]
  },
  {
   "cell_type": "code",
   "execution_count": 31,
   "id": "7228b22c-fd2c-4386-a34e-82f1a14db6db",
   "metadata": {},
   "outputs": [
    {
     "data": {
      "text/plain": [
       "method\n",
       " 1  2  3 \n",
       "50 50 50 "
      ]
     },
     "metadata": {},
     "output_type": "display_data"
    }
   ],
   "source": [
    "# 기술통계량(빈도수)\n",
    "table(method,useNA = 'ifany')"
   ]
  },
  {
   "cell_type": "code",
   "execution_count": 32,
   "id": "86c88ca6-8052-435d-8312-c12e2c5dbae7",
   "metadata": {},
   "outputs": [
    {
     "data": {
      "text/plain": [
       "      survey\n",
       "method  0  1\n",
       "     1 16 34\n",
       "     2 13 37\n",
       "     3 11 39"
      ]
     },
     "metadata": {},
     "output_type": "display_data"
    }
   ],
   "source": [
    "table(method,survey, useNA = 'ifany')"
   ]
  },
  {
   "cell_type": "markdown",
   "id": "ba7c0da1-0b60-4504-9079-707ffd7543ec",
   "metadata": {},
   "source": [
    "- 세 집단 비율 차이 검정\n",
    "  - 명목척도의 비율을 바탕으로 prop.test() 함수를 이용하여 세 집단 간 이항분포의 양측 검정을 통해서 검정 통계량을 구한 후 이를 이용하여 가설을 검정한다. "
   ]
  },
  {
   "cell_type": "code",
   "execution_count": 33,
   "id": "429b7ab8-710c-4c75-9942-bb7b05a0782e",
   "metadata": {},
   "outputs": [
    {
     "data": {
      "text/plain": [
       "\n",
       "\t3-sample test for equality of proportions without continuity\n",
       "\tcorrection\n",
       "\n",
       "data:  c(34, 37, 39) out of c(50, 50, 50)\n",
       "X-squared = 1.2955, df = 2, p-value = 0.5232\n",
       "alternative hypothesis: two.sided\n",
       "sample estimates:\n",
       "prop 1 prop 2 prop 3 \n",
       "  0.68   0.74   0.78 \n"
      ]
     },
     "metadata": {},
     "output_type": "display_data"
    }
   ],
   "source": [
    "prop.test(c(34,37,39),c(50,50,50))"
   ]
  },
  {
   "cell_type": "markdown",
   "id": "1998fc0e-5b49-499b-b4cb-59e607e28a68",
   "metadata": {},
   "source": [
    "- 귀무가설을 채택한다. \n",
    "- 즉, 세 가지 교육 방법에 따른 집단 간 만족율에 차이가 없다. "
   ]
  },
  {
   "cell_type": "markdown",
   "id": "2614e881-1f41-45b0-a581-65c2e219dc82",
   "metadata": {},
   "source": [
    "---"
   ]
  },
  {
   "cell_type": "markdown",
   "id": "0b0ffac1-e238-4d47-a04a-62b59dfbbb00",
   "metadata": {},
   "source": [
    "- 분산분석(F-검정)\n",
    "  - 분산분석 (ANOVA Analysis)은 T-검정과 동일하게 평균에 의한 차이 검정 방법이다.\n",
    "  - 차이점은 T-검정이 두 집단 간의 평균 차이를 검정했다면, 분산분석(F-검정)은 두 집단 이상의 평균 차이를 검정한다. \n",
    "  - 분산분석은 가설 검정을 위해 F 분포를 따르는 F 통계량을 검정 통계량으로 사용하기 때문에 F-검정이라고 한다. "
   ]
  },
  {
   "cell_type": "markdown",
   "id": "52898f51-9ce2-4a72-ba3a-472a922f3d0c",
   "metadata": {},
   "source": [
    "- 분산분석 시행 시 주의사항\n",
    "  - 1개의 범주형 독립변수와 종속변수 간의 관계를 분석하는 일원 분산분석과 두 개 이상의 독립변수가 종속변수에 미치는 효과를 분석하는 이원 분산분석으로 분류한다. \n",
    "  - 독립변수는 명목척도(성별), 종속변수는 등간척도나 비율척도로 구성되어야 한다. \n",
    "  - 마케팅전략의 효과, 소비자 집단의 반응 차이 등과 같이 기업의 의사결정에 도움을 주는 비계량적인 독립변수와 계량적인 종속변수 간의 관계를 파악할 때 이용한다. "
   ]
  },
  {
   "cell_type": "markdown",
   "id": "1ec92ea8-3ea3-4991-aeb6-42702cb502e5",
   "metadata": {},
   "source": [
    "- 분산분석에서 집단 간의 동질성 여부를 검정하기 위해서는 bartlett.test() 함수를 이용한다. \n",
    "  - 집단 간의 분포가 동질한 경우 분산분석을 수행하는 aov() 함수를 이용하며 그렇지 않은 경우는 비모수 검정 방법인 kruskal.test() 함수를 이용하여 분석을 수행한다. \n",
    "  - 마지막으로 TurkeyHSD() 함수를 이용하여 사후검정을 수행한다. \n",
    "- 이때, 두 집단은 var.test() 함수를 이용하고, 분산분석은 bartlett.test() 함수를 이용한다. "
   ]
  },
  {
   "cell_type": "markdown",
   "id": "28959202-077d-4a28-867a-f56ebfeb6a18",
   "metadata": {},
   "source": [
    "- 귀무가설 : 교육방법에 따른 세 집단 간 실기시험의 평균에 차이가 없다. \n",
    "- 대립가설 : 차이가 있다. "
   ]
  },
  {
   "cell_type": "code",
   "execution_count": 34,
   "id": "0090a7d8-d589-4a7b-9118-aacc437b3a7a",
   "metadata": {},
   "outputs": [
    {
     "name": "stdout",
     "output_type": "stream",
     "text": [
      "'data.frame':\t150 obs. of  4 variables:\n",
      " $ no    : int  1 2 3 4 5 6 7 8 9 10 ...\n",
      " $ method: int  1 2 3 1 2 3 1 2 3 1 ...\n",
      " $ survey: int  1 0 1 0 1 1 0 0 1 0 ...\n",
      " $ score : num  3.2 NA 4.7 NA 7.8 5.4 NA 8.4 4.4 2.8 ...\n"
     ]
    }
   ],
   "source": [
    "str(data)"
   ]
  },
  {
   "cell_type": "markdown",
   "id": "aee9375d-a9de-4353-8f2c-cb3be943de0e",
   "metadata": {},
   "source": [
    "- score에만 NA가 포함되어 있으니 NA는 제거하자"
   ]
  },
  {
   "cell_type": "code",
   "execution_count": 35,
   "id": "3b104937-4cf7-41f2-85f0-30c2b1f13154",
   "metadata": {},
   "outputs": [],
   "source": [
    "# 데이터 전처리\n",
    "data = subset(data, !is.na(score), c(method, score))"
   ]
  },
  {
   "cell_type": "code",
   "execution_count": 38,
   "id": "0e431ed8-9b89-4b7e-be17-4349164a27b1",
   "metadata": {},
   "outputs": [
    {
     "data": {
      "text/html": [
       "14.4472527472527"
      ],
      "text/latex": [
       "14.4472527472527"
      ],
      "text/markdown": [
       "14.4472527472527"
      ],
      "text/plain": [
       "[1] 14.44725"
      ]
     },
     "metadata": {},
     "output_type": "display_data"
    },
    {
     "data": {
      "image/png": "[encoded data removed]",
      "text/plain": [
       "plot without title"
      ]
     },
     "metadata": {
      "image/png": {
       "height": 420,
       "width": 420
      }
     },
     "output_type": "display_data"
    }
   ],
   "source": [
    "# outlier도 제거해주어야 하기 outlier 체크해보자\n",
    "par(mfrow = c(1,2)) # 행,열\n",
    "plot(data$score) # 산점도 이용 outlier 확인 (50이상 발견)\n",
    "barplot(data$score) # 막대 차트 이용 outlier 확인 (50이상 발견)\n",
    "mean(data$score)"
   ]
  },
  {
   "cell_type": "code",
   "execution_count": 39,
   "id": "c96b0c82-5872-4851-a75b-21255597739c",
   "metadata": {},
   "outputs": [
    {
     "data": {
      "text/html": [
       "91"
      ],
      "text/latex": [
       "91"
      ],
      "text/markdown": [
       "91"
      ],
      "text/plain": [
       "[1] 91"
      ]
     },
     "metadata": {},
     "output_type": "display_data"
    }
   ],
   "source": [
    "# 데이터 정제, outlier 제거 (평균이상인 것들은 제거해버리자)\n",
    "length(data$score)"
   ]
  },
  {
   "cell_type": "code",
   "execution_count": 41,
   "id": "e3918507-f994-454a-9f23-7eb5eb211773",
   "metadata": {},
   "outputs": [
    {
     "data": {
      "text/html": [
       "88"
      ],
      "text/latex": [
       "88"
      ],
      "text/markdown": [
       "88"
      ],
      "text/plain": [
       "[1] 88"
      ]
     },
     "metadata": {},
     "output_type": "display_data"
    }
   ],
   "source": [
    "data2 = subset(data,score<=14)\n",
    "length(data2$score)"
   ]
  },
  {
   "cell_type": "code",
   "execution_count": 44,
   "id": "86096f23-db25-4054-92f8-98d4e41702ec",
   "metadata": {},
   "outputs": [
    {
     "data": {
      "image/png": "[encoded data removed]",
      "text/plain": [
       "plot without title"
      ]
     },
     "metadata": {
      "image/png": {
       "height": 420,
       "width": 420
      }
     },
     "output_type": "display_data"
    }
   ],
   "source": [
    "# 정제된 데이터 확인\n",
    "x = data2$score\n",
    "par(mfrow = c(1,1)) # 행,열\n",
    "barplot(x)"
   ]
  },
  {
   "cell_type": "markdown",
   "id": "0e6742ea-27f6-43b3-aa84-c8f657ef813c",
   "metadata": {},
   "source": [
    "- 세 집단 subset 작성과 기술통계량"
   ]
  },
  {
   "cell_type": "code",
   "execution_count": 46,
   "id": "1aa82280-e9be-4152-9d34-c7e40e5064bf",
   "metadata": {},
   "outputs": [],
   "source": [
    "# 세 집단 subset 작성\n",
    "data2$method2[data2$method == 1] = '방법1'\n",
    "data2$method2[data2$method == 2] = '방법2'\n",
    "data2$method2[data2$method == 3] = '방법3'"
   ]
  },
  {
   "cell_type": "code",
   "execution_count": 47,
   "id": "34fadfdc-f1c9-4ed2-b288-0589845c4bc8",
   "metadata": {},
   "outputs": [
    {
     "data": {
      "text/plain": [
       "\n",
       "방법1 방법2 방법3 \n",
       "   31    27    30 "
      ]
     },
     "metadata": {},
     "output_type": "display_data"
    }
   ],
   "source": [
    "table(data2$method2)"
   ]
  },
  {
   "cell_type": "code",
   "execution_count": 48,
   "id": "1c5c5814-97c2-4b45-8c4e-6485919b926a",
   "metadata": {},
   "outputs": [],
   "source": [
    "x = table(data2$method2)"
   ]
  },
  {
   "cell_type": "code",
   "execution_count": 49,
   "id": "0d11f821-466f-499b-a433-6ac2ee389b7b",
   "metadata": {},
   "outputs": [
    {
     "data": {
      "text/html": [
       "<style>\n",
       ".dl-inline {width: auto; margin:0; padding: 0}\n",
       ".dl-inline>dt, .dl-inline>dd {float: none; width: auto; display: inline-block}\n",
       ".dl-inline>dt::after {content: \":\\0020\"; padding-right: .5ex}\n",
       ".dl-inline>dt:not(:first-of-type) {padding-left: .5ex}\n",
       "</style><dl class=dl-inline><dt>방법1</dt><dd>4.18709677419355</dd><dt>방법2</dt><dd>6.8</dd><dt>방법3</dt><dd>5.61</dd></dl>\n"
      ],
      "text/latex": [
       "\\begin{description*}\n",
       "\\item[방법1] 4.18709677419355\n",
       "\\item[방법2] 6.8\n",
       "\\item[방법3] 5.61\n",
       "\\end{description*}\n"
      ],
      "text/markdown": [
       "방법1\n",
       ":   4.18709677419355방법2\n",
       ":   6.8방법3\n",
       ":   5.61\n",
       "\n"
      ],
      "text/plain": [
       "   방법1    방법2    방법3 \n",
       "4.187097 6.800000 5.610000 "
      ]
     },
     "metadata": {},
     "output_type": "display_data"
    }
   ],
   "source": [
    "# 교육 방법에 따른 시험성적 평균 구하기\n",
    "y = tapply(data2$score,data2$method2,mean)\n",
    "y"
   ]
  },
  {
   "cell_type": "code",
   "execution_count": 50,
   "id": "a973224c-cc57-44ec-bb9a-8744a9c433b4",
   "metadata": {},
   "outputs": [
    {
     "data": {
      "text/html": [
       "<table class=\"dataframe\">\n",
       "<caption>A data.frame: 3 × 3</caption>\n",
       "<thead>\n",
       "\t<tr><th></th><th scope=col>교육방법.Var1</th><th scope=col>교육방법.Freq</th><th scope=col>성적</th></tr>\n",
       "\t<tr><th></th><th scope=col>&lt;fct&gt;</th><th scope=col>&lt;int&gt;</th><th scope=col>&lt;dbl&gt;</th></tr>\n",
       "</thead>\n",
       "<tbody>\n",
       "\t<tr><th scope=row>방법1</th><td>방법1</td><td>31</td><td>4.187097</td></tr>\n",
       "\t<tr><th scope=row>방법2</th><td>방법2</td><td>27</td><td>6.800000</td></tr>\n",
       "\t<tr><th scope=row>방법3</th><td>방법3</td><td>30</td><td>5.610000</td></tr>\n",
       "</tbody>\n",
       "</table>\n"
      ],
      "text/latex": [
       "A data.frame: 3 × 3\n",
       "\\begin{tabular}{r|lll}\n",
       "  & 교육방법.Var1 & 교육방법.Freq & 성적\\\\\n",
       "  & <fct> & <int> & <dbl>\\\\\n",
       "\\hline\n",
       "\t방법1 & 방법1 & 31 & 4.187097\\\\\n",
       "\t방법2 & 방법2 & 27 & 6.800000\\\\\n",
       "\t방법3 & 방법3 & 30 & 5.610000\\\\\n",
       "\\end{tabular}\n"
      ],
      "text/markdown": [
       "\n",
       "A data.frame: 3 × 3\n",
       "\n",
       "| <!--/--> | 교육방법.Var1 &lt;fct&gt; | 교육방법.Freq &lt;int&gt; | 성적 &lt;dbl&gt; |\n",
       "|---|---|---|---|\n",
       "| 방법1 | 방법1 | 31 | 4.187097 |\n",
       "| 방법2 | 방법2 | 27 | 6.800000 |\n",
       "| 방법3 | 방법3 | 30 | 5.610000 |\n",
       "\n"
      ],
      "text/plain": [
       "      교육방법.Var1 교육방법.Freq 성적    \n",
       "방법1 방법1         31            4.187097\n",
       "방법2 방법2         27            6.800000\n",
       "방법3 방법3         30            5.610000"
      ]
     },
     "metadata": {},
     "output_type": "display_data"
    }
   ],
   "source": [
    "# 교육 방법과  시험 성적으로 데이터프레임 생성\n",
    "df = data.frame(교육방법 = x, 성적 = y)\n",
    "df"
   ]
  },
  {
   "cell_type": "markdown",
   "id": "939183be-576f-408f-bee0-1a2317e29be0",
   "metadata": {},
   "source": [
    "- 세 집단 간의 동질성 검정\n",
    "  - 분산분석의 동질성 검정은 bartlett.test() 함수를 이용한다. \n",
    "  - 검정결과가 유의수준보다 큰 경우 귀무가설(세 집단 간 분포의 모양이 차이가 없다)을 채택한다. "
   ]
  },
  {
   "cell_type": "code",
   "execution_count": 52,
   "id": "ce80b1fd-4190-43bd-8f5e-01c4b2662f92",
   "metadata": {},
   "outputs": [
    {
     "data": {
      "text/html": [
       "<table class=\"dataframe\">\n",
       "<caption>A data.frame: 3 × 3</caption>\n",
       "<thead>\n",
       "\t<tr><th></th><th scope=col>method</th><th scope=col>score</th><th scope=col>method2</th></tr>\n",
       "\t<tr><th></th><th scope=col>&lt;int&gt;</th><th scope=col>&lt;dbl&gt;</th><th scope=col>&lt;chr&gt;</th></tr>\n",
       "</thead>\n",
       "<tbody>\n",
       "\t<tr><th scope=row>1</th><td>1</td><td>3.2</td><td>방법1</td></tr>\n",
       "\t<tr><th scope=row>3</th><td>3</td><td>4.7</td><td>방법3</td></tr>\n",
       "\t<tr><th scope=row>5</th><td>2</td><td>7.8</td><td>방법2</td></tr>\n",
       "</tbody>\n",
       "</table>\n"
      ],
      "text/latex": [
       "A data.frame: 3 × 3\n",
       "\\begin{tabular}{r|lll}\n",
       "  & method & score & method2\\\\\n",
       "  & <int> & <dbl> & <chr>\\\\\n",
       "\\hline\n",
       "\t1 & 1 & 3.2 & 방법1\\\\\n",
       "\t3 & 3 & 4.7 & 방법3\\\\\n",
       "\t5 & 2 & 7.8 & 방법2\\\\\n",
       "\\end{tabular}\n"
      ],
      "text/markdown": [
       "\n",
       "A data.frame: 3 × 3\n",
       "\n",
       "| <!--/--> | method &lt;int&gt; | score &lt;dbl&gt; | method2 &lt;chr&gt; |\n",
       "|---|---|---|---|\n",
       "| 1 | 1 | 3.2 | 방법1 |\n",
       "| 3 | 3 | 4.7 | 방법3 |\n",
       "| 5 | 2 | 7.8 | 방법2 |\n",
       "\n"
      ],
      "text/plain": [
       "  method score method2\n",
       "1 1      3.2   방법1  \n",
       "3 3      4.7   방법3  \n",
       "5 2      7.8   방법2  "
      ]
     },
     "metadata": {},
     "output_type": "display_data"
    }
   ],
   "source": [
    "head(data2,3)"
   ]
  },
  {
   "cell_type": "code",
   "execution_count": 56,
   "id": "5cd5744b-5317-4839-9828-9352475ed562",
   "metadata": {},
   "outputs": [
    {
     "data": {
      "text/plain": [
       "\n",
       "\tBartlett test of homogeneity of variances\n",
       "\n",
       "data:  score by method\n",
       "Bartlett's K-squared = 3.3157, df = 2, p-value = 0.1905\n"
      ]
     },
     "metadata": {},
     "output_type": "display_data"
    }
   ],
   "source": [
    "bartlett.test(score~method, data= data2) # 종속변수~독립변수 "
   ]
  },
  {
   "cell_type": "markdown",
   "id": "279e47e5-35b8-4464-badb-fd0d0b60a1d6",
   "metadata": {},
   "source": [
    "- 귀무가설을 채택한다. 즉, 세 집단 간의 분포 형태가 동질하다고 할 수 있다. "
   ]
  },
  {
   "cell_type": "markdown",
   "id": "dd646645-38dc-4b1d-b881-102af2f685a3",
   "metadata": {},
   "source": [
    "- 분산분석\n",
    "  - 세 집단 간의 동질성 검정에서 분포 형태가 동질하다고 분석되었기 때문에 aov() 함수를 이용하여 세 집단 간 평균 차이 검정을 수행한다. 만약 동질하지 않은 경우 kruskal.test() 함수를 이용하여 비모수 검정을 수행한다."
   ]
  },
  {
   "cell_type": "code",
   "execution_count": 59,
   "id": "2d205f24-b7e8-43f4-ab20-4799c2913ae2",
   "metadata": {},
   "outputs": [
    {
     "data": {
      "text/plain": [
       "Call:\n",
       "   aov(formula = score ~ method2, data = data2)\n",
       "\n",
       "Terms:\n",
       "                 method2 Residuals\n",
       "Sum of Squares  99.36805  96.90184\n",
       "Deg. of Freedom        2        85\n",
       "\n",
       "Residual standard error: 1.067718\n",
       "Estimated effects may be unbalanced"
      ]
     },
     "metadata": {},
     "output_type": "display_data"
    }
   ],
   "source": [
    "result = aov(score~method2, data =data2)\n",
    "result "
   ]
  },
  {
   "cell_type": "markdown",
   "id": "f499faae-4fb8-4048-8e3a-4f5c74d7c58c",
   "metadata": {},
   "source": [
    "- aov()의 결과값은 summary() 함수를 사용해야 p-value 확인 가능"
   ]
  },
  {
   "cell_type": "code",
   "execution_count": 62,
   "id": "398d5ac3-9918-4922-a981-8ab1daaa0133",
   "metadata": {},
   "outputs": [
    {
     "data": {
      "text/plain": [
       "            Df Sum Sq Mean Sq F value   Pr(>F)    \n",
       "method2      2  99.37   49.68   43.58 9.39e-14 ***\n",
       "Residuals   85  96.90    1.14                     \n",
       "---\n",
       "Signif. codes:  0 '***' 0.001 '**' 0.01 '*' 0.05 '.' 0.1 ' ' 1"
      ]
     },
     "metadata": {},
     "output_type": "display_data"
    }
   ],
   "source": [
    "summary(result)"
   ]
  },
  {
   "cell_type": "markdown",
   "id": "7b17ac54-df35-429f-ab6d-e64a80eb519a",
   "metadata": {},
   "source": [
    "- 검정 통계량 p-value 값은 9.39e-14로 유의수준보다 매우 작기 때문에 귀무 가설 기각. 즉, 세 가지 교육 방법 간의 평균에 차이가 있다고 볼 수 있다. "
   ]
  },
  {
   "cell_type": "markdown",
   "id": "e68d87d7-243b-4a3b-8d97-0279e90d3c86",
   "metadata": {},
   "source": [
    "- 분산분석의 결과를 대상으로 집단별로 평균의 차에 대한 비교를 통해서 사후검정을 수행할 수 있다. "
   ]
  },
  {
   "cell_type": "code",
   "execution_count": 64,
   "id": "77ee594d-4dee-4317-9e16-37bc3ba2e4e0",
   "metadata": {},
   "outputs": [
    {
     "data": {
      "text/plain": [
       "  Tukey multiple comparisons of means\n",
       "    95% family-wise confidence level\n",
       "\n",
       "Fit: aov(formula = score ~ method2, data = data2)\n",
       "\n",
       "$method2\n",
       "                 diff        lwr        upr     p adj\n",
       "방법2-방법1  2.612903  1.9424342  3.2833723 0.0000000\n",
       "방법3-방법1  1.422903  0.7705979  2.0752085 0.0000040\n",
       "방법3-방법2 -1.190000 -1.8656509 -0.5143491 0.0001911\n"
      ]
     },
     "metadata": {},
     "output_type": "display_data"
    }
   ],
   "source": [
    "# 분산분석 결과에 대한 사후검정\n",
    "TukeyHSD(result)"
   ]
  },
  {
   "cell_type": "markdown",
   "id": "580a06c5-aa4b-4bef-bf63-2611c6e83511",
   "metadata": {},
   "source": [
    "- diff : 집단 간 평균 차이의 크기\n",
    "- lwr,upr : 신뢰구간의 하한값과 상한값.\n",
    "- 이때 신뢰구간에 0이 포함되면 차이가 통계적으로 유의하지 않다. 즉 집단 간의 평균 차이가 없다고 볼 수 있따는 것이다. 따라서 지금 이 상황에선 유의미한 수준에서 세 집단 간 분산의 차이가 있다고 볼 수 있다. "
   ]
  },
  {
   "cell_type": "code",
   "execution_count": 67,
   "id": "b87bcb4f-2401-4df0-a1c4-323143da6b92",
   "metadata": {},
   "outputs": [
    {
     "data": {
      "image/png": "[encoded data removed]",
      "text/plain": [
       "Plot with title \"95% family-wise confidence level\n",
       "\""
      ]
     },
     "metadata": {
      "image/png": {
       "height": 420,
       "width": 420
      }
     },
     "output_type": "display_data"
    }
   ],
   "source": [
    "# 사후검정 시각화\n",
    "plot(TukeyHSD(result))"
   ]
  },
  {
   "cell_type": "markdown",
   "id": "9a24ef93-d4c0-48c4-8930-6ab3a644f73c",
   "metadata": {},
   "source": [
    "- 분산분석에서 3가지 교육방법에 따른 실기시험의 평균에 차이가 있다라는 결론을 내렸다면, 분산분석의 사후검정은 구체적으로 어떤 교육 방법 간에 차이가 있는지를 보여주는 부분이다.\n",
    "- 여기서 방법2와 방법1의 집단 간 평균의 차(diff)가 가장 큰것으로 나타났다. "
   ]
  }
 ],
 "metadata": {
  "kernelspec": {
   "display_name": "R",
   "language": "R",
   "name": "ir"
  },
  "language_info": {
   "codemirror_mode": "r",
   "file_extension": ".r",
   "mimetype": "text/x-r-source",
   "name": "R",
   "pygments_lexer": "r",
   "version": "4.0.5"
  }
 },
 "nbformat": 4,
 "nbformat_minor": 5
}
