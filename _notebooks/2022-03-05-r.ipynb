{
 "cells": [
  {
   "cell_type": "markdown",
   "id": "dbbe59dd-8e3e-4b41-8fb0-e5e822b92728",
   "metadata": {},
   "source": [
    "# 연관분석, 연관규칙 시각화"
   ]
  },
  {
   "cell_type": "markdown",
   "id": "88127bbc-a643-41d3-86f7-b6eb049113f4",
   "metadata": {},
   "source": [
    "- 하나의 거래나 사건에 포함된 항목 간의 관련성을 파악하여 둘 이상의 항목들로 구성된 연관성 규칙을 도출하는 탐색적인 분석 방법이다. \n",
    "- 예를 들어, 연관분석은 대형마트, 백화점, 쇼핑몰 등에서 고객의 장바구니에 들어있는 품목 간의 관계를 분석하여 마케팅에 활용한다. \n",
    "  - 고객들은 어떤 상품들을 동시에 구매하는가?\n",
    "  - 맥주를 구매한 고객은 주로 어떤 상품을 함께 구매하는가?"
   ]
  },
  {
   "cell_type": "markdown",
   "id": "5495e9b6-2c8a-42f6-a4d6-78ff5e1e1dbb",
   "metadata": {},
   "source": [
    "- 데이터베이스에서 사건의 연관규칙을 찾는 데이터마이닝 기법.\n",
    "- y변수가 없으며 비지도학습에 의한 패턴 분석 방법.\n",
    "- 사건과 사건 간의 연관성을 찾는 방법\n",
    "- 지지도, 신뢰도, 향상도를 연관규칙의 평가도구로 사용한다. "
   ]
  },
  {
   "cell_type": "markdown",
   "id": "498fe1aa-a4b9-4d57-ae8d-6b8930aa291d",
   "metadata": {},
   "source": [
    "- 연관분석 시행 절차\n",
    "  - 1) 거래 내역 데이터를 대상으로 트랜잭션 객체 생성\n",
    "  - 2) 품목과 트랜잭션 ID 관찰\n",
    "  - 3) 평가 척도(지지도, 신뢰도, 향상도)를 이용한 연구규칙 발견\n",
    "  - 4) 연관분석 결과에 대한 시각화\n",
    "  - 5) 연관분석 결과 해설 및 업무 적용"
   ]
  },
  {
   "cell_type": "markdown",
   "id": "e8699ecd-baa3-4559-a001-142cbe0dc0d0",
   "metadata": {},
   "source": [
    "- 연관규칙 평가척도 : 연관규칙이란 어떤 사건이 얼마나 자주 동시에 발생하는가를 표현하는 규칙(조건)으로 데이터 내에 포함된 특정 항목들의 연관성을 수치화시켜 나타내는 방법이다. 기본적으로 연관성 규칙은 지지도, 신뢰도, 향상도를 계산하여 연관성의 유무를 판단한다.\n",
    "\n",
    "- (1) 지지도 : 품목A와 품목 B가 동시에 포함한 거래수 / 전체 거래수\n",
    "  - A를 구매하고 B를 구매하는 거래\n",
    "- (2) 신뢰도 : 품목 A와 B를 동시에 포함한 거래수 / 품목 A를 포함한 거래수\n",
    "  - 품목 A가 구매될 때 품목 B가 구매되는 경우의 조건부확률\n",
    "  - 품목 A가 포함된 거래 중에서 품목 B를 포함함 거래의 비율을 제공\n",
    "- (3) 향상도 : 신뢰되 / 품목 B를 포함한 거래율\n",
    "  - 두 상품의 독립성 여부를 수치로 제공하는데 독립성 여부에 따라서 상품 간의 상관관계를 예측할 수 있다.\n",
    "  - 향상도 = 1인 경우에는 상품 A와 B는 독립관계(상관관계 없음)\n",
    "  - 향상도가 1이 아닌 경우에는 상품 A와 B는 독립이 아닌 경우, 즉 종속관계(상관성 있음)\n",
    "  - 향상도의 값이 클수록 상품 간의 연관성이 높다고 볼 수 있다."
   ]
  },
  {
   "cell_type": "markdown",
   "id": "69aa9311-dc27-4a71-a6b7-f1c2a3e29be9",
   "metadata": {},
   "source": [
    "- 연관규칙의 평가척도에서 지지율이 낮다는 의미는 해당 조합의 거래 수가 적다는 의미, 신뢰도가 낮다는 의미는 A상품 구매 시 B상품을 함께 구매하는 거래 수가 적다는 의미, 따라서 지지도와 신뢰도가 높을수록 발견되는 규칙은 적어진다."
   ]
  },
  {
   "cell_type": "code",
   "execution_count": 4,
   "id": "6e6472c9-5032-4fe8-bcef-3e331923f322",
   "metadata": {},
   "outputs": [
    {
     "data": {
      "text/plain": [
       "transactions in sparse format with\n",
       " 6 transactions (rows) and\n",
       " 5 items (columns)"
      ]
     },
     "metadata": {},
     "output_type": "display_data"
    },
    {
     "name": "stdout",
     "output_type": "stream",
     "text": [
      "    items             \n",
      "[1] {라면, 맥주, 우유}\n",
      "[2] {고기, 라면, 우유}\n",
      "[3] {고기, 과일, 라면}\n",
      "[4] {고기, 맥주, 우유}\n",
      "[5] {고기, 라면, 우유}\n",
      "[6] {과일, 우유}      \n"
     ]
    }
   ],
   "source": [
    "library(arules)\n",
    "\n",
    "# 트랜잭션(상품 거래 정보) 객체 생성\n",
    "tran = read.transactions('tran.txt', format = 'basket', sep = ',')\n",
    "tran\n",
    "\n",
    "# 트랜잭션 데이터 보기\n",
    "inspect(tran) # 6개 트랜잭션의 항목 출력"
   ]
  },
  {
   "cell_type": "code",
   "execution_count": 6,
   "id": "aa10b1e5-9a40-43b2-ae3a-d21c9a419429",
   "metadata": {},
   "outputs": [
    {
     "name": "stdout",
     "output_type": "stream",
     "text": [
      "Apriori\n",
      "\n",
      "Parameter specification:\n",
      " confidence minval smax arem  aval originalSupport maxtime support minlen\n",
      "        0.1    0.1    1 none FALSE            TRUE       5     0.3      1\n",
      " maxlen target  ext\n",
      "     10  rules TRUE\n",
      "\n",
      "Algorithmic control:\n",
      " filter tree heap memopt load sort verbose\n",
      "    0.1 TRUE TRUE  FALSE TRUE    2    TRUE\n",
      "\n",
      "Absolute minimum support count: 1 \n",
      "\n",
      "set item appearances ...[0 item(s)] done [0.00s].\n",
      "set transactions ...[5 item(s), 6 transaction(s)] done [0.00s].\n",
      "sorting and recoding items ... [5 item(s)] done [0.00s].\n",
      "creating transaction tree ... done [0.00s].\n",
      "checking subsets of size 1 2 3 done [0.00s].\n",
      "writing ... [16 rule(s)] done [0.00s].\n",
      "creating S4 object  ... done [0.00s].\n"
     ]
    }
   ],
   "source": [
    "# 규칙(rule) 발견 1\n",
    "rule = apriori(tran, parameter = list(supp = 0.3, conf = 0.1))\n",
    "# 16 rules"
   ]
  },
  {
   "cell_type": "code",
   "execution_count": 9,
   "id": "e4a13e1c-ec5d-45a0-aab1-09ec2146aa48",
   "metadata": {},
   "outputs": [
    {
     "name": "stdout",
     "output_type": "stream",
     "text": [
      "     lhs             rhs    support   confidence coverage  lift  count\n",
      "[1]  {}           => {과일} 0.3333333 0.3333333  1.0000000 1.000 2    \n",
      "[2]  {}           => {맥주} 0.3333333 0.3333333  1.0000000 1.000 2    \n",
      "[3]  {}           => {고기} 0.6666667 0.6666667  1.0000000 1.000 4    \n",
      "[4]  {}           => {라면} 0.6666667 0.6666667  1.0000000 1.000 4    \n",
      "[5]  {}           => {우유} 0.8333333 0.8333333  1.0000000 1.000 5    \n",
      "[6]  {맥주}       => {우유} 0.3333333 1.0000000  0.3333333 1.200 2    \n",
      "[7]  {우유}       => {맥주} 0.3333333 0.4000000  0.8333333 1.200 2    \n",
      "[8]  {고기}       => {라면} 0.5000000 0.7500000  0.6666667 1.125 3    \n",
      "[9]  {라면}       => {고기} 0.5000000 0.7500000  0.6666667 1.125 3    \n",
      "[10] {고기}       => {우유} 0.5000000 0.7500000  0.6666667 0.900 3    \n",
      "[11] {우유}       => {고기} 0.5000000 0.6000000  0.8333333 0.900 3    \n",
      "[12] {라면}       => {우유} 0.5000000 0.7500000  0.6666667 0.900 3    \n",
      "[13] {우유}       => {라면} 0.5000000 0.6000000  0.8333333 0.900 3    \n",
      "[14] {고기, 라면} => {우유} 0.3333333 0.6666667  0.5000000 0.800 2    \n",
      "[15] {고기, 우유} => {라면} 0.3333333 0.6666667  0.5000000 1.000 2    \n",
      "[16] {라면, 우유} => {고기} 0.3333333 0.6666667  0.5000000 1.000 2    \n"
     ]
    }
   ],
   "source": [
    "# 규칙 보기\n",
    "inspect(rule)"
   ]
  },
  {
   "cell_type": "markdown",
   "id": "7d2195cc-6183-4819-ba47-0b102e2a5583",
   "metadata": {},
   "source": [
    "- inspect() 함수를 이용하여 트랜잭션 객체를 확인할 수 있음\n",
    "- 지지도가 0.3, 신뢰도가 0.1인 경우네는 16개의 규칙이 발견\n",
    "- 지지도와 신뢰도가 높을수록 발견되는 규칙은 적어진다. "
   ]
  },
  {
   "cell_type": "code",
   "execution_count": 10,
   "id": "3e4fe325-b857-4e69-938c-edd298f7618a",
   "metadata": {},
   "outputs": [
    {
     "name": "stdout",
     "output_type": "stream",
     "text": [
      "Apriori\n",
      "\n",
      "Parameter specification:\n",
      " confidence minval smax arem  aval originalSupport maxtime support minlen\n",
      "        0.1    0.1    1 none FALSE            TRUE       5     0.1      1\n",
      " maxlen target  ext\n",
      "     10  rules TRUE\n",
      "\n",
      "Algorithmic control:\n",
      " filter tree heap memopt load sort verbose\n",
      "    0.1 TRUE TRUE  FALSE TRUE    2    TRUE\n",
      "\n",
      "Absolute minimum support count: 0 \n",
      "\n",
      "set item appearances ...[0 item(s)] done [0.00s].\n",
      "set transactions ...[5 item(s), 6 transaction(s)] done [0.00s].\n",
      "sorting and recoding items ... [5 item(s)] done [0.00s].\n",
      "creating transaction tree ... done [0.00s].\n",
      "checking subsets of size 1 2 3 done [0.00s].\n",
      "writing ... [35 rule(s)] done [0.00s].\n",
      "creating S4 object  ... done [0.00s].\n",
      "     lhs             rhs    support   confidence coverage  lift  count\n",
      "[1]  {}           => {과일} 0.3333333 0.3333333  1.0000000 1.000 2    \n",
      "[2]  {}           => {맥주} 0.3333333 0.3333333  1.0000000 1.000 2    \n",
      "[3]  {}           => {고기} 0.6666667 0.6666667  1.0000000 1.000 4    \n",
      "[4]  {}           => {라면} 0.6666667 0.6666667  1.0000000 1.000 4    \n",
      "[5]  {}           => {우유} 0.8333333 0.8333333  1.0000000 1.000 5    \n",
      "[6]  {과일}       => {고기} 0.1666667 0.5000000  0.3333333 0.750 1    \n",
      "[7]  {고기}       => {과일} 0.1666667 0.2500000  0.6666667 0.750 1    \n",
      "[8]  {과일}       => {라면} 0.1666667 0.5000000  0.3333333 0.750 1    \n",
      "[9]  {라면}       => {과일} 0.1666667 0.2500000  0.6666667 0.750 1    \n",
      "[10] {과일}       => {우유} 0.1666667 0.5000000  0.3333333 0.600 1    \n",
      "[11] {우유}       => {과일} 0.1666667 0.2000000  0.8333333 0.600 1    \n",
      "[12] {맥주}       => {고기} 0.1666667 0.5000000  0.3333333 0.750 1    \n",
      "[13] {고기}       => {맥주} 0.1666667 0.2500000  0.6666667 0.750 1    \n",
      "[14] {맥주}       => {라면} 0.1666667 0.5000000  0.3333333 0.750 1    \n",
      "[15] {라면}       => {맥주} 0.1666667 0.2500000  0.6666667 0.750 1    \n",
      "[16] {맥주}       => {우유} 0.3333333 1.0000000  0.3333333 1.200 2    \n",
      "[17] {우유}       => {맥주} 0.3333333 0.4000000  0.8333333 1.200 2    \n",
      "[18] {고기}       => {라면} 0.5000000 0.7500000  0.6666667 1.125 3    \n",
      "[19] {라면}       => {고기} 0.5000000 0.7500000  0.6666667 1.125 3    \n",
      "[20] {고기}       => {우유} 0.5000000 0.7500000  0.6666667 0.900 3    \n",
      "[21] {우유}       => {고기} 0.5000000 0.6000000  0.8333333 0.900 3    \n",
      "[22] {라면}       => {우유} 0.5000000 0.7500000  0.6666667 0.900 3    \n",
      "[23] {우유}       => {라면} 0.5000000 0.6000000  0.8333333 0.900 3    \n",
      "[24] {고기, 과일} => {라면} 0.1666667 1.0000000  0.1666667 1.500 1    \n",
      "[25] {과일, 라면} => {고기} 0.1666667 1.0000000  0.1666667 1.500 1    \n",
      "[26] {고기, 라면} => {과일} 0.1666667 0.3333333  0.5000000 1.000 1    \n",
      "[27] {고기, 맥주} => {우유} 0.1666667 1.0000000  0.1666667 1.200 1    \n",
      "[28] {맥주, 우유} => {고기} 0.1666667 0.5000000  0.3333333 0.750 1    \n",
      "[29] {고기, 우유} => {맥주} 0.1666667 0.3333333  0.5000000 1.000 1    \n",
      "[30] {라면, 맥주} => {우유} 0.1666667 1.0000000  0.1666667 1.200 1    \n",
      "[31] {맥주, 우유} => {라면} 0.1666667 0.5000000  0.3333333 0.750 1    \n",
      "[32] {라면, 우유} => {맥주} 0.1666667 0.3333333  0.5000000 1.000 1    \n",
      "[33] {고기, 라면} => {우유} 0.3333333 0.6666667  0.5000000 0.800 2    \n",
      "[34] {고기, 우유} => {라면} 0.3333333 0.6666667  0.5000000 1.000 2    \n",
      "[35] {라면, 우유} => {고기} 0.3333333 0.6666667  0.5000000 1.000 2    \n"
     ]
    }
   ],
   "source": [
    "# 규칙(rule) 발견 2\n",
    "rule = apriori(tran, parameter = list(supp = 0.1, conf = 0.1))\n",
    "inspect(rule)"
   ]
  },
  {
   "cell_type": "markdown",
   "id": "d03eac4c-4ff2-4a7d-9916-9736f9945e21",
   "metadata": {},
   "source": [
    "- 지지도와 신뢰도를 낮게 설정 -> 규칙의 수 증가"
   ]
  },
  {
   "cell_type": "markdown",
   "id": "026e9c1f-557a-46e5-841b-72a59193eab7",
   "metadata": {},
   "source": [
    "---"
   ]
  },
  {
   "cell_type": "markdown",
   "id": "181e43da-d509-48b5-acde-7aac6b7ba24d",
   "metadata": {},
   "source": [
    "- 트랜잭션(상품 거래 정보) 객체 생성\n",
    "  - 연관분석을 위해서 거래 데이터를 대상으로 트랜잭션 객체를 생성"
   ]
  },
  {
   "cell_type": "code",
   "execution_count": 11,
   "id": "f841d837-3566-4de4-abb5-72816aae6114",
   "metadata": {},
   "outputs": [
    {
     "name": "stdout",
     "output_type": "stream",
     "text": [
      "    items          transactionID\n",
      "[1] {item1}        trans1       \n",
      "[2] {item1, item2} trans2       \n"
     ]
    }
   ],
   "source": [
    "stran = read.transactions('demo_single', format = 'single', cols = c(1,2))\n",
    "inspect(stran)"
   ]
  },
  {
   "cell_type": "markdown",
   "id": "1cd49c34-1fdc-444e-aaff-ffdf65179bb1",
   "metadata": {},
   "source": [
    "- 한 개의 트랜잭션 구분자에 의해서 상품이 연결된 경우 format = 'single' 속성을 지정.\n",
    "- single 속성을 지정하면 cols 속성으로 처리할 칼럼을 지정한다."
   ]
  },
  {
   "cell_type": "markdown",
   "id": "6cac0c12-f7bd-4691-9d6f-86fbc199e581",
   "metadata": {},
   "source": [
    "- 중복 트랜잭션 제거\n",
    "  - 상품이 컴마로 구분되어 있으며, 중복된 트랜잭션이 존재하는 경우 해당 트랜잭션을 제거하기 위해 rm.duplicates = T 속서을 지정하면 된다. "
   ]
  },
  {
   "cell_type": "code",
   "execution_count": 12,
   "id": "3790db96-a262-485c-a2bd-ae65d84c062c",
   "metadata": {},
   "outputs": [
    {
     "data": {
      "text/plain": [
       "transactions in sparse format with\n",
       " 248 transactions (rows) and\n",
       " 68 items (columns)"
      ]
     },
     "metadata": {},
     "output_type": "display_data"
    }
   ],
   "source": [
    "# 단계 1 : 트랜잭션 데이터 가져오기\n",
    "stran2 = read.transactions('single_format.csv', format = 'single', sep = ',', cols = c(1,2), rm.duplicates = T)\n",
    "\n",
    "# 단계 2 : 트랜잭션과 상품수 확인\n",
    "stran2"
   ]
  },
  {
   "cell_type": "code",
   "execution_count": 13,
   "id": "0032e066-156f-44a6-8384-de012bd3e151",
   "metadata": {},
   "outputs": [
    {
     "data": {
      "text/plain": [
       "transactions as itemMatrix in sparse format with\n",
       " 248 rows (elements/itemsets/transactions) and\n",
       " 68 columns (items) and a density of 0.06949715 \n",
       "\n",
       "most frequent items:\n",
       "10001519 10003364 10003373 10093119 10003332  (Other) \n",
       "     186      183       91       84       71      557 \n",
       "\n",
       "element (itemset/transaction) length distribution:\n",
       "sizes\n",
       "  1   2   3   4   5   6   7   8 \n",
       " 12  25  16  20 119  12  37   7 \n",
       "\n",
       "   Min. 1st Qu.  Median    Mean 3rd Qu.    Max. \n",
       "  1.000   4.000   5.000   4.726   5.000   8.000 \n",
       "\n",
       "includes extended item information - examples:\n",
       "    labels\n",
       "1 10000005\n",
       "2 10000012\n",
       "3 10000085\n",
       "\n",
       "includes extended transaction information - examples:\n",
       "    transactionID\n",
       "1 2010-01-01-0823\n",
       "2 2010-01-02-0822\n",
       "3 2010-01-03-0822"
      ]
     },
     "metadata": {},
     "output_type": "display_data"
    }
   ],
   "source": [
    "# 단계 3 : 요약통계량 제공\n",
    "summary(stran2)"
   ]
  },
  {
   "cell_type": "markdown",
   "id": "10adb801-2dc4-4592-81be-eaf87decacc1",
   "metadata": {},
   "source": [
    "- sizes의 첫 줄은 item 수 이고, 두 번째 줄은 transaction 수이다. 예를 들면 item 수가 1개로 구성된 transaction 수가 12개라는 의미이다. "
   ]
  },
  {
   "cell_type": "code",
   "execution_count": 17,
   "id": "9fcb5cdb-773c-44cb-9fa1-3eb37be4a602",
   "metadata": {},
   "outputs": [
    {
     "name": "stdout",
     "output_type": "stream",
     "text": [
      "Apriori\n",
      "\n",
      "Parameter specification:\n",
      " confidence minval smax arem  aval originalSupport maxtime support minlen\n",
      "        0.8    0.1    1 none FALSE            TRUE       5     0.1      1\n",
      " maxlen target  ext\n",
      "     10  rules TRUE\n",
      "\n",
      "Algorithmic control:\n",
      " filter tree heap memopt load sort verbose\n",
      "    0.1 TRUE TRUE  FALSE TRUE    2    TRUE\n",
      "\n",
      "Absolute minimum support count: 24 \n",
      "\n",
      "set item appearances ...[0 item(s)] done [0.00s].\n",
      "set transactions ...[68 item(s), 248 transaction(s)] done [0.00s].\n",
      "sorting and recoding items ... [12 item(s)] done [0.00s].\n",
      "creating transaction tree ... done [0.00s].\n",
      "checking subsets of size 1 2 3 4 5 done [0.00s].\n",
      "writing ... [102 rule(s)] done [0.00s].\n",
      "creating S4 object  ... done [0.00s].\n"
     ]
    }
   ],
   "source": [
    "# 규칙 발견(생성)\n",
    "# apriori() 함수는 연관규칙의 평가척도를 이용하여 규칙을 생성한다.\n",
    "\n",
    "# 단계 1 : 규칙 생성하기\n",
    "astran2 = apriori(stran2) # supp = 0.1, conf = 0.8과 동일, 이게 default 값임"
   ]
  },
  {
   "cell_type": "code",
   "execution_count": 18,
   "id": "365a08b0-d7a0-43f7-a076-037f0ee6f4d9",
   "metadata": {},
   "outputs": [
    {
     "name": "stdout",
     "output_type": "stream",
     "text": [
      "      lhs                                         rhs        support  \n",
      "[1]   {10003349}                               => {10003364} 0.1088710\n",
      "[2]   {10003349}                               => {10001519} 0.1088710\n",
      "[3]   {10202857}                               => {10003364} 0.1330645\n",
      "[4]   {10202857}                               => {10001519} 0.1330645\n",
      "[5]   {10002195}                               => {10003364} 0.1370968\n",
      "[6]   {10002195}                               => {10001519} 0.1370968\n",
      "[7]   {10200597}                               => {10003364} 0.1814516\n",
      "[8]   {10200597}                               => {10001519} 0.1814516\n",
      "[9]   {10003374}                               => {10003373} 0.1935484\n",
      "[10]  {10003374}                               => {10003364} 0.1935484\n",
      "[11]  {10003374}                               => {10001519} 0.1935484\n",
      "[12]  {10003375}                               => {10093119} 0.1814516\n",
      "[13]  {10003375}                               => {10003364} 0.2177419\n",
      "[14]  {10003375}                               => {10001519} 0.2137097\n",
      "[15]  {10003332}                               => {10003364} 0.2500000\n",
      "[16]  {10003332}                               => {10001519} 0.2540323\n",
      "[17]  {10093119}                               => {10003364} 0.3346774\n",
      "[18]  {10093119}                               => {10001519} 0.3306452\n",
      "[19]  {10003373}                               => {10003364} 0.3669355\n",
      "[20]  {10003373}                               => {10001519} 0.3669355\n",
      "[21]  {10003364}                               => {10001519} 0.7338710\n",
      "[22]  {10001519}                               => {10003364} 0.7338710\n",
      "[23]  {10003349, 10003364}                     => {10001519} 0.1088710\n",
      "[24]  {10001519, 10003349}                     => {10003364} 0.1088710\n",
      "[25]  {10093119, 10202857}                     => {10003364} 0.1048387\n",
      "[26]  {10093119, 10202857}                     => {10001519} 0.1048387\n",
      "[27]  {10003364, 10202857}                     => {10001519} 0.1330645\n",
      "[28]  {10001519, 10202857}                     => {10003364} 0.1330645\n",
      "[29]  {10002195, 10003364}                     => {10001519} 0.1370968\n",
      "[30]  {10001519, 10002195}                     => {10003364} 0.1370968\n",
      "[31]  {10003373, 10200597}                     => {10003364} 0.1290323\n",
      "[32]  {10003373, 10200597}                     => {10001519} 0.1290323\n",
      "[33]  {10003364, 10200597}                     => {10001519} 0.1814516\n",
      "[34]  {10001519, 10200597}                     => {10003364} 0.1814516\n",
      "[35]  {10003332, 10003374}                     => {10003373} 0.1330645\n",
      "[36]  {10003332, 10003373}                     => {10003374} 0.1330645\n",
      "[37]  {10003332, 10003374}                     => {10003364} 0.1330645\n",
      "[38]  {10003332, 10003374}                     => {10001519} 0.1330645\n",
      "[39]  {10003373, 10003374}                     => {10003364} 0.1935484\n",
      "[40]  {10003364, 10003374}                     => {10003373} 0.1935484\n",
      "[41]  {10003373, 10003374}                     => {10001519} 0.1935484\n",
      "[42]  {10001519, 10003374}                     => {10003373} 0.1935484\n",
      "[43]  {10003364, 10003374}                     => {10001519} 0.1935484\n",
      "[44]  {10001519, 10003374}                     => {10003364} 0.1935484\n",
      "[45]  {10003332, 10003375}                     => {10093119} 0.1048387\n",
      "[46]  {10003332, 10093119}                     => {10003375} 0.1048387\n",
      "[47]  {10003332, 10003375}                     => {10003364} 0.1048387\n",
      "[48]  {10003332, 10003375}                     => {10001519} 0.1048387\n",
      "[49]  {10003375, 10093119}                     => {10003364} 0.1774194\n",
      "[50]  {10003364, 10003375}                     => {10093119} 0.1774194\n",
      "[51]  {10003375, 10093119}                     => {10001519} 0.1733871\n",
      "[52]  {10001519, 10003375}                     => {10093119} 0.1733871\n",
      "[53]  {10003364, 10003375}                     => {10001519} 0.2137097\n",
      "[54]  {10001519, 10003375}                     => {10003364} 0.2137097\n",
      "[55]  {10003332, 10093119}                     => {10003364} 0.1048387\n",
      "[56]  {10003332, 10093119}                     => {10001519} 0.1048387\n",
      "[57]  {10003332, 10003373}                     => {10003364} 0.1370968\n",
      "[58]  {10003332, 10003373}                     => {10001519} 0.1370968\n",
      "[59]  {10003332, 10003364}                     => {10001519} 0.2500000\n",
      "[60]  {10001519, 10003332}                     => {10003364} 0.2500000\n",
      "[61]  {10003364, 10093119}                     => {10001519} 0.3306452\n",
      "[62]  {10001519, 10093119}                     => {10003364} 0.3306452\n",
      "[63]  {10003364, 10003373}                     => {10001519} 0.3669355\n",
      "[64]  {10001519, 10003373}                     => {10003364} 0.3669355\n",
      "[65]  {10003364, 10093119, 10202857}           => {10001519} 0.1048387\n",
      "[66]  {10001519, 10093119, 10202857}           => {10003364} 0.1048387\n",
      "[67]  {10003364, 10003373, 10200597}           => {10001519} 0.1290323\n",
      "[68]  {10001519, 10003373, 10200597}           => {10003364} 0.1290323\n",
      "[69]  {10003332, 10003373, 10003374}           => {10003364} 0.1330645\n",
      "[70]  {10003332, 10003364, 10003374}           => {10003373} 0.1330645\n",
      "[71]  {10003332, 10003364, 10003373}           => {10003374} 0.1330645\n",
      "[72]  {10003332, 10003373, 10003374}           => {10001519} 0.1330645\n",
      "[73]  {10001519, 10003332, 10003374}           => {10003373} 0.1330645\n",
      "[74]  {10001519, 10003332, 10003373}           => {10003374} 0.1330645\n",
      "[75]  {10003332, 10003364, 10003374}           => {10001519} 0.1330645\n",
      "[76]  {10001519, 10003332, 10003374}           => {10003364} 0.1330645\n",
      "[77]  {10003364, 10003373, 10003374}           => {10001519} 0.1935484\n",
      "[78]  {10001519, 10003373, 10003374}           => {10003364} 0.1935484\n",
      "[79]  {10001519, 10003364, 10003374}           => {10003373} 0.1935484\n",
      "[80]  {10003332, 10003375, 10093119}           => {10003364} 0.1048387\n",
      "[81]  {10003332, 10003364, 10003375}           => {10093119} 0.1048387\n",
      "[82]  {10003332, 10003364, 10093119}           => {10003375} 0.1048387\n",
      "[83]  {10003332, 10003375, 10093119}           => {10001519} 0.1048387\n",
      "[84]  {10001519, 10003332, 10003375}           => {10093119} 0.1048387\n",
      "[85]  {10001519, 10003332, 10093119}           => {10003375} 0.1048387\n",
      "[86]  {10003332, 10003364, 10003375}           => {10001519} 0.1048387\n",
      "[87]  {10001519, 10003332, 10003375}           => {10003364} 0.1048387\n",
      "[88]  {10003364, 10003375, 10093119}           => {10001519} 0.1733871\n",
      "[89]  {10001519, 10003375, 10093119}           => {10003364} 0.1733871\n",
      "[90]  {10001519, 10003364, 10003375}           => {10093119} 0.1733871\n",
      "[91]  {10003332, 10003364, 10093119}           => {10001519} 0.1048387\n",
      "[92]  {10001519, 10003332, 10093119}           => {10003364} 0.1048387\n",
      "[93]  {10003332, 10003364, 10003373}           => {10001519} 0.1370968\n",
      "[94]  {10001519, 10003332, 10003373}           => {10003364} 0.1370968\n",
      "[95]  {10003332, 10003364, 10003373, 10003374} => {10001519} 0.1330645\n",
      "[96]  {10001519, 10003332, 10003373, 10003374} => {10003364} 0.1330645\n",
      "[97]  {10001519, 10003332, 10003364, 10003374} => {10003373} 0.1330645\n",
      "[98]  {10001519, 10003332, 10003364, 10003373} => {10003374} 0.1330645\n",
      "[99]  {10003332, 10003364, 10003375, 10093119} => {10001519} 0.1048387\n",
      "[100] {10001519, 10003332, 10003375, 10093119} => {10003364} 0.1048387\n",
      "[101] {10001519, 10003332, 10003364, 10003375} => {10093119} 0.1048387\n",
      "[102] {10001519, 10003332, 10003364, 10093119} => {10003375} 0.1048387\n",
      "      confidence coverage  lift     count\n",
      "[1]   0.8181818  0.1330645 1.108793  27  \n",
      "[2]   0.8181818  0.1330645 1.090909  27  \n",
      "[3]   1.0000000  0.1330645 1.355191  33  \n",
      "[4]   1.0000000  0.1330645 1.333333  33  \n",
      "[5]   0.9444444  0.1451613 1.279903  34  \n",
      "[6]   0.9444444  0.1451613 1.259259  34  \n",
      "[7]   1.0000000  0.1814516 1.355191  45  \n",
      "[8]   1.0000000  0.1814516 1.333333  45  \n",
      "[9]   0.9795918  0.1975806 2.669657  48  \n",
      "[10]  0.9795918  0.1975806 1.327534  48  \n",
      "[11]  0.9795918  0.1975806 1.306122  48  \n",
      "[12]  0.8181818  0.2217742 2.415584  45  \n",
      "[13]  0.9818182  0.2217742 1.330551  54  \n",
      "[14]  0.9636364  0.2217742 1.284848  53  \n",
      "[15]  0.8732394  0.2862903 1.183406  62  \n",
      "[16]  0.8873239  0.2862903 1.183099  63  \n",
      "[17]  0.9880952  0.3387097 1.339058  83  \n",
      "[18]  0.9761905  0.3387097 1.301587  82  \n",
      "[19]  1.0000000  0.3669355 1.355191  91  \n",
      "[20]  1.0000000  0.3669355 1.333333  91  \n",
      "[21]  0.9945355  0.7379032 1.326047 182  \n",
      "[22]  0.9784946  0.7500000 1.326047 182  \n",
      "[23]  1.0000000  0.1088710 1.333333  27  \n",
      "[24]  1.0000000  0.1088710 1.355191  27  \n",
      "[25]  1.0000000  0.1048387 1.355191  26  \n",
      "[26]  1.0000000  0.1048387 1.333333  26  \n",
      "[27]  1.0000000  0.1330645 1.333333  33  \n",
      "[28]  1.0000000  0.1330645 1.355191  33  \n",
      "[29]  1.0000000  0.1370968 1.333333  34  \n",
      "[30]  1.0000000  0.1370968 1.355191  34  \n",
      "[31]  1.0000000  0.1290323 1.355191  32  \n",
      "[32]  1.0000000  0.1290323 1.333333  32  \n",
      "[33]  1.0000000  0.1814516 1.333333  45  \n",
      "[34]  1.0000000  0.1814516 1.355191  45  \n",
      "[35]  1.0000000  0.1330645 2.725275  33  \n",
      "[36]  0.9705882  0.1370968 4.912365  33  \n",
      "[37]  1.0000000  0.1330645 1.355191  33  \n",
      "[38]  1.0000000  0.1330645 1.333333  33  \n",
      "[39]  1.0000000  0.1935484 1.355191  48  \n",
      "[40]  1.0000000  0.1935484 2.725275  48  \n",
      "[41]  1.0000000  0.1935484 1.333333  48  \n",
      "[42]  1.0000000  0.1935484 2.725275  48  \n",
      "[43]  1.0000000  0.1935484 1.333333  48  \n",
      "[44]  1.0000000  0.1935484 1.355191  48  \n",
      "[45]  1.0000000  0.1048387 2.952381  26  \n",
      "[46]  1.0000000  0.1048387 4.509091  26  \n",
      "[47]  1.0000000  0.1048387 1.355191  26  \n",
      "[48]  1.0000000  0.1048387 1.333333  26  \n",
      "[49]  0.9777778  0.1814516 1.325076  44  \n",
      "[50]  0.8148148  0.2177419 2.405644  44  \n",
      "[51]  0.9555556  0.1814516 1.274074  43  \n",
      "[52]  0.8113208  0.2137097 2.395328  43  \n",
      "[53]  0.9814815  0.2177419 1.308642  53  \n",
      "[54]  1.0000000  0.2137097 1.355191  53  \n",
      "[55]  1.0000000  0.1048387 1.355191  26  \n",
      "[56]  1.0000000  0.1048387 1.333333  26  \n",
      "[57]  1.0000000  0.1370968 1.355191  34  \n",
      "[58]  1.0000000  0.1370968 1.333333  34  \n",
      "[59]  1.0000000  0.2500000 1.333333  62  \n",
      "[60]  0.9841270  0.2540323 1.333680  62  \n",
      "[61]  0.9879518  0.3346774 1.317269  82  \n",
      "[62]  1.0000000  0.3306452 1.355191  82  \n",
      "[63]  1.0000000  0.3669355 1.333333  91  \n",
      "[64]  1.0000000  0.3669355 1.355191  91  \n",
      "[65]  1.0000000  0.1048387 1.333333  26  \n",
      "[66]  1.0000000  0.1048387 1.355191  26  \n",
      "[67]  1.0000000  0.1290323 1.333333  32  \n",
      "[68]  1.0000000  0.1290323 1.355191  32  \n",
      "[69]  1.0000000  0.1330645 1.355191  33  \n",
      "[70]  1.0000000  0.1330645 2.725275  33  \n",
      "[71]  0.9705882  0.1370968 4.912365  33  \n",
      "[72]  1.0000000  0.1330645 1.333333  33  \n",
      "[73]  1.0000000  0.1330645 2.725275  33  \n",
      "[74]  0.9705882  0.1370968 4.912365  33  \n",
      "[75]  1.0000000  0.1330645 1.333333  33  \n",
      "[76]  1.0000000  0.1330645 1.355191  33  \n",
      "[77]  1.0000000  0.1935484 1.333333  48  \n",
      "[78]  1.0000000  0.1935484 1.355191  48  \n",
      "[79]  1.0000000  0.1935484 2.725275  48  \n",
      "[80]  1.0000000  0.1048387 1.355191  26  \n",
      "[81]  1.0000000  0.1048387 2.952381  26  \n",
      "[82]  1.0000000  0.1048387 4.509091  26  \n",
      "[83]  1.0000000  0.1048387 1.333333  26  \n",
      "[84]  1.0000000  0.1048387 2.952381  26  \n",
      "[85]  1.0000000  0.1048387 4.509091  26  \n",
      "[86]  1.0000000  0.1048387 1.333333  26  \n",
      "[87]  1.0000000  0.1048387 1.355191  26  \n",
      "[88]  0.9772727  0.1774194 1.303030  43  \n",
      "[89]  1.0000000  0.1733871 1.355191  43  \n",
      "[90]  0.8113208  0.2137097 2.395328  43  \n",
      "[91]  1.0000000  0.1048387 1.333333  26  \n",
      "[92]  1.0000000  0.1048387 1.355191  26  \n",
      "[93]  1.0000000  0.1370968 1.333333  34  \n",
      "[94]  1.0000000  0.1370968 1.355191  34  \n",
      "[95]  1.0000000  0.1330645 1.333333  33  \n",
      "[96]  1.0000000  0.1330645 1.355191  33  \n",
      "[97]  1.0000000  0.1330645 2.725275  33  \n",
      "[98]  0.9705882  0.1370968 4.912365  33  \n",
      "[99]  1.0000000  0.1048387 1.333333  26  \n",
      "[100] 1.0000000  0.1048387 1.355191  26  \n",
      "[101] 1.0000000  0.1048387 2.952381  26  \n",
      "[102] 1.0000000  0.1048387 4.509091  26  \n"
     ]
    }
   ],
   "source": [
    "# 발견된 규칙 보기\n",
    "inspect(astran2)"
   ]
  },
  {
   "cell_type": "code",
   "execution_count": 19,
   "id": "f0cd601c-a0f5-4012-b446-31444c219202",
   "metadata": {},
   "outputs": [
    {
     "name": "stdout",
     "output_type": "stream",
     "text": [
      "    lhs                                         rhs        support   confidence\n",
      "[1] {10003332, 10003373}                     => {10003374} 0.1330645 0.9705882 \n",
      "[2] {10003332, 10003364, 10003373}           => {10003374} 0.1330645 0.9705882 \n",
      "[3] {10001519, 10003332, 10003373}           => {10003374} 0.1330645 0.9705882 \n",
      "[4] {10001519, 10003332, 10003364, 10003373} => {10003374} 0.1330645 0.9705882 \n",
      "[5] {10003332, 10093119}                     => {10003375} 0.1048387 1.0000000 \n",
      "[6] {10003332, 10003364, 10093119}           => {10003375} 0.1048387 1.0000000 \n",
      "    coverage  lift     count\n",
      "[1] 0.1370968 4.912365 33   \n",
      "[2] 0.1370968 4.912365 33   \n",
      "[3] 0.1370968 4.912365 33   \n",
      "[4] 0.1370968 4.912365 33   \n",
      "[5] 0.1048387 4.509091 26   \n",
      "[6] 0.1048387 4.509091 26   \n"
     ]
    }
   ],
   "source": [
    "# 상위 5개의 향상도를 내림차순으로 정렬하여 출력\n",
    "inspect(head(sort(astran2, by = 'lift')))"
   ]
  },
  {
   "cell_type": "code",
   "execution_count": 21,
   "id": "23135898-7bb0-49d1-91fe-ae3b38e26703",
   "metadata": {},
   "outputs": [
    {
     "name": "stdout",
     "output_type": "stream",
     "text": [
      "    items         \n",
      "[1] {item1, item2}\n",
      "[2] {item1}       \n",
      "[3] {item2, item3}\n"
     ]
    }
   ],
   "source": [
    "# basket 형식으로 트랜잭션 객체 생성\n",
    "btran = read.transactions('demo_basket',format = 'basket', sep = ',')\n",
    "inspect(btran)"
   ]
  },
  {
   "cell_type": "markdown",
   "id": "b961784b-d49e-478a-9980-a41dcd69c610",
   "metadata": {},
   "source": [
    "- 트랜잭션 구분자없이 상품으로만 구성된 데이터 셋을 대상으로 트랜잭션 객체를 생성할 경우 format = 'basket' 속성을 지정한다. "
   ]
  },
  {
   "cell_type": "markdown",
   "id": "030f729b-3d63-4bb9-a0cf-e069b35b7cc1",
   "metadata": {},
   "source": [
    "---"
   ]
  },
  {
   "cell_type": "markdown",
   "id": "8646b74b-ce43-4e13-a69a-d8c4e52250bc",
   "metadata": {},
   "source": [
    "- 연관규칙 시각화"
   ]
  },
  {
   "cell_type": "code",
   "execution_count": 26,
   "id": "4d746d54-7f1d-47cf-ac24-334d2e5cd1ac",
   "metadata": {},
   "outputs": [
    {
     "name": "stdout",
     "output_type": "stream",
     "text": [
      "Formal class 'transactions' [package \"arules\"] with 3 slots\n",
      "  ..@ data       :Formal class 'ngCMatrix' [package \"Matrix\"] with 5 slots\n",
      "  .. .. ..@ i       : int [1:612200] 1 10 25 32 35 50 59 61 63 65 ...\n",
      "  .. .. ..@ p       : int [1:48843] 0 13 26 39 52 65 78 91 104 117 ...\n",
      "  .. .. ..@ Dim     : int [1:2] 115 48842\n",
      "  .. .. ..@ Dimnames:List of 2\n",
      "  .. .. .. ..$ : NULL\n",
      "  .. .. .. ..$ : NULL\n",
      "  .. .. ..@ factors : list()\n",
      "  ..@ itemInfo   :'data.frame':\t115 obs. of  3 variables:\n",
      "  .. ..$ labels   : chr [1:115] \"age=Young\" \"age=Middle-aged\" \"age=Senior\" \"age=Old\" ...\n",
      "  .. ..$ variables: Factor w/ 13 levels \"age\",\"capital-gain\",..: 1 1 1 1 13 13 13 13 13 13 ...\n",
      "  .. ..$ levels   : Factor w/ 112 levels \"10th\",\"11th\",..: 111 63 92 69 30 54 65 82 90 91 ...\n",
      "  ..@ itemsetInfo:'data.frame':\t48842 obs. of  1 variable:\n",
      "  .. ..$ transactionID: chr [1:48842] \"1\" \"2\" \"3\" \"4\" ...\n"
     ]
    }
   ],
   "source": [
    "data(Adult)\n",
    "str(Adult)"
   ]
  },
  {
   "cell_type": "code",
   "execution_count": 27,
   "id": "0bc4c0f5-4d69-4124-a881-9edca5e6af35",
   "metadata": {},
   "outputs": [
    {
     "data": {
      "text/plain": [
       "transactions in sparse format with\n",
       " 48842 transactions (rows) and\n",
       " 115 items (columns)"
      ]
     },
     "metadata": {},
     "output_type": "display_data"
    }
   ],
   "source": [
    "Adult"
   ]
  },
  {
   "cell_type": "markdown",
   "id": "1334dd03-790d-4007-a5ed-489f10ecdf9c",
   "metadata": {},
   "source": [
    "- 성인을 대상으로 인구 소득에 관한 설문 조사 데이터를 포함하고 있는 AdultUCI 데이터 셋을 트랜잭션 객체로 변환하여 준비된 데이터 셋."
   ]
  },
  {
   "cell_type": "code",
   "execution_count": 28,
   "id": "587ebaf4-cfdd-4488-8567-7df4517d2f50",
   "metadata": {},
   "outputs": [
    {
     "name": "stdout",
     "output_type": "stream",
     "text": [
      "'data.frame':\t48842 obs. of  15 variables:\n",
      " $ age           : int  39 50 38 53 28 37 49 52 31 42 ...\n",
      " $ workclass     : Factor w/ 8 levels \"Federal-gov\",..: 7 6 4 4 4 4 4 6 4 4 ...\n",
      " $ fnlwgt        : int  77516 83311 215646 234721 338409 284582 160187 209642 45781 159449 ...\n",
      " $ education     : Ord.factor w/ 16 levels \"Preschool\"<\"1st-4th\"<..: 14 14 9 7 14 15 5 9 15 14 ...\n",
      " $ education-num : int  13 13 9 7 13 14 5 9 14 13 ...\n",
      " $ marital-status: Factor w/ 7 levels \"Divorced\",\"Married-AF-spouse\",..: 5 3 1 3 3 3 4 3 5 3 ...\n",
      " $ occupation    : Factor w/ 14 levels \"Adm-clerical\",..: 1 4 6 6 10 4 8 4 10 4 ...\n",
      " $ relationship  : Factor w/ 6 levels \"Husband\",\"Not-in-family\",..: 2 1 2 1 6 6 2 1 2 1 ...\n",
      " $ race          : Factor w/ 5 levels \"Amer-Indian-Eskimo\",..: 5 5 5 3 3 5 3 5 5 5 ...\n",
      " $ sex           : Factor w/ 2 levels \"Female\",\"Male\": 2 2 2 2 1 1 1 2 1 2 ...\n",
      " $ capital-gain  : int  2174 0 0 0 0 0 0 0 14084 5178 ...\n",
      " $ capital-loss  : int  0 0 0 0 0 0 0 0 0 0 ...\n",
      " $ hours-per-week: int  40 13 40 40 40 40 16 45 50 40 ...\n",
      " $ native-country: Factor w/ 41 levels \"Cambodia\",\"Canada\",..: 39 39 39 39 5 39 23 39 39 39 ...\n",
      " $ income        : Ord.factor w/ 2 levels \"small\"<\"large\": 1 1 1 1 1 1 1 2 2 2 ...\n"
     ]
    }
   ],
   "source": [
    "data('AdultUCI')\n",
    "str(AdultUCI)"
   ]
  },
  {
   "cell_type": "code",
   "execution_count": 29,
   "id": "bbc2030b-9b2f-478a-b982-800d2b8c224c",
   "metadata": {},
   "outputs": [
    {
     "name": "stdout",
     "output_type": "stream",
     "text": [
      "'data.frame':\t48842 obs. of  2 variables:\n",
      " $ items        : chr  \"{age=Middle-aged,workclass=State-gov,education=Bachelors,marital-status=Never-married,occupation=Adm-clerical,r\"| __truncated__ \"{age=Senior,workclass=Self-emp-not-inc,education=Bachelors,marital-status=Married-civ-spouse,occupation=Exec-ma\"| __truncated__ \"{age=Middle-aged,workclass=Private,education=HS-grad,marital-status=Divorced,occupation=Handlers-cleaners,relat\"| __truncated__ \"{age=Senior,workclass=Private,education=11th,marital-status=Married-civ-spouse,occupation=Handlers-cleaners,rel\"| __truncated__ ...\n",
      " $ transactionID: chr  \"1\" \"2\" \"3\" \"4\" ...\n"
     ]
    }
   ],
   "source": [
    "# data.frame 형식으로 보기\n",
    "adult = as(Adult, 'data.frame')\n",
    "str(adult)"
   ]
  },
  {
   "cell_type": "code",
   "execution_count": 30,
   "id": "c1ffeab1-466a-4ae2-ba17-3c5b8ba0e579",
   "metadata": {},
   "outputs": [
    {
     "data": {
      "text/html": [
       "<table class=\"dataframe\">\n",
       "<caption>A data.frame: 6 × 2</caption>\n",
       "<thead>\n",
       "\t<tr><th></th><th scope=col>items</th><th scope=col>transactionID</th></tr>\n",
       "\t<tr><th></th><th scope=col>&lt;chr&gt;</th><th scope=col>&lt;chr&gt;</th></tr>\n",
       "</thead>\n",
       "<tbody>\n",
       "\t<tr><th scope=row>1</th><td>{age=Middle-aged,workclass=State-gov,education=Bachelors,marital-status=Never-married,occupation=Adm-clerical,relationship=Not-in-family,race=White,sex=Male,capital-gain=Low,capital-loss=None,hours-per-week=Full-time,native-country=United-States,income=small}     </td><td>1</td></tr>\n",
       "\t<tr><th scope=row>2</th><td>{age=Senior,workclass=Self-emp-not-inc,education=Bachelors,marital-status=Married-civ-spouse,occupation=Exec-managerial,relationship=Husband,race=White,sex=Male,capital-gain=None,capital-loss=None,hours-per-week=Part-time,native-country=United-States,income=small}</td><td>2</td></tr>\n",
       "\t<tr><th scope=row>3</th><td>{age=Middle-aged,workclass=Private,education=HS-grad,marital-status=Divorced,occupation=Handlers-cleaners,relationship=Not-in-family,race=White,sex=Male,capital-gain=None,capital-loss=None,hours-per-week=Full-time,native-country=United-States,income=small}        </td><td>3</td></tr>\n",
       "\t<tr><th scope=row>4</th><td>{age=Senior,workclass=Private,education=11th,marital-status=Married-civ-spouse,occupation=Handlers-cleaners,relationship=Husband,race=Black,sex=Male,capital-gain=None,capital-loss=None,hours-per-week=Full-time,native-country=United-States,income=small}            </td><td>4</td></tr>\n",
       "\t<tr><th scope=row>5</th><td>{age=Middle-aged,workclass=Private,education=Bachelors,marital-status=Married-civ-spouse,occupation=Prof-specialty,relationship=Wife,race=Black,sex=Female,capital-gain=None,capital-loss=None,hours-per-week=Full-time,native-country=Cuba,income=small}               </td><td>5</td></tr>\n",
       "\t<tr><th scope=row>6</th><td>{age=Middle-aged,workclass=Private,education=Masters,marital-status=Married-civ-spouse,occupation=Exec-managerial,relationship=Wife,race=White,sex=Female,capital-gain=None,capital-loss=None,hours-per-week=Full-time,native-country=United-States,income=small}       </td><td>6</td></tr>\n",
       "</tbody>\n",
       "</table>\n"
      ],
      "text/latex": [
       "A data.frame: 6 × 2\n",
       "\\begin{tabular}{r|ll}\n",
       "  & items & transactionID\\\\\n",
       "  & <chr> & <chr>\\\\\n",
       "\\hline\n",
       "\t1 & \\{age=Middle-aged,workclass=State-gov,education=Bachelors,marital-status=Never-married,occupation=Adm-clerical,relationship=Not-in-family,race=White,sex=Male,capital-gain=Low,capital-loss=None,hours-per-week=Full-time,native-country=United-States,income=small\\}      & 1\\\\\n",
       "\t2 & \\{age=Senior,workclass=Self-emp-not-inc,education=Bachelors,marital-status=Married-civ-spouse,occupation=Exec-managerial,relationship=Husband,race=White,sex=Male,capital-gain=None,capital-loss=None,hours-per-week=Part-time,native-country=United-States,income=small\\} & 2\\\\\n",
       "\t3 & \\{age=Middle-aged,workclass=Private,education=HS-grad,marital-status=Divorced,occupation=Handlers-cleaners,relationship=Not-in-family,race=White,sex=Male,capital-gain=None,capital-loss=None,hours-per-week=Full-time,native-country=United-States,income=small\\}         & 3\\\\\n",
       "\t4 & \\{age=Senior,workclass=Private,education=11th,marital-status=Married-civ-spouse,occupation=Handlers-cleaners,relationship=Husband,race=Black,sex=Male,capital-gain=None,capital-loss=None,hours-per-week=Full-time,native-country=United-States,income=small\\}             & 4\\\\\n",
       "\t5 & \\{age=Middle-aged,workclass=Private,education=Bachelors,marital-status=Married-civ-spouse,occupation=Prof-specialty,relationship=Wife,race=Black,sex=Female,capital-gain=None,capital-loss=None,hours-per-week=Full-time,native-country=Cuba,income=small\\}                & 5\\\\\n",
       "\t6 & \\{age=Middle-aged,workclass=Private,education=Masters,marital-status=Married-civ-spouse,occupation=Exec-managerial,relationship=Wife,race=White,sex=Female,capital-gain=None,capital-loss=None,hours-per-week=Full-time,native-country=United-States,income=small\\}        & 6\\\\\n",
       "\\end{tabular}\n"
      ],
      "text/markdown": [
       "\n",
       "A data.frame: 6 × 2\n",
       "\n",
       "| <!--/--> | items &lt;chr&gt; | transactionID &lt;chr&gt; |\n",
       "|---|---|---|\n",
       "| 1 | {age=Middle-aged,workclass=State-gov,education=Bachelors,marital-status=Never-married,occupation=Adm-clerical,relationship=Not-in-family,race=White,sex=Male,capital-gain=Low,capital-loss=None,hours-per-week=Full-time,native-country=United-States,income=small}      | 1 |\n",
       "| 2 | {age=Senior,workclass=Self-emp-not-inc,education=Bachelors,marital-status=Married-civ-spouse,occupation=Exec-managerial,relationship=Husband,race=White,sex=Male,capital-gain=None,capital-loss=None,hours-per-week=Part-time,native-country=United-States,income=small} | 2 |\n",
       "| 3 | {age=Middle-aged,workclass=Private,education=HS-grad,marital-status=Divorced,occupation=Handlers-cleaners,relationship=Not-in-family,race=White,sex=Male,capital-gain=None,capital-loss=None,hours-per-week=Full-time,native-country=United-States,income=small}         | 3 |\n",
       "| 4 | {age=Senior,workclass=Private,education=11th,marital-status=Married-civ-spouse,occupation=Handlers-cleaners,relationship=Husband,race=Black,sex=Male,capital-gain=None,capital-loss=None,hours-per-week=Full-time,native-country=United-States,income=small}             | 4 |\n",
       "| 5 | {age=Middle-aged,workclass=Private,education=Bachelors,marital-status=Married-civ-spouse,occupation=Prof-specialty,relationship=Wife,race=Black,sex=Female,capital-gain=None,capital-loss=None,hours-per-week=Full-time,native-country=Cuba,income=small}                | 5 |\n",
       "| 6 | {age=Middle-aged,workclass=Private,education=Masters,marital-status=Married-civ-spouse,occupation=Exec-managerial,relationship=Wife,race=White,sex=Female,capital-gain=None,capital-loss=None,hours-per-week=Full-time,native-country=United-States,income=small}        | 6 |\n",
       "\n"
      ],
      "text/plain": [
       "  items                                                                                                                                                                                                                                                                   \n",
       "1 {age=Middle-aged,workclass=State-gov,education=Bachelors,marital-status=Never-married,occupation=Adm-clerical,relationship=Not-in-family,race=White,sex=Male,capital-gain=Low,capital-loss=None,hours-per-week=Full-time,native-country=United-States,income=small}     \n",
       "2 {age=Senior,workclass=Self-emp-not-inc,education=Bachelors,marital-status=Married-civ-spouse,occupation=Exec-managerial,relationship=Husband,race=White,sex=Male,capital-gain=None,capital-loss=None,hours-per-week=Part-time,native-country=United-States,income=small}\n",
       "3 {age=Middle-aged,workclass=Private,education=HS-grad,marital-status=Divorced,occupation=Handlers-cleaners,relationship=Not-in-family,race=White,sex=Male,capital-gain=None,capital-loss=None,hours-per-week=Full-time,native-country=United-States,income=small}        \n",
       "4 {age=Senior,workclass=Private,education=11th,marital-status=Married-civ-spouse,occupation=Handlers-cleaners,relationship=Husband,race=Black,sex=Male,capital-gain=None,capital-loss=None,hours-per-week=Full-time,native-country=United-States,income=small}            \n",
       "5 {age=Middle-aged,workclass=Private,education=Bachelors,marital-status=Married-civ-spouse,occupation=Prof-specialty,relationship=Wife,race=Black,sex=Female,capital-gain=None,capital-loss=None,hours-per-week=Full-time,native-country=Cuba,income=small}               \n",
       "6 {age=Middle-aged,workclass=Private,education=Masters,marital-status=Married-civ-spouse,occupation=Exec-managerial,relationship=Wife,race=White,sex=Female,capital-gain=None,capital-loss=None,hours-per-week=Full-time,native-country=United-States,income=small}       \n",
       "  transactionID\n",
       "1 1            \n",
       "2 2            \n",
       "3 3            \n",
       "4 4            \n",
       "5 5            \n",
       "6 6            "
      ]
     },
     "metadata": {},
     "output_type": "display_data"
    }
   ],
   "source": [
    "head(adult)"
   ]
  },
  {
   "cell_type": "code",
   "execution_count": 33,
   "id": "b168eee1-1975-4dee-a50a-27fa7bbecbbf",
   "metadata": {},
   "outputs": [
    {
     "data": {
      "text/plain": [
       "transactions as itemMatrix in sparse format with\n",
       " 48842 rows (elements/itemsets/transactions) and\n",
       " 115 columns (items) and a density of 0.1089939 \n",
       "\n",
       "most frequent items:\n",
       "           capital-loss=None            capital-gain=None \n",
       "                       46560                        44807 \n",
       "native-country=United-States                   race=White \n",
       "                       43832                        41762 \n",
       "           workclass=Private                      (Other) \n",
       "                       33906                       401333 \n",
       "\n",
       "element (itemset/transaction) length distribution:\n",
       "sizes\n",
       "    9    10    11    12    13 \n",
       "   19   971  2067 15623 30162 \n",
       "\n",
       "   Min. 1st Qu.  Median    Mean 3rd Qu.    Max. \n",
       "   9.00   12.00   13.00   12.53   13.00   13.00 \n",
       "\n",
       "includes extended item information - examples:\n",
       "           labels variables      levels\n",
       "1       age=Young       age       Young\n",
       "2 age=Middle-aged       age Middle-aged\n",
       "3      age=Senior       age      Senior\n",
       "\n",
       "includes extended transaction information - examples:\n",
       "  transactionID\n",
       "1             1\n",
       "2             2\n",
       "3             3"
      ]
     },
     "metadata": {},
     "output_type": "display_data"
    }
   ],
   "source": [
    "# 요약통계량\n",
    "summary(Adult)\n",
    "# 아이템에 해당하는 트랜잭션 개수를 확인할 수 있다."
   ]
  },
  {
   "cell_type": "code",
   "execution_count": 34,
   "id": "3391d121-1021-439b-be6f-a336c6b12a4f",
   "metadata": {},
   "outputs": [
    {
     "name": "stdout",
     "output_type": "stream",
     "text": [
      "Apriori\n",
      "\n",
      "Parameter specification:\n",
      " confidence minval smax arem  aval originalSupport maxtime support minlen\n",
      "        0.8    0.1    1 none FALSE            TRUE       5     0.1      1\n",
      " maxlen target  ext\n",
      "     10  rules TRUE\n",
      "\n",
      "Algorithmic control:\n",
      " filter tree heap memopt load sort verbose\n",
      "    0.1 TRUE TRUE  FALSE TRUE    2    TRUE\n",
      "\n",
      "Absolute minimum support count: 4884 \n",
      "\n",
      "set item appearances ...[0 item(s)] done [0.00s].\n",
      "set transactions ...[115 item(s), 48842 transaction(s)] done [0.03s].\n",
      "sorting and recoding items ... [31 item(s)] done [0.01s].\n",
      "creating transaction tree ... done [0.03s].\n",
      "checking subsets of size 1 2 3 4 5 6 7 8 9 done [0.07s].\n",
      "writing ... [6137 rule(s)] done [0.00s].\n",
      "creating S4 object  ... done [0.00s].\n"
     ]
    }
   ],
   "source": [
    "# 지지도 10%와 신뢰도 80%가 적용된 연관규칙 발견\n",
    "ar = apriori(Adult, parameter = list(supp = 0.1, conf = 0.8))\n"
   ]
  },
  {
   "cell_type": "markdown",
   "id": "94f5e492-6c33-4f13-8cf5-5b6861fe6e95",
   "metadata": {},
   "source": [
    "- apriori() 함수는 알고리즘을 적용하여 연관규칙을 발견하는 함수이다. 신뢰도 80%와 지지도 10%를 적용하여 연관규칙을 생성하면 6137개의 규칙이 발견된다."
   ]
  },
  {
   "cell_type": "code",
   "execution_count": 37,
   "id": "2aab1401-90d5-43d2-a123-9bf394d4b06e",
   "metadata": {},
   "outputs": [
    {
     "name": "stdout",
     "output_type": "stream",
     "text": [
      "Apriori\n",
      "\n",
      "Parameter specification:\n",
      " confidence minval smax arem  aval originalSupport maxtime support minlen\n",
      "        0.8    0.1    1 none FALSE            TRUE       5     0.2      1\n",
      " maxlen target  ext\n",
      "     10  rules TRUE\n",
      "\n",
      "Algorithmic control:\n",
      " filter tree heap memopt load sort verbose\n",
      "    0.1 TRUE TRUE  FALSE TRUE    2    TRUE\n",
      "\n",
      "Absolute minimum support count: 9768 \n",
      "\n",
      "set item appearances ...[0 item(s)] done [0.00s].\n",
      "set transactions ...[115 item(s), 48842 transaction(s)] done [0.03s].\n",
      "sorting and recoding items ... [18 item(s)] done [0.00s].\n",
      "creating transaction tree ... done [0.02s].\n",
      "checking subsets of size 1 2 3 4 5 6 7 done [0.00s].\n",
      "writing ... [1306 rule(s)] done [0.00s].\n",
      "creating S4 object  ... done [0.00s].\n",
      "Apriori\n",
      "\n",
      "Parameter specification:\n",
      " confidence minval smax arem  aval originalSupport maxtime support minlen\n",
      "       0.95    0.1    1 none FALSE            TRUE       5     0.3      1\n",
      " maxlen target  ext\n",
      "     10  rules TRUE\n",
      "\n",
      "Algorithmic control:\n",
      " filter tree heap memopt load sort verbose\n",
      "    0.1 TRUE TRUE  FALSE TRUE    2    TRUE\n",
      "\n",
      "Absolute minimum support count: 14652 \n",
      "\n",
      "set item appearances ...[0 item(s)] done [0.00s].\n",
      "set transactions ...[115 item(s), 48842 transaction(s)] done [0.03s].\n",
      "sorting and recoding items ... [14 item(s)] done [0.00s].\n",
      "creating transaction tree ... done [0.01s].\n",
      "checking subsets of size 1 2 3 4 5 6 done [0.00s].\n",
      "writing ... [124 rule(s)] done [0.00s].\n",
      "creating S4 object  ... done [0.00s].\n",
      "Apriori\n",
      "\n",
      "Parameter specification:\n",
      " confidence minval smax arem  aval originalSupport maxtime support minlen\n",
      "       0.95    0.1    1 none FALSE            TRUE       5     0.4      1\n",
      " maxlen target  ext\n",
      "     10  rules TRUE\n",
      "\n",
      "Algorithmic control:\n",
      " filter tree heap memopt load sort verbose\n",
      "    0.1 TRUE TRUE  FALSE TRUE    2    TRUE\n",
      "\n",
      "Absolute minimum support count: 19536 \n",
      "\n",
      "set item appearances ...[0 item(s)] done [0.00s].\n",
      "set transactions ...[115 item(s), 48842 transaction(s)] done [0.02s].\n",
      "sorting and recoding items ... [11 item(s)] done [0.00s].\n",
      "creating transaction tree ... done [0.01s].\n",
      "checking subsets of size 1 2 3 4 5 done [0.00s].\n",
      "writing ... [36 rule(s)] done [0.00s].\n",
      "creating S4 object  ... done [0.00s].\n"
     ]
    }
   ],
   "source": [
    "# 단계 1 : 지지도를 20%로 향상\n",
    "ar1 = apriori(Adult, parameter = list(supp=0.2))\n",
    "# 규칙 1306개\n",
    "\n",
    "# 단계 3 : 지지도 30%, 신뢰도 95%\n",
    "ar3 = apriori(Adult, parameter = list(supp = 0.3, conf = 0.95))\n",
    "\n",
    "# 단계 5 : 지지도 40%, 신뢰도 95%로 높인 경우\n",
    "ar5 = apriori(Adult, parameter = list(supp = 0.4, conf = 0.95))\n",
    "# 규칙 36개"
   ]
  },
  {
   "cell_type": "markdown",
   "id": "dd33d9e9-714b-4936-9374-54a624d56b81",
   "metadata": {},
   "source": [
    "- 지지도와 신뢰도에 따라서 규칙의 수가 달라지는 것을 확인할 수 있다. \n",
    "- 지지도와 신뢰도가 높아질수록 규칙의 수는 줄어든다.\n",
    "- 또한 신뢰도 또는 향상도를 기준으로 내림차순 정렬하여 연관규칙 결과를 확인할 수 있다. "
   ]
  },
  {
   "cell_type": "markdown",
   "id": "fb84164e-5a6c-415a-9b55-05d4bba294d9",
   "metadata": {},
   "source": [
    "---"
   ]
  },
  {
   "cell_type": "markdown",
   "id": "0dcc47c6-0a43-4294-84ea-1b1de71e1908",
   "metadata": {},
   "source": [
    "- 연관규칙 시각화"
   ]
  },
  {
   "cell_type": "code",
   "execution_count": 38,
   "id": "9cce60fa-07c7-4353-b3b6-44e70ec2984f",
   "metadata": {},
   "outputs": [
    {
     "name": "stderr",
     "output_type": "stream",
     "text": [
      "also installing the dependencies 'tweenr', 'polyclip', 'RcppArmadillo', 'TSP', 'qap', 'gclus', 'registry', 'ggforce', 'ggrepel', 'tidygraph', 'graphlayouts', 'crosstalk', 'seriation', 'vcd', 'igraph', 'ggraph', 'DT', 'plotly', 'visNetwork'\n",
      "\n",
      "\n"
     ]
    },
    {
     "name": "stdout",
     "output_type": "stream",
     "text": [
      "package 'tweenr' successfully unpacked and MD5 sums checked\n",
      "package 'polyclip' successfully unpacked and MD5 sums checked\n",
      "package 'RcppArmadillo' successfully unpacked and MD5 sums checked\n",
      "package 'TSP' successfully unpacked and MD5 sums checked\n",
      "package 'qap' successfully unpacked and MD5 sums checked\n",
      "package 'gclus' successfully unpacked and MD5 sums checked\n",
      "package 'registry' successfully unpacked and MD5 sums checked\n",
      "package 'ggforce' successfully unpacked and MD5 sums checked\n",
      "package 'ggrepel' successfully unpacked and MD5 sums checked\n",
      "package 'tidygraph' successfully unpacked and MD5 sums checked\n",
      "package 'graphlayouts' successfully unpacked and MD5 sums checked\n",
      "package 'crosstalk' successfully unpacked and MD5 sums checked\n",
      "package 'seriation' successfully unpacked and MD5 sums checked\n",
      "package 'vcd' successfully unpacked and MD5 sums checked\n",
      "package 'igraph' successfully unpacked and MD5 sums checked\n",
      "package 'ggraph' successfully unpacked and MD5 sums checked\n",
      "package 'DT' successfully unpacked and MD5 sums checked\n",
      "package 'plotly' successfully unpacked and MD5 sums checked\n",
      "package 'visNetwork' successfully unpacked and MD5 sums checked\n",
      "package 'arulesViz' successfully unpacked and MD5 sums checked\n",
      "\n",
      "The downloaded binary packages are in\n",
      "\tC:\\Users\\ehfus\\AppData\\Local\\Temp\\RtmpaWwnFi\\downloaded_packages\n"
     ]
    },
    {
     "name": "stderr",
     "output_type": "stream",
     "text": [
      "Warning message:\n",
      "\"Unknown control parameters: type\"\n"
     ]
    },
    {
     "name": "stdout",
     "output_type": "stream",
     "text": [
      "Available control parameters (with default values):\n",
      "layout\t =  stress\n",
      "circular\t =  FALSE\n",
      "ggraphdots\t =  NULL\n",
      "edges\t =  <environment>\n",
      "nodes\t =  <environment>\n",
      "nodetext\t =  <environment>\n",
      "colors\t =  c(\"#EE0000FF\", \"#EEEEEEFF\")\n",
      "engine\t =  ggplot2\n",
      "max\t =  100\n",
      "verbose\t =  FALSE\n"
     ]
    },
    {
     "name": "stderr",
     "output_type": "stream",
     "text": [
      "Warning message:\n",
      "\"Too many rules supplied. Only plotting the best 100 using 'lift' (change control parameter max if needed).\"\n"
     ]
    },
    {
     "data": {
      "image/png": "[encoded data removed]",
      "text/plain": [
       "plot without title"
      ]
     },
     "metadata": {
      "image/png": {
       "height": 420,
       "width": 420
      }
     },
     "output_type": "display_data"
    }
   ],
   "source": [
    "install.packages('arulesViz')\n",
    "library(arulesViz)\n",
    "\n",
    "# 연관규칙 시각화\n",
    "plot(ar3, method = 'graph', control = list(type='items'))"
   ]
  },
  {
   "cell_type": "markdown",
   "id": "2a39b6b7-8dba-4363-8f55-3a9f3f1857fd",
   "metadata": {},
   "source": [
    "- control 속성은 생략 가능하다. "
   ]
  },
  {
   "cell_type": "markdown",
   "id": "b549d8dd-c276-43bb-84fb-9295f133863c",
   "metadata": {},
   "source": [
    "- 124개의 연관규칙은 지나치게 많아서 최적의 규칙 100개만 지원됐다.\n",
    "- 시각화 결과\n",
    "  - 5만 달러 이상의 연봉 수령자와 관련 연관어는 정규직, 백인, 미국 ,자본 손실 없음, 직업은 자영업 등으로 나타난다. "
   ]
  },
  {
   "cell_type": "markdown",
   "id": "b22b0d1e-7667-4377-a729-5849b87467f5",
   "metadata": {},
   "source": [
    "---"
   ]
  },
  {
   "cell_type": "markdown",
   "id": "d481b303-a3f1-4bed-8fa3-b9afc3bbe2e7",
   "metadata": {},
   "source": [
    "- Groceries 데이터 셋으로 연관분석"
   ]
  },
  {
   "cell_type": "code",
   "execution_count": 39,
   "id": "160410a5-475f-4799-b8fb-30f0ffee07cd",
   "metadata": {},
   "outputs": [],
   "source": [
    "data('Groceries')"
   ]
  },
  {
   "cell_type": "markdown",
   "id": "5d2371a1-14eb-4217-b9a0-488ef70728cf",
   "metadata": {},
   "source": [
    "- 1개월 동안 실제 지역 식료품매장에서 판매되는 트랜잭션 데이터를 포함하고 있다."
   ]
  },
  {
   "cell_type": "code",
   "execution_count": 40,
   "id": "813455ba-88fa-4999-85e3-176ec0fd916b",
   "metadata": {},
   "outputs": [
    {
     "data": {
      "text/html": [
       "<table class=\"dataframe\">\n",
       "<caption>A data.frame: 6 × 1</caption>\n",
       "<thead>\n",
       "\t<tr><th></th><th scope=col>items</th></tr>\n",
       "\t<tr><th></th><th scope=col>&lt;chr&gt;</th></tr>\n",
       "</thead>\n",
       "<tbody>\n",
       "\t<tr><th scope=row>1</th><td>{citrus fruit,semi-finished bread,margarine,ready soups}             </td></tr>\n",
       "\t<tr><th scope=row>2</th><td>{tropical fruit,yogurt,coffee}                                       </td></tr>\n",
       "\t<tr><th scope=row>3</th><td>{whole milk}                                                         </td></tr>\n",
       "\t<tr><th scope=row>4</th><td>{pip fruit,yogurt,cream cheese ,meat spreads}                        </td></tr>\n",
       "\t<tr><th scope=row>5</th><td>{other vegetables,whole milk,condensed milk,long life bakery product}</td></tr>\n",
       "\t<tr><th scope=row>6</th><td>{whole milk,butter,yogurt,rice,abrasive cleaner}                     </td></tr>\n",
       "</tbody>\n",
       "</table>\n"
      ],
      "text/latex": [
       "A data.frame: 6 × 1\n",
       "\\begin{tabular}{r|l}\n",
       "  & items\\\\\n",
       "  & <chr>\\\\\n",
       "\\hline\n",
       "\t1 & \\{citrus fruit,semi-finished bread,margarine,ready soups\\}             \\\\\n",
       "\t2 & \\{tropical fruit,yogurt,coffee\\}                                       \\\\\n",
       "\t3 & \\{whole milk\\}                                                         \\\\\n",
       "\t4 & \\{pip fruit,yogurt,cream cheese ,meat spreads\\}                        \\\\\n",
       "\t5 & \\{other vegetables,whole milk,condensed milk,long life bakery product\\}\\\\\n",
       "\t6 & \\{whole milk,butter,yogurt,rice,abrasive cleaner\\}                     \\\\\n",
       "\\end{tabular}\n"
      ],
      "text/markdown": [
       "\n",
       "A data.frame: 6 × 1\n",
       "\n",
       "| <!--/--> | items &lt;chr&gt; |\n",
       "|---|---|\n",
       "| 1 | {citrus fruit,semi-finished bread,margarine,ready soups}              |\n",
       "| 2 | {tropical fruit,yogurt,coffee}                                        |\n",
       "| 3 | {whole milk}                                                          |\n",
       "| 4 | {pip fruit,yogurt,cream cheese ,meat spreads}                         |\n",
       "| 5 | {other vegetables,whole milk,condensed milk,long life bakery product} |\n",
       "| 6 | {whole milk,butter,yogurt,rice,abrasive cleaner}                      |\n",
       "\n"
      ],
      "text/plain": [
       "  items                                                                \n",
       "1 {citrus fruit,semi-finished bread,margarine,ready soups}             \n",
       "2 {tropical fruit,yogurt,coffee}                                       \n",
       "3 {whole milk}                                                         \n",
       "4 {pip fruit,yogurt,cream cheese ,meat spreads}                        \n",
       "5 {other vegetables,whole milk,condensed milk,long life bakery product}\n",
       "6 {whole milk,butter,yogurt,rice,abrasive cleaner}                     "
      ]
     },
     "metadata": {},
     "output_type": "display_data"
    }
   ],
   "source": [
    "# data.frame으로 형 변환\n",
    "Groceries.df = as(Groceries, 'data.frame')\n",
    "head(Groceries.df)"
   ]
  },
  {
   "cell_type": "code",
   "execution_count": 41,
   "id": "e74354e9-e562-4579-8791-ef3a4fa9ce21",
   "metadata": {},
   "outputs": [
    {
     "name": "stdout",
     "output_type": "stream",
     "text": [
      "Apriori\n",
      "\n",
      "Parameter specification:\n",
      " confidence minval smax arem  aval originalSupport maxtime support minlen\n",
      "        0.8    0.1    1 none FALSE            TRUE       5   0.001      1\n",
      " maxlen target  ext\n",
      "     10  rules TRUE\n",
      "\n",
      "Algorithmic control:\n",
      " filter tree heap memopt load sort verbose\n",
      "    0.1 TRUE TRUE  FALSE TRUE    2    TRUE\n",
      "\n",
      "Absolute minimum support count: 9 \n",
      "\n",
      "set item appearances ...[0 item(s)] done [0.00s].\n",
      "set transactions ...[169 item(s), 9835 transaction(s)] done [0.00s].\n",
      "sorting and recoding items ... [157 item(s)] done [0.00s].\n",
      "creating transaction tree ... done [0.00s].\n",
      "checking subsets of size 1 2 3 4 5 6 done [0.01s].\n",
      "writing ... [410 rule(s)] done [0.00s].\n",
      "creating S4 object  ... done [0.00s].\n"
     ]
    }
   ],
   "source": [
    "# 지지도 0.001, 신뢰도 0.8 적용하여 규칙 발견\n",
    "rules = apriori(Groceries, parameter = list(supp=0.001, conf = 0.8))"
   ]
  },
  {
   "cell_type": "markdown",
   "id": "7711bc91-e2be-42b3-b9bc-cc6a379a9518",
   "metadata": {},
   "source": [
    "- 규칙을 구성하는 왼쪽(LHS) -> 오른쪽(RHS)의 item 빈도수 보기"
   ]
  },
  {
   "cell_type": "code",
   "execution_count": 43,
   "id": "0d58efdd-6f40-4ba8-83d1-d6a489c56cb9",
   "metadata": {},
   "outputs": [
    {
     "data": {
      "image/png": "[encoded data removed]",
      "text/plain": [
       "plot without title"
      ]
     },
     "metadata": {
      "image/png": {
       "height": 420,
       "width": 420
      }
     },
     "output_type": "display_data"
    }
   ],
   "source": [
    "plot(rules, method = 'grouped')"
   ]
  },
  {
   "cell_type": "code",
   "execution_count": 44,
   "id": "d97fcede-e47d-4c1b-b89e-cd61fd6a6ec1",
   "metadata": {},
   "outputs": [
    {
     "name": "stdout",
     "output_type": "stream",
     "text": [
      "Apriori\n",
      "\n",
      "Parameter specification:\n",
      " confidence minval smax arem  aval originalSupport maxtime support minlen\n",
      "        0.8    0.1    1 none FALSE            TRUE       5   0.001      1\n",
      " maxlen target  ext\n",
      "      3  rules TRUE\n",
      "\n",
      "Algorithmic control:\n",
      " filter tree heap memopt load sort verbose\n",
      "    0.1 TRUE TRUE  FALSE TRUE    2    TRUE\n",
      "\n",
      "Absolute minimum support count: 9 \n",
      "\n",
      "set item appearances ...[0 item(s)] done [0.00s].\n",
      "set transactions ...[169 item(s), 9835 transaction(s)] done [0.00s].\n",
      "sorting and recoding items ... [157 item(s)] done [0.00s].\n",
      "creating transaction tree ... done [0.00s].\n",
      "checking subsets of size 1 2 3"
     ]
    },
    {
     "name": "stderr",
     "output_type": "stream",
     "text": [
      "Warning message in apriori(Groceries, parameter = list(supp = 0.001, conf = 0.8, :\n",
      "\"Mining stopped (maxlen reached). Only patterns up to a length of 3 returned!\"\n"
     ]
    },
    {
     "name": "stdout",
     "output_type": "stream",
     "text": [
      " done [0.01s].\n",
      "writing ... [29 rule(s)] done [0.00s].\n",
      "creating S4 object  ... done [0.00s].\n"
     ]
    }
   ],
   "source": [
    "# 최대 길이가 3이하인 규칙 생성\n",
    "rules = apriori(Groceries, parameter = list(supp=0.001, conf=0.8, maxlen = 3))"
   ]
  },
  {
   "cell_type": "code",
   "execution_count": 45,
   "id": "024ad6bf-4db9-484f-b27f-fd10a1146b1a",
   "metadata": {},
   "outputs": [
    {
     "name": "stdout",
     "output_type": "stream",
     "text": [
      "     lhs                         rhs                    support confidence    coverage      lift count\n",
      "[1]  {rice,                                                                                           \n",
      "      sugar}                  => {whole milk}       0.001220132  1.0000000 0.001220132  3.913649    12\n",
      "[2]  {canned fish,                                                                                    \n",
      "      hygiene articles}       => {whole milk}       0.001118454  1.0000000 0.001118454  3.913649    11\n",
      "[3]  {whipped/sour cream,                                                                             \n",
      "      house keeping products} => {whole milk}       0.001220132  0.9230769 0.001321810  3.612599    12\n",
      "[4]  {rice,                                                                                           \n",
      "      bottled water}          => {whole milk}       0.001220132  0.9230769 0.001321810  3.612599    12\n",
      "[5]  {soups,                                                                                          \n",
      "      bottled beer}           => {whole milk}       0.001118454  0.9166667 0.001220132  3.587512    11\n",
      "[6]  {grapes,                                                                                         \n",
      "      onions}                 => {other vegetables} 0.001118454  0.9166667 0.001220132  4.737476    11\n",
      "[7]  {hard cheese,                                                                                    \n",
      "      oil}                    => {other vegetables} 0.001118454  0.9166667 0.001220132  4.737476    11\n",
      "[8]  {curd,                                                                                           \n",
      "      cereals}                => {whole milk}       0.001016777  0.9090909 0.001118454  3.557863    10\n",
      "[9]  {pastry,                                                                                         \n",
      "      sweet spreads}          => {whole milk}       0.001016777  0.9090909 0.001118454  3.557863    10\n",
      "[10] {liquor,                                                                                         \n",
      "      red/blush wine}         => {bottled beer}     0.001931876  0.9047619 0.002135231 11.235269    19\n",
      "[11] {oil,                                                                                            \n",
      "      mustard}                => {whole milk}       0.001220132  0.8571429 0.001423488  3.354556    12\n",
      "[12] {pickled vegetables,                                                                             \n",
      "      chocolate}              => {whole milk}       0.001220132  0.8571429 0.001423488  3.354556    12\n",
      "[13] {pork,                                                                                           \n",
      "      butter milk}            => {other vegetables} 0.001830198  0.8571429 0.002135231  4.429848    18\n",
      "[14] {meat,                                                                                           \n",
      "      margarine}              => {other vegetables} 0.001728521  0.8500000 0.002033554  4.392932    17\n",
      "[15] {domestic eggs,                                                                                  \n",
      "      rice}                   => {whole milk}       0.001118454  0.8461538 0.001321810  3.311549    11\n",
      "[16] {butter,                                                                                         \n",
      "      jam}                    => {whole milk}       0.001016777  0.8333333 0.001220132  3.261374    10\n",
      "[17] {butter,                                                                                         \n",
      "      rice}                   => {whole milk}       0.001525165  0.8333333 0.001830198  3.261374    15\n",
      "[18] {yogurt,                                                                                         \n",
      "      rice}                   => {other vegetables} 0.001931876  0.8260870 0.002338587  4.269346    19\n",
      "[19] {herbs,                                                                                          \n",
      "      shopping bags}          => {other vegetables} 0.001931876  0.8260870 0.002338587  4.269346    19\n",
      "[20] {tropical fruit,                                                                                 \n",
      "      herbs}                  => {whole milk}       0.002338587  0.8214286 0.002846975  3.214783    23\n",
      "[21] {napkins,                                                                                        \n",
      "      house keeping products} => {whole milk}       0.001321810  0.8125000 0.001626843  3.179840    13\n",
      "[22] {onions,                                                                                         \n",
      "      butter milk}            => {other vegetables} 0.001321810  0.8125000 0.001626843  4.199126    13\n",
      "[23] {yogurt,                                                                                         \n",
      "      cereals}                => {whole milk}       0.001728521  0.8095238 0.002135231  3.168192    17\n",
      "[24] {hamburger meat,                                                                                 \n",
      "      bottled beer}           => {whole milk}       0.001728521  0.8095238 0.002135231  3.168192    17\n",
      "[25] {hamburger meat,                                                                                 \n",
      "      curd}                   => {whole milk}       0.002541942  0.8064516 0.003152008  3.156169    25\n",
      "[26] {turkey,                                                                                         \n",
      "      curd}                   => {other vegetables} 0.001220132  0.8000000 0.001525165  4.134524    12\n",
      "[27] {herbs,                                                                                          \n",
      "      fruit/vegetable juice}  => {other vegetables} 0.001220132  0.8000000 0.001525165  4.134524    12\n",
      "[28] {herbs,                                                                                          \n",
      "      rolls/buns}             => {whole milk}       0.002440264  0.8000000 0.003050330  3.130919    24\n",
      "[29] {onions,                                                                                         \n",
      "      waffles}                => {other vegetables} 0.001220132  0.8000000 0.001525165  4.134524    12\n"
     ]
    }
   ],
   "source": [
    "# confidence 기준 내림차순으로 규칙 정렬\n",
    "rules = sort(rules, decreasing = T, by = 'confidence')\n",
    "inspect(rules)"
   ]
  },
  {
   "cell_type": "code",
   "execution_count": 46,
   "id": "592c0df3-0a31-45d5-9d63-24c23a7393fd",
   "metadata": {},
   "outputs": [
    {
     "data": {
      "image/png": "[encoded data removed]",
      "text/plain": [
       "plot without title"
      ]
     },
     "metadata": {
      "image/png": {
       "height": 420,
       "width": 420
      }
     },
     "output_type": "display_data"
    }
   ],
   "source": [
    "library(arulesViz) # 연관규칙 시각화를 위한 패키지 로딩\n",
    "plot(rules, method = 'graph')"
   ]
  }
 ],
 "metadata": {
  "kernelspec": {
   "display_name": "R",
   "language": "R",
   "name": "ir"
  },
  "language_info": {
   "codemirror_mode": "r",
   "file_extension": ".r",
   "mimetype": "text/x-r-source",
   "name": "R",
   "pygments_lexer": "r",
   "version": "4.0.5"
  }
 },
 "nbformat": 4,
 "nbformat_minor": 5
}
