{
 "cells": [
  {
   "cell_type": "markdown",
   "id": "f44bdcab-c582-4233-8973-49ae636659ab",
   "metadata": {},
   "source": [
    "# 분류분석"
   ]
  },
  {
   "cell_type": "markdown",
   "id": "0e31a488-40b1-454f-b229-56b469de27e0",
   "metadata": {},
   "source": [
    "- 다수의 변수를 갖는 데이터 셋을 대상으로 특정 변수값을 조건으로 지정하여 데이터를 분류하여 트리 형태의 모델을 생성하는 분석 방법.\n",
    "- 의사결정 트리, 랜덤 포레스트, 인공신경망 등이 있다. 인공신경망은 트리구조와 성격을 달리하지만, 입력값 x를 투입하여 출력값 y를 분류한다는 측면에서 분류분석에 포함한다. \n",
    "- 분류분석의 과정 : 학습데이터를 이용하여 분류모델을 찾은 후에 새로운 데이터에 모델을 적용하여 분류 값을 예측한다. \n",
    "  - 예를 들면 대출 은행에서 기존 고객들의 데이터를 활용하여 신용상태의 분류모델을 생성한 후 새로운 고객에 대하여 향후 신용상태를 예측하는 데 이용한다. \n",
    "  - 또, 과거 환자들에 대한 종양 검사의 결과를 바탕으로 종양의 악성 또는 양성 여부를 분류하는 모델을 생성하고, 이를 통해서 새로운 환자에 대한 암을 진단하는 데 이용한다."
   ]
  },
  {
   "cell_type": "markdown",
   "id": "93d645df-509d-4910-affd-5f9a175cdce1",
   "metadata": {},
   "source": [
    "- 분류분석의 특징\n",
    "  - y 변수 존재, 의사결정 트리, 비모수검정(선형성, 정규성, 등분산성 등의 가정이 필요없다), 추론 기능(유의수준 판단 기준이 없다)"
   ]
  },
  {
   "cell_type": "markdown",
   "id": "819c88da-00e9-43d2-8256-b5f78af40894",
   "metadata": {},
   "source": [
    "---"
   ]
  },
  {
   "cell_type": "markdown",
   "id": "49b2f709-22df-4c42-a019-938de5d0261b",
   "metadata": {},
   "source": [
    "- 의사결정 트리\n",
    "  - 나무 구조 형태로 분류결과를 도출해내는 방식.\n",
    "  - 입력 변수 중에서 가장 영향력이 있는 변수를 기준으로 이진 분류하여 분류결과를 나무 구조 형태로 시각화해준다."
   ]
  },
  {
   "cell_type": "code",
   "execution_count": 5,
   "id": "e7cbc833-9994-4d97-8ed9-8553902c7c54",
   "metadata": {},
   "outputs": [
    {
     "name": "stdout",
     "output_type": "stream",
     "text": [
      "'data.frame':\t153 obs. of  6 variables:\n",
      " $ Ozone  : int  41 36 12 18 NA 28 23 19 8 NA ...\n",
      " $ Solar.R: int  190 118 149 313 NA NA 299 99 19 194 ...\n",
      " $ Wind   : num  7.4 8 12.6 11.5 14.3 14.9 8.6 13.8 20.1 8.6 ...\n",
      " $ Temp   : int  67 72 74 62 56 66 65 59 61 69 ...\n",
      " $ Month  : int  5 5 5 5 5 5 5 5 5 5 ...\n",
      " $ Day    : int  1 2 3 4 5 6 7 8 9 10 ...\n"
     ]
    }
   ],
   "source": [
    "library(party) # 분류분석 결과를 의사결정 트리 형태로 제공하는 함수 사용을 위한 패키지\n",
    "library(datasets)\n",
    "str(airquality)"
   ]
  },
  {
   "cell_type": "code",
   "execution_count": 6,
   "id": "44788d0a-ef8f-4111-8a1d-eb0e21f56077",
   "metadata": {},
   "outputs": [],
   "source": [
    "# formula 생성\n",
    "formula = Temp ~ Solar.R + Wind + Ozone # (y ~ x1+x2+x3)"
   ]
  },
  {
   "cell_type": "code",
   "execution_count": 8,
   "id": "3ab532fd-9de0-4b47-9d0e-bcef7a9ce706",
   "metadata": {},
   "outputs": [
    {
     "data": {
      "text/plain": [
       "\n",
       "\t Conditional inference tree with 5 terminal nodes\n",
       "\n",
       "Response:  Temp \n",
       "Inputs:  Solar.R, Wind, Ozone \n",
       "Number of observations:  153 \n",
       "\n",
       "1) Ozone <= 37; criterion = 1, statistic = 56.086\n",
       "  2) Wind <= 15.5; criterion = 0.993, statistic = 9.387\n",
       "    3) Ozone <= 19; criterion = 0.964, statistic = 6.299\n",
       "      4)*  weights = 29 \n",
       "    3) Ozone > 19\n",
       "      5)*  weights = 69 \n",
       "  2) Wind > 15.5\n",
       "    6)*  weights = 7 \n",
       "1) Ozone > 37\n",
       "  7) Ozone <= 65; criterion = 0.971, statistic = 6.691\n",
       "    8)*  weights = 22 \n",
       "  7) Ozone > 65\n",
       "    9)*  weights = 26 "
      ]
     },
     "metadata": {},
     "output_type": "display_data"
    }
   ],
   "source": [
    "# 분류모델 생성\n",
    "air_ctree = ctree(formula, data = airquality)\n",
    "air_ctree"
   ]
  },
  {
   "cell_type": "markdown",
   "id": "7f2270d6-bc8b-42c1-924a-e5e3475c309b",
   "metadata": {},
   "source": [
    "- 해당 결과에 대한 설명은 501p 참고"
   ]
  },
  {
   "cell_type": "code",
   "execution_count": 9,
   "id": "d1ab3431-83f5-433b-a464-c57d391893d6",
   "metadata": {},
   "outputs": [
    {
     "data": {
      "image/png": "[encoded data removed]",
      "text/plain": [
       "plot without title"
      ]
     },
     "metadata": {
      "image/png": {
       "height": 420,
       "width": 420
      }
     },
     "output_type": "display_data"
    }
   ],
   "source": [
    "# 분류분석의 결과\n",
    "plot(air_ctree)"
   ]
  },
  {
   "cell_type": "markdown",
   "id": "8dfb61b0-7a5a-4e33-8b35-f3b666498905",
   "metadata": {},
   "source": [
    "- Ozone이 온도에 가장 큰 영향을 미치는 영향변수, 두 번째로 영향이 큰 영향 변수는 Wind이다. "
   ]
  },
  {
   "cell_type": "markdown",
   "id": "1393761f-19ac-4f3c-b5ae-37fadbe6ddcc",
   "metadata": {},
   "source": [
    "---"
   ]
  },
  {
   "cell_type": "markdown",
   "id": "d42c3c78-8a71-4935-ba59-b51471e48d15",
   "metadata": {},
   "source": [
    "- 학습데이터와 검정데이터 샘플링으로 분류분석 수행\n",
    "  - iris 데이터 셋을 대상으로 학습데이터와 검정데이터를 7:3 비율로 각각 샘플링하여 분류분석을 수행한다."
   ]
  },
  {
   "cell_type": "code",
   "execution_count": 18,
   "id": "43d73bd9-1e20-4bed-9e1e-45638263f2ce",
   "metadata": {},
   "outputs": [
    {
     "data": {
      "text/plain": [
       "\n",
       "\t Conditional inference tree with 4 terminal nodes\n",
       "\n",
       "Response:  Species \n",
       "Inputs:  Sepal.Length, Sepal.Width, Petal.Width, Petal.Length \n",
       "Number of observations:  105 \n",
       "\n",
       "1) Petal.Length <= 1.9; criterion = 1, statistic = 98.365\n",
       "  2)*  weights = 34 \n",
       "1) Petal.Length > 1.9\n",
       "  3) Petal.Width <= 1.6; criterion = 1, statistic = 47.003\n",
       "    4) Petal.Length <= 4.6; criterion = 1, statistic = 14.982\n",
       "      5)*  weights = 28 \n",
       "    4) Petal.Length > 4.6\n",
       "      6)*  weights = 8 \n",
       "  3) Petal.Width > 1.6\n",
       "    7)*  weights = 35 "
      ]
     },
     "metadata": {},
     "output_type": "display_data"
    }
   ],
   "source": [
    "# 학습데이터와 검정데이터 샘플링\n",
    "set.seed(1234)\n",
    "idx = sample(1:nrow(iris), nrow(iris) * 0.7)\n",
    "train = iris[idx,] # 학습데이터\n",
    "test = iris[-idx,] # 검정데이터\n",
    "\n",
    "# formula 생성\n",
    "formula = Species ~ Sepal.Length + Sepal.Width + Petal.Width + Petal.Length\n",
    "\n",
    "# 학습데이터 이용하여 분류모델 생성\n",
    "iris_ctree = ctree(formula, data = train)\n",
    "iris_ctree"
   ]
  },
  {
   "cell_type": "code",
   "execution_count": 19,
   "id": "8b2c4b29-2ab2-459b-b89d-a9e44a1a689d",
   "metadata": {},
   "outputs": [
    {
     "data": {
      "image/png": "[encoded data removed]",
      "text/plain": [
       "plot without title"
      ]
     },
     "metadata": {
      "image/png": {
       "height": 420,
       "width": 420
      }
     },
     "output_type": "display_data"
    },
    {
     "data": {
      "image/png": "[encoded data removed]",
      "text/plain": [
       "plot without title"
      ]
     },
     "metadata": {
      "image/png": {
       "height": 420,
       "width": 420
      }
     },
     "output_type": "display_data"
    }
   ],
   "source": [
    "# 분류모델 시각화\n",
    "plot(iris_ctree, type = 'simple')\n",
    "plot(iris_ctree)"
   ]
  },
  {
   "cell_type": "markdown",
   "id": "13de7394-9507-4c37-a6ec-08372bd08d88",
   "metadata": {},
   "source": [
    "- 분석 결과, 분류모델의 결과에서 가장 중요한 변수는 Petal.Length와 Petal.Width로 나타난다. "
   ]
  },
  {
   "cell_type": "code",
   "execution_count": 21,
   "id": "407ce590-dce5-4ee5-823d-dd7410527d08",
   "metadata": {},
   "outputs": [
    {
     "data": {
      "text/plain": [
       "            \n",
       "pred         setosa versicolor virginica\n",
       "  setosa         16          0         0\n",
       "  versicolor      0         15         1\n",
       "  virginica       0          1        12"
      ]
     },
     "metadata": {},
     "output_type": "display_data"
    },
    {
     "data": {
      "text/html": [
       "0.955555555555556"
      ],
      "text/latex": [
       "0.955555555555556"
      ],
      "text/markdown": [
       "0.955555555555556"
      ],
      "text/plain": [
       "[1] 0.9555556"
      ]
     },
     "metadata": {},
     "output_type": "display_data"
    }
   ],
   "source": [
    "# 분류모델 평가\n",
    "# 모델의 예측치 생성 \n",
    "pred = predict(iris_ctree, test)\n",
    "# 혼돈 매트릭스 생성\n",
    "table(pred, test$Species)\n",
    "\n",
    "# 분류 정확도 구하기\n",
    "(16 + 15 + 12) / nrow(test)"
   ]
  },
  {
   "cell_type": "markdown",
   "id": "8cc19481-b8df-4824-927d-681e1c4ef7ad",
   "metadata": {},
   "source": [
    "- K겹 교차 검정 샘플링으로 분류 분석\n",
    "  - iris 데이터 셋을 대상으로 K겹 교차 검정 방법으로 샘플링하여 분류분석을 수행한다. "
   ]
  },
  {
   "cell_type": "code",
   "execution_count": 25,
   "id": "5d0400ee-e818-4139-8f2d-8df069a74678",
   "metadata": {},
   "outputs": [
    {
     "name": "stdout",
     "output_type": "stream",
     "text": [
      "List of 5\n",
      " $ n      : num 150\n",
      " $ K      : num 3\n",
      " $ R      : num 2\n",
      " $ subsets: int [1:150, 1:2] 101 54 19 105 39 16 108 21 122 25 ...\n",
      " $ which  : int [1:150] 1 2 3 1 2 3 1 2 3 1 ...\n",
      " - attr(*, \"class\")= chr \"cvFolds\"\n"
     ]
    }
   ],
   "source": [
    "# K겹 교차 검정을 위한 샘플링 - 3겹, 2회 반복\n",
    "library(cvTools)\n",
    "cross = cvFolds(nrow(iris), K=3, R=2)\n",
    "\n",
    "# cross 구조\n",
    "str(cross)"
   ]
  },
  {
   "cell_type": "code",
   "execution_count": 30,
   "id": "6b6f50e8-d642-41d5-9434-6899b43b6349",
   "metadata": {},
   "outputs": [],
   "source": [
    "# 3겹 교차 검정 데이터 보기\n",
    "# cross"
   ]
  },
  {
   "cell_type": "code",
   "execution_count": 33,
   "id": "33a11374-b0fb-4b24-8f26-c27426c4915b",
   "metadata": {},
   "outputs": [
    {
     "data": {
      "text/html": [
       "150"
      ],
      "text/latex": [
       "150"
      ],
      "text/markdown": [
       "150"
      ],
      "text/plain": [
       "[1] 150"
      ]
     },
     "metadata": {},
     "output_type": "display_data"
    },
    {
     "data": {
      "text/plain": [
       "\n",
       " 1  2  3 \n",
       "50 50 50 "
      ]
     },
     "metadata": {},
     "output_type": "display_data"
    }
   ],
   "source": [
    "length(cross$which)\n",
    "table(cross$which)"
   ]
  },
  {
   "cell_type": "code",
   "execution_count": 36,
   "id": "ad97e06e-2425-4187-9146-f87c9a25f3e8",
   "metadata": {},
   "outputs": [
    {
     "name": "stdout",
     "output_type": "stream",
     "text": [
      "\n",
      " R = 1 \n",
      "test:  50 \n",
      "train :  105 \n",
      "            \n",
      "pred         setosa versicolor virginica\n",
      "  setosa         14          0         0\n",
      "  versicolor      0         17         1\n",
      "  virginica       0          1        17\n",
      "test:  50 \n",
      "train :  105 \n",
      "            \n",
      "pred         setosa versicolor virginica\n",
      "  setosa         17          0         0\n",
      "  versicolor      0         20         0\n",
      "  virginica       0          0        13\n",
      "test:  50 \n",
      "train :  105 \n",
      "            \n",
      "pred         setosa versicolor virginica\n",
      "  setosa         19          0         0\n",
      "  versicolor      0         11         3\n",
      "  virginica       0          1        16\n",
      "\n",
      " R = 2 \n",
      "test:  50 \n",
      "train :  105 \n",
      "            \n",
      "pred         setosa versicolor virginica\n",
      "  setosa         16          0         0\n",
      "  versicolor      0         17         2\n",
      "  virginica       0          1        14\n",
      "test:  50 \n",
      "train :  105 \n",
      "            \n",
      "pred         setosa versicolor virginica\n",
      "  setosa         15          0         0\n",
      "  versicolor      0         17         2\n",
      "  virginica       0          1        15\n",
      "test:  50 \n",
      "train :  105 \n",
      "            \n",
      "pred         setosa versicolor virginica\n",
      "  setosa         19          0         0\n",
      "  versicolor      0         14         0\n",
      "  virginica       0          0        17\n"
     ]
    }
   ],
   "source": [
    "# K겹 교차 검정 수행\n",
    "R = 1:2\n",
    "K = 1:3\n",
    "CNT = 0 # 카운터 변수 -> 1차 테스트\n",
    "ACC = numeric() # 분류정확도 저장 -> 2차 모델 생성\n",
    "\n",
    "for(r in R){\n",
    "    cat('\\n R =', r, '\\n')\n",
    "    for(k in K){\n",
    "        \n",
    "        # test 생성\n",
    "        datas_idx = cross$subsets[cross$which == k,r]\n",
    "        test = iris[datas_idx,]\n",
    "        cat('test: ', nrow(test), '\\n')\n",
    "        \n",
    "        # train 생성\n",
    "        formula = Species~.\n",
    "        trian = iris[-datas_idx,]\n",
    "        cat('train : ', nrow(train), '\\n')\n",
    "        \n",
    "        # model 생성\n",
    "        model = ctree(Species ~. , data = train)\n",
    "        pred = predict(model, test)\n",
    "        t = table(pred, test$Species)\n",
    "        print(t)\n",
    "        \n",
    "        # 분류정확도 추가\n",
    "        CNT = CNT + 1\n",
    "        ACC[CNT] = (t[1,1] + t[2,2] + t[3,3]) / sum(t)\n",
    "        }}"
   ]
  },
  {
   "cell_type": "markdown",
   "id": "7c58cc59-d09f-4ed2-895b-429952dad579",
   "metadata": {},
   "source": [
    "- 2중 for문에 의해서 6회전이 수행됨."
   ]
  },
  {
   "cell_type": "code",
   "execution_count": 41,
   "id": "df1b6673-faa7-417e-8a89-ce3840c747ed",
   "metadata": {},
   "outputs": [
    {
     "data": {
      "text/html": [
       "<style>\n",
       ".list-inline {list-style: none; margin:0; padding: 0}\n",
       ".list-inline>li {display: inline-block}\n",
       ".list-inline>li:not(:last-child)::after {content: \"\\00b7\"; padding: 0 .5ex}\n",
       "</style>\n",
       "<ol class=list-inline><li>0.96</li><li>1</li><li>0.92</li><li>0.94</li><li>0.94</li><li>1</li></ol>\n"
      ],
      "text/latex": [
       "\\begin{enumerate*}\n",
       "\\item 0.96\n",
       "\\item 1\n",
       "\\item 0.92\n",
       "\\item 0.94\n",
       "\\item 0.94\n",
       "\\item 1\n",
       "\\end{enumerate*}\n"
      ],
      "text/markdown": [
       "1. 0.96\n",
       "2. 1\n",
       "3. 0.92\n",
       "4. 0.94\n",
       "5. 0.94\n",
       "6. 1\n",
       "\n",
       "\n"
      ],
      "text/plain": [
       "[1] 0.96 1.00 0.92 0.94 0.94 1.00"
      ]
     },
     "metadata": {},
     "output_type": "display_data"
    },
    {
     "data": {
      "text/html": [
       "6"
      ],
      "text/latex": [
       "6"
      ],
      "text/markdown": [
       "6"
      ],
      "text/plain": [
       "[1] 6"
      ]
     },
     "metadata": {},
     "output_type": "display_data"
    }
   ],
   "source": [
    "# 교차 검정 모델 평가\n",
    "ACC\n",
    "length(ACC)"
   ]
  },
  {
   "cell_type": "code",
   "execution_count": 42,
   "id": "b8792a1f-6d95-489e-97b1-1fb31caf623c",
   "metadata": {},
   "outputs": [
    {
     "data": {
      "text/html": [
       "0.96"
      ],
      "text/latex": [
       "0.96"
      ],
      "text/markdown": [
       "0.96"
      ],
      "text/plain": [
       "[1] 0.96"
      ]
     },
     "metadata": {},
     "output_type": "display_data"
    }
   ],
   "source": [
    "# 최종 K겹 교차 검정 모델 평가 : 모델 평가결과 대상 산술평균\n",
    "result_acc = mean(ACC, na.rm=T)\n",
    "result_acc"
   ]
  },
  {
   "cell_type": "markdown",
   "id": "7653e8f5-1000-4323-87b0-ad5d3306d61c",
   "metadata": {},
   "source": [
    "- ACC 변수는 6개의 학습데이터에 의해서 생성된 모델의 분류정확도 6개를 저장한 vector 변수이다.\n",
    "- K겹 교차 검정의 최종 모델 평가는 각 학습데이터에 의해서 생성된 모델 평가 결과를 대상으로 산술평균하여 결정한다. "
   ]
  },
  {
   "cell_type": "markdown",
   "id": "dc026fa3-439c-45d6-a79d-bdf2e1bcb300",
   "metadata": {},
   "source": [
    "---"
   ]
  },
  {
   "cell_type": "markdown",
   "id": "e6b880c5-ffac-4850-97d6-31525d108a5c",
   "metadata": {},
   "source": [
    "- 고속도로 주행거리에 미치는 영향변수 보기"
   ]
  },
  {
   "cell_type": "code",
   "execution_count": 43,
   "id": "449f83ec-6bda-4227-8da9-b4e8be58b12d",
   "metadata": {},
   "outputs": [
    {
     "name": "stdout",
     "output_type": "stream",
     "text": [
      "package 'ggplot2' successfully unpacked and MD5 sums checked\n",
      "\n",
      "The downloaded binary packages are in\n",
      "\tC:\\Users\\ehfus\\AppData\\Local\\Temp\\Rtmpkr8c6j\\downloaded_packages\n"
     ]
    }
   ],
   "source": [
    "install.packages('ggplot2')\n",
    "library(ggplot2)\n",
    "data(mpg)"
   ]
  },
  {
   "cell_type": "code",
   "execution_count": 44,
   "id": "982eb12c-8861-4645-bb6b-6ba2ff0fda6c",
   "metadata": {},
   "outputs": [
    {
     "data": {
      "text/html": [
       "<style>\n",
       ".list-inline {list-style: none; margin:0; padding: 0}\n",
       ".list-inline>li {display: inline-block}\n",
       ".list-inline>li:not(:last-child)::after {content: \"\\00b7\"; padding: 0 .5ex}\n",
       "</style>\n",
       "<ol class=list-inline><li>114</li><li>11</li></ol>\n"
      ],
      "text/latex": [
       "\\begin{enumerate*}\n",
       "\\item 114\n",
       "\\item 11\n",
       "\\end{enumerate*}\n"
      ],
      "text/markdown": [
       "1. 114\n",
       "2. 11\n",
       "\n",
       "\n"
      ],
      "text/plain": [
       "[1] 114  11"
      ]
     },
     "metadata": {},
     "output_type": "display_data"
    },
    {
     "data": {
      "text/html": [
       "<style>\n",
       ".list-inline {list-style: none; margin:0; padding: 0}\n",
       ".list-inline>li {display: inline-block}\n",
       ".list-inline>li:not(:last-child)::after {content: \"\\00b7\"; padding: 0 .5ex}\n",
       "</style>\n",
       "<ol class=list-inline><li>120</li><li>11</li></ol>\n"
      ],
      "text/latex": [
       "\\begin{enumerate*}\n",
       "\\item 120\n",
       "\\item 11\n",
       "\\end{enumerate*}\n"
      ],
      "text/markdown": [
       "1. 120\n",
       "2. 11\n",
       "\n",
       "\n"
      ],
      "text/plain": [
       "[1] 120  11"
      ]
     },
     "metadata": {},
     "output_type": "display_data"
    }
   ],
   "source": [
    "# 학습데이터와 검정데이터 생성\n",
    "t = sample(1:nrow(mpg), 120) # 120개 표본 샘플링\n",
    "train = mpg[-t,] # 학습데이터\n",
    "test = mpg[t,] # 검정데이터\n",
    "dim(train);dim(test)"
   ]
  },
  {
   "cell_type": "code",
   "execution_count": 47,
   "id": "d7f46065-6442-45ee-a3a3-0427337f2edf",
   "metadata": {},
   "outputs": [
    {
     "data": {
      "image/png": "[encoded data removed]",
      "text/plain": [
       "plot without title"
      ]
     },
     "metadata": {
      "image/png": {
       "height": 420,
       "width": 420
      }
     },
     "output_type": "display_data"
    }
   ],
   "source": [
    "# formula 작성과 분류모델 생성\n",
    "test$drv = factor(test$drv) # 구동 방식 칼럼을 요인형으로 형변환해주었음\n",
    "formula = hwy ~ displ + cyl + drv\n",
    "tree_model = ctree(formula, data = test) # tree 모델 생성\n",
    "plot(tree_model)"
   ]
  },
  {
   "cell_type": "markdown",
   "id": "87df114d-f2bd-4741-b42c-fd898c951e1a",
   "metadata": {},
   "source": [
    "- 엔진 크기가 작으면서 전륜이나 후륜 구동 방식인 경우 고속도로 주행거리가 가장 좋고, 반면에, 엔진 크기가 크고 사륜구동 방식이면서 실린더 수가 많은 경우 고속도로 주행거리가 작은 것으로 보인다. "
   ]
  },
  {
   "cell_type": "markdown",
   "id": "38dc96ab-0bc7-416f-b1db-48a5e7efb70f",
   "metadata": {},
   "source": [
    "---"
   ]
  },
  {
   "cell_type": "markdown",
   "id": "0412654e-44cb-44d8-aebf-fe0cd25a559a",
   "metadata": {},
   "source": [
    "- AdultUCI 데이터 셋을 이용한 분류분석"
   ]
  },
  {
   "cell_type": "code",
   "execution_count": 48,
   "id": "3d20563c-4576-49ef-b370-2d76fc71d6cf",
   "metadata": {},
   "outputs": [
    {
     "name": "stdout",
     "output_type": "stream",
     "text": [
      "package 'arules' successfully unpacked and MD5 sums checked\n",
      "\n",
      "The downloaded binary packages are in\n",
      "\tC:\\Users\\ehfus\\AppData\\Local\\Temp\\Rtmpkr8c6j\\downloaded_packages\n"
     ]
    },
    {
     "name": "stderr",
     "output_type": "stream",
     "text": [
      "Loading required package: Matrix\n",
      "\n",
      "\n",
      "Attaching package: 'arules'\n",
      "\n",
      "\n",
      "The following object is masked from 'package:modeltools':\n",
      "\n",
      "    info\n",
      "\n",
      "\n",
      "The following objects are masked from 'package:base':\n",
      "\n",
      "    abbreviate, write\n",
      "\n",
      "\n"
     ]
    },
    {
     "name": "stdout",
     "output_type": "stream",
     "text": [
      "'data.frame':\t48842 obs. of  15 variables:\n",
      " $ age           : int  39 50 38 53 28 37 49 52 31 42 ...\n",
      " $ workclass     : Factor w/ 8 levels \"Federal-gov\",..: 7 6 4 4 4 4 4 6 4 4 ...\n",
      " $ fnlwgt        : int  77516 83311 215646 234721 338409 284582 160187 209642 45781 159449 ...\n",
      " $ education     : Ord.factor w/ 16 levels \"Preschool\"<\"1st-4th\"<..: 14 14 9 7 14 15 5 9 15 14 ...\n",
      " $ education-num : int  13 13 9 7 13 14 5 9 14 13 ...\n",
      " $ marital-status: Factor w/ 7 levels \"Divorced\",\"Married-AF-spouse\",..: 5 3 1 3 3 3 4 3 5 3 ...\n",
      " $ occupation    : Factor w/ 14 levels \"Adm-clerical\",..: 1 4 6 6 10 4 8 4 10 4 ...\n",
      " $ relationship  : Factor w/ 6 levels \"Husband\",\"Not-in-family\",..: 2 1 2 1 6 6 2 1 2 1 ...\n",
      " $ race          : Factor w/ 5 levels \"Amer-Indian-Eskimo\",..: 5 5 5 3 3 5 3 5 5 5 ...\n",
      " $ sex           : Factor w/ 2 levels \"Female\",\"Male\": 2 2 2 2 1 1 1 2 1 2 ...\n",
      " $ capital-gain  : int  2174 0 0 0 0 0 0 0 14084 5178 ...\n",
      " $ capital-loss  : int  0 0 0 0 0 0 0 0 0 0 ...\n",
      " $ hours-per-week: int  40 13 40 40 40 40 16 45 50 40 ...\n",
      " $ native-country: Factor w/ 41 levels \"Cambodia\",\"Canada\",..: 39 39 39 39 5 39 23 39 39 39 ...\n",
      " $ income        : Ord.factor w/ 2 levels \"small\"<\"large\": 1 1 1 1 1 1 1 2 2 2 ...\n"
     ]
    },
    {
     "data": {
      "text/html": [
       "<style>\n",
       ".list-inline {list-style: none; margin:0; padding: 0}\n",
       ".list-inline>li {display: inline-block}\n",
       ".list-inline>li:not(:last-child)::after {content: \"\\00b7\"; padding: 0 .5ex}\n",
       "</style>\n",
       "<ol class=list-inline><li>'age'</li><li>'workclass'</li><li>'fnlwgt'</li><li>'education'</li><li>'education-num'</li><li>'marital-status'</li><li>'occupation'</li><li>'relationship'</li><li>'race'</li><li>'sex'</li><li>'capital-gain'</li><li>'capital-loss'</li><li>'hours-per-week'</li><li>'native-country'</li><li>'income'</li></ol>\n"
      ],
      "text/latex": [
       "\\begin{enumerate*}\n",
       "\\item 'age'\n",
       "\\item 'workclass'\n",
       "\\item 'fnlwgt'\n",
       "\\item 'education'\n",
       "\\item 'education-num'\n",
       "\\item 'marital-status'\n",
       "\\item 'occupation'\n",
       "\\item 'relationship'\n",
       "\\item 'race'\n",
       "\\item 'sex'\n",
       "\\item 'capital-gain'\n",
       "\\item 'capital-loss'\n",
       "\\item 'hours-per-week'\n",
       "\\item 'native-country'\n",
       "\\item 'income'\n",
       "\\end{enumerate*}\n"
      ],
      "text/markdown": [
       "1. 'age'\n",
       "2. 'workclass'\n",
       "3. 'fnlwgt'\n",
       "4. 'education'\n",
       "5. 'education-num'\n",
       "6. 'marital-status'\n",
       "7. 'occupation'\n",
       "8. 'relationship'\n",
       "9. 'race'\n",
       "10. 'sex'\n",
       "11. 'capital-gain'\n",
       "12. 'capital-loss'\n",
       "13. 'hours-per-week'\n",
       "14. 'native-country'\n",
       "15. 'income'\n",
       "\n",
       "\n"
      ],
      "text/plain": [
       " [1] \"age\"            \"workclass\"      \"fnlwgt\"         \"education\"     \n",
       " [5] \"education-num\"  \"marital-status\" \"occupation\"     \"relationship\"  \n",
       " [9] \"race\"           \"sex\"            \"capital-gain\"   \"capital-loss\"  \n",
       "[13] \"hours-per-week\" \"native-country\" \"income\"        "
      ]
     },
     "metadata": {},
     "output_type": "display_data"
    }
   ],
   "source": [
    "install.packages('arules')\n",
    "library(arules)\n",
    "data('AdultUCI')\n",
    "str(AdultUCI)\n",
    "names(AdultUCI)"
   ]
  },
  {
   "cell_type": "code",
   "execution_count": 49,
   "id": "ec86dd3c-6de7-4b00-910e-fe88c24fb0d1",
   "metadata": {},
   "outputs": [
    {
     "name": "stdout",
     "output_type": "stream",
     "text": [
      "'data.frame':\t10000 obs. of  15 variables:\n",
      " $ age           : int  76 34 44 44 50 36 17 26 43 25 ...\n",
      " $ workclass     : Factor w/ 8 levels \"Federal-gov\",..: 6 6 4 4 4 4 4 4 4 4 ...\n",
      " $ fnlwgt        : int  106430 201292 318046 368757 115284 207853 158704 147821 160246 135645 ...\n",
      " $ education     : Ord.factor w/ 16 levels \"Preschool\"<\"1st-4th\"<..: 5 12 13 13 15 14 6 14 13 15 ...\n",
      " $ education-num : int  5 11 10 10 14 13 6 13 10 14 ...\n",
      " $ marital-status: Factor w/ 7 levels \"Divorced\",\"Married-AF-spouse\",..: 3 3 3 3 3 3 5 5 1 5 ...\n",
      " $ occupation    : Factor w/ 14 levels \"Adm-clerical\",..: 5 5 12 7 3 12 12 12 10 12 ...\n",
      " $ relationship  : Factor w/ 6 levels \"Husband\",\"Not-in-family\",..: 1 1 1 1 1 1 4 4 5 2 ...\n",
      " $ race          : Factor w/ 5 levels \"Amer-Indian-Eskimo\",..: 5 5 5 5 5 5 5 5 3 5 ...\n",
      " $ sex           : Factor w/ 2 levels \"Female\",\"Male\": 2 2 2 2 2 2 2 1 1 2 ...\n",
      " $ capital-gain  : int  0 0 0 0 0 15024 0 0 0 0 ...\n",
      " $ capital-loss  : int  0 0 0 0 0 0 0 0 0 0 ...\n",
      " $ hours-per-week: int  40 50 35 40 40 65 20 45 40 20 ...\n",
      " $ native-country: Factor w/ 41 levels \"Cambodia\",\"Canada\",..: 39 39 39 39 39 39 39 NA 39 39 ...\n",
      " $ income        : Ord.factor w/ 2 levels \"small\"<\"large\": NA NA NA 1 NA NA 1 1 1 1 ...\n"
     ]
    }
   ],
   "source": [
    "# 데이터 샘플링 - 10,000개 관측치 선택\n",
    "set.seed(1234)\n",
    "choice = sample(1:nrow(AdultUCI), 10000)\n",
    "adult.df = AdultUCI[choice,]\n",
    "str(adult.df)"
   ]
  },
  {
   "cell_type": "code",
   "execution_count": 50,
   "id": "f721367a-4d74-489b-ad0f-8db5c78c8f49",
   "metadata": {},
   "outputs": [
    {
     "name": "stdout",
     "output_type": "stream",
     "text": [
      "'data.frame':\t10000 obs. of  6 variables:\n",
      " $ capital  : int  0 0 0 0 0 15024 0 0 0 0 ...\n",
      " $ age      : int  76 34 44 44 50 36 17 26 43 25 ...\n",
      " $ race     : Factor w/ 5 levels \"Amer-Indian-Eskimo\",..: 5 5 5 5 5 5 5 5 3 5 ...\n",
      " $ hours    : int  40 50 35 40 40 65 20 45 40 20 ...\n",
      " $ education: int  5 11 10 10 14 13 6 13 10 14 ...\n",
      " $ income   : Ord.factor w/ 2 levels \"small\"<\"large\": NA NA NA 1 NA NA 1 1 1 1 ...\n"
     ]
    },
    {
     "data": {
      "text/plain": [
       "\n",
       "\t Conditional inference tree with 10 terminal nodes\n",
       "\n",
       "Response:  capital \n",
       "Inputs:  income, education, hours, race, age \n",
       "Number of observations:  10000 \n",
       "\n",
       "1) income <= small; criterion = 1, statistic = 324.284\n",
       "  2) education <= 14; criterion = 1, statistic = 96.537\n",
       "    3) hours <= 49; criterion = 1, statistic = 54.964\n",
       "      4) age <= 34; criterion = 1, statistic = 54.112\n",
       "        5)*  weights = 3469 \n",
       "      4) age > 34\n",
       "        6) education <= 11; criterion = 1, statistic = 29.521\n",
       "          7)*  weights = 2757 \n",
       "        6) education > 11\n",
       "          8) hours <= 43; criterion = 0.954, statistic = 6.762\n",
       "            9)*  weights = 640 \n",
       "          8) hours > 43\n",
       "            10)*  weights = 101 \n",
       "    3) hours > 49\n",
       "      11) education <= 13; criterion = 1, statistic = 19.25\n",
       "        12) education <= 12; criterion = 0.981, statistic = 8.355\n",
       "          13)*  weights = 931 \n",
       "        12) education > 12\n",
       "          14)*  weights = 269 \n",
       "      11) education > 13\n",
       "        15)*  weights = 117 \n",
       "  2) education > 14\n",
       "    16)*  weights = 143 \n",
       "1) income > small\n",
       "  17) education <= 14; criterion = 1, statistic = 16.826\n",
       "    18)*  weights = 1434 \n",
       "  17) education > 14\n",
       "    19)*  weights = 139 "
      ]
     },
     "metadata": {},
     "output_type": "display_data"
    }
   ],
   "source": [
    "# 변수 추출\n",
    "capital = adult.df$'capital-gain'\n",
    "hours = adult.df$'hours-per-week'\n",
    "education = adult.df$'education-num'\n",
    "race = adult.df$race\n",
    "age = adult.df$age\n",
    "income = adult.df$income\n",
    "\n",
    "# 데이터 프레임 생성\n",
    "adult_df = data.frame(capital = capital, age = age, race = race,\n",
    "                     hours = hours, education = education, income = income)\n",
    "str(adult_df)\n",
    "\n",
    "# formula 생성\n",
    "formula = capital ~ income + education + hours + race + age\n",
    "\n",
    "# 분류모델 생성 및 예측\n",
    "adult_ctree = ctree(formula, data = adult_df)\n",
    "adult_ctree"
   ]
  },
  {
   "cell_type": "code",
   "execution_count": 51,
   "id": "8445e4fc-2337-4017-85ba-869fe232334b",
   "metadata": {},
   "outputs": [
    {
     "data": {
      "image/png": "[encoded data removed]",
      "text/plain": [
       "plot without title"
      ]
     },
     "metadata": {
      "image/png": {
       "height": 420,
       "width": 420
      }
     },
     "output_type": "display_data"
    }
   ],
   "source": [
    "# 분류모델 시각화\n",
    "plot(adult_ctree)"
   ]
  },
  {
   "cell_type": "markdown",
   "id": "ae37cb99-feac-439a-aac6-27e4dd6e58a5",
   "metadata": {},
   "source": [
    "- capital에 가장 큰 영향을 미치는 변수는 income이고 그 다음은 education이다"
   ]
  },
  {
   "cell_type": "code",
   "execution_count": 52,
   "id": "53eb388f-4947-4996-a0e8-d26b1882df16",
   "metadata": {},
   "outputs": [
    {
     "data": {
      "text/html": [
       "139"
      ],
      "text/latex": [
       "139"
      ],
      "text/markdown": [
       "139"
      ],
      "text/plain": [
       "[1] 139"
      ]
     },
     "metadata": {},
     "output_type": "display_data"
    },
    {
     "data": {
      "text/plain": [
       "   Min. 1st Qu.  Median    Mean 3rd Qu.    Max. \n",
       "  15.00   15.00   15.00   15.37   16.00   16.00 "
      ]
     },
     "metadata": {},
     "output_type": "display_data"
    },
    {
     "data": {
      "image/png": "[encoded data removed]",
      "text/plain": [
       "plot without title"
      ]
     },
     "metadata": {
      "image/png": {
       "height": 420,
       "width": 420
      }
     },
     "output_type": "display_data"
    }
   ],
   "source": [
    "# capital 요약통계량 보기\n",
    "adultResult = subset(adult_df, adult_df$income == 'large' & adult_df$education > 14)\n",
    "length(adultResult$education)\n",
    "summary(adultResult$education)\n",
    "boxplot(adultResult$capital)"
   ]
  },
  {
   "cell_type": "markdown",
   "id": "659dd873-6cb8-4444-a46c-7e686d5754c0",
   "metadata": {},
   "source": [
    "---"
   ]
  },
  {
   "cell_type": "markdown",
   "id": "1d3284ee-d7a7-43ba-92f4-1363424a610f",
   "metadata": {},
   "source": [
    "- rpart 패키지를 이용한 분류분석\n",
    "  - rpart() 함수는 재귀분할(recursive partitioning)의 의미가 있다. 기존 ctree() 함수에 비해서 2수준 요인으로 분산분석을 실행한 결과를 트리 형태로 제공하여 모형을 단순화해주기 때문에 전체적인 분류기준을 쉽게 분석할 수 있는 장점이 있다. "
   ]
  },
  {
   "cell_type": "code",
   "execution_count": 53,
   "id": "46855364-07f3-4f8a-a2d4-c76100e0fc55",
   "metadata": {},
   "outputs": [
    {
     "name": "stdout",
     "output_type": "stream",
     "text": [
      "package 'rpart' successfully unpacked and MD5 sums checked\n",
      "\n",
      "The downloaded binary packages are in\n",
      "\tC:\\Users\\ehfus\\AppData\\Local\\Temp\\Rtmpkr8c6j\\downloaded_packages\n",
      "package 'rpart.plot' successfully unpacked and MD5 sums checked\n",
      "\n",
      "The downloaded binary packages are in\n",
      "\tC:\\Users\\ehfus\\AppData\\Local\\Temp\\Rtmpkr8c6j\\downloaded_packages\n"
     ]
    },
    {
     "data": {
      "text/plain": [
       "n= 150 \n",
       "\n",
       "node), split, n, loss, yval, (yprob)\n",
       "      * denotes terminal node\n",
       "\n",
       "1) root 150 100 setosa (0.33333333 0.33333333 0.33333333)  \n",
       "  2) Petal.Length< 2.45 50   0 setosa (1.00000000 0.00000000 0.00000000) *\n",
       "  3) Petal.Length>=2.45 100  50 versicolor (0.00000000 0.50000000 0.50000000)  \n",
       "    6) Petal.Width< 1.75 54   5 versicolor (0.00000000 0.90740741 0.09259259) *\n",
       "    7) Petal.Width>=1.75 46   1 virginica (0.00000000 0.02173913 0.97826087) *"
      ]
     },
     "metadata": {},
     "output_type": "display_data"
    }
   ],
   "source": [
    "install.packages('rpart')\n",
    "library(rpart)\n",
    "install.packages('rpart.plot')\n",
    "library(rpart.plot)\n",
    "data(iris)\n",
    "\n",
    "rpart_model = rpart(Species ~. , data = iris)\n",
    "rpart_model"
   ]
  },
  {
   "cell_type": "code",
   "execution_count": 55,
   "id": "dae6128b-bacd-4dc4-b02b-ded820a82a6d",
   "metadata": {},
   "outputs": [
    {
     "data": {
      "image/png": "[encoded data removed]",
      "text/plain": [
       "plot without title"
      ]
     },
     "metadata": {
      "image/png": {
       "height": 420,
       "width": 420
      }
     },
     "output_type": "display_data"
    }
   ],
   "source": [
    "# 분류분석 시각화\n",
    "rpart.plot(rpart_model)"
   ]
  },
  {
   "cell_type": "markdown",
   "id": "292e1ae1-8831-47be-9209-cca67b5fc7bf",
   "metadata": {},
   "source": [
    "- 마지막 노드에는 반응변수의 결과값이 나타난다. "
   ]
  },
  {
   "cell_type": "markdown",
   "id": "fc62017f-516b-4616-9020-906ff31f65a0",
   "metadata": {},
   "source": [
    "---"
   ]
  },
  {
   "cell_type": "markdown",
   "id": "48f4efa4-4c86-4fc5-a7fb-cd31c60d7911",
   "metadata": {},
   "source": [
    "- 날씨 데이터를 이용하여 비(rain) 유무 예측"
   ]
  },
  {
   "cell_type": "code",
   "execution_count": 56,
   "id": "69f199df-36e9-46ed-b1b1-d6551cc2449d",
   "metadata": {},
   "outputs": [],
   "source": [
    "weather = read.csv('weather.csv', header=T)"
   ]
  },
  {
   "cell_type": "code",
   "execution_count": 58,
   "id": "78509389-e43f-4feb-be68-a40cef87a8a6",
   "metadata": {},
   "outputs": [
    {
     "data": {
      "image/png": "[encoded data removed]",
      "text/plain": [
       "plot without title"
      ]
     },
     "metadata": {
      "image/png": {
       "height": 420,
       "width": 420
      }
     },
     "output_type": "display_data"
    }
   ],
   "source": [
    "weather.df = rpart(RainTomorrow~., data = weather[,c(-1,-14)], cp = 0.01)\n",
    "# 날씨 요인과 관련이 없는 Date와 RainyToday 칼럼은 제외한다. \n",
    "# cp 속성값을 높이면 가지 수가 적어지고 낮추면 가지 수가 많아진다. cp의 default값은 0.01이다.\n",
    "\n",
    "# 분류분석 시각화\n",
    "rpart.plot(weather.df)"
   ]
  },
  {
   "cell_type": "code",
   "execution_count": 59,
   "id": "739de360-3380-408e-b5ff-1e0709496bb2",
   "metadata": {},
   "outputs": [
    {
     "data": {
      "text/html": [
       "<table class=\"dataframe\">\n",
       "<caption>A matrix: 366 × 2 of type dbl</caption>\n",
       "<thead>\n",
       "\t<tr><th></th><th scope=col>No</th><th scope=col>Yes</th></tr>\n",
       "</thead>\n",
       "<tbody>\n",
       "\t<tr><th scope=row>1</th><td>0.9684685</td><td>0.03153153</td></tr>\n",
       "\t<tr><th scope=row>2</th><td>0.8648649</td><td>0.13513514</td></tr>\n",
       "\t<tr><th scope=row>3</th><td>0.3333333</td><td>0.66666667</td></tr>\n",
       "\t<tr><th scope=row>4</th><td>0.8648649</td><td>0.13513514</td></tr>\n",
       "\t<tr><th scope=row>5</th><td>0.9684685</td><td>0.03153153</td></tr>\n",
       "\t<tr><th scope=row>6</th><td>0.9684685</td><td>0.03153153</td></tr>\n",
       "\t<tr><th scope=row>7</th><td>0.9684685</td><td>0.03153153</td></tr>\n",
       "\t<tr><th scope=row>8</th><td>0.9600000</td><td>0.04000000</td></tr>\n",
       "\t<tr><th scope=row>9</th><td>0.2857143</td><td>0.71428571</td></tr>\n",
       "\t<tr><th scope=row>10</th><td>0.9684685</td><td>0.03153153</td></tr>\n",
       "\t<tr><th scope=row>11</th><td>0.9684685</td><td>0.03153153</td></tr>\n",
       "\t<tr><th scope=row>12</th><td>0.9684685</td><td>0.03153153</td></tr>\n",
       "\t<tr><th scope=row>13</th><td>0.9684685</td><td>0.03153153</td></tr>\n",
       "\t<tr><th scope=row>14</th><td>0.9684685</td><td>0.03153153</td></tr>\n",
       "\t<tr><th scope=row>15</th><td>0.9684685</td><td>0.03153153</td></tr>\n",
       "\t<tr><th scope=row>16</th><td>0.9684685</td><td>0.03153153</td></tr>\n",
       "\t<tr><th scope=row>17</th><td>0.2222222</td><td>0.77777778</td></tr>\n",
       "\t<tr><th scope=row>18</th><td>0.9684685</td><td>0.03153153</td></tr>\n",
       "\t<tr><th scope=row>19</th><td>0.9684685</td><td>0.03153153</td></tr>\n",
       "\t<tr><th scope=row>20</th><td>0.9684685</td><td>0.03153153</td></tr>\n",
       "\t<tr><th scope=row>21</th><td>0.8648649</td><td>0.13513514</td></tr>\n",
       "\t<tr><th scope=row>22</th><td>0.2592593</td><td>0.74074074</td></tr>\n",
       "\t<tr><th scope=row>23</th><td>0.2592593</td><td>0.74074074</td></tr>\n",
       "\t<tr><th scope=row>24</th><td>0.9684685</td><td>0.03153153</td></tr>\n",
       "\t<tr><th scope=row>25</th><td>0.9684685</td><td>0.03153153</td></tr>\n",
       "\t<tr><th scope=row>26</th><td>0.9684685</td><td>0.03153153</td></tr>\n",
       "\t<tr><th scope=row>27</th><td>0.9600000</td><td>0.04000000</td></tr>\n",
       "\t<tr><th scope=row>28</th><td>0.9684685</td><td>0.03153153</td></tr>\n",
       "\t<tr><th scope=row>29</th><td>0.2592593</td><td>0.74074074</td></tr>\n",
       "\t<tr><th scope=row>30</th><td>0.2857143</td><td>0.71428571</td></tr>\n",
       "\t<tr><th scope=row>⋮</th><td>⋮</td><td>⋮</td></tr>\n",
       "\t<tr><th scope=row>337</th><td>0.9684685</td><td>0.03153153</td></tr>\n",
       "\t<tr><th scope=row>338</th><td>0.3333333</td><td>0.66666667</td></tr>\n",
       "\t<tr><th scope=row>339</th><td>0.2857143</td><td>0.71428571</td></tr>\n",
       "\t<tr><th scope=row>340</th><td>0.9684685</td><td>0.03153153</td></tr>\n",
       "\t<tr><th scope=row>341</th><td>0.3333333</td><td>0.66666667</td></tr>\n",
       "\t<tr><th scope=row>342</th><td>0.9684685</td><td>0.03153153</td></tr>\n",
       "\t<tr><th scope=row>343</th><td>0.9684685</td><td>0.03153153</td></tr>\n",
       "\t<tr><th scope=row>344</th><td>0.9684685</td><td>0.03153153</td></tr>\n",
       "\t<tr><th scope=row>345</th><td>0.9684685</td><td>0.03153153</td></tr>\n",
       "\t<tr><th scope=row>346</th><td>0.9684685</td><td>0.03153153</td></tr>\n",
       "\t<tr><th scope=row>347</th><td>0.9684685</td><td>0.03153153</td></tr>\n",
       "\t<tr><th scope=row>348</th><td>0.3333333</td><td>0.66666667</td></tr>\n",
       "\t<tr><th scope=row>349</th><td>0.9600000</td><td>0.04000000</td></tr>\n",
       "\t<tr><th scope=row>350</th><td>0.9684685</td><td>0.03153153</td></tr>\n",
       "\t<tr><th scope=row>351</th><td>0.9684685</td><td>0.03153153</td></tr>\n",
       "\t<tr><th scope=row>352</th><td>0.9684685</td><td>0.03153153</td></tr>\n",
       "\t<tr><th scope=row>353</th><td>0.9684685</td><td>0.03153153</td></tr>\n",
       "\t<tr><th scope=row>354</th><td>0.9684685</td><td>0.03153153</td></tr>\n",
       "\t<tr><th scope=row>355</th><td>0.9684685</td><td>0.03153153</td></tr>\n",
       "\t<tr><th scope=row>356</th><td>0.9684685</td><td>0.03153153</td></tr>\n",
       "\t<tr><th scope=row>357</th><td>0.3333333</td><td>0.66666667</td></tr>\n",
       "\t<tr><th scope=row>358</th><td>0.9684685</td><td>0.03153153</td></tr>\n",
       "\t<tr><th scope=row>359</th><td>0.9684685</td><td>0.03153153</td></tr>\n",
       "\t<tr><th scope=row>360</th><td>0.9684685</td><td>0.03153153</td></tr>\n",
       "\t<tr><th scope=row>361</th><td>0.2857143</td><td>0.71428571</td></tr>\n",
       "\t<tr><th scope=row>362</th><td>0.3333333</td><td>0.66666667</td></tr>\n",
       "\t<tr><th scope=row>363</th><td>0.9684685</td><td>0.03153153</td></tr>\n",
       "\t<tr><th scope=row>364</th><td>0.9684685</td><td>0.03153153</td></tr>\n",
       "\t<tr><th scope=row>365</th><td>0.9684685</td><td>0.03153153</td></tr>\n",
       "\t<tr><th scope=row>366</th><td>0.3333333</td><td>0.66666667</td></tr>\n",
       "</tbody>\n",
       "</table>\n"
      ],
      "text/latex": [
       "A matrix: 366 × 2 of type dbl\n",
       "\\begin{tabular}{r|ll}\n",
       "  & No & Yes\\\\\n",
       "\\hline\n",
       "\t1 & 0.9684685 & 0.03153153\\\\\n",
       "\t2 & 0.8648649 & 0.13513514\\\\\n",
       "\t3 & 0.3333333 & 0.66666667\\\\\n",
       "\t4 & 0.8648649 & 0.13513514\\\\\n",
       "\t5 & 0.9684685 & 0.03153153\\\\\n",
       "\t6 & 0.9684685 & 0.03153153\\\\\n",
       "\t7 & 0.9684685 & 0.03153153\\\\\n",
       "\t8 & 0.9600000 & 0.04000000\\\\\n",
       "\t9 & 0.2857143 & 0.71428571\\\\\n",
       "\t10 & 0.9684685 & 0.03153153\\\\\n",
       "\t11 & 0.9684685 & 0.03153153\\\\\n",
       "\t12 & 0.9684685 & 0.03153153\\\\\n",
       "\t13 & 0.9684685 & 0.03153153\\\\\n",
       "\t14 & 0.9684685 & 0.03153153\\\\\n",
       "\t15 & 0.9684685 & 0.03153153\\\\\n",
       "\t16 & 0.9684685 & 0.03153153\\\\\n",
       "\t17 & 0.2222222 & 0.77777778\\\\\n",
       "\t18 & 0.9684685 & 0.03153153\\\\\n",
       "\t19 & 0.9684685 & 0.03153153\\\\\n",
       "\t20 & 0.9684685 & 0.03153153\\\\\n",
       "\t21 & 0.8648649 & 0.13513514\\\\\n",
       "\t22 & 0.2592593 & 0.74074074\\\\\n",
       "\t23 & 0.2592593 & 0.74074074\\\\\n",
       "\t24 & 0.9684685 & 0.03153153\\\\\n",
       "\t25 & 0.9684685 & 0.03153153\\\\\n",
       "\t26 & 0.9684685 & 0.03153153\\\\\n",
       "\t27 & 0.9600000 & 0.04000000\\\\\n",
       "\t28 & 0.9684685 & 0.03153153\\\\\n",
       "\t29 & 0.2592593 & 0.74074074\\\\\n",
       "\t30 & 0.2857143 & 0.71428571\\\\\n",
       "\t⋮ & ⋮ & ⋮\\\\\n",
       "\t337 & 0.9684685 & 0.03153153\\\\\n",
       "\t338 & 0.3333333 & 0.66666667\\\\\n",
       "\t339 & 0.2857143 & 0.71428571\\\\\n",
       "\t340 & 0.9684685 & 0.03153153\\\\\n",
       "\t341 & 0.3333333 & 0.66666667\\\\\n",
       "\t342 & 0.9684685 & 0.03153153\\\\\n",
       "\t343 & 0.9684685 & 0.03153153\\\\\n",
       "\t344 & 0.9684685 & 0.03153153\\\\\n",
       "\t345 & 0.9684685 & 0.03153153\\\\\n",
       "\t346 & 0.9684685 & 0.03153153\\\\\n",
       "\t347 & 0.9684685 & 0.03153153\\\\\n",
       "\t348 & 0.3333333 & 0.66666667\\\\\n",
       "\t349 & 0.9600000 & 0.04000000\\\\\n",
       "\t350 & 0.9684685 & 0.03153153\\\\\n",
       "\t351 & 0.9684685 & 0.03153153\\\\\n",
       "\t352 & 0.9684685 & 0.03153153\\\\\n",
       "\t353 & 0.9684685 & 0.03153153\\\\\n",
       "\t354 & 0.9684685 & 0.03153153\\\\\n",
       "\t355 & 0.9684685 & 0.03153153\\\\\n",
       "\t356 & 0.9684685 & 0.03153153\\\\\n",
       "\t357 & 0.3333333 & 0.66666667\\\\\n",
       "\t358 & 0.9684685 & 0.03153153\\\\\n",
       "\t359 & 0.9684685 & 0.03153153\\\\\n",
       "\t360 & 0.9684685 & 0.03153153\\\\\n",
       "\t361 & 0.2857143 & 0.71428571\\\\\n",
       "\t362 & 0.3333333 & 0.66666667\\\\\n",
       "\t363 & 0.9684685 & 0.03153153\\\\\n",
       "\t364 & 0.9684685 & 0.03153153\\\\\n",
       "\t365 & 0.9684685 & 0.03153153\\\\\n",
       "\t366 & 0.3333333 & 0.66666667\\\\\n",
       "\\end{tabular}\n"
      ],
      "text/markdown": [
       "\n",
       "A matrix: 366 × 2 of type dbl\n",
       "\n",
       "| <!--/--> | No | Yes |\n",
       "|---|---|---|\n",
       "| 1 | 0.9684685 | 0.03153153 |\n",
       "| 2 | 0.8648649 | 0.13513514 |\n",
       "| 3 | 0.3333333 | 0.66666667 |\n",
       "| 4 | 0.8648649 | 0.13513514 |\n",
       "| 5 | 0.9684685 | 0.03153153 |\n",
       "| 6 | 0.9684685 | 0.03153153 |\n",
       "| 7 | 0.9684685 | 0.03153153 |\n",
       "| 8 | 0.9600000 | 0.04000000 |\n",
       "| 9 | 0.2857143 | 0.71428571 |\n",
       "| 10 | 0.9684685 | 0.03153153 |\n",
       "| 11 | 0.9684685 | 0.03153153 |\n",
       "| 12 | 0.9684685 | 0.03153153 |\n",
       "| 13 | 0.9684685 | 0.03153153 |\n",
       "| 14 | 0.9684685 | 0.03153153 |\n",
       "| 15 | 0.9684685 | 0.03153153 |\n",
       "| 16 | 0.9684685 | 0.03153153 |\n",
       "| 17 | 0.2222222 | 0.77777778 |\n",
       "| 18 | 0.9684685 | 0.03153153 |\n",
       "| 19 | 0.9684685 | 0.03153153 |\n",
       "| 20 | 0.9684685 | 0.03153153 |\n",
       "| 21 | 0.8648649 | 0.13513514 |\n",
       "| 22 | 0.2592593 | 0.74074074 |\n",
       "| 23 | 0.2592593 | 0.74074074 |\n",
       "| 24 | 0.9684685 | 0.03153153 |\n",
       "| 25 | 0.9684685 | 0.03153153 |\n",
       "| 26 | 0.9684685 | 0.03153153 |\n",
       "| 27 | 0.9600000 | 0.04000000 |\n",
       "| 28 | 0.9684685 | 0.03153153 |\n",
       "| 29 | 0.2592593 | 0.74074074 |\n",
       "| 30 | 0.2857143 | 0.71428571 |\n",
       "| ⋮ | ⋮ | ⋮ |\n",
       "| 337 | 0.9684685 | 0.03153153 |\n",
       "| 338 | 0.3333333 | 0.66666667 |\n",
       "| 339 | 0.2857143 | 0.71428571 |\n",
       "| 340 | 0.9684685 | 0.03153153 |\n",
       "| 341 | 0.3333333 | 0.66666667 |\n",
       "| 342 | 0.9684685 | 0.03153153 |\n",
       "| 343 | 0.9684685 | 0.03153153 |\n",
       "| 344 | 0.9684685 | 0.03153153 |\n",
       "| 345 | 0.9684685 | 0.03153153 |\n",
       "| 346 | 0.9684685 | 0.03153153 |\n",
       "| 347 | 0.9684685 | 0.03153153 |\n",
       "| 348 | 0.3333333 | 0.66666667 |\n",
       "| 349 | 0.9600000 | 0.04000000 |\n",
       "| 350 | 0.9684685 | 0.03153153 |\n",
       "| 351 | 0.9684685 | 0.03153153 |\n",
       "| 352 | 0.9684685 | 0.03153153 |\n",
       "| 353 | 0.9684685 | 0.03153153 |\n",
       "| 354 | 0.9684685 | 0.03153153 |\n",
       "| 355 | 0.9684685 | 0.03153153 |\n",
       "| 356 | 0.9684685 | 0.03153153 |\n",
       "| 357 | 0.3333333 | 0.66666667 |\n",
       "| 358 | 0.9684685 | 0.03153153 |\n",
       "| 359 | 0.9684685 | 0.03153153 |\n",
       "| 360 | 0.9684685 | 0.03153153 |\n",
       "| 361 | 0.2857143 | 0.71428571 |\n",
       "| 362 | 0.3333333 | 0.66666667 |\n",
       "| 363 | 0.9684685 | 0.03153153 |\n",
       "| 364 | 0.9684685 | 0.03153153 |\n",
       "| 365 | 0.9684685 | 0.03153153 |\n",
       "| 366 | 0.3333333 | 0.66666667 |\n",
       "\n"
      ],
      "text/plain": [
       "    No        Yes       \n",
       "1   0.9684685 0.03153153\n",
       "2   0.8648649 0.13513514\n",
       "3   0.3333333 0.66666667\n",
       "4   0.8648649 0.13513514\n",
       "5   0.9684685 0.03153153\n",
       "6   0.9684685 0.03153153\n",
       "7   0.9684685 0.03153153\n",
       "8   0.9600000 0.04000000\n",
       "9   0.2857143 0.71428571\n",
       "10  0.9684685 0.03153153\n",
       "11  0.9684685 0.03153153\n",
       "12  0.9684685 0.03153153\n",
       "13  0.9684685 0.03153153\n",
       "14  0.9684685 0.03153153\n",
       "15  0.9684685 0.03153153\n",
       "16  0.9684685 0.03153153\n",
       "17  0.2222222 0.77777778\n",
       "18  0.9684685 0.03153153\n",
       "19  0.9684685 0.03153153\n",
       "20  0.9684685 0.03153153\n",
       "21  0.8648649 0.13513514\n",
       "22  0.2592593 0.74074074\n",
       "23  0.2592593 0.74074074\n",
       "24  0.9684685 0.03153153\n",
       "25  0.9684685 0.03153153\n",
       "26  0.9684685 0.03153153\n",
       "27  0.9600000 0.04000000\n",
       "28  0.9684685 0.03153153\n",
       "29  0.2592593 0.74074074\n",
       "30  0.2857143 0.71428571\n",
       "<U+22EE>   <U+22EE>  <U+22EE>  \n",
       "337 0.9684685 0.03153153\n",
       "338 0.3333333 0.66666667\n",
       "339 0.2857143 0.71428571\n",
       "340 0.9684685 0.03153153\n",
       "341 0.3333333 0.66666667\n",
       "342 0.9684685 0.03153153\n",
       "343 0.9684685 0.03153153\n",
       "344 0.9684685 0.03153153\n",
       "345 0.9684685 0.03153153\n",
       "346 0.9684685 0.03153153\n",
       "347 0.9684685 0.03153153\n",
       "348 0.3333333 0.66666667\n",
       "349 0.9600000 0.04000000\n",
       "350 0.9684685 0.03153153\n",
       "351 0.9684685 0.03153153\n",
       "352 0.9684685 0.03153153\n",
       "353 0.9684685 0.03153153\n",
       "354 0.9684685 0.03153153\n",
       "355 0.9684685 0.03153153\n",
       "356 0.9684685 0.03153153\n",
       "357 0.3333333 0.66666667\n",
       "358 0.9684685 0.03153153\n",
       "359 0.9684685 0.03153153\n",
       "360 0.9684685 0.03153153\n",
       "361 0.2857143 0.71428571\n",
       "362 0.3333333 0.66666667\n",
       "363 0.9684685 0.03153153\n",
       "364 0.9684685 0.03153153\n",
       "365 0.9684685 0.03153153\n",
       "366 0.3333333 0.66666667"
      ]
     },
     "metadata": {},
     "output_type": "display_data"
    }
   ],
   "source": [
    "# 예측치 생성\n",
    "weather_pred = predict(weather.df, weather)\n",
    "weather_pred"
   ]
  },
  {
   "cell_type": "code",
   "execution_count": 60,
   "id": "d1a5a509-f1a1-444c-a6cd-822c26e75fa1",
   "metadata": {},
   "outputs": [],
   "source": [
    "# y의 점주로 코딩 변환 \n",
    "weather_pred2 = ifelse(weather_pred[,2] >= 0.5 , 'Yes', 'No')"
   ]
  },
  {
   "cell_type": "code",
   "execution_count": 61,
   "id": "b42c1b21-302d-41b0-9272-8bbced7f50ab",
   "metadata": {},
   "outputs": [
    {
     "data": {
      "text/plain": [
       "             \n",
       "weather_pred2  No Yes\n",
       "          No  278  13\n",
       "          Yes  22  53"
      ]
     },
     "metadata": {},
     "output_type": "display_data"
    }
   ],
   "source": [
    "# 잘 분류했는지 대강 확인해보자\n",
    "table(weather_pred2, weather$RainTomorrow)"
   ]
  },
  {
   "cell_type": "code",
   "execution_count": 62,
   "id": "a4c1ceef-023f-45ce-8e93-bb8a35e3f4e9",
   "metadata": {},
   "outputs": [
    {
     "data": {
      "text/html": [
       "0.904371584699454"
      ],
      "text/latex": [
       "0.904371584699454"
      ],
      "text/markdown": [
       "0.904371584699454"
      ],
      "text/plain": [
       "[1] 0.9043716"
      ]
     },
     "metadata": {},
     "output_type": "display_data"
    }
   ],
   "source": [
    "# 정확도?\n",
    "(278 + 53)/ nrow(weather)"
   ]
  }
 ],
 "metadata": {
  "kernelspec": {
   "display_name": "R",
   "language": "R",
   "name": "ir"
  },
  "language_info": {
   "codemirror_mode": "r",
   "file_extension": ".r",
   "mimetype": "text/x-r-source",
   "name": "R",
   "pygments_lexer": "r",
   "version": "4.0.5"
  }
 },
 "nbformat": 4,
 "nbformat_minor": 5
}
