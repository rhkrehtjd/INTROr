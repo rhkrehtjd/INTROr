{
 "cells": [
  {
   "cell_type": "markdown",
   "id": "4ebaddf1-50ad-4633-9b34-8b5757a6b0b5",
   "metadata": {},
   "source": [
    "# 주요 내장함수, data visualization"
   ]
  },
  {
   "cell_type": "markdown",
   "id": "731e94d2-3b9e-49d5-8c99-5ed974005806",
   "metadata": {},
   "source": [
    "- 기술통계량 처리 관련 내장함수\n",
    "  - 전체 자료를 대표하는 대표값, 중심에 얼마나 떨어졌는가를 나타내는 산포도 등을 나타내는 기술통계량 처리 관련 내장함수에 대해 알아보자"
   ]
  },
  {
   "cell_type": "markdown",
   "id": "f561a139-4a13-4490-b729-276d8f7c666c",
   "metadata": {},
   "source": [
    "> 단계1) 데이터 셋 불러오기"
   ]
  },
  {
   "cell_type": "code",
   "execution_count": 12,
   "id": "589c0319-bf78-4f98-82d5-3d1e6265e72b",
   "metadata": {},
   "outputs": [
    {
     "data": {
      "text/plain": [
       "         Bugs\n",
       "Software   Bugs NT.Bugs Major Critical H.Priority\n",
       "  JDT     11605   10119  1135      432        459\n",
       "  PDE      5803    4191   362      100         96\n",
       "  Equinox   325    1393   156       71         14\n",
       "  Lucene   1714    1714     0        0          0\n",
       "  Mylyn   14577    6806   592      235       8804"
      ]
     },
     "metadata": {},
     "output_type": "display_data"
    }
   ],
   "source": [
    "library(RSADBE) # 패키지를 메모리에 로드\n",
    "data('Bug_Metrics_Software') # RSADBE 패키지에서 제공하는 데이터 셋 불러오기\n",
    "Bug_Metrics_Software[,,1] # 전체 자료 보기\n",
    "# [,,] -> 행열면을 의미하며 [,,1]이 의미하는 건 1면을 보겠다는 것이다."
   ]
  },
  {
   "cell_type": "markdown",
   "id": "1ef02154-b71b-457d-9ce2-e39bb19f171f",
   "metadata": {},
   "source": [
    "> 단계2) 행 단위 합계와 평균 구하기"
   ]
  },
  {
   "cell_type": "code",
   "execution_count": 20,
   "id": "236f6292-fc15-4d57-ac9f-3c87bad49076",
   "metadata": {},
   "outputs": [
    {
     "data": {
      "text/html": [
       "<style>\n",
       ".dl-inline {width: auto; margin:0; padding: 0}\n",
       ".dl-inline>dt, .dl-inline>dd {float: none; width: auto; display: inline-block}\n",
       ".dl-inline>dt::after {content: \":\\0020\"; padding-right: .5ex}\n",
       ".dl-inline>dt:not(:first-of-type) {padding-left: .5ex}\n",
       "</style><dl class=dl-inline><dt>JDT</dt><dd>23750</dd><dt>PDE</dt><dd>10552</dd><dt>Equinox</dt><dd>1959</dd><dt>Lucene</dt><dd>3428</dd><dt>Mylyn</dt><dd>31014</dd></dl>\n"
      ],
      "text/latex": [
       "\\begin{description*}\n",
       "\\item[JDT] 23750\n",
       "\\item[PDE] 10552\n",
       "\\item[Equinox] 1959\n",
       "\\item[Lucene] 3428\n",
       "\\item[Mylyn] 31014\n",
       "\\end{description*}\n"
      ],
      "text/markdown": [
       "JDT\n",
       ":   23750PDE\n",
       ":   10552Equinox\n",
       ":   1959Lucene\n",
       ":   3428Mylyn\n",
       ":   31014\n",
       "\n"
      ],
      "text/plain": [
       "    JDT     PDE Equinox  Lucene   Mylyn \n",
       "  23750   10552    1959    3428   31014 "
      ]
     },
     "metadata": {},
     "output_type": "display_data"
    }
   ],
   "source": [
    "rowSums(Bug_Metrics_Software[,,1])\n",
    "# 소프트웨어 별 버그 수 합계"
   ]
  },
  {
   "cell_type": "code",
   "execution_count": 21,
   "id": "8521f5fc-7013-4e15-be6d-f1500a0daf81",
   "metadata": {},
   "outputs": [
    {
     "data": {
      "text/html": [
       "<style>\n",
       ".dl-inline {width: auto; margin:0; padding: 0}\n",
       ".dl-inline>dt, .dl-inline>dd {float: none; width: auto; display: inline-block}\n",
       ".dl-inline>dt::after {content: \":\\0020\"; padding-right: .5ex}\n",
       ".dl-inline>dt:not(:first-of-type) {padding-left: .5ex}\n",
       "</style><dl class=dl-inline><dt>JDT</dt><dd>4750</dd><dt>PDE</dt><dd>2110.4</dd><dt>Equinox</dt><dd>391.8</dd><dt>Lucene</dt><dd>685.6</dd><dt>Mylyn</dt><dd>6202.8</dd></dl>\n"
      ],
      "text/latex": [
       "\\begin{description*}\n",
       "\\item[JDT] 4750\n",
       "\\item[PDE] 2110.4\n",
       "\\item[Equinox] 391.8\n",
       "\\item[Lucene] 685.6\n",
       "\\item[Mylyn] 6202.8\n",
       "\\end{description*}\n"
      ],
      "text/markdown": [
       "JDT\n",
       ":   4750PDE\n",
       ":   2110.4Equinox\n",
       ":   391.8Lucene\n",
       ":   685.6Mylyn\n",
       ":   6202.8\n",
       "\n"
      ],
      "text/plain": [
       "    JDT     PDE Equinox  Lucene   Mylyn \n",
       " 4750.0  2110.4   391.8   685.6  6202.8 "
      ]
     },
     "metadata": {},
     "output_type": "display_data"
    }
   ],
   "source": [
    "rowMeans(Bug_Metrics_Software[,,1])\n",
    "# 소프트웨어 별 버그 수 평균"
   ]
  },
  {
   "cell_type": "markdown",
   "id": "567498e8-025c-44f4-9668-50750024687d",
   "metadata": {},
   "source": [
    "> 단계3) 열 단위 합계와 평균 구하기"
   ]
  },
  {
   "cell_type": "code",
   "execution_count": 22,
   "id": "6fcd30d7-6e8c-4937-8364-39ab9a248712",
   "metadata": {},
   "outputs": [
    {
     "data": {
      "text/html": [
       "<style>\n",
       ".dl-inline {width: auto; margin:0; padding: 0}\n",
       ".dl-inline>dt, .dl-inline>dd {float: none; width: auto; display: inline-block}\n",
       ".dl-inline>dt::after {content: \":\\0020\"; padding-right: .5ex}\n",
       ".dl-inline>dt:not(:first-of-type) {padding-left: .5ex}\n",
       "</style><dl class=dl-inline><dt>Bugs</dt><dd>34024</dd><dt>NT.Bugs</dt><dd>24223</dd><dt>Major</dt><dd>2245</dd><dt>Critical</dt><dd>838</dd><dt>H.Priority</dt><dd>9373</dd></dl>\n"
      ],
      "text/latex": [
       "\\begin{description*}\n",
       "\\item[Bugs] 34024\n",
       "\\item[NT.Bugs] 24223\n",
       "\\item[Major] 2245\n",
       "\\item[Critical] 838\n",
       "\\item[H.Priority] 9373\n",
       "\\end{description*}\n"
      ],
      "text/markdown": [
       "Bugs\n",
       ":   34024NT.Bugs\n",
       ":   24223Major\n",
       ":   2245Critical\n",
       ":   838H.Priority\n",
       ":   9373\n",
       "\n"
      ],
      "text/plain": [
       "      Bugs    NT.Bugs      Major   Critical H.Priority \n",
       "     34024      24223       2245        838       9373 "
      ]
     },
     "metadata": {},
     "output_type": "display_data"
    }
   ],
   "source": [
    "colSums(Bug_Metrics_Software[,,1])\n",
    "# 버그 종류별 버그 수 합계"
   ]
  },
  {
   "cell_type": "code",
   "execution_count": 23,
   "id": "b304231f-0d7f-416a-aba3-4490b671e21e",
   "metadata": {},
   "outputs": [
    {
     "data": {
      "text/html": [
       "<style>\n",
       ".dl-inline {width: auto; margin:0; padding: 0}\n",
       ".dl-inline>dt, .dl-inline>dd {float: none; width: auto; display: inline-block}\n",
       ".dl-inline>dt::after {content: \":\\0020\"; padding-right: .5ex}\n",
       ".dl-inline>dt:not(:first-of-type) {padding-left: .5ex}\n",
       "</style><dl class=dl-inline><dt>Bugs</dt><dd>34024</dd><dt>NT.Bugs</dt><dd>24223</dd><dt>Major</dt><dd>2245</dd><dt>Critical</dt><dd>838</dd><dt>H.Priority</dt><dd>9373</dd></dl>\n"
      ],
      "text/latex": [
       "\\begin{description*}\n",
       "\\item[Bugs] 34024\n",
       "\\item[NT.Bugs] 24223\n",
       "\\item[Major] 2245\n",
       "\\item[Critical] 838\n",
       "\\item[H.Priority] 9373\n",
       "\\end{description*}\n"
      ],
      "text/markdown": [
       "Bugs\n",
       ":   34024NT.Bugs\n",
       ":   24223Major\n",
       ":   2245Critical\n",
       ":   838H.Priority\n",
       ":   9373\n",
       "\n"
      ],
      "text/plain": [
       "      Bugs    NT.Bugs      Major   Critical H.Priority \n",
       "     34024      24223       2245        838       9373 "
      ]
     },
     "metadata": {},
     "output_type": "display_data"
    }
   ],
   "source": [
    "colSums(Bug_Metrics_Software[,,1])\n",
    "# 버그 종류별 버그 수 평균"
   ]
  },
  {
   "cell_type": "markdown",
   "id": "b33384a6-1cb6-43ad-8d39-f8a3d2242949",
   "metadata": {},
   "source": [
    "- 기술통계량 관련 내장함수"
   ]
  },
  {
   "cell_type": "code",
   "execution_count": 24,
   "id": "84bcf51e-66a4-4591-8c07-170a1ab7eac2",
   "metadata": {},
   "outputs": [
    {
     "data": {
      "text/html": [
       "<style>\n",
       ".list-inline {list-style: none; margin:0; padding: 0}\n",
       ".list-inline>li {display: inline-block}\n",
       ".list-inline>li:not(:last-child)::after {content: \"\\00b7\"; padding: 0 .5ex}\n",
       "</style>\n",
       "<ol class=list-inline><li>-2</li><li>-1.8</li><li>-1.6</li><li>-1.4</li><li>-1.2</li><li>-1</li><li>-0.8</li><li>-0.6</li><li>-0.4</li><li>-0.2</li><li>0</li><li>0.2</li><li>0.4</li><li>0.6</li><li>0.8</li><li>1</li><li>1.2</li><li>1.4</li><li>1.6</li><li>1.8</li><li>2</li></ol>\n"
      ],
      "text/latex": [
       "\\begin{enumerate*}\n",
       "\\item -2\n",
       "\\item -1.8\n",
       "\\item -1.6\n",
       "\\item -1.4\n",
       "\\item -1.2\n",
       "\\item -1\n",
       "\\item -0.8\n",
       "\\item -0.6\n",
       "\\item -0.4\n",
       "\\item -0.2\n",
       "\\item 0\n",
       "\\item 0.2\n",
       "\\item 0.4\n",
       "\\item 0.6\n",
       "\\item 0.8\n",
       "\\item 1\n",
       "\\item 1.2\n",
       "\\item 1.4\n",
       "\\item 1.6\n",
       "\\item 1.8\n",
       "\\item 2\n",
       "\\end{enumerate*}\n"
      ],
      "text/markdown": [
       "1. -2\n",
       "2. -1.8\n",
       "3. -1.6\n",
       "4. -1.4\n",
       "5. -1.2\n",
       "6. -1\n",
       "7. -0.8\n",
       "8. -0.6\n",
       "9. -0.4\n",
       "10. -0.2\n",
       "11. 0\n",
       "12. 0.2\n",
       "13. 0.4\n",
       "14. 0.6\n",
       "15. 0.8\n",
       "16. 1\n",
       "17. 1.2\n",
       "18. 1.4\n",
       "19. 1.6\n",
       "20. 1.8\n",
       "21. 2\n",
       "\n",
       "\n"
      ],
      "text/plain": [
       " [1] -2.0 -1.8 -1.6 -1.4 -1.2 -1.0 -0.8 -0.6 -0.4 -0.2  0.0  0.2  0.4  0.6  0.8\n",
       "[16]  1.0  1.2  1.4  1.6  1.8  2.0"
      ]
     },
     "metadata": {},
     "output_type": "display_data"
    }
   ],
   "source": [
    "seq(-2,2,by=.2) # -2~2범위에서 0.2씩 증가"
   ]
  },
  {
   "cell_type": "code",
   "execution_count": 26,
   "id": "ec1e7e9f-fd91-4c6f-88b3-f2898bf874f4",
   "metadata": {},
   "outputs": [
    {
     "data": {
      "text/html": [
       "1"
      ],
      "text/latex": [
       "1"
      ],
      "text/markdown": [
       "1"
      ],
      "text/plain": [
       "[1] 1"
      ]
     },
     "metadata": {},
     "output_type": "display_data"
    },
    {
     "data": {
      "text/html": [
       "10"
      ],
      "text/latex": [
       "10"
      ],
      "text/markdown": [
       "10"
      ],
      "text/plain": [
       "[1] 10"
      ]
     },
     "metadata": {},
     "output_type": "display_data"
    },
    {
     "data": {
      "text/html": [
       "<style>\n",
       ".list-inline {list-style: none; margin:0; padding: 0}\n",
       ".list-inline>li {display: inline-block}\n",
       ".list-inline>li:not(:last-child)::after {content: \"\\00b7\"; padding: 0 .5ex}\n",
       "</style>\n",
       "<ol class=list-inline><li>1</li><li>10</li></ol>\n"
      ],
      "text/latex": [
       "\\begin{enumerate*}\n",
       "\\item 1\n",
       "\\item 10\n",
       "\\end{enumerate*}\n"
      ],
      "text/markdown": [
       "1. 1\n",
       "2. 10\n",
       "\n",
       "\n"
      ],
      "text/plain": [
       "[1]  1 10"
      ]
     },
     "metadata": {},
     "output_type": "display_data"
    },
    {
     "data": {
      "text/html": [
       "5.5"
      ],
      "text/latex": [
       "5.5"
      ],
      "text/markdown": [
       "5.5"
      ],
      "text/plain": [
       "[1] 5.5"
      ]
     },
     "metadata": {},
     "output_type": "display_data"
    },
    {
     "data": {
      "text/html": [
       "5.5"
      ],
      "text/latex": [
       "5.5"
      ],
      "text/markdown": [
       "5.5"
      ],
      "text/plain": [
       "[1] 5.5"
      ]
     },
     "metadata": {},
     "output_type": "display_data"
    },
    {
     "data": {
      "text/html": [
       "55"
      ],
      "text/latex": [
       "55"
      ],
      "text/markdown": [
       "55"
      ],
      "text/plain": [
       "[1] 55"
      ]
     },
     "metadata": {},
     "output_type": "display_data"
    },
    {
     "data": {
      "text/html": [
       "1.03662256445267"
      ],
      "text/latex": [
       "1.03662256445267"
      ],
      "text/markdown": [
       "1.03662256445267"
      ],
      "text/plain": [
       "[1] 1.036623"
      ]
     },
     "metadata": {},
     "output_type": "display_data"
    },
    {
     "data": {
      "text/html": [
       "0.499229273025413"
      ],
      "text/latex": [
       "0.499229273025413"
      ],
      "text/markdown": [
       "0.499229273025413"
      ],
      "text/plain": [
       "[1] 0.4992293"
      ]
     },
     "metadata": {},
     "output_type": "display_data"
    },
    {
     "data": {
      "text/plain": [
       "vec\n",
       " 1  2  3  4  5  6  7  8  9 10 \n",
       " 1  1  1  1  1  1  1  1  1  1 "
      ]
     },
     "metadata": {},
     "output_type": "display_data"
    }
   ],
   "source": [
    "vec=1:10\n",
    "min(vec)\n",
    "max(vec)\n",
    "range(vec) # 범위\n",
    "mean(vec)\n",
    "median(vec) # 중위수\n",
    "sum(vec)\n",
    "sd(rnorm(10)) # 정규분포 자료 10개를 무작위 추출하여 이를 대상으로 표준편차(standard deviation) 구하기\n",
    "var(rnorm(10)) # 정규분포 자료 10개를 무작위 추출하여 이를 대상으로 분산(variance) 구하기\n",
    "table(vec) # 벡터 자료 대상으로 빈도수 구하기"
   ]
  },
  {
   "cell_type": "markdown",
   "id": "90e179bb-aca1-4e3c-833e-8390cba8cefb",
   "metadata": {},
   "source": [
    "---"
   ]
  },
  {
   "cell_type": "markdown",
   "id": "7ca3daa1-9199-470e-a9e3-a5477f5dd329",
   "metadata": {},
   "source": [
    "- 난수를 발생하는 함수와 확률 분포의 관계를 알아보자\n",
    "- 정규분포(연속형)의 난수 생성"
   ]
  },
  {
   "cell_type": "code",
   "execution_count": 41,
   "id": "1141fcb6-3696-4ef1-b68a-8d325dc9d50d",
   "metadata": {},
   "outputs": [
    {
     "data": {
      "text/html": [
       "<style>\n",
       ".list-inline {list-style: none; margin:0; padding: 0}\n",
       ".list-inline>li {display: inline-block}\n",
       ".list-inline>li:not(:last-child)::after {content: \"\\00b7\"; padding: 0 .5ex}\n",
       "</style>\n",
       "<ol class=list-inline><li>-0.587899193447361</li><li>0.105663589463193</li><li>0.754980766904111</li><li>1.18324340871246</li><li>0.938404987026827</li><li>-0.258727216372821</li><li>-0.630778323800865</li><li>-1.2854416417066</li><li>-0.486353442348488</li><li>-0.115155298710146</li></ol>\n"
      ],
      "text/latex": [
       "\\begin{enumerate*}\n",
       "\\item -0.587899193447361\n",
       "\\item 0.105663589463193\n",
       "\\item 0.754980766904111\n",
       "\\item 1.18324340871246\n",
       "\\item 0.938404987026827\n",
       "\\item -0.258727216372821\n",
       "\\item -0.630778323800865\n",
       "\\item -1.2854416417066\n",
       "\\item -0.486353442348488\n",
       "\\item -0.115155298710146\n",
       "\\end{enumerate*}\n"
      ],
      "text/markdown": [
       "1. -0.587899193447361\n",
       "2. 0.105663589463193\n",
       "3. 0.754980766904111\n",
       "4. 1.18324340871246\n",
       "5. 0.938404987026827\n",
       "6. -0.258727216372821\n",
       "7. -0.630778323800865\n",
       "8. -1.2854416417066\n",
       "9. -0.486353442348488\n",
       "10. -0.115155298710146\n",
       "\n",
       "\n"
      ],
      "text/plain": [
       " [1] -0.5878992  0.1056636  0.7549808  1.1832434  0.9384050 -0.2587272\n",
       " [7] -0.6307783 -1.2854416 -0.4863534 -0.1151553"
      ]
     },
     "metadata": {},
     "output_type": "display_data"
    }
   ],
   "source": [
    "rnorm(10,0,1) # 개수, 평균, 표준편차(standard deviation)"
   ]
  },
  {
   "cell_type": "code",
   "execution_count": 42,
   "id": "e08f2751-9f2e-4ff1-be33-68226d8d2a0d",
   "metadata": {},
   "outputs": [
    {
     "data": {
      "image/png": "[encoded data removed]",
      "text/plain": [
       "Plot with title \"Histogram of rnorm(10000, 0, 1)\""
      ]
     },
     "metadata": {
      "image/png": {
       "height": 420,
       "width": 420
      }
     },
     "output_type": "display_data"
    }
   ],
   "source": [
    "hist(rnorm(10000,0,1))"
   ]
  },
  {
   "cell_type": "markdown",
   "id": "061353b4-4506-44d6-a83b-f6a3a7d52bd4",
   "metadata": {},
   "source": []
  },
  {
   "cell_type": "markdown",
   "id": "9403651c-b71e-439a-abaa-4ee8d1448430",
   "metadata": {},
   "source": [
    "- 균등분포(연속형)의 난수 생성"
   ]
  },
  {
   "cell_type": "code",
   "execution_count": 45,
   "id": "39704614-0c6b-4b41-9985-b4ef774fb2fc",
   "metadata": {},
   "outputs": [
    {
     "data": {
      "text/html": [
       "<style>\n",
       ".list-inline {list-style: none; margin:0; padding: 0}\n",
       ".list-inline>li {display: inline-block}\n",
       ".list-inline>li:not(:last-child)::after {content: \"\\00b7\"; padding: 0 .5ex}\n",
       "</style>\n",
       "<ol class=list-inline><li>0.905393289169297</li><li>0.692594053223729</li><li>0.513968185754493</li><li>0.679906442528591</li><li>0.857219050405547</li><li>0.37504345132038</li><li>0.0806612875312567</li><li>0.186369446571916</li><li>0.199321727268398</li><li>0.202069519087672</li></ol>\n"
      ],
      "text/latex": [
       "\\begin{enumerate*}\n",
       "\\item 0.905393289169297\n",
       "\\item 0.692594053223729\n",
       "\\item 0.513968185754493\n",
       "\\item 0.679906442528591\n",
       "\\item 0.857219050405547\n",
       "\\item 0.37504345132038\n",
       "\\item 0.0806612875312567\n",
       "\\item 0.186369446571916\n",
       "\\item 0.199321727268398\n",
       "\\item 0.202069519087672\n",
       "\\end{enumerate*}\n"
      ],
      "text/markdown": [
       "1. 0.905393289169297\n",
       "2. 0.692594053223729\n",
       "3. 0.513968185754493\n",
       "4. 0.679906442528591\n",
       "5. 0.857219050405547\n",
       "6. 0.37504345132038\n",
       "7. 0.0806612875312567\n",
       "8. 0.186369446571916\n",
       "9. 0.199321727268398\n",
       "10. 0.202069519087672\n",
       "\n",
       "\n"
      ],
      "text/plain": [
       " [1] 0.90539329 0.69259405 0.51396819 0.67990644 0.85721905 0.37504345\n",
       " [7] 0.08066129 0.18636945 0.19932173 0.20206952"
      ]
     },
     "metadata": {},
     "output_type": "display_data"
    }
   ],
   "source": [
    "runif(10,0,1) # 개수, 최소값, 최대값"
   ]
  },
  {
   "cell_type": "code",
   "execution_count": 54,
   "id": "2c1cd0c5-614b-4f85-bebb-f1b71ca08e3f",
   "metadata": {},
   "outputs": [
    {
     "data": {
      "image/png": "[encoded data removed]",
      "text/plain": [
       "Plot with title \"Histogram of runif(10000, 0, 1)\""
      ]
     },
     "metadata": {
      "image/png": {
       "height": 420,
       "width": 420
      }
     },
     "output_type": "display_data"
    }
   ],
   "source": [
    "hist(runif(10000,0,1))"
   ]
  },
  {
   "cell_type": "markdown",
   "id": "37f38abc-9524-4467-97d1-ec8d5ddb3eb5",
   "metadata": {},
   "source": [
    "- 0<n<1 사이의 범위에서 난수를 발생한다. 난수를 히스토그램으로 그려보면 계급에 따라서 빈도가 균등한 분포로 그려진다."
   ]
  },
  {
   "cell_type": "markdown",
   "id": "fe865e82-5975-46a4-bd5a-4c31c7c0837f",
   "metadata": {},
   "source": [
    "- 이항분포(이산형)의 난수 생성\n",
    "  - 이항분포는 정규분포와 같은 이상적인 분포형을 갖지만 연속형이 아닌 이산변량을 갖는다. "
   ]
  },
  {
   "cell_type": "code",
   "execution_count": 61,
   "id": "ce1d3b61-16ea-4d9a-8788-a8b31b6adf13",
   "metadata": {},
   "outputs": [
    {
     "data": {
      "text/html": [
       "<style>\n",
       ".list-inline {list-style: none; margin:0; padding: 0}\n",
       ".list-inline>li {display: inline-block}\n",
       ".list-inline>li:not(:last-child)::after {content: \"\\00b7\"; padding: 0 .5ex}\n",
       "</style>\n",
       "<ol class=list-inline><li>1</li><li>1</li><li>1</li><li>0</li><li>0</li><li>1</li><li>1</li><li>1</li><li>1</li><li>0</li><li>1</li><li>1</li><li>0</li><li>0</li><li>1</li><li>0</li><li>0</li><li>0</li><li>1</li><li>1</li></ol>\n"
      ],
      "text/latex": [
       "\\begin{enumerate*}\n",
       "\\item 1\n",
       "\\item 1\n",
       "\\item 1\n",
       "\\item 0\n",
       "\\item 0\n",
       "\\item 1\n",
       "\\item 1\n",
       "\\item 1\n",
       "\\item 1\n",
       "\\item 0\n",
       "\\item 1\n",
       "\\item 1\n",
       "\\item 0\n",
       "\\item 0\n",
       "\\item 1\n",
       "\\item 0\n",
       "\\item 0\n",
       "\\item 0\n",
       "\\item 1\n",
       "\\item 1\n",
       "\\end{enumerate*}\n"
      ],
      "text/markdown": [
       "1. 1\n",
       "2. 1\n",
       "3. 1\n",
       "4. 0\n",
       "5. 0\n",
       "6. 1\n",
       "7. 1\n",
       "8. 1\n",
       "9. 1\n",
       "10. 0\n",
       "11. 1\n",
       "12. 1\n",
       "13. 0\n",
       "14. 0\n",
       "15. 1\n",
       "16. 0\n",
       "17. 0\n",
       "18. 0\n",
       "19. 1\n",
       "20. 1\n",
       "\n",
       "\n"
      ],
      "text/plain": [
       " [1] 1 1 1 0 0 1 1 1 1 0 1 1 0 0 1 0 0 0 1 1"
      ]
     },
     "metadata": {},
     "output_type": "display_data"
    },
    {
     "data": {
      "text/html": [
       "<style>\n",
       ".list-inline {list-style: none; margin:0; padding: 0}\n",
       ".list-inline>li {display: inline-block}\n",
       ".list-inline>li:not(:last-child)::after {content: \"\\00b7\"; padding: 0 .5ex}\n",
       "</style>\n",
       "<ol class=list-inline><li>0</li><li>1</li><li>0</li><li>1</li><li>1</li><li>1</li><li>2</li><li>1</li><li>1</li><li>0</li><li>2</li><li>0</li><li>0</li><li>0</li><li>0</li><li>1</li><li>1</li><li>2</li><li>1</li><li>0</li></ol>\n"
      ],
      "text/latex": [
       "\\begin{enumerate*}\n",
       "\\item 0\n",
       "\\item 1\n",
       "\\item 0\n",
       "\\item 1\n",
       "\\item 1\n",
       "\\item 1\n",
       "\\item 2\n",
       "\\item 1\n",
       "\\item 1\n",
       "\\item 0\n",
       "\\item 2\n",
       "\\item 0\n",
       "\\item 0\n",
       "\\item 0\n",
       "\\item 0\n",
       "\\item 1\n",
       "\\item 1\n",
       "\\item 2\n",
       "\\item 1\n",
       "\\item 0\n",
       "\\end{enumerate*}\n"
      ],
      "text/markdown": [
       "1. 0\n",
       "2. 1\n",
       "3. 0\n",
       "4. 1\n",
       "5. 1\n",
       "6. 1\n",
       "7. 2\n",
       "8. 1\n",
       "9. 1\n",
       "10. 0\n",
       "11. 2\n",
       "12. 0\n",
       "13. 0\n",
       "14. 0\n",
       "15. 0\n",
       "16. 1\n",
       "17. 1\n",
       "18. 2\n",
       "19. 1\n",
       "20. 0\n",
       "\n",
       "\n"
      ],
      "text/plain": [
       " [1] 0 1 0 1 1 1 2 1 1 0 2 0 0 0 0 1 1 2 1 0"
      ]
     },
     "metadata": {},
     "output_type": "display_data"
    },
    {
     "data": {
      "text/html": [
       "<style>\n",
       ".list-inline {list-style: none; margin:0; padding: 0}\n",
       ".list-inline>li {display: inline-block}\n",
       ".list-inline>li:not(:last-child)::after {content: \"\\00b7\"; padding: 0 .5ex}\n",
       "</style>\n",
       "<ol class=list-inline><li>4</li><li>5</li><li>5</li><li>5</li><li>5</li><li>5</li><li>5</li><li>4</li><li>5</li><li>5</li><li>5</li><li>4</li><li>5</li><li>4</li><li>5</li><li>3</li><li>4</li><li>4</li><li>4</li><li>4</li><li>5</li><li>5</li><li>3</li><li>5</li><li>5</li><li>5</li><li>5</li><li>4</li><li>4</li><li>5</li><li>5</li><li>4</li><li>5</li><li>3</li><li>5</li><li>5</li><li>5</li><li>4</li><li>5</li><li>5</li><li>4</li><li>5</li><li>5</li><li>5</li><li>4</li><li>5</li><li>5</li><li>4</li><li>5</li><li>3</li><li>4</li><li>2</li><li>4</li><li>5</li><li>4</li><li>4</li><li>5</li><li>5</li><li>5</li><li>5</li><li>5</li><li>5</li><li>4</li><li>5</li><li>4</li><li>5</li><li>5</li><li>4</li><li>3</li><li>5</li><li>4</li><li>4</li><li>4</li><li>5</li><li>4</li><li>4</li><li>4</li><li>5</li><li>5</li><li>5</li><li>5</li><li>5</li><li>5</li><li>5</li><li>5</li><li>4</li><li>5</li><li>5</li><li>3</li><li>5</li><li>4</li><li>5</li><li>5</li><li>4</li><li>5</li><li>4</li><li>5</li><li>5</li><li>5</li><li>5</li></ol>\n"
      ],
      "text/latex": [
       "\\begin{enumerate*}\n",
       "\\item 4\n",
       "\\item 5\n",
       "\\item 5\n",
       "\\item 5\n",
       "\\item 5\n",
       "\\item 5\n",
       "\\item 5\n",
       "\\item 4\n",
       "\\item 5\n",
       "\\item 5\n",
       "\\item 5\n",
       "\\item 4\n",
       "\\item 5\n",
       "\\item 4\n",
       "\\item 5\n",
       "\\item 3\n",
       "\\item 4\n",
       "\\item 4\n",
       "\\item 4\n",
       "\\item 4\n",
       "\\item 5\n",
       "\\item 5\n",
       "\\item 3\n",
       "\\item 5\n",
       "\\item 5\n",
       "\\item 5\n",
       "\\item 5\n",
       "\\item 4\n",
       "\\item 4\n",
       "\\item 5\n",
       "\\item 5\n",
       "\\item 4\n",
       "\\item 5\n",
       "\\item 3\n",
       "\\item 5\n",
       "\\item 5\n",
       "\\item 5\n",
       "\\item 4\n",
       "\\item 5\n",
       "\\item 5\n",
       "\\item 4\n",
       "\\item 5\n",
       "\\item 5\n",
       "\\item 5\n",
       "\\item 4\n",
       "\\item 5\n",
       "\\item 5\n",
       "\\item 4\n",
       "\\item 5\n",
       "\\item 3\n",
       "\\item 4\n",
       "\\item 2\n",
       "\\item 4\n",
       "\\item 5\n",
       "\\item 4\n",
       "\\item 4\n",
       "\\item 5\n",
       "\\item 5\n",
       "\\item 5\n",
       "\\item 5\n",
       "\\item 5\n",
       "\\item 5\n",
       "\\item 4\n",
       "\\item 5\n",
       "\\item 4\n",
       "\\item 5\n",
       "\\item 5\n",
       "\\item 4\n",
       "\\item 3\n",
       "\\item 5\n",
       "\\item 4\n",
       "\\item 4\n",
       "\\item 4\n",
       "\\item 5\n",
       "\\item 4\n",
       "\\item 4\n",
       "\\item 4\n",
       "\\item 5\n",
       "\\item 5\n",
       "\\item 5\n",
       "\\item 5\n",
       "\\item 5\n",
       "\\item 5\n",
       "\\item 5\n",
       "\\item 5\n",
       "\\item 4\n",
       "\\item 5\n",
       "\\item 5\n",
       "\\item 3\n",
       "\\item 5\n",
       "\\item 4\n",
       "\\item 5\n",
       "\\item 5\n",
       "\\item 4\n",
       "\\item 5\n",
       "\\item 4\n",
       "\\item 5\n",
       "\\item 5\n",
       "\\item 5\n",
       "\\item 5\n",
       "\\end{enumerate*}\n"
      ],
      "text/markdown": [
       "1. 4\n",
       "2. 5\n",
       "3. 5\n",
       "4. 5\n",
       "5. 5\n",
       "6. 5\n",
       "7. 5\n",
       "8. 4\n",
       "9. 5\n",
       "10. 5\n",
       "11. 5\n",
       "12. 4\n",
       "13. 5\n",
       "14. 4\n",
       "15. 5\n",
       "16. 3\n",
       "17. 4\n",
       "18. 4\n",
       "19. 4\n",
       "20. 4\n",
       "21. 5\n",
       "22. 5\n",
       "23. 3\n",
       "24. 5\n",
       "25. 5\n",
       "26. 5\n",
       "27. 5\n",
       "28. 4\n",
       "29. 4\n",
       "30. 5\n",
       "31. 5\n",
       "32. 4\n",
       "33. 5\n",
       "34. 3\n",
       "35. 5\n",
       "36. 5\n",
       "37. 5\n",
       "38. 4\n",
       "39. 5\n",
       "40. 5\n",
       "41. 4\n",
       "42. 5\n",
       "43. 5\n",
       "44. 5\n",
       "45. 4\n",
       "46. 5\n",
       "47. 5\n",
       "48. 4\n",
       "49. 5\n",
       "50. 3\n",
       "51. 4\n",
       "52. 2\n",
       "53. 4\n",
       "54. 5\n",
       "55. 4\n",
       "56. 4\n",
       "57. 5\n",
       "58. 5\n",
       "59. 5\n",
       "60. 5\n",
       "61. 5\n",
       "62. 5\n",
       "63. 4\n",
       "64. 5\n",
       "65. 4\n",
       "66. 5\n",
       "67. 5\n",
       "68. 4\n",
       "69. 3\n",
       "70. 5\n",
       "71. 4\n",
       "72. 4\n",
       "73. 4\n",
       "74. 5\n",
       "75. 4\n",
       "76. 4\n",
       "77. 4\n",
       "78. 5\n",
       "79. 5\n",
       "80. 5\n",
       "81. 5\n",
       "82. 5\n",
       "83. 5\n",
       "84. 5\n",
       "85. 5\n",
       "86. 4\n",
       "87. 5\n",
       "88. 5\n",
       "89. 3\n",
       "90. 5\n",
       "91. 4\n",
       "92. 5\n",
       "93. 5\n",
       "94. 4\n",
       "95. 5\n",
       "96. 4\n",
       "97. 5\n",
       "98. 5\n",
       "99. 5\n",
       "100. 5\n",
       "\n",
       "\n"
      ],
      "text/plain": [
       "  [1] 4 5 5 5 5 5 5 4 5 5 5 4 5 4 5 3 4 4 4 4 5 5 3 5 5 5 5 4 4 5 5 4 5 3 5 5 5\n",
       " [38] 4 5 5 4 5 5 5 4 5 5 4 5 3 4 2 4 5 4 4 5 5 5 5 5 5 4 5 4 5 5 4 3 5 4 4 4 5\n",
       " [75] 4 4 4 5 5 5 5 5 5 5 5 4 5 5 3 5 4 5 5 4 5 4 5 5 5 5"
      ]
     },
     "metadata": {},
     "output_type": "display_data"
    },
    {
     "data": {
      "text/html": [
       "<style>\n",
       ".list-inline {list-style: none; margin:0; padding: 0}\n",
       ".list-inline>li {display: inline-block}\n",
       ".list-inline>li:not(:last-child)::after {content: \"\\00b7\"; padding: 0 .5ex}\n",
       "</style>\n",
       "<ol class=list-inline><li>2</li><li>3</li><li>3</li><li>3</li><li>3</li><li>2</li><li>3</li><li>2</li><li>3</li><li>3</li><li>3</li><li>3</li><li>2</li><li>2</li><li>3</li><li>3</li><li>3</li><li>2</li><li>3</li><li>2</li><li>3</li><li>3</li><li>3</li><li>3</li><li>3</li><li>2</li><li>2</li><li>3</li><li>2</li><li>1</li><li>1</li><li>3</li><li>3</li><li>3</li><li>3</li><li>3</li><li>3</li><li>3</li><li>3</li><li>3</li><li>3</li><li>3</li><li>3</li><li>1</li><li>3</li><li>3</li><li>3</li><li>3</li><li>3</li><li>2</li><li>3</li><li>3</li><li>3</li><li>3</li><li>3</li><li>3</li><li>3</li><li>3</li><li>3</li><li>3</li><li>1</li><li>3</li><li>3</li><li>2</li><li>3</li><li>3</li><li>3</li><li>3</li><li>3</li><li>3</li><li>3</li><li>2</li><li>3</li><li>3</li><li>3</li><li>3</li><li>3</li><li>1</li><li>3</li><li>3</li><li>1</li><li>2</li><li>2</li><li>1</li><li>2</li><li>3</li><li>3</li><li>3</li><li>1</li><li>3</li><li>3</li><li>3</li><li>2</li><li>2</li><li>3</li><li>3</li><li>3</li><li>3</li><li>3</li><li>3</li></ol>\n"
      ],
      "text/latex": [
       "\\begin{enumerate*}\n",
       "\\item 2\n",
       "\\item 3\n",
       "\\item 3\n",
       "\\item 3\n",
       "\\item 3\n",
       "\\item 2\n",
       "\\item 3\n",
       "\\item 2\n",
       "\\item 3\n",
       "\\item 3\n",
       "\\item 3\n",
       "\\item 3\n",
       "\\item 2\n",
       "\\item 2\n",
       "\\item 3\n",
       "\\item 3\n",
       "\\item 3\n",
       "\\item 2\n",
       "\\item 3\n",
       "\\item 2\n",
       "\\item 3\n",
       "\\item 3\n",
       "\\item 3\n",
       "\\item 3\n",
       "\\item 3\n",
       "\\item 2\n",
       "\\item 2\n",
       "\\item 3\n",
       "\\item 2\n",
       "\\item 1\n",
       "\\item 1\n",
       "\\item 3\n",
       "\\item 3\n",
       "\\item 3\n",
       "\\item 3\n",
       "\\item 3\n",
       "\\item 3\n",
       "\\item 3\n",
       "\\item 3\n",
       "\\item 3\n",
       "\\item 3\n",
       "\\item 3\n",
       "\\item 3\n",
       "\\item 1\n",
       "\\item 3\n",
       "\\item 3\n",
       "\\item 3\n",
       "\\item 3\n",
       "\\item 3\n",
       "\\item 2\n",
       "\\item 3\n",
       "\\item 3\n",
       "\\item 3\n",
       "\\item 3\n",
       "\\item 3\n",
       "\\item 3\n",
       "\\item 3\n",
       "\\item 3\n",
       "\\item 3\n",
       "\\item 3\n",
       "\\item 1\n",
       "\\item 3\n",
       "\\item 3\n",
       "\\item 2\n",
       "\\item 3\n",
       "\\item 3\n",
       "\\item 3\n",
       "\\item 3\n",
       "\\item 3\n",
       "\\item 3\n",
       "\\item 3\n",
       "\\item 2\n",
       "\\item 3\n",
       "\\item 3\n",
       "\\item 3\n",
       "\\item 3\n",
       "\\item 3\n",
       "\\item 1\n",
       "\\item 3\n",
       "\\item 3\n",
       "\\item 1\n",
       "\\item 2\n",
       "\\item 2\n",
       "\\item 1\n",
       "\\item 2\n",
       "\\item 3\n",
       "\\item 3\n",
       "\\item 3\n",
       "\\item 1\n",
       "\\item 3\n",
       "\\item 3\n",
       "\\item 3\n",
       "\\item 2\n",
       "\\item 2\n",
       "\\item 3\n",
       "\\item 3\n",
       "\\item 3\n",
       "\\item 3\n",
       "\\item 3\n",
       "\\item 3\n",
       "\\end{enumerate*}\n"
      ],
      "text/markdown": [
       "1. 2\n",
       "2. 3\n",
       "3. 3\n",
       "4. 3\n",
       "5. 3\n",
       "6. 2\n",
       "7. 3\n",
       "8. 2\n",
       "9. 3\n",
       "10. 3\n",
       "11. 3\n",
       "12. 3\n",
       "13. 2\n",
       "14. 2\n",
       "15. 3\n",
       "16. 3\n",
       "17. 3\n",
       "18. 2\n",
       "19. 3\n",
       "20. 2\n",
       "21. 3\n",
       "22. 3\n",
       "23. 3\n",
       "24. 3\n",
       "25. 3\n",
       "26. 2\n",
       "27. 2\n",
       "28. 3\n",
       "29. 2\n",
       "30. 1\n",
       "31. 1\n",
       "32. 3\n",
       "33. 3\n",
       "34. 3\n",
       "35. 3\n",
       "36. 3\n",
       "37. 3\n",
       "38. 3\n",
       "39. 3\n",
       "40. 3\n",
       "41. 3\n",
       "42. 3\n",
       "43. 3\n",
       "44. 1\n",
       "45. 3\n",
       "46. 3\n",
       "47. 3\n",
       "48. 3\n",
       "49. 3\n",
       "50. 2\n",
       "51. 3\n",
       "52. 3\n",
       "53. 3\n",
       "54. 3\n",
       "55. 3\n",
       "56. 3\n",
       "57. 3\n",
       "58. 3\n",
       "59. 3\n",
       "60. 3\n",
       "61. 1\n",
       "62. 3\n",
       "63. 3\n",
       "64. 2\n",
       "65. 3\n",
       "66. 3\n",
       "67. 3\n",
       "68. 3\n",
       "69. 3\n",
       "70. 3\n",
       "71. 3\n",
       "72. 2\n",
       "73. 3\n",
       "74. 3\n",
       "75. 3\n",
       "76. 3\n",
       "77. 3\n",
       "78. 1\n",
       "79. 3\n",
       "80. 3\n",
       "81. 1\n",
       "82. 2\n",
       "83. 2\n",
       "84. 1\n",
       "85. 2\n",
       "86. 3\n",
       "87. 3\n",
       "88. 3\n",
       "89. 1\n",
       "90. 3\n",
       "91. 3\n",
       "92. 3\n",
       "93. 2\n",
       "94. 2\n",
       "95. 3\n",
       "96. 3\n",
       "97. 3\n",
       "98. 3\n",
       "99. 3\n",
       "100. 3\n",
       "\n",
       "\n"
      ],
      "text/plain": [
       "  [1] 2 3 3 3 3 2 3 2 3 3 3 3 2 2 3 3 3 2 3 2 3 3 3 3 3 2 2 3 2 1 1 3 3 3 3 3 3\n",
       " [38] 3 3 3 3 3 3 1 3 3 3 3 3 2 3 3 3 3 3 3 3 3 3 3 1 3 3 2 3 3 3 3 3 3 3 2 3 3\n",
       " [75] 3 3 3 1 3 3 1 2 2 1 2 3 3 3 1 3 3 3 2 2 3 3 3 3 3 3"
      ]
     },
     "metadata": {},
     "output_type": "display_data"
    },
    {
     "data": {
      "text/html": [
       "<style>\n",
       ".list-inline {list-style: none; margin:0; padding: 0}\n",
       ".list-inline>li {display: inline-block}\n",
       ".list-inline>li:not(:last-child)::after {content: \"\\00b7\"; padding: 0 .5ex}\n",
       "</style>\n",
       "<ol class=list-inline><li>1</li><li>1</li><li>2</li><li>1</li><li>0</li><li>0</li><li>0</li><li>1</li><li>2</li><li>0</li><li>1</li><li>2</li><li>3</li><li>0</li><li>0</li><li>0</li><li>0</li><li>0</li><li>1</li><li>1</li><li>1</li><li>1</li><li>0</li><li>1</li><li>1</li><li>0</li><li>2</li><li>0</li><li>0</li><li>2</li><li>3</li><li>1</li><li>1</li><li>0</li><li>3</li><li>3</li><li>0</li><li>1</li><li>1</li><li>0</li><li>0</li><li>1</li><li>1</li><li>3</li><li>0</li><li>0</li><li>0</li><li>1</li><li>0</li><li>4</li><li>0</li><li>0</li><li>2</li><li>2</li><li>0</li><li>0</li><li>2</li><li>1</li><li>0</li><li>0</li><li>1</li><li>3</li><li>1</li><li>1</li><li>0</li><li>2</li><li>1</li><li>0</li><li>2</li><li>2</li><li>0</li><li>1</li><li>2</li><li>0</li><li>2</li><li>1</li><li>1</li><li>1</li><li>1</li><li>2</li><li>1</li><li>1</li><li>0</li><li>0</li><li>1</li><li>1</li><li>1</li><li>0</li><li>0</li><li>0</li><li>0</li><li>0</li><li>1</li><li>0</li><li>0</li><li>1</li><li>2</li><li>2</li><li>0</li><li>1</li></ol>\n"
      ],
      "text/latex": [
       "\\begin{enumerate*}\n",
       "\\item 1\n",
       "\\item 1\n",
       "\\item 2\n",
       "\\item 1\n",
       "\\item 0\n",
       "\\item 0\n",
       "\\item 0\n",
       "\\item 1\n",
       "\\item 2\n",
       "\\item 0\n",
       "\\item 1\n",
       "\\item 2\n",
       "\\item 3\n",
       "\\item 0\n",
       "\\item 0\n",
       "\\item 0\n",
       "\\item 0\n",
       "\\item 0\n",
       "\\item 1\n",
       "\\item 1\n",
       "\\item 1\n",
       "\\item 1\n",
       "\\item 0\n",
       "\\item 1\n",
       "\\item 1\n",
       "\\item 0\n",
       "\\item 2\n",
       "\\item 0\n",
       "\\item 0\n",
       "\\item 2\n",
       "\\item 3\n",
       "\\item 1\n",
       "\\item 1\n",
       "\\item 0\n",
       "\\item 3\n",
       "\\item 3\n",
       "\\item 0\n",
       "\\item 1\n",
       "\\item 1\n",
       "\\item 0\n",
       "\\item 0\n",
       "\\item 1\n",
       "\\item 1\n",
       "\\item 3\n",
       "\\item 0\n",
       "\\item 0\n",
       "\\item 0\n",
       "\\item 1\n",
       "\\item 0\n",
       "\\item 4\n",
       "\\item 0\n",
       "\\item 0\n",
       "\\item 2\n",
       "\\item 2\n",
       "\\item 0\n",
       "\\item 0\n",
       "\\item 2\n",
       "\\item 1\n",
       "\\item 0\n",
       "\\item 0\n",
       "\\item 1\n",
       "\\item 3\n",
       "\\item 1\n",
       "\\item 1\n",
       "\\item 0\n",
       "\\item 2\n",
       "\\item 1\n",
       "\\item 0\n",
       "\\item 2\n",
       "\\item 2\n",
       "\\item 0\n",
       "\\item 1\n",
       "\\item 2\n",
       "\\item 0\n",
       "\\item 2\n",
       "\\item 1\n",
       "\\item 1\n",
       "\\item 1\n",
       "\\item 1\n",
       "\\item 2\n",
       "\\item 1\n",
       "\\item 1\n",
       "\\item 0\n",
       "\\item 0\n",
       "\\item 1\n",
       "\\item 1\n",
       "\\item 1\n",
       "\\item 0\n",
       "\\item 0\n",
       "\\item 0\n",
       "\\item 0\n",
       "\\item 0\n",
       "\\item 1\n",
       "\\item 0\n",
       "\\item 0\n",
       "\\item 1\n",
       "\\item 2\n",
       "\\item 2\n",
       "\\item 0\n",
       "\\item 1\n",
       "\\end{enumerate*}\n"
      ],
      "text/markdown": [
       "1. 1\n",
       "2. 1\n",
       "3. 2\n",
       "4. 1\n",
       "5. 0\n",
       "6. 0\n",
       "7. 0\n",
       "8. 1\n",
       "9. 2\n",
       "10. 0\n",
       "11. 1\n",
       "12. 2\n",
       "13. 3\n",
       "14. 0\n",
       "15. 0\n",
       "16. 0\n",
       "17. 0\n",
       "18. 0\n",
       "19. 1\n",
       "20. 1\n",
       "21. 1\n",
       "22. 1\n",
       "23. 0\n",
       "24. 1\n",
       "25. 1\n",
       "26. 0\n",
       "27. 2\n",
       "28. 0\n",
       "29. 0\n",
       "30. 2\n",
       "31. 3\n",
       "32. 1\n",
       "33. 1\n",
       "34. 0\n",
       "35. 3\n",
       "36. 3\n",
       "37. 0\n",
       "38. 1\n",
       "39. 1\n",
       "40. 0\n",
       "41. 0\n",
       "42. 1\n",
       "43. 1\n",
       "44. 3\n",
       "45. 0\n",
       "46. 0\n",
       "47. 0\n",
       "48. 1\n",
       "49. 0\n",
       "50. 4\n",
       "51. 0\n",
       "52. 0\n",
       "53. 2\n",
       "54. 2\n",
       "55. 0\n",
       "56. 0\n",
       "57. 2\n",
       "58. 1\n",
       "59. 0\n",
       "60. 0\n",
       "61. 1\n",
       "62. 3\n",
       "63. 1\n",
       "64. 1\n",
       "65. 0\n",
       "66. 2\n",
       "67. 1\n",
       "68. 0\n",
       "69. 2\n",
       "70. 2\n",
       "71. 0\n",
       "72. 1\n",
       "73. 2\n",
       "74. 0\n",
       "75. 2\n",
       "76. 1\n",
       "77. 1\n",
       "78. 1\n",
       "79. 1\n",
       "80. 2\n",
       "81. 1\n",
       "82. 1\n",
       "83. 0\n",
       "84. 0\n",
       "85. 1\n",
       "86. 1\n",
       "87. 1\n",
       "88. 0\n",
       "89. 0\n",
       "90. 0\n",
       "91. 0\n",
       "92. 0\n",
       "93. 1\n",
       "94. 0\n",
       "95. 0\n",
       "96. 1\n",
       "97. 2\n",
       "98. 2\n",
       "99. 0\n",
       "100. 1\n",
       "\n",
       "\n"
      ],
      "text/plain": [
       "  [1] 1 1 2 1 0 0 0 1 2 0 1 2 3 0 0 0 0 0 1 1 1 1 0 1 1 0 2 0 0 2 3 1 1 0 3 3 0\n",
       " [38] 1 1 0 0 1 1 3 0 0 0 1 0 4 0 0 2 2 0 0 2 1 0 0 1 3 1 1 0 2 1 0 2 2 0 1 2 0\n",
       " [75] 2 1 1 1 1 2 1 1 0 0 1 1 1 0 0 0 0 0 1 0 0 1 2 2 0 1"
      ]
     },
     "metadata": {},
     "output_type": "display_data"
    }
   ],
   "source": [
    "rbinom(20,1,1/2) # 주사위를 1번 던지는 시행인데 앞면이 나오는 사건이 확률변수 x인 확률 분포에서 임의로 20개의 데이터를 추출한다.\n",
    "rbinom(20,2,1/3) # 주사위를 2번 던지는 시행인데 앞면이 나오는 사건이 확률변수 x인 확률 분포에서 임의로 20개의 데이터를 추출한다.\n",
    "rbinom(100,5,0.9) # 주사위를 5번 던지는 시행인데 앞면이 나오는 사건이 확률변수 x인 확률 분포에서 임의로 100개의 데이터를 추출한다.\n",
    "rbinom(100,3,0.9) # 주사위를 3번 던지는 시행인데 앞면이 나오는 사건이 확률변수 x인 확률 분포에서 임의로 100개의 데이터를 추출한다.\n",
    "rbinom(100,10,0.1)\n",
    "# "
   ]
  },
  {
   "cell_type": "markdown",
   "id": "2bd14d79-e2b5-460e-a0d6-a9b9bea65f6b",
   "metadata": {},
   "source": [
    "- 종자값으로 동일한 난수 생성"
   ]
  },
  {
   "cell_type": "code",
   "execution_count": 71,
   "id": "a45be4b4-2c73-4d6c-9a39-e9ce8916674d",
   "metadata": {},
   "outputs": [
    {
     "data": {
      "text/html": [
       "<style>\n",
       ".list-inline {list-style: none; margin:0; padding: 0}\n",
       ".list-inline>li {display: inline-block}\n",
       ".list-inline>li:not(:last-child)::after {content: \"\\00b7\"; padding: 0 .5ex}\n",
       "</style>\n",
       "<ol class=list-inline><li>-1.62119724815626</li><li>2.83228772633198</li><li>5.25332353004917</li><li>-5.03709310788805</li><li>3.28737406643315</li><li>3.51816767647272</li><li>0.275780119596054</li><li>0.360104432647439</li><li>0.306644002720151</li><li>-0.670113487132311</li></ol>\n"
      ],
      "text/latex": [
       "\\begin{enumerate*}\n",
       "\\item -1.62119724815626\n",
       "\\item 2.83228772633198\n",
       "\\item 5.25332353004917\n",
       "\\item -5.03709310788805\n",
       "\\item 3.28737406643315\n",
       "\\item 3.51816767647272\n",
       "\\item 0.275780119596054\n",
       "\\item 0.360104432647439\n",
       "\\item 0.306644002720151\n",
       "\\item -0.670113487132311\n",
       "\\end{enumerate*}\n"
      ],
      "text/markdown": [
       "1. -1.62119724815626\n",
       "2. 2.83228772633198\n",
       "3. 5.25332353004917\n",
       "4. -5.03709310788805\n",
       "5. 3.28737406643315\n",
       "6. 3.51816767647272\n",
       "7. 0.275780119596054\n",
       "8. 0.360104432647439\n",
       "9. 0.306644002720151\n",
       "10. -0.670113487132311\n",
       "\n",
       "\n"
      ],
      "text/plain": [
       " [1] -1.6211972  2.8322877  5.2533235 -5.0370931  3.2873741  3.5181677\n",
       " [7]  0.2757801  0.3601044  0.3066440 -0.6701135"
      ]
     },
     "metadata": {},
     "output_type": "display_data"
    }
   ],
   "source": [
    "set.seed(1234) # 1234는 다른 임의의 정수로 대체 가능하다.\n",
    "rnorm(10,2,3)"
   ]
  },
  {
   "cell_type": "markdown",
   "id": "a63c1767-23f0-45ce-99a4-63391b0bace6",
   "metadata": {},
   "source": [
    "- 그런데 위 셀처럼 한 셀안에 넣어준 후 실행시켜주어야 한다.\n",
    "- 다른 셀에서 각각 실행하면 동일한 난수가 생성되지 않는다."
   ]
  },
  {
   "cell_type": "markdown",
   "id": "5cefe0b0-39f8-4275-9197-f63ac4508fd1",
   "metadata": {},
   "source": [
    "---"
   ]
  },
  {
   "cell_type": "markdown",
   "id": "49ef124a-893f-439b-9e2d-8d563f07e6f8",
   "metadata": {},
   "source": [
    "- 수학 관련 내장함수"
   ]
  },
  {
   "cell_type": "code",
   "execution_count": 87,
   "id": "4aec1170-772b-4a5b-878d-f8be6beeb305",
   "metadata": {},
   "outputs": [
    {
     "data": {
      "text/html": [
       "3628800"
      ],
      "text/latex": [
       "3628800"
      ],
      "text/markdown": [
       "3628800"
      ],
      "text/plain": [
       "[1] 3628800"
      ]
     },
     "metadata": {},
     "output_type": "display_data"
    },
    {
     "data": {
      "text/html": [
       "<style>\n",
       ".list-inline {list-style: none; margin:0; padding: 0}\n",
       ".list-inline>li {display: inline-block}\n",
       ".list-inline>li:not(:last-child)::after {content: \"\\00b7\"; padding: 0 .5ex}\n",
       "</style>\n",
       "<ol class=list-inline><li>1</li><li>2</li><li>6</li><li>24</li><li>120</li><li>720</li><li>5040</li><li>40320</li><li>362880</li><li>3628800</li></ol>\n"
      ],
      "text/latex": [
       "\\begin{enumerate*}\n",
       "\\item 1\n",
       "\\item 2\n",
       "\\item 6\n",
       "\\item 24\n",
       "\\item 120\n",
       "\\item 720\n",
       "\\item 5040\n",
       "\\item 40320\n",
       "\\item 362880\n",
       "\\item 3628800\n",
       "\\end{enumerate*}\n"
      ],
      "text/markdown": [
       "1. 1\n",
       "2. 2\n",
       "3. 6\n",
       "4. 24\n",
       "5. 120\n",
       "6. 720\n",
       "7. 5040\n",
       "8. 40320\n",
       "9. 362880\n",
       "10. 3628800\n",
       "\n",
       "\n"
      ],
      "text/plain": [
       " [1]       1       2       6      24     120     720    5040   40320  362880\n",
       "[10] 3628800"
      ]
     },
     "metadata": {},
     "output_type": "display_data"
    },
    {
     "data": {
      "text/html": [
       "3628800"
      ],
      "text/latex": [
       "3628800"
      ],
      "text/markdown": [
       "3628800"
      ],
      "text/plain": [
       "[1] 3628800"
      ]
     },
     "metadata": {},
     "output_type": "display_data"
    },
    {
     "data": {
      "text/html": [
       "120"
      ],
      "text/latex": [
       "120"
      ],
      "text/markdown": [
       "120"
      ],
      "text/plain": [
       "[1] 120"
      ]
     },
     "metadata": {},
     "output_type": "display_data"
    },
    {
     "data": {
      "text/html": [
       "12"
      ],
      "text/latex": [
       "12"
      ],
      "text/markdown": [
       "12"
      ],
      "text/plain": [
       "[1] 12"
      ]
     },
     "metadata": {},
     "output_type": "display_data"
    },
    {
     "data": {
      "text/html": [
       "11"
      ],
      "text/latex": [
       "11"
      ],
      "text/markdown": [
       "11"
      ],
      "text/plain": [
       "[1] 11"
      ]
     },
     "metadata": {},
     "output_type": "display_data"
    },
    {
     "data": {
      "text/html": [
       "<style>\n",
       ".list-inline {list-style: none; margin:0; padding: 0}\n",
       ".list-inline>li {display: inline-block}\n",
       ".list-inline>li:not(:last-child)::after {content: \"\\00b7\"; padding: 0 .5ex}\n",
       "</style>\n",
       "<ol class=list-inline><li>1</li><li>3</li><li>6</li><li>10</li><li>15</li><li>21</li><li>28</li><li>36</li><li>45</li><li>55</li></ol>\n"
      ],
      "text/latex": [
       "\\begin{enumerate*}\n",
       "\\item 1\n",
       "\\item 3\n",
       "\\item 6\n",
       "\\item 10\n",
       "\\item 15\n",
       "\\item 21\n",
       "\\item 28\n",
       "\\item 36\n",
       "\\item 45\n",
       "\\item 55\n",
       "\\end{enumerate*}\n"
      ],
      "text/markdown": [
       "1. 1\n",
       "2. 3\n",
       "3. 6\n",
       "4. 10\n",
       "5. 15\n",
       "6. 21\n",
       "7. 28\n",
       "8. 36\n",
       "9. 45\n",
       "10. 55\n",
       "\n",
       "\n"
      ],
      "text/plain": [
       " [1]  1  3  6 10 15 21 28 36 45 55"
      ]
     },
     "metadata": {},
     "output_type": "display_data"
    },
    {
     "data": {
      "text/html": [
       "1"
      ],
      "text/latex": [
       "1"
      ],
      "text/markdown": [
       "1"
      ],
      "text/plain": [
       "[1] 1"
      ]
     },
     "metadata": {},
     "output_type": "display_data"
    },
    {
     "data": {
      "text/html": [
       "1"
      ],
      "text/latex": [
       "1"
      ],
      "text/markdown": [
       "1"
      ],
      "text/plain": [
       "[1] 1"
      ]
     },
     "metadata": {},
     "output_type": "display_data"
    },
    {
     "data": {
      "text/html": [
       "1"
      ],
      "text/latex": [
       "1"
      ],
      "text/markdown": [
       "1"
      ],
      "text/plain": [
       "[1] 1"
      ]
     },
     "metadata": {},
     "output_type": "display_data"
    }
   ],
   "source": [
    "vec=1:10\n",
    "prod(vec) # factorial과 유사함\n",
    "factorial(vec)\n",
    "factorial(vec)[10]\n",
    "factorial(5)\n",
    "abs(-12)\n",
    "sqrt(121)\n",
    "cumsum(vec) # 벡터 값에 대한 누적 합\n",
    "log(exp(1)) # 밑이 자연상수 e\n",
    "log2(2) # 밑이 2\n",
    "log10(10) # 밑이 10"
   ]
  },
  {
   "cell_type": "markdown",
   "id": "9ad83314-e6e9-4fc2-be48-d1eec54df8ec",
   "metadata": {},
   "source": [
    "---"
   ]
  },
  {
   "cell_type": "markdown",
   "id": "adad753b-7fd5-46b6-8f57-8a807250e2b9",
   "metadata": {},
   "source": [
    "- **`행렬연산 관련 내장함수`**"
   ]
  },
  {
   "cell_type": "code",
   "execution_count": 92,
   "id": "1ae1db9c-64d5-4f0c-8021-2081dda1c26b",
   "metadata": {},
   "outputs": [],
   "source": [
    "x=matrix(1:9,nrow=3,ncol=3,byrow=T)\n",
    "y=matrix(1:3)"
   ]
  },
  {
   "cell_type": "code",
   "execution_count": 97,
   "id": "4da18e13-ec6d-4b42-83f0-81b95d138b89",
   "metadata": {},
   "outputs": [
    {
     "data": {
      "text/html": [
       "3"
      ],
      "text/latex": [
       "3"
      ],
      "text/markdown": [
       "3"
      ],
      "text/plain": [
       "[1] 3"
      ]
     },
     "metadata": {},
     "output_type": "display_data"
    },
    {
     "data": {
      "text/html": [
       "3"
      ],
      "text/latex": [
       "3"
      ],
      "text/markdown": [
       "3"
      ],
      "text/plain": [
       "[1] 3"
      ]
     },
     "metadata": {},
     "output_type": "display_data"
    }
   ],
   "source": [
    "ncol(x)\n",
    "nrow(y)"
   ]
  },
  {
   "cell_type": "code",
   "execution_count": 100,
   "id": "cf93e03f-1334-4d80-9f69-d2a3c7804c16",
   "metadata": {},
   "outputs": [
    {
     "data": {
      "text/html": [
       "<table class=\"dataframe\">\n",
       "<caption>A matrix: 3 × 3 of type int</caption>\n",
       "<tbody>\n",
       "\t<tr><td>1</td><td>2</td><td>3</td></tr>\n",
       "\t<tr><td>4</td><td>5</td><td>6</td></tr>\n",
       "\t<tr><td>7</td><td>8</td><td>9</td></tr>\n",
       "</tbody>\n",
       "</table>\n"
      ],
      "text/latex": [
       "A matrix: 3 × 3 of type int\n",
       "\\begin{tabular}{lll}\n",
       "\t 1 & 2 & 3\\\\\n",
       "\t 4 & 5 & 6\\\\\n",
       "\t 7 & 8 & 9\\\\\n",
       "\\end{tabular}\n"
      ],
      "text/markdown": [
       "\n",
       "A matrix: 3 × 3 of type int\n",
       "\n",
       "| 1 | 2 | 3 |\n",
       "| 4 | 5 | 6 |\n",
       "| 7 | 8 | 9 |\n",
       "\n"
      ],
      "text/plain": [
       "     [,1] [,2] [,3]\n",
       "[1,] 1    2    3   \n",
       "[2,] 4    5    6   \n",
       "[3,] 7    8    9   "
      ]
     },
     "metadata": {},
     "output_type": "display_data"
    }
   ],
   "source": [
    "x"
   ]
  },
  {
   "cell_type": "code",
   "execution_count": 101,
   "id": "b20637a9-0c00-4b7b-b462-7d1d82ede3e7",
   "metadata": {},
   "outputs": [
    {
     "data": {
      "text/html": [
       "<table class=\"dataframe\">\n",
       "<caption>A matrix: 3 × 3 of type int</caption>\n",
       "<tbody>\n",
       "\t<tr><td>1</td><td>4</td><td>7</td></tr>\n",
       "\t<tr><td>2</td><td>5</td><td>8</td></tr>\n",
       "\t<tr><td>3</td><td>6</td><td>9</td></tr>\n",
       "</tbody>\n",
       "</table>\n"
      ],
      "text/latex": [
       "A matrix: 3 × 3 of type int\n",
       "\\begin{tabular}{lll}\n",
       "\t 1 & 4 & 7\\\\\n",
       "\t 2 & 5 & 8\\\\\n",
       "\t 3 & 6 & 9\\\\\n",
       "\\end{tabular}\n"
      ],
      "text/markdown": [
       "\n",
       "A matrix: 3 × 3 of type int\n",
       "\n",
       "| 1 | 4 | 7 |\n",
       "| 2 | 5 | 8 |\n",
       "| 3 | 6 | 9 |\n",
       "\n"
      ],
      "text/plain": [
       "     [,1] [,2] [,3]\n",
       "[1,] 1    4    7   \n",
       "[2,] 2    5    8   \n",
       "[3,] 3    6    9   "
      ]
     },
     "metadata": {},
     "output_type": "display_data"
    }
   ],
   "source": [
    "# x의 전치행렬 반환\n",
    "t(x)"
   ]
  },
  {
   "cell_type": "code",
   "execution_count": 102,
   "id": "40762796-af5b-4d40-8368-01d94a91f174",
   "metadata": {},
   "outputs": [
    {
     "data": {
      "text/html": [
       "<table class=\"dataframe\">\n",
       "<caption>A matrix: 3 × 4 of type int</caption>\n",
       "<tbody>\n",
       "\t<tr><td>1</td><td>2</td><td>3</td><td>1</td></tr>\n",
       "\t<tr><td>4</td><td>5</td><td>6</td><td>2</td></tr>\n",
       "\t<tr><td>7</td><td>8</td><td>9</td><td>3</td></tr>\n",
       "</tbody>\n",
       "</table>\n"
      ],
      "text/latex": [
       "A matrix: 3 × 4 of type int\n",
       "\\begin{tabular}{llll}\n",
       "\t 1 & 2 & 3 & 1\\\\\n",
       "\t 4 & 5 & 6 & 2\\\\\n",
       "\t 7 & 8 & 9 & 3\\\\\n",
       "\\end{tabular}\n"
      ],
      "text/markdown": [
       "\n",
       "A matrix: 3 × 4 of type int\n",
       "\n",
       "| 1 | 2 | 3 | 1 |\n",
       "| 4 | 5 | 6 | 2 |\n",
       "| 7 | 8 | 9 | 3 |\n",
       "\n"
      ],
      "text/plain": [
       "     [,1] [,2] [,3] [,4]\n",
       "[1,] 1    2    3    1   \n",
       "[2,] 4    5    6    2   \n",
       "[3,] 7    8    9    3   "
      ]
     },
     "metadata": {},
     "output_type": "display_data"
    }
   ],
   "source": [
    "# x에 열 추가\n",
    "cbind(x,1:3)"
   ]
  },
  {
   "cell_type": "code",
   "execution_count": 103,
   "id": "50d9c4fb-5d28-45db-a979-08b884a84dab",
   "metadata": {},
   "outputs": [
    {
     "data": {
      "text/html": [
       "<table class=\"dataframe\">\n",
       "<caption>A matrix: 4 × 3 of type int</caption>\n",
       "<tbody>\n",
       "\t<tr><td>1</td><td>2</td><td>3</td></tr>\n",
       "\t<tr><td>4</td><td>5</td><td>6</td></tr>\n",
       "\t<tr><td>7</td><td>8</td><td>9</td></tr>\n",
       "\t<tr><td>1</td><td>2</td><td>3</td></tr>\n",
       "</tbody>\n",
       "</table>\n"
      ],
      "text/latex": [
       "A matrix: 4 × 3 of type int\n",
       "\\begin{tabular}{lll}\n",
       "\t 1 & 2 & 3\\\\\n",
       "\t 4 & 5 & 6\\\\\n",
       "\t 7 & 8 & 9\\\\\n",
       "\t 1 & 2 & 3\\\\\n",
       "\\end{tabular}\n"
      ],
      "text/markdown": [
       "\n",
       "A matrix: 4 × 3 of type int\n",
       "\n",
       "| 1 | 2 | 3 |\n",
       "| 4 | 5 | 6 |\n",
       "| 7 | 8 | 9 |\n",
       "| 1 | 2 | 3 |\n",
       "\n"
      ],
      "text/plain": [
       "     [,1] [,2] [,3]\n",
       "[1,] 1    2    3   \n",
       "[2,] 4    5    6   \n",
       "[3,] 7    8    9   \n",
       "[4,] 1    2    3   "
      ]
     },
     "metadata": {},
     "output_type": "display_data"
    }
   ],
   "source": [
    "# x에 행 추가\n",
    "rbind(x,1:3)"
   ]
  },
  {
   "cell_type": "code",
   "execution_count": 107,
   "id": "b1fbcf26-29d9-4a6b-8f8c-fbf3e8a0abae",
   "metadata": {},
   "outputs": [
    {
     "data": {
      "text/html": [
       "<style>\n",
       ".list-inline {list-style: none; margin:0; padding: 0}\n",
       ".list-inline>li {display: inline-block}\n",
       ".list-inline>li:not(:last-child)::after {content: \"\\00b7\"; padding: 0 .5ex}\n",
       "</style>\n",
       "<ol class=list-inline><li>1</li><li>5</li><li>9</li></ol>\n"
      ],
      "text/latex": [
       "\\begin{enumerate*}\n",
       "\\item 1\n",
       "\\item 5\n",
       "\\item 9\n",
       "\\end{enumerate*}\n"
      ],
      "text/markdown": [
       "1. 1\n",
       "2. 5\n",
       "3. 9\n",
       "\n",
       "\n"
      ],
      "text/plain": [
       "[1] 1 5 9"
      ]
     },
     "metadata": {},
     "output_type": "display_data"
    }
   ],
   "source": [
    "# 정방행렬 x에 대해서 대각선 값 반환\n",
    "diag(x)"
   ]
  },
  {
   "cell_type": "code",
   "execution_count": 110,
   "id": "75b4b00d-8c08-42b2-86fa-61c086bccfe7",
   "metadata": {},
   "outputs": [
    {
     "data": {
      "text/html": [
       "-6.66133814775094e-16"
      ],
      "text/latex": [
       "-6.66133814775094e-16"
      ],
      "text/markdown": [
       "-6.66133814775094e-16"
      ],
      "text/plain": [
       "[1] -6.661338e-16"
      ]
     },
     "metadata": {},
     "output_type": "display_data"
    }
   ],
   "source": [
    "# 행렬식\n",
    "det(x)"
   ]
  },
  {
   "cell_type": "code",
   "execution_count": 114,
   "id": "999acb0f-1c16-41a8-9484-d86473d30d28",
   "metadata": {},
   "outputs": [
    {
     "data": {
      "text/html": [
       "<style>\n",
       ".list-inline {list-style: none; margin:0; padding: 0}\n",
       ".list-inline>li {display: inline-block}\n",
       ".list-inline>li:not(:last-child)::after {content: \"\\00b7\"; padding: 0 .5ex}\n",
       "</style>\n",
       "<ol class=list-inline><li>6</li><li>15</li><li>24</li></ol>\n"
      ],
      "text/latex": [
       "\\begin{enumerate*}\n",
       "\\item 6\n",
       "\\item 15\n",
       "\\item 24\n",
       "\\end{enumerate*}\n"
      ],
      "text/markdown": [
       "1. 6\n",
       "2. 15\n",
       "3. 24\n",
       "\n",
       "\n"
      ],
      "text/plain": [
       "[1]  6 15 24"
      ]
     },
     "metadata": {},
     "output_type": "display_data"
    },
    {
     "data": {
      "text/html": [
       "<style>\n",
       ".list-inline {list-style: none; margin:0; padding: 0}\n",
       ".list-inline>li {display: inline-block}\n",
       ".list-inline>li:not(:last-child)::after {content: \"\\00b7\"; padding: 0 .5ex}\n",
       "</style>\n",
       "<ol class=list-inline><li>12</li><li>15</li><li>18</li></ol>\n"
      ],
      "text/latex": [
       "\\begin{enumerate*}\n",
       "\\item 12\n",
       "\\item 15\n",
       "\\item 18\n",
       "\\end{enumerate*}\n"
      ],
      "text/markdown": [
       "1. 12\n",
       "2. 15\n",
       "3. 18\n",
       "\n",
       "\n"
      ],
      "text/plain": [
       "[1] 12 15 18"
      ]
     },
     "metadata": {},
     "output_type": "display_data"
    }
   ],
   "source": [
    "apply(x,1,sum) # 행에 대해 접근\n",
    "apply(x,2,sum) # 열에 대해 접근"
   ]
  },
  {
   "cell_type": "code",
   "execution_count": 117,
   "id": "769f74f5-0402-4751-8c0c-8042bee0d59a",
   "metadata": {},
   "outputs": [
    {
     "data": {
      "text/html": [
       "<dl>\n",
       "\t<dt>$d</dt>\n",
       "\t\t<dd><style>\n",
       ".list-inline {list-style: none; margin:0; padding: 0}\n",
       ".list-inline>li {display: inline-block}\n",
       ".list-inline>li:not(:last-child)::after {content: \"\\00b7\"; padding: 0 .5ex}\n",
       "</style>\n",
       "<ol class=list-inline><li>16.8481033526142</li><li>1.06836951455471</li><li>1.40266540432574e-16</li></ol>\n",
       "</dd>\n",
       "\t<dt>$u</dt>\n",
       "\t\t<dd><table class=\"dataframe\">\n",
       "<caption>A matrix: 3 × 3 of type dbl</caption>\n",
       "<tbody>\n",
       "\t<tr><td>-0.2148372</td><td> 0.8872307</td><td> 0.4082483</td></tr>\n",
       "\t<tr><td>-0.5205874</td><td> 0.2496440</td><td>-0.8164966</td></tr>\n",
       "\t<tr><td>-0.8263375</td><td>-0.3879428</td><td> 0.4082483</td></tr>\n",
       "</tbody>\n",
       "</table>\n",
       "</dd>\n",
       "\t<dt>$v</dt>\n",
       "\t\t<dd><table class=\"dataframe\">\n",
       "<caption>A matrix: 3 × 3 of type dbl</caption>\n",
       "<tbody>\n",
       "\t<tr><td>-0.4796712</td><td>-0.77669099</td><td> 0.4082483</td></tr>\n",
       "\t<tr><td>-0.5723678</td><td>-0.07568647</td><td>-0.8164966</td></tr>\n",
       "\t<tr><td>-0.6650644</td><td> 0.62531805</td><td> 0.4082483</td></tr>\n",
       "</tbody>\n",
       "</table>\n",
       "</dd>\n",
       "</dl>\n"
      ],
      "text/latex": [
       "\\begin{description}\n",
       "\\item[\\$d] \\begin{enumerate*}\n",
       "\\item 16.8481033526142\n",
       "\\item 1.06836951455471\n",
       "\\item 1.40266540432574e-16\n",
       "\\end{enumerate*}\n",
       "\n",
       "\\item[\\$u] A matrix: 3 × 3 of type dbl\n",
       "\\begin{tabular}{lll}\n",
       "\t -0.2148372 &  0.8872307 &  0.4082483\\\\\n",
       "\t -0.5205874 &  0.2496440 & -0.8164966\\\\\n",
       "\t -0.8263375 & -0.3879428 &  0.4082483\\\\\n",
       "\\end{tabular}\n",
       "\n",
       "\\item[\\$v] A matrix: 3 × 3 of type dbl\n",
       "\\begin{tabular}{lll}\n",
       "\t -0.4796712 & -0.77669099 &  0.4082483\\\\\n",
       "\t -0.5723678 & -0.07568647 & -0.8164966\\\\\n",
       "\t -0.6650644 &  0.62531805 &  0.4082483\\\\\n",
       "\\end{tabular}\n",
       "\n",
       "\\end{description}\n"
      ],
      "text/markdown": [
       "$d\n",
       ":   1. 16.8481033526142\n",
       "2. 1.06836951455471\n",
       "3. 1.40266540432574e-16\n",
       "\n",
       "\n",
       "\n",
       "$u\n",
       ":   \n",
       "A matrix: 3 × 3 of type dbl\n",
       "\n",
       "| -0.2148372 |  0.8872307 |  0.4082483 |\n",
       "| -0.5205874 |  0.2496440 | -0.8164966 |\n",
       "| -0.8263375 | -0.3879428 |  0.4082483 |\n",
       "\n",
       "\n",
       "$v\n",
       ":   \n",
       "A matrix: 3 × 3 of type dbl\n",
       "\n",
       "| -0.4796712 | -0.77669099 |  0.4082483 |\n",
       "| -0.5723678 | -0.07568647 | -0.8164966 |\n",
       "| -0.6650644 |  0.62531805 |  0.4082483 |\n",
       "\n",
       "\n",
       "\n",
       "\n"
      ],
      "text/plain": [
       "$d\n",
       "[1] 1.684810e+01 1.068370e+00 1.402665e-16\n",
       "\n",
       "$u\n",
       "           [,1]       [,2]       [,3]\n",
       "[1,] -0.2148372  0.8872307  0.4082483\n",
       "[2,] -0.5205874  0.2496440 -0.8164966\n",
       "[3,] -0.8263375 -0.3879428  0.4082483\n",
       "\n",
       "$v\n",
       "           [,1]        [,2]       [,3]\n",
       "[1,] -0.4796712 -0.77669099  0.4082483\n",
       "[2,] -0.5723678 -0.07568647 -0.8164966\n",
       "[3,] -0.6650644  0.62531805  0.4082483\n"
      ]
     },
     "metadata": {},
     "output_type": "display_data"
    }
   ],
   "source": [
    "# 정방행렬 x에서 d,u,v 행렬로 특이값 분해 -> svd\n",
    "svd(x)"
   ]
  },
  {
   "cell_type": "code",
   "execution_count": 118,
   "id": "5e23a820-1f39-4fce-ba1d-2e2fa54dead1",
   "metadata": {},
   "outputs": [
    {
     "data": {
      "text/plain": [
       "eigen() decomposition\n",
       "$values\n",
       "[1]  1.611684e+01 -1.116844e+00 -9.759185e-16\n",
       "\n",
       "$vectors\n",
       "           [,1]        [,2]       [,3]\n",
       "[1,] -0.2319707 -0.78583024  0.4082483\n",
       "[2,] -0.5253221 -0.08675134 -0.8164966\n",
       "[3,] -0.8186735  0.61232756  0.4082483\n"
      ]
     },
     "metadata": {},
     "output_type": "display_data"
    }
   ],
   "source": [
    "# 정방행렬 x에서 고유값 분해\n",
    "eigen(x)"
   ]
  },
  {
   "cell_type": "code",
   "execution_count": 121,
   "id": "0e2137ce-5057-4f89-a9ec-63ea9e5d1fc8",
   "metadata": {},
   "outputs": [
    {
     "data": {
      "text/html": [
       "<table class=\"dataframe\">\n",
       "<caption>A matrix: 3 × 1 of type dbl</caption>\n",
       "<tbody>\n",
       "\t<tr><td>14</td></tr>\n",
       "\t<tr><td>32</td></tr>\n",
       "\t<tr><td>50</td></tr>\n",
       "</tbody>\n",
       "</table>\n"
      ],
      "text/latex": [
       "A matrix: 3 × 1 of type dbl\n",
       "\\begin{tabular}{l}\n",
       "\t 14\\\\\n",
       "\t 32\\\\\n",
       "\t 50\\\\\n",
       "\\end{tabular}\n"
      ],
      "text/markdown": [
       "\n",
       "A matrix: 3 × 1 of type dbl\n",
       "\n",
       "| 14 |\n",
       "| 32 |\n",
       "| 50 |\n",
       "\n"
      ],
      "text/plain": [
       "     [,1]\n",
       "[1,] 14  \n",
       "[2,] 32  \n",
       "[3,] 50  "
      ]
     },
     "metadata": {},
     "output_type": "display_data"
    }
   ],
   "source": [
    "# x와 y의 행과 열을 곱하고 더하는 행렬 곱을 반환\n",
    "x%*%y"
   ]
  },
  {
   "attachments": {
    "c85c574c-db5c-444b-874f-c1cb0e50f28b.png": {
     "image/png": "[encoded data removed]"
    }
   },
   "cell_type": "markdown",
   "id": "1957b6d8-a51a-4400-82a6-b3085d449656",
   "metadata": {},
   "source": [
    "- ![image.png](attachment:c85c574c-db5c-444b-874f-c1cb0e50f28b.png)\n",
    "- 파이썬에서는 위와같이 해결할 수 있었음"
   ]
  },
  {
   "cell_type": "markdown",
   "id": "4137be52-56f9-4bd8-8aa5-04780db8b40b",
   "metadata": {},
   "source": [
    "---"
   ]
  },
  {
   "cell_type": "markdown",
   "id": "916d81e6-5a37-4506-b8da-2d8d89b2c414",
   "metadata": {},
   "source": [
    "- 집합연산 관련 내장함수"
   ]
  },
  {
   "cell_type": "code",
   "execution_count": 124,
   "id": "cb137c7f-fc05-47ad-971b-653e7763a2b7",
   "metadata": {},
   "outputs": [],
   "source": [
    "x=seq(1,9,2)\n",
    "y=c(3,7)"
   ]
  },
  {
   "cell_type": "code",
   "execution_count": 126,
   "id": "5e6ac4e8-e928-4ba9-9426-d2e70c36847a",
   "metadata": {},
   "outputs": [
    {
     "data": {
      "text/html": [
       "<style>\n",
       ".list-inline {list-style: none; margin:0; padding: 0}\n",
       ".list-inline>li {display: inline-block}\n",
       ".list-inline>li:not(:last-child)::after {content: \"\\00b7\"; padding: 0 .5ex}\n",
       "</style>\n",
       "<ol class=list-inline><li>1</li><li>3</li><li>5</li><li>7</li><li>9</li></ol>\n"
      ],
      "text/latex": [
       "\\begin{enumerate*}\n",
       "\\item 1\n",
       "\\item 3\n",
       "\\item 5\n",
       "\\item 7\n",
       "\\item 9\n",
       "\\end{enumerate*}\n"
      ],
      "text/markdown": [
       "1. 1\n",
       "2. 3\n",
       "3. 5\n",
       "4. 7\n",
       "5. 9\n",
       "\n",
       "\n"
      ],
      "text/plain": [
       "[1] 1 3 5 7 9"
      ]
     },
     "metadata": {},
     "output_type": "display_data"
    }
   ],
   "source": [
    "# x,y 벡터에 관한 합집합\n",
    "union(x,y)"
   ]
  },
  {
   "cell_type": "code",
   "execution_count": 127,
   "id": "2e60c5e3-4215-4691-9eb5-f1c88aa9d365",
   "metadata": {},
   "outputs": [
    {
     "data": {
      "text/html": [
       "FALSE"
      ],
      "text/latex": [
       "FALSE"
      ],
      "text/markdown": [
       "FALSE"
      ],
      "text/plain": [
       "[1] FALSE"
      ]
     },
     "metadata": {},
     "output_type": "display_data"
    }
   ],
   "source": [
    "# x,y 벡터에 관한 동일성 검사\n",
    "setequal(x,y)"
   ]
  },
  {
   "cell_type": "code",
   "execution_count": 128,
   "id": "dc926f92-2137-4c3d-8744-8e447a8b0c60",
   "metadata": {},
   "outputs": [
    {
     "data": {
      "text/html": [
       "<style>\n",
       ".list-inline {list-style: none; margin:0; padding: 0}\n",
       ".list-inline>li {display: inline-block}\n",
       ".list-inline>li:not(:last-child)::after {content: \"\\00b7\"; padding: 0 .5ex}\n",
       "</style>\n",
       "<ol class=list-inline><li>3</li><li>7</li></ol>\n"
      ],
      "text/latex": [
       "\\begin{enumerate*}\n",
       "\\item 3\n",
       "\\item 7\n",
       "\\end{enumerate*}\n"
      ],
      "text/markdown": [
       "1. 3\n",
       "2. 7\n",
       "\n",
       "\n"
      ],
      "text/plain": [
       "[1] 3 7"
      ]
     },
     "metadata": {},
     "output_type": "display_data"
    }
   ],
   "source": [
    "# 교집합\n",
    "intersect(x,y)"
   ]
  },
  {
   "cell_type": "code",
   "execution_count": 132,
   "id": "f54f6f2f-4f42-4786-aa03-2ffbaf8d85bf",
   "metadata": {},
   "outputs": [
    {
     "data": {
      "text/html": [
       "<style>\n",
       ".list-inline {list-style: none; margin:0; padding: 0}\n",
       ".list-inline>li {display: inline-block}\n",
       ".list-inline>li:not(:last-child)::after {content: \"\\00b7\"; padding: 0 .5ex}\n",
       "</style>\n",
       "<ol class=list-inline><li>1</li><li>5</li><li>9</li></ol>\n"
      ],
      "text/latex": [
       "\\begin{enumerate*}\n",
       "\\item 1\n",
       "\\item 5\n",
       "\\item 9\n",
       "\\end{enumerate*}\n"
      ],
      "text/markdown": [
       "1. 1\n",
       "2. 5\n",
       "3. 9\n",
       "\n",
       "\n"
      ],
      "text/plain": [
       "[1] 1 5 9"
      ]
     },
     "metadata": {},
     "output_type": "display_data"
    },
    {
     "data": {
      "text/html": [],
      "text/latex": [],
      "text/markdown": [],
      "text/plain": [
       "numeric(0)"
      ]
     },
     "metadata": {},
     "output_type": "display_data"
    }
   ],
   "source": [
    "# x-y 차집합\n",
    "setdiff(x,y)\n",
    "# y-x 차집합인데 결과는 공집합이므로 아무것도 출력되지 않는다.\n",
    "setdiff(y,x)"
   ]
  },
  {
   "cell_type": "code",
   "execution_count": 135,
   "id": "617bd022-5980-4cb6-af80-48d864ce0c13",
   "metadata": {},
   "outputs": [
    {
     "data": {
      "text/html": [
       "FALSE"
      ],
      "text/latex": [
       "FALSE"
      ],
      "text/markdown": [
       "FALSE"
      ],
      "text/plain": [
       "[1] FALSE"
      ]
     },
     "metadata": {},
     "output_type": "display_data"
    }
   ],
   "source": [
    "# 5가 y의 원소인지 검사\n",
    "5%in%y"
   ]
  },
  {
   "cell_type": "markdown",
   "id": "9d8a8393-3b4d-49c9-83df-6098a6dc661f",
   "metadata": {},
   "source": [
    "---"
   ]
  },
  {
   "cell_type": "markdown",
   "id": "66631393-ca47-43d1-8145-ce8d1f170e28",
   "metadata": {},
   "source": [
    "- 데이터 시각화 \n",
    "  - 이산변수와 연속변수에 따라서 이용될 수 있는 도구가 달라진다. 이산변수는 막대, 점, 원형 차트를 주로 이용하고 연속변수는 상자 박스, 히스토그램, 산점도 등을 이용한다."
   ]
  },
  {
   "cell_type": "markdown",
   "id": "7bef1c0a-e32e-40e9-8632-b84a560c6261",
   "metadata": {},
   "source": [
    "- 이산변수 시각화 \n",
    "  - 이산변수는 정수 단위로 나누어 측정할 수 있는 변수를 의미한다. 이러한 변수들은 막대 ㅁ차트, 점 차트, 원 차트 등을 이용하여 데이터를 시각화하면 효과적이다."
   ]
  },
  {
   "cell_type": "markdown",
   "id": "7d344f7c-dd54-41d4-8e26-838ac905f6b8",
   "metadata": {},
   "source": [
    "- 막대 차트 시각화\n",
    "  - barplot() 함수를 이용하여 세로 막대 차트와 가로 막대 차트를 그릴 수 있다.\n",
    "  - 기본적으로 세로 막대 차트를 제공한다. "
   ]
  },
  {
   "cell_type": "code",
   "execution_count": 141,
   "id": "6664abe6-1021-4dc7-8996-a21a42030d46",
   "metadata": {},
   "outputs": [
    {
     "name": "stdout",
     "output_type": "stream",
     "text": [
      " Named num [1:8] 31214 13234 5435 11136 14116 ...\n",
      " - attr(*, \"names\")= chr [1:8] \"1\" \"20\" \"3\" \"4\" ...\n"
     ]
    }
   ],
   "source": [
    "data = c(31214,13234,5435,11136,14116,7111,2575,37486)\n",
    "\n",
    "# 칼럼명 지정\n",
    "names(data)=c('1','20','3','4','5','6','7','8')\n",
    "\n",
    "# 자료구조 보기\n",
    "str(data)"
   ]
  },
  {
   "cell_type": "code",
   "execution_count": 142,
   "id": "56e22d05-3b9e-415a-8f60-a8dc0c2e0180",
   "metadata": {},
   "outputs": [
    {
     "data": {
      "text/html": [
       "<style>\n",
       ".dl-inline {width: auto; margin:0; padding: 0}\n",
       ".dl-inline>dt, .dl-inline>dd {float: none; width: auto; display: inline-block}\n",
       ".dl-inline>dt::after {content: \":\\0020\"; padding-right: .5ex}\n",
       ".dl-inline>dt:not(:first-of-type) {padding-left: .5ex}\n",
       "</style><dl class=dl-inline><dt>1</dt><dd>31214</dd><dt>20</dt><dd>13234</dd><dt>3</dt><dd>5435</dd><dt>4</dt><dd>11136</dd><dt>5</dt><dd>14116</dd><dt>6</dt><dd>7111</dd><dt>7</dt><dd>2575</dd><dt>8</dt><dd>37486</dd></dl>\n"
      ],
      "text/latex": [
       "\\begin{description*}\n",
       "\\item[1] 31214\n",
       "\\item[20] 13234\n",
       "\\item[3] 5435\n",
       "\\item[4] 11136\n",
       "\\item[5] 14116\n",
       "\\item[6] 7111\n",
       "\\item[7] 2575\n",
       "\\item[8] 37486\n",
       "\\end{description*}\n"
      ],
      "text/markdown": [
       "1\n",
       ":   3121420\n",
       ":   132343\n",
       ":   54354\n",
       ":   111365\n",
       ":   141166\n",
       ":   71117\n",
       ":   25758\n",
       ":   37486\n",
       "\n"
      ],
      "text/plain": [
       "    1    20     3     4     5     6     7     8 \n",
       "31214 13234  5435 11136 14116  7111  2575 37486 "
      ]
     },
     "metadata": {},
     "output_type": "display_data"
    }
   ],
   "source": [
    "data"
   ]
  },
  {
   "cell_type": "markdown",
   "id": "c4c16915-99e1-479f-9018-31dd204924e1",
   "metadata": {},
   "source": [
    "- 세로 막대 차트 그리기"
   ]
  },
  {
   "cell_type": "code",
   "execution_count": 156,
   "id": "4698e599-6739-4360-8d9c-27fe2ce955bd",
   "metadata": {},
   "outputs": [
    {
     "data": {
      "image/png": "[encoded data removed]",
      "text/plain": [
       "Plot with title \"nothing\""
      ]
     },
     "metadata": {
      "image/png": {
       "height": 420,
       "width": 420
      }
     },
     "output_type": "display_data"
    }
   ],
   "source": [
    "barplot(data,ylim=c(0,100000),col=rainbow(9),main = 'nothing')\n",
    "# col은 각 막대를 나타낼 색상을 지정해준다. \n",
    "# main은 barplot의 제목이다"
   ]
  },
  {
   "cell_type": "code",
   "execution_count": 157,
   "id": "d03a0c30-2f05-473c-b2bd-ab0c4ac9a146",
   "metadata": {},
   "outputs": [],
   "source": [
    "# help(barplot)\n",
    "# 를 통해서 사용법을 알 수 있다."
   ]
  },
  {
   "cell_type": "markdown",
   "id": "a2e6f8d9-0b99-4bc9-8b8c-ff12dfb76a0f",
   "metadata": {},
   "source": [
    "- 막대 차트의 가로축과 세로축에 레이블 추가"
   ]
  },
  {
   "cell_type": "code",
   "execution_count": 162,
   "id": "9e95a35e-a23f-41e1-97e6-acfb6426563f",
   "metadata": {},
   "outputs": [
    {
     "data": {
      "image/png": "[encoded data removed]",
      "text/plain": [
       "Plot with title \"nothing\""
      ]
     },
     "metadata": {
      "image/png": {
       "height": 420,
       "width": 420
      }
     },
     "output_type": "display_data"
    }
   ],
   "source": [
    "barplot(data,ylim=c(0,100000),col=rainbow(2),main = 'nothing'\n",
    "       ,ylab='asdaf',xlab='asdafg')"
   ]
  },
  {
   "cell_type": "markdown",
   "id": "9e748aac-b9f8-4929-aeea-8f367cfd2ef5",
   "metadata": {},
   "source": [
    "- 가로 막대 차트\n",
    "  - horiz=T 속성을 추가해주면 된다\n",
    "  - 주의해야 할 것은 그래프가 가로이기 때문에 y축의 범위를 지정해주면 안 되고 x축의 범위를 지정해주어야 한다.\n",
    "  - 그에 따라 x축과 y축의 라벨로 반대로 바꿔주어야 할 것이다"
   ]
  },
  {
   "cell_type": "code",
   "execution_count": 169,
   "id": "7dd07c44-d8ca-43f1-85c1-dd30d9c48fa7",
   "metadata": {},
   "outputs": [
    {
     "data": {
      "image/png": "[encoded data removed]",
      "text/plain": [
       "Plot with title \"nothing\""
      ]
     },
     "metadata": {
      "image/png": {
       "height": 420,
       "width": 420
      }
     },
     "output_type": "display_data"
    }
   ],
   "source": [
    "barplot(data,xlim=c(0,100000),col=rainbow(8),main = 'nothing'\n",
    "       ,ylab='asdafg',xlab='asdaf',horiz=T)"
   ]
  },
  {
   "cell_type": "markdown",
   "id": "0a66851f-46db-49fc-b7c6-3b4d3e21a7cd",
   "metadata": {},
   "source": [
    "- 막대와 막대 사이의 간격을 조정하고, 축 이름의 크기를 지정"
   ]
  },
  {
   "cell_type": "code",
   "execution_count": 174,
   "id": "3c868730-977a-4be6-b2df-e625a91b7d65",
   "metadata": {},
   "outputs": [
    {
     "data": {
      "image/png": "[encoded data removed]",
      "text/plain": [
       "Plot with title \"nothing\""
      ]
     },
     "metadata": {
      "image/png": {
       "height": 420,
       "width": 420
      }
     },
     "output_type": "display_data"
    }
   ],
   "source": [
    "barplot(data,xlim=c(0,100000),col=rainbow(8),main = 'nothing'\n",
    "       ,ylab='asdaf',xlab='asdafg',horiz=T,\n",
    "       space = 0.7,\n",
    "       cex.names=2)\n",
    "# space = 막대와 막대 사이의 간격, 간격이 넓어질수록 막대의 굵기는 얇아질 것이다.\n",
    "# cex.names = 축 이름의 크기 지정"
   ]
  },
  {
   "cell_type": "markdown",
   "id": "c2e77b56-9dc9-456e-a781-644306c3416a",
   "metadata": {},
   "source": [
    "- 막대 차트에서 막대의 색상 지정하기\n",
    "  - 특정 막대들을 골라서 3회 반복해보자"
   ]
  },
  {
   "cell_type": "code",
   "execution_count": 187,
   "id": "99cd347d-d0d6-4639-a80c-9db69942a7db",
   "metadata": {},
   "outputs": [
    {
     "data": {
      "image/png": "[encoded data removed]",
      "text/plain": [
       "Plot with title \"nothing\""
      ]
     },
     "metadata": {
      "image/png": {
       "height": 420,
       "width": 420
      }
     },
     "output_type": "display_data"
    }
   ],
   "source": [
    "barplot(data,xlim=c(0,100000),main = 'nothing'\n",
    "       ,ylab='asdaf',xlab='asdafg',horiz=T,\n",
    "       space = 0.7,\n",
    "       cex.names=2,\n",
    "       col=rep(c('red','green'),2))"
   ]
  },
  {
   "cell_type": "markdown",
   "id": "6a643619-67e8-48e4-a2e9-bb6ee0aefaf1",
   "metadata": {},
   "source": [
    "- 해당 그래프는 바로 위 데이터와 데이터 전체적 분포는 다를바없지만 그냥 색깔만 왔다갔다 할 수 있도록 설정해준 것이다.\n",
    "- 혹은 아래와 같이 할 수도 있다."
   ]
  },
  {
   "cell_type": "code",
   "execution_count": 188,
   "id": "d80e7e08-ea93-4780-8237-23b9c3a5eb9f",
   "metadata": {},
   "outputs": [
    {
     "data": {
      "image/png": "[encoded data removed]",
      "text/plain": [
       "Plot with title \"nothing\""
      ]
     },
     "metadata": {
      "image/png": {
       "height": 420,
       "width": 420
      }
     },
     "output_type": "display_data"
    }
   ],
   "source": [
    "barplot(data,xlim=c(0,100000),main = 'nothing'\n",
    "       ,ylab='asdaf',xlab='asdafg',horiz=T,\n",
    "       space = 0.7,\n",
    "       cex.names=2,\n",
    "       col=rep(c(2,4),4))"
   ]
  },
  {
   "cell_type": "markdown",
   "id": "f777270a-9e26-4cf4-9ce2-ae8a63419280",
   "metadata": {},
   "source": [
    "- 1~7까지이며, 검빨초파하자노 순이다."
   ]
  },
  {
   "cell_type": "markdown",
   "id": "098b6b48-aab7-4d8e-a978-2c56992b2ecb",
   "metadata": {},
   "source": [
    "---"
   ]
  },
  {
   "cell_type": "markdown",
   "id": "cb958148-0acb-4c8d-b549-1ee0532c500d",
   "metadata": {},
   "source": [
    "- 누적 막대 차트\n",
    "  - 하나의 칼럼에 여러 개의 자료를 가지고 있는 경우 자료를 개별적인 막대로 표현하거나 누적 형태로 표현할 수 있다.\n",
    "  - 무슨 말인지 직관적으로 이해되지 않으니 주어지는 dataset과 그에 따른 막대 차트를 그려보자"
   ]
  },
  {
   "cell_type": "code",
   "execution_count": 190,
   "id": "16ea5469-79f7-4f3b-ab2f-37dd84233981",
   "metadata": {},
   "outputs": [
    {
     "data": {
      "text/html": [
       "<table class=\"dataframe\">\n",
       "<caption>A matrix: 5 × 4 of type dbl</caption>\n",
       "<thead>\n",
       "\t<tr><th></th><th scope=col>Rural Male</th><th scope=col>Rural Female</th><th scope=col>Urban Male</th><th scope=col>Urban Female</th></tr>\n",
       "</thead>\n",
       "<tbody>\n",
       "\t<tr><th scope=row>50-54</th><td>11.7</td><td> 8.7</td><td>15.4</td><td> 8.4</td></tr>\n",
       "\t<tr><th scope=row>55-59</th><td>18.1</td><td>11.7</td><td>24.3</td><td>13.6</td></tr>\n",
       "\t<tr><th scope=row>60-64</th><td>26.9</td><td>20.3</td><td>37.0</td><td>19.3</td></tr>\n",
       "\t<tr><th scope=row>65-69</th><td>41.0</td><td>30.9</td><td>54.6</td><td>35.1</td></tr>\n",
       "\t<tr><th scope=row>70-74</th><td>66.0</td><td>54.3</td><td>71.1</td><td>50.0</td></tr>\n",
       "</tbody>\n",
       "</table>\n"
      ],
      "text/latex": [
       "A matrix: 5 × 4 of type dbl\n",
       "\\begin{tabular}{r|llll}\n",
       "  & Rural Male & Rural Female & Urban Male & Urban Female\\\\\n",
       "\\hline\n",
       "\t50-54 & 11.7 &  8.7 & 15.4 &  8.4\\\\\n",
       "\t55-59 & 18.1 & 11.7 & 24.3 & 13.6\\\\\n",
       "\t60-64 & 26.9 & 20.3 & 37.0 & 19.3\\\\\n",
       "\t65-69 & 41.0 & 30.9 & 54.6 & 35.1\\\\\n",
       "\t70-74 & 66.0 & 54.3 & 71.1 & 50.0\\\\\n",
       "\\end{tabular}\n"
      ],
      "text/markdown": [
       "\n",
       "A matrix: 5 × 4 of type dbl\n",
       "\n",
       "| <!--/--> | Rural Male | Rural Female | Urban Male | Urban Female |\n",
       "|---|---|---|---|---|\n",
       "| 50-54 | 11.7 |  8.7 | 15.4 |  8.4 |\n",
       "| 55-59 | 18.1 | 11.7 | 24.3 | 13.6 |\n",
       "| 60-64 | 26.9 | 20.3 | 37.0 | 19.3 |\n",
       "| 65-69 | 41.0 | 30.9 | 54.6 | 35.1 |\n",
       "| 70-74 | 66.0 | 54.3 | 71.1 | 50.0 |\n",
       "\n"
      ],
      "text/plain": [
       "      Rural Male Rural Female Urban Male Urban Female\n",
       "50-54 11.7        8.7         15.4        8.4        \n",
       "55-59 18.1       11.7         24.3       13.6        \n",
       "60-64 26.9       20.3         37.0       19.3        \n",
       "65-69 41.0       30.9         54.6       35.1        \n",
       "70-74 66.0       54.3         71.1       50.0        "
      ]
     },
     "metadata": {},
     "output_type": "display_data"
    }
   ],
   "source": [
    "data(VADeaths)\n",
    "VADeaths"
   ]
  },
  {
   "cell_type": "markdown",
   "id": "fb76824c-47f8-4ce9-8dc1-a75de10a1fb1",
   "metadata": {},
   "source": [
    "- dataset 구조 살펴보자"
   ]
  },
  {
   "cell_type": "code",
   "execution_count": 196,
   "id": "eb7834ef-cf72-436d-8f81-28800530b75f",
   "metadata": {},
   "outputs": [
    {
     "name": "stdout",
     "output_type": "stream",
     "text": [
      " num [1:5, 1:4] 11.7 18.1 26.9 41 66 8.7 11.7 20.3 30.9 54.3 ...\n",
      " - attr(*, \"dimnames\")=List of 2\n",
      "  ..$ : chr [1:5] \"50-54\" \"55-59\" \"60-64\" \"65-69\" ...\n",
      "  ..$ : chr [1:4] \"Rural Male\" \"Rural Female\" \"Urban Male\" \"Urban Female\"\n"
     ]
    }
   ],
   "source": [
    "str(VADeaths)"
   ]
  },
  {
   "cell_type": "code",
   "execution_count": 197,
   "id": "f28d6e04-ea7e-41f4-9e36-594be5c710c5",
   "metadata": {},
   "outputs": [
    {
     "data": {
      "text/html": [
       "'numeric'"
      ],
      "text/latex": [
       "'numeric'"
      ],
      "text/markdown": [
       "'numeric'"
      ],
      "text/plain": [
       "[1] \"numeric\""
      ]
     },
     "metadata": {},
     "output_type": "display_data"
    }
   ],
   "source": [
    "mode(VADeaths)"
   ]
  },
  {
   "cell_type": "markdown",
   "id": "bdf18858-73f0-4897-a777-c5a658e4e814",
   "metadata": {},
   "source": [
    "- 하나의 칼럼에 여러 개의 자료를 가지고 있는 경우 자료를 개별적인 막대 혹은 누적 형태로 표현하기 위해서는 기존의 barplot() 함수에서 추가로 사용할 속성이 있다."
   ]
  },
  {
   "cell_type": "code",
   "execution_count": 205,
   "id": "30467e02-76a3-434b-90af-3cc9acf42e9b",
   "metadata": {},
   "outputs": [
    {
     "data": {
      "image/png": "[encoded data removed]",
      "text/plain": [
       "Plot with title \"미국 버지니아주 하위계층 사망 비율\""
      ]
     },
     "metadata": {
      "image/png": {
       "height": 420,
       "width": 420
      }
     },
     "output_type": "display_data"
    }
   ],
   "source": [
    "# 1행 2열 그래프 보기\n",
    "# 파이썬에서 fig,(ax1,ax2) = plt.subplots(1,2)와 유사한 기능같다.\n",
    "par(mfrow = c(1,2)) \n",
    "# 우선 개별 차트 그려보자\n",
    "barplot(VADeaths, beside=T, col=rainbow(5),main = '미국 버지니아주 하위계층 사망 비율')\n",
    "legend(19,71,c('50~54','55~59','60~64','65~69','70~74'),\n",
    "       cex = .8, fill = rainbow(5))\n",
    "# beside = x축 값을 측면으로 배열, F로 설정해주면 하나의 막대에 누적해주는 것이다. \n",
    "# legent = 도화지의 19,71위치쯤에 무지개색으로 5개의 범례를 표시해준다.\n",
    "\n",
    "\n",
    "# 이제 누적 차트를 그려보자\n",
    "barplot(VADeaths, beside=F, col=rainbow(5),main = '미국 버지니아주 하위계층 사망 비율')\n",
    "legend(3.8,200,c('50~54','55~59','60~64','65~69','70~74'),\n",
    "       cex = .8, fill = rainbow(5))\n",
    "# 혹은 각 그래프의 제목을 표시해줄때, barplot안에 안 넣고 따로 \n",
    "# title(main = '제목명', font.main=4) 이렇게 설정해줘도 된다. 이때 font.maind은 차트 제목의 글꼴 유형을 지정하는 역할을 해준다."
   ]
  }
 ],
 "metadata": {
  "kernelspec": {
   "display_name": "R",
   "language": "R",
   "name": "ir"
  },
  "language_info": {
   "codemirror_mode": "r",
   "file_extension": ".r",
   "mimetype": "text/x-r-source",
   "name": "R",
   "pygments_lexer": "r",
   "version": "4.0.5"
  }
 },
 "nbformat": 4,
 "nbformat_minor": 5
}
