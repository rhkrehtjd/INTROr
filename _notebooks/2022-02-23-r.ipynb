{
 "cells": [
  {
   "cell_type": "markdown",
   "id": "a34a7eac-468f-4f24-b293-56caa19e26bb",
   "metadata": {},
   "source": [
    "# 기술통계량"
   ]
  },
  {
   "cell_type": "markdown",
   "id": "4fb6f8a2-1b5c-4230-805d-ff94eff57e49",
   "metadata": {},
   "source": [
    "- 등간척도 기술통계량\n",
    "  - 속성의 간격이 일정한 값을 갖는 변수\n",
    "  - 예를 들면, 귀하는 교육 시설에 만족하십니까?라는 질문에서, 매우 만족, 만족, 보통, 불만족, 매우 불만족의 범주에서 응답을 얻은 다음 가중치를 적용하여 가감산하거나 역코딩 하여 총득점으로 응답자의 생각을 측정하는 방법이다. \n",
    "  - 문항은 긍정-부정, 찬성-반대 등과 같은 반응을 느낌의 강약에 따라서 3점, 5점, 7점 척도로 나타낸다. "
   ]
  },
  {
   "cell_type": "code",
   "execution_count": 25,
   "id": "3831af11-9c05-4dd0-9347-2d4f4a0c2604",
   "metadata": {},
   "outputs": [],
   "source": [
    "data = read.csv('descriptive.csv',header=T)"
   ]
  },
  {
   "cell_type": "code",
   "execution_count": 26,
   "id": "3250354c-4279-4918-beae-8b74e3653064",
   "metadata": {},
   "outputs": [
    {
     "data": {
      "text/html": [
       "<style>\n",
       ".list-inline {list-style: none; margin:0; padding: 0}\n",
       ".list-inline>li {display: inline-block}\n",
       ".list-inline>li:not(:last-child)::after {content: \"\\00b7\"; padding: 0 .5ex}\n",
       "</style>\n",
       "<ol class=list-inline><li>1</li><li>2</li><li>1</li><li>4</li><li>3</li><li>3</li><li>&lt;NA&gt;</li><li>&lt;NA&gt;</li><li>&lt;NA&gt;</li><li>1</li><li>2</li><li>2</li><li>2</li><li>2</li><li>&lt;NA&gt;</li><li>&lt;NA&gt;</li><li>&lt;NA&gt;</li><li>&lt;NA&gt;</li><li>&lt;NA&gt;</li><li>&lt;NA&gt;</li><li>&lt;NA&gt;</li><li>2</li><li>2</li><li>1</li><li>2</li><li>3</li><li>3</li><li>5</li><li>2</li><li>&lt;NA&gt;</li><li>&lt;NA&gt;</li><li>&lt;NA&gt;</li><li>&lt;NA&gt;</li><li>&lt;NA&gt;</li><li>&lt;NA&gt;</li><li>&lt;NA&gt;</li><li>&lt;NA&gt;</li><li>&lt;NA&gt;</li><li>2</li><li>2</li><li>3</li><li>4</li><li>3</li><li>2</li><li>2</li><li>3</li><li>4</li><li>5</li><li>4</li><li>2</li><li>&lt;NA&gt;</li><li>2</li><li>3</li><li>4</li><li>3</li><li>&lt;NA&gt;</li><li>&lt;NA&gt;</li><li>&lt;NA&gt;</li><li>&lt;NA&gt;</li><li>&lt;NA&gt;</li><li>&lt;NA&gt;</li><li>&lt;NA&gt;</li><li>3</li><li>3</li><li>3</li><li>3</li><li>2</li><li>2</li><li>3</li><li>3</li><li>&lt;NA&gt;</li><li>&lt;NA&gt;</li><li>&lt;NA&gt;</li><li>2</li><li>2</li><li>2</li><li>&lt;NA&gt;</li><li>2</li><li>2</li><li>3</li><li>&lt;NA&gt;</li><li>&lt;NA&gt;</li><li>3</li><li>3</li><li>3</li><li>3</li><li>3</li><li>3</li><li>3</li><li>1</li><li>4</li><li>&lt;NA&gt;</li><li>&lt;NA&gt;</li><li>&lt;NA&gt;</li><li>&lt;NA&gt;</li><li>4</li><li>3</li><li>3</li><li>4</li><li>&lt;NA&gt;</li><li>&lt;NA&gt;</li><li>&lt;NA&gt;</li><li>&lt;NA&gt;</li><li>3</li><li>3</li><li>2</li><li>&lt;NA&gt;</li><li>&lt;NA&gt;</li><li>3</li><li>&lt;NA&gt;</li><li>2</li><li>&lt;NA&gt;</li><li>2</li><li>2</li><li>5</li><li>2</li><li>&lt;NA&gt;</li><li>3</li><li>&lt;NA&gt;</li><li>&lt;NA&gt;</li><li>&lt;NA&gt;</li><li>&lt;NA&gt;</li><li>&lt;NA&gt;</li><li>&lt;NA&gt;</li><li>&lt;NA&gt;</li><li>&lt;NA&gt;</li><li>&lt;NA&gt;</li><li>&lt;NA&gt;</li><li>2</li><li>2</li><li>4</li><li>3</li><li>4</li><li>3</li><li>3</li><li>3</li><li>&lt;NA&gt;</li><li>&lt;NA&gt;</li><li>&lt;NA&gt;</li><li>2</li><li>2</li><li>2</li><li>2</li><li>2</li><li>1</li><li>2</li><li>&lt;NA&gt;</li><li>&lt;NA&gt;</li><li>&lt;NA&gt;</li><li>&lt;NA&gt;</li><li>&lt;NA&gt;</li><li>3</li><li>3</li><li>3</li><li>3</li><li>4</li><li>3</li><li>&lt;NA&gt;</li><li>4</li><li>2</li><li>2</li><li>2</li><li>2</li><li>2</li><li>&lt;NA&gt;</li><li>&lt;NA&gt;</li><li>&lt;NA&gt;</li><li>&lt;NA&gt;</li><li>3</li><li>3</li><li>2</li><li>&lt;NA&gt;</li><li>2</li><li>3</li><li>3</li><li>3</li><li>&lt;NA&gt;</li><li>&lt;NA&gt;</li><li>3</li><li>4</li><li>3</li><li>4</li><li>&lt;NA&gt;</li><li>&lt;NA&gt;</li><li>3</li><li>3</li><li>4</li><li>2</li><li>1</li><li>2</li><li>4</li><li>3</li><li>3</li><li>2</li><li>5</li><li>2</li><li>2</li><li>2</li><li>2</li><li>1</li><li>2</li><li>4</li><li>&lt;NA&gt;</li><li>2</li><li>2</li><li>1</li><li>1</li><li>1</li><li>2</li><li>2</li><li>&lt;NA&gt;</li><li>&lt;NA&gt;</li><li>&lt;NA&gt;</li><li>&lt;NA&gt;</li><li>&lt;NA&gt;</li><li>&lt;NA&gt;</li><li>&lt;NA&gt;</li><li>&lt;NA&gt;</li><li>&lt;NA&gt;</li><li>&lt;NA&gt;</li><li>2</li><li>3</li><li>4</li><li>5</li><li>3</li><li>3</li><li>4</li><li>&lt;NA&gt;</li><li>2</li><li>1</li><li>2</li><li>&lt;NA&gt;</li><li>1</li><li>2</li><li>2</li><li>1</li><li>2</li><li>2</li><li>&lt;NA&gt;</li><li>&lt;NA&gt;</li><li>3</li><li>4</li><li>5</li><li>3</li><li>&lt;NA&gt;</li><li>3</li><li>4</li><li>4</li><li>5</li><li>2</li><li>2</li><li>3</li><li>&lt;NA&gt;</li><li>&lt;NA&gt;</li><li>2</li><li>1</li><li>2</li><li>1</li><li>&lt;NA&gt;</li><li>&lt;NA&gt;</li><li>2</li><li>3</li><li>&lt;NA&gt;</li><li>3</li><li>4</li><li>3</li><li>4</li><li>3</li><li>4</li><li>&lt;NA&gt;</li><li>&lt;NA&gt;</li><li>&lt;NA&gt;</li><li>2</li><li>1</li><li>2</li><li>&lt;NA&gt;</li><li>&lt;NA&gt;</li><li>&lt;NA&gt;</li><li>&lt;NA&gt;</li><li>&lt;NA&gt;</li><li>1</li><li>1</li><li>2</li><li>2</li><li>&lt;NA&gt;</li><li>&lt;NA&gt;</li><li>&lt;NA&gt;</li><li>&lt;NA&gt;</li><li>&lt;NA&gt;</li><li>2</li><li>1</li><li>2</li><li>3</li><li>3</li><li>&lt;NA&gt;</li><li>&lt;NA&gt;</li><li>&lt;NA&gt;</li><li>&lt;NA&gt;</li><li>3</li><li>&lt;NA&gt;</li></ol>\n"
      ],
      "text/latex": [
       "\\begin{enumerate*}\n",
       "\\item 1\n",
       "\\item 2\n",
       "\\item 1\n",
       "\\item 4\n",
       "\\item 3\n",
       "\\item 3\n",
       "\\item <NA>\n",
       "\\item <NA>\n",
       "\\item <NA>\n",
       "\\item 1\n",
       "\\item 2\n",
       "\\item 2\n",
       "\\item 2\n",
       "\\item 2\n",
       "\\item <NA>\n",
       "\\item <NA>\n",
       "\\item <NA>\n",
       "\\item <NA>\n",
       "\\item <NA>\n",
       "\\item <NA>\n",
       "\\item <NA>\n",
       "\\item 2\n",
       "\\item 2\n",
       "\\item 1\n",
       "\\item 2\n",
       "\\item 3\n",
       "\\item 3\n",
       "\\item 5\n",
       "\\item 2\n",
       "\\item <NA>\n",
       "\\item <NA>\n",
       "\\item <NA>\n",
       "\\item <NA>\n",
       "\\item <NA>\n",
       "\\item <NA>\n",
       "\\item <NA>\n",
       "\\item <NA>\n",
       "\\item <NA>\n",
       "\\item 2\n",
       "\\item 2\n",
       "\\item 3\n",
       "\\item 4\n",
       "\\item 3\n",
       "\\item 2\n",
       "\\item 2\n",
       "\\item 3\n",
       "\\item 4\n",
       "\\item 5\n",
       "\\item 4\n",
       "\\item 2\n",
       "\\item <NA>\n",
       "\\item 2\n",
       "\\item 3\n",
       "\\item 4\n",
       "\\item 3\n",
       "\\item <NA>\n",
       "\\item <NA>\n",
       "\\item <NA>\n",
       "\\item <NA>\n",
       "\\item <NA>\n",
       "\\item <NA>\n",
       "\\item <NA>\n",
       "\\item 3\n",
       "\\item 3\n",
       "\\item 3\n",
       "\\item 3\n",
       "\\item 2\n",
       "\\item 2\n",
       "\\item 3\n",
       "\\item 3\n",
       "\\item <NA>\n",
       "\\item <NA>\n",
       "\\item <NA>\n",
       "\\item 2\n",
       "\\item 2\n",
       "\\item 2\n",
       "\\item <NA>\n",
       "\\item 2\n",
       "\\item 2\n",
       "\\item 3\n",
       "\\item <NA>\n",
       "\\item <NA>\n",
       "\\item 3\n",
       "\\item 3\n",
       "\\item 3\n",
       "\\item 3\n",
       "\\item 3\n",
       "\\item 3\n",
       "\\item 3\n",
       "\\item 1\n",
       "\\item 4\n",
       "\\item <NA>\n",
       "\\item <NA>\n",
       "\\item <NA>\n",
       "\\item <NA>\n",
       "\\item 4\n",
       "\\item 3\n",
       "\\item 3\n",
       "\\item 4\n",
       "\\item <NA>\n",
       "\\item <NA>\n",
       "\\item <NA>\n",
       "\\item <NA>\n",
       "\\item 3\n",
       "\\item 3\n",
       "\\item 2\n",
       "\\item <NA>\n",
       "\\item <NA>\n",
       "\\item 3\n",
       "\\item <NA>\n",
       "\\item 2\n",
       "\\item <NA>\n",
       "\\item 2\n",
       "\\item 2\n",
       "\\item 5\n",
       "\\item 2\n",
       "\\item <NA>\n",
       "\\item 3\n",
       "\\item <NA>\n",
       "\\item <NA>\n",
       "\\item <NA>\n",
       "\\item <NA>\n",
       "\\item <NA>\n",
       "\\item <NA>\n",
       "\\item <NA>\n",
       "\\item <NA>\n",
       "\\item <NA>\n",
       "\\item <NA>\n",
       "\\item 2\n",
       "\\item 2\n",
       "\\item 4\n",
       "\\item 3\n",
       "\\item 4\n",
       "\\item 3\n",
       "\\item 3\n",
       "\\item 3\n",
       "\\item <NA>\n",
       "\\item <NA>\n",
       "\\item <NA>\n",
       "\\item 2\n",
       "\\item 2\n",
       "\\item 2\n",
       "\\item 2\n",
       "\\item 2\n",
       "\\item 1\n",
       "\\item 2\n",
       "\\item <NA>\n",
       "\\item <NA>\n",
       "\\item <NA>\n",
       "\\item <NA>\n",
       "\\item <NA>\n",
       "\\item 3\n",
       "\\item 3\n",
       "\\item 3\n",
       "\\item 3\n",
       "\\item 4\n",
       "\\item 3\n",
       "\\item <NA>\n",
       "\\item 4\n",
       "\\item 2\n",
       "\\item 2\n",
       "\\item 2\n",
       "\\item 2\n",
       "\\item 2\n",
       "\\item <NA>\n",
       "\\item <NA>\n",
       "\\item <NA>\n",
       "\\item <NA>\n",
       "\\item 3\n",
       "\\item 3\n",
       "\\item 2\n",
       "\\item <NA>\n",
       "\\item 2\n",
       "\\item 3\n",
       "\\item 3\n",
       "\\item 3\n",
       "\\item <NA>\n",
       "\\item <NA>\n",
       "\\item 3\n",
       "\\item 4\n",
       "\\item 3\n",
       "\\item 4\n",
       "\\item <NA>\n",
       "\\item <NA>\n",
       "\\item 3\n",
       "\\item 3\n",
       "\\item 4\n",
       "\\item 2\n",
       "\\item 1\n",
       "\\item 2\n",
       "\\item 4\n",
       "\\item 3\n",
       "\\item 3\n",
       "\\item 2\n",
       "\\item 5\n",
       "\\item 2\n",
       "\\item 2\n",
       "\\item 2\n",
       "\\item 2\n",
       "\\item 1\n",
       "\\item 2\n",
       "\\item 4\n",
       "\\item <NA>\n",
       "\\item 2\n",
       "\\item 2\n",
       "\\item 1\n",
       "\\item 1\n",
       "\\item 1\n",
       "\\item 2\n",
       "\\item 2\n",
       "\\item <NA>\n",
       "\\item <NA>\n",
       "\\item <NA>\n",
       "\\item <NA>\n",
       "\\item <NA>\n",
       "\\item <NA>\n",
       "\\item <NA>\n",
       "\\item <NA>\n",
       "\\item <NA>\n",
       "\\item <NA>\n",
       "\\item 2\n",
       "\\item 3\n",
       "\\item 4\n",
       "\\item 5\n",
       "\\item 3\n",
       "\\item 3\n",
       "\\item 4\n",
       "\\item <NA>\n",
       "\\item 2\n",
       "\\item 1\n",
       "\\item 2\n",
       "\\item <NA>\n",
       "\\item 1\n",
       "\\item 2\n",
       "\\item 2\n",
       "\\item 1\n",
       "\\item 2\n",
       "\\item 2\n",
       "\\item <NA>\n",
       "\\item <NA>\n",
       "\\item 3\n",
       "\\item 4\n",
       "\\item 5\n",
       "\\item 3\n",
       "\\item <NA>\n",
       "\\item 3\n",
       "\\item 4\n",
       "\\item 4\n",
       "\\item 5\n",
       "\\item 2\n",
       "\\item 2\n",
       "\\item 3\n",
       "\\item <NA>\n",
       "\\item <NA>\n",
       "\\item 2\n",
       "\\item 1\n",
       "\\item 2\n",
       "\\item 1\n",
       "\\item <NA>\n",
       "\\item <NA>\n",
       "\\item 2\n",
       "\\item 3\n",
       "\\item <NA>\n",
       "\\item 3\n",
       "\\item 4\n",
       "\\item 3\n",
       "\\item 4\n",
       "\\item 3\n",
       "\\item 4\n",
       "\\item <NA>\n",
       "\\item <NA>\n",
       "\\item <NA>\n",
       "\\item 2\n",
       "\\item 1\n",
       "\\item 2\n",
       "\\item <NA>\n",
       "\\item <NA>\n",
       "\\item <NA>\n",
       "\\item <NA>\n",
       "\\item <NA>\n",
       "\\item 1\n",
       "\\item 1\n",
       "\\item 2\n",
       "\\item 2\n",
       "\\item <NA>\n",
       "\\item <NA>\n",
       "\\item <NA>\n",
       "\\item <NA>\n",
       "\\item <NA>\n",
       "\\item 2\n",
       "\\item 1\n",
       "\\item 2\n",
       "\\item 3\n",
       "\\item 3\n",
       "\\item <NA>\n",
       "\\item <NA>\n",
       "\\item <NA>\n",
       "\\item <NA>\n",
       "\\item 3\n",
       "\\item <NA>\n",
       "\\end{enumerate*}\n"
      ],
      "text/markdown": [
       "1. 1\n",
       "2. 2\n",
       "3. 1\n",
       "4. 4\n",
       "5. 3\n",
       "6. 3\n",
       "7. &lt;NA&gt;\n",
       "8. &lt;NA&gt;\n",
       "9. &lt;NA&gt;\n",
       "10. 1\n",
       "11. 2\n",
       "12. 2\n",
       "13. 2\n",
       "14. 2\n",
       "15. &lt;NA&gt;\n",
       "16. &lt;NA&gt;\n",
       "17. &lt;NA&gt;\n",
       "18. &lt;NA&gt;\n",
       "19. &lt;NA&gt;\n",
       "20. &lt;NA&gt;\n",
       "21. &lt;NA&gt;\n",
       "22. 2\n",
       "23. 2\n",
       "24. 1\n",
       "25. 2\n",
       "26. 3\n",
       "27. 3\n",
       "28. 5\n",
       "29. 2\n",
       "30. &lt;NA&gt;\n",
       "31. &lt;NA&gt;\n",
       "32. &lt;NA&gt;\n",
       "33. &lt;NA&gt;\n",
       "34. &lt;NA&gt;\n",
       "35. &lt;NA&gt;\n",
       "36. &lt;NA&gt;\n",
       "37. &lt;NA&gt;\n",
       "38. &lt;NA&gt;\n",
       "39. 2\n",
       "40. 2\n",
       "41. 3\n",
       "42. 4\n",
       "43. 3\n",
       "44. 2\n",
       "45. 2\n",
       "46. 3\n",
       "47. 4\n",
       "48. 5\n",
       "49. 4\n",
       "50. 2\n",
       "51. &lt;NA&gt;\n",
       "52. 2\n",
       "53. 3\n",
       "54. 4\n",
       "55. 3\n",
       "56. &lt;NA&gt;\n",
       "57. &lt;NA&gt;\n",
       "58. &lt;NA&gt;\n",
       "59. &lt;NA&gt;\n",
       "60. &lt;NA&gt;\n",
       "61. &lt;NA&gt;\n",
       "62. &lt;NA&gt;\n",
       "63. 3\n",
       "64. 3\n",
       "65. 3\n",
       "66. 3\n",
       "67. 2\n",
       "68. 2\n",
       "69. 3\n",
       "70. 3\n",
       "71. &lt;NA&gt;\n",
       "72. &lt;NA&gt;\n",
       "73. &lt;NA&gt;\n",
       "74. 2\n",
       "75. 2\n",
       "76. 2\n",
       "77. &lt;NA&gt;\n",
       "78. 2\n",
       "79. 2\n",
       "80. 3\n",
       "81. &lt;NA&gt;\n",
       "82. &lt;NA&gt;\n",
       "83. 3\n",
       "84. 3\n",
       "85. 3\n",
       "86. 3\n",
       "87. 3\n",
       "88. 3\n",
       "89. 3\n",
       "90. 1\n",
       "91. 4\n",
       "92. &lt;NA&gt;\n",
       "93. &lt;NA&gt;\n",
       "94. &lt;NA&gt;\n",
       "95. &lt;NA&gt;\n",
       "96. 4\n",
       "97. 3\n",
       "98. 3\n",
       "99. 4\n",
       "100. &lt;NA&gt;\n",
       "101. &lt;NA&gt;\n",
       "102. &lt;NA&gt;\n",
       "103. &lt;NA&gt;\n",
       "104. 3\n",
       "105. 3\n",
       "106. 2\n",
       "107. &lt;NA&gt;\n",
       "108. &lt;NA&gt;\n",
       "109. 3\n",
       "110. &lt;NA&gt;\n",
       "111. 2\n",
       "112. &lt;NA&gt;\n",
       "113. 2\n",
       "114. 2\n",
       "115. 5\n",
       "116. 2\n",
       "117. &lt;NA&gt;\n",
       "118. 3\n",
       "119. &lt;NA&gt;\n",
       "120. &lt;NA&gt;\n",
       "121. &lt;NA&gt;\n",
       "122. &lt;NA&gt;\n",
       "123. &lt;NA&gt;\n",
       "124. &lt;NA&gt;\n",
       "125. &lt;NA&gt;\n",
       "126. &lt;NA&gt;\n",
       "127. &lt;NA&gt;\n",
       "128. &lt;NA&gt;\n",
       "129. 2\n",
       "130. 2\n",
       "131. 4\n",
       "132. 3\n",
       "133. 4\n",
       "134. 3\n",
       "135. 3\n",
       "136. 3\n",
       "137. &lt;NA&gt;\n",
       "138. &lt;NA&gt;\n",
       "139. &lt;NA&gt;\n",
       "140. 2\n",
       "141. 2\n",
       "142. 2\n",
       "143. 2\n",
       "144. 2\n",
       "145. 1\n",
       "146. 2\n",
       "147. &lt;NA&gt;\n",
       "148. &lt;NA&gt;\n",
       "149. &lt;NA&gt;\n",
       "150. &lt;NA&gt;\n",
       "151. &lt;NA&gt;\n",
       "152. 3\n",
       "153. 3\n",
       "154. 3\n",
       "155. 3\n",
       "156. 4\n",
       "157. 3\n",
       "158. &lt;NA&gt;\n",
       "159. 4\n",
       "160. 2\n",
       "161. 2\n",
       "162. 2\n",
       "163. 2\n",
       "164. 2\n",
       "165. &lt;NA&gt;\n",
       "166. &lt;NA&gt;\n",
       "167. &lt;NA&gt;\n",
       "168. &lt;NA&gt;\n",
       "169. 3\n",
       "170. 3\n",
       "171. 2\n",
       "172. &lt;NA&gt;\n",
       "173. 2\n",
       "174. 3\n",
       "175. 3\n",
       "176. 3\n",
       "177. &lt;NA&gt;\n",
       "178. &lt;NA&gt;\n",
       "179. 3\n",
       "180. 4\n",
       "181. 3\n",
       "182. 4\n",
       "183. &lt;NA&gt;\n",
       "184. &lt;NA&gt;\n",
       "185. 3\n",
       "186. 3\n",
       "187. 4\n",
       "188. 2\n",
       "189. 1\n",
       "190. 2\n",
       "191. 4\n",
       "192. 3\n",
       "193. 3\n",
       "194. 2\n",
       "195. 5\n",
       "196. 2\n",
       "197. 2\n",
       "198. 2\n",
       "199. 2\n",
       "200. 1\n",
       "201. 2\n",
       "202. 4\n",
       "203. &lt;NA&gt;\n",
       "204. 2\n",
       "205. 2\n",
       "206. 1\n",
       "207. 1\n",
       "208. 1\n",
       "209. 2\n",
       "210. 2\n",
       "211. &lt;NA&gt;\n",
       "212. &lt;NA&gt;\n",
       "213. &lt;NA&gt;\n",
       "214. &lt;NA&gt;\n",
       "215. &lt;NA&gt;\n",
       "216. &lt;NA&gt;\n",
       "217. &lt;NA&gt;\n",
       "218. &lt;NA&gt;\n",
       "219. &lt;NA&gt;\n",
       "220. &lt;NA&gt;\n",
       "221. 2\n",
       "222. 3\n",
       "223. 4\n",
       "224. 5\n",
       "225. 3\n",
       "226. 3\n",
       "227. 4\n",
       "228. &lt;NA&gt;\n",
       "229. 2\n",
       "230. 1\n",
       "231. 2\n",
       "232. &lt;NA&gt;\n",
       "233. 1\n",
       "234. 2\n",
       "235. 2\n",
       "236. 1\n",
       "237. 2\n",
       "238. 2\n",
       "239. &lt;NA&gt;\n",
       "240. &lt;NA&gt;\n",
       "241. 3\n",
       "242. 4\n",
       "243. 5\n",
       "244. 3\n",
       "245. &lt;NA&gt;\n",
       "246. 3\n",
       "247. 4\n",
       "248. 4\n",
       "249. 5\n",
       "250. 2\n",
       "251. 2\n",
       "252. 3\n",
       "253. &lt;NA&gt;\n",
       "254. &lt;NA&gt;\n",
       "255. 2\n",
       "256. 1\n",
       "257. 2\n",
       "258. 1\n",
       "259. &lt;NA&gt;\n",
       "260. &lt;NA&gt;\n",
       "261. 2\n",
       "262. 3\n",
       "263. &lt;NA&gt;\n",
       "264. 3\n",
       "265. 4\n",
       "266. 3\n",
       "267. 4\n",
       "268. 3\n",
       "269. 4\n",
       "270. &lt;NA&gt;\n",
       "271. &lt;NA&gt;\n",
       "272. &lt;NA&gt;\n",
       "273. 2\n",
       "274. 1\n",
       "275. 2\n",
       "276. &lt;NA&gt;\n",
       "277. &lt;NA&gt;\n",
       "278. &lt;NA&gt;\n",
       "279. &lt;NA&gt;\n",
       "280. &lt;NA&gt;\n",
       "281. 1\n",
       "282. 1\n",
       "283. 2\n",
       "284. 2\n",
       "285. &lt;NA&gt;\n",
       "286. &lt;NA&gt;\n",
       "287. &lt;NA&gt;\n",
       "288. &lt;NA&gt;\n",
       "289. &lt;NA&gt;\n",
       "290. 2\n",
       "291. 1\n",
       "292. 2\n",
       "293. 3\n",
       "294. 3\n",
       "295. &lt;NA&gt;\n",
       "296. &lt;NA&gt;\n",
       "297. &lt;NA&gt;\n",
       "298. &lt;NA&gt;\n",
       "299. 3\n",
       "300. &lt;NA&gt;\n",
       "\n",
       "\n"
      ],
      "text/plain": [
       "  [1]  1  2  1  4  3  3 NA NA NA  1  2  2  2  2 NA NA NA NA NA NA NA  2  2  1  2\n",
       " [26]  3  3  5  2 NA NA NA NA NA NA NA NA NA  2  2  3  4  3  2  2  3  4  5  4  2\n",
       " [51] NA  2  3  4  3 NA NA NA NA NA NA NA  3  3  3  3  2  2  3  3 NA NA NA  2  2\n",
       " [76]  2 NA  2  2  3 NA NA  3  3  3  3  3  3  3  1  4 NA NA NA NA  4  3  3  4 NA\n",
       "[101] NA NA NA  3  3  2 NA NA  3 NA  2 NA  2  2  5  2 NA  3 NA NA NA NA NA NA NA\n",
       "[126] NA NA NA  2  2  4  3  4  3  3  3 NA NA NA  2  2  2  2  2  1  2 NA NA NA NA\n",
       "[151] NA  3  3  3  3  4  3 NA  4  2  2  2  2  2 NA NA NA NA  3  3  2 NA  2  3  3\n",
       "[176]  3 NA NA  3  4  3  4 NA NA  3  3  4  2  1  2  4  3  3  2  5  2  2  2  2  1\n",
       "[201]  2  4 NA  2  2  1  1  1  2  2 NA NA NA NA NA NA NA NA NA NA  2  3  4  5  3\n",
       "[226]  3  4 NA  2  1  2 NA  1  2  2  1  2  2 NA NA  3  4  5  3 NA  3  4  4  5  2\n",
       "[251]  2  3 NA NA  2  1  2  1 NA NA  2  3 NA  3  4  3  4  3  4 NA NA NA  2  1  2\n",
       "[276] NA NA NA NA NA  1  1  2  2 NA NA NA NA NA  2  1  2  3  3 NA NA NA NA  3 NA"
      ]
     },
     "metadata": {},
     "output_type": "display_data"
    }
   ],
   "source": [
    "survey = data$survey\n",
    "survey"
   ]
  },
  {
   "cell_type": "markdown",
   "id": "6a0cd00a-9ca4-4053-b326-c810c5abd095",
   "metadata": {},
   "source": [
    "- 등간척도 요약통계량"
   ]
  },
  {
   "cell_type": "code",
   "execution_count": 27,
   "id": "49bf933c-562c-4ce0-b93b-5e6899e951e1",
   "metadata": {},
   "outputs": [
    {
     "data": {
      "text/plain": [
       "   Min. 1st Qu.  Median    Mean 3rd Qu.    Max.    NA's \n",
       "   1.00    2.00    3.00    2.61    3.00    5.00     113 "
      ]
     },
     "metadata": {},
     "output_type": "display_data"
    }
   ],
   "source": [
    "summary(survey) # 의미있게 사용 가능하다."
   ]
  },
  {
   "cell_type": "code",
   "execution_count": 28,
   "id": "8fa2c8da-a5ab-4566-b203-4395378daf96",
   "metadata": {},
   "outputs": [
    {
     "data": {
      "text/plain": [
       "survey\n",
       " 1  2  3  4  5 \n",
       "20 72 63 25  7 "
      ]
     },
     "metadata": {},
     "output_type": "display_data"
    }
   ],
   "source": [
    "x1 = table(survey)\n",
    "x1 # 의미있게 사용 가능하다. "
   ]
  },
  {
   "cell_type": "markdown",
   "id": "fdcaa154-ad27-41f8-ab66-38f7d8d6a775",
   "metadata": {},
   "source": [
    "- 두 번째와 세 번째 속성의 만족도 비중이 높다. \n",
    "- 만약, 5점 척도를 기준으로 다음과 같이 측정 도구가 만들어지는 경우 순번 자체를 점수화하기 위해서는 역코딩을 해야한다."
   ]
  },
  {
   "cell_type": "code",
   "execution_count": 29,
   "id": "dd6680cd-bd78-4fd2-8e00-c7df18c3d50c",
   "metadata": {},
   "outputs": [
    {
     "data": {
      "image/png": "[encoded data removed]",
      "text/plain": [
       "Plot with title \"Histogram of survey\""
      ]
     },
     "metadata": {
      "image/png": {
       "height": 420,
       "width": 420
      }
     },
     "output_type": "display_data"
    },
    {
     "data": {
      "image/png": "[encoded data removed]",
      "text/plain": [
       "plot without title"
      ]
     },
     "metadata": {
      "image/png": {
       "height": 420,
       "width": 420
      }
     },
     "output_type": "display_data"
    }
   ],
   "source": [
    "# 등간척도 시각화\n",
    "hist(survey) # 등간척도 히스토그램으로 시각화\n",
    "pie(x1)"
   ]
  },
  {
   "cell_type": "markdown",
   "id": "adf35ff0-5719-43bf-a54b-963160444388",
   "metadata": {},
   "source": [
    "- 비율척도 기술통계량\n",
    "  - 등간척도의 특성에 절대 원점(0)이 존재하는 척도를 의미한다. 비율척도 변수는 응답자가 직접 수치로 입력한 변수로 속성이 0을 기준으로 한 수치로 되어있기 때문에 사칙연산이 모두 가능하다. \n",
    "  - 따라서 빈도분석과 기술통계량 등 가장 많은 표본의 통계량을 얻을 수 있는 척도이다. "
   ]
  },
  {
   "cell_type": "code",
   "execution_count": 30,
   "id": "486887cd-790d-4b2c-a05d-21a3f4a28df2",
   "metadata": {},
   "outputs": [
    {
     "data": {
      "text/html": [
       "300"
      ],
      "text/latex": [
       "300"
      ],
      "text/markdown": [
       "300"
      ],
      "text/plain": [
       "[1] 300"
      ]
     },
     "metadata": {},
     "output_type": "display_data"
    }
   ],
   "source": [
    "length(data$cost)"
   ]
  },
  {
   "cell_type": "code",
   "execution_count": 31,
   "id": "70a4a5f3-7f92-417a-8e6b-6b597092f4e8",
   "metadata": {},
   "outputs": [
    {
     "data": {
      "text/plain": [
       "    Min.  1st Qu.   Median     Mean  3rd Qu.     Max.     NA's \n",
       "-457.200    4.425    5.400    8.752    6.300  675.000       30 "
      ]
     },
     "metadata": {},
     "output_type": "display_data"
    }
   ],
   "source": [
    "summary(data$cost) \n",
    "# 의미있게 사용 가능하다. \n",
    "# 결측치도 있음\n",
    "# 이상치도 있음"
   ]
  },
  {
   "cell_type": "code",
   "execution_count": 32,
   "id": "d76d52d9-5ed5-411d-9b96-7af9aac23c7a",
   "metadata": {},
   "outputs": [
    {
     "data": {
      "image/png": "[encoded data removed]",
      "text/plain": [
       "plot without title"
      ]
     },
     "metadata": {
      "image/png": {
       "height": 420,
       "width": 420
      }
     },
     "output_type": "display_data"
    }
   ],
   "source": [
    "plot(data$cost)"
   ]
  },
  {
   "cell_type": "markdown",
   "id": "58f80d89-2032-4adb-90e4-be78c30874e2",
   "metadata": {},
   "source": [
    "- 이상치와 결측치 제거하자"
   ]
  },
  {
   "cell_type": "code",
   "execution_count": 34,
   "id": "42932004-4f28-473a-9885-3a98ac493c44",
   "metadata": {},
   "outputs": [
    {
     "data": {
      "text/html": [
       "5.3605577689243"
      ],
      "text/latex": [
       "5.3605577689243"
      ],
      "text/markdown": [
       "5.3605577689243"
      ],
      "text/plain": [
       "[1] 5.360558"
      ]
     },
     "metadata": {},
     "output_type": "display_data"
    }
   ],
   "source": [
    "data = subset(data, data$cost >= 2 & data$cost <=10)\n",
    "x = data$cost\n",
    "mean(x)"
   ]
  },
  {
   "cell_type": "markdown",
   "id": "f8a5aca8-a273-498f-ba43-ee161e05dc32",
   "metadata": {},
   "source": [
    "- 대표값 구하기\n",
    "  - 자료 전체를 대표하는 값으로 분포의 중심위치를 나타내는 평균, 중위수, 사분위수, 최빈수 등의 통계량을 의미한다."
   ]
  },
  {
   "cell_type": "code",
   "execution_count": 36,
   "id": "4e59524b-4bc5-4956-9ec7-5b1733c0ea7c",
   "metadata": {},
   "outputs": [
    {
     "data": {
      "text/html": [
       "5.3605577689243"
      ],
      "text/latex": [
       "5.3605577689243"
      ],
      "text/markdown": [
       "5.3605577689243"
      ],
      "text/plain": [
       "[1] 5.360558"
      ]
     },
     "metadata": {},
     "output_type": "display_data"
    },
    {
     "data": {
      "text/html": [
       "5.4"
      ],
      "text/latex": [
       "5.4"
      ],
      "text/markdown": [
       "5.4"
      ],
      "text/plain": [
       "[1] 5.4"
      ]
     },
     "metadata": {},
     "output_type": "display_data"
    },
    {
     "data": {
      "text/html": [
       "<style>\n",
       ".list-inline {list-style: none; margin:0; padding: 0}\n",
       ".list-inline>li {display: inline-block}\n",
       ".list-inline>li:not(:last-child)::after {content: \"\\00b7\"; padding: 0 .5ex}\n",
       "</style>\n",
       "<ol class=list-inline><li>2.1</li><li>2.3</li><li>2.3</li><li>3</li><li>3</li><li>3</li><li>3</li><li>3</li><li>3</li><li>3.3</li><li>3.3</li><li>3.4</li><li>3.4</li><li>3.5</li><li>3.5</li><li>3.5</li><li>3.5</li><li>3.5</li><li>3.8</li><li>3.8</li><li>3.8</li><li>3.9</li><li>3.9</li><li>3.9</li><li>4</li><li>4</li><li>4</li><li>4</li><li>4</li><li>4</li><li>4</li><li>4</li><li>4</li><li>4</li><li>4</li><li>4</li><li>4</li><li>4</li><li>4</li><li>4.1</li><li>4.1</li><li>4.1</li><li>4.1</li><li>4.1</li><li>4.1</li><li>4.1</li><li>4.1</li><li>4.1</li><li>4.2</li><li>4.2</li><li>4.2</li><li>4.3</li><li>4.3</li><li>4.3</li><li>4.3</li><li>4.3</li><li>4.4</li><li>4.4</li><li>4.4</li><li>4.4</li><li>4.5</li><li>4.6</li><li>4.6</li><li>4.6</li><li>4.6</li><li>4.6</li><li>4.7</li><li>4.7</li><li>4.7</li><li>4.7</li><li>4.7</li><li>4.7</li><li>4.8</li><li>4.8</li><li>4.9</li><li>4.9</li><li>4.9</li><li>4.9</li><li>5</li><li>5</li><li>5</li><li>5</li><li>5</li><li>5</li><li>5</li><li>5</li><li>5</li><li>5</li><li>5</li><li>5</li><li>5</li><li>5</li><li>5</li><li>5</li><li>5</li><li>5</li><li>5.1</li><li>5.1</li><li>5.1</li><li>5.1</li><li>5.1</li><li>5.1</li><li>5.1</li><li>5.1</li><li>5.1</li><li>5.1</li><li>5.1</li><li>5.2</li><li>5.2</li><li>5.2</li><li>5.2</li><li>5.2</li><li>5.2</li><li>5.2</li><li>5.2</li><li>5.2</li><li>5.3</li><li>5.3</li><li>5.3</li><li>5.3</li><li>5.3</li><li>5.3</li><li>5.3</li><li>5.4</li><li>5.4</li><li>5.4</li><li>5.4</li><li>5.4</li><li>5.5</li><li>5.5</li><li>5.5</li><li>5.5</li><li>5.5</li><li>5.5</li><li>5.5</li><li>5.5</li><li>5.5</li><li>5.6</li><li>5.6</li><li>5.6</li><li>5.6</li><li>5.7</li><li>5.7</li><li>5.7</li><li>5.7</li><li>5.7</li><li>5.7</li><li>5.8</li><li>5.8</li><li>5.8</li><li>5.8</li><li>5.8</li><li>5.9</li><li>5.9</li><li>6</li><li>6</li><li>6</li><li>6</li><li>6</li><li>6</li><li>6</li><li>6</li><li>6</li><li>6</li><li>6</li><li>6</li><li>6</li><li>6</li><li>6.1</li><li>6.1</li><li>6.1</li><li>6.1</li><li>6.1</li><li>6.1</li><li>6.1</li><li>6.1</li><li>6.2</li><li>6.2</li><li>6.2</li><li>6.2</li><li>6.2</li><li>6.2</li><li>6.2</li><li>6.2</li><li>6.2</li><li>6.2</li><li>6.2</li><li>6.2</li><li>6.2</li><li>6.3</li><li>6.3</li><li>6.3</li><li>6.3</li><li>6.3</li><li>6.3</li><li>6.3</li><li>6.3</li><li>6.3</li><li>6.3</li><li>6.3</li><li>6.3</li><li>6.3</li><li>6.3</li><li>6.3</li><li>6.3</li><li>6.4</li><li>6.4</li><li>6.4</li><li>6.4</li><li>6.4</li><li>6.4</li><li>6.4</li><li>6.4</li><li>6.4</li><li>6.4</li><li>6.4</li><li>6.5</li><li>6.5</li><li>6.5</li><li>6.5</li><li>6.7</li><li>6.7</li><li>6.7</li><li>6.7</li><li>6.7</li><li>6.7</li><li>6.7</li><li>6.7</li><li>6.8</li><li>6.8</li><li>6.8</li><li>6.8</li><li>6.9</li><li>6.9</li><li>6.9</li><li>6.9</li><li>7</li><li>7</li><li>7</li><li>7.1</li><li>7.1</li><li>7.1</li><li>7.1</li><li>7.2</li><li>7.2</li><li>7.7</li><li>7.7</li><li>7.7</li><li>7.7</li><li>7.9</li><li>7.9</li></ol>\n"
      ],
      "text/latex": [
       "\\begin{enumerate*}\n",
       "\\item 2.1\n",
       "\\item 2.3\n",
       "\\item 2.3\n",
       "\\item 3\n",
       "\\item 3\n",
       "\\item 3\n",
       "\\item 3\n",
       "\\item 3\n",
       "\\item 3\n",
       "\\item 3.3\n",
       "\\item 3.3\n",
       "\\item 3.4\n",
       "\\item 3.4\n",
       "\\item 3.5\n",
       "\\item 3.5\n",
       "\\item 3.5\n",
       "\\item 3.5\n",
       "\\item 3.5\n",
       "\\item 3.8\n",
       "\\item 3.8\n",
       "\\item 3.8\n",
       "\\item 3.9\n",
       "\\item 3.9\n",
       "\\item 3.9\n",
       "\\item 4\n",
       "\\item 4\n",
       "\\item 4\n",
       "\\item 4\n",
       "\\item 4\n",
       "\\item 4\n",
       "\\item 4\n",
       "\\item 4\n",
       "\\item 4\n",
       "\\item 4\n",
       "\\item 4\n",
       "\\item 4\n",
       "\\item 4\n",
       "\\item 4\n",
       "\\item 4\n",
       "\\item 4.1\n",
       "\\item 4.1\n",
       "\\item 4.1\n",
       "\\item 4.1\n",
       "\\item 4.1\n",
       "\\item 4.1\n",
       "\\item 4.1\n",
       "\\item 4.1\n",
       "\\item 4.1\n",
       "\\item 4.2\n",
       "\\item 4.2\n",
       "\\item 4.2\n",
       "\\item 4.3\n",
       "\\item 4.3\n",
       "\\item 4.3\n",
       "\\item 4.3\n",
       "\\item 4.3\n",
       "\\item 4.4\n",
       "\\item 4.4\n",
       "\\item 4.4\n",
       "\\item 4.4\n",
       "\\item 4.5\n",
       "\\item 4.6\n",
       "\\item 4.6\n",
       "\\item 4.6\n",
       "\\item 4.6\n",
       "\\item 4.6\n",
       "\\item 4.7\n",
       "\\item 4.7\n",
       "\\item 4.7\n",
       "\\item 4.7\n",
       "\\item 4.7\n",
       "\\item 4.7\n",
       "\\item 4.8\n",
       "\\item 4.8\n",
       "\\item 4.9\n",
       "\\item 4.9\n",
       "\\item 4.9\n",
       "\\item 4.9\n",
       "\\item 5\n",
       "\\item 5\n",
       "\\item 5\n",
       "\\item 5\n",
       "\\item 5\n",
       "\\item 5\n",
       "\\item 5\n",
       "\\item 5\n",
       "\\item 5\n",
       "\\item 5\n",
       "\\item 5\n",
       "\\item 5\n",
       "\\item 5\n",
       "\\item 5\n",
       "\\item 5\n",
       "\\item 5\n",
       "\\item 5\n",
       "\\item 5\n",
       "\\item 5.1\n",
       "\\item 5.1\n",
       "\\item 5.1\n",
       "\\item 5.1\n",
       "\\item 5.1\n",
       "\\item 5.1\n",
       "\\item 5.1\n",
       "\\item 5.1\n",
       "\\item 5.1\n",
       "\\item 5.1\n",
       "\\item 5.1\n",
       "\\item 5.2\n",
       "\\item 5.2\n",
       "\\item 5.2\n",
       "\\item 5.2\n",
       "\\item 5.2\n",
       "\\item 5.2\n",
       "\\item 5.2\n",
       "\\item 5.2\n",
       "\\item 5.2\n",
       "\\item 5.3\n",
       "\\item 5.3\n",
       "\\item 5.3\n",
       "\\item 5.3\n",
       "\\item 5.3\n",
       "\\item 5.3\n",
       "\\item 5.3\n",
       "\\item 5.4\n",
       "\\item 5.4\n",
       "\\item 5.4\n",
       "\\item 5.4\n",
       "\\item 5.4\n",
       "\\item 5.5\n",
       "\\item 5.5\n",
       "\\item 5.5\n",
       "\\item 5.5\n",
       "\\item 5.5\n",
       "\\item 5.5\n",
       "\\item 5.5\n",
       "\\item 5.5\n",
       "\\item 5.5\n",
       "\\item 5.6\n",
       "\\item 5.6\n",
       "\\item 5.6\n",
       "\\item 5.6\n",
       "\\item 5.7\n",
       "\\item 5.7\n",
       "\\item 5.7\n",
       "\\item 5.7\n",
       "\\item 5.7\n",
       "\\item 5.7\n",
       "\\item 5.8\n",
       "\\item 5.8\n",
       "\\item 5.8\n",
       "\\item 5.8\n",
       "\\item 5.8\n",
       "\\item 5.9\n",
       "\\item 5.9\n",
       "\\item 6\n",
       "\\item 6\n",
       "\\item 6\n",
       "\\item 6\n",
       "\\item 6\n",
       "\\item 6\n",
       "\\item 6\n",
       "\\item 6\n",
       "\\item 6\n",
       "\\item 6\n",
       "\\item 6\n",
       "\\item 6\n",
       "\\item 6\n",
       "\\item 6\n",
       "\\item 6.1\n",
       "\\item 6.1\n",
       "\\item 6.1\n",
       "\\item 6.1\n",
       "\\item 6.1\n",
       "\\item 6.1\n",
       "\\item 6.1\n",
       "\\item 6.1\n",
       "\\item 6.2\n",
       "\\item 6.2\n",
       "\\item 6.2\n",
       "\\item 6.2\n",
       "\\item 6.2\n",
       "\\item 6.2\n",
       "\\item 6.2\n",
       "\\item 6.2\n",
       "\\item 6.2\n",
       "\\item 6.2\n",
       "\\item 6.2\n",
       "\\item 6.2\n",
       "\\item 6.2\n",
       "\\item 6.3\n",
       "\\item 6.3\n",
       "\\item 6.3\n",
       "\\item 6.3\n",
       "\\item 6.3\n",
       "\\item 6.3\n",
       "\\item 6.3\n",
       "\\item 6.3\n",
       "\\item 6.3\n",
       "\\item 6.3\n",
       "\\item 6.3\n",
       "\\item 6.3\n",
       "\\item 6.3\n",
       "\\item 6.3\n",
       "\\item 6.3\n",
       "\\item 6.3\n",
       "\\item 6.4\n",
       "\\item 6.4\n",
       "\\item 6.4\n",
       "\\item 6.4\n",
       "\\item 6.4\n",
       "\\item 6.4\n",
       "\\item 6.4\n",
       "\\item 6.4\n",
       "\\item 6.4\n",
       "\\item 6.4\n",
       "\\item 6.4\n",
       "\\item 6.5\n",
       "\\item 6.5\n",
       "\\item 6.5\n",
       "\\item 6.5\n",
       "\\item 6.7\n",
       "\\item 6.7\n",
       "\\item 6.7\n",
       "\\item 6.7\n",
       "\\item 6.7\n",
       "\\item 6.7\n",
       "\\item 6.7\n",
       "\\item 6.7\n",
       "\\item 6.8\n",
       "\\item 6.8\n",
       "\\item 6.8\n",
       "\\item 6.8\n",
       "\\item 6.9\n",
       "\\item 6.9\n",
       "\\item 6.9\n",
       "\\item 6.9\n",
       "\\item 7\n",
       "\\item 7\n",
       "\\item 7\n",
       "\\item 7.1\n",
       "\\item 7.1\n",
       "\\item 7.1\n",
       "\\item 7.1\n",
       "\\item 7.2\n",
       "\\item 7.2\n",
       "\\item 7.7\n",
       "\\item 7.7\n",
       "\\item 7.7\n",
       "\\item 7.7\n",
       "\\item 7.9\n",
       "\\item 7.9\n",
       "\\end{enumerate*}\n"
      ],
      "text/markdown": [
       "1. 2.1\n",
       "2. 2.3\n",
       "3. 2.3\n",
       "4. 3\n",
       "5. 3\n",
       "6. 3\n",
       "7. 3\n",
       "8. 3\n",
       "9. 3\n",
       "10. 3.3\n",
       "11. 3.3\n",
       "12. 3.4\n",
       "13. 3.4\n",
       "14. 3.5\n",
       "15. 3.5\n",
       "16. 3.5\n",
       "17. 3.5\n",
       "18. 3.5\n",
       "19. 3.8\n",
       "20. 3.8\n",
       "21. 3.8\n",
       "22. 3.9\n",
       "23. 3.9\n",
       "24. 3.9\n",
       "25. 4\n",
       "26. 4\n",
       "27. 4\n",
       "28. 4\n",
       "29. 4\n",
       "30. 4\n",
       "31. 4\n",
       "32. 4\n",
       "33. 4\n",
       "34. 4\n",
       "35. 4\n",
       "36. 4\n",
       "37. 4\n",
       "38. 4\n",
       "39. 4\n",
       "40. 4.1\n",
       "41. 4.1\n",
       "42. 4.1\n",
       "43. 4.1\n",
       "44. 4.1\n",
       "45. 4.1\n",
       "46. 4.1\n",
       "47. 4.1\n",
       "48. 4.1\n",
       "49. 4.2\n",
       "50. 4.2\n",
       "51. 4.2\n",
       "52. 4.3\n",
       "53. 4.3\n",
       "54. 4.3\n",
       "55. 4.3\n",
       "56. 4.3\n",
       "57. 4.4\n",
       "58. 4.4\n",
       "59. 4.4\n",
       "60. 4.4\n",
       "61. 4.5\n",
       "62. 4.6\n",
       "63. 4.6\n",
       "64. 4.6\n",
       "65. 4.6\n",
       "66. 4.6\n",
       "67. 4.7\n",
       "68. 4.7\n",
       "69. 4.7\n",
       "70. 4.7\n",
       "71. 4.7\n",
       "72. 4.7\n",
       "73. 4.8\n",
       "74. 4.8\n",
       "75. 4.9\n",
       "76. 4.9\n",
       "77. 4.9\n",
       "78. 4.9\n",
       "79. 5\n",
       "80. 5\n",
       "81. 5\n",
       "82. 5\n",
       "83. 5\n",
       "84. 5\n",
       "85. 5\n",
       "86. 5\n",
       "87. 5\n",
       "88. 5\n",
       "89. 5\n",
       "90. 5\n",
       "91. 5\n",
       "92. 5\n",
       "93. 5\n",
       "94. 5\n",
       "95. 5\n",
       "96. 5\n",
       "97. 5.1\n",
       "98. 5.1\n",
       "99. 5.1\n",
       "100. 5.1\n",
       "101. 5.1\n",
       "102. 5.1\n",
       "103. 5.1\n",
       "104. 5.1\n",
       "105. 5.1\n",
       "106. 5.1\n",
       "107. 5.1\n",
       "108. 5.2\n",
       "109. 5.2\n",
       "110. 5.2\n",
       "111. 5.2\n",
       "112. 5.2\n",
       "113. 5.2\n",
       "114. 5.2\n",
       "115. 5.2\n",
       "116. 5.2\n",
       "117. 5.3\n",
       "118. 5.3\n",
       "119. 5.3\n",
       "120. 5.3\n",
       "121. 5.3\n",
       "122. 5.3\n",
       "123. 5.3\n",
       "124. 5.4\n",
       "125. 5.4\n",
       "126. 5.4\n",
       "127. 5.4\n",
       "128. 5.4\n",
       "129. 5.5\n",
       "130. 5.5\n",
       "131. 5.5\n",
       "132. 5.5\n",
       "133. 5.5\n",
       "134. 5.5\n",
       "135. 5.5\n",
       "136. 5.5\n",
       "137. 5.5\n",
       "138. 5.6\n",
       "139. 5.6\n",
       "140. 5.6\n",
       "141. 5.6\n",
       "142. 5.7\n",
       "143. 5.7\n",
       "144. 5.7\n",
       "145. 5.7\n",
       "146. 5.7\n",
       "147. 5.7\n",
       "148. 5.8\n",
       "149. 5.8\n",
       "150. 5.8\n",
       "151. 5.8\n",
       "152. 5.8\n",
       "153. 5.9\n",
       "154. 5.9\n",
       "155. 6\n",
       "156. 6\n",
       "157. 6\n",
       "158. 6\n",
       "159. 6\n",
       "160. 6\n",
       "161. 6\n",
       "162. 6\n",
       "163. 6\n",
       "164. 6\n",
       "165. 6\n",
       "166. 6\n",
       "167. 6\n",
       "168. 6\n",
       "169. 6.1\n",
       "170. 6.1\n",
       "171. 6.1\n",
       "172. 6.1\n",
       "173. 6.1\n",
       "174. 6.1\n",
       "175. 6.1\n",
       "176. 6.1\n",
       "177. 6.2\n",
       "178. 6.2\n",
       "179. 6.2\n",
       "180. 6.2\n",
       "181. 6.2\n",
       "182. 6.2\n",
       "183. 6.2\n",
       "184. 6.2\n",
       "185. 6.2\n",
       "186. 6.2\n",
       "187. 6.2\n",
       "188. 6.2\n",
       "189. 6.2\n",
       "190. 6.3\n",
       "191. 6.3\n",
       "192. 6.3\n",
       "193. 6.3\n",
       "194. 6.3\n",
       "195. 6.3\n",
       "196. 6.3\n",
       "197. 6.3\n",
       "198. 6.3\n",
       "199. 6.3\n",
       "200. 6.3\n",
       "201. 6.3\n",
       "202. 6.3\n",
       "203. 6.3\n",
       "204. 6.3\n",
       "205. 6.3\n",
       "206. 6.4\n",
       "207. 6.4\n",
       "208. 6.4\n",
       "209. 6.4\n",
       "210. 6.4\n",
       "211. 6.4\n",
       "212. 6.4\n",
       "213. 6.4\n",
       "214. 6.4\n",
       "215. 6.4\n",
       "216. 6.4\n",
       "217. 6.5\n",
       "218. 6.5\n",
       "219. 6.5\n",
       "220. 6.5\n",
       "221. 6.7\n",
       "222. 6.7\n",
       "223. 6.7\n",
       "224. 6.7\n",
       "225. 6.7\n",
       "226. 6.7\n",
       "227. 6.7\n",
       "228. 6.7\n",
       "229. 6.8\n",
       "230. 6.8\n",
       "231. 6.8\n",
       "232. 6.8\n",
       "233. 6.9\n",
       "234. 6.9\n",
       "235. 6.9\n",
       "236. 6.9\n",
       "237. 7\n",
       "238. 7\n",
       "239. 7\n",
       "240. 7.1\n",
       "241. 7.1\n",
       "242. 7.1\n",
       "243. 7.1\n",
       "244. 7.2\n",
       "245. 7.2\n",
       "246. 7.7\n",
       "247. 7.7\n",
       "248. 7.7\n",
       "249. 7.7\n",
       "250. 7.9\n",
       "251. 7.9\n",
       "\n",
       "\n"
      ],
      "text/plain": [
       "  [1] 2.1 2.3 2.3 3.0 3.0 3.0 3.0 3.0 3.0 3.3 3.3 3.4 3.4 3.5 3.5 3.5 3.5 3.5\n",
       " [19] 3.8 3.8 3.8 3.9 3.9 3.9 4.0 4.0 4.0 4.0 4.0 4.0 4.0 4.0 4.0 4.0 4.0 4.0\n",
       " [37] 4.0 4.0 4.0 4.1 4.1 4.1 4.1 4.1 4.1 4.1 4.1 4.1 4.2 4.2 4.2 4.3 4.3 4.3\n",
       " [55] 4.3 4.3 4.4 4.4 4.4 4.4 4.5 4.6 4.6 4.6 4.6 4.6 4.7 4.7 4.7 4.7 4.7 4.7\n",
       " [73] 4.8 4.8 4.9 4.9 4.9 4.9 5.0 5.0 5.0 5.0 5.0 5.0 5.0 5.0 5.0 5.0 5.0 5.0\n",
       " [91] 5.0 5.0 5.0 5.0 5.0 5.0 5.1 5.1 5.1 5.1 5.1 5.1 5.1 5.1 5.1 5.1 5.1 5.2\n",
       "[109] 5.2 5.2 5.2 5.2 5.2 5.2 5.2 5.2 5.3 5.3 5.3 5.3 5.3 5.3 5.3 5.4 5.4 5.4\n",
       "[127] 5.4 5.4 5.5 5.5 5.5 5.5 5.5 5.5 5.5 5.5 5.5 5.6 5.6 5.6 5.6 5.7 5.7 5.7\n",
       "[145] 5.7 5.7 5.7 5.8 5.8 5.8 5.8 5.8 5.9 5.9 6.0 6.0 6.0 6.0 6.0 6.0 6.0 6.0\n",
       "[163] 6.0 6.0 6.0 6.0 6.0 6.0 6.1 6.1 6.1 6.1 6.1 6.1 6.1 6.1 6.2 6.2 6.2 6.2\n",
       "[181] 6.2 6.2 6.2 6.2 6.2 6.2 6.2 6.2 6.2 6.3 6.3 6.3 6.3 6.3 6.3 6.3 6.3 6.3\n",
       "[199] 6.3 6.3 6.3 6.3 6.3 6.3 6.3 6.4 6.4 6.4 6.4 6.4 6.4 6.4 6.4 6.4 6.4 6.4\n",
       "[217] 6.5 6.5 6.5 6.5 6.7 6.7 6.7 6.7 6.7 6.7 6.7 6.7 6.8 6.8 6.8 6.8 6.9 6.9\n",
       "[235] 6.9 6.9 7.0 7.0 7.0 7.1 7.1 7.1 7.1 7.2 7.2 7.7 7.7 7.7 7.7 7.9 7.9"
      ]
     },
     "metadata": {},
     "output_type": "display_data"
    },
    {
     "data": {
      "text/html": [
       "<style>\n",
       ".list-inline {list-style: none; margin:0; padding: 0}\n",
       ".list-inline>li {display: inline-block}\n",
       ".list-inline>li:not(:last-child)::after {content: \"\\00b7\"; padding: 0 .5ex}\n",
       "</style>\n",
       "<ol class=list-inline><li>7.9</li><li>7.9</li><li>7.7</li><li>7.7</li><li>7.7</li><li>7.7</li><li>7.2</li><li>7.2</li><li>7.1</li><li>7.1</li><li>7.1</li><li>7.1</li><li>7</li><li>7</li><li>7</li><li>6.9</li><li>6.9</li><li>6.9</li><li>6.9</li><li>6.8</li><li>6.8</li><li>6.8</li><li>6.8</li><li>6.7</li><li>6.7</li><li>6.7</li><li>6.7</li><li>6.7</li><li>6.7</li><li>6.7</li><li>6.7</li><li>6.5</li><li>6.5</li><li>6.5</li><li>6.5</li><li>6.4</li><li>6.4</li><li>6.4</li><li>6.4</li><li>6.4</li><li>6.4</li><li>6.4</li><li>6.4</li><li>6.4</li><li>6.4</li><li>6.4</li><li>6.3</li><li>6.3</li><li>6.3</li><li>6.3</li><li>6.3</li><li>6.3</li><li>6.3</li><li>6.3</li><li>6.3</li><li>6.3</li><li>6.3</li><li>6.3</li><li>6.3</li><li>6.3</li><li>6.3</li><li>6.3</li><li>6.2</li><li>6.2</li><li>6.2</li><li>6.2</li><li>6.2</li><li>6.2</li><li>6.2</li><li>6.2</li><li>6.2</li><li>6.2</li><li>6.2</li><li>6.2</li><li>6.2</li><li>6.1</li><li>6.1</li><li>6.1</li><li>6.1</li><li>6.1</li><li>6.1</li><li>6.1</li><li>6.1</li><li>6</li><li>6</li><li>6</li><li>6</li><li>6</li><li>6</li><li>6</li><li>6</li><li>6</li><li>6</li><li>6</li><li>6</li><li>6</li><li>6</li><li>5.9</li><li>5.9</li><li>5.8</li><li>5.8</li><li>5.8</li><li>5.8</li><li>5.8</li><li>5.7</li><li>5.7</li><li>5.7</li><li>5.7</li><li>5.7</li><li>5.7</li><li>5.6</li><li>5.6</li><li>5.6</li><li>5.6</li><li>5.5</li><li>5.5</li><li>5.5</li><li>5.5</li><li>5.5</li><li>5.5</li><li>5.5</li><li>5.5</li><li>5.5</li><li>5.4</li><li>5.4</li><li>5.4</li><li>5.4</li><li>5.4</li><li>5.3</li><li>5.3</li><li>5.3</li><li>5.3</li><li>5.3</li><li>5.3</li><li>5.3</li><li>5.2</li><li>5.2</li><li>5.2</li><li>5.2</li><li>5.2</li><li>5.2</li><li>5.2</li><li>5.2</li><li>5.2</li><li>5.1</li><li>5.1</li><li>5.1</li><li>5.1</li><li>5.1</li><li>5.1</li><li>5.1</li><li>5.1</li><li>5.1</li><li>5.1</li><li>5.1</li><li>5</li><li>5</li><li>5</li><li>5</li><li>5</li><li>5</li><li>5</li><li>5</li><li>5</li><li>5</li><li>5</li><li>5</li><li>5</li><li>5</li><li>5</li><li>5</li><li>5</li><li>5</li><li>4.9</li><li>4.9</li><li>4.9</li><li>4.9</li><li>4.8</li><li>4.8</li><li>4.7</li><li>4.7</li><li>4.7</li><li>4.7</li><li>4.7</li><li>4.7</li><li>4.6</li><li>4.6</li><li>4.6</li><li>4.6</li><li>4.6</li><li>4.5</li><li>4.4</li><li>4.4</li><li>4.4</li><li>4.4</li><li>4.3</li><li>4.3</li><li>4.3</li><li>4.3</li><li>4.3</li><li>4.2</li><li>4.2</li><li>4.2</li><li>4.1</li><li>4.1</li><li>4.1</li><li>4.1</li><li>4.1</li><li>4.1</li><li>4.1</li><li>4.1</li><li>4.1</li><li>4</li><li>4</li><li>4</li><li>4</li><li>4</li><li>4</li><li>4</li><li>4</li><li>4</li><li>4</li><li>4</li><li>4</li><li>4</li><li>4</li><li>4</li><li>3.9</li><li>3.9</li><li>3.9</li><li>3.8</li><li>3.8</li><li>3.8</li><li>3.5</li><li>3.5</li><li>3.5</li><li>3.5</li><li>3.5</li><li>3.4</li><li>3.4</li><li>3.3</li><li>3.3</li><li>3</li><li>3</li><li>3</li><li>3</li><li>3</li><li>3</li><li>2.3</li><li>2.3</li><li>2.1</li></ol>\n"
      ],
      "text/latex": [
       "\\begin{enumerate*}\n",
       "\\item 7.9\n",
       "\\item 7.9\n",
       "\\item 7.7\n",
       "\\item 7.7\n",
       "\\item 7.7\n",
       "\\item 7.7\n",
       "\\item 7.2\n",
       "\\item 7.2\n",
       "\\item 7.1\n",
       "\\item 7.1\n",
       "\\item 7.1\n",
       "\\item 7.1\n",
       "\\item 7\n",
       "\\item 7\n",
       "\\item 7\n",
       "\\item 6.9\n",
       "\\item 6.9\n",
       "\\item 6.9\n",
       "\\item 6.9\n",
       "\\item 6.8\n",
       "\\item 6.8\n",
       "\\item 6.8\n",
       "\\item 6.8\n",
       "\\item 6.7\n",
       "\\item 6.7\n",
       "\\item 6.7\n",
       "\\item 6.7\n",
       "\\item 6.7\n",
       "\\item 6.7\n",
       "\\item 6.7\n",
       "\\item 6.7\n",
       "\\item 6.5\n",
       "\\item 6.5\n",
       "\\item 6.5\n",
       "\\item 6.5\n",
       "\\item 6.4\n",
       "\\item 6.4\n",
       "\\item 6.4\n",
       "\\item 6.4\n",
       "\\item 6.4\n",
       "\\item 6.4\n",
       "\\item 6.4\n",
       "\\item 6.4\n",
       "\\item 6.4\n",
       "\\item 6.4\n",
       "\\item 6.4\n",
       "\\item 6.3\n",
       "\\item 6.3\n",
       "\\item 6.3\n",
       "\\item 6.3\n",
       "\\item 6.3\n",
       "\\item 6.3\n",
       "\\item 6.3\n",
       "\\item 6.3\n",
       "\\item 6.3\n",
       "\\item 6.3\n",
       "\\item 6.3\n",
       "\\item 6.3\n",
       "\\item 6.3\n",
       "\\item 6.3\n",
       "\\item 6.3\n",
       "\\item 6.3\n",
       "\\item 6.2\n",
       "\\item 6.2\n",
       "\\item 6.2\n",
       "\\item 6.2\n",
       "\\item 6.2\n",
       "\\item 6.2\n",
       "\\item 6.2\n",
       "\\item 6.2\n",
       "\\item 6.2\n",
       "\\item 6.2\n",
       "\\item 6.2\n",
       "\\item 6.2\n",
       "\\item 6.2\n",
       "\\item 6.1\n",
       "\\item 6.1\n",
       "\\item 6.1\n",
       "\\item 6.1\n",
       "\\item 6.1\n",
       "\\item 6.1\n",
       "\\item 6.1\n",
       "\\item 6.1\n",
       "\\item 6\n",
       "\\item 6\n",
       "\\item 6\n",
       "\\item 6\n",
       "\\item 6\n",
       "\\item 6\n",
       "\\item 6\n",
       "\\item 6\n",
       "\\item 6\n",
       "\\item 6\n",
       "\\item 6\n",
       "\\item 6\n",
       "\\item 6\n",
       "\\item 6\n",
       "\\item 5.9\n",
       "\\item 5.9\n",
       "\\item 5.8\n",
       "\\item 5.8\n",
       "\\item 5.8\n",
       "\\item 5.8\n",
       "\\item 5.8\n",
       "\\item 5.7\n",
       "\\item 5.7\n",
       "\\item 5.7\n",
       "\\item 5.7\n",
       "\\item 5.7\n",
       "\\item 5.7\n",
       "\\item 5.6\n",
       "\\item 5.6\n",
       "\\item 5.6\n",
       "\\item 5.6\n",
       "\\item 5.5\n",
       "\\item 5.5\n",
       "\\item 5.5\n",
       "\\item 5.5\n",
       "\\item 5.5\n",
       "\\item 5.5\n",
       "\\item 5.5\n",
       "\\item 5.5\n",
       "\\item 5.5\n",
       "\\item 5.4\n",
       "\\item 5.4\n",
       "\\item 5.4\n",
       "\\item 5.4\n",
       "\\item 5.4\n",
       "\\item 5.3\n",
       "\\item 5.3\n",
       "\\item 5.3\n",
       "\\item 5.3\n",
       "\\item 5.3\n",
       "\\item 5.3\n",
       "\\item 5.3\n",
       "\\item 5.2\n",
       "\\item 5.2\n",
       "\\item 5.2\n",
       "\\item 5.2\n",
       "\\item 5.2\n",
       "\\item 5.2\n",
       "\\item 5.2\n",
       "\\item 5.2\n",
       "\\item 5.2\n",
       "\\item 5.1\n",
       "\\item 5.1\n",
       "\\item 5.1\n",
       "\\item 5.1\n",
       "\\item 5.1\n",
       "\\item 5.1\n",
       "\\item 5.1\n",
       "\\item 5.1\n",
       "\\item 5.1\n",
       "\\item 5.1\n",
       "\\item 5.1\n",
       "\\item 5\n",
       "\\item 5\n",
       "\\item 5\n",
       "\\item 5\n",
       "\\item 5\n",
       "\\item 5\n",
       "\\item 5\n",
       "\\item 5\n",
       "\\item 5\n",
       "\\item 5\n",
       "\\item 5\n",
       "\\item 5\n",
       "\\item 5\n",
       "\\item 5\n",
       "\\item 5\n",
       "\\item 5\n",
       "\\item 5\n",
       "\\item 5\n",
       "\\item 4.9\n",
       "\\item 4.9\n",
       "\\item 4.9\n",
       "\\item 4.9\n",
       "\\item 4.8\n",
       "\\item 4.8\n",
       "\\item 4.7\n",
       "\\item 4.7\n",
       "\\item 4.7\n",
       "\\item 4.7\n",
       "\\item 4.7\n",
       "\\item 4.7\n",
       "\\item 4.6\n",
       "\\item 4.6\n",
       "\\item 4.6\n",
       "\\item 4.6\n",
       "\\item 4.6\n",
       "\\item 4.5\n",
       "\\item 4.4\n",
       "\\item 4.4\n",
       "\\item 4.4\n",
       "\\item 4.4\n",
       "\\item 4.3\n",
       "\\item 4.3\n",
       "\\item 4.3\n",
       "\\item 4.3\n",
       "\\item 4.3\n",
       "\\item 4.2\n",
       "\\item 4.2\n",
       "\\item 4.2\n",
       "\\item 4.1\n",
       "\\item 4.1\n",
       "\\item 4.1\n",
       "\\item 4.1\n",
       "\\item 4.1\n",
       "\\item 4.1\n",
       "\\item 4.1\n",
       "\\item 4.1\n",
       "\\item 4.1\n",
       "\\item 4\n",
       "\\item 4\n",
       "\\item 4\n",
       "\\item 4\n",
       "\\item 4\n",
       "\\item 4\n",
       "\\item 4\n",
       "\\item 4\n",
       "\\item 4\n",
       "\\item 4\n",
       "\\item 4\n",
       "\\item 4\n",
       "\\item 4\n",
       "\\item 4\n",
       "\\item 4\n",
       "\\item 3.9\n",
       "\\item 3.9\n",
       "\\item 3.9\n",
       "\\item 3.8\n",
       "\\item 3.8\n",
       "\\item 3.8\n",
       "\\item 3.5\n",
       "\\item 3.5\n",
       "\\item 3.5\n",
       "\\item 3.5\n",
       "\\item 3.5\n",
       "\\item 3.4\n",
       "\\item 3.4\n",
       "\\item 3.3\n",
       "\\item 3.3\n",
       "\\item 3\n",
       "\\item 3\n",
       "\\item 3\n",
       "\\item 3\n",
       "\\item 3\n",
       "\\item 3\n",
       "\\item 2.3\n",
       "\\item 2.3\n",
       "\\item 2.1\n",
       "\\end{enumerate*}\n"
      ],
      "text/markdown": [
       "1. 7.9\n",
       "2. 7.9\n",
       "3. 7.7\n",
       "4. 7.7\n",
       "5. 7.7\n",
       "6. 7.7\n",
       "7. 7.2\n",
       "8. 7.2\n",
       "9. 7.1\n",
       "10. 7.1\n",
       "11. 7.1\n",
       "12. 7.1\n",
       "13. 7\n",
       "14. 7\n",
       "15. 7\n",
       "16. 6.9\n",
       "17. 6.9\n",
       "18. 6.9\n",
       "19. 6.9\n",
       "20. 6.8\n",
       "21. 6.8\n",
       "22. 6.8\n",
       "23. 6.8\n",
       "24. 6.7\n",
       "25. 6.7\n",
       "26. 6.7\n",
       "27. 6.7\n",
       "28. 6.7\n",
       "29. 6.7\n",
       "30. 6.7\n",
       "31. 6.7\n",
       "32. 6.5\n",
       "33. 6.5\n",
       "34. 6.5\n",
       "35. 6.5\n",
       "36. 6.4\n",
       "37. 6.4\n",
       "38. 6.4\n",
       "39. 6.4\n",
       "40. 6.4\n",
       "41. 6.4\n",
       "42. 6.4\n",
       "43. 6.4\n",
       "44. 6.4\n",
       "45. 6.4\n",
       "46. 6.4\n",
       "47. 6.3\n",
       "48. 6.3\n",
       "49. 6.3\n",
       "50. 6.3\n",
       "51. 6.3\n",
       "52. 6.3\n",
       "53. 6.3\n",
       "54. 6.3\n",
       "55. 6.3\n",
       "56. 6.3\n",
       "57. 6.3\n",
       "58. 6.3\n",
       "59. 6.3\n",
       "60. 6.3\n",
       "61. 6.3\n",
       "62. 6.3\n",
       "63. 6.2\n",
       "64. 6.2\n",
       "65. 6.2\n",
       "66. 6.2\n",
       "67. 6.2\n",
       "68. 6.2\n",
       "69. 6.2\n",
       "70. 6.2\n",
       "71. 6.2\n",
       "72. 6.2\n",
       "73. 6.2\n",
       "74. 6.2\n",
       "75. 6.2\n",
       "76. 6.1\n",
       "77. 6.1\n",
       "78. 6.1\n",
       "79. 6.1\n",
       "80. 6.1\n",
       "81. 6.1\n",
       "82. 6.1\n",
       "83. 6.1\n",
       "84. 6\n",
       "85. 6\n",
       "86. 6\n",
       "87. 6\n",
       "88. 6\n",
       "89. 6\n",
       "90. 6\n",
       "91. 6\n",
       "92. 6\n",
       "93. 6\n",
       "94. 6\n",
       "95. 6\n",
       "96. 6\n",
       "97. 6\n",
       "98. 5.9\n",
       "99. 5.9\n",
       "100. 5.8\n",
       "101. 5.8\n",
       "102. 5.8\n",
       "103. 5.8\n",
       "104. 5.8\n",
       "105. 5.7\n",
       "106. 5.7\n",
       "107. 5.7\n",
       "108. 5.7\n",
       "109. 5.7\n",
       "110. 5.7\n",
       "111. 5.6\n",
       "112. 5.6\n",
       "113. 5.6\n",
       "114. 5.6\n",
       "115. 5.5\n",
       "116. 5.5\n",
       "117. 5.5\n",
       "118. 5.5\n",
       "119. 5.5\n",
       "120. 5.5\n",
       "121. 5.5\n",
       "122. 5.5\n",
       "123. 5.5\n",
       "124. 5.4\n",
       "125. 5.4\n",
       "126. 5.4\n",
       "127. 5.4\n",
       "128. 5.4\n",
       "129. 5.3\n",
       "130. 5.3\n",
       "131. 5.3\n",
       "132. 5.3\n",
       "133. 5.3\n",
       "134. 5.3\n",
       "135. 5.3\n",
       "136. 5.2\n",
       "137. 5.2\n",
       "138. 5.2\n",
       "139. 5.2\n",
       "140. 5.2\n",
       "141. 5.2\n",
       "142. 5.2\n",
       "143. 5.2\n",
       "144. 5.2\n",
       "145. 5.1\n",
       "146. 5.1\n",
       "147. 5.1\n",
       "148. 5.1\n",
       "149. 5.1\n",
       "150. 5.1\n",
       "151. 5.1\n",
       "152. 5.1\n",
       "153. 5.1\n",
       "154. 5.1\n",
       "155. 5.1\n",
       "156. 5\n",
       "157. 5\n",
       "158. 5\n",
       "159. 5\n",
       "160. 5\n",
       "161. 5\n",
       "162. 5\n",
       "163. 5\n",
       "164. 5\n",
       "165. 5\n",
       "166. 5\n",
       "167. 5\n",
       "168. 5\n",
       "169. 5\n",
       "170. 5\n",
       "171. 5\n",
       "172. 5\n",
       "173. 5\n",
       "174. 4.9\n",
       "175. 4.9\n",
       "176. 4.9\n",
       "177. 4.9\n",
       "178. 4.8\n",
       "179. 4.8\n",
       "180. 4.7\n",
       "181. 4.7\n",
       "182. 4.7\n",
       "183. 4.7\n",
       "184. 4.7\n",
       "185. 4.7\n",
       "186. 4.6\n",
       "187. 4.6\n",
       "188. 4.6\n",
       "189. 4.6\n",
       "190. 4.6\n",
       "191. 4.5\n",
       "192. 4.4\n",
       "193. 4.4\n",
       "194. 4.4\n",
       "195. 4.4\n",
       "196. 4.3\n",
       "197. 4.3\n",
       "198. 4.3\n",
       "199. 4.3\n",
       "200. 4.3\n",
       "201. 4.2\n",
       "202. 4.2\n",
       "203. 4.2\n",
       "204. 4.1\n",
       "205. 4.1\n",
       "206. 4.1\n",
       "207. 4.1\n",
       "208. 4.1\n",
       "209. 4.1\n",
       "210. 4.1\n",
       "211. 4.1\n",
       "212. 4.1\n",
       "213. 4\n",
       "214. 4\n",
       "215. 4\n",
       "216. 4\n",
       "217. 4\n",
       "218. 4\n",
       "219. 4\n",
       "220. 4\n",
       "221. 4\n",
       "222. 4\n",
       "223. 4\n",
       "224. 4\n",
       "225. 4\n",
       "226. 4\n",
       "227. 4\n",
       "228. 3.9\n",
       "229. 3.9\n",
       "230. 3.9\n",
       "231. 3.8\n",
       "232. 3.8\n",
       "233. 3.8\n",
       "234. 3.5\n",
       "235. 3.5\n",
       "236. 3.5\n",
       "237. 3.5\n",
       "238. 3.5\n",
       "239. 3.4\n",
       "240. 3.4\n",
       "241. 3.3\n",
       "242. 3.3\n",
       "243. 3\n",
       "244. 3\n",
       "245. 3\n",
       "246. 3\n",
       "247. 3\n",
       "248. 3\n",
       "249. 2.3\n",
       "250. 2.3\n",
       "251. 2.1\n",
       "\n",
       "\n"
      ],
      "text/plain": [
       "  [1] 7.9 7.9 7.7 7.7 7.7 7.7 7.2 7.2 7.1 7.1 7.1 7.1 7.0 7.0 7.0 6.9 6.9 6.9\n",
       " [19] 6.9 6.8 6.8 6.8 6.8 6.7 6.7 6.7 6.7 6.7 6.7 6.7 6.7 6.5 6.5 6.5 6.5 6.4\n",
       " [37] 6.4 6.4 6.4 6.4 6.4 6.4 6.4 6.4 6.4 6.4 6.3 6.3 6.3 6.3 6.3 6.3 6.3 6.3\n",
       " [55] 6.3 6.3 6.3 6.3 6.3 6.3 6.3 6.3 6.2 6.2 6.2 6.2 6.2 6.2 6.2 6.2 6.2 6.2\n",
       " [73] 6.2 6.2 6.2 6.1 6.1 6.1 6.1 6.1 6.1 6.1 6.1 6.0 6.0 6.0 6.0 6.0 6.0 6.0\n",
       " [91] 6.0 6.0 6.0 6.0 6.0 6.0 6.0 5.9 5.9 5.8 5.8 5.8 5.8 5.8 5.7 5.7 5.7 5.7\n",
       "[109] 5.7 5.7 5.6 5.6 5.6 5.6 5.5 5.5 5.5 5.5 5.5 5.5 5.5 5.5 5.5 5.4 5.4 5.4\n",
       "[127] 5.4 5.4 5.3 5.3 5.3 5.3 5.3 5.3 5.3 5.2 5.2 5.2 5.2 5.2 5.2 5.2 5.2 5.2\n",
       "[145] 5.1 5.1 5.1 5.1 5.1 5.1 5.1 5.1 5.1 5.1 5.1 5.0 5.0 5.0 5.0 5.0 5.0 5.0\n",
       "[163] 5.0 5.0 5.0 5.0 5.0 5.0 5.0 5.0 5.0 5.0 5.0 4.9 4.9 4.9 4.9 4.8 4.8 4.7\n",
       "[181] 4.7 4.7 4.7 4.7 4.7 4.6 4.6 4.6 4.6 4.6 4.5 4.4 4.4 4.4 4.4 4.3 4.3 4.3\n",
       "[199] 4.3 4.3 4.2 4.2 4.2 4.1 4.1 4.1 4.1 4.1 4.1 4.1 4.1 4.1 4.0 4.0 4.0 4.0\n",
       "[217] 4.0 4.0 4.0 4.0 4.0 4.0 4.0 4.0 4.0 4.0 4.0 3.9 3.9 3.9 3.8 3.8 3.8 3.5\n",
       "[235] 3.5 3.5 3.5 3.5 3.4 3.4 3.3 3.3 3.0 3.0 3.0 3.0 3.0 3.0 2.3 2.3 2.1"
      ]
     },
     "metadata": {},
     "output_type": "display_data"
    }
   ],
   "source": [
    "# 평균\n",
    "mean(x)\n",
    "# 중위수\n",
    "median(x)\n",
    "# 오름차순 정렬\n",
    "sort(x)\n",
    "# 내림차순 정렬\n",
    "sort(x, decreasing=T)"
   ]
  },
  {
   "cell_type": "markdown",
   "id": "c32ad957-0f19-4d5f-a1b3-68e5ceedb185",
   "metadata": {},
   "source": [
    "- 사분위수는 전체 데이터의 크기를 네 등분하여 나타낸 통계량을 의미한다. \n",
    "- 제1사분위수는 누적 백분율이 25%에 해당하고, 제2사분위수는 누적 백분율이 50%, 제3사분위수는 75%, 제4사분위수는 100%에 해당한다. 특히 제 2사분위수는 중앙값과 동일하다. "
   ]
  },
  {
   "cell_type": "code",
   "execution_count": 39,
   "id": "6d4dd925-8ef5-454f-9ec8-c9f2d9b2bdb0",
   "metadata": {},
   "outputs": [
    {
     "data": {
      "text/html": [
       "<strong>25%:</strong> 4.6"
      ],
      "text/latex": [
       "\\textbf{25\\textbackslash{}\\%:} 4.6"
      ],
      "text/markdown": [
       "**25%:** 4.6"
      ],
      "text/plain": [
       "25% \n",
       "4.6 "
      ]
     },
     "metadata": {},
     "output_type": "display_data"
    },
    {
     "data": {
      "text/html": [
       "<strong>50%:</strong> 5.4"
      ],
      "text/latex": [
       "\\textbf{50\\textbackslash{}\\%:} 5.4"
      ],
      "text/markdown": [
       "**50%:** 5.4"
      ],
      "text/plain": [
       "50% \n",
       "5.4 "
      ]
     },
     "metadata": {},
     "output_type": "display_data"
    },
    {
     "data": {
      "text/html": [
       "<strong>75%:</strong> 6.2"
      ],
      "text/latex": [
       "\\textbf{75\\textbackslash{}\\%:} 6.2"
      ],
      "text/markdown": [
       "**75%:** 6.2"
      ],
      "text/plain": [
       "75% \n",
       "6.2 "
      ]
     },
     "metadata": {},
     "output_type": "display_data"
    },
    {
     "data": {
      "text/html": [
       "<strong>100%:</strong> 7.9"
      ],
      "text/latex": [
       "\\textbf{100\\textbackslash{}\\%:} 7.9"
      ],
      "text/markdown": [
       "**100%:** 7.9"
      ],
      "text/plain": [
       "100% \n",
       " 7.9 "
      ]
     },
     "metadata": {},
     "output_type": "display_data"
    }
   ],
   "source": [
    "quantile(x,1/4)\n",
    "quantile(x,2/4)\n",
    "quantile(x,3/4)\n",
    "quantile(x,4/4)"
   ]
  },
  {
   "cell_type": "markdown",
   "id": "22b1ab0e-7cd4-47f6-b47a-e4e6ee515e2b",
   "metadata": {},
   "source": [
    "- 최빈수 : 빈도수가 가장 많은 변량"
   ]
  },
  {
   "cell_type": "code",
   "execution_count": 44,
   "id": "8eddc408-1315-47a9-9214-a13952316e83",
   "metadata": {},
   "outputs": [
    {
     "data": {
      "text/html": [
       "251"
      ],
      "text/latex": [
       "251"
      ],
      "text/markdown": [
       "251"
      ],
      "text/plain": [
       "[1] 251"
      ]
     },
     "metadata": {},
     "output_type": "display_data"
    },
    {
     "data": {
      "text/html": [
       "18"
      ],
      "text/latex": [
       "18"
      ],
      "text/markdown": [
       "18"
      ],
      "text/plain": [
       "[1] 18"
      ]
     },
     "metadata": {},
     "output_type": "display_data"
    }
   ],
   "source": [
    "length(x)\n",
    "# 일단 각 값들 별로 빈도를 구하고 그 빈도들 사이에서 최댓값을 구하는 방식을 사용한다.\n",
    "xtable = table(x)\n",
    "max(xtable)"
   ]
  },
  {
   "cell_type": "code",
   "execution_count": 45,
   "id": "1eacb0e9-dd5d-4eaa-b8bb-45ba157f9163",
   "metadata": {},
   "outputs": [
    {
     "data": {
      "text/plain": [
       "x\n",
       "2.1 2.3   3 3.3 3.4 3.5 3.8 3.9   4 4.1 4.2 4.3 4.4 4.5 4.6 4.7 4.8 4.9   5 5.1 \n",
       "  1   2   6   2   2   5   3   3  15   9   3   5   4   1   5   6   2   4  18  11 \n",
       "5.2 5.3 5.4 5.5 5.6 5.7 5.8 5.9   6 6.1 6.2 6.3 6.4 6.5 6.7 6.8 6.9   7 7.1 7.2 \n",
       "  9   7   5   9   4   6   5   2  14   8  13  16  11   4   8   4   4   3   4   2 \n",
       "7.7 7.9 \n",
       "  4   2 "
      ]
     },
     "metadata": {},
     "output_type": "display_data"
    }
   ],
   "source": [
    "xtable"
   ]
  },
  {
   "cell_type": "code",
   "execution_count": 52,
   "id": "d7dbd57b-59d0-4423-9198-d746ee7ec5e5",
   "metadata": {},
   "outputs": [
    {
     "data": {
      "text/html": [
       "<table class=\"dataframe\">\n",
       "<caption>A matrix: 1 × 42 of type int</caption>\n",
       "<thead>\n",
       "\t<tr><th></th><th scope=col>2.1</th><th scope=col>2.3</th><th scope=col>3</th><th scope=col>3.3</th><th scope=col>3.4</th><th scope=col>3.5</th><th scope=col>3.8</th><th scope=col>3.9</th><th scope=col>4</th><th scope=col>4.1</th><th scope=col>⋯</th><th scope=col>6.4</th><th scope=col>6.5</th><th scope=col>6.7</th><th scope=col>6.8</th><th scope=col>6.9</th><th scope=col>7</th><th scope=col>7.1</th><th scope=col>7.2</th><th scope=col>7.7</th><th scope=col>7.9</th></tr>\n",
       "</thead>\n",
       "<tbody>\n",
       "\t<tr><th scope=row>xtable</th><td>1</td><td>2</td><td>6</td><td>2</td><td>2</td><td>5</td><td>3</td><td>3</td><td>15</td><td>9</td><td>⋯</td><td>11</td><td>4</td><td>8</td><td>4</td><td>4</td><td>3</td><td>4</td><td>2</td><td>4</td><td>2</td></tr>\n",
       "</tbody>\n",
       "</table>\n"
      ],
      "text/latex": [
       "A matrix: 1 × 42 of type int\n",
       "\\begin{tabular}{r|lllllllllllllllllllll}\n",
       "  & 2.1 & 2.3 & 3 & 3.3 & 3.4 & 3.5 & 3.8 & 3.9 & 4 & 4.1 & ⋯ & 6.4 & 6.5 & 6.7 & 6.8 & 6.9 & 7 & 7.1 & 7.2 & 7.7 & 7.9\\\\\n",
       "\\hline\n",
       "\txtable & 1 & 2 & 6 & 2 & 2 & 5 & 3 & 3 & 15 & 9 & ⋯ & 11 & 4 & 8 & 4 & 4 & 3 & 4 & 2 & 4 & 2\\\\\n",
       "\\end{tabular}\n"
      ],
      "text/markdown": [
       "\n",
       "A matrix: 1 × 42 of type int\n",
       "\n",
       "| <!--/--> | 2.1 | 2.3 | 3 | 3.3 | 3.4 | 3.5 | 3.8 | 3.9 | 4 | 4.1 | ⋯ | 6.4 | 6.5 | 6.7 | 6.8 | 6.9 | 7 | 7.1 | 7.2 | 7.7 | 7.9 |\n",
       "|---|---|---|---|---|---|---|---|---|---|---|---|---|---|---|---|---|---|---|---|---|---|\n",
       "| xtable | 1 | 2 | 6 | 2 | 2 | 5 | 3 | 3 | 15 | 9 | ⋯ | 11 | 4 | 8 | 4 | 4 | 3 | 4 | 2 | 4 | 2 |\n",
       "\n"
      ],
      "text/plain": [
       "       2.1 2.3 3 3.3 3.4 3.5 3.8 3.9 4  4.1 <U+22EF>        6.4 6.5 6.7 6.8 6.9 7 7.1\n",
       "xtable 1   2   6 2   2   5   3   3   15 9   <U+22EF> 11  4   8   4   4   3 4  \n",
       "       7.2 7.7 7.9\n",
       "xtable 2   4   2  "
      ]
     },
     "metadata": {},
     "output_type": "display_data"
    }
   ],
   "source": [
    "# 두 개의 행을 묶어서 matrix 생성\n",
    "xmatrix = rbind(xtable)\n",
    "xmatrix"
   ]
  },
  {
   "cell_type": "code",
   "execution_count": 53,
   "id": "7cb92470-f22d-4d6b-8bd5-3f961ff2c8a8",
   "metadata": {},
   "outputs": [
    {
     "data": {
      "text/html": [
       "<style>\n",
       ".list-inline {list-style: none; margin:0; padding: 0}\n",
       ".list-inline>li {display: inline-block}\n",
       ".list-inline>li:not(:last-child)::after {content: \"\\00b7\"; padding: 0 .5ex}\n",
       "</style>\n",
       "<ol class=list-inline><li>'matrix'</li><li>'array'</li></ol>\n"
      ],
      "text/latex": [
       "\\begin{enumerate*}\n",
       "\\item 'matrix'\n",
       "\\item 'array'\n",
       "\\end{enumerate*}\n"
      ],
      "text/markdown": [
       "1. 'matrix'\n",
       "2. 'array'\n",
       "\n",
       "\n"
      ],
      "text/plain": [
       "[1] \"matrix\" \"array\" "
      ]
     },
     "metadata": {},
     "output_type": "display_data"
    },
    {
     "name": "stdout",
     "output_type": "stream",
     "text": [
      " int [1, 1:42] 1 2 6 2 2 5 3 3 15 9 ...\n",
      " - attr(*, \"dimnames\")=List of 2\n",
      "  ..$ : chr \"xtable\"\n",
      "  ..$ : chr [1:42] \"2.1\" \"2.3\" \"3\" \"3.3\" ...\n"
     ]
    }
   ],
   "source": [
    "class(xmatrix)\n",
    "str(xmatrix)"
   ]
  },
  {
   "cell_type": "code",
   "execution_count": 54,
   "id": "d00094fc-732b-4355-a2f1-640196859739",
   "metadata": {},
   "outputs": [
    {
     "data": {
      "text/html": [
       "<strong>5:</strong> 19"
      ],
      "text/latex": [
       "\\textbf{5:} 19"
      ],
      "text/markdown": [
       "**5:** 19"
      ],
      "text/plain": [
       " 5 \n",
       "19 "
      ]
     },
     "metadata": {},
     "output_type": "display_data"
    }
   ],
   "source": [
    "which(xmatrix[1,]==18)"
   ]
  },
  {
   "cell_type": "markdown",
   "id": "6cc22253-73f0-4fa4-9b90-660e98a48b31",
   "metadata": {},
   "source": [
    "- 19가 최빈수 18이 있는 위치가 된다. "
   ]
  },
  {
   "cell_type": "code",
   "execution_count": 55,
   "id": "ebbd4b62-1e3d-4b3c-a365-25c782df6506",
   "metadata": {},
   "outputs": [
    {
     "data": {
      "text/html": [
       "19"
      ],
      "text/latex": [
       "19"
      ],
      "text/markdown": [
       "19"
      ],
      "text/plain": [
       "[1] 19"
      ]
     },
     "metadata": {},
     "output_type": "display_data"
    }
   ],
   "source": [
    "xdataframe = as.data.frame(xmatrix)\n",
    "which(xdataframe[1,]==18)"
   ]
  },
  {
   "cell_type": "markdown",
   "id": "285005b4-ba5b-4be3-8409-d3a58201ee41",
   "metadata": {},
   "source": [
    "- 이게 좀 명료하게 나오긴 함"
   ]
  },
  {
   "cell_type": "code",
   "execution_count": 56,
   "id": "9f7ed8e3-dac3-4db9-8d08-8d00f53ead4b",
   "metadata": {},
   "outputs": [
    {
     "data": {
      "text/html": [
       "18"
      ],
      "text/latex": [
       "18"
      ],
      "text/markdown": [
       "18"
      ],
      "text/plain": [
       "[1] 18"
      ]
     },
     "metadata": {},
     "output_type": "display_data"
    }
   ],
   "source": [
    "# 최빈수와 변량 확인\n",
    "xdataframe[1,19]"
   ]
  },
  {
   "cell_type": "code",
   "execution_count": 58,
   "id": "e8d7d8c4-45b4-422a-ac9a-a01019027d4f",
   "metadata": {},
   "outputs": [
    {
     "data": {
      "text/html": [
       "<dl>\n",
       "\t<dt>$names</dt>\n",
       "\t\t<dd><style>\n",
       ".list-inline {list-style: none; margin:0; padding: 0}\n",
       ".list-inline>li {display: inline-block}\n",
       ".list-inline>li:not(:last-child)::after {content: \"\\00b7\"; padding: 0 .5ex}\n",
       "</style>\n",
       "<ol class=list-inline><li>'2.1'</li><li>'2.3'</li><li>'3'</li><li>'3.3'</li><li>'3.4'</li><li>'3.5'</li><li>'3.8'</li><li>'3.9'</li><li>'4'</li><li>'4.1'</li><li>'4.2'</li><li>'4.3'</li><li>'4.4'</li><li>'4.5'</li><li>'4.6'</li><li>'4.7'</li><li>'4.8'</li><li>'4.9'</li><li>'5'</li><li>'5.1'</li><li>'5.2'</li><li>'5.3'</li><li>'5.4'</li><li>'5.5'</li><li>'5.6'</li><li>'5.7'</li><li>'5.8'</li><li>'5.9'</li><li>'6'</li><li>'6.1'</li><li>'6.2'</li><li>'6.3'</li><li>'6.4'</li><li>'6.5'</li><li>'6.7'</li><li>'6.8'</li><li>'6.9'</li><li>'7'</li><li>'7.1'</li><li>'7.2'</li><li>'7.7'</li><li>'7.9'</li></ol>\n",
       "</dd>\n",
       "\t<dt>$class</dt>\n",
       "\t\t<dd>'data.frame'</dd>\n",
       "\t<dt>$row.names</dt>\n",
       "\t\t<dd>'xtable'</dd>\n",
       "</dl>\n"
      ],
      "text/latex": [
       "\\begin{description}\n",
       "\\item[\\$names] \\begin{enumerate*}\n",
       "\\item '2.1'\n",
       "\\item '2.3'\n",
       "\\item '3'\n",
       "\\item '3.3'\n",
       "\\item '3.4'\n",
       "\\item '3.5'\n",
       "\\item '3.8'\n",
       "\\item '3.9'\n",
       "\\item '4'\n",
       "\\item '4.1'\n",
       "\\item '4.2'\n",
       "\\item '4.3'\n",
       "\\item '4.4'\n",
       "\\item '4.5'\n",
       "\\item '4.6'\n",
       "\\item '4.7'\n",
       "\\item '4.8'\n",
       "\\item '4.9'\n",
       "\\item '5'\n",
       "\\item '5.1'\n",
       "\\item '5.2'\n",
       "\\item '5.3'\n",
       "\\item '5.4'\n",
       "\\item '5.5'\n",
       "\\item '5.6'\n",
       "\\item '5.7'\n",
       "\\item '5.8'\n",
       "\\item '5.9'\n",
       "\\item '6'\n",
       "\\item '6.1'\n",
       "\\item '6.2'\n",
       "\\item '6.3'\n",
       "\\item '6.4'\n",
       "\\item '6.5'\n",
       "\\item '6.7'\n",
       "\\item '6.8'\n",
       "\\item '6.9'\n",
       "\\item '7'\n",
       "\\item '7.1'\n",
       "\\item '7.2'\n",
       "\\item '7.7'\n",
       "\\item '7.9'\n",
       "\\end{enumerate*}\n",
       "\n",
       "\\item[\\$class] 'data.frame'\n",
       "\\item[\\$row.names] 'xtable'\n",
       "\\end{description}\n"
      ],
      "text/markdown": [
       "$names\n",
       ":   1. '2.1'\n",
       "2. '2.3'\n",
       "3. '3'\n",
       "4. '3.3'\n",
       "5. '3.4'\n",
       "6. '3.5'\n",
       "7. '3.8'\n",
       "8. '3.9'\n",
       "9. '4'\n",
       "10. '4.1'\n",
       "11. '4.2'\n",
       "12. '4.3'\n",
       "13. '4.4'\n",
       "14. '4.5'\n",
       "15. '4.6'\n",
       "16. '4.7'\n",
       "17. '4.8'\n",
       "18. '4.9'\n",
       "19. '5'\n",
       "20. '5.1'\n",
       "21. '5.2'\n",
       "22. '5.3'\n",
       "23. '5.4'\n",
       "24. '5.5'\n",
       "25. '5.6'\n",
       "26. '5.7'\n",
       "27. '5.8'\n",
       "28. '5.9'\n",
       "29. '6'\n",
       "30. '6.1'\n",
       "31. '6.2'\n",
       "32. '6.3'\n",
       "33. '6.4'\n",
       "34. '6.5'\n",
       "35. '6.7'\n",
       "36. '6.8'\n",
       "37. '6.9'\n",
       "38. '7'\n",
       "39. '7.1'\n",
       "40. '7.2'\n",
       "41. '7.7'\n",
       "42. '7.9'\n",
       "\n",
       "\n",
       "\n",
       "$class\n",
       ":   'data.frame'\n",
       "$row.names\n",
       ":   'xtable'\n",
       "\n",
       "\n"
      ],
      "text/plain": [
       "$names\n",
       " [1] \"2.1\" \"2.3\" \"3\"   \"3.3\" \"3.4\" \"3.5\" \"3.8\" \"3.9\" \"4\"   \"4.1\" \"4.2\" \"4.3\"\n",
       "[13] \"4.4\" \"4.5\" \"4.6\" \"4.7\" \"4.8\" \"4.9\" \"5\"   \"5.1\" \"5.2\" \"5.3\" \"5.4\" \"5.5\"\n",
       "[25] \"5.6\" \"5.7\" \"5.8\" \"5.9\" \"6\"   \"6.1\" \"6.2\" \"6.3\" \"6.4\" \"6.5\" \"6.7\" \"6.8\"\n",
       "[37] \"6.9\" \"7\"   \"7.1\" \"7.2\" \"7.7\" \"7.9\"\n",
       "\n",
       "$class\n",
       "[1] \"data.frame\"\n",
       "\n",
       "$row.names\n",
       "[1] \"xtable\"\n"
      ]
     },
     "metadata": {},
     "output_type": "display_data"
    }
   ],
   "source": [
    "# 속성보기\n",
    "attributes(xdataframe)"
   ]
  },
  {
   "cell_type": "markdown",
   "id": "78cf99ed-e943-4eee-bfdc-2f78fd58833a",
   "metadata": {},
   "source": [
    "---"
   ]
  },
  {
   "cell_type": "markdown",
   "id": "abaf3379-853c-4b05-901d-1be51d91962b",
   "metadata": {},
   "source": [
    "- 산포도 : 자료가 대표값으로부터 얼마나 흩어져 분포하고 있는가의 정도를 나타내는 척도, 분산과 표준편차를 통계량으로 사용"
   ]
  },
  {
   "cell_type": "code",
   "execution_count": 65,
   "id": "3d6b3e0c-fa71-4819-80be-d661a3e246b4",
   "metadata": {},
   "outputs": [
    {
     "data": {
      "text/html": [
       "1.2937580876494"
      ],
      "text/latex": [
       "1.2937580876494"
      ],
      "text/markdown": [
       "1.2937580876494"
      ],
      "text/plain": [
       "[1] 1.293758"
      ]
     },
     "metadata": {},
     "output_type": "display_data"
    }
   ],
   "source": [
    "var(x) # variance"
   ]
  },
  {
   "cell_type": "code",
   "execution_count": 66,
   "id": "86ac0209-daaa-46d5-9c4c-c08e02e859dd",
   "metadata": {},
   "outputs": [
    {
     "data": {
      "text/html": [
       "1.13743487182757"
      ],
      "text/latex": [
       "1.13743487182757"
      ],
      "text/markdown": [
       "1.13743487182757"
      ],
      "text/plain": [
       "[1] 1.137435"
      ]
     },
     "metadata": {},
     "output_type": "display_data"
    }
   ],
   "source": [
    "sd(x) # standard deviation"
   ]
  },
  {
   "cell_type": "code",
   "execution_count": 68,
   "id": "c8eb544d-64cf-4c9a-bd25-d5424721c451",
   "metadata": {},
   "outputs": [
    {
     "data": {
      "text/html": [
       "1.13743487182757"
      ],
      "text/latex": [
       "1.13743487182757"
      ],
      "text/markdown": [
       "1.13743487182757"
      ],
      "text/plain": [
       "[1] 1.137435"
      ]
     },
     "metadata": {},
     "output_type": "display_data"
    },
    {
     "data": {
      "text/html": [
       "1.13743487182757"
      ],
      "text/latex": [
       "1.13743487182757"
      ],
      "text/markdown": [
       "1.13743487182757"
      ],
      "text/plain": [
       "[1] 1.137435"
      ]
     },
     "metadata": {},
     "output_type": "display_data"
    }
   ],
   "source": [
    "# standard deviation\n",
    "sqrt(var(x))\n",
    "sqrt(var(data$cost, na.rm=T))"
   ]
  },
  {
   "cell_type": "markdown",
   "id": "5119b5de-96f7-404f-a8ac-99c555d942a4",
   "metadata": {},
   "source": [
    "- 분산이 0에 근접할수록 x의 모든 변량이 평균이 집중되어 흩어짐이 없다는 의미이다. "
   ]
  },
  {
   "cell_type": "markdown",
   "id": "e5c2b61b-7299-4243-acbd-6f5c6d3edfe8",
   "metadata": {},
   "source": [
    "---"
   ]
  },
  {
   "cell_type": "markdown",
   "id": "9674d95e-4044-4219-a7aa-d0c045db29fb",
   "metadata": {},
   "source": [
    "- 표본분산 ($S^2$) 과 표본표준편차 ($S$)\n",
    "  - 표본분산을 구할 땐 모분산 구하는 과정과 달리 N으로 나누지 않고 N-1로 나눠준다.\n",
    "- 산포도의 통계량에서 특히 표준편차는 표준오차($= \\frac{S}{\\sqrt(N)}$)를 구하는 데 이용된다. (S=표준편차,N=관측치 수)\n",
    "  - 표준오차 : 표본과 실제 모집단 간의 차이를 나타내는 값으로 표본의 수가 커지면 표준오차는 작아지는 특성을 나타내고 있다. \n",
    "- 분산과 표준편차의 보완된 개념으로 변동계수를 사용할 수 있다. \n",
    "  - 변동계수 = 표준편차 / 평균"
   ]
  },
  {
   "cell_type": "markdown",
   "id": "653dc0c9-742f-40e6-81ff-13a611364619",
   "metadata": {},
   "source": [
    "---"
   ]
  },
  {
   "cell_type": "markdown",
   "id": "62ab573b-f226-4f39-95ba-ea18e33e923c",
   "metadata": {},
   "source": [
    "- 빈도분석\n",
    "   - 비율척도를 대상으로 직접 빈도분석을 수행한 결과는 큰 의미 없다. 비율척도 변수의 값은 응답자가 직접 입력하는 수치이기 때문에 동일한 수치의 빈도수를 나타내는 table() 함수의 수행 결과는 의미가 없다고 볼 수 있기 때문이다. 만약 빈도분석에 의미를 두기 위해서는 일정한 간격으로 범주화하는 리코딩 과정이 필요하다."
   ]
  },
  {
   "cell_type": "code",
   "execution_count": 69,
   "id": "c1620ba2-b02a-4d68-94ae-7526155bfd35",
   "metadata": {},
   "outputs": [
    {
     "data": {
      "text/plain": [
       "\n",
       "2.1 2.3   3 3.3 3.4 3.5 3.8 3.9   4 4.1 4.2 4.3 4.4 4.5 4.6 4.7 4.8 4.9   5 5.1 \n",
       "  1   2   6   2   2   5   3   3  15   9   3   5   4   1   5   6   2   4  18  11 \n",
       "5.2 5.3 5.4 5.5 5.6 5.7 5.8 5.9   6 6.1 6.2 6.3 6.4 6.5 6.7 6.8 6.9   7 7.1 7.2 \n",
       "  9   7   5   9   4   6   5   2  14   8  13  16  11   4   8   4   4   3   4   2 \n",
       "7.7 7.9 \n",
       "  4   2 "
      ]
     },
     "metadata": {},
     "output_type": "display_data"
    }
   ],
   "source": [
    "# 연속형 변수의 빈도분석\n",
    "table(data$cost)"
   ]
  },
  {
   "cell_type": "markdown",
   "id": "45c1f5e2-cf6c-47e6-8274-1e39053ae45f",
   "metadata": {},
   "source": [
    "- 연속형 변수는 히스토그램이나 산점도 등으로 시각화하는 것이 효과적이다."
   ]
  },
  {
   "cell_type": "code",
   "execution_count": 70,
   "id": "d526a631-52e4-483c-a2f5-b128eb90a7b0",
   "metadata": {},
   "outputs": [
    {
     "data": {
      "image/png": "[encoded data removed]",
      "text/plain": [
       "Plot with title \"Histogram of data$cost\""
      ]
     },
     "metadata": {
      "image/png": {
       "height": 420,
       "width": 420
      }
     },
     "output_type": "display_data"
    }
   ],
   "source": [
    "# 연속형 변수의 히스토그램 시각화\n",
    "hist(data$cost)"
   ]
  },
  {
   "cell_type": "code",
   "execution_count": 71,
   "id": "6f760be1-370f-4834-ba2a-f6ca1a678225",
   "metadata": {},
   "outputs": [
    {
     "data": {
      "image/png": "[encoded data removed]",
      "text/plain": [
       "plot without title"
      ]
     },
     "metadata": {
      "image/png": {
       "height": 420,
       "width": 420
      }
     },
     "output_type": "display_data"
    }
   ],
   "source": [
    "# 연속형 변수의 산점도 시각화\n",
    "plot(data$cost)"
   ]
  },
  {
   "cell_type": "code",
   "execution_count": 72,
   "id": "763e6ead-96b4-467f-963f-b2a8115278aa",
   "metadata": {},
   "outputs": [],
   "source": [
    "# 연속형 변수 범주화\n",
    "data$cost2[data$cost >= 1 & data$cost <=3 ] =  1\n",
    "data$cost2[data$cost >= 4 & data$cost <=6 ] =  2\n",
    "data$cost2[data$cost >= 7] =  3"
   ]
  },
  {
   "cell_type": "code",
   "execution_count": 73,
   "id": "fb4fa069-2070-4c62-af41-374139c99cdd",
   "metadata": {},
   "outputs": [
    {
     "data": {
      "text/plain": [
       "\n",
       "  1   2   3 \n",
       "  9 144  15 "
      ]
     },
     "metadata": {},
     "output_type": "display_data"
    }
   ],
   "source": [
    "table(data$cost2)"
   ]
  },
  {
   "cell_type": "code",
   "execution_count": 75,
   "id": "6f01a22d-0023-486a-a084-68718fe52480",
   "metadata": {},
   "outputs": [
    {
     "data": {
      "image/png": "[encoded data removed]",
      "text/plain": [
       "plot without title"
      ]
     },
     "metadata": {
      "image/png": {
       "height": 420,
       "width": 420
      }
     },
     "output_type": "display_data"
    }
   ],
   "source": [
    "par(mfrow = c(1,2)) # 1행 2열\n",
    "barplot(table(data$cost2)) # 막대차트 시각화\n",
    "pie(table(data$cost2)) # 파이차트 시각화"
   ]
  },
  {
   "cell_type": "markdown",
   "id": "06c8f38e-d6cc-4195-917a-b70d5985933a",
   "metadata": {},
   "source": [
    "---"
   ]
  },
  {
   "cell_type": "markdown",
   "id": "6c524118-9c3a-4f60-b4c8-5369959f2e6b",
   "metadata": {},
   "source": [
    "- 비대칭도 구학\n",
    "  - 비대칭도는 데이터의 분포가 정규분포를 갖는지를 알기 위해 이용하여 왜도와 첨도의 통계량을 사용한다.\n",
    "  - 왜도 : 평균을 중심으로 하는 확률분포의 비대칭 정도\n",
    "  - 첨도 : 표준정규분포와 비교하여 얼마나 뾰족한가를 나타내는 정도"
   ]
  },
  {
   "cell_type": "code",
   "execution_count": 76,
   "id": "20ecee12-5cd5-41f1-85ed-1a6bec38d376",
   "metadata": {},
   "outputs": [
    {
     "name": "stdout",
     "output_type": "stream",
     "text": [
      "package 'moments' successfully unpacked and MD5 sums checked\n",
      "\n",
      "The downloaded binary packages are in\n",
      "\tC:\\Users\\ehfus\\AppData\\Local\\Temp\\RtmpkrGJAd\\downloaded_packages\n"
     ]
    }
   ],
   "source": [
    "# 왜도와 첨도 사용을 위한 패키지 설치\n",
    "install.packages('moments')"
   ]
  },
  {
   "cell_type": "code",
   "execution_count": 77,
   "id": "2b0c01bf-88b3-4b11-b2e8-7f929d7a5194",
   "metadata": {},
   "outputs": [],
   "source": [
    "library(moments)\n",
    "cost=data$cost"
   ]
  },
  {
   "cell_type": "code",
   "execution_count": 81,
   "id": "74576586-98af-49cd-b269-4ddb3e312500",
   "metadata": {},
   "outputs": [
    {
     "data": {
      "text/html": [
       "-0.297490798484923"
      ],
      "text/latex": [
       "-0.297490798484923"
      ],
      "text/markdown": [
       "-0.297490798484923"
      ],
      "text/plain": [
       "[1] -0.2974908"
      ]
     },
     "metadata": {},
     "output_type": "display_data"
    }
   ],
   "source": [
    "# 왜도 구하기\n",
    "skewness(cost)\n",
    "# 0보다 작기 때문에 왼쪽 방향으로 비대칭 꼬리가 치우친다."
   ]
  },
  {
   "cell_type": "markdown",
   "id": "68b1a82d-2344-4136-b055-032161ec378b",
   "metadata": {},
   "source": [
    "- kurtosis() 함수에서는 첨도 식에서 -3을 적용하지 않았으므로, 정규분포 첨도는 3이 된다. \n",
    "- 따라서 표준정규분포와 비교하여 첨도가 3이면 정규분포 곡선을 이루고, 첨도가 3보다 크면 정규분포보다 뾰족한 형태, 3보다 작으면 정규분포보다 완만한 형태의 분포를 갖는다."
   ]
  },
  {
   "cell_type": "code",
   "execution_count": 83,
   "id": "36b36d80-54f8-4c52-b413-d65db44566a4",
   "metadata": {},
   "outputs": [
    {
     "data": {
      "text/html": [
       "2.68343829304508"
      ],
      "text/latex": [
       "2.68343829304508"
      ],
      "text/markdown": [
       "2.68343829304508"
      ],
      "text/plain": [
       "[1] 2.683438"
      ]
     },
     "metadata": {},
     "output_type": "display_data"
    }
   ],
   "source": [
    "# 첨도 구하기\n",
    "kurtosis(cost)"
   ]
  },
  {
   "cell_type": "code",
   "execution_count": 84,
   "id": "57396e9f-9435-4ee9-ace6-d4c028fc086e",
   "metadata": {},
   "outputs": [
    {
     "data": {
      "image/png": "[encoded data removed]",
      "text/plain": [
       "Plot with title \"Histogram of cost\""
      ]
     },
     "metadata": {
      "image/png": {
       "height": 420,
       "width": 420
      }
     },
     "output_type": "display_data"
    }
   ],
   "source": [
    "# 히스토그램으로 왜도와 첨도 확인\n",
    "hist(cost)"
   ]
  },
  {
   "cell_type": "markdown",
   "id": "56bc6eab-fe54-4bd7-8041-95b3a62dfb4d",
   "metadata": {},
   "source": [
    "- 히스토그램에 정규분포 곡선을 추가하여 왜도와 첨도의 통계량을 확인해보자"
   ]
  },
  {
   "cell_type": "code",
   "execution_count": 88,
   "id": "51a8d9ab-096e-4e39-a668-52ecc8479939",
   "metadata": {},
   "outputs": [
    {
     "data": {
      "image/png": "[encoded data removed]",
      "text/plain": [
       "Plot with title \"Histogram of cost\""
      ]
     },
     "metadata": {
      "image/png": {
       "height": 420,
       "width": 420
      }
     },
     "output_type": "display_data"
    }
   ],
   "source": [
    "hist(cost, freq =F) # 히스토그램의 계급을 빈도가 아닌 확률 밀도로 표현\n",
    "lines(density(cost), col='blue') # cost의 밀도분포 곡선 추가\n",
    "x = seq(0,8,0.1) # 0~8 범위에서 0.1씩 증가하는 벡터 생성\n",
    "curve(dnorm(x,mean(cost)),col='red',add=T) # 정규분포 확률 밀도 함수를 이용하여 정규 분포 곡선 추가"
   ]
  },
  {
   "cell_type": "markdown",
   "id": "446e7ce0-74dd-4424-a263-221992ec2e96",
   "metadata": {},
   "source": [
    "- 정규분포 확률 밀도가 적용된 정규분포 곡선을 빨간색으로 추가했을 때 정규분포 곡선과 밀도분포 곡선을 비교했더니 cost의 첨도는 정규분포보다 다소 낮고, 왜도는 음의 비대칭도를 나타내고 있다."
   ]
  },
  {
   "cell_type": "markdown",
   "id": "44636935-4986-4bd7-8de3-5b33827b11bd",
   "metadata": {},
   "source": [
    "---"
   ]
  },
  {
   "cell_type": "markdown",
   "id": "c3405ec8-94b4-4751-b466-cacc25abddb5",
   "metadata": {},
   "source": [
    "- attach()와 detach() 함수로 기술통계량 구하기"
   ]
  },
  {
   "cell_type": "code",
   "execution_count": 89,
   "id": "10b027a5-4146-43fa-bf73-6ef6c78770c9",
   "metadata": {},
   "outputs": [
    {
     "name": "stderr",
     "output_type": "stream",
     "text": [
      "The following objects are masked _by_ .GlobalEnv:\n",
      "\n",
      "    cost, survey\n",
      "\n",
      "\n"
     ]
    }
   ],
   "source": [
    "attach(data) # 이렇게 하면 data$ 이런식으로 사용하지 않아도 됨"
   ]
  },
  {
   "cell_type": "code",
   "execution_count": 90,
   "id": "06a82f5e-5812-4cd9-9971-b3b8fd987de6",
   "metadata": {},
   "outputs": [
    {
     "data": {
      "text/html": [
       "251"
      ],
      "text/latex": [
       "251"
      ],
      "text/markdown": [
       "251"
      ],
      "text/plain": [
       "[1] 251"
      ]
     },
     "metadata": {},
     "output_type": "display_data"
    }
   ],
   "source": [
    "length(cost)"
   ]
  },
  {
   "cell_type": "markdown",
   "id": "22a34b14-219a-4579-865d-7d43c834b3f8",
   "metadata": {},
   "source": [
    "- 원래는 length(data\\$cost)이런 식으로 사용했어야 하는데 attach()함수를 통해서 length(cost)로 사용 가능하다.\n",
    "- 해제하려면 아래와 같이 입력해준다"
   ]
  },
  {
   "cell_type": "code",
   "execution_count": 91,
   "id": "76bff293-473d-4372-a106-bbc3b2a0fd79",
   "metadata": {},
   "outputs": [],
   "source": [
    "detach(data)"
   ]
  },
  {
   "cell_type": "markdown",
   "id": "61964828-072d-476b-bbf1-3fb87e6c62b0",
   "metadata": {},
   "source": [
    "---"
   ]
  },
  {
   "cell_type": "markdown",
   "id": "ca5d145b-20b3-4cc2-bf8f-b16eff5449a5",
   "metadata": {},
   "source": [
    "- NA가 있는 경우 제거한 뒤에 기술통계량 구하기"
   ]
  },
  {
   "cell_type": "code",
   "execution_count": 94,
   "id": "61bf16c5-91d7-4089-8b5f-2d9bcc5e0791",
   "metadata": {},
   "outputs": [
    {
     "data": {
      "text/html": [
       "&lt;NA&gt;"
      ],
      "text/latex": [
       "<NA>"
      ],
      "text/markdown": [
       "&lt;NA&gt;"
      ],
      "text/plain": [
       "[1] NA"
      ]
     },
     "metadata": {},
     "output_type": "display_data"
    },
    {
     "data": {
      "text/html": [
       "&lt;NA&gt;"
      ],
      "text/latex": [
       "<NA>"
      ],
      "text/markdown": [
       "&lt;NA&gt;"
      ],
      "text/plain": [
       "[1] NA"
      ]
     },
     "metadata": {},
     "output_type": "display_data"
    },
    {
     "data": {
      "text/html": [
       "<style>\n",
       ".list-inline {list-style: none; margin:0; padding: 0}\n",
       ".list-inline>li {display: inline-block}\n",
       ".list-inline>li:not(:last-child)::after {content: \"\\00b7\"; padding: 0 .5ex}\n",
       "</style>\n",
       "<ol class=list-inline><li>&lt;NA&gt;</li><li>&lt;NA&gt;</li></ol>\n"
      ],
      "text/latex": [
       "\\begin{enumerate*}\n",
       "\\item <NA>\n",
       "\\item <NA>\n",
       "\\end{enumerate*}\n"
      ],
      "text/markdown": [
       "1. &lt;NA&gt;\n",
       "2. &lt;NA&gt;\n",
       "\n",
       "\n"
      ],
      "text/plain": [
       "[1] NA NA"
      ]
     },
     "metadata": {},
     "output_type": "display_data"
    },
    {
     "data": {
      "text/html": [
       "&lt;NA&gt;"
      ],
      "text/latex": [
       "<NA>"
      ],
      "text/markdown": [
       "&lt;NA&gt;"
      ],
      "text/plain": [
       "[1] NA"
      ]
     },
     "metadata": {},
     "output_type": "display_data"
    }
   ],
   "source": [
    "# NA가 있으면 error가 발생하는 함수\n",
    "test = c(1:5,NA,10:20)\n",
    "min(test)\n",
    "max(test)\n",
    "range(test)\n",
    "mean(test)"
   ]
  },
  {
   "cell_type": "markdown",
   "id": "63d0a113-cbeb-41e9-a792-37c12311442c",
   "metadata": {},
   "source": [
    "- 이때 NA를 제거해주려면 na.rm=T를 추가 입력해주면 된다. "
   ]
  },
  {
   "cell_type": "markdown",
   "id": "f3b2b7ec-ad8d-4278-9ecc-39f238764980",
   "metadata": {},
   "source": [
    "---"
   ]
  },
  {
   "cell_type": "markdown",
   "id": "07c0954e-5dd7-4bc8-9acc-9ce6b46ad595",
   "metadata": {},
   "source": [
    "- 기술 통계량 보고서 작성\n",
    "  - 설문 조사한 결과를 토대로 논문이나 보고서를 작성하는 경우에는 응답자의 인구통계학적 특성을 반드시 제시해야 한다."
   ]
  },
  {
   "cell_type": "markdown",
   "id": "4b613779-ee0f-4062-86a4-0b60d4e4d717",
   "metadata": {},
   "source": [
    "- 1) 기술통계량 구하기\n",
    "  - 표본의 인구통계학적 특성을 제시하는 데 필요한 기술통계량을 준비한다.\n",
    "  - 인구통계학적 특성에 해당하는 변수 들을 대상으로 먼저 보고서의 가독성을 높이기 위해서 리코딩한다."
   ]
  },
  {
   "cell_type": "code",
   "execution_count": 96,
   "id": "a0c0b356-f195-4c47-98c9-851ce95f999c",
   "metadata": {},
   "outputs": [
    {
     "data": {
      "text/plain": [
       "\n",
       "광역시 시구군 \n",
       "   200     34 "
      ]
     },
     "metadata": {},
     "output_type": "display_data"
    },
    {
     "data": {
      "text/plain": [
       "\n",
       "   광역시    시구군 \n",
       "0.8547009 0.1452991 "
      ]
     },
     "metadata": {},
     "output_type": "display_data"
    },
    {
     "data": {
      "text/plain": [
       "\n",
       "광역시 시구군 \n",
       " 85.47  14.53 "
      ]
     },
     "metadata": {},
     "output_type": "display_data"
    }
   ],
   "source": [
    "# 1단계 > 거주지역 변수의 리코딩과 비율 계산\n",
    "data$resident2[data$resident == 1] = '특별시'\n",
    "data$resident2[data$resident >= 1 & data$resident <= 4] = '광역시'\n",
    "data$resident2[data$resident == 5] = '시구군'\n",
    "\n",
    "x = table(data$resident2)\n",
    "x\n",
    "\n",
    "# 이 table을 비율 계산해보자\n",
    "y = prop.table(x)\n",
    "y\n",
    "\n",
    "# 백분율 적용\n",
    "round(y * 100, 2) "
   ]
  },
  {
   "cell_type": "code",
   "execution_count": 99,
   "id": "60f532aa-3feb-4bdf-a34e-451bd92487e8",
   "metadata": {},
   "outputs": [
    {
     "data": {
      "text/html": [
       "<table class=\"dataframe\">\n",
       "<caption>A data.frame: 2 × 10</caption>\n",
       "<thead>\n",
       "\t<tr><th></th><th scope=col>resident</th><th scope=col>gender</th><th scope=col>age</th><th scope=col>level</th><th scope=col>cost</th><th scope=col>type</th><th scope=col>survey</th><th scope=col>pass</th><th scope=col>cost2</th><th scope=col>resident2</th></tr>\n",
       "\t<tr><th></th><th scope=col>&lt;int&gt;</th><th scope=col>&lt;int&gt;</th><th scope=col>&lt;int&gt;</th><th scope=col>&lt;int&gt;</th><th scope=col>&lt;dbl&gt;</th><th scope=col>&lt;int&gt;</th><th scope=col>&lt;int&gt;</th><th scope=col>&lt;int&gt;</th><th scope=col>&lt;dbl&gt;</th><th scope=col>&lt;chr&gt;</th></tr>\n",
       "</thead>\n",
       "<tbody>\n",
       "\t<tr><th scope=row>1</th><td>1</td><td>1</td><td>50</td><td>1</td><td>5.1</td><td>1</td><td>1</td><td>2</td><td>2</td><td>광역시</td></tr>\n",
       "\t<tr><th scope=row>2</th><td>2</td><td>1</td><td>54</td><td>2</td><td>4.2</td><td>1</td><td>2</td><td>2</td><td>2</td><td>광역시</td></tr>\n",
       "</tbody>\n",
       "</table>\n"
      ],
      "text/latex": [
       "A data.frame: 2 × 10\n",
       "\\begin{tabular}{r|llllllllll}\n",
       "  & resident & gender & age & level & cost & type & survey & pass & cost2 & resident2\\\\\n",
       "  & <int> & <int> & <int> & <int> & <dbl> & <int> & <int> & <int> & <dbl> & <chr>\\\\\n",
       "\\hline\n",
       "\t1 & 1 & 1 & 50 & 1 & 5.1 & 1 & 1 & 2 & 2 & 광역시\\\\\n",
       "\t2 & 2 & 1 & 54 & 2 & 4.2 & 1 & 2 & 2 & 2 & 광역시\\\\\n",
       "\\end{tabular}\n"
      ],
      "text/markdown": [
       "\n",
       "A data.frame: 2 × 10\n",
       "\n",
       "| <!--/--> | resident &lt;int&gt; | gender &lt;int&gt; | age &lt;int&gt; | level &lt;int&gt; | cost &lt;dbl&gt; | type &lt;int&gt; | survey &lt;int&gt; | pass &lt;int&gt; | cost2 &lt;dbl&gt; | resident2 &lt;chr&gt; |\n",
       "|---|---|---|---|---|---|---|---|---|---|---|\n",
       "| 1 | 1 | 1 | 50 | 1 | 5.1 | 1 | 1 | 2 | 2 | 광역시 |\n",
       "| 2 | 2 | 1 | 54 | 2 | 4.2 | 1 | 2 | 2 | 2 | 광역시 |\n",
       "\n"
      ],
      "text/plain": [
       "  resident gender age level cost type survey pass cost2 resident2\n",
       "1 1        1      50  1     5.1  1    1      2    2     광역시   \n",
       "2 2        1      54  2     4.2  1    2      2    2     광역시   "
      ]
     },
     "metadata": {},
     "output_type": "display_data"
    }
   ],
   "source": [
    "head(data,2)"
   ]
  },
  {
   "cell_type": "markdown",
   "id": "e60a117e-1208-4c91-bf63-0e512a98bd53",
   "metadata": {},
   "source": [
    "- 이런식으로 gender,age 등의 칼럼에 동일하게 적용해줄 수 있다. \n",
    "- 이렇게 논문이나 보고서에서 연구 환경을 제시하기 위해서 인구통계학적 변수들을 대상으로 가독성을 높이기 위해서 리코딩하고 , 빈도분석과 기술통계분석을 통해서 기술통계량을 구하는 과정이다.\n",
    "- 빈도분석과 기술통계분석을 통해서 구해진 기초통계량을 표본의 인구통계적 특성으로 제시하기 위해서 표본의 인구통계적 특성 결과표를 작성한다. "
   ]
  }
 ],
 "metadata": {
  "kernelspec": {
   "display_name": "R",
   "language": "R",
   "name": "ir"
  },
  "language_info": {
   "codemirror_mode": "r",
   "file_extension": ".r",
   "mimetype": "text/x-r-source",
   "name": "R",
   "pygments_lexer": "r",
   "version": "4.0.5"
  }
 },
 "nbformat": 4,
 "nbformat_minor": 5
}
