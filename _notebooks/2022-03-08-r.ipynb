{
 "cells": [
  {
   "cell_type": "markdown",
   "id": "d0b479f0-a575-46c7-9d1f-1582e7d7ce7f",
   "metadata": {},
   "source": [
    "# 정형 데이터 처리(해결 안 된 부분 있음)"
   ]
  },
  {
   "cell_type": "code",
   "execution_count": 2,
   "id": "7e44fbea-aa44-4ba8-844b-d5f1920a445c",
   "metadata": {},
   "outputs": [],
   "source": [
    "library(DBI)\n",
    "Sys.setenv(JAVA_HOME = 'C:\\\\Program Files\\\\Java\\\\jdk-17.0.2')"
   ]
  },
  {
   "cell_type": "code",
   "execution_count": 7,
   "id": "894635c9-2d3c-4c84-83ed-fc3f4049cf99",
   "metadata": {},
   "outputs": [
    {
     "name": "stdout",
     "output_type": "stream",
     "text": [
      "package 'rJava' successfully unpacked and MD5 sums checked\n",
      "\n",
      "The downloaded binary packages are in\n",
      "\tC:\\Users\\ehfus\\AppData\\Local\\Temp\\Rtmp4yAV8P\\downloaded_packages\n"
     ]
    },
    {
     "name": "stderr",
     "output_type": "stream",
     "text": [
      "The install-github.me service is deprecated, please stop using it.\n",
      "\n",
      "Downloading GitHub repo talgalili/installr@master\n",
      "\n"
     ]
    },
    {
     "name": "stdout",
     "output_type": "stream",
     "text": [
      "glue     (1.4.2 -> 1.6.2) [c(name = \"glue\", repos = \"https://cran.r-project.org\", pkg_type = \"both\", sha = \"1.4.2\")]\n",
      "magrittr (2.0.1 -> 2.0.2) [c(name = \"magrittr\", repos = \"https://cran.r-project.org\", pkg_type = \"both\", sha = \"2.0.1\")]\n",
      "stringi  (1.7.4 -> 1.7.6) [c(name = \"stringi\", repos = \"https://cran.r-project.org\", pkg_type = \"both\", sha = \"1.7.4\")]\n"
     ]
    },
    {
     "name": "stderr",
     "output_type": "stream",
     "text": [
      "Installing 3 packages: glue, magrittr, stringi\n",
      "\n"
     ]
    },
    {
     "name": "stdout",
     "output_type": "stream",
     "text": [
      "package 'glue' successfully unpacked and MD5 sums checked\n",
      "package 'magrittr' successfully unpacked and MD5 sums checked\n",
      "package 'stringi' successfully unpacked and MD5 sums checked\n",
      "\n",
      "The downloaded binary packages are in\n",
      "\tC:\\Users\\ehfus\\AppData\\Local\\Temp\\Rtmp4yAV8P\\downloaded_packages\n"
     ]
    },
    {
     "name": "stderr",
     "output_type": "stream",
     "text": [
      "Running `R CMD build`...\n",
      "\n"
     ]
    },
    {
     "name": "stdout",
     "output_type": "stream",
     "text": [
      "* checking for file 'C:\\Users\\ehfus\\AppData\\Local\\Temp\\Rtmp4yAV8P\\remotes40d85168dd0\\talgalili-installr-abd6438/DESCRIPTION' ... OK\n",
      "* preparing 'installr':\n",
      "* checking DESCRIPTION meta-information ... OK\n",
      "* checking for LF line-endings in source and make files and shell scripts\n",
      "* checking for empty or unneeded directories\n",
      "Removed empty directory 'installr/data'\n",
      "* building 'installr_0.23.3.tar.gz'\n"
     ]
    }
   ],
   "source": [
    "install.packages(\"rJava\")\n",
    "source(\"https://install-github.me/talgalili/installr\")\n",
    "installr::install.java()"
   ]
  },
  {
   "cell_type": "code",
   "execution_count": 3,
   "id": "2a024cb7-9a93-4523-8f50-c217d1536489",
   "metadata": {},
   "outputs": [],
   "source": [
    "library(rJava)"
   ]
  },
  {
   "cell_type": "code",
   "execution_count": 4,
   "id": "9a8e4e22-1c2c-4621-bc36-e47d2afd4926",
   "metadata": {},
   "outputs": [],
   "source": [
    "library(RJDBC)"
   ]
  },
  {
   "cell_type": "markdown",
   "id": "2d4c3d8d-0e80-41d0-9a04-f6f5f69ca6c2",
   "metadata": {},
   "source": [
    "- RJDBC는 Java 언어로 만들어진 R 패키지 프로그램으로 DBSM에 연결하기 위해서 JDBC의 API를 지원한다. "
   ]
  },
  {
   "cell_type": "markdown",
   "id": "94b0c826-8ac3-43b0-824c-1ca44b0af1da",
   "metadata": {},
   "source": [
    "- R 스크립트에서 Oracle 데이터 추출\n",
    "  - R 스크립트를 이용하여 데이터베이스와 연동하기 위해서는 먼저 JDBC() 함수를 이용하여 해당 라이브러리를 가져와야 한다.\n",
    "  - 라이브러리를 가져오는 데 성공했으면, dbConnect() 함수의 형식을 이용하여 Oracle 데이터베이스와 연결한다."
   ]
  },
  {
   "cell_type": "code",
   "execution_count": 5,
   "id": "abe74307-74ff-4b93-95cb-e7d1974fedc6",
   "metadata": {},
   "outputs": [],
   "source": [
    "# 드라이버 로딩과 데이터베이스 연동\n",
    "drv = JDBC('oracle.jdbc.driver.OracleDriver', 'C:\\\\app\\\\ehfus\\\\product\\\\21c\\\\dbhomeXE\\\\jdbc\\\\lib\\\\ojdbc8.jar')"
   ]
  },
  {
   "cell_type": "code",
   "execution_count": 11,
   "id": "a9ac8a2b-6fed-4f18-a943-f292df170742",
   "metadata": {},
   "outputs": [],
   "source": [
    "# 오라클 데이터베이스 연결\n",
    "conn = dbConnect(drv, 'jdbc:oracle:thin:@//10.54.3.140:1521/xe','c##scott','tiger')"
   ]
  },
  {
   "cell_type": "markdown",
   "id": "dba4f61f-bdd7-4a66-b548-3edc2941b804",
   "metadata": {},
   "source": [
    "- 데이터베이스로부터 레코드 검색, 추가 , 수정, 삭제하기"
   ]
  },
  {
   "cell_type": "code",
   "execution_count": 17,
   "id": "af6ec187-6891-4ebc-b5cc-4b5600a0c338",
   "metadata": {},
   "outputs": [
    {
     "ename": "ERROR",
     "evalue": "Error in .verify.JDBC.result(r, \"Unable to retrieve JDBC result set\", : Unable to retrieve JDBC result set\n  JDBC ERROR: ORA-00942: 테이블 또는 뷰가 존재하지 않습니다\n\n  Statement: SELECT * FROM scott.test_table\n",
     "output_type": "error",
     "traceback": [
      "Error in .verify.JDBC.result(r, \"Unable to retrieve JDBC result set\", : Unable to retrieve JDBC result set\n  JDBC ERROR: ORA-00942: 테이블 또는 뷰가 존재하지 않습니다\n\n  Statement: SELECT * FROM scott.test_table\nTraceback:\n",
      "1. dbGetQuery(conn, query)",
      "2. dbGetQuery(conn, query)",
      "3. .local(conn, statement, ...)",
      "4. dbSendQuery(conn, statement, ...)",
      "5. dbSendQuery(conn, statement, ...)",
      "6. .local(conn, statement, ...)",
      "7. .verify.JDBC.result(r, \"Unable to retrieve JDBC result set\", \n .     statement = statement)",
      "8. stop(..., \"\\n  JDBC ERROR: \", .jcall(x, \"S\", \"getMessage\"), statement)"
     ]
    }
   ],
   "source": [
    "query = 'SELECT * FROM scott.test_table'\n",
    "dbGetQuery(conn, query)"
   ]
  },
  {
   "cell_type": "markdown",
   "id": "1d5ee066-5364-466d-848a-95f21472be33",
   "metadata": {},
   "source": [
    "- 도저히 해결이 안 되므로 일단 보류"
   ]
  }
 ],
 "metadata": {
  "kernelspec": {
   "display_name": "R",
   "language": "R",
   "name": "ir"
  },
  "language_info": {
   "codemirror_mode": "r",
   "file_extension": ".r",
   "mimetype": "text/x-r-source",
   "name": "R",
   "pygments_lexer": "r",
   "version": "4.0.5"
  }
 },
 "nbformat": 4,
 "nbformat_minor": 5
}
