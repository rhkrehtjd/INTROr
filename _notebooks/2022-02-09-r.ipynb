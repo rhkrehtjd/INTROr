{
 "cells": [
  {
   "cell_type": "markdown",
   "id": "ca9bdbae-18d2-4178-be73-31cd8b68519f",
   "metadata": {},
   "source": [
    "# 연산자, 조건문, 반복문, 함수, 몬테카를로 함수"
   ]
  },
  {
   "cell_type": "markdown",
   "id": "5fedcffd-ccf2-4671-8db2-36a03048e21e",
   "metadata": {},
   "source": [
    "- 산술연산자"
   ]
  },
  {
   "cell_type": "code",
   "execution_count": 1,
   "id": "37184843-6c6e-44cf-8a77-e7917aced5f7",
   "metadata": {},
   "outputs": [
    {
     "data": {
      "text/html": [
       "2.5"
      ],
      "text/latex": [
       "2.5"
      ],
      "text/markdown": [
       "2.5"
      ],
      "text/plain": [
       "[1] 2.5"
      ]
     },
     "metadata": {},
     "output_type": "display_data"
    }
   ],
   "source": [
    "5/2"
   ]
  },
  {
   "cell_type": "code",
   "execution_count": 5,
   "id": "edce1ea1-2e98-4bcb-89b5-ada8d4e597fc",
   "metadata": {},
   "outputs": [
    {
     "data": {
      "text/html": [
       "1"
      ],
      "text/latex": [
       "1"
      ],
      "text/markdown": [
       "1"
      ],
      "text/plain": [
       "[1] 1"
      ]
     },
     "metadata": {},
     "output_type": "display_data"
    }
   ],
   "source": [
    "# 나머지\n",
    "5%%2"
   ]
  },
  {
   "cell_type": "code",
   "execution_count": 12,
   "id": "c5604240-bb62-4eda-9eb3-73e2929301da",
   "metadata": {},
   "outputs": [
    {
     "data": {
      "text/html": [
       "25"
      ],
      "text/latex": [
       "25"
      ],
      "text/markdown": [
       "25"
      ],
      "text/plain": [
       "[1] 25"
      ]
     },
     "metadata": {},
     "output_type": "display_data"
    },
    {
     "data": {
      "text/html": [
       "25"
      ],
      "text/latex": [
       "25"
      ],
      "text/markdown": [
       "25"
      ],
      "text/plain": [
       "[1] 25"
      ]
     },
     "metadata": {},
     "output_type": "display_data"
    }
   ],
   "source": [
    "5^2\n",
    "5**2"
   ]
  },
  {
   "cell_type": "markdown",
   "id": "5ac89035-a980-42ad-8ae1-aa2d1b3a2d79",
   "metadata": {},
   "source": [
    "- 파이썬에서는...\n",
    "```python\n",
    "5//2 => 몫\n",
    "5%2 => 나머지\n",
    "5**2 => 제곱\n",
    "```"
   ]
  },
  {
   "cell_type": "code",
   "execution_count": 14,
   "id": "90efe1f7-e6f9-4aed-a6e2-21dcf420afa0",
   "metadata": {},
   "outputs": [
    {
     "data": {
      "text/html": [
       "1e+40"
      ],
      "text/latex": [
       "1e+40"
      ],
      "text/markdown": [
       "1e+40"
      ],
      "text/plain": [
       "[1] 1e+40"
      ]
     },
     "metadata": {},
     "output_type": "display_data"
    }
   ],
   "source": [
    "100^20"
   ]
  },
  {
   "cell_type": "markdown",
   "id": "faff1455-d50b-4955-a904-b68a0379fcee",
   "metadata": {},
   "source": [
    "- 1e+40 => 1뒤에 40개의 0이 있다는 표현으로 아주 큰 값을 표기해야 하는 경우"
   ]
  },
  {
   "cell_type": "markdown",
   "id": "b9ac9c94-cfb9-41c8-b1aa-c082c5ad8a68",
   "metadata": {},
   "source": [
    "---"
   ]
  },
  {
   "cell_type": "markdown",
   "id": "3d3044ae-c804-4e91-8e31-064500d34a0f",
   "metadata": {},
   "source": [
    "- 관계연산자는 파이썬과 동일하다\n",
    "  - ==,!=,<,>,<=,>="
   ]
  },
  {
   "cell_type": "markdown",
   "id": "754fc09d-7b38-469d-9eb8-077124d8e01a",
   "metadata": {},
   "source": [
    "---"
   ]
  },
  {
   "cell_type": "markdown",
   "id": "10f35a87-3051-4171-9076-e34a7c9d927a",
   "metadata": {},
   "source": [
    "- 논리연산자\n",
    "  - 산술연산자와 관계연산자를 이용한 논리식이 참이면 TRUE 거짓이면 FALSE를 반환\n",
    "  - &,|"
   ]
  },
  {
   "cell_type": "code",
   "execution_count": 16,
   "id": "bc8990bf-ada6-4832-b856-68c33c7a1010",
   "metadata": {},
   "outputs": [
    {
     "data": {
      "text/html": [
       "FALSE"
      ],
      "text/latex": [
       "FALSE"
      ],
      "text/markdown": [
       "FALSE"
      ],
      "text/plain": [
       "[1] FALSE"
      ]
     },
     "metadata": {},
     "output_type": "display_data"
    }
   ],
   "source": [
    "!(100>=50)\n",
    "# 괄호 안의 관계식 판단 결과에 대한 부정"
   ]
  },
  {
   "cell_type": "code",
   "execution_count": 18,
   "id": "22fc6da5-bc76-43d4-8d7c-8958035c5e11",
   "metadata": {},
   "outputs": [
    {
     "data": {
      "text/html": [
       "TRUE"
      ],
      "text/latex": [
       "TRUE"
      ],
      "text/markdown": [
       "TRUE"
      ],
      "text/plain": [
       "[1] TRUE"
      ]
     },
     "metadata": {},
     "output_type": "display_data"
    }
   ],
   "source": [
    "x=TRUE;y=FALSE\n",
    "# 배타적 논리합을 연산하는 xor() 함수는 두 논리적인 값이 상반되는 경우 TRUE를 반환하고, 같으면 FALSE를 반환한다.\n",
    "xor(x,y)"
   ]
  },
  {
   "cell_type": "markdown",
   "id": "667be218-a952-4bb3-89bb-539c90168259",
   "metadata": {},
   "source": [
    "---"
   ]
  },
  {
   "cell_type": "markdown",
   "id": "91a7cb1e-acf3-4adb-b121-2eb9fa88cc22",
   "metadata": {},
   "source": [
    "- 조건문"
   ]
  },
  {
   "cell_type": "markdown",
   "id": "1878b288-f545-45a7-a359-8ed40e91cffa",
   "metadata": {},
   "source": [
    "1) if() 함수\n",
    "  - 비교판단문을 작성할 수 있다."
   ]
  },
  {
   "cell_type": "code",
   "execution_count": 25,
   "id": "37eabba6-8958-4c37-be2b-90069cc9adab",
   "metadata": {},
   "outputs": [
    {
     "name": "stdout",
     "output_type": "stream",
     "text": [
      "x*y의 결과는 40이상입니다.\n",
      "x*y= 200"
     ]
    }
   ],
   "source": [
    "x=50;y=4;z=x*y\n",
    "if(x*y>=40){\n",
    "    cat('x*y의 결과는 40이상입니다.\\n')\n",
    "    cat('x*y=',z)\n",
    "}else{\n",
    "    cat('x*y의 결과는 40미만입니다. x*y = ',z)\n",
    "}"
   ]
  },
  {
   "cell_type": "markdown",
   "id": "9bacfd08-7abf-439f-81d1-b56b2fa9f4c7",
   "metadata": {},
   "source": [
    "- cat은 format과 print와 유사한 출력함수이다.\n",
    "- 동일하진 않고 일부 차이가 있는 것으로 보인다."
   ]
  },
  {
   "cell_type": "code",
   "execution_count": 29,
   "id": "97f8387f-54fa-475a-9be5-39f843f3e869",
   "metadata": {},
   "outputs": [
    {
     "name": "stdout",
     "output_type": "stream",
     "text": [
      "당신의 학점은 노력필요 79"
     ]
    }
   ],
   "source": [
    "score=79;result='노력'\n",
    "if(score>=80){\n",
    "    result<-'우수'\n",
    "    }else{\n",
    "    result='노력필요'}\n",
    "cat('당신의 학점은',result,score)"
   ]
  },
  {
   "cell_type": "code",
   "execution_count": 30,
   "id": "2b427880-ba3d-4a8b-92e2-76475e14105d",
   "metadata": {},
   "outputs": [
    {
     "data": {
      "text/html": [
       "'노력필요'"
      ],
      "text/latex": [
       "'노력필요'"
      ],
      "text/markdown": [
       "'노력필요'"
      ],
      "text/plain": [
       "[1] \"노력필요\""
      ]
     },
     "metadata": {},
     "output_type": "display_data"
    }
   ],
   "source": [
    "result"
   ]
  },
  {
   "cell_type": "code",
   "execution_count": 31,
   "id": "bd6e5a7a-caed-490d-8cff-e728bdfbeb06",
   "metadata": {},
   "outputs": [],
   "source": [
    "score=90\n",
    "\n",
    "if(score>=90){\n",
    "    result='a'\n",
    "    }else if(score>=80){\n",
    "    result='b'\n",
    "    }else if(score>=70){\n",
    "    result='c'}"
   ]
  },
  {
   "cell_type": "code",
   "execution_count": 32,
   "id": "3600d029-7727-4894-b6ec-26bb6bb03faa",
   "metadata": {},
   "outputs": [
    {
     "name": "stdout",
     "output_type": "stream",
     "text": [
      "당신의 학점은 a"
     ]
    }
   ],
   "source": [
    "cat('당신의 학점은',result)"
   ]
  },
  {
   "cell_type": "markdown",
   "id": "4643b46a-530c-4828-8179-8fa66629b4f2",
   "metadata": {},
   "source": [
    "- 파이썬에서는 else if가 아니라 elif였음"
   ]
  },
  {
   "cell_type": "markdown",
   "id": "3c244978-a27c-4190-91a3-fce7ed4f8785",
   "metadata": {},
   "source": [
    "---"
   ]
  },
  {
   "cell_type": "markdown",
   "id": "b1393aa8-1c84-4b30-aed7-43ab717fd1e3",
   "metadata": {},
   "source": [
    "- ifelse(조건식, 참인경우일때 처리문, 거짓인 경우일 때의 처리문)"
   ]
  },
  {
   "cell_type": "code",
   "execution_count": 33,
   "id": "f98d549a-48a4-414a-ae78-2c0dbb43fb8c",
   "metadata": {},
   "outputs": [
    {
     "data": {
      "text/html": [
       "'우수'"
      ],
      "text/latex": [
       "'우수'"
      ],
      "text/markdown": [
       "'우수'"
      ],
      "text/plain": [
       "[1] \"우수\""
      ]
     },
     "metadata": {},
     "output_type": "display_data"
    }
   ],
   "source": [
    "score=90\n",
    "\n",
    "ifelse(score>=80,'우수','노력')"
   ]
  },
  {
   "cell_type": "markdown",
   "id": "f152ad2f-cde5-489e-89d7-ee5f57d2ad23",
   "metadata": {},
   "source": [
    "- ifelse의 조건식에서, a>=2 & a<=4 이런식으로 논리 연산자 사용 가능하다"
   ]
  },
  {
   "cell_type": "markdown",
   "id": "bdadd372-d04a-4177-b6b6-7aed186b020a",
   "metadata": {},
   "source": [
    "---"
   ]
  },
  {
   "cell_type": "markdown",
   "id": "b120900e-89dd-43fc-a12e-346f4f99e316",
   "metadata": {},
   "source": [
    "- switch() 함수\n",
    "  - 비교 문장의 내용에 따라서 여러 개의 실행 문장 중 하나를 선택할 수 있도록 프로그램을 작성할 수 있다.\n",
    "  - swtich(비교문, 실행문1[,실행문2,실행문3,...])"
   ]
  },
  {
   "cell_type": "markdown",
   "id": "94e89eba-dfb4-4766-9000-dc8e3943174b",
   "metadata": {},
   "source": [
    "- 비교문 위치에 있는 변수의 이름이 실행문 위치에 있는 변수의 이름과 일치할 때 일치하는 변수에 할당된 값을 출력한다."
   ]
  },
  {
   "cell_type": "code",
   "execution_count": 34,
   "id": "8525d6d7-f8c3-43ce-bfd7-bbfcad6cd3f8",
   "metadata": {},
   "outputs": [
    {
     "data": {
      "text/html": [
       "'awf'"
      ],
      "text/latex": [
       "'awf'"
      ],
      "text/markdown": [
       "'awf'"
      ],
      "text/plain": [
       "[1] \"awf\""
      ]
     },
     "metadata": {},
     "output_type": "display_data"
    }
   ],
   "source": [
    "switch('name',id='a',age=32,name='awf')"
   ]
  },
  {
   "cell_type": "markdown",
   "id": "ba572f6e-9e6e-40c0-bb5c-59b3a588a60b",
   "metadata": {},
   "source": [
    "---"
   ]
  },
  {
   "cell_type": "markdown",
   "id": "cef63bed-29a9-4d8a-9883-6179babb2b05",
   "metadata": {},
   "source": [
    "- which()\n",
    "  - 벡터 객체를 대상으로 특정 데이터를 검색하는 데 사용되는 함수 이다."
   ]
  },
  {
   "cell_type": "code",
   "execution_count": 41,
   "id": "6c593733-6ff0-4839-805e-c3f46fe53020",
   "metadata": {},
   "outputs": [
    {
     "data": {
      "text/html": [
       "<style>\n",
       ".list-inline {list-style: none; margin:0; padding: 0}\n",
       ".list-inline>li {display: inline-block}\n",
       ".list-inline>li:not(:last-child)::after {content: \"\\00b7\"; padding: 0 .5ex}\n",
       "</style>\n",
       "<ol class=list-inline><li>1</li><li>2</li><li>4</li></ol>\n"
      ],
      "text/latex": [
       "\\begin{enumerate*}\n",
       "\\item 1\n",
       "\\item 2\n",
       "\\item 4\n",
       "\\end{enumerate*}\n"
      ],
      "text/markdown": [
       "1. 1\n",
       "2. 2\n",
       "3. 4\n",
       "\n",
       "\n"
      ],
      "text/plain": [
       "[1] 1 2 4"
      ]
     },
     "metadata": {},
     "output_type": "display_data"
    },
    {
     "data": {
      "text/html": [
       "2"
      ],
      "text/latex": [
       "2"
      ],
      "text/markdown": [
       "2"
      ],
      "text/plain": [
       "[1] 2"
      ]
     },
     "metadata": {},
     "output_type": "display_data"
    }
   ],
   "source": [
    "name=c('a1','a2','a3','a4')\n",
    "which(name!='a3')\n",
    "which(name=='a2')"
   ]
  },
  {
   "cell_type": "code",
   "execution_count": 38,
   "id": "2518669f-14bb-4799-833c-468345eb58ce",
   "metadata": {},
   "outputs": [
    {
     "data": {
      "text/html": [],
      "text/latex": [],
      "text/markdown": [],
      "text/plain": [
       "integer(0)"
      ]
     },
     "metadata": {},
     "output_type": "display_data"
    }
   ],
   "source": [
    "\n",
    "which(name=='a5')"
   ]
  },
  {
   "cell_type": "markdown",
   "id": "6bee56d1-43f7-4b50-9b6f-682828e0abf5",
   "metadata": {},
   "source": [
    "- 조건식의 결과가 참인 벡터 원소의 위치(인덱스)가 출력되며, 조건식의 결과가 거짓이면 0이 출력된다.\n",
    "  - btw 거짓이면 아무것도 출력되지 않는 것 같다."
   ]
  },
  {
   "cell_type": "markdown",
   "id": "4ddf38a4-2b8e-4e42-8da2-ec46780eecc1",
   "metadata": {},
   "source": [
    "- data.frame에서 활용해보자"
   ]
  },
  {
   "cell_type": "code",
   "execution_count": 43,
   "id": "259bd528-eeee-439b-9908-e31bf546e416",
   "metadata": {},
   "outputs": [
    {
     "data": {
      "text/html": [
       "<table class=\"dataframe\">\n",
       "<caption>A data.frame: 4 × 3</caption>\n",
       "<thead>\n",
       "\t<tr><th scope=col>학번</th><th scope=col>이름</th><th scope=col>성적</th></tr>\n",
       "\t<tr><th scope=col>&lt;int&gt;</th><th scope=col>&lt;chr&gt;</th><th scope=col>&lt;dbl&gt;</th></tr>\n",
       "</thead>\n",
       "<tbody>\n",
       "\t<tr><td>1</td><td>a</td><td> 12</td></tr>\n",
       "\t<tr><td>2</td><td>b</td><td>123</td></tr>\n",
       "\t<tr><td>3</td><td>c</td><td>  4</td></tr>\n",
       "\t<tr><td>4</td><td>d</td><td>124</td></tr>\n",
       "</tbody>\n",
       "</table>\n"
      ],
      "text/latex": [
       "A data.frame: 4 × 3\n",
       "\\begin{tabular}{lll}\n",
       " 학번 & 이름 & 성적\\\\\n",
       " <int> & <chr> & <dbl>\\\\\n",
       "\\hline\n",
       "\t 1 & a &  12\\\\\n",
       "\t 2 & b & 123\\\\\n",
       "\t 3 & c &   4\\\\\n",
       "\t 4 & d & 124\\\\\n",
       "\\end{tabular}\n"
      ],
      "text/markdown": [
       "\n",
       "A data.frame: 4 × 3\n",
       "\n",
       "| 학번 &lt;int&gt; | 이름 &lt;chr&gt; | 성적 &lt;dbl&gt; |\n",
       "|---|---|---|\n",
       "| 1 | a |  12 |\n",
       "| 2 | b | 123 |\n",
       "| 3 | c |   4 |\n",
       "| 4 | d | 124 |\n",
       "\n"
      ],
      "text/plain": [
       "  학번 이름 성적\n",
       "1 1    a     12 \n",
       "2 2    b    123 \n",
       "3 3    c      4 \n",
       "4 4    d    124 "
      ]
     },
     "metadata": {},
     "output_type": "display_data"
    }
   ],
   "source": [
    "no = 1:4\n",
    "name = c('a','b','c','d')\n",
    "score = c(12,123,4,124)\n",
    "exam = data.frame(학번=no, 이름=name, 성적=score)\n",
    "exam"
   ]
  },
  {
   "cell_type": "code",
   "execution_count": 44,
   "id": "03a99036-9e8b-435a-9281-70d7b2ffe640",
   "metadata": {},
   "outputs": [
    {
     "data": {
      "text/html": [
       "2"
      ],
      "text/latex": [
       "2"
      ],
      "text/markdown": [
       "2"
      ],
      "text/plain": [
       "[1] 2"
      ]
     },
     "metadata": {},
     "output_type": "display_data"
    }
   ],
   "source": [
    "which(exam$이름=='b')"
   ]
  },
  {
   "cell_type": "code",
   "execution_count": 45,
   "id": "eab5660b-1df7-4601-8a5d-40181043912b",
   "metadata": {},
   "outputs": [
    {
     "data": {
      "text/html": [
       "<table class=\"dataframe\">\n",
       "<caption>A data.frame: 1 × 3</caption>\n",
       "<thead>\n",
       "\t<tr><th></th><th scope=col>학번</th><th scope=col>이름</th><th scope=col>성적</th></tr>\n",
       "\t<tr><th></th><th scope=col>&lt;int&gt;</th><th scope=col>&lt;chr&gt;</th><th scope=col>&lt;dbl&gt;</th></tr>\n",
       "</thead>\n",
       "<tbody>\n",
       "\t<tr><th scope=row>2</th><td>2</td><td>b</td><td>123</td></tr>\n",
       "</tbody>\n",
       "</table>\n"
      ],
      "text/latex": [
       "A data.frame: 1 × 3\n",
       "\\begin{tabular}{r|lll}\n",
       "  & 학번 & 이름 & 성적\\\\\n",
       "  & <int> & <chr> & <dbl>\\\\\n",
       "\\hline\n",
       "\t2 & 2 & b & 123\\\\\n",
       "\\end{tabular}\n"
      ],
      "text/markdown": [
       "\n",
       "A data.frame: 1 × 3\n",
       "\n",
       "| <!--/--> | 학번 &lt;int&gt; | 이름 &lt;chr&gt; | 성적 &lt;dbl&gt; |\n",
       "|---|---|---|---|\n",
       "| 2 | 2 | b | 123 |\n",
       "\n"
      ],
      "text/plain": [
       "  학번 이름 성적\n",
       "2 2    b    123 "
      ]
     },
     "metadata": {},
     "output_type": "display_data"
    }
   ],
   "source": [
    "exam[2,]"
   ]
  },
  {
   "cell_type": "markdown",
   "id": "b96fda9e-189c-422a-a308-2df6081c15a3",
   "metadata": {},
   "source": [
    "- which 함수는 크기가 큰 데이터프레임이나 테이블 구조의 자료를 대상으로 특정 정보를 검색하는 데 유용하게 사용된다."
   ]
  },
  {
   "cell_type": "markdown",
   "id": "4b799f20-1119-451e-a409-61b1ac0e932b",
   "metadata": {},
   "source": [
    "---"
   ]
  },
  {
   "cell_type": "markdown",
   "id": "50daad76-3af7-43f6-8462-5834e8549e30",
   "metadata": {},
   "source": [
    "- 반복문"
   ]
  },
  {
   "cell_type": "code",
   "execution_count": 47,
   "id": "c90bd6ee-3d50-4cef-bab1-e9328cc68d08",
   "metadata": {},
   "outputs": [
    {
     "name": "stdout",
     "output_type": "stream",
     "text": [
      "[1] 1\n",
      "[1] 10\n",
      "[1] 2\n",
      "[1] 20\n",
      "[1] 3\n",
      "[1] 30\n",
      "[1] 4\n",
      "[1] 40\n",
      "[1] 5\n",
      "[1] 50\n",
      "[1] 6\n",
      "[1] 60\n",
      "[1] 7\n",
      "[1] 70\n",
      "[1] 8\n",
      "[1] 80\n",
      "[1] 9\n",
      "[1] 90\n",
      "[1] 10\n",
      "[1] 100\n"
     ]
    }
   ],
   "source": [
    "for(n in 1:10){\n",
    "    print(n)\n",
    "    print(n * 10)}"
   ]
  },
  {
   "cell_type": "code",
   "execution_count": 51,
   "id": "2d9b5b9b-3553-4978-948d-ccc175572cb5",
   "metadata": {},
   "outputs": [
    {
     "name": "stdout",
     "output_type": "stream",
     "text": [
      "[1] 2\n",
      "[1] 4\n",
      "[1] 6\n",
      "[1] 8\n",
      "[1] 10\n"
     ]
    }
   ],
   "source": [
    "for(n in 1:10)\n",
    "    if(n%%2==0) print(n)"
   ]
  },
  {
   "cell_type": "markdown",
   "id": "97f8d2ac-8b8a-4886-becb-4e8d1ad0bfd5",
   "metadata": {},
   "source": [
    "- 바로 위 셀처럼 반복할 문장이 하나 뿐일 때는 {}를 생략할 수 있다"
   ]
  },
  {
   "cell_type": "code",
   "execution_count": 53,
   "id": "2dd0326d-da28-4988-92bc-70c7d4caab9e",
   "metadata": {},
   "outputs": [
    {
     "name": "stdout",
     "output_type": "stream",
     "text": [
      "[1] 1\n",
      "[1] 3\n",
      "[1] 5\n",
      "[1] 7\n",
      "[1] 9\n"
     ]
    }
   ],
   "source": [
    "for(n in 1:10){\n",
    "    if(n%%2==0){\n",
    "        next # 다음 문장으로 skip, 반복문 계속(continue와 동일)\n",
    "        }else{\n",
    "        print(n)}}"
   ]
  },
  {
   "cell_type": "markdown",
   "id": "8c3587fb-f698-4aec-97a1-af412bda2023",
   "metadata": {},
   "source": [
    "- for() 함수의 반복 범위에서 문장을 실행하지 않고 계속 반복할 때는 next문을 사용한다."
   ]
  },
  {
   "cell_type": "code",
   "execution_count": 54,
   "id": "0c6f2fb1-e2bf-4683-896b-3500bfa4dba2",
   "metadata": {},
   "outputs": [
    {
     "data": {
      "text/html": [
       "<table class=\"dataframe\">\n",
       "<caption>A data.frame: 4 × 3</caption>\n",
       "<thead>\n",
       "\t<tr><th scope=col>학번</th><th scope=col>이름</th><th scope=col>성적</th></tr>\n",
       "\t<tr><th scope=col>&lt;int&gt;</th><th scope=col>&lt;chr&gt;</th><th scope=col>&lt;dbl&gt;</th></tr>\n",
       "</thead>\n",
       "<tbody>\n",
       "\t<tr><td>1</td><td>a</td><td> 12</td></tr>\n",
       "\t<tr><td>2</td><td>b</td><td>123</td></tr>\n",
       "\t<tr><td>3</td><td>c</td><td>  4</td></tr>\n",
       "\t<tr><td>4</td><td>d</td><td>124</td></tr>\n",
       "</tbody>\n",
       "</table>\n"
      ],
      "text/latex": [
       "A data.frame: 4 × 3\n",
       "\\begin{tabular}{lll}\n",
       " 학번 & 이름 & 성적\\\\\n",
       " <int> & <chr> & <dbl>\\\\\n",
       "\\hline\n",
       "\t 1 & a &  12\\\\\n",
       "\t 2 & b & 123\\\\\n",
       "\t 3 & c &   4\\\\\n",
       "\t 4 & d & 124\\\\\n",
       "\\end{tabular}\n"
      ],
      "text/markdown": [
       "\n",
       "A data.frame: 4 × 3\n",
       "\n",
       "| 학번 &lt;int&gt; | 이름 &lt;chr&gt; | 성적 &lt;dbl&gt; |\n",
       "|---|---|---|\n",
       "| 1 | a |  12 |\n",
       "| 2 | b | 123 |\n",
       "| 3 | c |   4 |\n",
       "| 4 | d | 124 |\n",
       "\n"
      ],
      "text/plain": [
       "  학번 이름 성적\n",
       "1 1    a     12 \n",
       "2 2    b    123 \n",
       "3 3    c      4 \n",
       "4 4    d    124 "
      ]
     },
     "metadata": {},
     "output_type": "display_data"
    }
   ],
   "source": [
    "exam"
   ]
  },
  {
   "cell_type": "markdown",
   "id": "0c54040c-80ee-4246-b485-cc931fc93686",
   "metadata": {},
   "source": [
    "- 변수의 칼럼명 출력하기"
   ]
  },
  {
   "cell_type": "code",
   "execution_count": 55,
   "id": "ffb23e3b-4f05-4398-bb47-54557e57bf4a",
   "metadata": {},
   "outputs": [
    {
     "data": {
      "text/html": [
       "<style>\n",
       ".list-inline {list-style: none; margin:0; padding: 0}\n",
       ".list-inline>li {display: inline-block}\n",
       ".list-inline>li:not(:last-child)::after {content: \"\\00b7\"; padding: 0 .5ex}\n",
       "</style>\n",
       "<ol class=list-inline><li>'학번'</li><li>'이름'</li><li>'성적'</li></ol>\n"
      ],
      "text/latex": [
       "\\begin{enumerate*}\n",
       "\\item '학번'\n",
       "\\item '이름'\n",
       "\\item '성적'\n",
       "\\end{enumerate*}\n"
      ],
      "text/markdown": [
       "1. '학번'\n",
       "2. '이름'\n",
       "3. '성적'\n",
       "\n",
       "\n"
      ],
      "text/plain": [
       "[1] \"학번\" \"이름\" \"성적\""
      ]
     },
     "metadata": {},
     "output_type": "display_data"
    }
   ],
   "source": [
    "names(exam)"
   ]
  },
  {
   "cell_type": "code",
   "execution_count": 56,
   "id": "81bdbde7-e20f-4522-b238-f2b592d82a1b",
   "metadata": {},
   "outputs": [
    {
     "name": "stdout",
     "output_type": "stream",
     "text": [
      "[1] \"학번\"\n",
      "[1] \"이름\"\n",
      "[1] \"성적\"\n"
     ]
    }
   ],
   "source": [
    "for(n in c(names(exam))){\n",
    "    print(n)}"
   ]
  },
  {
   "cell_type": "markdown",
   "id": "c4ed809c-f96e-424b-855c-5db16b7fa1c1",
   "metadata": {},
   "source": [
    "---"
   ]
  },
  {
   "cell_type": "code",
   "execution_count": 59,
   "id": "d8ed3afb-3f1a-4eb6-901e-ad88f21b5135",
   "metadata": {},
   "outputs": [
    {
     "name": "stdout",
     "output_type": "stream",
     "text": [
      "a -> 85 \n",
      "b -> 95 \n",
      "c -> 98 \n"
     ]
    }
   ],
   "source": [
    "i=1\n",
    "name=c('a','b','c')\n",
    "for(s in c(85,95,98)){\n",
    "    cat(name[i],'->',s,'\\n')\n",
    "    i=i+1\n",
    "}"
   ]
  },
  {
   "cell_type": "markdown",
   "id": "15170b3b-7948-46a9-867f-4be01160dbbf",
   "metadata": {},
   "source": [
    "---"
   ]
  },
  {
   "cell_type": "markdown",
   "id": "f4232c54-dff4-4240-a2e0-64fbc31cfe84",
   "metadata": {},
   "source": [
    "- while() 함수\n",
    "  - for() 함수와 동일한 방식으로 수행된다. for() 함수와 차이점으로 for() 함수는 반복 회수를 결정하는 변수를 사용하는 대신에 while 함수는 사용자가 블록 내에서 증감식을 이용하여 반복 회수를 지정해야 한다."
   ]
  },
  {
   "cell_type": "code",
   "execution_count": 60,
   "id": "5fde96fa-cd86-4da1-95e9-50f57958ce0a",
   "metadata": {},
   "outputs": [
    {
     "name": "stdout",
     "output_type": "stream",
     "text": [
      "[1] 0\n",
      "[1] 1\n",
      "[1] 2\n",
      "[1] 3\n",
      "[1] 4\n",
      "[1] 5\n",
      "[1] 6\n",
      "[1] 7\n",
      "[1] 8\n",
      "[1] 9\n"
     ]
    }
   ],
   "source": [
    "i=0\n",
    "while(i<10){ # 이런식으로 증감식을 이용하여 반복 횟수를 지정한다.\n",
    "    print(i)\n",
    "    i=i+1}"
   ]
  },
  {
   "cell_type": "markdown",
   "id": "1f7c7d5e-9e11-4df9-be83-c41f44a10eb2",
   "metadata": {},
   "source": [
    "---"
   ]
  },
  {
   "cell_type": "markdown",
   "id": "4fd79594-784a-47d1-9636-e26f6a332097",
   "metadata": {},
   "source": [
    "- 함수 정의"
   ]
  },
  {
   "cell_type": "markdown",
   "id": "8eae501f-8a25-4c6a-bb96-0b69d28e6f30",
   "metadata": {},
   "source": [
    "```python\n",
    "# 파이썬에서는 아래와 같이 함수를 정의하지만\n",
    "def f(x):\n",
    "    print(x+2)\n",
    "# R에서는 아래와 같이 함수를 정의한다.\n",
    "```\n",
    "```r\n",
    "f1=function(매개변수 자리인데 없이도 가능하다){실행문}\n",
    "```"
   ]
  },
  {
   "cell_type": "code",
   "execution_count": 61,
   "id": "4ad4d46b-5049-43b4-a996-92303e048234",
   "metadata": {},
   "outputs": [
    {
     "name": "stdout",
     "output_type": "stream",
     "text": [
      "[1] \"매개변수가 없는 함수\"\n"
     ]
    }
   ],
   "source": [
    "f1=function(){\n",
    "    print('매개변수가 없는 함수')}\n",
    "f1()"
   ]
  },
  {
   "cell_type": "markdown",
   "id": "c5490ceb-fb74-41e9-972f-aba58fcc9e0a",
   "metadata": {},
   "source": [
    "- 매개변수가 없는 함수는 '함수명()' 형태로 함수명에 빈 괄호를 붙여 호출한다.\n",
    "- 정의된 함수를 호출하지 않으면 함수의 내용은 실행되지 않는다"
   ]
  },
  {
   "cell_type": "code",
   "execution_count": 62,
   "id": "767d9a50-32d8-432a-8a53-f4506cfe56b0",
   "metadata": {},
   "outputs": [],
   "source": [
    "f3=function(x,y){\n",
    "    add <- x+y\n",
    "    return(add)}"
   ]
  },
  {
   "cell_type": "code",
   "execution_count": 63,
   "id": "3f8ca8c7-630b-4231-889f-228a2612d39f",
   "metadata": {},
   "outputs": [
    {
     "data": {
      "text/html": [
       "30"
      ],
      "text/latex": [
       "30"
      ],
      "text/markdown": [
       "30"
      ],
      "text/plain": [
       "[1] 30"
      ]
     },
     "metadata": {},
     "output_type": "display_data"
    }
   ],
   "source": [
    "f3(10,20)"
   ]
  },
  {
   "cell_type": "markdown",
   "id": "89619c3b-3359-4a78-a559-2b2e68fe622e",
   "metadata": {},
   "source": [
    "---"
   ]
  },
  {
   "cell_type": "markdown",
   "id": "2ccf43c0-fea8-420d-bd62-0eb306d2e994",
   "metadata": {},
   "source": [
    "- 기술통계량을 계산하는 함수 정의\n",
    "  - 추론 통계의 기초 정보를 제공하는 요약 통계량, 빈도수 등의 기술통계량을 계싼하는 함수를 정의해본다\n",
    "  - 119p 참고!"
   ]
  },
  {
   "cell_type": "markdown",
   "id": "3a8491f6-fd2f-476e-9f08-437bc1d9f2cb",
   "metadata": {},
   "source": [
    "---"
   ]
  },
  {
   "cell_type": "markdown",
   "id": "48950381-46f6-4625-87e9-c469bcb4d830",
   "metadata": {},
   "source": [
    "- 분산과 표준편차를 구하는 사용자 함수 정의"
   ]
  },
  {
   "cell_type": "code",
   "execution_count": 64,
   "id": "1c8f5194-3957-4d24-a0b3-9e2756dddb7e",
   "metadata": {},
   "outputs": [],
   "source": [
    "x=c(7,5,12,9,15,6)\n",
    "var_sd = function(x){\n",
    "    var = sum((x-mean(x))^2/length(x)-1) # 표본 분산\n",
    "    sd = sqrt(var)\n",
    "    cat('표본 분산',var,'\\n')\n",
    "    cat('표본 표준 편차',sd)}"
   ]
  },
  {
   "cell_type": "code",
   "execution_count": 65,
   "id": "a88a16b7-2cb4-4172-ab6a-c58dfaa47654",
   "metadata": {},
   "outputs": [
    {
     "name": "stdout",
     "output_type": "stream",
     "text": [
      "표본 분산 6.333333 \n",
      "표본 표준 편차 2.516611"
     ]
    }
   ],
   "source": [
    "var_sd(x)"
   ]
  },
  {
   "cell_type": "markdown",
   "id": "9245bf9a-fbf5-4d73-a8d6-6fbed4df7569",
   "metadata": {},
   "source": [
    "- 구구단 함수 정의"
   ]
  },
  {
   "cell_type": "code",
   "execution_count": 67,
   "id": "13e54150-a96d-46d5-a412-21ce4a3e9cf7",
   "metadata": {},
   "outputs": [
    {
     "name": "stdout",
     "output_type": "stream",
     "text": [
      "2 단을 외워봅시다\n",
      "2 * 1 = 2 \n",
      "2 * 2 = 4 \n",
      "2 * 3 = 6 \n",
      "2 * 4 = 8 \n",
      "2 * 5 = 10 \n",
      "2 * 6 = 12 \n",
      "2 * 7 = 14 \n",
      "2 * 8 = 16 \n",
      "2 * 9 = 18 \n",
      "\n",
      "3 단을 외워봅시다\n",
      "3 * 1 = 3 \n",
      "3 * 2 = 6 \n",
      "3 * 3 = 9 \n",
      "3 * 4 = 12 \n",
      "3 * 5 = 15 \n",
      "3 * 6 = 18 \n",
      "3 * 7 = 21 \n",
      "3 * 8 = 24 \n",
      "3 * 9 = 27 \n",
      "\n",
      "4 단을 외워봅시다\n",
      "4 * 1 = 4 \n",
      "4 * 2 = 8 \n",
      "4 * 3 = 12 \n",
      "4 * 4 = 16 \n",
      "4 * 5 = 20 \n",
      "4 * 6 = 24 \n",
      "4 * 7 = 28 \n",
      "4 * 8 = 32 \n",
      "4 * 9 = 36 \n",
      "\n",
      "5 단을 외워봅시다\n",
      "5 * 1 = 5 \n",
      "5 * 2 = 10 \n",
      "5 * 3 = 15 \n",
      "5 * 4 = 20 \n",
      "5 * 5 = 25 \n",
      "5 * 6 = 30 \n",
      "5 * 7 = 35 \n",
      "5 * 8 = 40 \n",
      "5 * 9 = 45 \n",
      "\n",
      "6 단을 외워봅시다\n",
      "6 * 1 = 6 \n",
      "6 * 2 = 12 \n",
      "6 * 3 = 18 \n",
      "6 * 4 = 24 \n",
      "6 * 5 = 30 \n",
      "6 * 6 = 36 \n",
      "6 * 7 = 42 \n",
      "6 * 8 = 48 \n",
      "6 * 9 = 54 \n",
      "\n",
      "7 단을 외워봅시다\n",
      "7 * 1 = 7 \n",
      "7 * 2 = 14 \n",
      "7 * 3 = 21 \n",
      "7 * 4 = 28 \n",
      "7 * 5 = 35 \n",
      "7 * 6 = 42 \n",
      "7 * 7 = 49 \n",
      "7 * 8 = 56 \n",
      "7 * 9 = 63 \n",
      "\n",
      "8 단을 외워봅시다\n",
      "8 * 1 = 8 \n",
      "8 * 2 = 16 \n",
      "8 * 3 = 24 \n",
      "8 * 4 = 32 \n",
      "8 * 5 = 40 \n",
      "8 * 6 = 48 \n",
      "8 * 7 = 56 \n",
      "8 * 8 = 64 \n",
      "8 * 9 = 72 \n",
      "\n",
      "9 단을 외워봅시다\n",
      "9 * 1 = 9 \n",
      "9 * 2 = 18 \n",
      "9 * 3 = 27 \n",
      "9 * 4 = 36 \n",
      "9 * 5 = 45 \n",
      "9 * 6 = 54 \n",
      "9 * 7 = 63 \n",
      "9 * 8 = 72 \n",
      "9 * 9 = 81 \n",
      "\n"
     ]
    }
   ],
   "source": [
    "gugudan=function(i,j){\n",
    "    for(x in i){ # 단수 지정\n",
    "    cat(x,'단을 외워봅시다\\n')\n",
    "        for(y in j){\n",
    "            cat(x,'*',y,'=',x*y,'\\n')\n",
    "            }\n",
    "        cat('\\n')}}\n",
    "gugudan(2:9,1:9)"
   ]
  },
  {
   "cell_type": "markdown",
   "id": "08c54489-998c-4bda-a54a-02b719ced137",
   "metadata": {},
   "source": [
    "- 결측치 포함 자료의 평균 계산 함수 정의"
   ]
  },
  {
   "cell_type": "code",
   "execution_count": 74,
   "id": "99472039-69a5-4319-ba08-91d887b75e02",
   "metadata": {},
   "outputs": [],
   "source": [
    "data= c(10,20,5,4,40,7,NA,6,3,NA,2,NA)"
   ]
  },
  {
   "cell_type": "code",
   "execution_count": 84,
   "id": "3a2f7cca-0686-4307-a9b2-ab8ca4f5d53e",
   "metadata": {},
   "outputs": [],
   "source": [
    "# 결측치 데이터 처리하는 함수 정의\n",
    "na = function(x){\n",
    "    # 첫 번째 방법 : NA제거\n",
    "    cat(x,'\\n')\n",
    "    cat(mean(x,na.rm=T),'\\n')\n",
    "    cat('\\n')\n",
    "    \n",
    "    # 두 번째 방법 : NA를 0으로 대체하여 처리\n",
    "    data = ifelse(!is.na(x),x,0)\n",
    "    cat(data,'\\n')\n",
    "    cat(mean(data),'\\n')\n",
    "    cat('\\n')\n",
    "    \n",
    "    # 세 번째 방법 : NA를 평균으로 대체하여 처리\n",
    "    data2 = ifelse(!is.na(x),x,round(mean(x,na.rm=T),2))\n",
    "    cat(data2,'\\n')\n",
    "    cat(mean(data2),'\\n')}"
   ]
  },
  {
   "cell_type": "code",
   "execution_count": 85,
   "id": "87c8cf94-26f8-4863-88d9-cd63c216617d",
   "metadata": {},
   "outputs": [
    {
     "name": "stdout",
     "output_type": "stream",
     "text": [
      "10 20 5 4 40 7 NA 6 3 NA 2 NA \n",
      "10.77778 \n",
      "\n",
      "10 20 5 4 40 7 0 6 3 0 2 0 \n",
      "8.083333 \n",
      "\n",
      "10 20 5 4 40 7 10.78 6 3 10.78 2 10.78 \n",
      "10.77833 \n"
     ]
    }
   ],
   "source": [
    "na(data)"
   ]
  },
  {
   "cell_type": "markdown",
   "id": "aef5c959-79d4-4cef-bc17-28148bc89b8f",
   "metadata": {},
   "source": [
    "---"
   ]
  },
  {
   "cell_type": "markdown",
   "id": "cae68db9-a34c-4749-a7e6-cfd07d6a3abc",
   "metadata": {},
   "source": [
    "- 몬테카를로 시뮬레이션 함수 정의\n",
    "  - 현실적으로 불가능한 문제의 해답을 얻기 위해서 난수의 확률 분포를 이용하는 모의 시험으로 근사적 해를 구하는 기법"
   ]
  },
  {
   "cell_type": "code",
   "execution_count": 103,
   "id": "fc56900b-bebf-4b3e-9622-1f0969c33868",
   "metadata": {},
   "outputs": [],
   "source": [
    "coin=function(n){\n",
    "    r = runif(n,min=0,max=1)\n",
    "    result=numeric()\n",
    "    for(i in 1:n){\n",
    "        if(r[i]<=0.5)\n",
    "            result[i]=0 # 앞면, 실행문이 하나일 땐 {}생략 가능하다\n",
    "        else\n",
    "            result[i]=1} # 뒷면\n",
    "        return(result)}"
   ]
  },
  {
   "cell_type": "code",
   "execution_count": 104,
   "id": "22ec60be-2320-484d-9aa3-9b63a1aa859a",
   "metadata": {},
   "outputs": [
    {
     "data": {
      "text/html": [
       "<style>\n",
       ".list-inline {list-style: none; margin:0; padding: 0}\n",
       ".list-inline>li {display: inline-block}\n",
       ".list-inline>li:not(:last-child)::after {content: \"\\00b7\"; padding: 0 .5ex}\n",
       "</style>\n",
       "<ol class=list-inline><li>1</li><li>0</li><li>0</li><li>0</li><li>0</li><li>0</li><li>1</li><li>1</li><li>1</li><li>1</li></ol>\n"
      ],
      "text/latex": [
       "\\begin{enumerate*}\n",
       "\\item 1\n",
       "\\item 0\n",
       "\\item 0\n",
       "\\item 0\n",
       "\\item 0\n",
       "\\item 0\n",
       "\\item 1\n",
       "\\item 1\n",
       "\\item 1\n",
       "\\item 1\n",
       "\\end{enumerate*}\n"
      ],
      "text/markdown": [
       "1. 1\n",
       "2. 0\n",
       "3. 0\n",
       "4. 0\n",
       "5. 0\n",
       "6. 0\n",
       "7. 1\n",
       "8. 1\n",
       "9. 1\n",
       "10. 1\n",
       "\n",
       "\n"
      ],
      "text/plain": [
       " [1] 1 0 0 0 0 0 1 1 1 1"
      ]
     },
     "metadata": {},
     "output_type": "display_data"
    }
   ],
   "source": [
    "coin(10)"
   ]
  },
  {
   "cell_type": "code",
   "execution_count": 105,
   "id": "e10173c2-551a-4ebe-89fd-8b13727861cb",
   "metadata": {},
   "outputs": [],
   "source": [
    "montaCoin=function(n){\n",
    "    cnt = 0\n",
    "    for(i in 1:n){\n",
    "        cnt = cnt + coin(1) # n 시행 횟수만큼 동정 함수 호출\n",
    "        }\n",
    "    result = cnt/n\n",
    "    return(result)}"
   ]
  },
  {
   "cell_type": "code",
   "execution_count": 106,
   "id": "62c15f4c-68d4-482b-b12a-73cbcc25ae7e",
   "metadata": {},
   "outputs": [
    {
     "data": {
      "text/html": [
       "0.486"
      ],
      "text/latex": [
       "0.486"
      ],
      "text/markdown": [
       "0.486"
      ],
      "text/plain": [
       "[1] 0.486"
      ]
     },
     "metadata": {},
     "output_type": "display_data"
    },
    {
     "data": {
      "text/html": [
       "0.50078"
      ],
      "text/latex": [
       "0.50078"
      ],
      "text/markdown": [
       "0.50078"
      ],
      "text/plain": [
       "[1] 0.50078"
      ]
     },
     "metadata": {},
     "output_type": "display_data"
    }
   ],
   "source": [
    "montaCoin(1000)\n",
    "montaCoin(100000)"
   ]
  }
 ],
 "metadata": {
  "kernelspec": {
   "display_name": "R",
   "language": "R",
   "name": "ir"
  },
  "language_info": {
   "codemirror_mode": "r",
   "file_extension": ".r",
   "mimetype": "text/x-r-source",
   "name": "R",
   "pygments_lexer": "r",
   "version": "4.0.5"
  }
 },
 "nbformat": 4,
 "nbformat_minor": 5
}
