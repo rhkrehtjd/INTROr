{
 "cells": [
  {
   "cell_type": "markdown",
   "id": "16bc4638-4e53-490d-bdaa-b3800de89177",
   "metadata": {},
   "source": [
    "# 인공신경망, 비지도학습 中 군집화"
   ]
  },
  {
   "cell_type": "markdown",
   "id": "1af93fa8-fc49-4102-9afd-97bea710ce79",
   "metadata": {},
   "source": [
    "- 간단한 인공신경망 모델 생성"
   ]
  },
  {
   "cell_type": "code",
   "execution_count": 125,
   "id": "d34a4ccb-ef0a-4e73-990a-1ba7ec75f2d8",
   "metadata": {},
   "outputs": [
    {
     "name": "stderr",
     "output_type": "stream",
     "text": [
      "Warning message:\n",
      "\"package 'nnet' is in use and will not be installed\"\n"
     ]
    },
    {
     "name": "stdout",
     "output_type": "stream",
     "text": [
      "'data.frame':\t6 obs. of  3 variables:\n",
      " $ x2: int  1 2 3 4 5 6\n",
      " $ x1: int  6 5 4 3 2 1\n",
      " $ y : Factor w/ 2 levels \"no\",\"yes\": 1 1 1 2 2 2\n"
     ]
    }
   ],
   "source": [
    "install.packages('nnet')\n",
    "library(nnet)\n",
    "\n",
    "df = data.frame(\n",
    "x2 = c(1:6),\n",
    "x1 = c(6:1),\n",
    "y = factor(c('no','no','no','yes','yes','yes')))\n",
    "\n",
    "str(df)"
   ]
  },
  {
   "cell_type": "code",
   "execution_count": 126,
   "id": "d53476a1-578f-4e99-af4c-45b01ae057ed",
   "metadata": {},
   "outputs": [
    {
     "data": {
      "text/html": [
       "<table class=\"dataframe\">\n",
       "<caption>A data.frame: 6 × 3</caption>\n",
       "<thead>\n",
       "\t<tr><th scope=col>x2</th><th scope=col>x1</th><th scope=col>y</th></tr>\n",
       "\t<tr><th scope=col>&lt;int&gt;</th><th scope=col>&lt;int&gt;</th><th scope=col>&lt;fct&gt;</th></tr>\n",
       "</thead>\n",
       "<tbody>\n",
       "\t<tr><td>1</td><td>6</td><td>no </td></tr>\n",
       "\t<tr><td>2</td><td>5</td><td>no </td></tr>\n",
       "\t<tr><td>3</td><td>4</td><td>no </td></tr>\n",
       "\t<tr><td>4</td><td>3</td><td>yes</td></tr>\n",
       "\t<tr><td>5</td><td>2</td><td>yes</td></tr>\n",
       "\t<tr><td>6</td><td>1</td><td>yes</td></tr>\n",
       "</tbody>\n",
       "</table>\n"
      ],
      "text/latex": [
       "A data.frame: 6 × 3\n",
       "\\begin{tabular}{lll}\n",
       " x2 & x1 & y\\\\\n",
       " <int> & <int> & <fct>\\\\\n",
       "\\hline\n",
       "\t 1 & 6 & no \\\\\n",
       "\t 2 & 5 & no \\\\\n",
       "\t 3 & 4 & no \\\\\n",
       "\t 4 & 3 & yes\\\\\n",
       "\t 5 & 2 & yes\\\\\n",
       "\t 6 & 1 & yes\\\\\n",
       "\\end{tabular}\n"
      ],
      "text/markdown": [
       "\n",
       "A data.frame: 6 × 3\n",
       "\n",
       "| x2 &lt;int&gt; | x1 &lt;int&gt; | y &lt;fct&gt; |\n",
       "|---|---|---|\n",
       "| 1 | 6 | no  |\n",
       "| 2 | 5 | no  |\n",
       "| 3 | 4 | no  |\n",
       "| 4 | 3 | yes |\n",
       "| 5 | 2 | yes |\n",
       "| 6 | 1 | yes |\n",
       "\n"
      ],
      "text/plain": [
       "  x2 x1 y  \n",
       "1 1  6  no \n",
       "2 2  5  no \n",
       "3 3  4  no \n",
       "4 4  3  yes\n",
       "5 5  2  yes\n",
       "6 6  1  yes"
      ]
     },
     "metadata": {},
     "output_type": "display_data"
    }
   ],
   "source": [
    "df"
   ]
  },
  {
   "cell_type": "code",
   "execution_count": 2,
   "id": "ae406679-a5f3-4a14-8a86-1df682725e71",
   "metadata": {},
   "outputs": [
    {
     "name": "stdout",
     "output_type": "stream",
     "text": [
      "# weights:  5\n",
      "initial  value 4.252524 \n",
      "iter  10 value 0.067535\n",
      "iter  20 value 0.010423\n",
      "iter  30 value 0.000107\n",
      "final  value 0.000074 \n",
      "converged\n"
     ]
    }
   ],
   "source": [
    "# 인공신경망 모델 생성\n",
    "model_net = nnet(y~., df, size = 1) \n",
    "# size = 은닉층 수"
   ]
  },
  {
   "cell_type": "markdown",
   "id": "9d609380-fd1f-436f-a6f5-185f1495e14c",
   "metadata": {},
   "source": [
    "- 5개의 가중치가 생성되고, 기계학습으로 오차가 점진적으로 줄어드는 결과를 볼 수 있다."
   ]
  },
  {
   "cell_type": "code",
   "execution_count": 3,
   "id": "f3a0f96f-39b4-4e06-bafe-92efc6efac84",
   "metadata": {},
   "outputs": [
    {
     "data": {
      "text/plain": [
       "a 2-1-1 network with 5 weights\n",
       "inputs: x2 x1 \n",
       "output(s): y \n",
       "options were - entropy fitting "
      ]
     },
     "metadata": {},
     "output_type": "display_data"
    }
   ],
   "source": [
    "# 모델 결과 변수 보기 \n",
    "model_net"
   ]
  },
  {
   "cell_type": "markdown",
   "id": "bed239f5-22b1-4af0-9f46-166f5247af81",
   "metadata": {},
   "source": [
    "- 위위셀에서 5개의 가중치가 생성되었다고 했는데, 모델의 결과 변수를 통해서 5개 가중치의 신경망 구조를 확인할 수 있다. \n",
    "- 신경망(a 2 - 1 - 1)은 경계값 - 입력변수 - 은닉층 - 출력변수의 망 형태로서 5개의 가중치를 보여주고 있다."
   ]
  },
  {
   "cell_type": "code",
   "execution_count": 4,
   "id": "2addddbd-bac3-4bed-a39f-4b60f0dad3c5",
   "metadata": {},
   "outputs": [
    {
     "data": {
      "text/plain": [
       "a 2-1-1 network with 5 weights\n",
       "options were - entropy fitting \n",
       " b->h1 i1->h1 i2->h1 \n",
       "  0.53  -7.71   7.47 \n",
       "  b->o  h1->o \n",
       " 10.93 -22.83 "
      ]
     },
     "metadata": {},
     "output_type": "display_data"
    }
   ],
   "source": [
    "# 가중치 보기\n",
    "summary(model_net)"
   ]
  },
  {
   "cell_type": "code",
   "execution_count": 5,
   "id": "6c028b34-52f7-4972-811b-0954d379c024",
   "metadata": {},
   "outputs": [
    {
     "data": {
      "text/html": [
       "<table class=\"dataframe\">\n",
       "<caption>A matrix: 6 × 1 of type dbl</caption>\n",
       "<tbody>\n",
       "\t<tr><th scope=row>1</th><td>6.792868e-06</td></tr>\n",
       "\t<tr><th scope=row>2</th><td>6.792868e-06</td></tr>\n",
       "\t<tr><th scope=row>3</th><td>6.901320e-06</td></tr>\n",
       "\t<tr><th scope=row>4</th><td>9.999820e-01</td></tr>\n",
       "\t<tr><th scope=row>5</th><td>9.999821e-01</td></tr>\n",
       "\t<tr><th scope=row>6</th><td>9.999821e-01</td></tr>\n",
       "</tbody>\n",
       "</table>\n"
      ],
      "text/latex": [
       "A matrix: 6 × 1 of type dbl\n",
       "\\begin{tabular}{r|l}\n",
       "\t1 & 6.792868e-06\\\\\n",
       "\t2 & 6.792868e-06\\\\\n",
       "\t3 & 6.901320e-06\\\\\n",
       "\t4 & 9.999820e-01\\\\\n",
       "\t5 & 9.999821e-01\\\\\n",
       "\t6 & 9.999821e-01\\\\\n",
       "\\end{tabular}\n"
      ],
      "text/markdown": [
       "\n",
       "A matrix: 6 × 1 of type dbl\n",
       "\n",
       "| 1 | 6.792868e-06 |\n",
       "| 2 | 6.792868e-06 |\n",
       "| 3 | 6.901320e-06 |\n",
       "| 4 | 9.999820e-01 |\n",
       "| 5 | 9.999821e-01 |\n",
       "| 6 | 9.999821e-01 |\n",
       "\n"
      ],
      "text/plain": [
       "  [,1]        \n",
       "1 6.792868e-06\n",
       "2 6.792868e-06\n",
       "3 6.901320e-06\n",
       "4 9.999820e-01\n",
       "5 9.999821e-01\n",
       "6 9.999821e-01"
      ]
     },
     "metadata": {},
     "output_type": "display_data"
    }
   ],
   "source": [
    "# 분류모델의 적합값 보기\n",
    "model_net$fitted.values"
   ]
  },
  {
   "cell_type": "markdown",
   "id": "621c5f30-ef47-40fa-a57c-7538830b7604",
   "metadata": {},
   "source": [
    "- 1\\~3 번째 관측치는 0에 가까운 수, 4\\~6 번째 관측치는 1에 가까운 수로 예측하고 있다. "
   ]
  },
  {
   "cell_type": "code",
   "execution_count": 6,
   "id": "257cdcc7-22f5-4b85-9222-d5bf34ce6a04",
   "metadata": {},
   "outputs": [
    {
     "data": {
      "text/plain": [
       "     \n",
       "p     no yes\n",
       "  no   3   0\n",
       "  yes  0   3"
      ]
     },
     "metadata": {},
     "output_type": "display_data"
    }
   ],
   "source": [
    "# 분류모델의 예측치 생성과 분류 정확도\n",
    "p = predict(model_net, df, type =  'class') # 분류모델의 예측치 생성\n",
    "table(p, df$y) # 혼합 매트릭스 생성"
   ]
  },
  {
   "cell_type": "markdown",
   "id": "27981dc6-22b4-434b-8273-3f227a439707",
   "metadata": {},
   "source": [
    "---"
   ]
  },
  {
   "cell_type": "markdown",
   "id": "24479d5d-a80e-435a-9274-43dbe28ffc2d",
   "metadata": {},
   "source": [
    "- iris 데이터 셋을 이용한 인공신경망 모델 생성"
   ]
  },
  {
   "cell_type": "code",
   "execution_count": 8,
   "id": "7cb24bbe-c86f-4544-acd5-3a2336c96fb4",
   "metadata": {},
   "outputs": [],
   "source": [
    "data(iris)\n",
    "idx = sample(1 : nrow(iris), 0.7*nrow(iris))\n",
    "training = iris[idx,]\n",
    "testing = iris[-idx,]"
   ]
  },
  {
   "cell_type": "code",
   "execution_count": 74,
   "id": "9fdee38d-f9d1-47aa-a7f9-fa92135081e5",
   "metadata": {},
   "outputs": [
    {
     "name": "stdout",
     "output_type": "stream",
     "text": [
      "# weights:  11\n",
      "initial  value 127.543486 \n",
      "iter  10 value 51.391267\n",
      "iter  20 value 47.757595\n",
      "iter  30 value 47.736376\n",
      "iter  40 value 47.436325\n",
      "iter  50 value 31.795231\n",
      "iter  60 value 9.869401\n",
      "iter  70 value 5.211545\n",
      "iter  80 value 4.766145\n",
      "iter  90 value 2.679624\n",
      "iter 100 value 2.242315\n",
      "final  value 2.242315 \n",
      "stopped after 100 iterations\n"
     ]
    }
   ],
   "source": [
    "# 인공신경망 모델 (은닉층 1개와 은닉층 3개) 생성\n",
    "model_net_iris1 = nnet(Species~., training, size = 1) # 은닉층 1개"
   ]
  },
  {
   "cell_type": "code",
   "execution_count": 76,
   "id": "5eb74171-caba-4af4-ad45-868e9758d14a",
   "metadata": {},
   "outputs": [
    {
     "data": {
      "text/plain": [
       "a 4-1-3 network with 11 weights\n",
       "inputs: Sepal.Length Sepal.Width Petal.Length Petal.Width \n",
       "output(s): Species \n",
       "options were - softmax modelling "
      ]
     },
     "metadata": {},
     "output_type": "display_data"
    }
   ],
   "source": [
    "model_net_iris1\n",
    "# 가중치 11개"
   ]
  },
  {
   "cell_type": "code",
   "execution_count": 85,
   "id": "b591d643-1515-4b22-822f-532a3c3f79a3",
   "metadata": {},
   "outputs": [
    {
     "name": "stdout",
     "output_type": "stream",
     "text": [
      "# weights:  27\n",
      "initial  value 116.795681 \n",
      "iter  10 value 57.411266\n",
      "iter  20 value 38.085291\n",
      "iter  30 value 10.521599\n",
      "iter  40 value 2.865933\n",
      "iter  50 value 1.763894\n",
      "iter  60 value 1.115130\n",
      "iter  70 value 0.028303\n",
      "iter  80 value 0.003758\n",
      "iter  90 value 0.003746\n",
      "iter 100 value 0.001560\n",
      "final  value 0.001560 \n",
      "stopped after 100 iterations\n"
     ]
    }
   ],
   "source": [
    "model_net_iris3 = nnet(Species~., training, size = 3) # 은닉층 3개"
   ]
  },
  {
   "cell_type": "code",
   "execution_count": 86,
   "id": "3aaf3d2a-b032-4293-aabe-370a73f5e3bc",
   "metadata": {},
   "outputs": [
    {
     "data": {
      "text/plain": [
       "a 4-3-3 network with 27 weights\n",
       "inputs: Sepal.Length Sepal.Width Petal.Length Petal.Width \n",
       "output(s): Species \n",
       "options were - softmax modelling "
      ]
     },
     "metadata": {},
     "output_type": "display_data"
    }
   ],
   "source": [
    "model_net_iris3\n",
    "# 27개의 가중치를 갖는다."
   ]
  },
  {
   "cell_type": "markdown",
   "id": "2b90e4e5-f6a6-42bb-80e3-249da1989ff9",
   "metadata": {},
   "source": [
    "- 두 모델 모두 출력값이 3개.\n",
    "- 한편, 입력변수의 값들이 일정하지 않거나, 값이 큰 경우에는 신경망 모델이 정상적으로 만들어지지 않기 때문에, 입력 변수를 대상으로 정규화과정 필요."
   ]
  },
  {
   "cell_type": "code",
   "execution_count": 87,
   "id": "0c4049ad-3750-4482-9ab2-a6f5937de2e0",
   "metadata": {},
   "outputs": [
    {
     "data": {
      "text/plain": [
       "a 4-1-3 network with 11 weights\n",
       "options were - softmax modelling \n",
       "  b->h1  i1->h1  i2->h1  i3->h1  i4->h1 \n",
       "  -3.50   -0.14   -0.54    0.63    1.76 \n",
       "  b->o1  h1->o1 \n",
       "  34.94 -104.75 \n",
       "  b->o2  h1->o2 \n",
       "  27.56  -29.16 \n",
       "  b->o3  h1->o3 \n",
       " -62.20  135.59 "
      ]
     },
     "metadata": {},
     "output_type": "display_data"
    }
   ],
   "source": [
    "# 가중치 네트워크보기 - 은닉층 1개 신경망 모델\n",
    "summary(model_net_iris1)"
   ]
  },
  {
   "cell_type": "markdown",
   "id": "75381390-c92c-409d-ad2c-7352195a9342",
   "metadata": {},
   "source": [
    "- 은닉층의 노드가 1개, 11개의 가중치"
   ]
  },
  {
   "cell_type": "code",
   "execution_count": 88,
   "id": "a254e609-4d69-40ab-8bb5-2f9fc24f251c",
   "metadata": {},
   "outputs": [
    {
     "data": {
      "text/plain": [
       "a 4-3-3 network with 27 weights\n",
       "options were - softmax modelling \n",
       "   b->h1   i1->h1   i2->h1   i3->h1   i4->h1 \n",
       "   -0.34    -1.93    -1.56    -0.94     0.09 \n",
       "   b->h2   i1->h2   i2->h2   i3->h2   i4->h2 \n",
       "    6.28     0.22     0.94    -1.21    -3.30 \n",
       "   b->h3   i1->h3   i2->h3   i3->h3   i4->h3 \n",
       "   11.74    51.12    41.70     2.85    -2.75 \n",
       "   b->o1   h1->o1   h2->o1   h3->o1 \n",
       "-2476.29     0.39  4029.10   -50.20 \n",
       "   b->o2   h1->o2   h2->o2   h3->o2 \n",
       "  640.68     0.29   810.07    30.04 \n",
       "   b->o3   h1->o3   h2->o3   h3->o3 \n",
       " 1835.62     0.36 -4838.74    20.30 "
      ]
     },
     "metadata": {},
     "output_type": "display_data"
    }
   ],
   "source": [
    "# 가중치 네트워크보기 - 은닉층 3개 신경망 모델\n",
    "summary(model_net_iris3)"
   ]
  },
  {
   "cell_type": "markdown",
   "id": "9f7f97a8-820f-4846-9ac6-6568036ac5bc",
   "metadata": {},
   "source": [
    "- 은닉층의 노드가 3개, 27개의 가중치\n",
    "- 은닉층의 노드 수가 1개씩 중가할 때마다 일정한 수만큼 가중치가 증가하기 때문에 컴퓨터는 더 많은 연산을 수행하게 된다. "
   ]
  },
  {
   "cell_type": "code",
   "execution_count": 91,
   "id": "1ba945ee-6f2f-4e63-a091-017521c9303a",
   "metadata": {},
   "outputs": [
    {
     "data": {
      "text/plain": [
       "            \n",
       "             setosa versicolor virginica\n",
       "  setosa         15          0         0\n",
       "  versicolor      0         16         1\n",
       "  virginica       0          0        13"
      ]
     },
     "metadata": {},
     "output_type": "display_data"
    }
   ],
   "source": [
    "table(predict(model_net_iris1, testing, type = 'class'), testing$Species)"
   ]
  },
  {
   "cell_type": "code",
   "execution_count": 92,
   "id": "e0a072db-a3bf-4314-96b0-206be4f68e62",
   "metadata": {},
   "outputs": [
    {
     "data": {
      "text/plain": [
       "            \n",
       "             setosa versicolor virginica\n",
       "  setosa         15          0         0\n",
       "  versicolor      0         16         1\n",
       "  virginica       0          0        13"
      ]
     },
     "metadata": {},
     "output_type": "display_data"
    }
   ],
   "source": [
    "table(predict(model_net_iris3, testing, type = 'class'), testing$Species)"
   ]
  },
  {
   "cell_type": "code",
   "execution_count": 89,
   "id": "c728dda4-90a4-4790-b840-fbe58b276c00",
   "metadata": {},
   "outputs": [
    {
     "data": {
      "text/plain": [
       "            \n",
       "             setosa versicolor virginica\n",
       "  setosa         15          0         0\n",
       "  versicolor      0         16         1\n",
       "  virginica       0          0        13"
      ]
     },
     "metadata": {},
     "output_type": "display_data"
    },
    {
     "data": {
      "text/plain": [
       "            \n",
       "             setosa versicolor virginica\n",
       "  setosa         15          0         0\n",
       "  versicolor      0         16         1\n",
       "  virginica       0          0        13"
      ]
     },
     "metadata": {},
     "output_type": "display_data"
    }
   ],
   "source": [
    "# 분류모델 평가\n",
    "table(predict(model_net_iris1, testing, type = 'class'), testing$Species)\n",
    "# 분류모델 평가\n",
    "table(predict(model_net_iris3, testing, type = 'class'), testing$Species)"
   ]
  },
  {
   "cell_type": "markdown",
   "id": "d2e3be71-0937-4f47-915a-2fb66828851c",
   "metadata": {},
   "source": [
    "- nnet 패키지에서 제공되는 인공신경망 모델은 1개의 은닉층으로 최적화되어 있기 때문에, 은닉층 노드의 수를 3개로 늘려서 연산을 늘려도 분류정확도는 크게 달라지지 않는다. "
   ]
  },
  {
   "cell_type": "markdown",
   "id": "3a46a603-9ae7-413e-92cb-999dfd2eaafb",
   "metadata": {},
   "source": [
    "---"
   ]
  },
  {
   "cell_type": "markdown",
   "id": "18de52cd-ce63-4a1d-9fda-1d97c3fff80f",
   "metadata": {},
   "source": [
    "- 역전파 알고리즘을 적용할 수 있는 모델에 대해 알아보자\n",
    "- 출력변수는 1과 0의 수치형이어야 한다. "
   ]
  },
  {
   "cell_type": "code",
   "execution_count": 97,
   "id": "acf636f6-3a8d-486c-a5cd-78b08f36c74d",
   "metadata": {},
   "outputs": [
    {
     "data": {
      "text/html": [
       "<table class=\"dataframe\">\n",
       "<caption>A data.frame: 3 × 5</caption>\n",
       "<thead>\n",
       "\t<tr><th></th><th scope=col>Sepal.Length</th><th scope=col>Sepal.Width</th><th scope=col>Petal.Length</th><th scope=col>Petal.Width</th><th scope=col>Species2</th></tr>\n",
       "\t<tr><th></th><th scope=col>&lt;dbl&gt;</th><th scope=col>&lt;dbl&gt;</th><th scope=col>&lt;dbl&gt;</th><th scope=col>&lt;dbl&gt;</th><th scope=col>&lt;dbl&gt;</th></tr>\n",
       "</thead>\n",
       "<tbody>\n",
       "\t<tr><th scope=row>57</th><td>6.3</td><td>3.3</td><td>4.7</td><td>1.6</td><td>2</td></tr>\n",
       "\t<tr><th scope=row>110</th><td>7.2</td><td>3.6</td><td>6.1</td><td>2.5</td><td>3</td></tr>\n",
       "\t<tr><th scope=row>70</th><td>5.6</td><td>2.5</td><td>3.9</td><td>1.1</td><td>2</td></tr>\n",
       "</tbody>\n",
       "</table>\n"
      ],
      "text/latex": [
       "A data.frame: 3 × 5\n",
       "\\begin{tabular}{r|lllll}\n",
       "  & Sepal.Length & Sepal.Width & Petal.Length & Petal.Width & Species2\\\\\n",
       "  & <dbl> & <dbl> & <dbl> & <dbl> & <dbl>\\\\\n",
       "\\hline\n",
       "\t57 & 6.3 & 3.3 & 4.7 & 1.6 & 2\\\\\n",
       "\t110 & 7.2 & 3.6 & 6.1 & 2.5 & 3\\\\\n",
       "\t70 & 5.6 & 2.5 & 3.9 & 1.1 & 2\\\\\n",
       "\\end{tabular}\n"
      ],
      "text/markdown": [
       "\n",
       "A data.frame: 3 × 5\n",
       "\n",
       "| <!--/--> | Sepal.Length &lt;dbl&gt; | Sepal.Width &lt;dbl&gt; | Petal.Length &lt;dbl&gt; | Petal.Width &lt;dbl&gt; | Species2 &lt;dbl&gt; |\n",
       "|---|---|---|---|---|---|\n",
       "| 57 | 6.3 | 3.3 | 4.7 | 1.6 | 2 |\n",
       "| 110 | 7.2 | 3.6 | 6.1 | 2.5 | 3 |\n",
       "| 70 | 5.6 | 2.5 | 3.9 | 1.1 | 2 |\n",
       "\n"
      ],
      "text/plain": [
       "    Sepal.Length Sepal.Width Petal.Length Petal.Width Species2\n",
       "57  6.3          3.3         4.7          1.6         2       \n",
       "110 7.2          3.6         6.1          2.5         3       \n",
       "70  5.6          2.5         3.9          1.1         2       "
      ]
     },
     "metadata": {},
     "output_type": "display_data"
    },
    {
     "data": {
      "text/html": [
       "<table class=\"dataframe\">\n",
       "<caption>A data.frame: 3 × 5</caption>\n",
       "<thead>\n",
       "\t<tr><th></th><th scope=col>Sepal.Length</th><th scope=col>Sepal.Width</th><th scope=col>Petal.Length</th><th scope=col>Petal.Width</th><th scope=col>Species2</th></tr>\n",
       "\t<tr><th></th><th scope=col>&lt;dbl&gt;</th><th scope=col>&lt;dbl&gt;</th><th scope=col>&lt;dbl&gt;</th><th scope=col>&lt;dbl&gt;</th><th scope=col>&lt;dbl&gt;</th></tr>\n",
       "</thead>\n",
       "<tbody>\n",
       "\t<tr><th scope=row>3</th><td>4.7</td><td>3.2</td><td>1.3</td><td>0.2</td><td>1</td></tr>\n",
       "\t<tr><th scope=row>7</th><td>4.6</td><td>3.4</td><td>1.4</td><td>0.3</td><td>1</td></tr>\n",
       "\t<tr><th scope=row>9</th><td>4.4</td><td>2.9</td><td>1.4</td><td>0.2</td><td>1</td></tr>\n",
       "</tbody>\n",
       "</table>\n"
      ],
      "text/latex": [
       "A data.frame: 3 × 5\n",
       "\\begin{tabular}{r|lllll}\n",
       "  & Sepal.Length & Sepal.Width & Petal.Length & Petal.Width & Species2\\\\\n",
       "  & <dbl> & <dbl> & <dbl> & <dbl> & <dbl>\\\\\n",
       "\\hline\n",
       "\t3 & 4.7 & 3.2 & 1.3 & 0.2 & 1\\\\\n",
       "\t7 & 4.6 & 3.4 & 1.4 & 0.3 & 1\\\\\n",
       "\t9 & 4.4 & 2.9 & 1.4 & 0.2 & 1\\\\\n",
       "\\end{tabular}\n"
      ],
      "text/markdown": [
       "\n",
       "A data.frame: 3 × 5\n",
       "\n",
       "| <!--/--> | Sepal.Length &lt;dbl&gt; | Sepal.Width &lt;dbl&gt; | Petal.Length &lt;dbl&gt; | Petal.Width &lt;dbl&gt; | Species2 &lt;dbl&gt; |\n",
       "|---|---|---|---|---|---|\n",
       "| 3 | 4.7 | 3.2 | 1.3 | 0.2 | 1 |\n",
       "| 7 | 4.6 | 3.4 | 1.4 | 0.3 | 1 |\n",
       "| 9 | 4.4 | 2.9 | 1.4 | 0.2 | 1 |\n",
       "\n"
      ],
      "text/plain": [
       "  Sepal.Length Sepal.Width Petal.Length Petal.Width Species2\n",
       "3 4.7          3.2         1.3          0.2         1       \n",
       "7 4.6          3.4         1.4          0.3         1       \n",
       "9 4.4          2.9         1.4          0.2         1       "
      ]
     },
     "metadata": {},
     "output_type": "display_data"
    }
   ],
   "source": [
    "library(neuralnet)\n",
    "\n",
    "data('iris')\n",
    "idx = sample(1:nrow(iris), 0.7 * nrow(iris))\n",
    "training_iris = iris[idx, ]\n",
    "testing_iris = iris[-idx, ]\n",
    "\n",
    "# 수치형으로 칼럼 생성\n",
    "training_iris$Species2[training_iris$Species == 'setosa'] = 1\n",
    "training_iris$Species2[training_iris$Species == 'versicolor'] = 2\n",
    "training_iris$Species2[training_iris$Species == 'virginica'] = 3\n",
    "training_iris$Species = NULL # 기존 칼럼 제거\n",
    "head(training_iris,3)\n",
    "\n",
    "testing_iris$Species2[testing_iris$Species == 'setosa'] = 1\n",
    "testing_iris$Species2[testing_iris$Species == 'versicolor'] = 2\n",
    "testing_iris$Species2[testing_iris$Species == 'virginica'] = 3\n",
    "testing_iris$Species = NULL # 기존 칼럼 제거\n",
    "head(testing_iris,3)"
   ]
  },
  {
   "cell_type": "code",
   "execution_count": 99,
   "id": "87187ffe-ad68-43fb-a299-6720e877318b",
   "metadata": {},
   "outputs": [],
   "source": [
    "# 데이터 정규화\n",
    "# 정규화 함수 정의\n",
    "normal = function(x){\n",
    "    return((x - min(x)) / (max(x) - min(x)))}"
   ]
  },
  {
   "cell_type": "code",
   "execution_count": 100,
   "id": "9fa44fe6-3de7-4da6-864e-b81dfc9e5eba",
   "metadata": {},
   "outputs": [
    {
     "data": {
      "text/plain": [
       "  Sepal.Length     Sepal.Width      Petal.Length      Petal.Width     \n",
       " Min.   :0.0000   Min.   :0.0000   Min.   :0.00000   Min.   :0.00000  \n",
       " 1st Qu.:0.2121   1st Qu.:0.3636   1st Qu.:0.08475   1st Qu.:0.08333  \n",
       " Median :0.4242   Median :0.4545   Median :0.57627   Median :0.54167  \n",
       " Mean   :0.4378   Mean   :0.4844   Mean   :0.46877   Mean   :0.46548  \n",
       " 3rd Qu.:0.6061   3rd Qu.:0.6364   3rd Qu.:0.69492   3rd Qu.:0.70833  \n",
       " Max.   :1.0000   Max.   :1.0000   Max.   :1.00000   Max.   :1.00000  \n",
       "    Species2     \n",
       " Min.   :0.0000  \n",
       " 1st Qu.:0.0000  \n",
       " Median :0.5000  \n",
       " Mean   :0.5143  \n",
       " 3rd Qu.:1.0000  \n",
       " Max.   :1.0000  "
      ]
     },
     "metadata": {},
     "output_type": "display_data"
    },
    {
     "data": {
      "text/plain": [
       "  Sepal.Length     Sepal.Width      Petal.Length      Petal.Width    \n",
       " Min.   :0.0000   Min.   :0.0000   Min.   :0.00000   Min.   :0.0000  \n",
       " 1st Qu.:0.2222   1st Qu.:0.2381   1st Qu.:0.09091   1st Qu.:0.1304  \n",
       " Median :0.4167   Median :0.3333   Median :0.58182   Median :0.5217  \n",
       " Mean   :0.4278   Mean   :0.3513   Mean   :0.48000   Mean   :0.4599  \n",
       " 3rd Qu.:0.5833   3rd Qu.:0.4762   3rd Qu.:0.72727   3rd Qu.:0.6522  \n",
       " Max.   :1.0000   Max.   :1.0000   Max.   :1.00000   Max.   :1.0000  \n",
       "    Species2     \n",
       " Min.   :0.0000  \n",
       " 1st Qu.:0.0000  \n",
       " Median :0.5000  \n",
       " Mean   :0.4667  \n",
       " 3rd Qu.:1.0000  \n",
       " Max.   :1.0000  "
      ]
     },
     "metadata": {},
     "output_type": "display_data"
    }
   ],
   "source": [
    "# 정규화 함수 이용하여 데이터 정규화 진행\n",
    "training_nor = as.data.frame(lapply(training_iris, normal))\n",
    "summary(training_nor)\n",
    "testing_nor = as.data.frame(lapply(testing_iris, normal))\n",
    "summary(testing_nor)"
   ]
  },
  {
   "cell_type": "markdown",
   "id": "8d8d5e9b-d2b0-4bd5-aa16-7b95e74f3c6b",
   "metadata": {},
   "source": [
    "- 0 ~ 1로 정규화된 것을 알 수 있다.\n",
    "  - 정규화 : 데이터의 분포가 특정 범위 안에 들어가도록 조정하는 방법\n",
    "  - 표준화 : 동일한 평균을 중심으로 관측값들이 얼마나 떨어져 있는지 나타내는 방법."
   ]
  },
  {
   "cell_type": "code",
   "execution_count": 103,
   "id": "080794cd-245a-41eb-a574-701e47a59b88",
   "metadata": {},
   "outputs": [
    {
     "data": {
      "text/html": [
       "<dl>\n",
       "\t<dt>$names</dt>\n",
       "\t\t<dd><style>\n",
       ".list-inline {list-style: none; margin:0; padding: 0}\n",
       ".list-inline>li {display: inline-block}\n",
       ".list-inline>li:not(:last-child)::after {content: \"\\00b7\"; padding: 0 .5ex}\n",
       "</style>\n",
       "<ol class=list-inline><li>'call'</li><li>'response'</li><li>'covariate'</li><li>'model.list'</li><li>'err.fct'</li><li>'act.fct'</li><li>'linear.output'</li><li>'data'</li><li>'exclude'</li><li>'net.result'</li><li>'weights'</li><li>'generalized.weights'</li><li>'startweights'</li><li>'result.matrix'</li></ol>\n",
       "</dd>\n",
       "\t<dt>$class</dt>\n",
       "\t\t<dd>'nn'</dd>\n",
       "</dl>\n"
      ],
      "text/latex": [
       "\\begin{description}\n",
       "\\item[\\$names] \\begin{enumerate*}\n",
       "\\item 'call'\n",
       "\\item 'response'\n",
       "\\item 'covariate'\n",
       "\\item 'model.list'\n",
       "\\item 'err.fct'\n",
       "\\item 'act.fct'\n",
       "\\item 'linear.output'\n",
       "\\item 'data'\n",
       "\\item 'exclude'\n",
       "\\item 'net.result'\n",
       "\\item 'weights'\n",
       "\\item 'generalized.weights'\n",
       "\\item 'startweights'\n",
       "\\item 'result.matrix'\n",
       "\\end{enumerate*}\n",
       "\n",
       "\\item[\\$class] 'nn'\n",
       "\\end{description}\n"
      ],
      "text/markdown": [
       "$names\n",
       ":   1. 'call'\n",
       "2. 'response'\n",
       "3. 'covariate'\n",
       "4. 'model.list'\n",
       "5. 'err.fct'\n",
       "6. 'act.fct'\n",
       "7. 'linear.output'\n",
       "8. 'data'\n",
       "9. 'exclude'\n",
       "10. 'net.result'\n",
       "11. 'weights'\n",
       "12. 'generalized.weights'\n",
       "13. 'startweights'\n",
       "14. 'result.matrix'\n",
       "\n",
       "\n",
       "\n",
       "$class\n",
       ":   'nn'\n",
       "\n",
       "\n"
      ],
      "text/plain": [
       "$names\n",
       " [1] \"call\"                \"response\"            \"covariate\"          \n",
       " [4] \"model.list\"          \"err.fct\"             \"act.fct\"            \n",
       " [7] \"linear.output\"       \"data\"                \"exclude\"            \n",
       "[10] \"net.result\"          \"weights\"             \"generalized.weights\"\n",
       "[13] \"startweights\"        \"result.matrix\"      \n",
       "\n",
       "$class\n",
       "[1] \"nn\"\n"
      ]
     },
     "metadata": {},
     "output_type": "display_data"
    }
   ],
   "source": [
    "attributes(model_net)"
   ]
  },
  {
   "cell_type": "code",
   "execution_count": 105,
   "id": "afe01b35-6800-4adb-b9ec-f57eadcf8fb4",
   "metadata": {},
   "outputs": [
    {
     "data": {
      "text/plain": [
       "neuralnet(formula = Species2 ~ Sepal.Length + Sepal.Width + Petal.Length + \n",
       "    Petal.Width, data = training_nor, hidden = 1)"
      ]
     },
     "metadata": {},
     "output_type": "display_data"
    }
   ],
   "source": [
    "model_net$call\n",
    "# 등등... 살펴볼 수 있다."
   ]
  },
  {
   "cell_type": "code",
   "execution_count": 107,
   "id": "9be037fb-2a2f-488d-a087-50483ecefba5",
   "metadata": {},
   "outputs": [],
   "source": [
    "plot(model_net)\n",
    "# Rstudio에서 확인하면 인공신경망 구조 시각화할 수 있다."
   ]
  },
  {
   "cell_type": "code",
   "execution_count": 111,
   "id": "69d9ed6c-2f1e-4d2c-805f-dae44b178edc",
   "metadata": {},
   "outputs": [
    {
     "data": {
      "text/html": [
       "<table class=\"dataframe\">\n",
       "<caption>A matrix: 45 × 1 of type dbl</caption>\n",
       "<tbody>\n",
       "\t<tr><td> 0.009885439</td></tr>\n",
       "\t<tr><td> 0.014013032</td></tr>\n",
       "\t<tr><td> 0.026807983</td></tr>\n",
       "\t<tr><td> 0.009358142</td></tr>\n",
       "\t<tr><td>-0.010001099</td></tr>\n",
       "\t<tr><td> 0.035306443</td></tr>\n",
       "\t<tr><td> 0.020299006</td></tr>\n",
       "\t<tr><td> 0.021133324</td></tr>\n",
       "\t<tr><td> 0.001749970</td></tr>\n",
       "\t<tr><td>-0.011540629</td></tr>\n",
       "\t<tr><td> 0.019915231</td></tr>\n",
       "\t<tr><td> 0.060096761</td></tr>\n",
       "\t<tr><td> 0.015383757</td></tr>\n",
       "\t<tr><td> 0.024554083</td></tr>\n",
       "\t<tr><td>-0.001655595</td></tr>\n",
       "\t<tr><td> 0.581084459</td></tr>\n",
       "\t<tr><td> 0.649413934</td></tr>\n",
       "\t<tr><td> 0.745100961</td></tr>\n",
       "\t<tr><td> 0.752332192</td></tr>\n",
       "\t<tr><td> 0.713556677</td></tr>\n",
       "\t<tr><td> 0.488266209</td></tr>\n",
       "\t<tr><td> 0.621098610</td></tr>\n",
       "\t<tr><td> 0.495031616</td></tr>\n",
       "\t<tr><td> 0.578108004</td></tr>\n",
       "\t<tr><td> 0.858077222</td></tr>\n",
       "\t<tr><td> 0.581492549</td></tr>\n",
       "\t<tr><td> 0.551700870</td></tr>\n",
       "\t<tr><td> 0.946808867</td></tr>\n",
       "\t<tr><td> 0.692236383</td></tr>\n",
       "\t<tr><td> 0.684556199</td></tr>\n",
       "\t<tr><td> 0.709930562</td></tr>\n",
       "\t<tr><td> 0.596167689</td></tr>\n",
       "\t<tr><td> 0.684572032</td></tr>\n",
       "\t<tr><td> 1.124068759</td></tr>\n",
       "\t<tr><td> 1.144704308</td></tr>\n",
       "\t<tr><td> 1.049614616</td></tr>\n",
       "\t<tr><td> 0.941690843</td></tr>\n",
       "\t<tr><td> 1.108133018</td></tr>\n",
       "\t<tr><td> 0.913535092</td></tr>\n",
       "\t<tr><td> 1.065738721</td></tr>\n",
       "\t<tr><td> 0.962985919</td></tr>\n",
       "\t<tr><td> 0.865390397</td></tr>\n",
       "\t<tr><td> 1.118438610</td></tr>\n",
       "\t<tr><td> 1.115327203</td></tr>\n",
       "\t<tr><td> 1.052712740</td></tr>\n",
       "</tbody>\n",
       "</table>\n"
      ],
      "text/latex": [
       "A matrix: 45 × 1 of type dbl\n",
       "\\begin{tabular}{l}\n",
       "\t  0.009885439\\\\\n",
       "\t  0.014013032\\\\\n",
       "\t  0.026807983\\\\\n",
       "\t  0.009358142\\\\\n",
       "\t -0.010001099\\\\\n",
       "\t  0.035306443\\\\\n",
       "\t  0.020299006\\\\\n",
       "\t  0.021133324\\\\\n",
       "\t  0.001749970\\\\\n",
       "\t -0.011540629\\\\\n",
       "\t  0.019915231\\\\\n",
       "\t  0.060096761\\\\\n",
       "\t  0.015383757\\\\\n",
       "\t  0.024554083\\\\\n",
       "\t -0.001655595\\\\\n",
       "\t  0.581084459\\\\\n",
       "\t  0.649413934\\\\\n",
       "\t  0.745100961\\\\\n",
       "\t  0.752332192\\\\\n",
       "\t  0.713556677\\\\\n",
       "\t  0.488266209\\\\\n",
       "\t  0.621098610\\\\\n",
       "\t  0.495031616\\\\\n",
       "\t  0.578108004\\\\\n",
       "\t  0.858077222\\\\\n",
       "\t  0.581492549\\\\\n",
       "\t  0.551700870\\\\\n",
       "\t  0.946808867\\\\\n",
       "\t  0.692236383\\\\\n",
       "\t  0.684556199\\\\\n",
       "\t  0.709930562\\\\\n",
       "\t  0.596167689\\\\\n",
       "\t  0.684572032\\\\\n",
       "\t  1.124068759\\\\\n",
       "\t  1.144704308\\\\\n",
       "\t  1.049614616\\\\\n",
       "\t  0.941690843\\\\\n",
       "\t  1.108133018\\\\\n",
       "\t  0.913535092\\\\\n",
       "\t  1.065738721\\\\\n",
       "\t  0.962985919\\\\\n",
       "\t  0.865390397\\\\\n",
       "\t  1.118438610\\\\\n",
       "\t  1.115327203\\\\\n",
       "\t  1.052712740\\\\\n",
       "\\end{tabular}\n"
      ],
      "text/markdown": [
       "\n",
       "A matrix: 45 × 1 of type dbl\n",
       "\n",
       "|  0.009885439 |\n",
       "|  0.014013032 |\n",
       "|  0.026807983 |\n",
       "|  0.009358142 |\n",
       "| -0.010001099 |\n",
       "|  0.035306443 |\n",
       "|  0.020299006 |\n",
       "|  0.021133324 |\n",
       "|  0.001749970 |\n",
       "| -0.011540629 |\n",
       "|  0.019915231 |\n",
       "|  0.060096761 |\n",
       "|  0.015383757 |\n",
       "|  0.024554083 |\n",
       "| -0.001655595 |\n",
       "|  0.581084459 |\n",
       "|  0.649413934 |\n",
       "|  0.745100961 |\n",
       "|  0.752332192 |\n",
       "|  0.713556677 |\n",
       "|  0.488266209 |\n",
       "|  0.621098610 |\n",
       "|  0.495031616 |\n",
       "|  0.578108004 |\n",
       "|  0.858077222 |\n",
       "|  0.581492549 |\n",
       "|  0.551700870 |\n",
       "|  0.946808867 |\n",
       "|  0.692236383 |\n",
       "|  0.684556199 |\n",
       "|  0.709930562 |\n",
       "|  0.596167689 |\n",
       "|  0.684572032 |\n",
       "|  1.124068759 |\n",
       "|  1.144704308 |\n",
       "|  1.049614616 |\n",
       "|  0.941690843 |\n",
       "|  1.108133018 |\n",
       "|  0.913535092 |\n",
       "|  1.065738721 |\n",
       "|  0.962985919 |\n",
       "|  0.865390397 |\n",
       "|  1.118438610 |\n",
       "|  1.115327203 |\n",
       "|  1.052712740 |\n",
       "\n"
      ],
      "text/plain": [
       "      [,1]        \n",
       " [1,]  0.009885439\n",
       " [2,]  0.014013032\n",
       " [3,]  0.026807983\n",
       " [4,]  0.009358142\n",
       " [5,] -0.010001099\n",
       " [6,]  0.035306443\n",
       " [7,]  0.020299006\n",
       " [8,]  0.021133324\n",
       " [9,]  0.001749970\n",
       "[10,] -0.011540629\n",
       "[11,]  0.019915231\n",
       "[12,]  0.060096761\n",
       "[13,]  0.015383757\n",
       "[14,]  0.024554083\n",
       "[15,] -0.001655595\n",
       "[16,]  0.581084459\n",
       "[17,]  0.649413934\n",
       "[18,]  0.745100961\n",
       "[19,]  0.752332192\n",
       "[20,]  0.713556677\n",
       "[21,]  0.488266209\n",
       "[22,]  0.621098610\n",
       "[23,]  0.495031616\n",
       "[24,]  0.578108004\n",
       "[25,]  0.858077222\n",
       "[26,]  0.581492549\n",
       "[27,]  0.551700870\n",
       "[28,]  0.946808867\n",
       "[29,]  0.692236383\n",
       "[30,]  0.684556199\n",
       "[31,]  0.709930562\n",
       "[32,]  0.596167689\n",
       "[33,]  0.684572032\n",
       "[34,]  1.124068759\n",
       "[35,]  1.144704308\n",
       "[36,]  1.049614616\n",
       "[37,]  0.941690843\n",
       "[38,]  1.108133018\n",
       "[39,]  0.913535092\n",
       "[40,]  1.065738721\n",
       "[41,]  0.962985919\n",
       "[42,]  0.865390397\n",
       "[43,]  1.118438610\n",
       "[44,]  1.115327203\n",
       "[45,]  1.052712740"
      ]
     },
     "metadata": {},
     "output_type": "display_data"
    }
   ],
   "source": [
    "# 분류모델 성능 평가\n",
    "model_result = compute(model_net, testing_nor[c(1:4)])\n",
    "model_result$net.result # 분류 예측값 보기"
   ]
  },
  {
   "cell_type": "code",
   "execution_count": 113,
   "id": "3e471c64-f3d7-4c2f-b24a-5a7751224ba9",
   "metadata": {},
   "outputs": [
    {
     "data": {
      "text/html": [
       "<table class=\"dataframe\">\n",
       "<caption>A matrix: 1 × 1 of type dbl</caption>\n",
       "<tbody>\n",
       "\t<tr><td>0.9645181</td></tr>\n",
       "</tbody>\n",
       "</table>\n"
      ],
      "text/latex": [
       "A matrix: 1 × 1 of type dbl\n",
       "\\begin{tabular}{l}\n",
       "\t 0.9645181\\\\\n",
       "\\end{tabular}\n"
      ],
      "text/markdown": [
       "\n",
       "A matrix: 1 × 1 of type dbl\n",
       "\n",
       "| 0.9645181 |\n",
       "\n"
      ],
      "text/plain": [
       "     [,1]     \n",
       "[1,] 0.9645181"
      ]
     },
     "metadata": {},
     "output_type": "display_data"
    }
   ],
   "source": [
    "# 상관관계 분석 - 상관관계로 두 변수 간 선형관계의 강도 측정\n",
    "cor(model_result$net.result, testing_nor$Species2)"
   ]
  },
  {
   "cell_type": "markdown",
   "id": "677a69c5-e34f-454f-81d4-7492cdef1a51",
   "metadata": {},
   "source": [
    "- 예측된 꽃의 종과 실제 관측치 사이의 상관관계를 측정한다."
   ]
  },
  {
   "cell_type": "code",
   "execution_count": 117,
   "id": "b3ae49ff-e69e-4243-a6eb-14b341855e32",
   "metadata": {},
   "outputs": [
    {
     "data": {
      "text/html": [
       "<table class=\"dataframe\">\n",
       "<caption>A matrix: 1 × 1 of type dbl</caption>\n",
       "<tbody>\n",
       "\t<tr><td>0.9645181</td></tr>\n",
       "</tbody>\n",
       "</table>\n"
      ],
      "text/latex": [
       "A matrix: 1 × 1 of type dbl\n",
       "\\begin{tabular}{l}\n",
       "\t 0.9645181\\\\\n",
       "\\end{tabular}\n"
      ],
      "text/markdown": [
       "\n",
       "A matrix: 1 × 1 of type dbl\n",
       "\n",
       "| 0.9645181 |\n",
       "\n"
      ],
      "text/plain": [
       "     [,1]     \n",
       "[1,] 0.9645181"
      ]
     },
     "metadata": {},
     "output_type": "display_data"
    }
   ],
   "source": [
    "# 분류모델 성능 향상 - 은닉층 노드 2개 지정, backprop 속성 적용\n",
    "\n",
    "# 인공신경망 모델 생성\n",
    "model_net2 = neuralnet(Species2 ~ Sepal.Length + Sepal.Width + Petal.Length + Petal.Width, data = training_nor, \n",
    "                      hidden = 2, algorithm = 'backprop', learningrate = 0.01)\n",
    "# algorithm = 'backprop' => 역전파를 통해서 가중치와 경계값을 조정하여 오차를 줄이기 위해서 사용되는 속성.\n",
    "# 역전파 알고리즘을 적용할 경우 학습비율을 지정하는 속성으로 여기서는 1%를 지정하고 있다.\n",
    "\n",
    "\n",
    "# 분류모델 예측시 생성과 평가\n",
    "model_result = compute(model_net, testing_nor[c(1:4)])\n",
    "cor(model_result$net.result, testing_nor$Species2)"
   ]
  },
  {
   "cell_type": "markdown",
   "id": "c1fe79a1-9cae-4f3e-931e-45169d0f9463",
   "metadata": {},
   "source": [
    "- 분류모델의 성능 향상\n",
    "  - 은닉층의 노드 증가 - 무조건 향상되진 않음.\n",
    "  - 역전파 알고리즘"
   ]
  },
  {
   "cell_type": "markdown",
   "id": "0d3480bd-ad05-4bc7-afe5-f860f0b954e4",
   "metadata": {},
   "source": [
    "---"
   ]
  },
  {
   "cell_type": "markdown",
   "id": "0dc1f583-54e5-48a5-9793-bf2083a67458",
   "metadata": {},
   "source": [
    "- 비지도 학습\n",
    "  - 데이터에 의한 학습을 통해 최적의 판단이나 예측을 가능하게 해주는 기계학습 방법의 하나로 어떤 입력에 대해서 어떤 결과가 출력되는지 사전지식이 없는 상태에서 컴퓨터 스스로 공통점과 차이점 등의 패턴을 찾아서 규칙을 생성하고 분석 결과를 도출해내는 방식.\n",
    "  - Y 변수가 없어서 검정데이터를 이용하여 모델 평가 불가"
   ]
  },
  {
   "cell_type": "markdown",
   "id": "f6f1a75e-ec8d-4fec-95b2-7adf5681aff0",
   "metadata": {},
   "source": [
    "- 군집 분석\n",
    "  - 데이터 간의 유사도 정의, 그 유사도에 가까운 것부터 순서대로 합쳐 가는 방법.\n",
    "  - 군집을 형성한 후 각 그룹의 성격을 파악하거나 그룹 간의 비교분석을 통해서 데이터 전체 구조에 대한 이해를 돕고자 하는 탐색적인 분석 방법.\n",
    "  - 여기서 유사도는 거리를 이용하며, ***유클리디안 거리***를 많이 사용함.\n",
    "  - 분석 결과에 대한 가설검정 없음\n",
    "  - 반응변수가 존재하지 않는 데이터 마이닝(대규모 데이터에 포함된 유용한 정보를 발견하는 과정) 기법이다. \n",
    "  - 규칙을 기잔으로 계층적인 트리구조를 생성한다. "
   ]
  },
  {
   "cell_type": "markdown",
   "id": "3fdec860-b90a-47c4-99ef-6da3885b802d",
   "metadata": {},
   "source": [
    "- 군집 분석에서 주의할 것\n",
    "  - 1) 군집화를 위해서 거리 측정에 사용되는 변인은 비율척도나 등간척도여야 한다. \n",
    "  - 2) 변수를 표준화하여 사용해야 한다.\n",
    "  - 3) 계층적 군집 분석과 비계층적 군집 분석으로 분류된다. "
   ]
  },
  {
   "cell_type": "markdown",
   "id": "05267cc1-9a40-4caf-a16c-fbdc5be322da",
   "metadata": {},
   "source": [
    "---"
   ]
  },
  {
   "cell_type": "markdown",
   "id": "653aea86-efc4-4a6a-8ee6-52c2a494f405",
   "metadata": {},
   "source": [
    "- 유클리디안 거리\n",
    "  - 두 점 사이의 거리를 계산하는 방법으로 이 거리를 이용하여 유클리드 공간을 정의할 수 있다.\n",
    "  - 보통 알고있는 두 점 사이 공식과 동일하며, 따라서 관측대싱 $P$와 $q$의 대응하는 변량 값의 차가 작으면, 두 관측대상은 유사하다고 정의하는 식이다."
   ]
  },
  {
   "cell_type": "code",
   "execution_count": 118,
   "id": "f22ba7ed-4db8-445a-a577-2a147cf86c4f",
   "metadata": {},
   "outputs": [
    {
     "data": {
      "text/html": [
       "<table class=\"dataframe\">\n",
       "<caption>A matrix: 3 × 3 of type int</caption>\n",
       "<tbody>\n",
       "\t<tr><td>1</td><td>2</td><td>3</td></tr>\n",
       "\t<tr><td>4</td><td>5</td><td>6</td></tr>\n",
       "\t<tr><td>7</td><td>8</td><td>9</td></tr>\n",
       "</tbody>\n",
       "</table>\n"
      ],
      "text/latex": [
       "A matrix: 3 × 3 of type int\n",
       "\\begin{tabular}{lll}\n",
       "\t 1 & 2 & 3\\\\\n",
       "\t 4 & 5 & 6\\\\\n",
       "\t 7 & 8 & 9\\\\\n",
       "\\end{tabular}\n"
      ],
      "text/markdown": [
       "\n",
       "A matrix: 3 × 3 of type int\n",
       "\n",
       "| 1 | 2 | 3 |\n",
       "| 4 | 5 | 6 |\n",
       "| 7 | 8 | 9 |\n",
       "\n"
      ],
      "text/plain": [
       "     [,1] [,2] [,3]\n",
       "[1,] 1    2    3   \n",
       "[2,] 4    5    6   \n",
       "[3,] 7    8    9   "
      ]
     },
     "metadata": {},
     "output_type": "display_data"
    }
   ],
   "source": [
    "# 유클리디안 거리 계산법\n",
    "x = matrix(1:9, nrow = 3, by = T )\n",
    "x"
   ]
  },
  {
   "cell_type": "code",
   "execution_count": 119,
   "id": "e3fe5265-7c72-4f40-b5ee-129ae8455b06",
   "metadata": {},
   "outputs": [
    {
     "data": {
      "text/plain": [
       "          1         2\n",
       "2  5.196152          \n",
       "3 10.392305  5.196152"
      ]
     },
     "metadata": {},
     "output_type": "display_data"
    }
   ],
   "source": [
    "# 유클리디안 거리 생성\n",
    "dist = dist(x, method = 'euclidean')\n",
    "dist"
   ]
  },
  {
   "cell_type": "code",
   "execution_count": 123,
   "id": "84b6c8ed-1e76-440d-941c-32e127ec6805",
   "metadata": {},
   "outputs": [
    {
     "data": {
      "text/html": [
       "5.19615242270663"
      ],
      "text/latex": [
       "5.19615242270663"
      ],
      "text/markdown": [
       "5.19615242270663"
      ],
      "text/plain": [
       "[1] 5.196152"
      ]
     },
     "metadata": {},
     "output_type": "display_data"
    }
   ],
   "source": [
    "# 1행과 2행 변량의 유클리디안 거리.\n",
    "sqrt(sum((x[1,] - x[2,])^2))"
   ]
  },
  {
   "cell_type": "markdown",
   "id": "144455a4-8ff5-4368-8a17-dcd0a7929945",
   "metadata": {},
   "source": [
    "- 객체의 값이 서로 가까울수록 유클리디안 거리값이 적은 값으로 나타난다. "
   ]
  },
  {
   "cell_type": "markdown",
   "id": "9c697add-a226-4222-82f1-16b9a0e0f6dc",
   "metadata": {},
   "source": [
    "---"
   ]
  },
  {
   "cell_type": "markdown",
   "id": "5cec8159-8d77-4e0e-ab51-7e80c54a25cb",
   "metadata": {},
   "source": [
    "- 계층적 군집 분석\n",
    "  - 개별대상 간의 거리에 의하여 가장 가까운 대상부터 결합하여 나무 모양의 계층구조를 상향식(Bottom-Up)으로 만들어가면서 군집을 형성하는 방법\n",
    "  - 군집 대상 간의 거리를 산정하는 기준에 따라 단일결합기준, 완전결합기준, 평균결합기준, 중심결합기준, 그리고 ward(유클리디안 제곱 거리)방식으로 분류된다.\n",
    "  - 장점 : 군집 형성 과정 파악 可\n",
    "  - 단점 : 큰 자료 처리 힘듦"
   ]
  },
  {
   "cell_type": "code",
   "execution_count": 124,
   "id": "82503b37-3af3-4f96-abc9-deaf791b783f",
   "metadata": {},
   "outputs": [
    {
     "name": "stdout",
     "output_type": "stream",
     "text": [
      "package 'cluster' successfully unpacked and MD5 sums checked\n",
      "\n",
      "The downloaded binary packages are in\n",
      "\tC:\\Users\\ehfus\\AppData\\Local\\Temp\\RtmpMjPsvI\\downloaded_packages\n"
     ]
    },
    {
     "data": {
      "image/png": "[encoded data removed]",
      "text/plain": [
       "Plot with title \"Cluster Dendrogram\""
      ]
     },
     "metadata": {
      "image/png": {
       "height": 420,
       "width": 420
      }
     },
     "output_type": "display_data"
    }
   ],
   "source": [
    "# 유클리디안 거리를 이용한 군집화\n",
    "install.packages('cluster')\n",
    "library(cluster)\n",
    "\n",
    "x = matrix(1:9, nrow = 3, by = T)\n",
    "\n",
    "dist = dist(x, method = 'euclidian')\n",
    "\n",
    "# 유클리디안 거리 matrix를 이용한 군집화\n",
    "hc = hclust(dist)\n",
    "\n",
    "plot(hc)"
   ]
  },
  {
   "cell_type": "markdown",
   "id": "f6fa54c4-8168-458a-9df2-3c4b39e3b8d9",
   "metadata": {},
   "source": [
    "- 유사도가 가까운 1과 2가 하나의 군집으로 형성되고, 3은 1과 2의 군집과 거리가 동떨어져 있다. \n",
    "- Height는 해당 군집에 대한 유클리디안 거리를 의미."
   ]
  }
 ],
 "metadata": {
  "kernelspec": {
   "display_name": "R",
   "language": "R",
   "name": "ir"
  },
  "language_info": {
   "codemirror_mode": "r",
   "file_extension": ".r",
   "mimetype": "text/x-r-source",
   "name": "R",
   "pygments_lexer": "r",
   "version": "4.0.5"
  }
 },
 "nbformat": 4,
 "nbformat_minor": 5
}
