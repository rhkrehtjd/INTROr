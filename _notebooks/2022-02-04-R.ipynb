{
 "cells": [
  {
   "cell_type": "markdown",
   "id": "b11c5627-e98d-4d67-a2bd-aeaaa7a63ac0",
   "metadata": {},
   "source": [
    "# 변수,자료형,기본 함수, 작업공간"
   ]
  },
  {
   "cell_type": "markdown",
   "id": "598181cd-ae86-4755-925e-1655fac279ec",
   "metadata": {},
   "source": [
    "- 변수는 분석에 필요한 자료를 일시적으로 저장하거나 처리결과를 담을 수 있는 기억장소를 지정해주는 역할을 한다. 즉 변수의 이름은 값을 저장하는 메모리 영역의 이름으로 할당된다. 또한 R은 모든 변수가 객체(object) 형태로 생성되기 때문에 하나의 변수에 자료와 함수 그리고 차트와 같은 이미지까지 모든 형식을 저장할 수 있다. \n",
    "  - 변수 이름 작성 규칙\n",
    "    - 첫 자는 영문자로 시작\n",
    "    - 두 번째 단어는 숫자와 밑줄 문자 그리고 점(.)을 이용할 수 있다.\n",
    "    - 대문자와 소문자는 서로 다른 변수로 인식한다. \n",
    "    - 변수 이름은 의미를 파악할 수 있는 이름으로 지정하는 것이 좋다.\n",
    "    - 두 단어를 포함하여 변수 이름을 지정할 경우 두 번째 단어의 첫 자는 대문자로 표기한다. \n",
    "    - 한 번 정의된 변수는 재사용이 가능하고 가장 최근에 할당된 값으로 수정된다."
   ]
  },
  {
   "cell_type": "code",
   "execution_count": 1,
   "id": "aa7675d2-c3d4-4170-8659-026eda17ad67",
   "metadata": {},
   "outputs": [],
   "source": [
    "var1 <- 0\n",
    "var1 = 9"
   ]
  },
  {
   "cell_type": "code",
   "execution_count": 2,
   "id": "de070939-7699-4620-836e-91597d0bec45",
   "metadata": {},
   "outputs": [
    {
     "data": {
      "text/html": [
       "9"
      ],
      "text/latex": [
       "9"
      ],
      "text/markdown": [
       "9"
      ],
      "text/plain": [
       "[1] 9"
      ]
     },
     "metadata": {},
     "output_type": "display_data"
    }
   ],
   "source": [
    "var1"
   ]
  },
  {
   "cell_type": "markdown",
   "id": "3c108bc0-3cd7-41fa-8e0c-3237a9b94738",
   "metadata": {},
   "source": [
    "- `=` 나 `<-` 둘 다 사용가능하다"
   ]
  },
  {
   "cell_type": "markdown",
   "id": "c5a1f72d-9f80-4044-a119-beaa63ba4d9f",
   "metadata": {},
   "source": [
    "---"
   ]
  },
  {
   "cell_type": "markdown",
   "id": "b164c929-fdc0-4481-b146-94c37346f9de",
   "metadata": {},
   "source": [
    "- 스칼라 변수 : 한 개의 값만 갖는 변수를 의미한다.\n",
    "- 벡터 변수 :  두 개 이상의 값을 갖는 변수를 의미한다.\n",
    "  - 여러 개의 자료를 저장할 수 있는 1차원의 선형 자료구조이다. "
   ]
  },
  {
   "cell_type": "code",
   "execution_count": 7,
   "id": "a3ab16fa-453c-4721-86b0-662723972f55",
   "metadata": {},
   "outputs": [
    {
     "data": {
      "text/html": [
       "35"
      ],
      "text/latex": [
       "35"
      ],
      "text/markdown": [
       "35"
      ],
      "text/plain": [
       "[1] 35"
      ]
     },
     "metadata": {},
     "output_type": "display_data"
    },
    {
     "data": {
      "text/html": [
       "'홍길동'"
      ],
      "text/latex": [
       "'홍길동'"
      ],
      "text/markdown": [
       "'홍길동'"
      ],
      "text/plain": [
       "[1] \"홍길동\""
      ]
     },
     "metadata": {},
     "output_type": "display_data"
    }
   ],
   "source": [
    "age<-35 # 정수\n",
    "name<-'홍길동' # 문자열\n",
    "age;name\n",
    "name<-c('홍길동','이순신','곽도성')\n",
    "# 이건 두 개 이상의 값을 갖는 변수, 여러 개의 자료를 저장할 수 있는 1차원의 선형 자료구조\n",
    "# 즉 벡터변수"
   ]
  },
  {
   "cell_type": "markdown",
   "id": "dae2d938-a17f-4806-a080-5ed222d887b0",
   "metadata": {},
   "source": [
    "---"
   ]
  },
  {
   "cell_type": "markdown",
   "id": "6587766e-b210-40a9-bc0c-255cd9f59460",
   "metadata": {},
   "source": [
    "- R은 변수를 선언할 때 별도의 자료형(type)을 선언하지 않는다. 즉 변수에 저장하는 자료의 유형에 의해서 변수의 타입이 결정된다!\n",
    "  - 숫자형 : 정수, 실수\n",
    "  - 문자형 : 문자, 문자열\n",
    "  - 논리형 : 참, 거짓\n",
    "  - 결측 데이터 : 결측치, 비숫자(NA,NaN)"
   ]
  },
  {
   "cell_type": "code",
   "execution_count": 8,
   "id": "7d9c34de-26ca-4005-9b87-b982d0c43c36",
   "metadata": {},
   "outputs": [],
   "source": [
    "int<-20\n",
    "string<-'홍길동'\n",
    "boolean<-TRUE # True파이썬에서는 이렇게 작성해야 함"
   ]
  },
  {
   "cell_type": "code",
   "execution_count": 11,
   "id": "c3462aa4-130c-4eb3-a9bd-f073d4104cb8",
   "metadata": {},
   "outputs": [
    {
     "data": {
      "text/html": [
       "60"
      ],
      "text/latex": [
       "60"
      ],
      "text/markdown": [
       "60"
      ],
      "text/plain": [
       "[1] 60"
      ]
     },
     "metadata": {},
     "output_type": "display_data"
    }
   ],
   "source": [
    "sum(10,20,30)\n",
    "# 3개의 숫자형 값의 합계 연산"
   ]
  },
  {
   "cell_type": "code",
   "execution_count": 15,
   "id": "6458f984-541e-4ad5-b113-4d11b2430ad2",
   "metadata": {},
   "outputs": [
    {
     "data": {
      "text/html": [
       "&lt;NA&gt;"
      ],
      "text/latex": [
       "<NA>"
      ],
      "text/markdown": [
       "&lt;NA&gt;"
      ],
      "text/plain": [
       "[1] NA"
      ]
     },
     "metadata": {},
     "output_type": "display_data"
    },
    {
     "data": {
      "text/html": [
       "60"
      ],
      "text/latex": [
       "60"
      ],
      "text/markdown": [
       "60"
      ],
      "text/plain": [
       "[1] 60"
      ]
     },
     "metadata": {},
     "output_type": "display_data"
    }
   ],
   "source": [
    "sum(10,20,30,NA)\n",
    "# sum 안 됨\n",
    "sum(10,20,30,NA,na.rm=TRUE)\n",
    "# na.rm=TRUE를 통해 NA 결측치 제거 후 합계 연산"
   ]
  },
  {
   "cell_type": "code",
   "execution_count": 17,
   "id": "70cdf6f5-f18c-4472-a380-d15e5d88fd3f",
   "metadata": {},
   "outputs": [
    {
     "data": {
      "text/html": [
       "<style>\n",
       ".list-inline {list-style: none; margin:0; padding: 0}\n",
       ".list-inline>li {display: inline-block}\n",
       ".list-inline>li:not(:last-child)::after {content: \"\\00b7\"; padding: 0 .5ex}\n",
       "</style>\n",
       "<ol class=list-inline><li>'age'</li><li>'boolean'</li><li>'int'</li><li>'name'</li><li>'string'</li><li>'var1'</li></ol>\n"
      ],
      "text/latex": [
       "\\begin{enumerate*}\n",
       "\\item 'age'\n",
       "\\item 'boolean'\n",
       "\\item 'int'\n",
       "\\item 'name'\n",
       "\\item 'string'\n",
       "\\item 'var1'\n",
       "\\end{enumerate*}\n"
      ],
      "text/markdown": [
       "1. 'age'\n",
       "2. 'boolean'\n",
       "3. 'int'\n",
       "4. 'name'\n",
       "5. 'string'\n",
       "6. 'var1'\n",
       "\n",
       "\n"
      ],
      "text/plain": [
       "[1] \"age\"     \"boolean\" \"int\"     \"name\"    \"string\"  \"var1\"   "
      ]
     },
     "metadata": {},
     "output_type": "display_data"
    }
   ],
   "source": [
    "# 이건 현재 사용 중인 변수(객체) 보기\n",
    "ls()"
   ]
  },
  {
   "cell_type": "markdown",
   "id": "ef5f8fc0-dfb8-4d0e-bc51-79b7c89fd499",
   "metadata": {},
   "source": [
    "---"
   ]
  },
  {
   "cell_type": "markdown",
   "id": "275c34f2-073c-471d-930d-db5e664f4352",
   "metadata": {},
   "source": [
    "- 자료형 확인\n",
    "  - 변수에 저장된 자료형을 확인하는 함수를 이용하여 반환되는 TRUE 또는 FALSE의 결과를 통해서 해당 변수의 자료형을 확인할 수 있다.\n",
    "  - is.numeric(x) - 수치형 여부\n",
    "  - is.logical(x)\n",
    "  - is.character(x) - 문자형 여부\n",
    "  - is.data.frame(x) - 데이터프레임 여부\n",
    "  - is.na(x)\n",
    "  - is.integer(x) - 정수형 여부\n",
    "  - is.double(x) - 실수형 여부\n",
    "  - is.complex(x)\n",
    "  - is.factor(x) - 범주형 여부\n",
    "  - is.nan(x)"
   ]
  },
  {
   "cell_type": "code",
   "execution_count": 19,
   "id": "0c851384-dfba-4379-926e-8b3c31ebc148",
   "metadata": {},
   "outputs": [
    {
     "data": {
      "text/html": [
       "TRUE"
      ],
      "text/latex": [
       "TRUE"
      ],
      "text/markdown": [
       "TRUE"
      ],
      "text/plain": [
       "[1] TRUE"
      ]
     },
     "metadata": {},
     "output_type": "display_data"
    }
   ],
   "source": [
    "is.character(string)"
   ]
  },
  {
   "cell_type": "markdown",
   "id": "f1a8e032-4df6-4115-994d-867d6698d780",
   "metadata": {},
   "source": [
    "---"
   ]
  },
  {
   "cell_type": "markdown",
   "id": "20e06fac-c8c2-4bc5-954a-853d027b26c1",
   "metadata": {},
   "source": [
    "- 자료형 변환\n",
    "  - 변수에 저장된 자료형을 다른 자료형으로 변환하자\n",
    "    - as.numeric(x) - 수치형 변환\n",
    "    - as.logical(x)\n",
    "    - as.character(x) - 문자형 변환\n",
    "    - as.data.frame(x) - 데이터프레임 변환\n",
    "    - as.list(x) - 리스트형 변환\n",
    "    - as.array(x) - 다차원 배열 변환\n",
    "    - as.integer(x) - 정수형 변환\n",
    "    - as.double(x) - 실수형 변환\n",
    "    - as.complex(x)\n",
    "    - as.factor(x) - 요인형 변환\n",
    "    - as.Data(x) - 날짜형 변환"
   ]
  },
  {
   "cell_type": "code",
   "execution_count": 22,
   "id": "1c902fc6-74cb-46b4-8f81-92ca6cbfe573",
   "metadata": {},
   "outputs": [
    {
     "data": {
      "text/html": [
       "<style>\n",
       ".list-inline {list-style: none; margin:0; padding: 0}\n",
       ".list-inline>li {display: inline-block}\n",
       ".list-inline>li:not(:last-child)::after {content: \"\\00b7\"; padding: 0 .5ex}\n",
       "</style>\n",
       "<ol class=list-inline><li>3</li><li>6</li><li>9</li></ol>\n"
      ],
      "text/latex": [
       "\\begin{enumerate*}\n",
       "\\item 3\n",
       "\\item 6\n",
       "\\item 9\n",
       "\\end{enumerate*}\n"
      ],
      "text/markdown": [
       "1. 3\n",
       "2. 6\n",
       "3. 9\n",
       "\n",
       "\n"
      ],
      "text/plain": [
       "[1] 3 6 9"
      ]
     },
     "metadata": {},
     "output_type": "display_data"
    },
    {
     "data": {
      "text/html": [
       "<style>\n",
       ".list-inline {list-style: none; margin:0; padding: 0}\n",
       ".list-inline>li {display: inline-block}\n",
       ".list-inline>li:not(:last-child)::after {content: \"\\00b7\"; padding: 0 .5ex}\n",
       "</style>\n",
       "<ol class=list-inline><li>3</li><li>6</li><li>9</li></ol>\n"
      ],
      "text/latex": [
       "\\begin{enumerate*}\n",
       "\\item 3\n",
       "\\item 6\n",
       "\\item 9\n",
       "\\end{enumerate*}\n"
      ],
      "text/markdown": [
       "1. 3\n",
       "2. 6\n",
       "3. 9\n",
       "\n",
       "\n"
      ],
      "text/plain": [
       "[1] 3 6 9"
      ]
     },
     "metadata": {},
     "output_type": "display_data"
    }
   ],
   "source": [
    "x<-c(1,2,'3') # 3개의 원소를 갖는 벡터 생성\n",
    "# x*3\n",
    "# 이렇게 작성하면 이항연산자에 수치가 아닌 인수가 있다는 error가 발생하게 됨\n",
    "result<-as.numeric(x)*3\n",
    "result2<-as.integer(x)*3\n",
    "result\n",
    "result2"
   ]
  },
  {
   "cell_type": "markdown",
   "id": "c6d3983f-2405-47c7-a9cb-5227821aaeb2",
   "metadata": {},
   "source": [
    "- c() 함수를 이용하여 벡터를 생성할 경우 원소 중 한 개라도 문자이면 모든 원소를 문자로 하여 객체가 생성된다. 따라서 이항연산자에 수치가 아닌 인수가 있다는 error가 발생하게 된다. "
   ]
  },
  {
   "cell_type": "markdown",
   "id": "7f126987-217c-4f0a-b4a5-99d84be95884",
   "metadata": {},
   "source": [
    "---"
   ]
  },
  {
   "cell_type": "markdown",
   "id": "9d2021f3-cf2b-40b5-9841-5fd78ce82202",
   "metadata": {},
   "source": [
    "- 복소수"
   ]
  },
  {
   "cell_type": "code",
   "execution_count": 27,
   "id": "63d9cefc-ef2b-4f18-8693-3c0e7a92cfe6",
   "metadata": {},
   "outputs": [
    {
     "data": {
      "text/html": [
       "5.3"
      ],
      "text/latex": [
       "5.3"
      ],
      "text/markdown": [
       "5.3"
      ],
      "text/plain": [
       "[1] 5.3"
      ]
     },
     "metadata": {},
     "output_type": "display_data"
    },
    {
     "data": {
      "text/html": [
       "-3"
      ],
      "text/latex": [
       "-3"
      ],
      "text/markdown": [
       "-3"
      ],
      "text/plain": [
       "[1] -3"
      ]
     },
     "metadata": {},
     "output_type": "display_data"
    },
    {
     "data": {
      "text/html": [
       "TRUE"
      ],
      "text/latex": [
       "TRUE"
      ],
      "text/markdown": [
       "TRUE"
      ],
      "text/plain": [
       "[1] TRUE"
      ]
     },
     "metadata": {},
     "output_type": "display_data"
    }
   ],
   "source": [
    "z<-5.3-3i\n",
    "Re(z) # 실수\n",
    "Im(z) # 허수\n",
    "is.complex(z)"
   ]
  },
  {
   "cell_type": "code",
   "execution_count": 29,
   "id": "74bb743d-11f0-4fbf-82b0-718d899ab84c",
   "metadata": {},
   "outputs": [
    {
     "data": {
      "text/html": [
       "123+0i"
      ],
      "text/latex": [
       "123+0i"
      ],
      "text/markdown": [
       "123+0i"
      ],
      "text/plain": [
       "[1] 123+0i"
      ]
     },
     "metadata": {},
     "output_type": "display_data"
    }
   ],
   "source": [
    "as.complex(123)"
   ]
  },
  {
   "cell_type": "markdown",
   "id": "1801645e-2740-4408-bbea-f5c5291a5172",
   "metadata": {},
   "source": [
    "---"
   ]
  },
  {
   "cell_type": "markdown",
   "id": "065cb583-51d6-46d9-91e8-1e2dec3137c9",
   "metadata": {},
   "source": [
    "- 자료형과 자료구조 보기\n",
    "  - 자료형은 변수에 저장된 자료의 성격(숫자형, 문자형, 논리형)을 의미하고, 자료구조는 변수에 저장된 자료의 메모리 구조(배열, 리스트, 테이블)를 의미한다. 메모리 구조는 객체가 생성될 때 만들어지기 때문에 자료구조를 객체형(Object Type)이라고도 한다. R에서는 mode()를 이용하여 자료형을 확인할 수 있고, class()를 이용하여 자료 구조, 즉 메모리 구조를 확인할 수 있다. "
   ]
  },
  {
   "cell_type": "code",
   "execution_count": 31,
   "id": "62f2f924-1a68-4fce-9ce4-6a5c77057f17",
   "metadata": {},
   "outputs": [
    {
     "data": {
      "text/html": [
       "'numeric'"
      ],
      "text/latex": [
       "'numeric'"
      ],
      "text/markdown": [
       "'numeric'"
      ],
      "text/plain": [
       "[1] \"numeric\""
      ]
     },
     "metadata": {},
     "output_type": "display_data"
    },
    {
     "data": {
      "text/html": [
       "'numeric'"
      ],
      "text/latex": [
       "'numeric'"
      ],
      "text/markdown": [
       "'numeric'"
      ],
      "text/plain": [
       "[1] \"numeric\""
      ]
     },
     "metadata": {},
     "output_type": "display_data"
    }
   ],
   "source": [
    "int<-3\n",
    "mode(int) # 자료의 성격을 알려준다. \n",
    "class(int) # 자료구조의 성격을 알려준다."
   ]
  },
  {
   "cell_type": "markdown",
   "id": "9806ff0d-92ee-4c4f-a94e-0001e5528da9",
   "metadata": {},
   "source": [
    "- 이처럼 벡터 변수가 아닌 스칼라 변수일 땐 자료의 성격을 알려주는 mode()와 자료 구조의 성격을 알려주는 class() 함수의 결과는 같은 유형으로 나타난다."
   ]
  },
  {
   "cell_type": "markdown",
   "id": "1e5c40aa-c6f9-426e-9b22-abbc0ddedb20",
   "metadata": {},
   "source": [
    "---"
   ]
  },
  {
   "cell_type": "markdown",
   "id": "b25fdc8f-106d-401f-80ab-9b4d9cab44e9",
   "metadata": {},
   "source": [
    "- 요인(Factor)형 변환\n",
    "  - 요인(Factor)은 같은 성격인 값의 목록을 범주로 갖는 벡터 자료를 의미한다. 범주는 변수가 가질 수 있는 값의 범위로 예를 들면 성별 변수의 범주는 남자와 여자가 되낟. 요인형은 순서에 의미가 없는 Nominal 유형과 순서에 의미가 있는 Ordinal 유형으로 구분된다. \n",
    "    - Nominal : 범주의 순서는 알파벳 순서로 정렬\n",
    "    - Ordinal : 범주의 순서는 사용자가 지정한 순서대로 정렬"
   ]
  },
  {
   "cell_type": "code",
   "execution_count": 32,
   "id": "dce8f446-20c3-4440-8b46-6463ce88887a",
   "metadata": {},
   "outputs": [],
   "source": [
    "gender<- c('man','woman','woman','man','man')\n",
    "# plot(gender)\n",
    "# error 발생, 차트는 수치 데이터만 가능하다. "
   ]
  },
  {
   "cell_type": "markdown",
   "id": "e63334bb-45ec-466f-b2fe-05d003e56488",
   "metadata": {},
   "source": [
    "- Factor Nominal : 벡터 원소를 요인형으로 변환한 경우 범주의 순서가 알파벳 순서로 정렬되는 요인형의 기본 유형이다. "
   ]
  },
  {
   "cell_type": "code",
   "execution_count": 34,
   "id": "b68a3c45-1e48-4e55-b37d-24cf19c576ef",
   "metadata": {},
   "outputs": [],
   "source": [
    "Ngender<-as.factor(gender) # Factor형 변환"
   ]
  },
  {
   "cell_type": "code",
   "execution_count": 35,
   "id": "fa662334-4b03-48ef-bb1c-4802f75e91b8",
   "metadata": {},
   "outputs": [
    {
     "data": {
      "text/html": [
       "<style>\n",
       ".list-inline {list-style: none; margin:0; padding: 0}\n",
       ".list-inline>li {display: inline-block}\n",
       ".list-inline>li:not(:last-child)::after {content: \"\\00b7\"; padding: 0 .5ex}\n",
       "</style>\n",
       "<ol class=list-inline><li>man</li><li>woman</li><li>woman</li><li>man</li><li>man</li></ol>\n",
       "\n",
       "<details>\n",
       "\t<summary style=display:list-item;cursor:pointer>\n",
       "\t\t<strong>Levels</strong>:\n",
       "\t</summary>\n",
       "\t<style>\n",
       "\t.list-inline {list-style: none; margin:0; padding: 0}\n",
       "\t.list-inline>li {display: inline-block}\n",
       "\t.list-inline>li:not(:last-child)::after {content: \"\\00b7\"; padding: 0 .5ex}\n",
       "\t</style>\n",
       "\t<ol class=list-inline><li>'man'</li><li>'woman'</li></ol>\n",
       "</details>"
      ],
      "text/latex": [
       "\\begin{enumerate*}\n",
       "\\item man\n",
       "\\item woman\n",
       "\\item woman\n",
       "\\item man\n",
       "\\item man\n",
       "\\end{enumerate*}\n",
       "\n",
       "\\emph{Levels}: \\begin{enumerate*}\n",
       "\\item 'man'\n",
       "\\item 'woman'\n",
       "\\end{enumerate*}\n"
      ],
      "text/markdown": [
       "1. man\n",
       "2. woman\n",
       "3. woman\n",
       "4. man\n",
       "5. man\n",
       "\n",
       "\n",
       "\n",
       "**Levels**: 1. 'man'\n",
       "2. 'woman'\n",
       "\n",
       "\n"
      ],
      "text/plain": [
       "[1] man   woman woman man   man  \n",
       "Levels: man woman"
      ]
     },
     "metadata": {},
     "output_type": "display_data"
    }
   ],
   "source": [
    "Ngender"
   ]
  },
  {
   "cell_type": "markdown",
   "id": "89e4f12f-dec7-466e-9da2-aab99d3923aa",
   "metadata": {},
   "source": [
    "- 여기서 Levels가 의미하는 것이 범주이다. 여기서 범주의 수준(Levels)은 값의 목록을 알파벳 순서로 정렬한다. "
   ]
  },
  {
   "cell_type": "code",
   "execution_count": 36,
   "id": "74f80a9a-9a36-4c9e-afd9-45f95cd8c653",
   "metadata": {},
   "outputs": [
    {
     "data": {
      "text/plain": [
       "Ngender\n",
       "  man woman \n",
       "    3     2 "
      ]
     },
     "metadata": {},
     "output_type": "display_data"
    }
   ],
   "source": [
    "table(Ngender)\n",
    "# 빈도수 구하기"
   ]
  },
  {
   "cell_type": "markdown",
   "id": "953da72a-355e-4ce4-997e-0975e7f3d709",
   "metadata": {},
   "source": [
    "- gender 원소 중에서 같은 값의 수량을 수치화한 빈도수를 확인할 수 있다. 여기서 man과 woman은 범주가 된다. 범주가 된다는 의미는 gender 변수가 값을 가질 수 잇는 범위를 의미한다. 또한 빈도수는 해당 범주의 발생 수를 의미한다. "
   ]
  },
  {
   "cell_type": "code",
   "execution_count": 37,
   "id": "3d42e6cc-5f4c-46dd-920c-9596b49b6b0c",
   "metadata": {},
   "outputs": [
    {
     "data": {
      "image/png": "[encoded data removed]",
      "text/plain": [
       "plot without title"
      ]
     },
     "metadata": {
      "image/png": {
       "height": 420,
       "width": 420
      }
     },
     "output_type": "display_data"
    }
   ],
   "source": [
    "plot(Ngender)"
   ]
  },
  {
   "cell_type": "code",
   "execution_count": 38,
   "id": "badbf630-696e-407b-a876-73420305b884",
   "metadata": {},
   "outputs": [
    {
     "data": {
      "text/html": [
       "'numeric'"
      ],
      "text/latex": [
       "'numeric'"
      ],
      "text/markdown": [
       "'numeric'"
      ],
      "text/plain": [
       "[1] \"numeric\""
      ]
     },
     "metadata": {},
     "output_type": "display_data"
    },
    {
     "data": {
      "text/html": [
       "'factor'"
      ],
      "text/latex": [
       "'factor'"
      ],
      "text/markdown": [
       "'factor'"
      ],
      "text/plain": [
       "[1] \"factor\""
      ]
     },
     "metadata": {},
     "output_type": "display_data"
    },
    {
     "data": {
      "text/html": [
       "TRUE"
      ],
      "text/latex": [
       "TRUE"
      ],
      "text/markdown": [
       "TRUE"
      ],
      "text/plain": [
       "[1] TRUE"
      ]
     },
     "metadata": {},
     "output_type": "display_data"
    }
   ],
   "source": [
    "mode(Ngender)\n",
    "class(Ngender)\n",
    "is.factor(Ngender)"
   ]
  },
  {
   "cell_type": "markdown",
   "id": "28789d1e-3a4d-4aa0-b347-504c862e962c",
   "metadata": {},
   "source": [
    "---"
   ]
  },
  {
   "cell_type": "markdown",
   "id": "2d89dae6-4c2e-4bed-9778-2fabef7a5d7b",
   "metadata": {},
   "source": [
    "- Factor Ordinal : 범주의 순서를 사용자가 지정한 순서대로 정렬하는 기능으로 factor() 함수의 형식은 다음과 같다.\n",
    "-   \n",
    "  ```r\n",
    "  factor(x,levels,ordered)\n",
    "  ```"
   ]
  },
  {
   "cell_type": "code",
   "execution_count": 40,
   "id": "1aee58cd-bed0-49c4-8806-4c67e542ed26",
   "metadata": {},
   "outputs": [
    {
     "data": {
      "text/html": [
       "<pre class=language-r><code>function (x = character(), levels, labels = levels, exclude = NA, \n",
       "<span style=white-space:pre-wrap>    ordered = is.ordered(x), nmax = NA) </span>\n",
       "NULL</code></pre>"
      ],
      "text/latex": [
       "\\begin{minted}{r}\n",
       "function (x = character(), levels, labels = levels, exclude = NA, \n",
       "    ordered = is.ordered(x), nmax = NA) \n",
       "NULL\n",
       "\\end{minted}"
      ],
      "text/markdown": [
       "```r\n",
       "function (x = character(), levels, labels = levels, exclude = NA, \n",
       "    ordered = is.ordered(x), nmax = NA) \n",
       "NULL\n",
       "```"
      ],
      "text/plain": [
       "function (x = character(), levels, labels = levels, exclude = NA, \n",
       "    ordered = is.ordered(x), nmax = NA) \n",
       "NULL"
      ]
     },
     "metadata": {},
     "output_type": "display_data"
    }
   ],
   "source": [
    "# factor() 함수의 매개변수 보기\n",
    "args(factor)"
   ]
  },
  {
   "cell_type": "code",
   "execution_count": 43,
   "id": "7ed2001e-0d1d-4d14-98ca-bf818cb57bd7",
   "metadata": {},
   "outputs": [
    {
     "data": {
      "text/html": [
       "<style>\n",
       ".list-inline {list-style: none; margin:0; padding: 0}\n",
       ".list-inline>li {display: inline-block}\n",
       ".list-inline>li:not(:last-child)::after {content: \"\\00b7\"; padding: 0 .5ex}\n",
       "</style>\n",
       "<ol class=list-inline><li>man</li><li>woman</li><li>woman</li><li>man</li><li>man</li></ol>\n",
       "\n",
       "<details>\n",
       "\t<summary style=display:list-item;cursor:pointer>\n",
       "\t\t<strong>Levels</strong>:\n",
       "\t</summary>\n",
       "\t<style>\n",
       "\t.list-inline {list-style: none; margin:0; padding: 0}\n",
       "\t.list-inline>li {display: inline-block}\n",
       "\t.list-inline>li:not(:last-child)::after {content: \"\\00b7\"; padding: 0 .5ex}\n",
       "\t</style>\n",
       "\t<ol class=list-inline><li>'woman'</li><li>'man'</li></ol>\n",
       "</details>"
      ],
      "text/latex": [
       "\\begin{enumerate*}\n",
       "\\item man\n",
       "\\item woman\n",
       "\\item woman\n",
       "\\item man\n",
       "\\item man\n",
       "\\end{enumerate*}\n",
       "\n",
       "\\emph{Levels}: \\begin{enumerate*}\n",
       "\\item 'woman'\n",
       "\\item 'man'\n",
       "\\end{enumerate*}\n"
      ],
      "text/markdown": [
       "1. man\n",
       "2. woman\n",
       "3. woman\n",
       "4. man\n",
       "5. man\n",
       "\n",
       "\n",
       "\n",
       "**Levels**: 1. 'woman'\n",
       "2. 'man'\n",
       "\n",
       "\n"
      ],
      "text/plain": [
       "[1] man   woman woman man   man  \n",
       "Levels: woman < man"
      ]
     },
     "metadata": {},
     "output_type": "display_data"
    }
   ],
   "source": [
    "Ogender<-factor(gender,levels=c('woman','man'),ordered = TRUE)\n",
    "Ogender\n",
    "# factor 함수에서 사용할 수 있는 매개변수를 확인하고, 해당 변수를 이용하여 순서 잇는 요인형으로 변환한 후 Levels:에서 범주의 순서를 확인할 수 있다. \n",
    "# 전에는 man이 먼저 나왔는데 이번엔 woman이 먼저 나온 것을 확인할 수 있다. "
   ]
  },
  {
   "cell_type": "code",
   "execution_count": 47,
   "id": "e6ff5482-5277-418d-8cf1-c7a8bd12c66b",
   "metadata": {},
   "outputs": [
    {
     "data": {
      "image/png": "[encoded data removed]",
      "text/plain": [
       "plot without title"
      ]
     },
     "metadata": {
      "image/png": {
       "height": 420,
       "width": 420
      }
     },
     "output_type": "display_data"
    }
   ],
   "source": [
    "par(mfrow=c(1,2)) \n",
    "# 두 개의 그래프를 Plots 영역에 나타낼 수 있다.\n",
    "# (2,2)라고 바꿔주면 4개의 그래프를 그릴 수 있다.\n",
    "plot(Ngender)\n",
    "plot(Ogender)"
   ]
  },
  {
   "cell_type": "markdown",
   "id": "e63933bb-36b0-42fa-96ca-ea6cb11eea7b",
   "metadata": {},
   "source": [
    "---"
   ]
  },
  {
   "cell_type": "markdown",
   "id": "cb77b185-b424-487b-b0b6-d88bd06f3efa",
   "metadata": {},
   "source": [
    "- 날짜형 변환 : 인터넷 또는 로컬 파일로부터 가져온 자료 중에서 날짜형 칼럼은 요인형 또는 문자형으로 인식되기 때문에 정확한 날짜형으로 변환할 필요가 있다."
   ]
  },
  {
   "cell_type": "code",
   "execution_count": 51,
   "id": "9e270a36-2a7d-434e-a131-5dc76b3208a5",
   "metadata": {},
   "outputs": [
    {
     "data": {
      "text/html": [
       "<time datetime=\"2020-02-28\">2020-02-28</time>"
      ],
      "text/latex": [
       "2020-02-28"
      ],
      "text/markdown": [
       "2020-02-28"
      ],
      "text/plain": [
       "[1] \"2020-02-28\""
      ]
     },
     "metadata": {},
     "output_type": "display_data"
    },
    {
     "data": {
      "text/html": [
       "'Date'"
      ],
      "text/latex": [
       "'Date'"
      ],
      "text/markdown": [
       "'Date'"
      ],
      "text/plain": [
       "[1] \"Date\""
      ]
     },
     "metadata": {},
     "output_type": "display_data"
    }
   ],
   "source": [
    "a=as.Date('20/02/28','%y/%m/%d')\n",
    "a\n",
    "class(a)"
   ]
  },
  {
   "cell_type": "code",
   "execution_count": 58,
   "id": "0deea3ca-7088-431d-93d2-f7aa5bcd7733",
   "metadata": {},
   "outputs": [
    {
     "data": {
      "text/html": [
       "<style>\n",
       ".list-inline {list-style: none; margin:0; padding: 0}\n",
       ".list-inline>li {display: inline-block}\n",
       ".list-inline>li:not(:last-child)::after {content: \"\\00b7\"; padding: 0 .5ex}\n",
       "</style>\n",
       "<ol class=list-inline><li><time datetime=\"2015-02-24\">2015-02-24</time></li><li><time datetime=\"2010-02-02\">2010-02-02</time></li><li><time datetime=\"2016-08-14\">2016-08-14</time></li></ol>\n"
      ],
      "text/latex": [
       "\\begin{enumerate*}\n",
       "\\item 2015-02-24\n",
       "\\item 2010-02-02\n",
       "\\item 2016-08-14\n",
       "\\end{enumerate*}\n"
      ],
      "text/markdown": [
       "1. 2015-02-24\n",
       "2. 2010-02-02\n",
       "3. 2016-08-14\n",
       "\n",
       "\n"
      ],
      "text/plain": [
       "[1] \"2015-02-24\" \"2010-02-02\" \"2016-08-14\""
      ]
     },
     "metadata": {},
     "output_type": "display_data"
    }
   ],
   "source": [
    "dates=c('15/02/24','10/02/2','16/08/14')\n",
    "as.Date(dates,'%y/%m/%d')"
   ]
  },
  {
   "cell_type": "code",
   "execution_count": 59,
   "id": "5d83e8b0-248e-496f-8b26-5e99505ef228",
   "metadata": {},
   "outputs": [
    {
     "data": {
      "text/html": [
       "<style>\n",
       ".list-inline {list-style: none; margin:0; padding: 0}\n",
       ".list-inline>li {display: inline-block}\n",
       ".list-inline>li:not(:last-child)::after {content: \"\\00b7\"; padding: 0 .5ex}\n",
       "</style>\n",
       "<ol class=list-inline><li><time datetime=\"&lt;NA&gt;\">&lt;NA&gt;</time></li><li><time datetime=\"1998-02-02\">1998-02-02</time></li><li><time datetime=\"2016-08-14\">2016-08-14</time></li></ol>\n"
      ],
      "text/latex": [
       "\\begin{enumerate*}\n",
       "\\item <NA>\n",
       "\\item 1998-02-02\n",
       "\\item 2016-08-14\n",
       "\\end{enumerate*}\n"
      ],
      "text/markdown": [
       "1. &lt;NA&gt;\n",
       "2. 1998-02-02\n",
       "3. 2016-08-14\n",
       "\n",
       "\n"
      ],
      "text/plain": [
       "[1] NA           \"1998-02-02\" \"2016-08-14\""
      ]
     },
     "metadata": {},
     "output_type": "display_data"
    }
   ],
   "source": [
    "dates=c('15/22/24','98/02/2','16/08/14')\n",
    "as.Date(dates,'%y/%m/%d')"
   ]
  },
  {
   "cell_type": "markdown",
   "id": "5d3f2d01-89ff-4892-afa5-214eeaf0fc12",
   "metadata": {},
   "source": [
    "- 22월이라는 날짜는 없으므로 NA처리 되었다. \n",
    "- 년도 4자리로 작성 : %Y\n",
    "- 년도 2자리로 작성 : %y\n",
    "- 24시간 : %H\n",
    "- 12시간 : %I\n",
    "- 분 : %M\n",
    "- 초 : %S"
   ]
  },
  {
   "cell_type": "markdown",
   "id": "61bd022d-8f2c-432b-b896-827e46cda019",
   "metadata": {},
   "source": [
    "---"
   ]
  },
  {
   "cell_type": "markdown",
   "id": "30742664-c495-4085-a9ff-136778033686",
   "metadata": {},
   "source": [
    "- 현재 날짜와 시간 확인"
   ]
  },
  {
   "cell_type": "code",
   "execution_count": 68,
   "id": "baad4086-4e17-42cc-8285-9c881401653d",
   "metadata": {},
   "outputs": [
    {
     "data": {
      "text/html": [
       "'numeric'"
      ],
      "text/latex": [
       "'numeric'"
      ],
      "text/markdown": [
       "'numeric'"
      ],
      "text/plain": [
       "[1] \"numeric\""
      ]
     },
     "metadata": {},
     "output_type": "display_data"
    },
    {
     "data": {
      "text/html": [
       "<style>\n",
       ".list-inline {list-style: none; margin:0; padding: 0}\n",
       ".list-inline>li {display: inline-block}\n",
       ".list-inline>li:not(:last-child)::after {content: \"\\00b7\"; padding: 0 .5ex}\n",
       "</style>\n",
       "<ol class=list-inline><li>'POSIXct'</li><li>'POSIXt'</li></ol>\n"
      ],
      "text/latex": [
       "\\begin{enumerate*}\n",
       "\\item 'POSIXct'\n",
       "\\item 'POSIXt'\n",
       "\\end{enumerate*}\n"
      ],
      "text/markdown": [
       "1. 'POSIXct'\n",
       "2. 'POSIXt'\n",
       "\n",
       "\n"
      ],
      "text/plain": [
       "[1] \"POSIXct\" \"POSIXt\" "
      ]
     },
     "metadata": {},
     "output_type": "display_data"
    }
   ],
   "source": [
    "a=Sys.time()\n",
    "mode(a)\n",
    "class(a)"
   ]
  },
  {
   "cell_type": "markdown",
   "id": "ca3c1f14-fa21-42ef-aa33-c25829e3d8aa",
   "metadata": {},
   "source": [
    "- strptime()를 이용한 날짜형 변환"
   ]
  },
  {
   "cell_type": "code",
   "execution_count": 63,
   "id": "62eeb4f1-6eaa-4531-bfd8-28a96090309d",
   "metadata": {},
   "outputs": [
    {
     "data": {
      "text/html": [
       "'character'"
      ],
      "text/latex": [
       "'character'"
      ],
      "text/markdown": [
       "'character'"
      ],
      "text/plain": [
       "[1] \"character\""
      ]
     },
     "metadata": {},
     "output_type": "display_data"
    },
    {
     "data": {
      "text/plain": [
       "[1] \"2019-11-11 12:17:06 KST\""
      ]
     },
     "metadata": {},
     "output_type": "display_data"
    },
    {
     "data": {
      "text/html": [
       "<style>\n",
       ".list-inline {list-style: none; margin:0; padding: 0}\n",
       ".list-inline>li {display: inline-block}\n",
       ".list-inline>li:not(:last-child)::after {content: \"\\00b7\"; padding: 0 .5ex}\n",
       "</style>\n",
       "<ol class=list-inline><li>'POSIXlt'</li><li>'POSIXt'</li></ol>\n"
      ],
      "text/latex": [
       "\\begin{enumerate*}\n",
       "\\item 'POSIXlt'\n",
       "\\item 'POSIXt'\n",
       "\\end{enumerate*}\n"
      ],
      "text/markdown": [
       "1. 'POSIXlt'\n",
       "2. 'POSIXt'\n",
       "\n",
       "\n"
      ],
      "text/plain": [
       "[1] \"POSIXlt\" \"POSIXt\" "
      ]
     },
     "metadata": {},
     "output_type": "display_data"
    }
   ],
   "source": [
    "sdate<-'2019-11-11 12:17:6'\n",
    "class(sdate)\n",
    "today<-strptime(sdate,format='%Y-%m-%d %H:%M:%S')\n",
    "today\n",
    "class(today)"
   ]
  },
  {
   "cell_type": "markdown",
   "id": "55e09988-5dbd-40cc-98b4-b8c3e8e8dcd5",
   "metadata": {},
   "source": [
    "- 반면 as.Date()는 날짜 자료만 형 변환이 가능하다. "
   ]
  },
  {
   "cell_type": "markdown",
   "id": "e70e8580-74a4-4d73-82ee-5e9af926b503",
   "metadata": {},
   "source": [
    "---"
   ]
  },
  {
   "cell_type": "markdown",
   "id": "3f4e55c5-6274-4ebe-9600-3697eef0ab3a",
   "metadata": {},
   "source": [
    "- 기본 함수와 작업공간\n",
    "  - R 패키지에서 제공되는 수많은 함수 사용법을 머릿속에 기억하기는 불가능한 일이다. 따라서 해당 함수의 사용법을 제공하는 도움말 기능을 이용할 수 있어야 한다.\n",
    "  - 'help(함수명)' 또는 '?함수명'형식으로 볼 수 있다.\n",
    "  - 파이썬에서는 '함수명?'이다.\n",
    "  - google에서는 '함수명() in r' 형식으로 검색한 뒤 확인할 수 있다.\n",
    "- arg(함수명) : 특정 함수를 대상으로 사용 가능한 함수 파라미터를 보여준다. \n",
    "  - 예를 들어보자"
   ]
  },
  {
   "cell_type": "code",
   "execution_count": 3,
   "id": "c840cb72-c5d6-4b8b-a6cc-34bed2c69773",
   "metadata": {},
   "outputs": [
    {
     "data": {
      "text/html": [
       "<pre class=language-r><code>function (..., na.rm = FALSE) \n",
       "NULL</code></pre>"
      ],
      "text/latex": [
       "\\begin{minted}{r}\n",
       "function (..., na.rm = FALSE) \n",
       "NULL\n",
       "\\end{minted}"
      ],
      "text/markdown": [
       "```r\n",
       "function (..., na.rm = FALSE) \n",
       "NULL\n",
       "```"
      ],
      "text/plain": [
       "function (..., na.rm = FALSE) \n",
       "NULL"
      ]
     },
     "metadata": {},
     "output_type": "display_data"
    }
   ],
   "source": [
    "args(max)\n",
    "# na.rm은 FALSE가 default이다. "
   ]
  },
  {
   "cell_type": "markdown",
   "id": "09e852c0-bc18-4977-b193-dff99c667ca8",
   "metadata": {},
   "source": [
    "- example() 함수는 R에서 제공되는 기본 함수들을 사용하는 예제를 제공해준다."
   ]
  },
  {
   "cell_type": "code",
   "execution_count": 5,
   "id": "1ba5d211-b189-4292-a0ba-08bf4b4d2ea8",
   "metadata": {},
   "outputs": [
    {
     "name": "stdout",
     "output_type": "stream",
     "text": [
      "\n",
      "seq> seq(0, 1, length.out = 11)\n",
      " [1] 0.0 0.1 0.2 0.3 0.4 0.5 0.6 0.7 0.8 0.9 1.0\n",
      "\n",
      "seq> seq(stats::rnorm(20)) # effectively 'along'\n",
      " [1]  1  2  3  4  5  6  7  8  9 10 11 12 13 14 15 16 17 18 19 20\n",
      "\n",
      "seq> seq(1, 9, by = 2)     # matches 'end'\n",
      "[1] 1 3 5 7 9\n",
      "\n",
      "seq> seq(1, 9, by = pi)    # stays below 'end'\n",
      "[1] 1.000000 4.141593 7.283185\n",
      "\n",
      "seq> seq(1, 6, by = 3)\n",
      "[1] 1 4\n",
      "\n",
      "seq> seq(1.575, 5.125, by = 0.05)\n",
      " [1] 1.575 1.625 1.675 1.725 1.775 1.825 1.875 1.925 1.975 2.025 2.075 2.125\n",
      "[13] 2.175 2.225 2.275 2.325 2.375 2.425 2.475 2.525 2.575 2.625 2.675 2.725\n",
      "[25] 2.775 2.825 2.875 2.925 2.975 3.025 3.075 3.125 3.175 3.225 3.275 3.325\n",
      "[37] 3.375 3.425 3.475 3.525 3.575 3.625 3.675 3.725 3.775 3.825 3.875 3.925\n",
      "[49] 3.975 4.025 4.075 4.125 4.175 4.225 4.275 4.325 4.375 4.425 4.475 4.525\n",
      "[61] 4.575 4.625 4.675 4.725 4.775 4.825 4.875 4.925 4.975 5.025 5.075 5.125\n",
      "\n",
      "seq> seq(17) # same as 1:17, or even better seq_len(17)\n",
      " [1]  1  2  3  4  5  6  7  8  9 10 11 12 13 14 15 16 17\n"
     ]
    }
   ],
   "source": [
    "example(seq)"
   ]
  },
  {
   "cell_type": "markdown",
   "id": "e25bd932-eedb-4afa-8ded-24e3c7786c8f",
   "metadata": {},
   "source": [
    "- seq() 함수를 사용하는 예로 다양한 방법으로 벡터 원소를 생성하는 과정을 보여준다. \n",
    "- mean의 예제도 알아보자"
   ]
  },
  {
   "cell_type": "code",
   "execution_count": 6,
   "id": "c84c3509-84fe-42fa-ab6f-f8f739035c8b",
   "metadata": {},
   "outputs": [
    {
     "name": "stdout",
     "output_type": "stream",
     "text": [
      "\n",
      "mean> x <- c(0:10, 50)\n",
      "\n",
      "mean> xm <- mean(x)\n",
      "\n",
      "mean> c(xm, mean(x, trim = 0.10))\n",
      "[1] 8.75 5.50\n"
     ]
    }
   ],
   "source": [
    "example(mean)"
   ]
  }
 ],
 "metadata": {
  "kernelspec": {
   "display_name": "R",
   "language": "R",
   "name": "ir"
  },
  "language_info": {
   "codemirror_mode": "r",
   "file_extension": ".r",
   "mimetype": "text/x-r-source",
   "name": "R",
   "pygments_lexer": "r",
   "version": "4.0.5"
  }
 },
 "nbformat": 4,
 "nbformat_minor": 5
}
