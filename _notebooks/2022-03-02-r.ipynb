{
 "cells": [
  {
   "cell_type": "markdown",
   "id": "54840f06-3bac-41f4-aed8-5057644b969f",
   "metadata": {},
   "source": [
    "# 랜덤 포레스트, XGBoost, 인공신경망"
   ]
  },
  {
   "cell_type": "markdown",
   "id": "c6976717-7b3d-44d6-ab7b-bec55ce25d91",
   "metadata": {},
   "source": [
    "- 의사결정 트리에서 파생된 모델로 앙상블 학습기법을 적용한 모델이다.\n",
    "- 앙상블 학습기법이란 새로운 데이터에 대해서 여러 개의 트리로 학습을 수행한 후 학습 결과들을 종합해서 예측하는 모델이다.\n",
    "- 기존의 의사결정 트리 방식에 비해서 많은 데이터를 이용하여 학습을 수행하기 때문에 비교적 예측력이 뛰어나고, 과적합 문제를 해결할 수 있다. \n",
    "- 과적합 문제? 학습 데이터 셋에서는 높은 정확도가 나타나지만 새로운 데이터에서는 정확도가 떨어지는 현상을 의미한다. \n",
    "- 랜덤 포레스트 모델은 기본적으로 raw data를 대상으로 복원추출 방식으로 데이터의 양을 증가시킨 후 모델을 생성하기 때문에 데이터의 양이 부족해서 발생하는 과적합 문제를 해결할 수 있다. \n",
    "- 구성된 학습데이터를 이용하여 학습한 결과를 종합하여 예측 모델을 생성한다. 즉, 각각의 분류모델에서 예측된 결과를 토대로 투표방식으로 최적의 예측치를 선택하게 된다."
   ]
  },
  {
   "cell_type": "markdown",
   "id": "c7b4eb73-254f-4067-bb7a-15240be6771c",
   "metadata": {},
   "source": [
    "---"
   ]
  },
  {
   "cell_type": "markdown",
   "id": "6adbc9df-1d78-49f8-8906-9ed24769cbfe",
   "metadata": {},
   "source": [
    "- 랜덤 포레스트 학습데이터 구성방법\n",
    "  - 표본에서 일부분만 복원추출 방법으로 랜덤하게 샘플링하는 방식인 부트스트랩 표본 방식으로 학습데이터를 추출하여 트리를 생성한다. \n",
    "  - 입력 변수 중에서 일부 변수만 적용하여 트리의 자식 노드를 분류한다."
   ]
  },
  {
   "cell_type": "code",
   "execution_count": 1,
   "id": "2bfde151-bfc9-4f23-afb0-9ca081bc1eba",
   "metadata": {},
   "outputs": [
    {
     "name": "stderr",
     "output_type": "stream",
     "text": [
      "Warning message:\n",
      "\"package 'randomForest' is not available for this version of R\n",
      "\n",
      "A version of this package for your version of R might be available elsewhere,\n",
      "see the ideas at\n",
      "https://cran.r-project.org/doc/manuals/r-patched/R-admin.html#Installing-packages\"\n",
      "randomForest 4.6-14\n",
      "\n",
      "Type rfNews() to see new features/changes/bug fixes.\n",
      "\n"
     ]
    },
    {
     "data": {
      "text/plain": [
       "\n",
       "Call:\n",
       " randomForest(formula = Species ~ ., data = iris) \n",
       "               Type of random forest: classification\n",
       "                     Number of trees: 500\n",
       "No. of variables tried at each split: 2\n",
       "\n",
       "        OOB estimate of  error rate: 4.67%\n",
       "Confusion matrix:\n",
       "           setosa versicolor virginica class.error\n",
       "setosa         50          0         0        0.00\n",
       "versicolor      0         46         4        0.08\n",
       "virginica       0          3        47        0.06"
      ]
     },
     "metadata": {},
     "output_type": "display_data"
    }
   ],
   "source": [
    "install.packages('randomForest')\n",
    "library(randomForest)\n",
    "data(iris)\n",
    "\n",
    "model = randomForest(Species~. , data = iris)\n",
    "model"
   ]
  },
  {
   "cell_type": "markdown",
   "id": "a4baaf08-f82c-4cb7-aac5-17c6138771f2",
   "metadata": {},
   "source": [
    "- Number of trees: 500 $\\to$  학습데이터로 500개의 포레스트가 복원 추출방식으로 생성되었다는 의미.\n",
    "- No. of variables tried at each split: 2 $\\to$ 두 개의 변수를 이용하여 트리의 자식 노드가 분류되었다는 의미이다. "
   ]
  },
  {
   "cell_type": "code",
   "execution_count": 4,
   "id": "1db8c5c6-341c-4797-b07d-0de632a04eae",
   "metadata": {},
   "outputs": [
    {
     "data": {
      "text/plain": [
       "\n",
       "Call:\n",
       " randomForest(formula = Species ~ ., data = iris, ntree = 300,      mtry = 4, na.action = na.omit) \n",
       "               Type of random forest: classification\n",
       "                     Number of trees: 300\n",
       "No. of variables tried at each split: 4\n",
       "\n",
       "        OOB estimate of  error rate: 4.67%\n",
       "Confusion matrix:\n",
       "           setosa versicolor virginica class.error\n",
       "setosa         50          0         0        0.00\n",
       "versicolor      0         47         3        0.06\n",
       "virginica       0          4        46        0.08"
      ]
     },
     "metadata": {},
     "output_type": "display_data"
    }
   ],
   "source": [
    "model2 = randomForest(Species~., data= iris, ntree = 300, mtry = 4, na.action = na.omit)\n",
    "model2"
   ]
  },
  {
   "cell_type": "markdown",
   "id": "7f88efa2-8330-4a3a-940a-216480d7ec30",
   "metadata": {},
   "source": [
    "- 랜덤 포레스트의 수를 300개, 자식 노드를 분류하는 변수를 4개로 지정하여 모델을 생성.\n",
    "- na.action 속성은 결측치가 있는 경우 처리할 방법을 지정하는 속성이다. 여기서는 na.omit() 생략 함수를 이용하여 결측치를 제거한다."
   ]
  },
  {
   "cell_type": "code",
   "execution_count": 8,
   "id": "facc7b71-cc10-4835-a811-4ff5156ef9fd",
   "metadata": {},
   "outputs": [
    {
     "data": {
      "text/html": [
       "<table class=\"dataframe\">\n",
       "<caption>A matrix: 4 × 5 of type dbl</caption>\n",
       "<thead>\n",
       "\t<tr><th></th><th scope=col>setosa</th><th scope=col>versicolor</th><th scope=col>virginica</th><th scope=col>MeanDecreaseAccuracy</th><th scope=col>MeanDecreaseGini</th></tr>\n",
       "</thead>\n",
       "<tbody>\n",
       "\t<tr><th scope=row>Sepal.Length</th><td> 6.752026</td><td> 8.355323</td><td> 8.285698</td><td>11.169422</td><td>10.524725</td></tr>\n",
       "\t<tr><th scope=row>Sepal.Width</th><td> 4.743311</td><td> 1.838934</td><td> 5.823679</td><td> 6.199311</td><td> 2.333197</td></tr>\n",
       "\t<tr><th scope=row>Petal.Length</th><td>24.292547</td><td>35.441244</td><td>27.683566</td><td>35.102816</td><td>44.848427</td></tr>\n",
       "\t<tr><th scope=row>Petal.Width</th><td>20.224071</td><td>31.827480</td><td>27.702492</td><td>30.544380</td><td>41.554505</td></tr>\n",
       "</tbody>\n",
       "</table>\n"
      ],
      "text/latex": [
       "A matrix: 4 × 5 of type dbl\n",
       "\\begin{tabular}{r|lllll}\n",
       "  & setosa & versicolor & virginica & MeanDecreaseAccuracy & MeanDecreaseGini\\\\\n",
       "\\hline\n",
       "\tSepal.Length &  6.752026 &  8.355323 &  8.285698 & 11.169422 & 10.524725\\\\\n",
       "\tSepal.Width &  4.743311 &  1.838934 &  5.823679 &  6.199311 &  2.333197\\\\\n",
       "\tPetal.Length & 24.292547 & 35.441244 & 27.683566 & 35.102816 & 44.848427\\\\\n",
       "\tPetal.Width & 20.224071 & 31.827480 & 27.702492 & 30.544380 & 41.554505\\\\\n",
       "\\end{tabular}\n"
      ],
      "text/markdown": [
       "\n",
       "A matrix: 4 × 5 of type dbl\n",
       "\n",
       "| <!--/--> | setosa | versicolor | virginica | MeanDecreaseAccuracy | MeanDecreaseGini |\n",
       "|---|---|---|---|---|---|\n",
       "| Sepal.Length |  6.752026 |  8.355323 |  8.285698 | 11.169422 | 10.524725 |\n",
       "| Sepal.Width |  4.743311 |  1.838934 |  5.823679 |  6.199311 |  2.333197 |\n",
       "| Petal.Length | 24.292547 | 35.441244 | 27.683566 | 35.102816 | 44.848427 |\n",
       "| Petal.Width | 20.224071 | 31.827480 | 27.702492 | 30.544380 | 41.554505 |\n",
       "\n"
      ],
      "text/plain": [
       "             setosa    versicolor virginica MeanDecreaseAccuracy\n",
       "Sepal.Length  6.752026  8.355323   8.285698 11.169422           \n",
       "Sepal.Width   4.743311  1.838934   5.823679  6.199311           \n",
       "Petal.Length 24.292547 35.441244  27.683566 35.102816           \n",
       "Petal.Width  20.224071 31.827480  27.702492 30.544380           \n",
       "             MeanDecreaseGini\n",
       "Sepal.Length 10.524725       \n",
       "Sepal.Width   2.333197       \n",
       "Petal.Length 44.848427       \n",
       "Petal.Width  41.554505       "
      ]
     },
     "metadata": {},
     "output_type": "display_data"
    }
   ],
   "source": [
    "# 중요 변수를 생성하여 랜덤포레스트 모델 생성\n",
    "model3 = randomForest(Species~., data = iris, importance = T, na.action = na.omit)\n",
    "\n",
    "# 중요 변수 보기\n",
    "importance(model3)"
   ]
  },
  {
   "cell_type": "markdown",
   "id": "ace155ca-958a-4c2e-b57e-14c71af5abea",
   "metadata": {},
   "source": [
    "- importance 속성은 분류모델을 생성하는 과정에서 입력 변수 중 가장 중요한 변수가 어떤 변수인지를 알려주는 역할을 한다. \n",
    "- MeanDeceaseAccuracy는 분류정확도를 개선하는 데 기여한 변수를 수치로 제공\n",
    "- MeanDecreaseGini는 노드 불순도(불확실성)를 개선하는 데 기여한 변수를 수치로 제공\n",
    "- 따라서 iris의 꽃의 종류를 분류하는 데 있어 4개의 x 변수 중에서 가장 크게 기여하는 변수(즉, 중요변수)는 Petal.Length로 나타난다. "
   ]
  },
  {
   "cell_type": "code",
   "execution_count": 10,
   "id": "8f7f06ec-c764-455e-a5b7-f743a04efc00",
   "metadata": {},
   "outputs": [
    {
     "data": {
      "image/png": "[encoded data removed]",
      "text/plain": [
       "plot without title"
      ]
     },
     "metadata": {
      "image/png": {
       "height": 420,
       "width": 420
      }
     },
     "output_type": "display_data"
    }
   ],
   "source": [
    "# 중요 변수 시각화\n",
    "varImpPlot(model3)"
   ]
  },
  {
   "cell_type": "markdown",
   "id": "4b15d118-4a5a-48a9-bca5-67a440ecaaaa",
   "metadata": {},
   "source": [
    "- 참고) \n",
    "  - 엔트로피 = 불확실성 척도\n",
    "    - 엔트로피가 작으면 불확실성이 낮아진다. 즉, 불확실성이 낮아지면 그만큼 분류정확도가 향상된다고 볼 수 있다. \n",
    "    - 예를 들어, 앞면과 뒷면이 나올 확률이 동일한 경우 엔트로피 결과는 1이라면, 앞면이 나올 확률이 더 높은 경우엔 엔트로피는 0.88로 낮아진다. 이유는 앞면이 나올 확률이 높아졌기 때문에 그만큼 불확실성이 낮아진 것이다. "
   ]
  },
  {
   "cell_type": "markdown",
   "id": "2c9f3e12-3fdb-4975-a720-6b92baccf031",
   "metadata": {},
   "source": [
    "- 최적의 파라미터(ntree, mtry) 찾기"
   ]
  },
  {
   "cell_type": "code",
   "execution_count": 11,
   "id": "d1cf9783-46fb-43b7-8877-12a21cc655a5",
   "metadata": {},
   "outputs": [
    {
     "data": {
      "text/html": [
       "<table class=\"dataframe\">\n",
       "<caption>A data.frame: 3 × 2</caption>\n",
       "<thead>\n",
       "\t<tr><th scope=col>n</th><th scope=col>m</th></tr>\n",
       "\t<tr><th scope=col>&lt;dbl&gt;</th><th scope=col>&lt;int&gt;</th></tr>\n",
       "</thead>\n",
       "<tbody>\n",
       "\t<tr><td>400</td><td>2</td></tr>\n",
       "\t<tr><td>500</td><td>3</td></tr>\n",
       "\t<tr><td>600</td><td>4</td></tr>\n",
       "</tbody>\n",
       "</table>\n"
      ],
      "text/latex": [
       "A data.frame: 3 × 2\n",
       "\\begin{tabular}{ll}\n",
       " n & m\\\\\n",
       " <dbl> & <int>\\\\\n",
       "\\hline\n",
       "\t 400 & 2\\\\\n",
       "\t 500 & 3\\\\\n",
       "\t 600 & 4\\\\\n",
       "\\end{tabular}\n"
      ],
      "text/markdown": [
       "\n",
       "A data.frame: 3 × 2\n",
       "\n",
       "| n &lt;dbl&gt; | m &lt;int&gt; |\n",
       "|---|---|\n",
       "| 400 | 2 |\n",
       "| 500 | 3 |\n",
       "| 600 | 4 |\n",
       "\n"
      ],
      "text/plain": [
       "  n   m\n",
       "1 400 2\n",
       "2 500 3\n",
       "3 600 4"
      ]
     },
     "metadata": {},
     "output_type": "display_data"
    }
   ],
   "source": [
    "# 속성값 생성\n",
    "ntree = c(400, 500, 600) # 랜덤 포레스트 수\n",
    "mtry = c(2:4) # 자식 노드를 분류하는 변수의 수\n",
    "param = data.frame(n = ntree, m = mtry)\n",
    "param"
   ]
  },
  {
   "cell_type": "code",
   "execution_count": 12,
   "id": "6c0e2d4f-6a17-4872-aa32-2c62e0e47c8f",
   "metadata": {},
   "outputs": [
    {
     "name": "stdout",
     "output_type": "stream",
     "text": [
      "ntree= 400 \n",
      "mtry= 2 \n",
      "\n",
      "Call:\n",
      " randomForest(formula = Species ~ ., data = iris, ntree = i, mtry = j,      na.action = na.omit) \n",
      "               Type of random forest: classification\n",
      "                     Number of trees: 400\n",
      "No. of variables tried at each split: 2\n",
      "\n",
      "        OOB estimate of  error rate: 4.67%\n",
      "Confusion matrix:\n",
      "           setosa versicolor virginica class.error\n",
      "setosa         50          0         0        0.00\n",
      "versicolor      0         47         3        0.06\n",
      "virginica       0          4        46        0.08\n",
      "mtry= 3 \n",
      "\n",
      "Call:\n",
      " randomForest(formula = Species ~ ., data = iris, ntree = i, mtry = j,      na.action = na.omit) \n",
      "               Type of random forest: classification\n",
      "                     Number of trees: 400\n",
      "No. of variables tried at each split: 3\n",
      "\n",
      "        OOB estimate of  error rate: 4.67%\n",
      "Confusion matrix:\n",
      "           setosa versicolor virginica class.error\n",
      "setosa         50          0         0        0.00\n",
      "versicolor      0         47         3        0.06\n",
      "virginica       0          4        46        0.08\n",
      "mtry= 4 \n",
      "\n",
      "Call:\n",
      " randomForest(formula = Species ~ ., data = iris, ntree = i, mtry = j,      na.action = na.omit) \n",
      "               Type of random forest: classification\n",
      "                     Number of trees: 400\n",
      "No. of variables tried at each split: 4\n",
      "\n",
      "        OOB estimate of  error rate: 4.67%\n",
      "Confusion matrix:\n",
      "           setosa versicolor virginica class.error\n",
      "setosa         50          0         0        0.00\n",
      "versicolor      0         47         3        0.06\n",
      "virginica       0          4        46        0.08\n",
      "ntree= 500 \n",
      "mtry= 2 \n",
      "\n",
      "Call:\n",
      " randomForest(formula = Species ~ ., data = iris, ntree = i, mtry = j,      na.action = na.omit) \n",
      "               Type of random forest: classification\n",
      "                     Number of trees: 500\n",
      "No. of variables tried at each split: 2\n",
      "\n",
      "        OOB estimate of  error rate: 4%\n",
      "Confusion matrix:\n",
      "           setosa versicolor virginica class.error\n",
      "setosa         50          0         0        0.00\n",
      "versicolor      0         47         3        0.06\n",
      "virginica       0          3        47        0.06\n",
      "mtry= 3 \n",
      "\n",
      "Call:\n",
      " randomForest(formula = Species ~ ., data = iris, ntree = i, mtry = j,      na.action = na.omit) \n",
      "               Type of random forest: classification\n",
      "                     Number of trees: 500\n",
      "No. of variables tried at each split: 3\n",
      "\n",
      "        OOB estimate of  error rate: 4.67%\n",
      "Confusion matrix:\n",
      "           setosa versicolor virginica class.error\n",
      "setosa         50          0         0        0.00\n",
      "versicolor      0         47         3        0.06\n",
      "virginica       0          4        46        0.08\n",
      "mtry= 4 \n",
      "\n",
      "Call:\n",
      " randomForest(formula = Species ~ ., data = iris, ntree = i, mtry = j,      na.action = na.omit) \n",
      "               Type of random forest: classification\n",
      "                     Number of trees: 500\n",
      "No. of variables tried at each split: 4\n",
      "\n",
      "        OOB estimate of  error rate: 4%\n",
      "Confusion matrix:\n",
      "           setosa versicolor virginica class.error\n",
      "setosa         50          0         0        0.00\n",
      "versicolor      0         47         3        0.06\n",
      "virginica       0          3        47        0.06\n",
      "ntree= 600 \n",
      "mtry= 2 \n",
      "\n",
      "Call:\n",
      " randomForest(formula = Species ~ ., data = iris, ntree = i, mtry = j,      na.action = na.omit) \n",
      "               Type of random forest: classification\n",
      "                     Number of trees: 600\n",
      "No. of variables tried at each split: 2\n",
      "\n",
      "        OOB estimate of  error rate: 4.67%\n",
      "Confusion matrix:\n",
      "           setosa versicolor virginica class.error\n",
      "setosa         50          0         0        0.00\n",
      "versicolor      0         47         3        0.06\n",
      "virginica       0          4        46        0.08\n",
      "mtry= 3 \n",
      "\n",
      "Call:\n",
      " randomForest(formula = Species ~ ., data = iris, ntree = i, mtry = j,      na.action = na.omit) \n",
      "               Type of random forest: classification\n",
      "                     Number of trees: 600\n",
      "No. of variables tried at each split: 3\n",
      "\n",
      "        OOB estimate of  error rate: 4%\n",
      "Confusion matrix:\n",
      "           setosa versicolor virginica class.error\n",
      "setosa         50          0         0        0.00\n",
      "versicolor      0         47         3        0.06\n",
      "virginica       0          3        47        0.06\n",
      "mtry= 4 \n",
      "\n",
      "Call:\n",
      " randomForest(formula = Species ~ ., data = iris, ntree = i, mtry = j,      na.action = na.omit) \n",
      "               Type of random forest: classification\n",
      "                     Number of trees: 600\n",
      "No. of variables tried at each split: 4\n",
      "\n",
      "        OOB estimate of  error rate: 4%\n",
      "Confusion matrix:\n",
      "           setosa versicolor virginica class.error\n",
      "setosa         50          0         0        0.00\n",
      "versicolor      0         47         3        0.06\n",
      "virginica       0          3        47        0.06\n"
     ]
    }
   ],
   "source": [
    "# 이중 for() 함수를 이용하여 모델 생성\n",
    "for(i in param$n){\n",
    "    cat('ntree=', i, '\\n')\n",
    "    for(j in param$m){\n",
    "        cat('mtry=',j,'\\n')\n",
    "        model_iris = randomForest(Species~., data = iris, ntree = i, mtry = j, na.action = na.omit)\n",
    "        print(model_iris)}}"
   ]
  },
  {
   "cell_type": "markdown",
   "id": "58d64620-1f8e-437c-b258-74c7f59f651e",
   "metadata": {},
   "source": [
    "- 이중 for() 함수는 트리 3개와 변수 3이 곱해져서 전체 9회를 반복.\n",
    "- 9개의 모델이 생성된 결과에서 오차 비율(OOB)을 비교하여 최적의 트리와 변수를 결정한다. "
   ]
  },
  {
   "cell_type": "markdown",
   "id": "b0bc8f4d-3241-4169-865f-c8486c846d01",
   "metadata": {},
   "source": [
    "---"
   ]
  },
  {
   "cell_type": "markdown",
   "id": "e121ab3a-0f94-455a-876b-086acbfcc15b",
   "metadata": {},
   "source": [
    "- xgboost\n",
    "  - 랜덤 포레스트와 같은 앙상블 학습 기법으로 모델을 생성하는 분류모델이다. \n",
    "  - 부스팅 방식으로 기반으로 만들어진 모델이기 때문에 분류하기 어려운 특정 영역에 초점을 두고 정확도를 높이는 알고리즘으로 구현되었다.\n",
    "  - 따라서 높은 정확도가 가장 큰 강점이다. \n",
    "  - 배깅 방식과 동일하게 복원 추출방식으로 첫 번째 학습 데이터 셋을 생성하는 방법은 동일하지만, 두 번째부터는 학습된 트리 모델의 결과를 바탕으로 정확도가 낮은 영역에 높은 가중치를 적용하여 해당 영역을 학습 데이터 셋으로 구성되게 한다. \n",
    "    - 결론적으로 기계학습이 안 되는 데이터 셋을 집중적으로 학습하여 트리 모델의 정확도를 높이는 방식이다. \n",
    "    - 이상치에 취약할 수 있다. "
   ]
  },
  {
   "cell_type": "code",
   "execution_count": 13,
   "id": "8200211e-9e6b-48b3-8515-afa9feae592a",
   "metadata": {},
   "outputs": [
    {
     "name": "stdout",
     "output_type": "stream",
     "text": [
      "package 'xgboost' successfully unpacked and MD5 sums checked\n",
      "\n",
      "The downloaded binary packages are in\n",
      "\tC:\\Users\\ehfus\\AppData\\Local\\Temp\\RtmpELAtJz\\downloaded_packages\n"
     ]
    },
    {
     "data": {
      "text/plain": [
       "iris_label\n",
       " 0  1  2 \n",
       "50 50 50 "
      ]
     },
     "metadata": {},
     "output_type": "display_data"
    }
   ],
   "source": [
    "install.packages('xgboost')\n",
    "library(xgboost)\n",
    "\n",
    "# ifelse함수를 이용하여 y변수를 재정의하기\n",
    "iris_label = ifelse(iris$Species == 'setosa', 0 , ifelse(iris$Species == 'versicolor',1,2))\n",
    "table(iris_label)"
   ]
  },
  {
   "cell_type": "code",
   "execution_count": 16,
   "id": "9fc85364-2e99-4487-9d4e-91a163756bc4",
   "metadata": {},
   "outputs": [
    {
     "data": {
      "text/html": [
       "<table class=\"dataframe\">\n",
       "<caption>A data.frame: 3 × 5</caption>\n",
       "<thead>\n",
       "\t<tr><th></th><th scope=col>Sepal.Length</th><th scope=col>Sepal.Width</th><th scope=col>Petal.Length</th><th scope=col>Petal.Width</th><th scope=col>Species</th></tr>\n",
       "\t<tr><th></th><th scope=col>&lt;dbl&gt;</th><th scope=col>&lt;dbl&gt;</th><th scope=col>&lt;dbl&gt;</th><th scope=col>&lt;dbl&gt;</th><th scope=col>&lt;fct&gt;</th></tr>\n",
       "</thead>\n",
       "<tbody>\n",
       "\t<tr><th scope=row>1</th><td>5.1</td><td>3.5</td><td>1.4</td><td>0.2</td><td>setosa</td></tr>\n",
       "\t<tr><th scope=row>2</th><td>4.9</td><td>3.0</td><td>1.4</td><td>0.2</td><td>setosa</td></tr>\n",
       "\t<tr><th scope=row>3</th><td>4.7</td><td>3.2</td><td>1.3</td><td>0.2</td><td>setosa</td></tr>\n",
       "</tbody>\n",
       "</table>\n"
      ],
      "text/latex": [
       "A data.frame: 3 × 5\n",
       "\\begin{tabular}{r|lllll}\n",
       "  & Sepal.Length & Sepal.Width & Petal.Length & Petal.Width & Species\\\\\n",
       "  & <dbl> & <dbl> & <dbl> & <dbl> & <fct>\\\\\n",
       "\\hline\n",
       "\t1 & 5.1 & 3.5 & 1.4 & 0.2 & setosa\\\\\n",
       "\t2 & 4.9 & 3.0 & 1.4 & 0.2 & setosa\\\\\n",
       "\t3 & 4.7 & 3.2 & 1.3 & 0.2 & setosa\\\\\n",
       "\\end{tabular}\n"
      ],
      "text/markdown": [
       "\n",
       "A data.frame: 3 × 5\n",
       "\n",
       "| <!--/--> | Sepal.Length &lt;dbl&gt; | Sepal.Width &lt;dbl&gt; | Petal.Length &lt;dbl&gt; | Petal.Width &lt;dbl&gt; | Species &lt;fct&gt; |\n",
       "|---|---|---|---|---|---|\n",
       "| 1 | 5.1 | 3.5 | 1.4 | 0.2 | setosa |\n",
       "| 2 | 4.9 | 3.0 | 1.4 | 0.2 | setosa |\n",
       "| 3 | 4.7 | 3.2 | 1.3 | 0.2 | setosa |\n",
       "\n"
      ],
      "text/plain": [
       "  Sepal.Length Sepal.Width Petal.Length Petal.Width Species\n",
       "1 5.1          3.5         1.4          0.2         setosa \n",
       "2 4.9          3.0         1.4          0.2         setosa \n",
       "3 4.7          3.2         1.3          0.2         setosa "
      ]
     },
     "metadata": {},
     "output_type": "display_data"
    },
    {
     "data": {
      "text/html": [
       "<table class=\"dataframe\">\n",
       "<caption>A data.frame: 3 × 6</caption>\n",
       "<thead>\n",
       "\t<tr><th></th><th scope=col>Sepal.Length</th><th scope=col>Sepal.Width</th><th scope=col>Petal.Length</th><th scope=col>Petal.Width</th><th scope=col>Species</th><th scope=col>label</th></tr>\n",
       "\t<tr><th></th><th scope=col>&lt;dbl&gt;</th><th scope=col>&lt;dbl&gt;</th><th scope=col>&lt;dbl&gt;</th><th scope=col>&lt;dbl&gt;</th><th scope=col>&lt;fct&gt;</th><th scope=col>&lt;dbl&gt;</th></tr>\n",
       "</thead>\n",
       "<tbody>\n",
       "\t<tr><th scope=row>1</th><td>5.1</td><td>3.5</td><td>1.4</td><td>0.2</td><td>setosa</td><td>0</td></tr>\n",
       "\t<tr><th scope=row>2</th><td>4.9</td><td>3.0</td><td>1.4</td><td>0.2</td><td>setosa</td><td>0</td></tr>\n",
       "\t<tr><th scope=row>3</th><td>4.7</td><td>3.2</td><td>1.3</td><td>0.2</td><td>setosa</td><td>0</td></tr>\n",
       "</tbody>\n",
       "</table>\n"
      ],
      "text/latex": [
       "A data.frame: 3 × 6\n",
       "\\begin{tabular}{r|llllll}\n",
       "  & Sepal.Length & Sepal.Width & Petal.Length & Petal.Width & Species & label\\\\\n",
       "  & <dbl> & <dbl> & <dbl> & <dbl> & <fct> & <dbl>\\\\\n",
       "\\hline\n",
       "\t1 & 5.1 & 3.5 & 1.4 & 0.2 & setosa & 0\\\\\n",
       "\t2 & 4.9 & 3.0 & 1.4 & 0.2 & setosa & 0\\\\\n",
       "\t3 & 4.7 & 3.2 & 1.3 & 0.2 & setosa & 0\\\\\n",
       "\\end{tabular}\n"
      ],
      "text/markdown": [
       "\n",
       "A data.frame: 3 × 6\n",
       "\n",
       "| <!--/--> | Sepal.Length &lt;dbl&gt; | Sepal.Width &lt;dbl&gt; | Petal.Length &lt;dbl&gt; | Petal.Width &lt;dbl&gt; | Species &lt;fct&gt; | label &lt;dbl&gt; |\n",
       "|---|---|---|---|---|---|---|\n",
       "| 1 | 5.1 | 3.5 | 1.4 | 0.2 | setosa | 0 |\n",
       "| 2 | 4.9 | 3.0 | 1.4 | 0.2 | setosa | 0 |\n",
       "| 3 | 4.7 | 3.2 | 1.3 | 0.2 | setosa | 0 |\n",
       "\n"
      ],
      "text/plain": [
       "  Sepal.Length Sepal.Width Petal.Length Petal.Width Species label\n",
       "1 5.1          3.5         1.4          0.2         setosa  0    \n",
       "2 4.9          3.0         1.4          0.2         setosa  0    \n",
       "3 4.7          3.2         1.3          0.2         setosa  0    "
      ]
     },
     "metadata": {},
     "output_type": "display_data"
    }
   ],
   "source": [
    "head(iris,3) # 칼럼추가 전\n",
    "\n",
    "# 칼럼 추가 후\n",
    "iris$label = iris_label\n",
    "head(iris,3)"
   ]
  },
  {
   "cell_type": "code",
   "execution_count": 24,
   "id": "df523ac9-93fe-4bcb-b599-876ab8af4421",
   "metadata": {},
   "outputs": [],
   "source": [
    "# data set 생성\n",
    "idx = sample(nrow(iris),  0.7*nrow(iris))\n",
    "train = iris[idx,]\n",
    "test = iris[-idx,]\n",
    "\n",
    "# matrix 객체 변환\n",
    "train_mat = as.matrix(train[-c(5:6)]) # 다섯번째와 여섯번째는 정답레이블이기 때문에 제외\n",
    "# 정답 레이블 따로 추출\n",
    "train_lab = train$label"
   ]
  },
  {
   "cell_type": "code",
   "execution_count": 25,
   "id": "2f7a55bd-7ce9-47f6-8846-f59d3549d153",
   "metadata": {},
   "outputs": [
    {
     "data": {
      "text/plain": [
       "xgb.DMatrix  dim: 105 x 4  info: label  colnames: yes"
      ]
     },
     "metadata": {},
     "output_type": "display_data"
    },
    {
     "name": "stdout",
     "output_type": "stream",
     "text": [
      "[14:11:36] WARNING: amalgamation/../src/learner.cc:1115: Starting in XGBoost 1.3.0, the default evaluation metric used with the objective 'multi:softmax' was changed from 'merror' to 'mlogloss'. Explicitly set eval_metric if you'd like to restore the old behavior.\n"
     ]
    },
    {
     "data": {
      "text/plain": [
       "##### xgb.Booster\n",
       "raw: 6.3 Kb \n",
       "call:\n",
       "  xgb.train(params = params, data = dtrain, nrounds = nrounds, \n",
       "    watchlist = watchlist, verbose = verbose, print_every_n = print_every_n, \n",
       "    early_stopping_rounds = early_stopping_rounds, maximize = maximize, \n",
       "    save_period = save_period, save_name = save_name, xgb_model = xgb_model, \n",
       "    callbacks = callbacks, max_depth = 2, eta = 1, nthread = 2, \n",
       "    objective = \"multi:softmax\", num_class = 3)\n",
       "params (as set within xgb.train):\n",
       "  max_depth = \"2\", eta = \"1\", nthread = \"2\", objective = \"multi:softmax\", num_class = \"3\", validate_parameters = \"TRUE\"\n",
       "xgb.attributes:\n",
       "  niter\n",
       "callbacks:\n",
       "  cb.evaluation.log()\n",
       "# of features: 4 \n",
       "niter: 2\n",
       "nfeatures : 4 \n",
       "evaluation_log:\n",
       " iter train_mlogloss\n",
       "    1       0.285526\n",
       "    2       0.138916"
      ]
     },
     "metadata": {},
     "output_type": "display_data"
    }
   ],
   "source": [
    "# xgb.DMatrix로 객체 변환\n",
    "dtrain = xgb.DMatrix(data = train_mat, label = train_lab)\n",
    "dtrain\n",
    "\n",
    "# model 생성 - xgboost matrix 객체를 이용\n",
    "xgb_model = xgboost(data = dtrain, max_depth = 2, eta = 1, nthread = 2,nrounds = 2,\n",
    "                   objective = 'multi:softmax',\n",
    "                   num_class = 3,\n",
    "                   verbose = 0)\n",
    "xgb_model"
   ]
  },
  {
   "cell_type": "markdown",
   "id": "d439b749-26e6-402c-9b87-5877a9cd709a",
   "metadata": {},
   "source": [
    "- xgboost 전용 xg.DMatrix() 함수를 이용하여 학습 데이터 셋을 생성한다."
   ]
  },
  {
   "cell_type": "code",
   "execution_count": 26,
   "id": "293460d2-8ff3-40dd-9c66-bf3bcedd290b",
   "metadata": {},
   "outputs": [
    {
     "data": {
      "text/html": [
       "<style>\n",
       ".list-inline {list-style: none; margin:0; padding: 0}\n",
       ".list-inline>li {display: inline-block}\n",
       ".list-inline>li:not(:last-child)::after {content: \"\\00b7\"; padding: 0 .5ex}\n",
       "</style>\n",
       "<ol class=list-inline><li>0</li><li>0</li><li>0</li><li>0</li><li>0</li><li>0</li><li>0</li><li>0</li><li>0</li><li>0</li><li>0</li><li>0</li><li>0</li><li>0</li><li>0</li><li>0</li><li>0</li><li>0</li><li>1</li><li>1</li><li>1</li><li>1</li><li>1</li><li>1</li><li>1</li><li>1</li><li>1</li><li>1</li><li>1</li><li>2</li><li>2</li><li>2</li><li>2</li><li>1</li><li>2</li><li>2</li><li>2</li><li>2</li><li>2</li><li>1</li><li>2</li><li>2</li><li>2</li><li>2</li><li>2</li></ol>\n"
      ],
      "text/latex": [
       "\\begin{enumerate*}\n",
       "\\item 0\n",
       "\\item 0\n",
       "\\item 0\n",
       "\\item 0\n",
       "\\item 0\n",
       "\\item 0\n",
       "\\item 0\n",
       "\\item 0\n",
       "\\item 0\n",
       "\\item 0\n",
       "\\item 0\n",
       "\\item 0\n",
       "\\item 0\n",
       "\\item 0\n",
       "\\item 0\n",
       "\\item 0\n",
       "\\item 0\n",
       "\\item 0\n",
       "\\item 1\n",
       "\\item 1\n",
       "\\item 1\n",
       "\\item 1\n",
       "\\item 1\n",
       "\\item 1\n",
       "\\item 1\n",
       "\\item 1\n",
       "\\item 1\n",
       "\\item 1\n",
       "\\item 1\n",
       "\\item 2\n",
       "\\item 2\n",
       "\\item 2\n",
       "\\item 2\n",
       "\\item 1\n",
       "\\item 2\n",
       "\\item 2\n",
       "\\item 2\n",
       "\\item 2\n",
       "\\item 2\n",
       "\\item 1\n",
       "\\item 2\n",
       "\\item 2\n",
       "\\item 2\n",
       "\\item 2\n",
       "\\item 2\n",
       "\\end{enumerate*}\n"
      ],
      "text/markdown": [
       "1. 0\n",
       "2. 0\n",
       "3. 0\n",
       "4. 0\n",
       "5. 0\n",
       "6. 0\n",
       "7. 0\n",
       "8. 0\n",
       "9. 0\n",
       "10. 0\n",
       "11. 0\n",
       "12. 0\n",
       "13. 0\n",
       "14. 0\n",
       "15. 0\n",
       "16. 0\n",
       "17. 0\n",
       "18. 0\n",
       "19. 1\n",
       "20. 1\n",
       "21. 1\n",
       "22. 1\n",
       "23. 1\n",
       "24. 1\n",
       "25. 1\n",
       "26. 1\n",
       "27. 1\n",
       "28. 1\n",
       "29. 1\n",
       "30. 2\n",
       "31. 2\n",
       "32. 2\n",
       "33. 2\n",
       "34. 1\n",
       "35. 2\n",
       "36. 2\n",
       "37. 2\n",
       "38. 2\n",
       "39. 2\n",
       "40. 1\n",
       "41. 2\n",
       "42. 2\n",
       "43. 2\n",
       "44. 2\n",
       "45. 2\n",
       "\n",
       "\n"
      ],
      "text/plain": [
       " [1] 0 0 0 0 0 0 0 0 0 0 0 0 0 0 0 0 0 0 1 1 1 1 1 1 1 1 1 1 1 2 2 2 2 1 2 2 2 2\n",
       "[39] 2 1 2 2 2 2 2"
      ]
     },
     "metadata": {},
     "output_type": "display_data"
    }
   ],
   "source": [
    "# testset 생성\n",
    "test_mat = as.matrix(test[-c(5:6)])\n",
    "test_lab = test$label\n",
    "\n",
    "# model prediction\n",
    "pred_iris = predict(xgb_model, test_mat)\n",
    "pred_iris"
   ]
  },
  {
   "cell_type": "markdown",
   "id": "b92fb250-a8b9-41c4-8d7c-d98ca5e3ae91",
   "metadata": {},
   "source": [
    "- 트리 모델을 평가하기 위해서 검정 데이터 셋을 생성하고 predict() 함수를 이용하여 트리 모델에 검정 데이터 셋을 적용하여 예측치를 생성한다."
   ]
  },
  {
   "cell_type": "code",
   "execution_count": 27,
   "id": "c207b6e1-dbe1-4c52-b3c3-502a520d46c5",
   "metadata": {},
   "outputs": [
    {
     "data": {
      "text/plain": [
       "         test_lab\n",
       "pred_iris  0  1  2\n",
       "        0 18  0  0\n",
       "        1  0 11  2\n",
       "        2  0  0 14"
      ]
     },
     "metadata": {},
     "output_type": "display_data"
    }
   ],
   "source": [
    "# confusion matrix 혼돈 매트릭스\n",
    "table(pred_iris, test_lab)"
   ]
  },
  {
   "cell_type": "code",
   "execution_count": 28,
   "id": "7e457707-99c7-4984-be56-b1ed940e7b82",
   "metadata": {},
   "outputs": [
    {
     "data": {
      "text/html": [
       "0.955555555555556"
      ],
      "text/latex": [
       "0.955555555555556"
      ],
      "text/markdown": [
       "0.955555555555556"
      ],
      "text/plain": [
       "[1] 0.9555556"
      ]
     },
     "metadata": {},
     "output_type": "display_data"
    }
   ],
   "source": [
    "# 모델 성능평가\n",
    "(18 + 11 + 14)/length(test_lab)"
   ]
  },
  {
   "cell_type": "markdown",
   "id": "7432a765-025a-4830-b8a0-d2328970e6f0",
   "metadata": {},
   "source": [
    "- 다른 모델에 비해서 분류정확도가 매우 높게 나타난 것을 확인할 수 있다."
   ]
  },
  {
   "cell_type": "code",
   "execution_count": 29,
   "id": "97fc6927-fdc6-4513-8c18-fda23bf4c499",
   "metadata": {},
   "outputs": [
    {
     "data": {
      "text/html": [
       "<table class=\"dataframe\">\n",
       "<caption>A data.table: 3 × 4</caption>\n",
       "<thead>\n",
       "\t<tr><th scope=col>Feature</th><th scope=col>Gain</th><th scope=col>Cover</th><th scope=col>Frequency</th></tr>\n",
       "\t<tr><th scope=col>&lt;chr&gt;</th><th scope=col>&lt;dbl&gt;</th><th scope=col>&lt;dbl&gt;</th><th scope=col>&lt;dbl&gt;</th></tr>\n",
       "</thead>\n",
       "<tbody>\n",
       "\t<tr><td>Petal.Length</td><td>0.540131985</td><td>0.67957146</td><td>0.63636364</td></tr>\n",
       "\t<tr><td>Petal.Width </td><td>0.458853590</td><td>0.28951761</td><td>0.27272727</td></tr>\n",
       "\t<tr><td>Sepal.Length</td><td>0.001014426</td><td>0.03091093</td><td>0.09090909</td></tr>\n",
       "</tbody>\n",
       "</table>\n"
      ],
      "text/latex": [
       "A data.table: 3 × 4\n",
       "\\begin{tabular}{llll}\n",
       " Feature & Gain & Cover & Frequency\\\\\n",
       " <chr> & <dbl> & <dbl> & <dbl>\\\\\n",
       "\\hline\n",
       "\t Petal.Length & 0.540131985 & 0.67957146 & 0.63636364\\\\\n",
       "\t Petal.Width  & 0.458853590 & 0.28951761 & 0.27272727\\\\\n",
       "\t Sepal.Length & 0.001014426 & 0.03091093 & 0.09090909\\\\\n",
       "\\end{tabular}\n"
      ],
      "text/markdown": [
       "\n",
       "A data.table: 3 × 4\n",
       "\n",
       "| Feature &lt;chr&gt; | Gain &lt;dbl&gt; | Cover &lt;dbl&gt; | Frequency &lt;dbl&gt; |\n",
       "|---|---|---|---|\n",
       "| Petal.Length | 0.540131985 | 0.67957146 | 0.63636364 |\n",
       "| Petal.Width  | 0.458853590 | 0.28951761 | 0.27272727 |\n",
       "| Sepal.Length | 0.001014426 | 0.03091093 | 0.09090909 |\n",
       "\n"
      ],
      "text/plain": [
       "  Feature      Gain        Cover      Frequency \n",
       "1 Petal.Length 0.540131985 0.67957146 0.63636364\n",
       "2 Petal.Width  0.458853590 0.28951761 0.27272727\n",
       "3 Sepal.Length 0.001014426 0.03091093 0.09090909"
      ]
     },
     "metadata": {},
     "output_type": "display_data"
    },
    {
     "data": {
      "image/png": "[encoded data removed]",
      "text/plain": [
       "plot without title"
      ]
     },
     "metadata": {
      "image/png": {
       "height": 420,
       "width": 420
      }
     },
     "output_type": "display_data"
    }
   ],
   "source": [
    "# model의 중요 변수와 영향력 보기\n",
    "importance_matrix = xgb.importance(colnames(train_mat), model = xgb_model)\n",
    "importance_matrix\n",
    "\n",
    "# 중요변수 시각화\n",
    "xgb.plot.importance(importance_matrix)"
   ]
  },
  {
   "cell_type": "markdown",
   "id": "d73905e3-ab78-4b99-8feb-f8225e56b28f",
   "metadata": {},
   "source": [
    "- Petal.Length와 Petal.Width 변수가 가장 중요한 변수로 나타남을 알 수 있다."
   ]
  },
  {
   "cell_type": "markdown",
   "id": "04e3564c-30bc-40df-8ffd-9bd038c65378",
   "metadata": {},
   "source": [
    "---"
   ]
  },
  {
   "cell_type": "markdown",
   "id": "372e6569-464c-497b-9763-386db2df4bb8",
   "metadata": {},
   "source": [
    "- 인공신경망\n",
    "  - 인간의 두뇌 신경(뉴런)들이 상호작용하여 경험과 학습을 통해서 패턴을 발견하고, 이를 통해서 특정 삭너을 일반화하거나 데이터를 분류하는 데 이용되는 기계학습 방법\n",
    "  - 특히, 인간의 개입 없이 컴퓨터가 스스로 인지하고, 추론하고, 판단하여 사물을 구분하거나 특정 상황의 미래를 예측하는 데 이용될 수 있는 기계학습 방법으로 문자, 음성, 이미지 인식, 증권 시장 예측, 날씨 예보 등 다양한 분야에서 활용되고 있다. \n",
    "\n",
    "- 인공신경망과 생물학적 신경망의 비교\n",
    "  - 외부 신호를 받는 `수상돌기`는 컴퓨터에서 `입력신호(x)`에 해당.\n",
    "  - `시냅스`는 입력신호에 `가중치를 적용`하는 역할.\n",
    "  - `세포핵`은 입력신호와 가중치를 이용하여 `망의 총합을 계산`하고 `활성 함수를 이용하여 망의 총합을 출력신호에 보내는 역할`.\n",
    "\n",
    "- 망의 총합을 계산하는 수식\n",
    "  - 입력신호와 가중치 곱의 합에 의해서 계산된다.\n",
    "\n",
    "- 활성 함수는 망의 총합을 받아서 축색돌기에 출력신호를 전송하는 역할\n",
    "  - f(망의 총합)"
   ]
  },
  {
   "cell_type": "markdown",
   "id": "b2d235dc-4bce-4965-9014-3953f08ffe4a",
   "metadata": {},
   "source": [
    "---"
   ]
  },
  {
   "cell_type": "markdown",
   "id": "febcf715-46ca-4ddc-90c2-48127bfddfd0",
   "metadata": {},
   "source": [
    "- 가중치 적용\n",
    "  - 시냅스에서는 외부 신호 입력에 따라서 세기를 적용한다.\n",
    "  - 가중치는 시냅스에 의해서 신호의 세기가 결정되는 부분에 해당한다.\n",
    "  - 즉, 입력신호와 일대일로 가중치가 적용된다. 경계값은 활성 함수에 의해서 망의 총합을 다음 계층으로 넘길 때, 영향을 주는 값이다. \n",
    "  - 한편, 입력신호의 가중치는 중요 변수에 따라서 가중치가 달라지는데 초기 가중치는 무작위로 생성되지만 출력값의 예측 결과에 따라서 가중치는 수정(중요 변수의 가중치는 높게 설정)된다."
   ]
  },
  {
   "cell_type": "markdown",
   "id": "7c4c8b96-f132-464c-94b0-2a8dac6d2fee",
   "metadata": {},
   "source": [
    "- 활성 함수\n",
    "  - 망의 총합과 경계값을 계산하여 출력신호를 결정한다. 일반적으로 0과 1사이의 확률분포를 갖는 시그모이드 함수를 이용한다.\n",
    "  - 시그모이드 함수는 가중치나 경계값이 변경된 경우 출력신호에 변화를 준다.\n",
    "    - 이에 반해 스텝 함수는 0 또는 1의 이항값으로 출력신호가 결정하므로 가중치와 경계값의 변화에 대해서 출력신호에 변화를 주지 못한다. 따라서 현재 인공신경망에서는 활성함수로 시그모이드 함수를 이용한다. \n",
    "    - sigmoid function : y = $\\frac{1}{1 + e^-x}$"
   ]
  },
  {
   "cell_type": "markdown",
   "id": "174b9d82-46c9-4a97-b42e-847e925c54bb",
   "metadata": {},
   "source": [
    "- 퍼셉트론\n",
    "  - 생물학적인 신경망처럼 신경과 신경이 하나의 망 형태로 나타내기 위해서 여러 개의 계층으로 다층화하여 만들어진 인공신경망을 퍼셉트론이라고 한다.\n",
    "  - 주로 입력층, 은닉층, 출력층으로 구성된다.\n",
    "  - 퍼셉트론 모형에서 입력과 출력은 분석자가 지정하기 때문에 이러한 측면에서는 지도학습의 범주에 해당한다. 다른 한편으로 인공신경망은 은닉층에서의 연산 과정이 공개되지 않기 때문에 이러한 측면에서는 블랙박스 모형으로 분류되기도 한다.\n",
    "    - 블랙박스 모형? 데이터 분류나 예측 결과는 제공하지만, 어떤 원인으로 결과가 도출되었는지에 대한 이유를 설명할 수 없는 모형을 의미한다."
   ]
  },
  {
   "cell_type": "markdown",
   "id": "a84f1ac9-0022-493e-a3af-c66a9a19cf81",
   "metadata": {},
   "source": [
    "---"
   ]
  },
  {
   "cell_type": "markdown",
   "id": "2306590b-2f02-4f30-8fe8-35a398017220",
   "metadata": {},
   "source": [
    "- 인공신경망 기계학습과 역전파 알고리즘\n",
    "  - 인공신경망에서 기계학습은 출력값과 실제 관측값을 비교하여 오차를 계산하고 이러한 오차를 줄이기 위해서 가중치와 경계값을 조절한다.\n",
    "  - 오차(E) = 관측값(y1) - 출력값(o1)\n",
    "  - 예를 들면 오차가 양수인 경우 출력값이 작다는 것이다. 출력값을 높여줄 필요가 있을 것이다.  따라서 은닉층의 출력이 양수이면 가중치를 크게 하고(왜냐하면 출력값이 예측값보다 작아서 오차가 양수였기 때문에 출력값을 높여주어야 하고, 높여주기 위해서는 은닉층의 출력값이 양수일 땐 가중치를 크게 하여 더욱 높여주고 만약 은닉층의 출력값이 음수이면 가중치를 낮추어 은닉층의 출력값이 더 작아지지 않도록 방지해주는 것이다), 은닉층의 출력이 음수이면 가중치를 더 작게 한다. 오차가 음수일 땐 반대의 과정을 거치면 된다. \n",
    "  - 이러한 알고리즘을 적용하여 최적의 예측치가 구해지도록 기계학습이 수행된다."
   ]
  },
  {
   "cell_type": "markdown",
   "id": "899b9218-befc-4a7c-8ee0-d4fd26b76507",
   "metadata": {},
   "source": [
    "- 한편, 인공신경망(퍼셉트론) 기본적으로 단방향 망으로 구성된다. \n",
    "  - 즉, 입력층 -> 은닉층 -> 출력층으로 한 방향으로만 전파된다. \n",
    "  - 이러한 전파 방식을 개선하여 출력층 -> 은닉층으로 역방향으로 오차를 전파하여 은닝측의 가중치와 경계값을 조정하여 분류 정확도를 높이는 역전파 알고리즘을 도입하고 있다. \n",
    "  - 역전파 알고리즘은 출력에서 생긴 오차를 신경망의 역방향(입력층)으로 전파하여 순차적으로 편미분을 수행하면서 가중치와 경계값등을 수정한다. \n",
    "    - 즉, 입력값에 최적화된 가중치와 경계값이 적용되도록 구현된 인공신경망 관련된 알고리즘을 의미한다. "
   ]
  }
 ],
 "metadata": {
  "kernelspec": {
   "display_name": "R",
   "language": "R",
   "name": "ir"
  },
  "language_info": {
   "codemirror_mode": "r",
   "file_extension": ".r",
   "mimetype": "text/x-r-source",
   "name": "R",
   "pygments_lexer": "r",
   "version": "4.0.5"
  }
 },
 "nbformat": 4,
 "nbformat_minor": 5
}
