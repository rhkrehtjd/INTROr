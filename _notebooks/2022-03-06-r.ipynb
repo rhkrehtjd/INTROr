{
 "cells": [
  {
   "cell_type": "markdown",
   "id": "ab348c08-69e5-4b3d-8211-b5a2ce32c08e",
   "metadata": {},
   "source": [
    "# 시계열 분석"
   ]
  },
  {
   "cell_type": "markdown",
   "id": "51b00cd2-657e-4034-8a7c-20e07dac7a4a",
   "metadata": {},
   "source": [
    "- 어떤 현상에 대해서 시간의 변화량을 기록한 시계열 자료를 대상으로 미래의 변화에 대한 추세를 분석하는 방법\n",
    "- 시간의 경과에 따라서 연속적으로 관측값을 기록하고 있기 때문에 이러한 특성을 이용하여 시간 경과에 따른 관측값의 변화를 패턴으로 인식해서 시계열 모형을 추정하고, 이 모형을 통해서 미래의 변화를 추정하는 분석 방법\n",
    "- 회귀분석과 동일하게 설명변수와 반응변수를 토대로 유의수준에 의해서 판단하는 추론통계방식"
   ]
  },
  {
   "cell_type": "markdown",
   "id": "b2de5e1f-d3bb-46cb-b7a9-4eeea8375f35",
   "metadata": {},
   "source": [
    "- 시계열분석의 적용 범위\n",
    "  - 회귀분석은 데이터의 분포나 두 데이터 간의 상관성을 토대로 분석하지만, 시계열분석은 어떤 시간의 변화에 따라 현재 시점의 자료와 이전 시점의 자료 간의 상관성을 토대로 분석한다. \n",
    "  - 기존의 예측분석과는 달리 시간을 축으로 변화하는 통계량의 현상을 파악하여 가까운 미래를 추정하는 도구로 적합하다. \n",
    "  - 반대로 먼 미래를 예측하는 도구로 활용할 경우 실패할 확률이 높다. \n",
    "    - 시간의 결과에 따라 오차가 중첩되기 때문에 분산이 증가하여 예측력이 떨어지는 것이다."
   ]
  },
  {
   "cell_type": "markdown",
   "id": "e846cf01-b8d4-4dee-8d6f-890b458170d4",
   "metadata": {},
   "source": [
    "- 시계열 자료 분석\n",
    "  - 정상성 시계열과 비정상성 시계열로 구분.\n",
    "  - 대부분의 시계열 자료는 비정상성 시계열 자료를 갖는다. "
   ]
  },
  {
   "cell_type": "markdown",
   "id": "0e364d5f-b030-4da4-82b7-1953c9e2297a",
   "metadata": {},
   "source": [
    "- 어떤 시계열 자료의 변화 패턴이 일정한 평균값을 중심으로 일정한 변동 폭을 갖는 시계열일 때 그 자료를 정상성 시계열이라고 한다.\n",
    "- 예를 들어, 시간의 추이와 관계없이 평균과 분산이 일정한 정상성 시계열이 있다. \n",
    "- 정상성 시계열이 아닌 나머지 시계열 자료들은 비정상성 시계열이라고 부른다. 대부분이 이에 속한다. "
   ]
  },
  {
   "cell_type": "markdown",
   "id": "1d2f8a86-9026-4554-8f10-3a3c0161ddec",
   "metadata": {},
   "source": [
    "- 정상성 시계열은 평균이 0이며, 일정한 분산을 갖는 정규분포에서 추출된 임의의 값으로 불규칙성(독립적)을 갖는 데이터로 정의할 수 있다. \n",
    "- 이러한 불규칙성을 갖는 패턴을 백색 잡음이라고 부른다."
   ]
  },
  {
   "cell_type": "markdown",
   "id": "0fb9bcda-a2c8-45c5-83f5-8492fda390ec",
   "metadata": {},
   "source": [
    "- 반면, 비정상성 시계열은 규칙성(비독립적)을 갖는 패턴으로 시간의 추이에 따라서 점진적으로 증가하거나 하강하는 추세의 규칙, 일정한 주기 단위로 동일한 규칙이 반복되는 계절성의 규칙을 보인다. 이러한 비정상성 시계열은 시계열 자료의 추세선, 시계열 요소 분해 그리고 자기 상관 함수의 시각화 등을 통해서 확인할 수 있다. "
   ]
  },
  {
   "cell_type": "markdown",
   "id": "6ff92131-11af-4c50-9fae-eb789d72efcc",
   "metadata": {},
   "source": [
    "- 한편 시계열 자료가 비정상성 시계열이면 정상성 시계열로 변화시켜야 시계열 모형을 생성할 수 있다. \n",
    "  - 차분, 로그변환을 통해 정상성 시계열로 변환할 수 있다. \n",
    "  - 차분 : 현재 시점에서 이전 시점의 자료를 빼는 연산으로 평균을 정상화하는 데 이용되고, 로그변환은 log() 함수를 이용하여 분산을 정상화하는 데 이용한다. "
   ]
  },
  {
   "cell_type": "markdown",
   "id": "306b31bb-92bc-4e97-ad09-0abe03c2016e",
   "metadata": {},
   "source": [
    "---"
   ]
  },
  {
   "cell_type": "markdown",
   "id": "2ab7496e-2b87-4322-ba56-1f721c7e7c1c",
   "metadata": {},
   "source": [
    "- 비정상성 시계열을 정상성 시계열로 변경"
   ]
  },
  {
   "cell_type": "code",
   "execution_count": 1,
   "id": "026cd2fa-0292-4406-803c-936ffafe6dc2",
   "metadata": {},
   "outputs": [],
   "source": [
    "data(AirPassengers)"
   ]
  },
  {
   "cell_type": "code",
   "execution_count": 2,
   "id": "8ba061d5-4963-4878-a072-b08932d7608f",
   "metadata": {},
   "outputs": [
    {
     "data": {
      "image/png": "[encoded data removed]",
      "text/plain": [
       "plot without title"
      ]
     },
     "metadata": {
      "image/png": {
       "height": 420,
       "width": 420
      }
     },
     "output_type": "display_data"
    }
   ],
   "source": [
    "# 차분 적용 - 평균 정상화\n",
    "par(mfrow = c(1,2))\n",
    "ts.plot(AirPassengers) # 시계열 시각화\n",
    "diff = diff(AirPassengers) # 차분 수행\n",
    "plot(diff) # 평균 정상화"
   ]
  },
  {
   "cell_type": "code",
   "execution_count": 4,
   "id": "c4d6c798-d250-4adc-8df2-e6c78975ab5f",
   "metadata": {},
   "outputs": [
    {
     "data": {
      "text/html": [
       "<table class=\"dataframe\">\n",
       "<caption>A Time Series: 12 × 12</caption>\n",
       "<thead>\n",
       "\t<tr><th></th><th scope=col>Jan</th><th scope=col>Feb</th><th scope=col>Mar</th><th scope=col>Apr</th><th scope=col>May</th><th scope=col>Jun</th><th scope=col>Jul</th><th scope=col>Aug</th><th scope=col>Sep</th><th scope=col>Oct</th><th scope=col>Nov</th><th scope=col>Dec</th></tr>\n",
       "</thead>\n",
       "<tbody>\n",
       "\t<tr><th scope=row>1949</th><td>    </td><td>   6</td><td>  14</td><td>  -3</td><td>  -8</td><td>  14</td><td>  13</td><td>   0</td><td> -12</td><td> -17</td><td> -15</td><td>  14</td></tr>\n",
       "\t<tr><th scope=row>1950</th><td>  -3</td><td>  11</td><td>  15</td><td>  -6</td><td> -10</td><td>  24</td><td>  21</td><td>   0</td><td> -12</td><td> -25</td><td> -19</td><td>  26</td></tr>\n",
       "\t<tr><th scope=row>1951</th><td>   5</td><td>   5</td><td>  28</td><td> -15</td><td>   9</td><td>   6</td><td>  21</td><td>   0</td><td> -15</td><td> -22</td><td> -16</td><td>  20</td></tr>\n",
       "\t<tr><th scope=row>1952</th><td>   5</td><td>   9</td><td>  13</td><td> -12</td><td>   2</td><td>  35</td><td>  12</td><td>  12</td><td> -33</td><td> -18</td><td> -19</td><td>  22</td></tr>\n",
       "\t<tr><th scope=row>1953</th><td>   2</td><td>   0</td><td>  40</td><td>  -1</td><td>  -6</td><td>  14</td><td>  21</td><td>   8</td><td> -35</td><td> -26</td><td> -31</td><td>  21</td></tr>\n",
       "\t<tr><th scope=row>1954</th><td>   3</td><td> -16</td><td>  47</td><td>  -8</td><td>   7</td><td>  30</td><td>  38</td><td>  -9</td><td> -34</td><td> -30</td><td> -26</td><td>  26</td></tr>\n",
       "\t<tr><th scope=row>1955</th><td>  13</td><td>  -9</td><td>  34</td><td>   2</td><td>   1</td><td>  45</td><td>  49</td><td> -17</td><td> -35</td><td> -38</td><td> -37</td><td>  41</td></tr>\n",
       "\t<tr><th scope=row>1956</th><td>   6</td><td>  -7</td><td>  40</td><td>  -4</td><td>   5</td><td>  56</td><td>  39</td><td>  -8</td><td> -50</td><td> -49</td><td> -35</td><td>  35</td></tr>\n",
       "\t<tr><th scope=row>1957</th><td>   9</td><td> -14</td><td>  55</td><td>  -8</td><td>   7</td><td>  67</td><td>  43</td><td>   2</td><td> -63</td><td> -57</td><td> -42</td><td>  31</td></tr>\n",
       "\t<tr><th scope=row>1958</th><td>   4</td><td> -22</td><td>  44</td><td> -14</td><td>  15</td><td>  72</td><td>  56</td><td>  14</td><td>-101</td><td> -45</td><td> -49</td><td>  27</td></tr>\n",
       "\t<tr><th scope=row>1959</th><td>  23</td><td> -18</td><td>  64</td><td> -10</td><td>  24</td><td>  52</td><td>  76</td><td>  11</td><td> -96</td><td> -56</td><td> -45</td><td>  43</td></tr>\n",
       "\t<tr><th scope=row>1960</th><td>  12</td><td> -26</td><td>  28</td><td>  42</td><td>  11</td><td>  63</td><td>  87</td><td> -16</td><td> -98</td><td> -47</td><td> -71</td><td>  42</td></tr>\n",
       "</tbody>\n",
       "</table>\n"
      ],
      "text/latex": [
       "A Time Series: 12 × 12\n",
       "\\begin{tabular}{r|llllllllllll}\n",
       "  & Jan & Feb & Mar & Apr & May & Jun & Jul & Aug & Sep & Oct & Nov & Dec\\\\\n",
       "\\hline\n",
       "\t1949 &      &    6 &   14 &   -3 &   -8 &   14 &   13 &    0 &  -12 &  -17 &  -15 &   14\\\\\n",
       "\t1950 &   -3 &   11 &   15 &   -6 &  -10 &   24 &   21 &    0 &  -12 &  -25 &  -19 &   26\\\\\n",
       "\t1951 &    5 &    5 &   28 &  -15 &    9 &    6 &   21 &    0 &  -15 &  -22 &  -16 &   20\\\\\n",
       "\t1952 &    5 &    9 &   13 &  -12 &    2 &   35 &   12 &   12 &  -33 &  -18 &  -19 &   22\\\\\n",
       "\t1953 &    2 &    0 &   40 &   -1 &   -6 &   14 &   21 &    8 &  -35 &  -26 &  -31 &   21\\\\\n",
       "\t1954 &    3 &  -16 &   47 &   -8 &    7 &   30 &   38 &   -9 &  -34 &  -30 &  -26 &   26\\\\\n",
       "\t1955 &   13 &   -9 &   34 &    2 &    1 &   45 &   49 &  -17 &  -35 &  -38 &  -37 &   41\\\\\n",
       "\t1956 &    6 &   -7 &   40 &   -4 &    5 &   56 &   39 &   -8 &  -50 &  -49 &  -35 &   35\\\\\n",
       "\t1957 &    9 &  -14 &   55 &   -8 &    7 &   67 &   43 &    2 &  -63 &  -57 &  -42 &   31\\\\\n",
       "\t1958 &    4 &  -22 &   44 &  -14 &   15 &   72 &   56 &   14 & -101 &  -45 &  -49 &   27\\\\\n",
       "\t1959 &   23 &  -18 &   64 &  -10 &   24 &   52 &   76 &   11 &  -96 &  -56 &  -45 &   43\\\\\n",
       "\t1960 &   12 &  -26 &   28 &   42 &   11 &   63 &   87 &  -16 &  -98 &  -47 &  -71 &   42\\\\\n",
       "\\end{tabular}\n"
      ],
      "text/markdown": [
       "\n",
       "A Time Series: 12 × 12\n",
       "\n",
       "| <!--/--> | Jan | Feb | Mar | Apr | May | Jun | Jul | Aug | Sep | Oct | Nov | Dec |\n",
       "|---|---|---|---|---|---|---|---|---|---|---|---|---|\n",
       "| 1949 | <!----> |    6 |   14 |   -3 |   -8 |   14 |   13 |    0 |  -12 |  -17 |  -15 |   14 |\n",
       "| 1950 |   -3 |   11 |   15 |   -6 |  -10 |   24 |   21 |    0 |  -12 |  -25 |  -19 |   26 |\n",
       "| 1951 |    5 |    5 |   28 |  -15 |    9 |    6 |   21 |    0 |  -15 |  -22 |  -16 |   20 |\n",
       "| 1952 |    5 |    9 |   13 |  -12 |    2 |   35 |   12 |   12 |  -33 |  -18 |  -19 |   22 |\n",
       "| 1953 |    2 |    0 |   40 |   -1 |   -6 |   14 |   21 |    8 |  -35 |  -26 |  -31 |   21 |\n",
       "| 1954 |    3 |  -16 |   47 |   -8 |    7 |   30 |   38 |   -9 |  -34 |  -30 |  -26 |   26 |\n",
       "| 1955 |   13 |   -9 |   34 |    2 |    1 |   45 |   49 |  -17 |  -35 |  -38 |  -37 |   41 |\n",
       "| 1956 |    6 |   -7 |   40 |   -4 |    5 |   56 |   39 |   -8 |  -50 |  -49 |  -35 |   35 |\n",
       "| 1957 |    9 |  -14 |   55 |   -8 |    7 |   67 |   43 |    2 |  -63 |  -57 |  -42 |   31 |\n",
       "| 1958 |    4 |  -22 |   44 |  -14 |   15 |   72 |   56 |   14 | -101 |  -45 |  -49 |   27 |\n",
       "| 1959 |   23 |  -18 |   64 |  -10 |   24 |   52 |   76 |   11 |  -96 |  -56 |  -45 |   43 |\n",
       "| 1960 |   12 |  -26 |   28 |   42 |   11 |   63 |   87 |  -16 |  -98 |  -47 |  -71 |   42 |\n",
       "\n"
      ],
      "text/plain": [
       "     Jan  Feb  Mar  Apr  May  Jun  Jul  Aug  Sep  Oct  Nov  Dec \n",
       "1949         6   14   -3   -8   14   13    0  -12  -17  -15   14\n",
       "1950   -3   11   15   -6  -10   24   21    0  -12  -25  -19   26\n",
       "1951    5    5   28  -15    9    6   21    0  -15  -22  -16   20\n",
       "1952    5    9   13  -12    2   35   12   12  -33  -18  -19   22\n",
       "1953    2    0   40   -1   -6   14   21    8  -35  -26  -31   21\n",
       "1954    3  -16   47   -8    7   30   38   -9  -34  -30  -26   26\n",
       "1955   13   -9   34    2    1   45   49  -17  -35  -38  -37   41\n",
       "1956    6   -7   40   -4    5   56   39   -8  -50  -49  -35   35\n",
       "1957    9  -14   55   -8    7   67   43    2  -63  -57  -42   31\n",
       "1958    4  -22   44  -14   15   72   56   14 -101  -45  -49   27\n",
       "1959   23  -18   64  -10   24   52   76   11  -96  -56  -45   43\n",
       "1960   12  -26   28   42   11   63   87  -16  -98  -47  -71   42"
      ]
     },
     "metadata": {},
     "output_type": "display_data"
    }
   ],
   "source": [
    "diff"
   ]
  },
  {
   "cell_type": "markdown",
   "id": "4b7142c5-1804-4e6a-8b12-84de2c898ac6",
   "metadata": {},
   "source": [
    "- 차분을 수행한 결과가 대체로 일정한 값을 얻으면 선형의 추세를 갖는다는 판단을 할 수 있을 것이다. \n",
    "- 만약 시계열에 계절성(일정한 주기 단위로 규칙이 발생)이 있으면 계절 차분을 수행하여 정상성 시계열로 변환한다. \n",
    "- 또한 차분된 것을 다시 차분했을 때 일정한 값들을 보인다면 그 시계열 자료는 2차 식의 추세를 갖는다고 판단한다."
   ]
  },
  {
   "cell_type": "code",
   "execution_count": 5,
   "id": "30b0f10b-2a48-4550-b2f1-965050d39b87",
   "metadata": {},
   "outputs": [
    {
     "data": {
      "image/png": "[encoded data removed]",
      "text/plain": [
       "plot without title"
      ]
     },
     "metadata": {
      "image/png": {
       "height": 420,
       "width": 420
      }
     },
     "output_type": "display_data"
    }
   ],
   "source": [
    "# 로그 적용 - 분산 정상화\n",
    "par(mfrow = c(1,2)) \n",
    "plot(AirPassengers)\n",
    "log = diff(log(AirPassengers)) # 로그 + 차분 수행\n",
    "plot(log) # 분산 정상화"
   ]
  },
  {
   "cell_type": "markdown",
   "id": "0389f971-afd0-4eaa-9956-cc090cbb3f3b",
   "metadata": {},
   "source": [
    "- 시계열 자료를 대상으로 대수를 취한 값들(log)의 1차 차분이 일정한 값을 갖는 경우 분산이 정상화되었다고 판단할 수 있다. 또한, 시계열의 추세를 찾아낸 후에는 원 시계열에서 추세를 제거함으로 추세가 없는 시계열의 형태로 나타나면 정상적 시계열로 볼 수 있다. "
   ]
  },
  {
   "cell_type": "markdown",
   "id": "b47562c6-bed5-4a8b-9b4e-b9d3aa872cf5",
   "metadata": {},
   "source": [
    "---"
   ]
  },
  {
   "cell_type": "markdown",
   "id": "dc9b894d-aa39-4c7b-b58a-5310038826d9",
   "metadata": {},
   "source": [
    "- 시계열분석에서 시계열자료의 특징을 정확히 파악한다면 해당 자료에 대한 적합한 분석 방법을 선택하는 데 많은 도움이 된다.\n",
    "- 따라서 시계열 자료를 이해하는 데 도움이 될 수 있는 시각화 방법에 대해서 알아보자"
   ]
  },
  {
   "cell_type": "markdown",
   "id": "efd3ceca-ac9a-40f2-a411-772280a5959f",
   "metadata": {},
   "source": [
    "- 시계열 추세선 시각화\n",
    "  - 추세 : 어떤 현상이 일정한 방향으로 나아가는 경향, 어느 기간동안 같은 방향으로 움직이는 경향을 의미\n",
    "  - 이러한 추세선을 통해서 어느 정도 평균과 분산을 확인할 수 있다. "
   ]
  },
  {
   "cell_type": "code",
   "execution_count": 10,
   "id": "38b9ba4e-572f-46c4-b5cc-6efa52f809fc",
   "metadata": {},
   "outputs": [
    {
     "name": "stdout",
     "output_type": "stream",
     "text": [
      " Time-Series [1:100] from 1 to 100: 88 84 85 85 84 85 83 85 88 89 ...\n"
     ]
    }
   ],
   "source": [
    "data(WWWusage) # 인터넷 사용시간 데이터 셋\n",
    "str(WWWusage) # 데이터 셋 구조 보기"
   ]
  },
  {
   "cell_type": "code",
   "execution_count": 11,
   "id": "40070f27-9ecb-4925-bf05-9f76f481f3cc",
   "metadata": {},
   "outputs": [
    {
     "data": {
      "text/html": [
       "A Time Series:<br><style>\n",
       ".list-inline {list-style: none; margin:0; padding: 0}\n",
       ".list-inline>li {display: inline-block}\n",
       ".list-inline>li:not(:last-child)::after {content: \"\\00b7\"; padding: 0 .5ex}\n",
       "</style>\n",
       "<ol class=list-inline><li>88</li><li>84</li><li>85</li><li>85</li><li>84</li><li>85</li><li>83</li><li>85</li><li>88</li><li>89</li><li>91</li><li>99</li><li>104</li><li>112</li><li>126</li><li>138</li><li>146</li><li>151</li><li>150</li><li>148</li><li>147</li><li>149</li><li>143</li><li>132</li><li>131</li><li>139</li><li>147</li><li>150</li><li>148</li><li>145</li><li>140</li><li>134</li><li>131</li><li>131</li><li>129</li><li>126</li><li>126</li><li>132</li><li>137</li><li>140</li><li>142</li><li>150</li><li>159</li><li>167</li><li>170</li><li>171</li><li>172</li><li>172</li><li>174</li><li>175</li><li>172</li><li>172</li><li>174</li><li>174</li><li>169</li><li>165</li><li>156</li><li>142</li><li>131</li><li>121</li><li>112</li><li>104</li><li>102</li><li>99</li><li>99</li><li>95</li><li>88</li><li>84</li><li>84</li><li>87</li><li>89</li><li>88</li><li>85</li><li>86</li><li>89</li><li>91</li><li>91</li><li>94</li><li>101</li><li>110</li><li>121</li><li>135</li><li>145</li><li>149</li><li>156</li><li>165</li><li>171</li><li>175</li><li>177</li><li>182</li><li>193</li><li>204</li><li>208</li><li>210</li><li>215</li><li>222</li><li>228</li><li>226</li><li>222</li><li>220</li></ol>\n"
      ],
      "text/latex": [
       "A Time Series:\\\\\\begin{enumerate*}\n",
       "\\item 88\n",
       "\\item 84\n",
       "\\item 85\n",
       "\\item 85\n",
       "\\item 84\n",
       "\\item 85\n",
       "\\item 83\n",
       "\\item 85\n",
       "\\item 88\n",
       "\\item 89\n",
       "\\item 91\n",
       "\\item 99\n",
       "\\item 104\n",
       "\\item 112\n",
       "\\item 126\n",
       "\\item 138\n",
       "\\item 146\n",
       "\\item 151\n",
       "\\item 150\n",
       "\\item 148\n",
       "\\item 147\n",
       "\\item 149\n",
       "\\item 143\n",
       "\\item 132\n",
       "\\item 131\n",
       "\\item 139\n",
       "\\item 147\n",
       "\\item 150\n",
       "\\item 148\n",
       "\\item 145\n",
       "\\item 140\n",
       "\\item 134\n",
       "\\item 131\n",
       "\\item 131\n",
       "\\item 129\n",
       "\\item 126\n",
       "\\item 126\n",
       "\\item 132\n",
       "\\item 137\n",
       "\\item 140\n",
       "\\item 142\n",
       "\\item 150\n",
       "\\item 159\n",
       "\\item 167\n",
       "\\item 170\n",
       "\\item 171\n",
       "\\item 172\n",
       "\\item 172\n",
       "\\item 174\n",
       "\\item 175\n",
       "\\item 172\n",
       "\\item 172\n",
       "\\item 174\n",
       "\\item 174\n",
       "\\item 169\n",
       "\\item 165\n",
       "\\item 156\n",
       "\\item 142\n",
       "\\item 131\n",
       "\\item 121\n",
       "\\item 112\n",
       "\\item 104\n",
       "\\item 102\n",
       "\\item 99\n",
       "\\item 99\n",
       "\\item 95\n",
       "\\item 88\n",
       "\\item 84\n",
       "\\item 84\n",
       "\\item 87\n",
       "\\item 89\n",
       "\\item 88\n",
       "\\item 85\n",
       "\\item 86\n",
       "\\item 89\n",
       "\\item 91\n",
       "\\item 91\n",
       "\\item 94\n",
       "\\item 101\n",
       "\\item 110\n",
       "\\item 121\n",
       "\\item 135\n",
       "\\item 145\n",
       "\\item 149\n",
       "\\item 156\n",
       "\\item 165\n",
       "\\item 171\n",
       "\\item 175\n",
       "\\item 177\n",
       "\\item 182\n",
       "\\item 193\n",
       "\\item 204\n",
       "\\item 208\n",
       "\\item 210\n",
       "\\item 215\n",
       "\\item 222\n",
       "\\item 228\n",
       "\\item 226\n",
       "\\item 222\n",
       "\\item 220\n",
       "\\end{enumerate*}\n"
      ],
      "text/markdown": [
       "A Time Series:  \n",
       "1. 88\n",
       "2. 84\n",
       "3. 85\n",
       "4. 85\n",
       "5. 84\n",
       "6. 85\n",
       "7. 83\n",
       "8. 85\n",
       "9. 88\n",
       "10. 89\n",
       "11. 91\n",
       "12. 99\n",
       "13. 104\n",
       "14. 112\n",
       "15. 126\n",
       "16. 138\n",
       "17. 146\n",
       "18. 151\n",
       "19. 150\n",
       "20. 148\n",
       "21. 147\n",
       "22. 149\n",
       "23. 143\n",
       "24. 132\n",
       "25. 131\n",
       "26. 139\n",
       "27. 147\n",
       "28. 150\n",
       "29. 148\n",
       "30. 145\n",
       "31. 140\n",
       "32. 134\n",
       "33. 131\n",
       "34. 131\n",
       "35. 129\n",
       "36. 126\n",
       "37. 126\n",
       "38. 132\n",
       "39. 137\n",
       "40. 140\n",
       "41. 142\n",
       "42. 150\n",
       "43. 159\n",
       "44. 167\n",
       "45. 170\n",
       "46. 171\n",
       "47. 172\n",
       "48. 172\n",
       "49. 174\n",
       "50. 175\n",
       "51. 172\n",
       "52. 172\n",
       "53. 174\n",
       "54. 174\n",
       "55. 169\n",
       "56. 165\n",
       "57. 156\n",
       "58. 142\n",
       "59. 131\n",
       "60. 121\n",
       "61. 112\n",
       "62. 104\n",
       "63. 102\n",
       "64. 99\n",
       "65. 99\n",
       "66. 95\n",
       "67. 88\n",
       "68. 84\n",
       "69. 84\n",
       "70. 87\n",
       "71. 89\n",
       "72. 88\n",
       "73. 85\n",
       "74. 86\n",
       "75. 89\n",
       "76. 91\n",
       "77. 91\n",
       "78. 94\n",
       "79. 101\n",
       "80. 110\n",
       "81. 121\n",
       "82. 135\n",
       "83. 145\n",
       "84. 149\n",
       "85. 156\n",
       "86. 165\n",
       "87. 171\n",
       "88. 175\n",
       "89. 177\n",
       "90. 182\n",
       "91. 193\n",
       "92. 204\n",
       "93. 208\n",
       "94. 210\n",
       "95. 215\n",
       "96. 222\n",
       "97. 228\n",
       "98. 226\n",
       "99. 222\n",
       "100. 220\n",
       "\n",
       "\n"
      ],
      "text/plain": [
       "A Time Series:\n",
       "  [1]  88  84  85  85  84  85  83  85  88  89  91  99 104 112 126 138 146 151\n",
       " [19] 150 148 147 149 143 132 131 139 147 150 148 145 140 134 131 131 129 126\n",
       " [37] 126 132 137 140 142 150 159 167 170 171 172 172 174 175 172 172 174 174\n",
       " [55] 169 165 156 142 131 121 112 104 102  99  99  95  88  84  84  87  89  88\n",
       " [73]  85  86  89  91  91  94 101 110 121 135 145 149 156 165 171 175 177 182\n",
       " [91] 193 204 208 210 215 222 228 226 222 220"
      ]
     },
     "metadata": {},
     "output_type": "display_data"
    }
   ],
   "source": [
    "WWWusage"
   ]
  },
  {
   "cell_type": "code",
   "execution_count": 14,
   "id": "292b2801-1523-4403-9164-0ee399902b8a",
   "metadata": {},
   "outputs": [
    {
     "data": {
      "image/png": "[encoded data removed]",
      "text/plain": [
       "plot without title"
      ]
     },
     "metadata": {
      "image/png": {
       "height": 420,
       "width": 420
      }
     },
     "output_type": "display_data"
    }
   ],
   "source": [
    "# 시계열 자료 추세선 시각화\n",
    "X11()\n",
    "ts.plot(WWWusage, type = 'l', col = 'red')"
   ]
  },
  {
   "cell_type": "markdown",
   "id": "100d0cd5-a5c9-4daa-ad4f-72077268c362",
   "metadata": {},
   "source": [
    "- 다중 시계열 자료 시각화\n",
    "  - 유럽 국가들의 주요 주식에 대한 일일 마감 가격이 기록되어 있는 데이터 셋을 대상으로 단일과 다중 시계열 자료 추세선을 그려보자"
   ]
  },
  {
   "cell_type": "code",
   "execution_count": 15,
   "id": "7a798ef1-09b8-4c4f-be79-02eb5afa8f9b",
   "metadata": {},
   "outputs": [
    {
     "data": {
      "text/html": [
       "<table class=\"dataframe\">\n",
       "<caption>A matrix: 3 × 4 of type dbl</caption>\n",
       "<thead>\n",
       "\t<tr><th scope=col>DAX</th><th scope=col>SMI</th><th scope=col>CAC</th><th scope=col>FTSE</th></tr>\n",
       "</thead>\n",
       "<tbody>\n",
       "\t<tr><td>1628.75</td><td>1678.1</td><td>1772.8</td><td>2443.6</td></tr>\n",
       "\t<tr><td>1613.63</td><td>1688.5</td><td>1750.5</td><td>2460.2</td></tr>\n",
       "\t<tr><td>1606.51</td><td>1678.6</td><td>1718.0</td><td>2448.2</td></tr>\n",
       "</tbody>\n",
       "</table>\n"
      ],
      "text/latex": [
       "A matrix: 3 × 4 of type dbl\n",
       "\\begin{tabular}{llll}\n",
       " DAX & SMI & CAC & FTSE\\\\\n",
       "\\hline\n",
       "\t 1628.75 & 1678.1 & 1772.8 & 2443.6\\\\\n",
       "\t 1613.63 & 1688.5 & 1750.5 & 2460.2\\\\\n",
       "\t 1606.51 & 1678.6 & 1718.0 & 2448.2\\\\\n",
       "\\end{tabular}\n"
      ],
      "text/markdown": [
       "\n",
       "A matrix: 3 × 4 of type dbl\n",
       "\n",
       "| DAX | SMI | CAC | FTSE |\n",
       "|---|---|---|---|\n",
       "| 1628.75 | 1678.1 | 1772.8 | 2443.6 |\n",
       "| 1613.63 | 1688.5 | 1750.5 | 2460.2 |\n",
       "| 1606.51 | 1678.6 | 1718.0 | 2448.2 |\n",
       "\n"
      ],
      "text/plain": [
       "     DAX     SMI    CAC    FTSE  \n",
       "[1,] 1628.75 1678.1 1772.8 2443.6\n",
       "[2,] 1613.63 1688.5 1750.5 2460.2\n",
       "[3,] 1606.51 1678.6 1718.0 2448.2"
      ]
     },
     "metadata": {},
     "output_type": "display_data"
    }
   ],
   "source": [
    "data(EuStockMarkets)\n",
    "head(EuStockMarkets,3)"
   ]
  },
  {
   "cell_type": "code",
   "execution_count": 17,
   "id": "885e85dd-532d-42bc-9f6c-a3ab04bd21fb",
   "metadata": {},
   "outputs": [
    {
     "data": {
      "text/html": [
       "<table class=\"dataframe\">\n",
       "<caption>A data.frame: 6 × 4</caption>\n",
       "<thead>\n",
       "\t<tr><th></th><th scope=col>DAX</th><th scope=col>SMI</th><th scope=col>CAC</th><th scope=col>FTSE</th></tr>\n",
       "\t<tr><th></th><th scope=col>&lt;dbl&gt;</th><th scope=col>&lt;dbl&gt;</th><th scope=col>&lt;dbl&gt;</th><th scope=col>&lt;dbl&gt;</th></tr>\n",
       "</thead>\n",
       "<tbody>\n",
       "\t<tr><th scope=row>1</th><td>1628.75</td><td>1678.1</td><td>1772.8</td><td>2443.6</td></tr>\n",
       "\t<tr><th scope=row>2</th><td>1613.63</td><td>1688.5</td><td>1750.5</td><td>2460.2</td></tr>\n",
       "\t<tr><th scope=row>3</th><td>1606.51</td><td>1678.6</td><td>1718.0</td><td>2448.2</td></tr>\n",
       "\t<tr><th scope=row>4</th><td>1621.04</td><td>1684.1</td><td>1708.1</td><td>2470.4</td></tr>\n",
       "\t<tr><th scope=row>5</th><td>1618.16</td><td>1686.6</td><td>1723.1</td><td>2484.7</td></tr>\n",
       "\t<tr><th scope=row>6</th><td>1610.61</td><td>1671.6</td><td>1714.3</td><td>2466.8</td></tr>\n",
       "</tbody>\n",
       "</table>\n"
      ],
      "text/latex": [
       "A data.frame: 6 × 4\n",
       "\\begin{tabular}{r|llll}\n",
       "  & DAX & SMI & CAC & FTSE\\\\\n",
       "  & <dbl> & <dbl> & <dbl> & <dbl>\\\\\n",
       "\\hline\n",
       "\t1 & 1628.75 & 1678.1 & 1772.8 & 2443.6\\\\\n",
       "\t2 & 1613.63 & 1688.5 & 1750.5 & 2460.2\\\\\n",
       "\t3 & 1606.51 & 1678.6 & 1718.0 & 2448.2\\\\\n",
       "\t4 & 1621.04 & 1684.1 & 1708.1 & 2470.4\\\\\n",
       "\t5 & 1618.16 & 1686.6 & 1723.1 & 2484.7\\\\\n",
       "\t6 & 1610.61 & 1671.6 & 1714.3 & 2466.8\\\\\n",
       "\\end{tabular}\n"
      ],
      "text/markdown": [
       "\n",
       "A data.frame: 6 × 4\n",
       "\n",
       "| <!--/--> | DAX &lt;dbl&gt; | SMI &lt;dbl&gt; | CAC &lt;dbl&gt; | FTSE &lt;dbl&gt; |\n",
       "|---|---|---|---|---|\n",
       "| 1 | 1628.75 | 1678.1 | 1772.8 | 2443.6 |\n",
       "| 2 | 1613.63 | 1688.5 | 1750.5 | 2460.2 |\n",
       "| 3 | 1606.51 | 1678.6 | 1718.0 | 2448.2 |\n",
       "| 4 | 1621.04 | 1684.1 | 1708.1 | 2470.4 |\n",
       "| 5 | 1618.16 | 1686.6 | 1723.1 | 2484.7 |\n",
       "| 6 | 1610.61 | 1671.6 | 1714.3 | 2466.8 |\n",
       "\n"
      ],
      "text/plain": [
       "  DAX     SMI    CAC    FTSE  \n",
       "1 1628.75 1678.1 1772.8 2443.6\n",
       "2 1613.63 1688.5 1750.5 2460.2\n",
       "3 1606.51 1678.6 1718.0 2448.2\n",
       "4 1621.04 1684.1 1708.1 2470.4\n",
       "5 1618.16 1686.6 1723.1 2484.7\n",
       "6 1610.61 1671.6 1714.3 2466.8"
      ]
     },
     "metadata": {},
     "output_type": "display_data"
    }
   ],
   "source": [
    "# 데이터 프레임으로 변환\n",
    "EuStock = data.frame(EuStockMarkets)\n",
    "head(EuStock)"
   ]
  },
  {
   "cell_type": "markdown",
   "id": "7c2bac5b-0637-4aed-8a38-5fa8713efde2",
   "metadata": {},
   "source": [
    "- 단일 시계열 자료 추세선 시각화(1000개 데이터 대상)"
   ]
  },
  {
   "cell_type": "code",
   "execution_count": 23,
   "id": "fee5ff89-953c-407e-b1b1-72679671a26e",
   "metadata": {},
   "outputs": [
    {
     "data": {
      "image/png": "[encoded data removed]",
      "text/plain": [
       "plot without title"
      ]
     },
     "metadata": {
      "image/png": {
       "height": 420,
       "width": 420
      }
     },
     "output_type": "display_data"
    }
   ],
   "source": [
    "# 선 그래프 시각화\n",
    "X11()\n",
    "plot(EuStock$DAX[1:1000], type = 'l', col = 'red')"
   ]
  },
  {
   "cell_type": "markdown",
   "id": "67145223-9b1f-4232-a4b8-be453029b3cd",
   "metadata": {},
   "source": [
    "- 다중 시계열 자료 추세선 시각화"
   ]
  },
  {
   "cell_type": "code",
   "execution_count": 24,
   "id": "f1751ea3-2b7a-4d93-b74b-c5708c833312",
   "metadata": {},
   "outputs": [
    {
     "data": {
      "image/png": "[encoded data removed]",
      "text/plain": [
       "plot without title"
      ]
     },
     "metadata": {
      "image/png": {
       "height": 420,
       "width": 420
      }
     },
     "output_type": "display_data"
    }
   ],
   "source": [
    "plot.ts(cbind(EuStock$DAX[1:1000],EuStock$SMI[1:1000]),main = '주가지수 추세선')"
   ]
  },
  {
   "cell_type": "markdown",
   "id": "6a564c64-7257-4ed4-848c-5ac913708e9a",
   "metadata": {},
   "source": [
    "---"
   ]
  },
  {
   "cell_type": "markdown",
   "id": "50df98cc-8514-4637-9249-0507905ce3bb",
   "metadata": {},
   "source": [
    "- 시계열 요소 분해 시각화\n",
    "  - 시간의 변화에 따라 측정된 시계열 자료는 몇 가지 변동요인을 가지며, 이러한 변동요인을 적용하여 시계열 자료를 분석할 수 있다. \n",
    "  - 특히 시계열 요소 분해를 통해서 만들어진 그래프를 대상으로 분석하는 자체를 시계열분석 기법으로 포함한다."
   ]
  },
  {
   "cell_type": "markdown",
   "id": "4c62e3e5-3547-4591-8d16-8f21dc6476f8",
   "metadata": {},
   "source": [
    "- 시계열 자료의 변동요인\n",
    "  - 1) 추세 변동\n",
    "  - 2) 순환 변동\n",
    "  - 3) 계절 변동\n",
    "  - 4) 불규칙 변동"
   ]
  },
  {
   "cell_type": "markdown",
   "id": "9044e021-c45b-41e8-b62d-71bd00f7bff3",
   "metadata": {},
   "source": [
    "- 시계열 요소 분해 시각화"
   ]
  },
  {
   "cell_type": "code",
   "execution_count": 28,
   "id": "19b2ea48-4a9a-410f-b49b-07efc1745cfd",
   "metadata": {},
   "outputs": [
    {
     "data": {
      "text/html": [
       "<table class=\"dataframe\">\n",
       "<caption>A Time Series: 3 × 12</caption>\n",
       "<thead>\n",
       "\t<tr><th></th><th scope=col>Jan</th><th scope=col>Feb</th><th scope=col>Mar</th><th scope=col>Apr</th><th scope=col>May</th><th scope=col>Jun</th><th scope=col>Jul</th><th scope=col>Aug</th><th scope=col>Sep</th><th scope=col>Oct</th><th scope=col>Nov</th><th scope=col>Dec</th></tr>\n",
       "</thead>\n",
       "<tbody>\n",
       "\t<tr><th scope=row>2016</th><td>45</td><td>56</td><td>45</td><td>43</td><td>69</td><td>75</td><td>58</td><td>59</td><td>66</td><td>64</td><td>62</td><td>65</td></tr>\n",
       "\t<tr><th scope=row>2017</th><td>55</td><td>49</td><td>61</td><td>55</td><td>71</td><td>78</td><td>71</td><td>65</td><td>69</td><td>43</td><td>70</td><td>75</td></tr>\n",
       "\t<tr><th scope=row>2018</th><td>56</td><td>56</td><td>65</td><td>55</td><td>85</td><td>85</td><td>75</td><td>77</td><td>77</td><td>69</td><td>79</td><td>89</td></tr>\n",
       "</tbody>\n",
       "</table>\n"
      ],
      "text/latex": [
       "A Time Series: 3 × 12\n",
       "\\begin{tabular}{r|llllllllllll}\n",
       "  & Jan & Feb & Mar & Apr & May & Jun & Jul & Aug & Sep & Oct & Nov & Dec\\\\\n",
       "\\hline\n",
       "\t2016 & 45 & 56 & 45 & 43 & 69 & 75 & 58 & 59 & 66 & 64 & 62 & 65\\\\\n",
       "\t2017 & 55 & 49 & 61 & 55 & 71 & 78 & 71 & 65 & 69 & 43 & 70 & 75\\\\\n",
       "\t2018 & 56 & 56 & 65 & 55 & 85 & 85 & 75 & 77 & 77 & 69 & 79 & 89\\\\\n",
       "\\end{tabular}\n"
      ],
      "text/markdown": [
       "\n",
       "A Time Series: 3 × 12\n",
       "\n",
       "| <!--/--> | Jan | Feb | Mar | Apr | May | Jun | Jul | Aug | Sep | Oct | Nov | Dec |\n",
       "|---|---|---|---|---|---|---|---|---|---|---|---|---|\n",
       "| 2016 | 45 | 56 | 45 | 43 | 69 | 75 | 58 | 59 | 66 | 64 | 62 | 65 |\n",
       "| 2017 | 55 | 49 | 61 | 55 | 71 | 78 | 71 | 65 | 69 | 43 | 70 | 75 |\n",
       "| 2018 | 56 | 56 | 65 | 55 | 85 | 85 | 75 | 77 | 77 | 69 | 79 | 89 |\n",
       "\n"
      ],
      "text/plain": [
       "     Jan Feb Mar Apr May Jun Jul Aug Sep Oct Nov Dec\n",
       "2016 45  56  45  43  69  75  58  59  66  64  62  65 \n",
       "2017 55  49  61  55  71  78  71  65  69  43  70  75 \n",
       "2018 56  56  65  55  85  85  75  77  77  69  79  89 "
      ]
     },
     "metadata": {},
     "output_type": "display_data"
    }
   ],
   "source": [
    "# 시계열 자료 준비\n",
    "data = c(45, 56, 45, 43, 69, 75,58,59,66,64,62,65,55,49,61,55,71,78,71,65,69,43,70,75,56,56,65,55,85,85,75,77,77,69,79,89)\n",
    "\n",
    "# 시계열 자료 생성 - 시계열 자료 형식으로 객체 생성\n",
    "tsdata = ts(data, start = c(2016, 1), frequency = 12)\n",
    "tsdata"
   ]
  },
  {
   "cell_type": "code",
   "execution_count": 29,
   "id": "3b0b6fb6-4ca9-4430-9c07-dcf6a1ca7d95",
   "metadata": {},
   "outputs": [
    {
     "data": {
      "image/png": "[encoded data removed]",
      "text/plain": [
       "plot without title"
      ]
     },
     "metadata": {
      "image/png": {
       "height": 420,
       "width": 420
      }
     },
     "output_type": "display_data"
    }
   ],
   "source": [
    "# 추세선 확인 - 각 요인(추세, 순환, 계절, 불규칙)을 시각적으로 확인\n",
    "ts.plot(tsdata) # = plot(tsdata)"
   ]
  },
  {
   "cell_type": "code",
   "execution_count": 31,
   "id": "12ebe95b-faa0-4402-aa47-0cdab4130247",
   "metadata": {},
   "outputs": [
    {
     "data": {
      "image/png": "[encoded data removed]",
      "text/plain": [
       "plot without title"
      ]
     },
     "metadata": {
      "image/png": {
       "height": 420,
       "width": 420
      }
     },
     "output_type": "display_data"
    }
   ],
   "source": [
    "# 시계열 분해\n",
    "plot(stl(tsdata, 'periodic'))"
   ]
  },
  {
   "cell_type": "markdown",
   "id": "a39dae60-c978-49ad-b47b-e1da3d37e043",
   "metadata": {},
   "source": [
    "- stl() 함수는 하나의 시계열 자료를 대상으로 시계열 변동요인인 계절 요소, 추세, 잔차를 모두 제공해준다. \n",
    "- 잔차는 회귀식에서 추정된 값과 실제값의 차이를 의미하는데 여기서는 계절과 추세 적합 결과에 의해서 나타난다. \n",
    "- 시계열 분해는 시계열의 변동요인을 분석하여 시계열 모형을 선정하는 데 유용한 역할을 제공한다. "
   ]
  },
  {
   "cell_type": "code",
   "execution_count": 32,
   "id": "840d7f07-16f8-4769-aa15-9542c822ff1b",
   "metadata": {},
   "outputs": [
    {
     "data": {
      "text/html": [
       "<dl>\n",
       "\t<dt>$names</dt>\n",
       "\t\t<dd><style>\n",
       ".list-inline {list-style: none; margin:0; padding: 0}\n",
       ".list-inline>li {display: inline-block}\n",
       ".list-inline>li:not(:last-child)::after {content: \"\\00b7\"; padding: 0 .5ex}\n",
       "</style>\n",
       "<ol class=list-inline><li>'x'</li><li>'seasonal'</li><li>'trend'</li><li>'random'</li><li>'figure'</li><li>'type'</li></ol>\n",
       "</dd>\n",
       "\t<dt>$class</dt>\n",
       "\t\t<dd>'decomposed.ts'</dd>\n",
       "</dl>\n"
      ],
      "text/latex": [
       "\\begin{description}\n",
       "\\item[\\$names] \\begin{enumerate*}\n",
       "\\item 'x'\n",
       "\\item 'seasonal'\n",
       "\\item 'trend'\n",
       "\\item 'random'\n",
       "\\item 'figure'\n",
       "\\item 'type'\n",
       "\\end{enumerate*}\n",
       "\n",
       "\\item[\\$class] 'decomposed.ts'\n",
       "\\end{description}\n"
      ],
      "text/markdown": [
       "$names\n",
       ":   1. 'x'\n",
       "2. 'seasonal'\n",
       "3. 'trend'\n",
       "4. 'random'\n",
       "5. 'figure'\n",
       "6. 'type'\n",
       "\n",
       "\n",
       "\n",
       "$class\n",
       ":   'decomposed.ts'\n",
       "\n",
       "\n"
      ],
      "text/plain": [
       "$names\n",
       "[1] \"x\"        \"seasonal\" \"trend\"    \"random\"   \"figure\"   \"type\"    \n",
       "\n",
       "$class\n",
       "[1] \"decomposed.ts\"\n"
      ]
     },
     "metadata": {},
     "output_type": "display_data"
    }
   ],
   "source": [
    "# 시계열 분해와 변동요인 제거\n",
    "m = decompose(tsdata) # 시계열 분해\n",
    "attributes(m)"
   ]
  },
  {
   "cell_type": "code",
   "execution_count": 35,
   "id": "afe2af3d-7a91-46ec-9ac6-b924fbc0abd9",
   "metadata": {},
   "outputs": [
    {
     "data": {
      "image/png": "[encoded data removed]",
      "text/plain": [
       "plot without title"
      ]
     },
     "metadata": {
      "image/png": {
       "height": 420,
       "width": 420
      }
     },
     "output_type": "display_data"
    }
   ],
   "source": [
    "# 추세요인, 계절요인, 불규칙요인이 포함된 그래프\n",
    "plot(m)"
   ]
  },
  {
   "cell_type": "code",
   "execution_count": 36,
   "id": "39932942-d306-4a11-9e45-8ff5800d4058",
   "metadata": {},
   "outputs": [
    {
     "data": {
      "image/png": "[encoded data removed]",
      "text/plain": [
       "plot without title"
      ]
     },
     "metadata": {
      "image/png": {
       "height": 420,
       "width": 420
      }
     },
     "output_type": "display_data"
    }
   ],
   "source": [
    "par(mfrow = c(1,1))\n",
    "plot(tsdata - m$seasonal) # 계절요인을 제거한 그래프"
   ]
  },
  {
   "cell_type": "code",
   "execution_count": 39,
   "id": "93c4a077-cd49-4934-affe-28f75498c201",
   "metadata": {},
   "outputs": [
    {
     "data": {
      "image/png": "[encoded data removed]",
      "text/plain": [
       "plot without title"
      ]
     },
     "metadata": {
      "image/png": {
       "height": 420,
       "width": 420
      }
     },
     "output_type": "display_data"
    },
    {
     "data": {
      "image/png": "[encoded data removed]",
      "text/plain": [
       "plot without title"
      ]
     },
     "metadata": {
      "image/png": {
       "height": 420,
       "width": 420
      }
     },
     "output_type": "display_data"
    }
   ],
   "source": [
    "# 계절요인을 제거해봤으니\n",
    "# 추세요인과 불규칙요인도 제거해보자\n",
    "plot(tsdata - m$trend) # 추세요인 제거 그래프\n",
    "plot(tsdata - m$seasonal - m$trend) # 불규칙요인만 출력, 즉, 실제 시계열 자료만 나타낸 결과"
   ]
  },
  {
   "cell_type": "markdown",
   "id": "b58fa3c5-5374-4073-ac65-40d157366e35",
   "metadata": {},
   "source": [
    "---"
   ]
  },
  {
   "cell_type": "markdown",
   "id": "a867059d-62b5-4fe5-bb80-d2c4409d5500",
   "metadata": {},
   "source": [
    "- 자기 상관 함수, 부분 자기 상관 함수 시각화\n",
    "  - 자기 상관성은 자기 상관계수가 유의미한가를 나타내는 특성이다. \n",
    "  - 여기서 자기 상관계수는 시계열 자료에서 시차를 일정하게 주는 경우 얻어지는 상관계수이다.\n",
    "  - 자기 상관계수는 서로 이웃한 시점 간의 상관계수를 찾는 데 이용된다.\n",
    "  - 또한 자기 상관계수는 다른 시차들의 시계열 자료가 미치는 영향을 제거한 후에 주어진 시차에 대한 시계열 간의 상관계수이다. \n",
    "  - 특히 자기 상관 함수와 부분 자기 상관 함수는 시계열의 모형을 식별하는 수단으로 이용된다. "
   ]
  },
  {
   "cell_type": "markdown",
   "id": "dfa5fad4-9a6f-49a6-b36f-f448697667df",
   "metadata": {},
   "source": [
    "- 시계열 요소 분해 시각화"
   ]
  },
  {
   "cell_type": "code",
   "execution_count": 40,
   "id": "8a0919d2-c955-40b6-8fc5-1b1063cdd200",
   "metadata": {},
   "outputs": [],
   "source": [
    "# 시계열 자료 생성\n",
    "input = c(3180,3000,3200,3100,3300,3200,3400,3550,3200,3400,3300,3700)\n",
    "tsdata = ts(input, start = c(2015, 2), frequency = 12)"
   ]
  },
  {
   "cell_type": "code",
   "execution_count": 43,
   "id": "7e9e6b18-8b1a-4a56-856f-d8feb94a80e4",
   "metadata": {},
   "outputs": [
    {
     "data": {
      "image/png": "[encoded data removed]",
      "text/plain": [
       "Plot with title \"자기상관함수\""
      ]
     },
     "metadata": {
      "image/png": {
       "height": 420,
       "width": 420
      }
     },
     "output_type": "display_data"
    }
   ],
   "source": [
    "# 자기 상관 함수 시각화\n",
    "acf(na.omit(tsdata), main = '자기상관함수', col = 'red')"
   ]
  },
  {
   "cell_type": "markdown",
   "id": "355d9c6d-bf83-44d2-aa1e-9002317578b7",
   "metadata": {},
   "source": [
    "- 파란 점선은 유의미한 자기 상관관계에 대한 임계값을 의미하는데 모든 시차가 파란 점선 안쪽에 있기 때문에 서로 이웃한 시점 간의 자기 상관성은 없는 것으로 해석된다."
   ]
  },
  {
   "cell_type": "code",
   "execution_count": 45,
   "id": "a5572a3b-da06-4217-9d29-5b9a807a7286",
   "metadata": {},
   "outputs": [
    {
     "data": {
      "image/png": "[encoded data removed]",
      "text/plain": [
       "Plot with title \"부분 자기 상관 함수\""
      ]
     },
     "metadata": {
      "image/png": {
       "height": 420,
       "width": 420
      }
     },
     "output_type": "display_data"
    }
   ],
   "source": [
    "# 부분 자기 상관 함수 시각화\n",
    "pacf(na.omit(tsdata), main = '부분 자기 상관 함수', col = 'red')"
   ]
  },
  {
   "cell_type": "markdown",
   "id": "8314a8e3-6e8b-4b95-af5a-4578fddbfc22",
   "metadata": {},
   "source": [
    "- 부분 자기 상관 함수의 결과 역시 모든 시차가 파란 점선 안쪽에 있기 때문에 주어진 시점 간의 자기 상관성은 없는 것으로 해석된다."
   ]
  },
  {
   "cell_type": "markdown",
   "id": "f5b0a966-de18-4cc9-973f-825ed40e3688",
   "metadata": {},
   "source": [
    "---"
   ]
  },
  {
   "cell_type": "markdown",
   "id": "e0eeef49-475f-40be-9f67-9ebe90babc1a",
   "metadata": {},
   "source": [
    "- 추세 패턴 찾기 시각화\n",
    "  - 추세 패턴 : 시계열 자료가 증가 또는 감소하는 경향이 있는지 알아보고, 증가 또는 감소하는 경향이 선형인지 비선형인지를 찾는 과정. \n",
    "  - 추세 패턴의 객관적인 근거는 차분과 자기 상관성을 통해서 얻을 수 있는데 여기서 차분은 현재 시점에서 이전 시점의 자료를 빼는 연산을 의미한다."
   ]
  },
  {
   "cell_type": "markdown",
   "id": "5efce542-e22c-421e-8727-f5dd39c235fd",
   "metadata": {},
   "source": [
    "- 시계열 자료의 추세 패턴 찾기 시각화"
   ]
  },
  {
   "cell_type": "code",
   "execution_count": 46,
   "id": "d4cbae45-0861-4750-9f2f-33916a45ca9a",
   "metadata": {},
   "outputs": [],
   "source": [
    "# 시계열 자료 생성\n",
    "input = c(3180,3000,3200,3100,3300,3200,3400,3550,3200,3400,3300,3700)\n",
    "tsdata = ts(input, start = c(2015, 2), frequency = 12)"
   ]
  },
  {
   "cell_type": "code",
   "execution_count": 47,
   "id": "de9f6e34-45c6-4056-a646-2e9e070938ca",
   "metadata": {},
   "outputs": [
    {
     "data": {
      "image/png": "[encoded data removed]",
      "text/plain": [
       "plot without title"
      ]
     },
     "metadata": {
      "image/png": {
       "height": 420,
       "width": 420
      }
     },
     "output_type": "display_data"
    }
   ],
   "source": [
    "# 추세선 시각화\n",
    "plot(tsdata, type = 'l', col = 'red')"
   ]
  },
  {
   "cell_type": "markdown",
   "id": "cc4c6ef2-46d1-4f30-a0a6-f416cb96f28e",
   "metadata": {},
   "source": [
    "- 시계열 자료가 점진적으로 증가하는 추세의 선형 형태를 나타낸다."
   ]
  },
  {
   "cell_type": "code",
   "execution_count": 48,
   "id": "2bb628b8-7736-4855-99fa-5758a0936867",
   "metadata": {},
   "outputs": [
    {
     "data": {
      "image/png": "[encoded data removed]",
      "text/plain": [
       "Plot with title \"자기 상관함수\""
      ]
     },
     "metadata": {
      "image/png": {
       "height": 420,
       "width": 420
      }
     },
     "output_type": "display_data"
    }
   ],
   "source": [
    "# 자기 상관 함수 시각화\n",
    "acf(na.omit(tsdata), main = '자기 상관함수', col = 'red')"
   ]
  },
  {
   "cell_type": "markdown",
   "id": "de06eb56-1b78-4ec3-8c92-7f8af27f5db4",
   "metadata": {},
   "source": [
    "- 자기 상관성이 없음을 알 수 있다"
   ]
  },
  {
   "cell_type": "code",
   "execution_count": 49,
   "id": "e7c1734c-5e22-4770-9774-01630610cb23",
   "metadata": {},
   "outputs": [
    {
     "data": {
      "image/png": "[encoded data removed]",
      "text/plain": [
       "plot without title"
      ]
     },
     "metadata": {
      "image/png": {
       "height": 420,
       "width": 420
      }
     },
     "output_type": "display_data"
    }
   ],
   "source": [
    "# 차분 시각화\n",
    "plot(diff(tsdata, differences = 1))"
   ]
  },
  {
   "cell_type": "markdown",
   "id": "f3ca0339-dda8-46d1-98a5-8ef6ba4cc103",
   "metadata": {},
   "source": [
    "- 결과 그래프는 차분을 수행한 결과가 평균을 중심으로 일정한 폭을 나타내고 있다. \n",
    "- 위와 같은 자기 상관 함수와 차분의 시각화를 통해서 추세의 패턴을 선형으로 판단한다. "
   ]
  },
  {
   "cell_type": "markdown",
   "id": "2f5627d4-9eaa-4e2c-b0da-9e61ab449c2f",
   "metadata": {},
   "source": [
    "---"
   ]
  },
  {
   "cell_type": "markdown",
   "id": "638b905c-38ef-48b4-bd41-876bdf8f8fc2",
   "metadata": {},
   "source": [
    "- 시계열분석 기법\n",
    "  - 평활법, 시계열 요소 분해법, 회귀 분석법, ARIMA 모형법 등이 있다. \n",
    "  - 평활법, 시계열 요소 분해법 : 시각적인 측면에서 직관성을 제공\n",
    "  - 나머지 : 수학적 이론을 배경으로 1개 이상의 다변량 시계열 데이터를 대상으로 분석하는 방법."
   ]
  },
  {
   "cell_type": "markdown",
   "id": "1f7c9b7f-45d4-464e-ac76-410996426f88",
   "metadata": {},
   "source": [
    "- 시계열 요소 분해법\n",
    "  - 시계열 자료의 4가지 변동요인을 찾아서 시각적으로 분석하는 기법\n",
    "  - 대체로 추세와 계절 변동요인은 추세선에서 뚜렷하게 나타난다.\n",
    "  - 특히 추세 변동에 대한 분석은 시계열 자료가 증가하거나 감소하는 경향이 있는지를 파악하고, 증가나 감소의 경향이 선형인지 비선형인지 또는 s곡선과 같은 성장 곡선인지를 찾는 과정이 필요하다. \n",
    "  - 이와 같은 추세의 패턴을 찾는 방법\n",
    "    - 1) 차분 후 일정한 값을 나타내면 선형의 패턴(대각선)\n",
    "    - 2) 로그변환 후 일정한 값을 나타내면 비선형의 패턴(U자, 역U자)\n",
    "    - 3) 로그변환 후 1차 차분결과가 일정한 값으로 나타나면 성장곡선의 패턴(S자)"
   ]
  },
  {
   "cell_type": "markdown",
   "id": "39257edf-c5c4-4134-a797-9d1d1e6cd4c2",
   "metadata": {},
   "source": [
    "- 평활법(Smoothing Method)\n",
    "  - 시계열 자료의 체계적인 자료의 흐름을 파악하기 위해서 `과거 자료의 불규칙한 변동을 제거`하는 방법\n",
    "  - 즉, 시계열 자료의 뾰족한 작은 변동들을 제거하여 부드러운 곡선으로 시계열 자료를 조정하는 기법\n",
    "  - 이동평균과 지수평활법이 있다. "
   ]
  },
  {
   "cell_type": "markdown",
   "id": "7cea4ee7-a789-4145-83ba-8517aebc3eff",
   "metadata": {},
   "source": [
    "- 이동평균\n",
    "  - 시계열 자료를 대상으로 일정한 기간의 자료를 평균으로 계산하고, 이동시킨 추세를 파악하여 다음 기간의 추세를 예측하는 방법."
   ]
  },
  {
   "cell_type": "markdown",
   "id": "ca5c5090-969b-4480-b426-47fb55a2e1c4",
   "metadata": {},
   "source": [
    "- 지수 평활법\n",
    "  - 전체 시계열 자료를 이용하여 평균을 구하고 최근 시계열에 더 큰 가중치를 적용하는 방법이다. "
   ]
  },
  {
   "cell_type": "code",
   "execution_count": 50,
   "id": "a854a22e-ca2d-4621-8109-e2010ccfddcc",
   "metadata": {},
   "outputs": [
    {
     "data": {
      "text/html": [
       "<table class=\"dataframe\">\n",
       "<caption>A Time Series: 3 × 12</caption>\n",
       "<thead>\n",
       "\t<tr><th></th><th scope=col>Jan</th><th scope=col>Feb</th><th scope=col>Mar</th><th scope=col>Apr</th><th scope=col>May</th><th scope=col>Jun</th><th scope=col>Jul</th><th scope=col>Aug</th><th scope=col>Sep</th><th scope=col>Oct</th><th scope=col>Nov</th><th scope=col>Dec</th></tr>\n",
       "</thead>\n",
       "<tbody>\n",
       "\t<tr><th scope=row>2016</th><td>45</td><td>56</td><td>45</td><td>43</td><td>69</td><td>75</td><td>58</td><td>59</td><td>66</td><td>64</td><td>62</td><td>65</td></tr>\n",
       "\t<tr><th scope=row>2017</th><td>55</td><td>49</td><td>67</td><td>55</td><td>71</td><td>78</td><td>71</td><td>65</td><td>69</td><td>43</td><td>70</td><td>75</td></tr>\n",
       "\t<tr><th scope=row>2018</th><td>56</td><td>56</td><td>65</td><td>55</td><td>82</td><td>85</td><td>75</td><td>77</td><td>77</td><td>69</td><td>79</td><td>89</td></tr>\n",
       "</tbody>\n",
       "</table>\n"
      ],
      "text/latex": [
       "A Time Series: 3 × 12\n",
       "\\begin{tabular}{r|llllllllllll}\n",
       "  & Jan & Feb & Mar & Apr & May & Jun & Jul & Aug & Sep & Oct & Nov & Dec\\\\\n",
       "\\hline\n",
       "\t2016 & 45 & 56 & 45 & 43 & 69 & 75 & 58 & 59 & 66 & 64 & 62 & 65\\\\\n",
       "\t2017 & 55 & 49 & 67 & 55 & 71 & 78 & 71 & 65 & 69 & 43 & 70 & 75\\\\\n",
       "\t2018 & 56 & 56 & 65 & 55 & 82 & 85 & 75 & 77 & 77 & 69 & 79 & 89\\\\\n",
       "\\end{tabular}\n"
      ],
      "text/markdown": [
       "\n",
       "A Time Series: 3 × 12\n",
       "\n",
       "| <!--/--> | Jan | Feb | Mar | Apr | May | Jun | Jul | Aug | Sep | Oct | Nov | Dec |\n",
       "|---|---|---|---|---|---|---|---|---|---|---|---|---|\n",
       "| 2016 | 45 | 56 | 45 | 43 | 69 | 75 | 58 | 59 | 66 | 64 | 62 | 65 |\n",
       "| 2017 | 55 | 49 | 67 | 55 | 71 | 78 | 71 | 65 | 69 | 43 | 70 | 75 |\n",
       "| 2018 | 56 | 56 | 65 | 55 | 82 | 85 | 75 | 77 | 77 | 69 | 79 | 89 |\n",
       "\n"
      ],
      "text/plain": [
       "     Jan Feb Mar Apr May Jun Jul Aug Sep Oct Nov Dec\n",
       "2016 45  56  45  43  69  75  58  59  66  64  62  65 \n",
       "2017 55  49  67  55  71  78  71  65  69  43  70  75 \n",
       "2018 56  56  65  55  82  85  75  77  77  69  79  89 "
      ]
     },
     "metadata": {},
     "output_type": "display_data"
    }
   ],
   "source": [
    "data = c(45,56,45,43,69,75,58,59,66,64,62,65,55,49,67,55,71,78,71,65,69,43,70,75,56,56,65,55,82,85,75,77,77,69,79,89)\n",
    "tsdata = ts(data, start = c(2016, 1), frequency = 12)\n",
    "tsdata"
   ]
  },
  {
   "cell_type": "code",
   "execution_count": 55,
   "id": "cad0e35a-5f11-4bbe-8f55-c7e7cd3a3e89",
   "metadata": {},
   "outputs": [],
   "source": [
    "# 평활관련 패키지\n",
    "library(TTR)"
   ]
  },
  {
   "cell_type": "code",
   "execution_count": 60,
   "id": "0cc188f8-b41f-4940-ab19-8b9c9cc7cfa3",
   "metadata": {},
   "outputs": [
    {
     "data": {
      "image/png": "[encoded data removed]",
      "text/plain": [
       "Plot with title \"3년 단위 이동평균법으로 평활\""
      ]
     },
     "metadata": {
      "image/png": {
       "height": 420,
       "width": 420
      }
     },
     "output_type": "display_data"
    }
   ],
   "source": [
    "# 이동평균법으로 평활 및 시각화\n",
    "par(mfrow = c(2,2))\n",
    "plot(tsdata, main = '원 시계열 자료') # 시계열 자료 시각화\n",
    "plot(SMA(tsdata, n = 1), main = '1년 단위 이동평균법으로 평활')\n",
    "plot(SMA(tsdata, n = 2), main = '2년 단위 이동평균법으로 평활')\n",
    "plot(SMA(tsdata, n = 3), main = '3년 단위 이동평균법으로 평활')"
   ]
  },
  {
   "cell_type": "markdown",
   "id": "c26a1952-dc75-48d4-a0e6-c229e0673e65",
   "metadata": {},
   "source": [
    "- 연 단위의 3개 평활 결과에서 가장 평탄한 형태로 분포된 결과를 선정하여 추세를 예측하는 데 사용한다. \n",
    "- 여기서는 3년마다 평균으로 평활한 결과가 가장 평탄한 값으로 판단된다."
   ]
  },
  {
   "cell_type": "markdown",
   "id": "844549fd-8ade-42b9-9015-e94af88621f3",
   "metadata": {},
   "source": [
    "---"
   ]
  },
  {
   "cell_type": "markdown",
   "id": "37ca1cc0-2dde-4a81-a352-8aef0838c303",
   "metadata": {},
   "source": [
    "- 회귀분석법\n",
    "  - 시계열 자료는 시간이라는 설명변수에 의해서 어떤 반응변수를 나타내는 것을 말한다. 예를 들면, 매분 매시간 단위로 주식 시세의 데이터가 기록되는 경우 매분, 매시간은 반응변수이고 주식시세의 값은 설명변수에 해당한다. 따라서 선형 회귀분석을 이용하여 시계열 자료의 선형성이나 정규성, 등분산성 등의 모수 검정을 위한 타당성을 검정해야 한다. "
   ]
  }
 ],
 "metadata": {
  "kernelspec": {
   "display_name": "R",
   "language": "R",
   "name": "ir"
  },
  "language_info": {
   "codemirror_mode": "r",
   "file_extension": ".r",
   "mimetype": "text/x-r-source",
   "name": "R",
   "pygments_lexer": "r",
   "version": "4.0.5"
  }
 },
 "nbformat": 4,
 "nbformat_minor": 5
}
