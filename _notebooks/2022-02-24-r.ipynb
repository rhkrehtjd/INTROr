{
 "cells": [
  {
   "cell_type": "markdown",
   "id": "90c7134e-611c-4961-873d-5e03afa80663",
   "metadata": {},
   "source": [
    "# 교차분석, 카이제곱검정, 추정과 검정(단일 집단 검정)"
   ]
  },
  {
   "cell_type": "markdown",
   "id": "6dac821d-647e-45d8-a36c-d0e80bcd21ac",
   "metadata": {},
   "source": [
    "- 교차분석\n",
    "  - 범주형 자료(명목척도, 서열척도)를 대상으로 두 개 이상의 변수들에 대한 관련성을 알아보기 위해서 결합분포를 나타내는 교차 분할표를 작성하고 이를 통해서 변수 상호간의 관련성 여부를 분석하는 방법이다. \n",
    "  - 빈도분석의 특성별 차이를 분석하기 위해 수행하는 분석 방법으로 빈도분석 결과에 대한 보충자료를 제시하는 데 효과적이다.\n",
    "  - 교차분석은 빈도분석과 함께 고급통계분석의 기초정보를 제공한다.\n",
    "  - 주의 1) 교차분석에 사용되는 변수는 값이 10 미만인 범주형 변수(명목척도, 서열척도)이어야 한다.\n",
    "  - 주의 2) 비율척도인 경우는 코딩 변경을 통해서 범주형 자료로 변화해야 한다. \n",
    "    - 예를 들면, 나이의 경우 10~19세는 1, 20~29세는 2 등으로 코딩변경을 통해 범주화하여 사용한다."
   ]
  },
  {
   "cell_type": "markdown",
   "id": "56be0a72-1424-422d-9308-f3e00cf3b9c5",
   "metadata": {},
   "source": [
    "---"
   ]
  },
  {
   "cell_type": "markdown",
   "id": "a9e349f9-3ad4-4a79-bccd-d4bb6d0783d4",
   "metadata": {},
   "source": [
    "- 데이터프레임 생성\n",
    "  - 해당 변수를 확인하여 모델링한 후 범주형 데이터로 변환하는 변수 리코딩 과정을 거친다. \n",
    "  - 대상 변수를 분할표로 작성하기 위해서는 데이터프레임을 생성해야 한다. \n",
    "  - 변수 모델링 : 특정 객체를 대상으로 분석할 속성(변수)을 선택하여 속성 간의 관계를 설정하는 일련의 과정을 의미한다. 여기서 속성은 변수 또는 변인이라고도 한다. \n",
    "    - 예를 들면, smoke 객체에서 education과 smoking 속성을 분석대상으로 하여 education이 smoking과 관련성이 있는가를 모델링하는 경우 education $\\to$ smoking 형태로 기술한다. 이때 education은 영향을 미치는 독립변수에 해당하고, smoking은 영향을 받는 종속변수에 해당한다. "
   ]
  },
  {
   "cell_type": "code",
   "execution_count": 1,
   "id": "e7747c95-0ecc-4e17-9393-1d9a43e0c44d",
   "metadata": {},
   "outputs": [
    {
     "data": {
      "text/html": [
       "<table class=\"dataframe\">\n",
       "<caption>A data.frame: 3 × 14</caption>\n",
       "<thead>\n",
       "\t<tr><th></th><th scope=col>resident</th><th scope=col>gender</th><th scope=col>age</th><th scope=col>level</th><th scope=col>cost</th><th scope=col>type</th><th scope=col>survey</th><th scope=col>pass</th><th scope=col>cost2</th><th scope=col>resident2</th><th scope=col>gender2</th><th scope=col>age2</th><th scope=col>level2</th><th scope=col>pass2</th></tr>\n",
       "\t<tr><th></th><th scope=col>&lt;int&gt;</th><th scope=col>&lt;int&gt;</th><th scope=col>&lt;int&gt;</th><th scope=col>&lt;int&gt;</th><th scope=col>&lt;dbl&gt;</th><th scope=col>&lt;int&gt;</th><th scope=col>&lt;int&gt;</th><th scope=col>&lt;int&gt;</th><th scope=col>&lt;int&gt;</th><th scope=col>&lt;chr&gt;</th><th scope=col>&lt;chr&gt;</th><th scope=col>&lt;chr&gt;</th><th scope=col>&lt;chr&gt;</th><th scope=col>&lt;chr&gt;</th></tr>\n",
       "</thead>\n",
       "<tbody>\n",
       "\t<tr><th scope=row>1</th><td> 1</td><td>1</td><td>50</td><td>1</td><td>5.1</td><td>1</td><td>1</td><td>2</td><td>2</td><td>특별시</td><td>남자</td><td>장년층</td><td>고졸</td><td>실패</td></tr>\n",
       "\t<tr><th scope=row>2</th><td> 2</td><td>1</td><td>54</td><td>2</td><td>4.2</td><td>1</td><td>2</td><td>2</td><td>2</td><td>광역시</td><td>남자</td><td>장년층</td><td>대졸</td><td>실패</td></tr>\n",
       "\t<tr><th scope=row>3</th><td>NA</td><td>1</td><td>62</td><td>2</td><td>4.7</td><td>1</td><td>1</td><td>1</td><td>2</td><td>NA    </td><td>남자</td><td>노년층</td><td>대졸</td><td>합격</td></tr>\n",
       "</tbody>\n",
       "</table>\n"
      ],
      "text/latex": [
       "A data.frame: 3 × 14\n",
       "\\begin{tabular}{r|llllllllllllll}\n",
       "  & resident & gender & age & level & cost & type & survey & pass & cost2 & resident2 & gender2 & age2 & level2 & pass2\\\\\n",
       "  & <int> & <int> & <int> & <int> & <dbl> & <int> & <int> & <int> & <int> & <chr> & <chr> & <chr> & <chr> & <chr>\\\\\n",
       "\\hline\n",
       "\t1 &  1 & 1 & 50 & 1 & 5.1 & 1 & 1 & 2 & 2 & 특별시 & 남자 & 장년층 & 고졸 & 실패\\\\\n",
       "\t2 &  2 & 1 & 54 & 2 & 4.2 & 1 & 2 & 2 & 2 & 광역시 & 남자 & 장년층 & 대졸 & 실패\\\\\n",
       "\t3 & NA & 1 & 62 & 2 & 4.7 & 1 & 1 & 1 & 2 & NA     & 남자 & 노년층 & 대졸 & 합격\\\\\n",
       "\\end{tabular}\n"
      ],
      "text/markdown": [
       "\n",
       "A data.frame: 3 × 14\n",
       "\n",
       "| <!--/--> | resident &lt;int&gt; | gender &lt;int&gt; | age &lt;int&gt; | level &lt;int&gt; | cost &lt;dbl&gt; | type &lt;int&gt; | survey &lt;int&gt; | pass &lt;int&gt; | cost2 &lt;int&gt; | resident2 &lt;chr&gt; | gender2 &lt;chr&gt; | age2 &lt;chr&gt; | level2 &lt;chr&gt; | pass2 &lt;chr&gt; |\n",
       "|---|---|---|---|---|---|---|---|---|---|---|---|---|---|---|\n",
       "| 1 |  1 | 1 | 50 | 1 | 5.1 | 1 | 1 | 2 | 2 | 특별시 | 남자 | 장년층 | 고졸 | 실패 |\n",
       "| 2 |  2 | 1 | 54 | 2 | 4.2 | 1 | 2 | 2 | 2 | 광역시 | 남자 | 장년층 | 대졸 | 실패 |\n",
       "| 3 | NA | 1 | 62 | 2 | 4.7 | 1 | 1 | 1 | 2 | NA     | 남자 | 노년층 | 대졸 | 합격 |\n",
       "\n"
      ],
      "text/plain": [
       "  resident gender age level cost type survey pass cost2 resident2 gender2\n",
       "1  1       1      50  1     5.1  1    1      2    2     특별시    남자   \n",
       "2  2       1      54  2     4.2  1    2      2    2     광역시    남자   \n",
       "3 NA       1      62  2     4.7  1    1      1    2     NA        남자   \n",
       "  age2   level2 pass2\n",
       "1 장년층 고졸   실패 \n",
       "2 장년층 대졸   실패 \n",
       "3 노년층 대졸   합격 "
      ]
     },
     "metadata": {},
     "output_type": "display_data"
    }
   ],
   "source": [
    "data = read.csv('cleanDescriptive.csv',header=T)\n",
    "head(data,3)"
   ]
  },
  {
   "cell_type": "code",
   "execution_count": 2,
   "id": "512a9d9b-8efe-4779-8969-d037e4bd942e",
   "metadata": {},
   "outputs": [],
   "source": [
    "x = data$level2\n",
    "y = data$pass2"
   ]
  },
  {
   "cell_type": "markdown",
   "id": "739b2c09-496d-4ca0-8739-3b7a665e846d",
   "metadata": {},
   "source": [
    "- 교차분할표 작성을 위해 데이터프레임을 생성하자"
   ]
  },
  {
   "cell_type": "code",
   "execution_count": 7,
   "id": "c76b04b0-2f7d-4dae-8890-f91e0a74e89e",
   "metadata": {},
   "outputs": [
    {
     "data": {
      "text/html": [
       "<style>\n",
       ".list-inline {list-style: none; margin:0; padding: 0}\n",
       ".list-inline>li {display: inline-block}\n",
       ".list-inline>li:not(:last-child)::after {content: \"\\00b7\"; padding: 0 .5ex}\n",
       "</style>\n",
       "<ol class=list-inline><li>248</li><li>2</li></ol>\n"
      ],
      "text/latex": [
       "\\begin{enumerate*}\n",
       "\\item 248\n",
       "\\item 2\n",
       "\\end{enumerate*}\n"
      ],
      "text/markdown": [
       "1. 248\n",
       "2. 2\n",
       "\n",
       "\n"
      ],
      "text/plain": [
       "[1] 248   2"
      ]
     },
     "metadata": {},
     "output_type": "display_data"
    }
   ],
   "source": [
    "result = data.frame(Level = x, Pass = y)\n",
    "dim(result)"
   ]
  },
  {
   "cell_type": "code",
   "execution_count": 8,
   "id": "863538b7-59ef-4ce6-abd7-4f9749bcf49c",
   "metadata": {},
   "outputs": [
    {
     "data": {
      "text/html": [
       "<table class=\"dataframe\">\n",
       "<caption>A data.frame: 2 × 2</caption>\n",
       "<thead>\n",
       "\t<tr><th></th><th scope=col>Level</th><th scope=col>Pass</th></tr>\n",
       "\t<tr><th></th><th scope=col>&lt;chr&gt;</th><th scope=col>&lt;chr&gt;</th></tr>\n",
       "</thead>\n",
       "<tbody>\n",
       "\t<tr><th scope=row>1</th><td>고졸</td><td>실패</td></tr>\n",
       "\t<tr><th scope=row>2</th><td>대졸</td><td>실패</td></tr>\n",
       "</tbody>\n",
       "</table>\n"
      ],
      "text/latex": [
       "A data.frame: 2 × 2\n",
       "\\begin{tabular}{r|ll}\n",
       "  & Level & Pass\\\\\n",
       "  & <chr> & <chr>\\\\\n",
       "\\hline\n",
       "\t1 & 고졸 & 실패\\\\\n",
       "\t2 & 대졸 & 실패\\\\\n",
       "\\end{tabular}\n"
      ],
      "text/markdown": [
       "\n",
       "A data.frame: 2 × 2\n",
       "\n",
       "| <!--/--> | Level &lt;chr&gt; | Pass &lt;chr&gt; |\n",
       "|---|---|---|\n",
       "| 1 | 고졸 | 실패 |\n",
       "| 2 | 대졸 | 실패 |\n",
       "\n"
      ],
      "text/plain": [
       "  Level Pass\n",
       "1 고졸  실패\n",
       "2 대졸  실패"
      ]
     },
     "metadata": {},
     "output_type": "display_data"
    }
   ],
   "source": [
    "head(result,2)"
   ]
  },
  {
   "cell_type": "markdown",
   "id": "7197e928-e3be-49fe-877d-4af35efc8c9e",
   "metadata": {},
   "source": [
    "- 부모의 학력 수준이 자녀의 대학 진학여부와 관련이 있는지를 분석하기 위해서 학력수준(독립변수)과 진학여부(종속변수) 변수를 대상으로 데이터프레임을 생성했다. \n",
    "- 교차 분할표를 통해서 범주형 변수의 관계를 분석하는 방법으로 이전에 작성한 데이터프레임을 이용하여 교차분석을 수행한다. "
   ]
  },
  {
   "cell_type": "code",
   "execution_count": 9,
   "id": "4c78edc1-c4bb-4ef3-8603-aebe42321015",
   "metadata": {},
   "outputs": [
    {
     "data": {
      "text/plain": [
       "          Pass\n",
       "Level      실패 합격\n",
       "  고졸       40   49\n",
       "  대졸       27   55\n",
       "  대학원졸   23   31"
      ]
     },
     "metadata": {},
     "output_type": "display_data"
    }
   ],
   "source": [
    "# 기본 함수를 이용한 교차분할표 작성\n",
    "table(result)"
   ]
  },
  {
   "cell_type": "markdown",
   "id": "8434c79b-de9f-4060-8808-935859c2c2ef",
   "metadata": {},
   "source": [
    "- result 데이터프레임 객체를 대상으로 기보 함수인 table() 함수를 이용하여 두 개 이상 변수의 결합분포를 나타내는 교차분할표를 작성했다. "
   ]
  },
  {
   "cell_type": "code",
   "execution_count": 10,
   "id": "2a4bc991-1d0f-4e06-836f-9bb9a75e0c43",
   "metadata": {},
   "outputs": [
    {
     "name": "stderr",
     "output_type": "stream",
     "text": [
      "also installing the dependencies 'gtools', 'gdata'\n",
      "\n",
      "\n"
     ]
    },
    {
     "name": "stdout",
     "output_type": "stream",
     "text": [
      "package 'gtools' successfully unpacked and MD5 sums checked\n",
      "package 'gdata' successfully unpacked and MD5 sums checked\n",
      "package 'gmodels' successfully unpacked and MD5 sums checked\n",
      "\n",
      "The downloaded binary packages are in\n",
      "\tC:\\Users\\ehfus\\AppData\\Local\\Temp\\RtmpUBsNIL\\downloaded_packages\n",
      "package 'ggplot2' successfully unpacked and MD5 sums checked\n",
      "\n",
      "The downloaded binary packages are in\n",
      "\tC:\\Users\\ehfus\\AppData\\Local\\Temp\\RtmpUBsNIL\\downloaded_packages\n"
     ]
    }
   ],
   "source": [
    "install.packages('gmodels')\n",
    "install.packages('ggplot2')\n",
    "library(gmodels)\n",
    "library(ggplot2)"
   ]
  },
  {
   "cell_type": "code",
   "execution_count": 15,
   "id": "9f650285-73af-4a77-a677-57635af0c3b8",
   "metadata": {},
   "outputs": [
    {
     "name": "stdout",
     "output_type": "stream",
     "text": [
      "\n",
      " \n",
      "   Cell Contents\n",
      "|-------------------------|\n",
      "|                       N |\n",
      "| Chi-square contribution |\n",
      "|           N / Row Total |\n",
      "|           N / Col Total |\n",
      "|         N / Table Total |\n",
      "|-------------------------|\n",
      "\n",
      " \n",
      "Total Observations in Table:  225 \n",
      "\n",
      " \n",
      "             | y \n",
      "           x |      실패 |      합격 | Row Total | \n",
      "-------------|-----------|-----------|-----------|\n",
      "        고졸 |        40 |        49 |        89 | \n",
      "             |     0.544 |     0.363 |           | \n",
      "             |     0.449 |     0.551 |     0.396 | \n",
      "             |     0.444 |     0.363 |           | \n",
      "             |     0.178 |     0.218 |           | \n",
      "-------------|-----------|-----------|-----------|\n",
      "        대졸 |        27 |        55 |        82 | \n",
      "             |     1.026 |     0.684 |           | \n",
      "             |     0.329 |     0.671 |     0.364 | \n",
      "             |     0.300 |     0.407 |           | \n",
      "             |     0.120 |     0.244 |           | \n",
      "-------------|-----------|-----------|-----------|\n",
      "    대학원졸 |        23 |        31 |        54 | \n",
      "             |     0.091 |     0.060 |           | \n",
      "             |     0.426 |     0.574 |     0.240 | \n",
      "             |     0.256 |     0.230 |           | \n",
      "             |     0.102 |     0.138 |           | \n",
      "-------------|-----------|-----------|-----------|\n",
      "Column Total |        90 |       135 |       225 | \n",
      "             |     0.400 |     0.600 |           | \n",
      "-------------|-----------|-----------|-----------|\n",
      "\n",
      " \n"
     ]
    }
   ],
   "source": [
    "# 패키지를 이용한 교차분할표 작성 : 부모의 학력수준과 자녀 대학 진학여부\n",
    "x = data$level2\n",
    "y = data$pass2\n",
    "CrossTable(x,y) # 교차 분할표 작성\n",
    "# Cell Contents은 교차 분할표를 이루고 있는 각 셀에 대한 데이터의 설명이다.\n",
    "# 첫 번째 줄 : 관측치를 의미\n",
    "# 두 번째 줄 : 카이제곱의 결과(기대치 비율)\n",
    "# 세 번째 줄 : 현재 행의 비율\n",
    "# 네 번째 줄 : 현재 열의 비율\n",
    "# 다섯 번째 줄 : 전체비율에서 현재 셀의 값이 차지하는 비율"
   ]
  },
  {
   "cell_type": "markdown",
   "id": "215897ae-a19e-4b1e-b05a-6c90c05e130b",
   "metadata": {},
   "source": [
    "- 교차 분할표에서 기대비율은 카이제곱 식(= 시그마(관측값-기대값)^2/기대값)에 의해서 구해진 결과이다. \n",
    "- 이때 기대값은 (현재 셀의 행 합 x 현재 셀의 열 합)/전체합으로 구한다. \n",
    "- 이렇게 계산된 기대비율 6개(교차 분할표 6개 셀)의 총합과 자유도(df)라는 검정 통계량을 이용하여 두 변인 간의 관련성 여부를 검정하는 방법이 카이제곱 검정이다. "
   ]
  },
  {
   "cell_type": "markdown",
   "id": "2faacdf8-339b-41cc-b03e-ff7a0d1d7fab",
   "metadata": {},
   "source": [
    "- 논문/보고서에서 교차 분할표 해석\n",
    "  - 부모의 학력 수준에 따른 자녀의 대학진학 여부를 설문 조사한 결과 부모의 학력 수준에 상관없이 대학진학 합격률이 평균 60%로 학력 수준별로 유사한 결과가 나타났다.\n",
    "  - 대졸 부모의 대학진학 합격율이 평균보다 조금 높고, 고졸 부모의 대학진학 합격율이 평균보다 조금 낮은 것으로 분석된다. "
   ]
  },
  {
   "cell_type": "markdown",
   "id": "e4c64cf7-b502-49a8-ba1e-9f1d800b17f6",
   "metadata": {},
   "source": [
    "---"
   ]
  },
  {
   "cell_type": "markdown",
   "id": "79bb64e0-ef25-408b-9cef-0d9b69c955f2",
   "metadata": {},
   "source": [
    "- 카이제곱 검정\n",
    "  - 범주별로 관측빈도와 기대빈도의 차이를 통해서 확률 모형이 데이터를 얼마나 잘 설명하는지를 검정하는 통계적 방법이다.\n",
    "  - 일반적으로 교차분석으로 얻어진 분할표를 대상으로 유의확률을 적용하여 변수 간의 독립성(관련성)여부를 검정하는 분석 방법으로 사용된다. \n",
    "  - 교차분석은 카이제곱 검정 통계량을 사용하기 때문에 교차 분석을 카이제곱 검정이라고도 한다.\n",
    "    - 카이제곱 검정의 유형에는 적합도 검정, 독립성 검정, 동질성 검정으로 분류한다.\n",
    "    - 주의 1. 카이제곱 검정은 교차분석과 동일하게 `범주형 변수`를 대상으로 한다.\n",
    "    - 주의 2. 집단별로 비율이 같은지를 검정(비율에 대한 검정)하여 `독립성 여부를 검정`한다. \n",
    "    - 주의 3. 유의확률에 의해서 집단 간의 차이가 있는지 없느지를 가설 검정한다."
   ]
  },
  {
   "cell_type": "code",
   "execution_count": 17,
   "id": "e2f0892a-4def-4574-bae7-3613446c8d24",
   "metadata": {},
   "outputs": [
    {
     "name": "stdout",
     "output_type": "stream",
     "text": [
      "\n",
      " \n",
      "   Cell Contents\n",
      "|-------------------------|\n",
      "|                       N |\n",
      "| Chi-square contribution |\n",
      "|           N / Row Total |\n",
      "|           N / Col Total |\n",
      "|         N / Table Total |\n",
      "|-------------------------|\n",
      "\n",
      " \n",
      "Total Observations in Table:  225 \n",
      "\n",
      " \n",
      "             | y \n",
      "           x |      실패 |      합격 | Row Total | \n",
      "-------------|-----------|-----------|-----------|\n",
      "        고졸 |        40 |        49 |        89 | \n",
      "             |     0.544 |     0.363 |           | \n",
      "             |     0.449 |     0.551 |     0.396 | \n",
      "             |     0.444 |     0.363 |           | \n",
      "             |     0.178 |     0.218 |           | \n",
      "-------------|-----------|-----------|-----------|\n",
      "        대졸 |        27 |        55 |        82 | \n",
      "             |     1.026 |     0.684 |           | \n",
      "             |     0.329 |     0.671 |     0.364 | \n",
      "             |     0.300 |     0.407 |           | \n",
      "             |     0.120 |     0.244 |           | \n",
      "-------------|-----------|-----------|-----------|\n",
      "    대학원졸 |        23 |        31 |        54 | \n",
      "             |     0.091 |     0.060 |           | \n",
      "             |     0.426 |     0.574 |     0.240 | \n",
      "             |     0.256 |     0.230 |           | \n",
      "             |     0.102 |     0.138 |           | \n",
      "-------------|-----------|-----------|-----------|\n",
      "Column Total |        90 |       135 |       225 | \n",
      "             |     0.400 |     0.600 |           | \n",
      "-------------|-----------|-----------|-----------|\n",
      "\n",
      " \n",
      "Statistics for All Table Factors\n",
      "\n",
      "\n",
      "Pearson's Chi-squared test \n",
      "------------------------------------------------------------\n",
      "Chi^2 =  2.766951     d.f. =  2     p =  0.2507057 \n",
      "\n",
      "\n",
      " \n"
     ]
    }
   ],
   "source": [
    "# CrossTable() 함수를 이용한 카이제곱 검정\n",
    "# CrossTable() 함수에 chisq = T 속성을 통해 카이제곱 검정의 결과를 볼 수 있다. \n",
    "CrossTable(x,y,chisq=T)"
   ]
  },
  {
   "cell_type": "markdown",
   "id": "3934a2b3-6e1e-4fc8-9451-b70aab6e9c6b",
   "metadata": {},
   "source": [
    "- p값이 0.05보다 작지 않다. 이는 유의확률이 유의수준보다 작지 않다는 의미로 두 변인은 서로 독립적이다(여기서 독립적이다라는 의미는 두 변인은 서로 관련성이 없다라는 의미로 해석할 수 있겠다)라는 귀무가설을 기각할 수 없다. \n",
    "- 따라서 두 변인은 서로 독립적이지 않다라는 대립가설을 채택할 수 없다."
   ]
  },
  {
   "cell_type": "markdown",
   "id": "faec7488-f88c-402d-96a2-6dceb345c287",
   "metadata": {},
   "source": [
    "---"
   ]
  },
  {
   "cell_type": "markdown",
   "id": "d6b33e85-906d-4efe-b265-c10a97717b1a",
   "metadata": {},
   "source": [
    "- 카이제곱 검정 절차와 기본 가정\n",
    "  - 카이제곱 검정은 유의수준과 유의확률 값에 의해서 가설을 검정해야 한다. "
   ]
  },
  {
   "cell_type": "markdown",
   "id": "046f398a-e28b-4c4c-8dbd-4b8bb304df37",
   "metadata": {},
   "source": [
    "`단계 1)` 가설을 설정한다\n",
    "- 귀무가설($H_0$) : ~같다. ~다르지 않다. ~차이가 없다. ~효과가 없다.\n",
    "- 대립가설($H_1$) : ~같지 않다. ~다르자. ~차이가 있다. ~효과가 있다.\n",
    "\n",
    "`단계 2)` 유의수준($\\alpha$)을 결정한다. \n",
    "- 일반 사회과학 분야 : 0.05\n",
    "- 의,생명과학 분야 : 0.01\n",
    "\n",
    "`단계 3)` 자유도(df)와 유의수준($\\alpha$)에 따른 $x^2$ 분포표에 의해 기각값을 결정한다. \n",
    "\n",
    "`단계 4)` 관찰도수에 대한 기대도수를 구한다.\n",
    "\n",
    "`단계 5)` 검정 통계량 $x^2$의 값을 구한다.\n",
    "- $x^2=$ 시그마(관측값-기대값)^2/기대값\n",
    "\n",
    "`단계 6)` $x^2$검정 통계량과 기각값을 비교하여 귀무가설 채택 여부를 판정한다.\n",
    "\n",
    "`단계 7)` 카이제곱 검정 결과를 진술한다. "
   ]
  },
  {
   "cell_type": "markdown",
   "id": "2b99f6df-8a23-47fb-a230-5c318e8ac14c",
   "metadata": {},
   "source": [
    "---"
   ]
  },
  {
   "cell_type": "markdown",
   "id": "7e1969e8-eea4-4317-bb64-0a8e706264bb",
   "metadata": {},
   "source": [
    "- 카이제곱 검정 유형\n",
    "  - 카이제곱 검정 유형은 교차 분할표 이용 여부에 따라서 크게 일원 카이제곱 검정과 이원 카이제곱 검정으로 분류된다. "
   ]
  },
  {
   "cell_type": "markdown",
   "id": "9a11e9ba-5ffd-406a-b36f-287c8ee50858",
   "metadata": {},
   "source": [
    "- 일원 카이제곱 검정\n",
    "  - 교차 분할표를 이용하지 않는 카이제곱 검정으로 한 개의 변인(집단 또는 범주)을 대상으로 검정을 수행한다. \n",
    "  - 관찰도수가 기대도수와 일치하는지를 검정하는 적합도 검정이 여기에 속한다. \n",
    "- 이원 카이제곱 검정\n",
    "  - 교차 분할표를 이용하는 카이제곱 검정으로 한 개 이상의 변인(집단 또는 범주)을 대상으로 검정을 수행한다. \n",
    "  - 분석대상의 집단 수에 의해서 독립성 검정과 동질성 검정으로 나누어진다. \n",
    "  - 독립성 검정\n",
    "     - 한 집단 내에서 두 변인의 관계가 독립인지를 검정하는 방법이다. (귀무가설 : 두 사건은 관련성이 없다.)\n",
    "   - 동질성 검정\n",
    "     - 두 집단 이상에서 각 범주간의 비율이 서로 동일한지를 검정하는 방법이다. 즉, 두 개 이상의 범주형 자료가 동일한 분포를 가지는 모집단에서 춫룰된 것인지 검정하는 방법이다. (귀무가설 : 모든 표본의 비율을 동일하다.)"
   ]
  },
  {
   "cell_type": "markdown",
   "id": "9f43a6d4-a9f0-4538-9ddf-7cdebe3702e4",
   "metadata": {},
   "source": [
    "---"
   ]
  },
  {
   "cell_type": "markdown",
   "id": "de0eaaec-601c-43ff-bdfb-08dc61f6d87d",
   "metadata": {},
   "source": [
    "- 일원 카이제곱 검정\n",
    "  - 한 개의 변인을 대상으로 검정을 수행하기 때문에 교차 분할표를 이용하지 않고 검정을 수행한다. 일원 카이제곱 검정은 적합도 검정과 선호도 분석에서 주로 이용한다. \n",
    "  - 적합도 검정\n",
    "    - chisq.test() 함수를 이용하여 관찰빈도와 기대빈도의 일치 여부를 검정한다. \n",
    "    - 귀무가설 : 기대치와 관찰치는 차이가 없다. \n",
    "    - 대립가설 : 기대치와 관찰치는 차이가 있다. \n",
    "    - 예를 들면, 주사위 60회를 던져서 나온 관측도수와 기대도수가 다음과 같이 나올 때 이 주사위는 게임에 적합한 주사위인지를 일원 카이제곱 검정 방법으로 분석해보자\n",
    "    - 관측도구 : 4,6,17,16,8,9\n",
    "    - 기대도구 : 10,10,10,10,10,10"
   ]
  },
  {
   "cell_type": "code",
   "execution_count": 19,
   "id": "62dd4715-3dcf-4120-92f2-7054cd6bde1c",
   "metadata": {},
   "outputs": [
    {
     "data": {
      "text/plain": [
       "\n",
       "\tChi-squared test for given probabilities\n",
       "\n",
       "data:  c(4, 6, 17, 16, 8, 9)\n",
       "X-squared = 14.2, df = 5, p-value = 0.01439\n"
      ]
     },
     "metadata": {},
     "output_type": "display_data"
    }
   ],
   "source": [
    "chisq.test(c(4,6,17,16,8,9))"
   ]
  },
  {
   "cell_type": "markdown",
   "id": "3799ede0-39c5-4236-b24f-dae63b8a3781",
   "metadata": {},
   "source": [
    "- 카이제곱 검정 결과를 해석하는 방법은 다음과 같이 유희확률로 해석하는 방법과 검정 통계량으로 해석하는 방법이 있다.\n",
    "  - 유의확률 해석하는 방법\n",
    "    - 유의확률이 0.05 미만이기 때문에 유의미한 수준($\\alpha=0.05$)에서 귀무가설을 기각할 수 있다. 따라서 주사위는 게임에 적합하다라는 귀무가설을 기가하고 주사위는 게임에 적합하지 않다라는 대립가설을 채택할 수 있다. \n",
    "  - 검정통계량 해석하는 방법\n",
    "    - 검정 통계량: X-squared = 14.2, df = 5일 때, 카이제곱(X-squared)은 관측값과 기대값을 이용하여 다음과 같은 수식으로 계산할 수 있다. \n",
    "    - 시그마(관측값-기대값)^2/기대값\n",
    "    - 자유도 : 검정을 위해서 n개의 표본(관측치)을 선정한 경우 n번째 표본은 나머지 표본이 정해지면 자동으로 결정되는 변인의 수를 의미하기 때문에 자유도는 N-1로 표현된다. 교차 분할표에서 자유도(df) = (행수 - 1) *(열수 - 1)로 구해진다. \n",
    "    - 검정 통계량의 자유도가 5이고, 유의수준이 0.05인 경우 chi-square 분포표에 의하면 임계겂아 11.071에 해당한다. \n",
    "    - 그러므로 X-squared 기각값(역)은 $x^2$값이 11.071이상이면 귀무가설을 기각할 수 있다는 의미이다. 따라서 X-squared 검정 통계량이 14.2이기 때문에 기각역에 해당하여 귀무가설을 기각하고 대립가설을 채택할 수 있다. "
   ]
  },
  {
   "cell_type": "markdown",
   "id": "3e5f950d-d42b-443d-be7e-5df5e13f90da",
   "metadata": {},
   "source": [
    "- 선호도 분석\n",
    "  - 적합도 검정과 마찬가지로 관측빈도와 기대빈도의 차이를 통해서 확률 모형이 주어진 자료를 얼마나 잘 설명하는지를 검정하는 통계적 방법이다. 차이점은 분석에 필요한 연구 환경과 자료라고 볼 수 있다. \n",
    "  - 귀무가설 : 기대치와 관찰치는 차이가 없다.\n",
    "  - 대립가설 : 기대치와 관찰치는 차이가 있다. "
   ]
  },
  {
   "cell_type": "code",
   "execution_count": 22,
   "id": "0a783465-af42-43d8-a6fe-38786f6b6b25",
   "metadata": {},
   "outputs": [
    {
     "data": {
      "text/html": [
       "<table class=\"dataframe\">\n",
       "<caption>A data.frame: 5 × 2</caption>\n",
       "<thead>\n",
       "\t<tr><th scope=col>스포츠음료종류</th><th scope=col>관측도수</th></tr>\n",
       "\t<tr><th scope=col>&lt;int&gt;</th><th scope=col>&lt;int&gt;</th></tr>\n",
       "</thead>\n",
       "<tbody>\n",
       "\t<tr><td>1</td><td>41</td></tr>\n",
       "\t<tr><td>2</td><td>30</td></tr>\n",
       "\t<tr><td>3</td><td>51</td></tr>\n",
       "\t<tr><td>4</td><td>71</td></tr>\n",
       "\t<tr><td>5</td><td>61</td></tr>\n",
       "</tbody>\n",
       "</table>\n"
      ],
      "text/latex": [
       "A data.frame: 5 × 2\n",
       "\\begin{tabular}{ll}\n",
       " 스포츠음료종류 & 관측도수\\\\\n",
       " <int> & <int>\\\\\n",
       "\\hline\n",
       "\t 1 & 41\\\\\n",
       "\t 2 & 30\\\\\n",
       "\t 3 & 51\\\\\n",
       "\t 4 & 71\\\\\n",
       "\t 5 & 61\\\\\n",
       "\\end{tabular}\n"
      ],
      "text/markdown": [
       "\n",
       "A data.frame: 5 × 2\n",
       "\n",
       "| 스포츠음료종류 &lt;int&gt; | 관측도수 &lt;int&gt; |\n",
       "|---|---|\n",
       "| 1 | 41 |\n",
       "| 2 | 30 |\n",
       "| 3 | 51 |\n",
       "| 4 | 71 |\n",
       "| 5 | 61 |\n",
       "\n"
      ],
      "text/plain": [
       "  스포츠음료종류 관측도수\n",
       "1 1              41      \n",
       "2 2              30      \n",
       "3 3              51      \n",
       "4 4              71      \n",
       "5 5              61      "
      ]
     },
     "metadata": {},
     "output_type": "display_data"
    }
   ],
   "source": [
    "# 5개의 스포츠음료에 대한 선호도에 차이가 있는지 검정\n",
    "data = textConnection(\n",
    "'스포츠음료종류 관측도수\n",
    "1 41\n",
    "2 30\n",
    "3 51\n",
    "4 71\n",
    "5 61\n",
    "')\n",
    "x = read.table(data,header=T)\n",
    "x"
   ]
  },
  {
   "cell_type": "code",
   "execution_count": 23,
   "id": "3b889f24-a54e-4129-b24f-fa4e163aeb7f",
   "metadata": {},
   "outputs": [
    {
     "data": {
      "text/plain": [
       "\n",
       "\tChi-squared test for given probabilities\n",
       "\n",
       "data:  x$관측도수\n",
       "X-squared = 20.488, df = 4, p-value = 0.0003999\n"
      ]
     },
     "metadata": {},
     "output_type": "display_data"
    }
   ],
   "source": [
    "# 선호도 분석의 검정 통계량 확인\n",
    "chisq.test(x$관측도수)"
   ]
  },
  {
   "cell_type": "markdown",
   "id": "90076382-9f40-4b77-bc7a-954fac075aa5",
   "metadata": {},
   "source": [
    "- 유의확률이 0.05 미만이기 때문에 유의수준에서 귀무가설을 기각할 수 있다. 따라서 스포츠음료에 대한 선호도에 차이가 없다라는 귀무가설을 기각하고, 스포츠음료에 대한 선호도에 차이가 있다라는 대립가설을 채택할 수 있다."
   ]
  },
  {
   "cell_type": "markdown",
   "id": "e0e06342-8f57-47aa-94de-6c6c29dae109",
   "metadata": {},
   "source": [
    "---"
   ]
  },
  {
   "cell_type": "markdown",
   "id": "58d51800-f09d-4c7f-892d-b8166a27b901",
   "metadata": {},
   "source": [
    "- 이원 카이제곱 검정\n",
    "  - 두 개 이상의 변인(집단 또는 범주)을 대상으로 교차 분할표를 이용하는 카이제곱 검정방법으로 분석대상의 집단 수에 의해서 독립성 검정과 동질성 검정으로 나누어진다. \n",
    "  - 독립성 검정의 예\n",
    "  - 귀무가설 : 경제력과 대학진학 합격률과 독립성이 있다.(관련성이 없다)\n",
    "  - 대립가설 : 경제력과 대학진학 합격률과 독립성이 없다.(관련성이 있다)"
   ]
  },
  {
   "cell_type": "code",
   "execution_count": 25,
   "id": "318902d5-eaa3-485f-8388-3f87a2a37f6a",
   "metadata": {},
   "outputs": [
    {
     "name": "stdout",
     "output_type": "stream",
     "text": [
      "\n",
      " \n",
      "   Cell Contents\n",
      "|-------------------------|\n",
      "|                       N |\n",
      "| Chi-square contribution |\n",
      "|           N / Row Total |\n",
      "|           N / Col Total |\n",
      "|         N / Table Total |\n",
      "|-------------------------|\n",
      "\n",
      " \n",
      "Total Observations in Table:  225 \n",
      "\n",
      " \n",
      "             | y \n",
      "           x |         1 |         2 | Row Total | \n",
      "-------------|-----------|-----------|-----------|\n",
      "        고졸 |        49 |        40 |        89 | \n",
      "             |     0.363 |     0.544 |           | \n",
      "             |     0.551 |     0.449 |     0.396 | \n",
      "             |     0.363 |     0.444 |           | \n",
      "             |     0.218 |     0.178 |           | \n",
      "-------------|-----------|-----------|-----------|\n",
      "        대졸 |        55 |        27 |        82 | \n",
      "             |     0.684 |     1.026 |           | \n",
      "             |     0.671 |     0.329 |     0.364 | \n",
      "             |     0.407 |     0.300 |           | \n",
      "             |     0.244 |     0.120 |           | \n",
      "-------------|-----------|-----------|-----------|\n",
      "    대학원졸 |        31 |        23 |        54 | \n",
      "             |     0.060 |     0.091 |           | \n",
      "             |     0.574 |     0.426 |     0.240 | \n",
      "             |     0.230 |     0.256 |           | \n",
      "             |     0.138 |     0.102 |           | \n",
      "-------------|-----------|-----------|-----------|\n",
      "Column Total |       135 |        90 |       225 | \n",
      "             |     0.600 |     0.400 |           | \n",
      "-------------|-----------|-----------|-----------|\n",
      "\n",
      " \n",
      "Statistics for All Table Factors\n",
      "\n",
      "\n",
      "Pearson's Chi-squared test \n",
      "------------------------------------------------------------\n",
      "Chi^2 =  2.766951     d.f. =  2     p =  0.2507057 \n",
      "\n",
      "\n",
      " \n"
     ]
    }
   ],
   "source": [
    "# 부모의 학력수준과 자녀의 대학 진학여부의 독립성 검정\n",
    "data = read.csv('cleanDescriptive.csv',header=T)\n",
    "x = data$level2\n",
    "y = data$pass\n",
    "CrossTable(x,y,chisq=T)"
   ]
  },
  {
   "cell_type": "markdown",
   "id": "c911a989-e782-46d9-a85f-d9e2a3f63f16",
   "metadata": {},
   "source": [
    "- 유의수준이 0.05 이상이기 때문에 유의미한 수준에서 귀무가설을 기각할 수 없다. 따라서 부모의 학력수준과 자녀의 대학 진학여부는 독립적이다라는 귀무가설을 기각할 수 없기 때문에 두 변인간에 관련성이 없는 것으로 해석할 수 있다. "
   ]
  },
  {
   "cell_type": "markdown",
   "id": "660b24dd-ba10-4a1b-ac8a-967ea7e0840b",
   "metadata": {},
   "source": [
    "---"
   ]
  },
  {
   "cell_type": "markdown",
   "id": "5dd0c2c8-5d74-4112-8ced-266087d9fb74",
   "metadata": {},
   "source": [
    "- 동질성 검정\n",
    "  - 두 집단의 분포가 동일한가? 또는 분포가 동일하지 않은가?를 검정하는 방법이다. 즉, 동일한 분포를 가지는 모집단에서 추출된 것인지를 검정하는 방법이다.\n",
    "  - 귀무가설 : 직업 유형에 따라 만족도에 차이가 없다.\n",
    "  - 대립가설 : 직업 유형에 따라 만족도에 차이가 있다."
   ]
  },
  {
   "cell_type": "code",
   "execution_count": 26,
   "id": "f9f7800b-b2a9-47c5-a4be-cb0d0b79b763",
   "metadata": {},
   "outputs": [
    {
     "data": {
      "text/html": [
       "<table class=\"dataframe\">\n",
       "<caption>A data.frame: 3 × 3</caption>\n",
       "<thead>\n",
       "\t<tr><th></th><th scope=col>no</th><th scope=col>method</th><th scope=col>survey</th></tr>\n",
       "\t<tr><th></th><th scope=col>&lt;int&gt;</th><th scope=col>&lt;int&gt;</th><th scope=col>&lt;int&gt;</th></tr>\n",
       "</thead>\n",
       "<tbody>\n",
       "\t<tr><th scope=row>1</th><td>1</td><td>1</td><td>1</td></tr>\n",
       "\t<tr><th scope=row>2</th><td>2</td><td>2</td><td>2</td></tr>\n",
       "\t<tr><th scope=row>3</th><td>3</td><td>3</td><td>3</td></tr>\n",
       "</tbody>\n",
       "</table>\n"
      ],
      "text/latex": [
       "A data.frame: 3 × 3\n",
       "\\begin{tabular}{r|lll}\n",
       "  & no & method & survey\\\\\n",
       "  & <int> & <int> & <int>\\\\\n",
       "\\hline\n",
       "\t1 & 1 & 1 & 1\\\\\n",
       "\t2 & 2 & 2 & 2\\\\\n",
       "\t3 & 3 & 3 & 3\\\\\n",
       "\\end{tabular}\n"
      ],
      "text/markdown": [
       "\n",
       "A data.frame: 3 × 3\n",
       "\n",
       "| <!--/--> | no &lt;int&gt; | method &lt;int&gt; | survey &lt;int&gt; |\n",
       "|---|---|---|---|\n",
       "| 1 | 1 | 1 | 1 |\n",
       "| 2 | 2 | 2 | 2 |\n",
       "| 3 | 3 | 3 | 3 |\n",
       "\n"
      ],
      "text/plain": [
       "  no method survey\n",
       "1 1  1      1     \n",
       "2 2  2      2     \n",
       "3 3  3      3     "
      ]
     },
     "metadata": {},
     "output_type": "display_data"
    }
   ],
   "source": [
    "# 교육센터에서 교육방법에 따라 교육생들의 만족도에 차이가 있는지 검정\n",
    "data = read.csv('homogenity.csv')\n",
    "head(data,3)"
   ]
  },
  {
   "cell_type": "code",
   "execution_count": 32,
   "id": "32d2e26c-8983-4a1e-8bba-b9886fc3631a",
   "metadata": {},
   "outputs": [
    {
     "data": {
      "text/html": [
       "<table class=\"dataframe\">\n",
       "<caption>A data.frame: 3 × 2</caption>\n",
       "<thead>\n",
       "\t<tr><th></th><th scope=col>method</th><th scope=col>survey</th></tr>\n",
       "\t<tr><th></th><th scope=col>&lt;int&gt;</th><th scope=col>&lt;int&gt;</th></tr>\n",
       "</thead>\n",
       "<tbody>\n",
       "\t<tr><th scope=row>1</th><td>1</td><td>1</td></tr>\n",
       "\t<tr><th scope=row>2</th><td>2</td><td>2</td></tr>\n",
       "\t<tr><th scope=row>3</th><td>3</td><td>3</td></tr>\n",
       "</tbody>\n",
       "</table>\n"
      ],
      "text/latex": [
       "A data.frame: 3 × 2\n",
       "\\begin{tabular}{r|ll}\n",
       "  & method & survey\\\\\n",
       "  & <int> & <int>\\\\\n",
       "\\hline\n",
       "\t1 & 1 & 1\\\\\n",
       "\t2 & 2 & 2\\\\\n",
       "\t3 & 3 & 3\\\\\n",
       "\\end{tabular}\n"
      ],
      "text/markdown": [
       "\n",
       "A data.frame: 3 × 2\n",
       "\n",
       "| <!--/--> | method &lt;int&gt; | survey &lt;int&gt; |\n",
       "|---|---|---|\n",
       "| 1 | 1 | 1 |\n",
       "| 2 | 2 | 2 |\n",
       "| 3 | 3 | 3 |\n",
       "\n"
      ],
      "text/plain": [
       "  method survey\n",
       "1 1      1     \n",
       "2 2      2     \n",
       "3 3      3     "
      ]
     },
     "metadata": {},
     "output_type": "display_data"
    }
   ],
   "source": [
    "data = subset(data, !is.na(survey), c(method,survey))\n",
    "head(data,3)"
   ]
  },
  {
   "cell_type": "code",
   "execution_count": 33,
   "id": "5412e9b3-ad60-4e6b-ab06-1cba85b3e9e1",
   "metadata": {},
   "outputs": [],
   "source": [
    "data$method2[data$method ==1] = '방법1'\n",
    "data$method2[data$method ==2] = '방법2'\n",
    "data$method2[data$method ==3] = '방법3'"
   ]
  },
  {
   "cell_type": "code",
   "execution_count": 34,
   "id": "4421e9cb-85e0-46bf-9775-5e4b5b2250fd",
   "metadata": {},
   "outputs": [],
   "source": [
    "data$survey2[data$survey == 1] = '1.매우만족'\n",
    "data$survey2[data$survey == 2] = '2.만족'\n",
    "data$survey2[data$survey == 3] = '3.보통'\n",
    "data$survey2[data$survey == 4] = '4.불만족'\n",
    "data$survey2[data$survey == 5] = '5.매우불만족'"
   ]
  },
  {
   "cell_type": "code",
   "execution_count": 35,
   "id": "92caee26-a2e1-4f2a-85d4-1de0f9d78593",
   "metadata": {},
   "outputs": [
    {
     "data": {
      "text/plain": [
       "       \n",
       "        1.매우만족 2.만족 3.보통 4.불만족 5.매우불만족\n",
       "  방법1          5      8     15       16            6\n",
       "  방법2          8     14     11       11            6\n",
       "  방법3          8      7     11       15            9"
      ]
     },
     "metadata": {},
     "output_type": "display_data"
    }
   ],
   "source": [
    "table(data$method2,data$survey2)"
   ]
  },
  {
   "cell_type": "markdown",
   "id": "197ef22a-2ae7-4945-8499-a41a6f8cf268",
   "metadata": {},
   "source": [
    "- 이처럼 교차분할표를 작성할 때는 반드시 각 집단의 길이가 같아야 함에 주의하자"
   ]
  },
  {
   "cell_type": "code",
   "execution_count": 36,
   "id": "8cfca2bb-a7d7-4afb-925d-e8196a50e950",
   "metadata": {},
   "outputs": [
    {
     "data": {
      "text/plain": [
       "\n",
       "\tPearson's Chi-squared test\n",
       "\n",
       "data:  data$method2 and data$survey2\n",
       "X-squared = 6.5447, df = 8, p-value = 0.5865\n"
      ]
     },
     "metadata": {},
     "output_type": "display_data"
    }
   ],
   "source": [
    "# 동질성 검정 - 모두 특성치에 대한 추론 검정\n",
    "chisq.test(data$method2,data$survey2)"
   ]
  },
  {
   "cell_type": "markdown",
   "id": "feda36ac-eeef-449b-99f9-5956d7180456",
   "metadata": {},
   "source": [
    "- 유의수준 0.05에서 $x^2$값이 6.545, 자유도 8 그리고 유의확률 0.586을 보인다. 즉 6.545 이상의 카이제곱값이 얻어질 확률이 0.586이라는 것을 보여주고 있다. 이 값은 유의수준보다 크기 때문에 귀무가설을 기각할 수 없다.\n",
    "- 따라서 교육방법에 따른 만족도에 차이가 없다라고 말할 수 있다. "
   ]
  },
  {
   "cell_type": "markdown",
   "id": "c1a71258-cc39-46a7-a02e-e3eaf676d53d",
   "metadata": {},
   "source": [
    "---"
   ]
  },
  {
   "cell_type": "markdown",
   "id": "327bc13d-dca0-4d1f-8862-f8e0885678d9",
   "metadata": {},
   "source": [
    "- 카이제곱 검정은 교차분석으로 얻어진 교차분할표를 대상으로 유의확률을 적용하여 변수 간의 독립성(관련성)여부를 검정하기 때문에 논문이나 보고서에서는 교차 분할표와 카이제곱 검정 통계량을 함께 제시해야 한다. \n",
    "- 관찰빈도-기대빈도 값이 작을수록 카이제곱의 값도 작아져 귀무가설이 채택될 가능성이 커진다. "
   ]
  },
  {
   "cell_type": "markdown",
   "id": "8d92b88c-ad75-4e9b-806a-6f1bfaed8bfc",
   "metadata": {},
   "source": [
    "---"
   ]
  },
  {
   "cell_type": "markdown",
   "id": "b6425a23-4157-4f88-81f6-bbc88b3b56c5",
   "metadata": {},
   "source": [
    "> 집단 간 차이 분석"
   ]
  },
  {
   "cell_type": "markdown",
   "id": "0e65a63b-41f9-47cd-92d1-5a946bca7898",
   "metadata": {},
   "source": [
    "- 추정과 검정\n",
    "  - 모집단에서 추출된 표본으로부터 모수와 관련된 통계량들의 값을 계산하고 이것을 이용하여 모집단의 특성(모수)을 알아내는 과정을 추론통계분석이라고 한다."
   ]
  },
  {
   "cell_type": "markdown",
   "id": "3a6bb469-1186-420e-99c5-c0ed6aa731a1",
   "metadata": {},
   "source": [
    "- 점 추정과 구간 추정\n",
    "  - 추론통계분석 과정은 모집단에서 추출한 표본으로부터 얻은 정보를 이용하여 모집단의 특성을 나타내는 값을 확률적으로 추측하는 추정과 유의수준과 표본의 검정 통계량을 비교하여 통계적 가설의 진위를 입증하는 가설 검정으로 나눌 수 있다. \n",
    "  - 추정 방법\n",
    "     - 점 추정은 하나의 값을 제시하여 모수의 참값을 추측. 귀무가설의 기각률이 낮다. 오차범위를 확인할 수 없다.\n",
    "     - 구간 추정은 하한값과 상한값의 신뢰구간을 지정하여 모수의 참값을 추정하는 방식이다. 일반적으로 추론통계분석에서는 구간 추정 방식을 많이 이용한다. 오차범위는 모표준편차가 알려지지 않은 경우 표본표준편차를 이용할 수 있다. "
   ]
  },
  {
   "cell_type": "markdown",
   "id": "d01f7655-23bb-4965-bfa3-bdbae4f1987f",
   "metadata": {},
   "source": [
    "- 모평균의 구간 추정\n",
    "  - 예를 들어, 표본 평균을 이용하여 모평균에 대한 신뢰도 95% 신뢰구간을 추정한다고 할 때, 모평균의 추정 구간이 구해졌다면, 이 의미는 모집단으로부터 크기가 n인 표본을 임의추출하는 일을 반복할 경우 이들 중 95%는 모평균을 포함한다는 의미이다.\n",
    "  - 이때 모표준편차가 알려지지 않는 경우 표본의 크기가 충분히 클 때(n>=30)는 표본표준편차를 이용할 수 있다. "
   ]
  },
  {
   "cell_type": "markdown",
   "id": "e30ea409-8fe0-4af5-a929-764e5f921382",
   "metadata": {},
   "source": [
    "- 표본오차\n",
    "  - 표본이 모집단의 특성과 정확히 일치하지 않아서 발생하는 확률의 차이를 의미한다. \n",
    "  - 신뢰구간의 하한값에서 평균을 빼고, 상한값에서 평균을 뺀 값을 백분율로 적용하면 된다. \n",
    "  - 만약 표본오차가 +-3.52%라면 다음과 같이 해석할 수 있다. \n",
    "    - 우리나라 중학교 2학년 남학생 평균 신장이 95% 신뢰수준에서 표본오차 +-3.52% 범위에서 165.1로 조사되었다면, 실제 평균 키는 165.1을 기준으로 3.52를 가감해주면 된다. "
   ]
  },
  {
   "cell_type": "markdown",
   "id": "96e4a257-3366-4962-b979-9ded9ef483a1",
   "metadata": {},
   "source": [
    "---"
   ]
  },
  {
   "cell_type": "markdown",
   "id": "d8b95527-22b3-4084-8915-2d71057aa350",
   "metadata": {},
   "source": [
    "> 단일 집단 검정\n",
    "  - 한 개의 집단과 기존 집단간의 비율 차이 검정과 평균 차이 검정에 대해서 알아보자\n",
    "  - 비율 차이 검정은 기술통계량으로 빈도수에 대한 비율에 의미가 있으며, 평균 차이 검정은 표본 평균에 의미가 있다."
   ]
  },
  {
   "cell_type": "markdown",
   "id": "e4043fa5-c63a-47fb-ae99-854b28d53052",
   "metadata": {},
   "source": [
    "- 단일 집단 비율 검정\n",
    "  - 단일 집단의 비율이 어떤 특정한 값과 같은지를 검정해보자\n",
    "  - 분석할 데이터를 대상으로 결측치와 이상치를 제거하는 전처리 과정을 거친 후 기술통계량으로 빈도분석을 계산하고, 이를 binom.test() 함수의 인수로 사용하여 비율 차이 검정을 수행한다. 비율 차이 검정 통계량을 바탕으로 귀무가설의 기각 여부를 결정한다. "
   ]
  },
  {
   "cell_type": "markdown",
   "id": "39926f4e-fa76-44e1-966e-017cb64cbd1e",
   "metadata": {},
   "source": [
    "- 귀무가설 : 기존 2019년도 고객 불만율과 2020년도 CS교육 후 불만율에 차이가 없다.\n",
    "- 대립가설 : 차이가 있다.\n",
    "- 연구환경 : 2019년도, 불만을 갖는 고객은 20%였다. 개선하기 위해 CS교육을 실시하였고 150명중 14명이 불만이 있었다. 이때, 기존 20%보다 불만율이 낮아졌다고 할 수 있는가?"
   ]
  },
  {
   "cell_type": "markdown",
   "id": "e30ff56d-0bcf-4c69-a9d9-f8b29e513693",
   "metadata": {},
   "source": [
    "- (1) 단일 표본 대상 기술통계량\n",
    "  - 분석대상의 단일 표본을 대상으로 빈도분석을 통해서 불만율에 대한 비율을 계산한다."
   ]
  },
  {
   "cell_type": "code",
   "execution_count": 39,
   "id": "882cb8e0-de95-4e43-a22a-91d83e9cb26d",
   "metadata": {},
   "outputs": [
    {
     "data": {
      "text/html": [
       "<table class=\"dataframe\">\n",
       "<caption>A data.frame: 3 × 4</caption>\n",
       "<thead>\n",
       "\t<tr><th></th><th scope=col>no</th><th scope=col>gender</th><th scope=col>survey</th><th scope=col>time</th></tr>\n",
       "\t<tr><th></th><th scope=col>&lt;int&gt;</th><th scope=col>&lt;int&gt;</th><th scope=col>&lt;int&gt;</th><th scope=col>&lt;dbl&gt;</th></tr>\n",
       "</thead>\n",
       "<tbody>\n",
       "\t<tr><th scope=row>1</th><td>1</td><td>2</td><td>1</td><td>5.1</td></tr>\n",
       "\t<tr><th scope=row>2</th><td>2</td><td>2</td><td>0</td><td>5.2</td></tr>\n",
       "\t<tr><th scope=row>3</th><td>3</td><td>2</td><td>1</td><td>4.7</td></tr>\n",
       "</tbody>\n",
       "</table>\n"
      ],
      "text/latex": [
       "A data.frame: 3 × 4\n",
       "\\begin{tabular}{r|llll}\n",
       "  & no & gender & survey & time\\\\\n",
       "  & <int> & <int> & <int> & <dbl>\\\\\n",
       "\\hline\n",
       "\t1 & 1 & 2 & 1 & 5.1\\\\\n",
       "\t2 & 2 & 2 & 0 & 5.2\\\\\n",
       "\t3 & 3 & 2 & 1 & 4.7\\\\\n",
       "\\end{tabular}\n"
      ],
      "text/markdown": [
       "\n",
       "A data.frame: 3 × 4\n",
       "\n",
       "| <!--/--> | no &lt;int&gt; | gender &lt;int&gt; | survey &lt;int&gt; | time &lt;dbl&gt; |\n",
       "|---|---|---|---|---|\n",
       "| 1 | 1 | 2 | 1 | 5.1 |\n",
       "| 2 | 2 | 2 | 0 | 5.2 |\n",
       "| 3 | 3 | 2 | 1 | 4.7 |\n",
       "\n"
      ],
      "text/plain": [
       "  no gender survey time\n",
       "1 1  2      1      5.1 \n",
       "2 2  2      0      5.2 \n",
       "3 3  2      1      4.7 "
      ]
     },
     "metadata": {},
     "output_type": "display_data"
    }
   ],
   "source": [
    "data = read.csv('one_sample.csv',header=T)\n",
    "head(data,3)"
   ]
  },
  {
   "cell_type": "code",
   "execution_count": 40,
   "id": "10a6c502-074c-482d-ab19-459437d84cdc",
   "metadata": {},
   "outputs": [],
   "source": [
    "# 빈도수와 비율을 계산해보자\n",
    "x = data$survey"
   ]
  },
  {
   "cell_type": "code",
   "execution_count": 47,
   "id": "3dfba4f5-b79e-4095-ae70-45cf60f6830a",
   "metadata": {},
   "outputs": [
    {
     "data": {
      "text/plain": [
       "   Min. 1st Qu.  Median    Mean 3rd Qu.    Max. \n",
       " 0.0000  1.0000  1.0000  0.9067  1.0000  1.0000 "
      ]
     },
     "metadata": {},
     "output_type": "display_data"
    },
    {
     "data": {
      "text/html": [
       "150"
      ],
      "text/latex": [
       "150"
      ],
      "text/markdown": [
       "150"
      ],
      "text/plain": [
       "[1] 150"
      ]
     },
     "metadata": {},
     "output_type": "display_data"
    },
    {
     "data": {
      "text/plain": [
       "x\n",
       "  0   1 \n",
       " 14 136 "
      ]
     },
     "metadata": {},
     "output_type": "display_data"
    }
   ],
   "source": [
    "summary(x)\n",
    "# 결측치 없음을 알 수 있다. \n",
    "\n",
    "length(x)\n",
    "\n",
    "table(x)"
   ]
  },
  {
   "cell_type": "code",
   "execution_count": 49,
   "id": "0ca92431-b51b-4fb7-9b1b-854b09dcecd3",
   "metadata": {},
   "outputs": [
    {
     "name": "stdout",
     "output_type": "stream",
     "text": [
      "package 'prettyR' successfully unpacked and MD5 sums checked\n",
      "\n",
      "The downloaded binary packages are in\n",
      "\tC:\\Users\\ehfus\\AppData\\Local\\Temp\\RtmpUBsNIL\\downloaded_packages\n"
     ]
    }
   ],
   "source": [
    "# 패키지를 이용하여 빈도수와 비율을 계산해보자\n",
    "install.packages('prettyR')\n",
    "library(prettyR)"
   ]
  },
  {
   "cell_type": "code",
   "execution_count": 51,
   "id": "63952ebd-d91e-4437-b4f6-e9d0a3658a38",
   "metadata": {},
   "outputs": [
    {
     "data": {
      "text/plain": [
       "\n",
       "Frequencies for x \n",
       "        1    0   NA\n",
       "      136   14    0\n",
       "%    90.7  9.3    0 \n",
       "%!NA 90.7  9.3 \n"
      ]
     },
     "metadata": {},
     "output_type": "display_data"
    }
   ],
   "source": [
    "# 단일 집단을 대상으로 기술통계량을 구할 수 있다.\n",
    "freq(x)"
   ]
  },
  {
   "cell_type": "markdown",
   "id": "db252500-f55d-418f-9bb4-e873e8c35529",
   "metadata": {},
   "source": [
    "- 이항분포 비율 검정\n",
    "  - 명목척도의 비율을 바탕으로 binom.test() 함수를 이용하여 이항분포의 양측 검정을 통해서 검정 통계량을 구한 후 이를 이용하여 가설을 검정한다. \n",
    "- 기존 불만율 20%와 차이가 있는지를 알아보기 위해서 양측 검정을 수행한다."
   ]
  },
  {
   "cell_type": "code",
   "execution_count": 57,
   "id": "aa370895-6de5-4ee9-994f-1ca495b092fd",
   "metadata": {},
   "outputs": [
    {
     "data": {
      "text/plain": [
       "\n",
       "\tExact binomial test\n",
       "\n",
       "data:  14 and 150\n",
       "number of successes = 14, number of trials = 150, p-value = 0.0006735\n",
       "alternative hypothesis: true probability of success is not equal to 0.2\n",
       "95 percent confidence interval:\n",
       " 0.05197017 0.15163853\n",
       "sample estimates:\n",
       "probability of success \n",
       "            0.09333333 \n"
      ]
     },
     "metadata": {},
     "output_type": "display_data"
    }
   ],
   "source": [
    "# 기존 20% 불만율을 기준으로 검정 실시\n",
    "binom.test(14,150,p=0.2) "
   ]
  },
  {
   "cell_type": "code",
   "execution_count": 58,
   "id": "076998eb-e75d-42ea-9417-c1f0a4a0ef57",
   "metadata": {},
   "outputs": [
    {
     "data": {
      "text/plain": [
       "\n",
       "\tExact binomial test\n",
       "\n",
       "data:  14 and 150\n",
       "number of successes = 14, number of trials = 150, p-value = 0.0006735\n",
       "alternative hypothesis: true probability of success is not equal to 0.2\n",
       "95 percent confidence interval:\n",
       " 0.05197017 0.15163853\n",
       "sample estimates:\n",
       "probability of success \n",
       "            0.09333333 \n"
      ]
     },
     "metadata": {},
     "output_type": "display_data"
    }
   ],
   "source": [
    "binom.test(14,150,p=0.2,alternative = 'two.sided',conf.level = 0.95 )\n",
    "# alternative = 'two.sided'   : 양측 검정을 수행한다. \n",
    "# conf.level = 0.95        : 신뢰수준을 의미한다."
   ]
  },
  {
   "cell_type": "markdown",
   "id": "3fd4fdf9-197e-4d19-8ca5-d901cc24d3b6",
   "metadata": {},
   "source": [
    "- 불만족 고객 14명을 대상으로 95% 신뢰수준에서 양측 검정을 수행한 결과 검정 통계량 p-value 값은 유의수준 0.05보다 작아 기존 불만율 20%과 차이가 있다고 볼 수 있다. 즉, 기존 2019년도 고객 불만율과 2020년도 CS 교육 후 불만율에 차이가 있다고 볼 수 있다.\n",
    "- 하지만 양측 검정 결과에서는 기존 불만율보다 크다 혹은 작다는 방향성은 제시되지 않는다. 따라서 방향성을 갖는 단측 가설 검정을 통해서 기존 집단과 비교하여 신규 집단의 불만율이 개선되었는지를 확인해야 한다."
   ]
  },
  {
   "cell_type": "markdown",
   "id": "fb9bbbe5-7f4a-4349-908e-2c01ad58f091",
   "metadata": {},
   "source": [
    "- 다음은 방향성을 갖는 단측 가설 검정이다. "
   ]
  },
  {
   "cell_type": "code",
   "execution_count": 62,
   "id": "87adca2e-254b-4552-8539-106dabbb451f",
   "metadata": {},
   "outputs": [
    {
     "data": {
      "text/plain": [
       "\n",
       "\tExact binomial test\n",
       "\n",
       "data:  14 and 150\n",
       "number of successes = 14, number of trials = 150, p-value = 0.9999\n",
       "alternative hypothesis: true probability of success is greater than 0.2\n",
       "95 percent confidence interval:\n",
       " 0.05731076 1.00000000\n",
       "sample estimates:\n",
       "probability of success \n",
       "            0.09333333 \n"
      ]
     },
     "metadata": {},
     "output_type": "display_data"
    }
   ],
   "source": [
    "binom.test(14,150,p=0.2,alternative = 'greater',conf.level = 0.95 ) \n",
    "# conf.level = 0.95        : 신뢰수준을 의미한다."
   ]
  },
  {
   "cell_type": "code",
   "execution_count": 63,
   "id": "1782c509-9e3d-4aae-a461-3fa30693aaf6",
   "metadata": {},
   "outputs": [
    {
     "data": {
      "text/plain": [
       "\n",
       "\tExact binomial test\n",
       "\n",
       "data:  14 and 150\n",
       "number of successes = 14, number of trials = 150, p-value = 0.0003179\n",
       "alternative hypothesis: true probability of success is less than 0.2\n",
       "95 percent confidence interval:\n",
       " 0.0000000 0.1420574\n",
       "sample estimates:\n",
       "probability of success \n",
       "            0.09333333 \n"
      ]
     },
     "metadata": {},
     "output_type": "display_data"
    }
   ],
   "source": [
    "binom.test(14,150,p=0.2,alternative = 'less',conf.level = 0.95 ) \n",
    "# conf.level = 0.95        : 신뢰수준을 의미한다."
   ]
  },
  {
   "cell_type": "markdown",
   "id": "6c79f130-4e72-449a-94c1-93f140fc960f",
   "metadata": {},
   "source": [
    "- alternative = 'greater' : 방향성을 갖는 연구가설을 검정할 경우 이용한다. \n",
    "- 95% 신뢰수준에서 전체 150명 중에서 14명의 불만족 고객이 전체비율의 20%보다 더 큰 비율인가를 검정하기 위한 속성이다.\n",
    "- 만약 greater 대신 less를 입력한다면 20%보다 더 적은 비율인가를 검정하기 위한 속성이다.\n",
    "- 하지만 이땐 2020년도가 더 낮은지를 봐야하기 때문에 alternative=less를 입력해서 유의확률이 유의수준보다 작은지를 큰지를 보자"
   ]
  },
  {
   "cell_type": "markdown",
   "id": "2a1722d1-969c-4002-a245-a72dfabb5779",
   "metadata": {},
   "source": [
    "- 기존 2019년도 고객 불만율에 비해서 2020년도 CS 교육 후 불만율이 더 낮다라는 방향성이 있는 연구가설을 검정한 결과 검정 통계량 p-value 값이 0.05보다 작은 경우의 가설을 채택한다. 따라서 alternative=less 속성을 지정한 단측 가설이 채택된다. \n",
    "- 결과적으로 기존 2019년도 고객 불만율 20%에 비해서 2020년도 CS 교육 후 고객 불만율이 낮아졌다고 할 수 있다. \n",
    "- 따라서 CS 교육이 효과있다고 할 수 있다."
   ]
  },
  {
   "cell_type": "markdown",
   "id": "7439e934-41ec-4b92-a919-9f3ecd1ee4e4",
   "metadata": {},
   "source": [
    "---"
   ]
  },
  {
   "cell_type": "markdown",
   "id": "6d156dc8-cdf5-4b89-b63e-a7a2f0f3e31b",
   "metadata": {},
   "source": [
    "- 단일 집단 검정 中 단일 집단 평균 검정(단일 표본 T-검정)에 대해 알아보자\n",
    "  - 단일 집단의 평균이 어떤 특정한 집단의 평균과 차이가 있는지를 검정하는 것이다. \n",
    "  - 분석할 데이터를 대상으로 전처리 후 평균 차이 검정을 위해서 기술통계량으로 평균을 구한다. 평균 차이 검정은 정규분포 여부를 판정한 후 결과에 따라서 T-검정 또는 웰콕스 검정을 시행한다.\n",
    "    - 만약 정규분포이면, 모수 검정인 T-검정을 수행하지만, 정규분포가 아닌 경우엔 비모수검정인 웰콕스 검정으로 평균 차이 검정을 시행하여 귀무가설의 기각 여부를 결정한다. "
   ]
  },
  {
   "cell_type": "markdown",
   "id": "739a580d-396a-4aeb-8de2-d706bbd289dd",
   "metadata": {},
   "source": [
    "- 귀무가설 : 국내에서 생상된 노트북과 A사에서 생산된 노트북의 평균 사용시간에 차이가 없다.\n",
    "- 대립가설 : 있다. \n",
    "- 연구환경 : 국내에서 생산된 노트북 평균 사용시간이 5.2시간으로 파악된 상황에서, A사에서 생산된 노트북 평균 사용시간과 차이가 있는지를 검정하기 위해서 A사의 노트북 150대를 랜덤으로 선정하여 검정을 시행한다."
   ]
  },
  {
   "cell_type": "markdown",
   "id": "d4dab290-8b2e-4124-81b8-05e50eaa36df",
   "metadata": {},
   "source": [
    "(1) 단일 표본평균 계산\n",
    "- 데이터 전처리 : outlier 처리, 변수에 대한 대표값의 성격을 갖는 평균을 계산한다. "
   ]
  },
  {
   "cell_type": "code",
   "execution_count": 65,
   "id": "2bbaea89-cd2e-458d-90dd-5d5e10c58cf5",
   "metadata": {},
   "outputs": [
    {
     "data": {
      "text/html": [
       "<table class=\"dataframe\">\n",
       "<caption>A data.frame: 3 × 4</caption>\n",
       "<thead>\n",
       "\t<tr><th></th><th scope=col>no</th><th scope=col>gender</th><th scope=col>survey</th><th scope=col>time</th></tr>\n",
       "\t<tr><th></th><th scope=col>&lt;int&gt;</th><th scope=col>&lt;int&gt;</th><th scope=col>&lt;int&gt;</th><th scope=col>&lt;dbl&gt;</th></tr>\n",
       "</thead>\n",
       "<tbody>\n",
       "\t<tr><th scope=row>1</th><td>1</td><td>2</td><td>1</td><td>5.1</td></tr>\n",
       "\t<tr><th scope=row>2</th><td>2</td><td>2</td><td>0</td><td>5.2</td></tr>\n",
       "\t<tr><th scope=row>3</th><td>3</td><td>2</td><td>1</td><td>4.7</td></tr>\n",
       "</tbody>\n",
       "</table>\n"
      ],
      "text/latex": [
       "A data.frame: 3 × 4\n",
       "\\begin{tabular}{r|llll}\n",
       "  & no & gender & survey & time\\\\\n",
       "  & <int> & <int> & <int> & <dbl>\\\\\n",
       "\\hline\n",
       "\t1 & 1 & 2 & 1 & 5.1\\\\\n",
       "\t2 & 2 & 2 & 0 & 5.2\\\\\n",
       "\t3 & 3 & 2 & 1 & 4.7\\\\\n",
       "\\end{tabular}\n"
      ],
      "text/markdown": [
       "\n",
       "A data.frame: 3 × 4\n",
       "\n",
       "| <!--/--> | no &lt;int&gt; | gender &lt;int&gt; | survey &lt;int&gt; | time &lt;dbl&gt; |\n",
       "|---|---|---|---|---|\n",
       "| 1 | 1 | 2 | 1 | 5.1 |\n",
       "| 2 | 2 | 2 | 0 | 5.2 |\n",
       "| 3 | 3 | 2 | 1 | 4.7 |\n",
       "\n"
      ],
      "text/plain": [
       "  no gender survey time\n",
       "1 1  2      1      5.1 \n",
       "2 2  2      0      5.2 \n",
       "3 3  2      1      4.7 "
      ]
     },
     "metadata": {},
     "output_type": "display_data"
    }
   ],
   "source": [
    "data= read.csv('one_sample.csv',header=T)\n",
    "head(data,3)"
   ]
  },
  {
   "cell_type": "code",
   "execution_count": 66,
   "id": "b3643ed2-5965-464e-bba3-5d0a89760de1",
   "metadata": {},
   "outputs": [
    {
     "data": {
      "text/html": [
       "<style>\n",
       ".list-inline {list-style: none; margin:0; padding: 0}\n",
       ".list-inline>li {display: inline-block}\n",
       ".list-inline>li:not(:last-child)::after {content: \"\\00b7\"; padding: 0 .5ex}\n",
       "</style>\n",
       "<ol class=list-inline><li>5.1</li><li>5.2</li><li>4.7</li></ol>\n"
      ],
      "text/latex": [
       "\\begin{enumerate*}\n",
       "\\item 5.1\n",
       "\\item 5.2\n",
       "\\item 4.7\n",
       "\\end{enumerate*}\n"
      ],
      "text/markdown": [
       "1. 5.1\n",
       "2. 5.2\n",
       "3. 4.7\n",
       "\n",
       "\n"
      ],
      "text/plain": [
       "[1] 5.1 5.2 4.7"
      ]
     },
     "metadata": {},
     "output_type": "display_data"
    }
   ],
   "source": [
    "x = data$time\n",
    "head(x,3)"
   ]
  },
  {
   "cell_type": "code",
   "execution_count": 68,
   "id": "3b9320da-199a-4e48-8bb5-01bac1373c10",
   "metadata": {},
   "outputs": [
    {
     "data": {
      "text/plain": [
       "   Min. 1st Qu.  Median    Mean 3rd Qu.    Max.    NA's \n",
       "  3.000   5.000   5.500   5.557   6.200   7.900      41 "
      ]
     },
     "metadata": {},
     "output_type": "display_data"
    }
   ],
   "source": [
    "# 데이터 분포에 대해 알아보고 결측치 있다면 제거하자\n",
    "summary(x)"
   ]
  },
  {
   "cell_type": "code",
   "execution_count": 69,
   "id": "a2c7f592-da4f-41a0-a01f-856feff6d305",
   "metadata": {},
   "outputs": [
    {
     "data": {
      "text/html": [
       "5.55688073394495"
      ],
      "text/latex": [
       "5.55688073394495"
      ],
      "text/markdown": [
       "5.55688073394495"
      ],
      "text/plain": [
       "[1] 5.556881"
      ]
     },
     "metadata": {},
     "output_type": "display_data"
    }
   ],
   "source": [
    "mean(x,na.rm=T)"
   ]
  },
  {
   "cell_type": "code",
   "execution_count": 70,
   "id": "3a821590-d164-4ce4-b793-17da5a75877f",
   "metadata": {},
   "outputs": [
    {
     "data": {
      "text/html": [
       "5.55688073394495"
      ],
      "text/latex": [
       "5.55688073394495"
      ],
      "text/markdown": [
       "5.55688073394495"
      ],
      "text/plain": [
       "[1] 5.556881"
      ]
     },
     "metadata": {},
     "output_type": "display_data"
    }
   ],
   "source": [
    "# 또는 이 방법을 써도 된다\n",
    "x_ = na.omit(x)\n",
    "mean(x_)"
   ]
  },
  {
   "cell_type": "markdown",
   "id": "4e249bf2-94de-48fa-91c3-83c10c07b7fc",
   "metadata": {},
   "source": [
    "- 이렇게 단일 집단 평균 차이 검정을 수행하기 전에 단일 집단을 대상으로 평균에 관한 통계량을 계산한다."
   ]
  },
  {
   "cell_type": "markdown",
   "id": "6c62ac54-ecda-4cac-9429-fa24740ef402",
   "metadata": {},
   "source": [
    "- 정규분포 검정\n",
    "  - 단일 표본평균 차이 검정을 수행하기 전에 데이터의분포 형태가 정규분포 인지를 먼저 검정해야 한다.\n",
    "  - 귀무가설 : x의 데이터 분포는 정규분포이다."
   ]
  },
  {
   "cell_type": "code",
   "execution_count": 74,
   "id": "a55c68b8-fd82-4782-b744-e43ee92fa889",
   "metadata": {},
   "outputs": [
    {
     "data": {
      "text/plain": [
       "\n",
       "\tShapiro-Wilk normality test\n",
       "\n",
       "data:  x_\n",
       "W = 0.99137, p-value = 0.7242\n"
      ]
     },
     "metadata": {},
     "output_type": "display_data"
    }
   ],
   "source": [
    "shapiro.test(x_)"
   ]
  },
  {
   "cell_type": "markdown",
   "id": "7a1c8f76-bd05-4109-8fea-b4e86054a424",
   "metadata": {},
   "source": [
    "- 검정 결과 유의수준보다 크기때문에 귀무가설을 기각하지 않는다.\n",
    "- 즉 해당 데이터의 분포는 정규분포이다.\n",
    "- 따라서 모수 검정인 T-검정으로 평균 차이 검정을 수행한다."
   ]
  },
  {
   "cell_type": "code",
   "execution_count": 75,
   "id": "7a50c3b9-3947-4439-b5e4-5356dbb0d460",
   "metadata": {},
   "outputs": [
    {
     "data": {
      "image/png": "[encoded data removed]",
      "text/plain": [
       "Plot with title \"Normal Q-Q Plot\""
      ]
     },
     "metadata": {
      "image/png": {
       "height": 420,
       "width": 420
      }
     },
     "output_type": "display_data"
    }
   ],
   "source": [
    "# 정규분포 시각화\n",
    "par(mfrow=c(1,2)) #행,열\n",
    "hist(x_)\n",
    "qqnorm(x_)\n",
    "qqline(x_,lty=1,col='blue')"
   ]
  },
  {
   "cell_type": "markdown",
   "id": "4682ae3e-ad5d-44e3-ac1d-ebcfa5a58135",
   "metadata": {},
   "source": [
    "- 모집단에서 추출한 표본 데이터의 분포 형태가 정규분포 형태를 가지기 때문에 T-검정을 통해 평균차이 검정을 수행해보자"
   ]
  },
  {
   "cell_type": "code",
   "execution_count": 78,
   "id": "ced9368c-879a-43a1-992a-931a1c1b8b13",
   "metadata": {},
   "outputs": [
    {
     "data": {
      "text/plain": [
       "\n",
       "\tOne Sample t-test\n",
       "\n",
       "data:  x_\n",
       "t = 3.9461, df = 108, p-value = 0.0001417\n",
       "alternative hypothesis: true mean is not equal to 5.2\n",
       "95 percent confidence interval:\n",
       " 5.377613 5.736148\n",
       "sample estimates:\n",
       "mean of x \n",
       " 5.556881 \n"
      ]
     },
     "metadata": {},
     "output_type": "display_data"
    }
   ],
   "source": [
    "# 단일 표본평균 차이 검정\n",
    "# 양측 검정, x_객체와 기존 모집단의 평균 5.2시간 비교\n",
    "t.test(x_,mu=5.2)"
   ]
  },
  {
   "cell_type": "code",
   "execution_count": 79,
   "id": "26bf6942-6e18-4a2a-8c3d-de8b9b3775c1",
   "metadata": {},
   "outputs": [
    {
     "data": {
      "text/plain": [
       "\n",
       "\tOne Sample t-test\n",
       "\n",
       "data:  x_\n",
       "t = 3.9461, df = 108, p-value = 0.0001417\n",
       "alternative hypothesis: true mean is not equal to 5.2\n",
       "95 percent confidence interval:\n",
       " 5.377613 5.736148\n",
       "sample estimates:\n",
       "mean of x \n",
       " 5.556881 \n"
      ]
     },
     "metadata": {},
     "output_type": "display_data"
    }
   ],
   "source": [
    "t.test(x_,mu=5.2,alter='two.side',conf.level=0.95)"
   ]
  },
  {
   "cell_type": "markdown",
   "id": "b323f50c-b7a5-4108-be61-382d31151f56",
   "metadata": {},
   "source": [
    "- ~위 둘다 양측검정인 것으로 보임....~\n",
    "- 유의확률은 유의수준보다 작기 때문에, 국내에서 생산된 노트북과 A사에서 생산된 노트북의 평균 사용시간에 차이가 있다고 볼 수 있다. "
   ]
  },
  {
   "cell_type": "code",
   "execution_count": 80,
   "id": "c7d3e331-75da-460a-b52f-1a5f5661c8c5",
   "metadata": {},
   "outputs": [
    {
     "data": {
      "text/plain": [
       "\n",
       "\tOne Sample t-test\n",
       "\n",
       "data:  x_\n",
       "t = 3.9461, df = 108, p-value = 7.083e-05\n",
       "alternative hypothesis: true mean is greater than 5.2\n",
       "95 percent confidence interval:\n",
       " 5.406833      Inf\n",
       "sample estimates:\n",
       "mean of x \n",
       " 5.556881 \n"
      ]
     },
     "metadata": {},
     "output_type": "display_data"
    }
   ],
   "source": [
    "# 방향성을 갖는 단측 가설 검정\n",
    "t.test(x_,mu=5.2,alter='greater',conf.level = .95)"
   ]
  },
  {
   "cell_type": "markdown",
   "id": "c239cfa4-0562-4f79-960f-163f7da82210",
   "metadata": {},
   "source": [
    "- A사에서 생산된 노트북의 평균 사용시간이 더 길다는 방향성을 갖는 연구가설을 검정한 결과 p-value 값은 유의수준보다 매우 작기 때문에(차이가 없다라는 귀무가설을 기각하고) A사에서 생산된 노트북의 평균 사용시간이 국내에서 생산된 노브툭 평균 사용시간보다 길다고 할 수 있다."
   ]
  },
  {
   "cell_type": "code",
   "execution_count": 81,
   "id": "df77373e-da51-45df-865f-130ae8646a03",
   "metadata": {},
   "outputs": [
    {
     "data": {
      "text/html": [
       "-3.94607295510053"
      ],
      "text/latex": [
       "-3.94607295510053"
      ],
      "text/markdown": [
       "-3.94607295510053"
      ],
      "text/plain": [
       "[1] -3.946073"
      ]
     },
     "metadata": {},
     "output_type": "display_data"
    }
   ],
   "source": [
    "# qt() 함수를 이용하면 귀무가설의 임계값을 확인할 수 있다. \n",
    "qt(7.083e-05, 108) # p-value,df"
   ]
  },
  {
   "cell_type": "markdown",
   "id": "297af85a-1736-43ff-9c0a-4d470fc303b4",
   "metadata": {},
   "source": [
    "- T-검정 통계량이 3.946 이상이면 귀무가설을 기각할 수 있다."
   ]
  }
 ],
 "metadata": {
  "kernelspec": {
   "display_name": "R",
   "language": "R",
   "name": "ir"
  },
  "language_info": {
   "codemirror_mode": "r",
   "file_extension": ".r",
   "mimetype": "text/x-r-source",
   "name": "R",
   "pygments_lexer": "r",
   "version": "4.0.5"
  }
 },
 "nbformat": 4,
 "nbformat_minor": 5
}
